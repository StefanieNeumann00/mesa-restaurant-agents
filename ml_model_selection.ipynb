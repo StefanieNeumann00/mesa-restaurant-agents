{
 "cells": [
  {
   "cell_type": "markdown",
   "metadata": {},
   "source": [
    "# Training Datasets Generation"
   ]
  },
  {
   "cell_type": "code",
   "execution_count": 5,
   "metadata": {},
   "outputs": [],
   "source": [
    "import pandas as pd\n",
    "import numpy as np\n",
    "import random\n",
    "\n",
    "# Define shifts\n",
    "shifts = [1, 2, 3]\n",
    "\n",
    "# Generate multiple sets of training data\n",
    "data_list = []\n",
    "\n",
    "for i in range(1000):  # Generate 1000 different datasets\n",
    "    data = {\n",
    "        \"Shift\": [],\n",
    "        \"Customers\": []\n",
    "    }\n",
    "    \n",
    "\n",
    "    for shift in shifts:\n",
    "            data[\"Shift\"].append(shift)\n",
    "            \n",
    "            # Ensure the higher value\n",
    "            if ( shift == 2):\n",
    "                customers = random.randint(50, 70)\n",
    "            elif (shift == 1):\n",
    "                customers = random.randint(40, 55)\n",
    "            else:\n",
    "                customers = random.randint(20, 40)\n",
    "                \n",
    "            data[\"Customers\"].append(customers)\n",
    "    \n",
    "    data_list.append(pd.DataFrame(data))\n",
    "\n",
    "# Generate keys where every 3 rows get the same key\n",
    "keys = range(1, len(data_list) + 1)  # 1, 2, 3,... based on the number of dataframes\n",
    "\n",
    "# Concatenate with keys\n",
    "#final_df = pd.concat(data_list, keys=keys, names=[\"Group\"])\n",
    "\n",
    "#Save to CSV file\n",
    "#csv_customer_prediction = \"training_data_customers.csv\"\n",
    "#final_df.to_csv(csv_customer_prediction)\n",
    "\n",
    "#Import Training Data\n",
    "df = pd.read_csv(\"training_data_customers.csv\")\n",
    "final_df = df.drop(columns=\"Unnamed: 1\")"
   ]
  },
  {
   "cell_type": "markdown",
   "metadata": {},
   "source": [
    "# Machine Learning Model Creation"
   ]
  },
  {
   "cell_type": "code",
   "execution_count": 6,
   "metadata": {},
   "outputs": [],
   "source": [
    "import matplotlib.pyplot as plt\n",
    "from sklearn.model_selection import train_test_split, cross_val_score, GridSearchCV\n",
    "from sklearn.metrics import mean_absolute_error, mean_squared_error, r2_score\n",
    "from sklearn.linear_model import LinearRegression\n",
    "from sklearn.ensemble import RandomForestRegressor\n",
    "from xgboost import XGBRegressor\n",
    "from sklearn.preprocessing import StandardScaler"
   ]
  },
  {
   "cell_type": "code",
   "execution_count": 7,
   "metadata": {},
   "outputs": [],
   "source": [
    "# Prepare features (X) and target variable (y)\n",
    "X = final_df[[\"Shift\"]]\n",
    "y = final_df[\"Customers\"]\n",
    "\n",
    "# Split data into training (70%), validation (15%), and testing (15%)\n",
    "X_train, X_temp, y_train, y_temp = train_test_split(X, y, test_size=0.3, random_state=42)\n",
    "X_val, X_test, y_val, y_test = train_test_split(X_temp, y_temp, test_size=0.5, random_state=42)"
   ]
  },
  {
   "cell_type": "code",
   "execution_count": 9,
   "metadata": {},
   "outputs": [
    {
     "name": "stdout",
     "output_type": "stream",
     "text": [
      "Best Linear Regression Parameters: {'fit_intercept': True}\n",
      "Best Random Forest Parameters: {'max_depth': None, 'min_samples_leaf': 1, 'min_samples_split': 2, 'n_estimators': 50}\n",
      "Best XGBoost Parameters: {'colsample_bytree': 0.8, 'learning_rate': 0.2, 'max_depth': 3, 'n_estimators': 200, 'subsample': 0.8}\n"
     ]
    }
   ],
   "source": [
    "## Hyperparameter Tuning and Choose the best parameter\n",
    "\n",
    "# **Feature Scaling for Linear Regression**\n",
    "scaler = StandardScaler()\n",
    "X_train_scaled = scaler.fit_transform(X_train)\n",
    "X_val_scaled = scaler.transform(X_val)\n",
    "\n",
    "# **1. Hyperparameter Tuning for Linear Regression**\n",
    "linear_param_grid = {\"fit_intercept\": [True, False]}\n",
    "\n",
    "lin_reg = LinearRegression()\n",
    "lin_grid = GridSearchCV(lin_reg, linear_param_grid, cv=5, scoring=\"r2\", n_jobs=-1)\n",
    "lin_grid.fit(X_train_scaled, y_train)\n",
    "\n",
    "best_lin_reg = lin_grid.best_estimator_\n",
    "print(f\"Best Linear Regression Parameters: {lin_grid.best_params_}\")\n",
    "\n",
    "# **2. Hyperparameter Tuning for Random Forest**\n",
    "rf_param_grid = {\n",
    "    \"n_estimators\": [50, 100, 200],\n",
    "    \"max_depth\": [None, 10, 20, 30],\n",
    "    \"min_samples_split\": [2, 5, 10],\n",
    "    \"min_samples_leaf\": [1, 2, 4]\n",
    "}\n",
    "\n",
    "rf_model = RandomForestRegressor(random_state=42)\n",
    "rf_grid = GridSearchCV(rf_model, rf_param_grid, cv=5, scoring=\"r2\", n_jobs=-1)\n",
    "rf_grid.fit(X_train, y_train)\n",
    "\n",
    "best_rf = rf_grid.best_estimator_\n",
    "print(f\"Best Random Forest Parameters: {rf_grid.best_params_}\")\n",
    "\n",
    "# **3. Hyperparameter Tuning for XGBoost**\n",
    "xgb_param_grid = {\n",
    "    \"n_estimators\": [100, 200, 300],\n",
    "    \"learning_rate\": [0.01, 0.1, 0.2],\n",
    "    \"max_depth\": [3, 5, 7],\n",
    "    \"subsample\": [0.8, 1.0],\n",
    "    \"colsample_bytree\": [0.8, 1.0]\n",
    "}\n",
    "\n",
    "xgb_model = XGBRegressor(random_state=42)\n",
    "xgb_grid = GridSearchCV(xgb_model, xgb_param_grid, cv=5, scoring=\"r2\", n_jobs=-1)\n",
    "xgb_grid.fit(X_train, y_train)\n",
    "\n",
    "best_xgb = xgb_grid.best_estimator_\n",
    "print(f\"Best XGBoost Parameters: {xgb_grid.best_params_}\")\n",
    "\n",
    "# **Train Models with Best Hyperparameters**\n",
    "models = {\n",
    "    \"Linear Regression\": best_lin_reg,\n",
    "    \"Random Forest\": best_rf,\n",
    "    \"XGBoost\": best_xgb\n",
    "}"
   ]
  },
  {
   "cell_type": "markdown",
   "metadata": {},
   "source": [
    "## Model Evaluation"
   ]
  },
  {
   "cell_type": "code",
   "execution_count": 11,
   "metadata": {},
   "outputs": [
    {
     "name": "stdout",
     "output_type": "stream",
     "text": [
      "📊 Linear Regression Model Performance:\n",
      "R2 Score: 0.2548\n",
      "MAE: 10.0073\n",
      "MSE: 138.2747\n",
      "Cross-Validation R2: 0.2750\n",
      "------------------------------\n",
      "📊 Random Forest Model Performance:\n",
      "R2 Score: 0.8289\n",
      "MAE: 4.8504\n",
      "MSE: 31.7502\n",
      "Cross-Validation R2: 0.8223\n",
      "------------------------------\n",
      "📊 XGBoost Model Performance:\n",
      "R2 Score: 0.8288\n",
      "MAE: 4.8516\n",
      "MSE: 31.7743\n",
      "Cross-Validation R2: 0.8223\n",
      "------------------------------\n"
     ]
    }
   ],
   "source": [
    "results = {}\n",
    "predictions = {}\n",
    "\n",
    "for name, model in models.items():\n",
    "    model.fit(X_train, y_train)\n",
    "    y_pred = model.predict(X_test)\n",
    "    predictions[name] = y_pred\n",
    "    \n",
    "    results[name] = {\n",
    "        \"R2 Score\": r2_score(y_test, y_pred),\n",
    "        \"MAE\": mean_absolute_error(y_test, y_pred),\n",
    "        \"MSE\": mean_squared_error(y_test, y_pred),\n",
    "        \"Cross-Validation R2\": cross_val_score(model, X_train, y_train, cv=5, scoring=\"r2\").mean()\n",
    "    }\n",
    "\n",
    "# Print model performance\n",
    "for name, metrics in results.items():\n",
    "    print(f\"📊 {name} Model Performance:\")\n",
    "    for metric, value in metrics.items():\n",
    "        print(f\"{metric}: {value:.4f}\")\n",
    "    print(\"-\" * 30)\n"
   ]
  },
  {
   "cell_type": "markdown",
   "metadata": {},
   "source": [
    "### Example of number of customer prediction"
   ]
  },
  {
   "cell_type": "code",
   "execution_count": 12,
   "metadata": {},
   "outputs": [
    {
     "name": "stdout",
     "output_type": "stream",
     "text": [
      "Predicted Customers for a Week (Linear Regression):\n",
      "{'Shift 1': 55, 'Shift 2': 46, 'Shift 3': 38}\n",
      "Predicted Customers for a Week (Random Forest):\n",
      "{'Shift 1': 48, 'Shift 2': 60, 'Shift 3': 30}\n",
      "Predicted Customers for a Week (XGBoost):\n",
      "{'Shift 1': 48, 'Shift 2': 60, 'Shift 3': 30}\n"
     ]
    },
    {
     "name": "stderr",
     "output_type": "stream",
     "text": [
      "C:\\Users\\yuliastu\\Music\\Feni\\Uni\\Master Dokumen\\Intelligent Agent\\mesa-restaurant-agents\\venv\\Lib\\site-packages\\sklearn\\utils\\validation.py:2739: UserWarning: X does not have valid feature names, but LinearRegression was fitted with feature names\n",
      "  warnings.warn(\n",
      "C:\\Users\\yuliastu\\Music\\Feni\\Uni\\Master Dokumen\\Intelligent Agent\\mesa-restaurant-agents\\venv\\Lib\\site-packages\\sklearn\\utils\\validation.py:2739: UserWarning: X does not have valid feature names, but RandomForestRegressor was fitted with feature names\n",
      "  warnings.warn(\n"
     ]
    }
   ],
   "source": [
    "# Generate predictions a for Week\n",
    "week_1_data = np.array([[1], [2], [3]])\n",
    "week_1_predictions = {}\n",
    "\n",
    "for name, model in models.items():\n",
    "    week_1_pred = model.predict(week_1_data)\n",
    "    week_1_predictions[name] = {\n",
    "            \"Shift 1\": round(week_1_pred[0]),\n",
    "            \"Shift 2\": round(week_1_pred[1]),\n",
    "            \"Shift 3\": round(week_1_pred[2])\n",
    "        }\n",
    "\n",
    "# Print predicted customer numbers\n",
    "for name, preds in week_1_predictions.items():\n",
    "    print(f\"Predicted Customers for a Week ({name}):\")\n",
    "    print(preds)"
   ]
  }
 ],
 "metadata": {
  "kernelspec": {
   "display_name": "Python 3 (ipykernel)",
   "language": "python",
   "name": "python3"
  },
  "language_info": {
   "codemirror_mode": {
    "name": "ipython",
    "version": 3
   },
   "file_extension": ".py",
   "mimetype": "text/x-python",
   "name": "python",
   "nbconvert_exporter": "python",
   "pygments_lexer": "ipython3",
   "version": "3.12.3"
  }
 },
 "nbformat": 4,
 "nbformat_minor": 4
}
