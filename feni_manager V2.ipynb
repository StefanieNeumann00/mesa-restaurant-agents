{
 "cells": [
  {
   "cell_type": "markdown",
   "metadata": {},
   "source": [
    "# Machine Learning to predict number of customers"
   ]
  },
  {
   "cell_type": "code",
   "execution_count": 36,
   "metadata": {},
   "outputs": [],
   "source": [
    "import pandas as pd\n",
    "import numpy as np\n",
    "\n",
    "df = pd.read_csv(\"training_data_customers.csv\")\n",
    "final_df = df.drop(columns=\"Unnamed: 1\")"
   ]
  },
  {
   "cell_type": "code",
   "execution_count": 37,
   "metadata": {},
   "outputs": [],
   "source": [
    "from sklearn.ensemble import RandomForestRegressor\n",
    "\n",
    "## Random Forest\n",
    "# Best parameters found\n",
    "best_params = {'max_depth': None, 'min_samples_leaf': 1, 'min_samples_split': 2, 'n_estimators': 50}\n",
    "\n",
    "# Create and train the Random Forest model with the best parameters\n",
    "rf_model = RandomForestRegressor(random_state=42, **best_params)  # **best_params unpacks the dictionary"
   ]
  },
  {
   "cell_type": "code",
   "execution_count": 38,
   "metadata": {},
   "outputs": [],
   "source": [
    "#Update Customer Data\n",
    "def update_customer_data(new_customer_counts):\n",
    "    \"\"\"Updates customer data for shifts 1, 2, and 3 with rounded values.\n",
    "\n",
    "    Args:\n",
    "        new_customer_counts: A NumPy array or a list/tuple that can be converted\n",
    "                             to a NumPy array of customer counts.\n",
    "\n",
    "    Returns:\n",
    "        The updated DataFrame.\n",
    "    \"\"\"\n",
    "\n",
    "    global final_df\n",
    "\n",
    "    new_customer_counts = np.array(new_customer_counts) # Ensure it's a NumPy array\n",
    "    if len(new_customer_counts) != 3:\n",
    "        raise ValueError(\"new_customer_counts must be a list or tuple of length 3.\")\n",
    "\n",
    "\n",
    "    rounded_counts = np.round(new_customer_counts).astype(int) # Round and convert to integers\n",
    "\n",
    "    last_group = final_df['Group'].max()\n",
    "    if pd.isna(last_group):\n",
    "        new_group = 1\n",
    "    else:\n",
    "        new_group = last_group + 1\n",
    "\n",
    "    new_rows = []\n",
    "    for i, customers in enumerate(rounded_counts):\n",
    "        new_rows.append({'Group': new_group, 'Shift': i + 1, 'Customers': customers})\n",
    "\n",
    "    final_df = pd.concat([final_df, pd.DataFrame(new_rows)], ignore_index=True)\n",
    "    return final_df"
   ]
  },
  {
   "cell_type": "code",
   "execution_count": 39,
   "metadata": {},
   "outputs": [],
   "source": [
    "#Retraining the model\n",
    "def retraining(final_df):\n",
    "    \"\"\"Retrains the model with the updated DataFrame.\n",
    "\n",
    "    Args:\n",
    "        final_df: The updated pandas DataFrame.\n",
    "\n",
    "    Returns:\n",
    "        The retrained model (it's generally better to return the model itself).\n",
    "    \"\"\"\n",
    "    X = final_df[['Shift']]\n",
    "    y = final_df['Customers']\n",
    "\n",
    "    rf_model.fit(X, y)  # Retrain the model\n",
    "\n",
    "    return rf_model"
   ]
  },
  {
   "cell_type": "code",
   "execution_count": 43,
   "metadata": {},
   "outputs": [
    {
     "name": "stdout",
     "output_type": "stream",
     "text": [
      "[47.66881115 60.08939703 30.32488925]\n"
     ]
    },
    {
     "name": "stderr",
     "output_type": "stream",
     "text": [
      "C:\\Users\\yuliastu\\Music\\Feni\\Uni\\Master Dokumen\\Intelligent Agent\\mesa-restaurant-agents\\venv\\Lib\\site-packages\\sklearn\\utils\\validation.py:2739: UserWarning: X does not have valid feature names, but RandomForestRegressor was fitted with feature names\n",
      "  warnings.warn(\n"
     ]
    }
   ],
   "source": [
    "# Retrain the model:\n",
    "retrained_model = retraining(final_df)  # Store the retrained model\n",
    "\n",
    "#Now you can use predict then retrained the model:\n",
    "customer_data = np.array([[1], [2], [3]])\n",
    "new_predictions = retrained_model.predict(customer_data)\n",
    "final_df = update_customer_data(new_predictions)\n",
    "# Access all elements\n",
    "all_elements = new_predictions.flatten()\n",
    "print(all_elements)"
   ]
  },
  {
   "cell_type": "code",
   "execution_count": 44,
   "metadata": {},
   "outputs": [
    {
     "name": "stdout",
     "output_type": "stream",
     "text": [
      "[47.66927773 60.08890549 30.32501606]\n"
     ]
    },
    {
     "name": "stderr",
     "output_type": "stream",
     "text": [
      "C:\\Users\\yuliastu\\Music\\Feni\\Uni\\Master Dokumen\\Intelligent Agent\\mesa-restaurant-agents\\venv\\Lib\\site-packages\\sklearn\\utils\\validation.py:2739: UserWarning: X does not have valid feature names, but RandomForestRegressor was fitted with feature names\n",
      "  warnings.warn(\n"
     ]
    }
   ],
   "source": [
    "# Retrain the model:\n",
    "retrained_model = retraining(final_df)  # Store the retrained model\n",
    "\n",
    "#Now you can use predict then retrained the model:\n",
    "customer_data = np.array([[1], [2], [3]])\n",
    "new_predictions = retrained_model.predict(customer_data)\n",
    "final_df = update_customer_data(new_predictions)\n",
    "# Access all elements\n",
    "all_elements = new_predictions.flatten()\n",
    "print(all_elements)"
   ]
  },
  {
   "cell_type": "code",
   "execution_count": 45,
   "metadata": {},
   "outputs": [
    {
     "name": "stdout",
     "output_type": "stream",
     "text": [
      "The number of rows in final_df is: 3012\n"
     ]
    }
   ],
   "source": [
    "num_rows = final_df.shape[0]\n",
    "print(f\"The number of rows in final_df is: {num_rows}\")"
   ]
  },
  {
   "cell_type": "code",
   "execution_count": 46,
   "metadata": {},
   "outputs": [
    {
     "name": "stdout",
     "output_type": "stream",
     "text": [
      "The number of rows in final_df is: 3015\n"
     ]
    }
   ],
   "source": [
    "final_df = update_customer_data([50,30,25])\n",
    "num_rows = final_df.shape[0]\n",
    "print(f\"The number of rows in final_df is: {num_rows}\")"
   ]
  },
  {
   "cell_type": "code",
   "execution_count": 47,
   "metadata": {},
   "outputs": [
    {
     "name": "stdout",
     "output_type": "stream",
     "text": [
      "{1: np.float64(47.66927773454449), 2: np.float64(60.08890548583444), 3: np.float64(30.325016060610015)}\n"
     ]
    }
   ],
   "source": [
    "# Customer demands\n",
    "customer_demands = {1: 63, 2: 90, 3: 45}\n",
    "\n",
    "# Create a new dictionary with the same keys as customer_demands and values from new_predictions\n",
    "predicted_demands = {key: new_predictions[i] for i, key in enumerate(customer_demands.keys())}\n",
    "\n",
    "print(predicted_demands)"
   ]
  },
  {
   "cell_type": "code",
   "execution_count": 1,
   "metadata": {},
   "outputs": [
    {
     "name": "stdout",
     "output_type": "stream",
     "text": [
      "3.1.0\n"
     ]
    }
   ],
   "source": [
    "import mesa\n",
    "print(mesa.__version__)"
   ]
  },
  {
   "cell_type": "markdown",
   "metadata": {},
   "source": [
    "# USE LP to Solve Optimization"
   ]
  },
  {
   "cell_type": "code",
   "execution_count": 20,
   "metadata": {},
   "outputs": [],
   "source": [
    "import mesa\n",
    "import random\n",
    "import pyoptinterface as poi\n",
    "from pyoptinterface import highs"
   ]
  },
  {
   "cell_type": "markdown",
   "metadata": {},
   "source": [
    "## Constraints and Goal\n",
    "- Full-time waiters can work at most 2 shifts per day, without the requirement for continuous shifts.\n",
    "- Part-time waiters can work at most 1 shift per day.\n",
    "- The total capacity in each shift meets or exceeds customer demands.\n",
    "- Each shift has at least 2 waiters.\n",
    "- Only specific waiters can work in each shift based on the waiters_per_shift list.\n",
    "- Group A und Group B has Relationship\n",
    "\n",
    "Objective minimize number of waiters. Only allocate what i needed based on constraints"
   ]
  },
  {
   "cell_type": "markdown",
   "metadata": {},
   "source": [
    "## Handle No enough Staff Problem in higher demand\n",
    "When the demand is high and there aren't enough waiters to meet all the constraints:\n",
    "\n",
    "1. Relax Constraints\n",
    "Adjust Shift Requirements: Allow part-time waiters to work more than one shift per day or allow full-time waiters to work more than two shifts.\n",
    "\n",
    "\n",
    "2. Prioritize Constraints (Hate Group and special request for specific Shifts will be relaxed)\n",
    "Relax Less Critical Constraints: Identify which constraints are less critical and relax them to find a feasible solution.\n",
    "Prioritize Critical Shifts: Ensure that the most critical shifts are fully staffed, even if it means understaffing less critical shifts."
   ]
  },
  {
   "cell_type": "code",
   "execution_count": 48,
   "metadata": {},
   "outputs": [
    {
     "name": "stdout",
     "output_type": "stream",
     "text": [
      "Initial attempt termination status: TerminationStatusCode.OPTIMAL\n",
      "Shift 1: Ana, Bob, Alice\n",
      "Shift 2: Ana, Bob, Bill, Jon\n",
      "Shift 3: Laura, Adi\n",
      "The solution was found using original constraints.\n"
     ]
    }
   ],
   "source": [
    "#VARIABLE\n",
    "\n",
    "#Waiter Type\n",
    "waiter_types = [\"Fulltime\", \"Parttime\"]\n",
    "waite_total = {\"Fulltime\": 5, \"Parttime\": 4}\n",
    "\n",
    "# Waiter Name\n",
    "waiter_name = {\n",
    "    \"Fulltime\": [\"Ana\", \"Bob\", \"Alice\", \"Putri\", \"Lala\"],\n",
    "    \"Parttime\": [\"Laura\", \"Bill\", \"Adi\", \"Jon\"]\n",
    "}\n",
    "\n",
    "shifts = [1, 2, 3]\n",
    "customer_demands = predicted_demands\n",
    "capacity_waiter = 20\n",
    "\n",
    "# Initialize the model and decision variables\n",
    "model = highs.Model()\n",
    "\n",
    "# Define variables for each waiter in each shift\n",
    "waiter_vars = {}\n",
    "for waiter_type in waiter_types:\n",
    "    for waiter in waiter_name[waiter_type]:\n",
    "        for shift in shifts:\n",
    "            var_name = f\"{waiter}_{shift}\"\n",
    "            waiter_vars[var_name] = model.add_variable(lb=0, ub=1, domain=poi.VariableDomain.Integer, name=var_name)\n",
    "\n",
    "# List of waiters that can work in each shift\n",
    "waiters_per_shift = {\n",
    "    1: [\"Ana\", \"Bob\", \"Alice\"],\n",
    "    2: [\"Ana\", \"Bob\", \"Laura\", \"Bill\", \"Adi\", \"Jon\"],\n",
    "    3: [\"Alice\", \"Putri\", \"Lala\", \"Laura\", \"Bill\", \"Adi\", \"Jon\"]\n",
    "}\n",
    "\n",
    "# Define Group of people who prefer not working with people in another group \n",
    "group_A = [\"Ana\", \"Bob\", \"Alice\"]\n",
    "group_B = [\"Putri\", \"Lala\", \"Laura\"]\n",
    "\n",
    "def solve_scheduling_problem(waiter_vars, relax_constraints=False):\n",
    "    model = highs.Model()  # Create a new instance of the model\n",
    "\n",
    "    # Re-define variables for each waiter in each shift\n",
    "    for waiter_type in waiter_types:\n",
    "        for waiter in waiter_name[waiter_type]:\n",
    "            for shift in shifts:\n",
    "                var_name = f\"{waiter}_{shift}\"\n",
    "                waiter_vars[var_name] = model.add_variable(lb=0, ub=1, domain=poi.VariableDomain.Integer, name=var_name)\n",
    "\n",
    "    # Constraint 1: Each full-time waiter can work at most 2 shifts per day\n",
    "    for waiter in waiter_name[\"Fulltime\"]:\n",
    "        model.add_linear_constraint(\n",
    "            poi.quicksum(waiter_vars[f\"{waiter}_{shift}\"] for shift in shifts),\n",
    "            poi.Leq,\n",
    "            2 if not relax_constraints else 3,  # Relax constraint if needed\n",
    "            name=f\"{waiter}_fulltime_max_two_shifts\"\n",
    "        )\n",
    "\n",
    "    # Constraint 2: Each part-time waiter can work at most 1 shift per day\n",
    "    for waiter in waiter_name[\"Parttime\"]:\n",
    "        model.add_linear_constraint(\n",
    "            poi.quicksum(waiter_vars[f\"{waiter}_{shift}\"] for shift in shifts),\n",
    "            poi.Leq,\n",
    "            1 if not relax_constraints else 2,  # Relax constraint if needed\n",
    "            name=f\"{waiter}_parttime_max_one_shift\"\n",
    "        )\n",
    "\n",
    "    # Constraint 3: The total capacity in each shift must meet or exceed customer demands\n",
    "    for shift in shifts:\n",
    "        model.add_linear_constraint(\n",
    "            poi.quicksum(waiter_vars[f\"{waiter}_{shift}\"] * capacity_waiter for waiter_type in waiter_types for waiter in waiter_name[waiter_type]),\n",
    "            poi.Geq,\n",
    "            customer_demands[shift],\n",
    "            name=f\"shift_{shift}_demand\"\n",
    "        )\n",
    "\n",
    "    # Constraint 4: Each shift must have at least 2 waiters\n",
    "    for shift in shifts:\n",
    "        model.add_linear_constraint(\n",
    "            poi.quicksum(waiter_vars[f\"{waiter}_{shift}\"] for waiter_type in waiter_types for waiter in waiter_name[waiter_type]),\n",
    "            poi.Geq,\n",
    "            2,\n",
    "            name=f\"shift_{shift}_min_two_waiters\"\n",
    "        )\n",
    "\n",
    "    # Constraint 5: Only specific waiters can work in each shift\n",
    "    if not relax_constraints:  # Relax Constraint 2, less critical prioritization\n",
    "        for shift in shifts:\n",
    "            for waiter_type in waiter_types:\n",
    "                for waiter in waiter_name[waiter_type]:\n",
    "                    if waiter not in waiters_per_shift[shift]:\n",
    "                        model.add_linear_constraint(\n",
    "                            waiter_vars[f\"{waiter}_{shift}\"],\n",
    "                            poi.Eq,\n",
    "                            0,\n",
    "                            name=f\"{waiter}_not_in_shift_{shift}\"\n",
    "                        )\n",
    "\n",
    "    # Constraint 6: People in Group A and Group B cannot work together in the same shift\n",
    "    if not relax_constraints:  # Relax Constraint 2, less critical prioritization\n",
    "        for shift in shifts:\n",
    "            for waiter_A in group_A:\n",
    "                for waiter_B in group_B:\n",
    "                    model.add_linear_constraint(\n",
    "                        waiter_vars[f\"{waiter_A}_{shift}\"] + waiter_vars[f\"{waiter_B}_{shift}\"],\n",
    "                        poi.Leq,\n",
    "                        1,\n",
    "                        name=f\"group_A_B_not_together_shift_{shift}\"\n",
    "                    )\n",
    "\n",
    "    # Objective: Minimize the total number of waiters assigned\n",
    "    model.set_objective(\n",
    "        poi.quicksum(waiter_vars[var] for var in waiter_vars),\n",
    "        poi.ObjectiveSense.Minimize\n",
    "    )\n",
    "\n",
    "    model.set_model_attribute(poi.ModelAttribute.Silent, False)\n",
    "    model.optimize()\n",
    "\n",
    "    return model\n",
    "\n",
    "\n",
    "# First attempt with original constraints\n",
    "model = solve_scheduling_problem(waiter_vars, relax_constraints=False)\n",
    "\n",
    "# TerminationStatusCode.OPTIMAL\n",
    "termination_status = model.get_model_attribute(poi.ModelAttribute.TerminationStatus)\n",
    "print(f\"Initial attempt termination status: {termination_status}\")\n",
    "# Variable to track if relaxed constraints were used\n",
    "used_relaxed_constraints = False\n",
    "\n",
    "# Check if a solution is found\n",
    "if termination_status != poi.TerminationStatusCode.OPTIMAL:\n",
    "    print(\"No optimal solution found, trying with relaxed constraints...\")\n",
    "    # If no solution found, relax constraints and try again\n",
    "    model = solve_scheduling_problem(waiter_vars, relax_constraints=True)\n",
    "    termination_status = model.get_model_attribute(poi.ModelAttribute.TerminationStatus)\n",
    "    used_relaxed_constraints = True\n",
    "\n",
    "# Print the schedule if a solution is found\n",
    "if termination_status == poi.TerminationStatusCode.OPTIMAL:\n",
    "    schedule = {shift: [] for shift in shifts}\n",
    "    for var in waiter_vars:\n",
    "        if model.get_value(waiter_vars[var]) > 0.5:  # If the waiter is assigned to the shift\n",
    "            waiter, shift = var.rsplit('_', 1)\n",
    "            schedule[int(shift)].append(waiter)\n",
    "\n",
    "    for shift in shifts:\n",
    "        print(f\"Shift {shift}: {', '.join(schedule[shift])}\")\n",
    "    \n",
    "    if used_relaxed_constraints:\n",
    "        print(\"The solution was found using relaxed constraints.\")\n",
    "    else:\n",
    "        print(\"The solution was found using original constraints.\")\n",
    "else:\n",
    "    print(\"No feasible solution found, even with relaxed constraints.\")"
   ]
  },
  {
   "cell_type": "code",
   "execution_count": null,
   "metadata": {},
   "outputs": [],
   "source": []
  }
 ],
 "metadata": {
  "kernelspec": {
   "display_name": "Python 3 (ipykernel)",
   "language": "python",
   "name": "python3"
  },
  "language_info": {
   "codemirror_mode": {
    "name": "ipython",
    "version": 3
   },
   "file_extension": ".py",
   "mimetype": "text/x-python",
   "name": "python",
   "nbconvert_exporter": "python",
   "pygments_lexer": "ipython3",
   "version": "3.12.3"
  }
 },
 "nbformat": 4,
 "nbformat_minor": 4
}
