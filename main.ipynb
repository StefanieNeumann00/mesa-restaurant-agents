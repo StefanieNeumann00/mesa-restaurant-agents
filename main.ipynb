{
 "cells": [
  {
   "cell_type": "code",
   "execution_count": 1,
   "metadata": {},
   "outputs": [],
   "source": [
    "#!pip uninstall pyoptinterface\n",
    "#!pip install pyoptinterface[highs]\n",
    "#!pip install --force-reinstall numpy==1.26.4"
   ]
  },
  {
   "cell_type": "code",
   "execution_count": 2,
   "metadata": {
    "ExecuteTime": {
     "end_time": "2025-02-22T14:53:37.474011Z",
     "start_time": "2025-02-22T14:53:16.814869Z"
    }
   },
   "outputs": [
    {
     "name": "stdout",
     "output_type": "stream",
     "text": [
      "Processing c:\\users\\s.neumann\\documents\\11_master_cas\\code\\mesa-restaurant-agents\\agent_system\\dist\\mesa_restaurant_agents-0.0.1-py3-none-any.whlNote: you may need to restart the kernel to use updated packages.\n"
     ]
    },
    {
     "name": "stderr",
     "output_type": "stream",
     "text": [
      "WARNING: Ignoring invalid distribution ~ (c:\\Users\\s.neumann\\AppData\\Local\\Programs\\Python\\Python312\\Lib\\site-packages)\n",
      "WARNING: Ignoring invalid distribution ~-tplotlib (c:\\Users\\s.neumann\\AppData\\Local\\Programs\\Python\\Python312\\Lib\\site-packages)\n",
      "WARNING: Ignoring invalid distribution ~atplotlib (c:\\Users\\s.neumann\\AppData\\Local\\Programs\\Python\\Python312\\Lib\\site-packages)\n",
      "WARNING: Ignoring invalid distribution ~cipy (c:\\Users\\s.neumann\\AppData\\Local\\Programs\\Python\\Python312\\Lib\\site-packages)\n",
      "WARNING: Ignoring invalid distribution ~hreadpoolctl (c:\\Users\\s.neumann\\AppData\\Local\\Programs\\Python\\Python312\\Lib\\site-packages)\n",
      "WARNING: Ignoring invalid distribution ~lotly (c:\\Users\\s.neumann\\AppData\\Local\\Programs\\Python\\Python312\\Lib\\site-packages)\n",
      "WARNING: Ignoring invalid distribution ~zdata (c:\\Users\\s.neumann\\AppData\\Local\\Programs\\Python\\Python312\\Lib\\site-packages)\n",
      "WARNING: Ignoring invalid distribution ~~tplotlib (c:\\Users\\s.neumann\\AppData\\Local\\Programs\\Python\\Python312\\Lib\\site-packages)\n",
      "WARNING: Ignoring invalid distribution ~ (c:\\Users\\s.neumann\\AppData\\Local\\Programs\\Python\\Python312\\Lib\\site-packages)\n",
      "WARNING: Ignoring invalid distribution ~-tplotlib (c:\\Users\\s.neumann\\AppData\\Local\\Programs\\Python\\Python312\\Lib\\site-packages)\n",
      "WARNING: Ignoring invalid distribution ~atplotlib (c:\\Users\\s.neumann\\AppData\\Local\\Programs\\Python\\Python312\\Lib\\site-packages)\n",
      "WARNING: Ignoring invalid distribution ~cipy (c:\\Users\\s.neumann\\AppData\\Local\\Programs\\Python\\Python312\\Lib\\site-packages)\n",
      "WARNING: Ignoring invalid distribution ~hreadpoolctl (c:\\Users\\s.neumann\\AppData\\Local\\Programs\\Python\\Python312\\Lib\\site-packages)\n",
      "WARNING: Ignoring invalid distribution ~lotly (c:\\Users\\s.neumann\\AppData\\Local\\Programs\\Python\\Python312\\Lib\\site-packages)\n",
      "WARNING: Ignoring invalid distribution ~zdata (c:\\Users\\s.neumann\\AppData\\Local\\Programs\\Python\\Python312\\Lib\\site-packages)\n",
      "WARNING: Ignoring invalid distribution ~~tplotlib (c:\\Users\\s.neumann\\AppData\\Local\\Programs\\Python\\Python312\\Lib\\site-packages)\n",
      "WARNING: Ignoring invalid distribution ~ (c:\\Users\\s.neumann\\AppData\\Local\\Programs\\Python\\Python312\\Lib\\site-packages)\n",
      "WARNING: Ignoring invalid distribution ~-tplotlib (c:\\Users\\s.neumann\\AppData\\Local\\Programs\\Python\\Python312\\Lib\\site-packages)\n",
      "WARNING: Ignoring invalid distribution ~atplotlib (c:\\Users\\s.neumann\\AppData\\Local\\Programs\\Python\\Python312\\Lib\\site-packages)\n",
      "WARNING: Ignoring invalid distribution ~cipy (c:\\Users\\s.neumann\\AppData\\Local\\Programs\\Python\\Python312\\Lib\\site-packages)\n",
      "WARNING: Ignoring invalid distribution ~hreadpoolctl (c:\\Users\\s.neumann\\AppData\\Local\\Programs\\Python\\Python312\\Lib\\site-packages)\n",
      "WARNING: Ignoring invalid distribution ~lotly (c:\\Users\\s.neumann\\AppData\\Local\\Programs\\Python\\Python312\\Lib\\site-packages)\n",
      "WARNING: Ignoring invalid distribution ~zdata (c:\\Users\\s.neumann\\AppData\\Local\\Programs\\Python\\Python312\\Lib\\site-packages)\n",
      "WARNING: Ignoring invalid distribution ~~tplotlib (c:\\Users\\s.neumann\\AppData\\Local\\Programs\\Python\\Python312\\Lib\\site-packages)\n",
      "ERROR: pip's dependency resolver does not currently take into account all the packages that are installed. This behaviour is the source of the following dependency conflicts.\n",
      "tensorflow 2.19.0 requires numpy<2.2.0,>=1.26.0, but you have numpy 2.2.2 which is incompatible.\n"
     ]
    },
    {
     "name": "stdout",
     "output_type": "stream",
     "text": [
      "\n",
      "Collecting mesa==3.1.0 (from mesa-restaurant-agents==0.0.1)\n",
      "  Using cached mesa-3.1.0-py3-none-any.whl.metadata (9.9 kB)\n",
      "Collecting pandas==2.2.3 (from mesa-restaurant-agents==0.0.1)\n",
      "  Using cached pandas-2.2.3-cp312-cp312-win_amd64.whl.metadata (19 kB)\n",
      "Collecting numpy==2.2.2 (from mesa-restaurant-agents==0.0.1)\n",
      "  Using cached numpy-2.2.2-cp312-cp312-win_amd64.whl.metadata (60 kB)\n",
      "Collecting scikit-learn==1.6.1 (from mesa-restaurant-agents==0.0.1)\n",
      "  Using cached scikit_learn-1.6.1-cp312-cp312-win_amd64.whl.metadata (15 kB)\n",
      "Collecting scipy==1.15.1 (from mesa-restaurant-agents==0.0.1)\n",
      "  Using cached scipy-1.15.1-cp312-cp312-win_amd64.whl.metadata (60 kB)\n",
      "Collecting seaborn==0.13.2 (from mesa-restaurant-agents==0.0.1)\n",
      "  Using cached seaborn-0.13.2-py3-none-any.whl.metadata (5.4 kB)\n",
      "Collecting matplotlib==3.10.0 (from mesa-restaurant-agents==0.0.1)\n",
      "  Using cached matplotlib-3.10.0-cp312-cp312-win_amd64.whl.metadata (11 kB)\n",
      "Collecting plotly==5.24.1 (from mesa-restaurant-agents==0.0.1)\n",
      "  Using cached plotly-5.24.1-py3-none-any.whl.metadata (7.3 kB)\n",
      "Collecting contourpy>=1.0.1 (from matplotlib==3.10.0->mesa-restaurant-agents==0.0.1)\n",
      "  Using cached contourpy-1.3.1-cp312-cp312-win_amd64.whl.metadata (5.4 kB)\n",
      "Collecting cycler>=0.10 (from matplotlib==3.10.0->mesa-restaurant-agents==0.0.1)\n",
      "  Using cached cycler-0.12.1-py3-none-any.whl.metadata (3.8 kB)\n",
      "Collecting fonttools>=4.22.0 (from matplotlib==3.10.0->mesa-restaurant-agents==0.0.1)\n",
      "  Using cached fonttools-4.56.0-cp312-cp312-win_amd64.whl.metadata (103 kB)\n",
      "Collecting kiwisolver>=1.3.1 (from matplotlib==3.10.0->mesa-restaurant-agents==0.0.1)\n",
      "  Using cached kiwisolver-1.4.8-cp312-cp312-win_amd64.whl.metadata (6.3 kB)\n",
      "Collecting packaging>=20.0 (from matplotlib==3.10.0->mesa-restaurant-agents==0.0.1)\n",
      "  Using cached packaging-24.2-py3-none-any.whl.metadata (3.2 kB)\n",
      "Collecting pillow>=8 (from matplotlib==3.10.0->mesa-restaurant-agents==0.0.1)\n",
      "  Using cached pillow-11.1.0-cp312-cp312-win_amd64.whl.metadata (9.3 kB)\n",
      "Collecting pyparsing>=2.3.1 (from matplotlib==3.10.0->mesa-restaurant-agents==0.0.1)\n",
      "  Using cached pyparsing-3.2.1-py3-none-any.whl.metadata (5.0 kB)\n",
      "Collecting python-dateutil>=2.7 (from matplotlib==3.10.0->mesa-restaurant-agents==0.0.1)\n",
      "  Using cached python_dateutil-2.9.0.post0-py2.py3-none-any.whl.metadata (8.4 kB)\n",
      "Collecting tqdm (from mesa==3.1.0->mesa-restaurant-agents==0.0.1)\n",
      "  Using cached tqdm-4.67.1-py3-none-any.whl.metadata (57 kB)\n",
      "Collecting pytz>=2020.1 (from pandas==2.2.3->mesa-restaurant-agents==0.0.1)\n",
      "  Using cached pytz-2025.1-py2.py3-none-any.whl.metadata (22 kB)\n",
      "Collecting tzdata>=2022.7 (from pandas==2.2.3->mesa-restaurant-agents==0.0.1)\n",
      "  Using cached tzdata-2025.1-py2.py3-none-any.whl.metadata (1.4 kB)\n",
      "Collecting tenacity>=6.2.0 (from plotly==5.24.1->mesa-restaurant-agents==0.0.1)\n",
      "  Using cached tenacity-9.0.0-py3-none-any.whl.metadata (1.2 kB)\n",
      "Collecting joblib>=1.2.0 (from scikit-learn==1.6.1->mesa-restaurant-agents==0.0.1)\n",
      "  Using cached joblib-1.4.2-py3-none-any.whl.metadata (5.4 kB)\n",
      "Collecting threadpoolctl>=3.1.0 (from scikit-learn==1.6.1->mesa-restaurant-agents==0.0.1)\n",
      "  Using cached threadpoolctl-3.6.0-py3-none-any.whl.metadata (13 kB)\n",
      "Collecting six>=1.5 (from python-dateutil>=2.7->matplotlib==3.10.0->mesa-restaurant-agents==0.0.1)\n",
      "  Using cached six-1.17.0-py2.py3-none-any.whl.metadata (1.7 kB)\n",
      "Collecting colorama (from tqdm->mesa==3.1.0->mesa-restaurant-agents==0.0.1)\n",
      "  Using cached colorama-0.4.6-py2.py3-none-any.whl.metadata (17 kB)\n",
      "Using cached matplotlib-3.10.0-cp312-cp312-win_amd64.whl (8.0 MB)\n",
      "Using cached mesa-3.1.0-py3-none-any.whl (225 kB)\n",
      "Using cached numpy-2.2.2-cp312-cp312-win_amd64.whl (12.6 MB)\n",
      "Using cached pandas-2.2.3-cp312-cp312-win_amd64.whl (11.5 MB)\n",
      "Using cached plotly-5.24.1-py3-none-any.whl (19.1 MB)\n",
      "Using cached scikit_learn-1.6.1-cp312-cp312-win_amd64.whl (11.1 MB)\n",
      "Using cached scipy-1.15.1-cp312-cp312-win_amd64.whl (43.6 MB)\n",
      "Using cached seaborn-0.13.2-py3-none-any.whl (294 kB)\n",
      "Using cached contourpy-1.3.1-cp312-cp312-win_amd64.whl (220 kB)\n",
      "Using cached cycler-0.12.1-py3-none-any.whl (8.3 kB)\n",
      "Using cached fonttools-4.56.0-cp312-cp312-win_amd64.whl (2.2 MB)\n",
      "Using cached joblib-1.4.2-py3-none-any.whl (301 kB)\n",
      "Using cached kiwisolver-1.4.8-cp312-cp312-win_amd64.whl (71 kB)\n",
      "Using cached packaging-24.2-py3-none-any.whl (65 kB)\n",
      "Using cached pillow-11.1.0-cp312-cp312-win_amd64.whl (2.6 MB)\n",
      "Using cached pyparsing-3.2.1-py3-none-any.whl (107 kB)\n",
      "Using cached python_dateutil-2.9.0.post0-py2.py3-none-any.whl (229 kB)\n",
      "Using cached pytz-2025.1-py2.py3-none-any.whl (507 kB)\n",
      "Using cached tenacity-9.0.0-py3-none-any.whl (28 kB)\n",
      "Using cached threadpoolctl-3.6.0-py3-none-any.whl (18 kB)\n",
      "Using cached tzdata-2025.1-py2.py3-none-any.whl (346 kB)\n",
      "Using cached tqdm-4.67.1-py3-none-any.whl (78 kB)\n",
      "Using cached six-1.17.0-py2.py3-none-any.whl (11 kB)\n",
      "Using cached colorama-0.4.6-py2.py3-none-any.whl (25 kB)\n",
      "Installing collected packages: pytz, tzdata, threadpoolctl, tenacity, six, pyparsing, pillow, packaging, numpy, kiwisolver, joblib, fonttools, cycler, colorama, tqdm, scipy, python-dateutil, plotly, contourpy, scikit-learn, pandas, matplotlib, seaborn, mesa, mesa-restaurant-agents\n",
      "  Attempting uninstall: pytz\n",
      "    Found existing installation: pytz 2025.1\n",
      "    Uninstalling pytz-2025.1:\n",
      "      Successfully uninstalled pytz-2025.1\n",
      "  Attempting uninstall: tzdata\n",
      "    Found existing installation: tzdata 2025.1\n",
      "    Uninstalling tzdata-2025.1:\n",
      "      Successfully uninstalled tzdata-2025.1\n",
      "  Attempting uninstall: threadpoolctl\n",
      "    Found existing installation: threadpoolctl 3.6.0\n",
      "    Uninstalling threadpoolctl-3.6.0:\n",
      "      Successfully uninstalled threadpoolctl-3.6.0\n",
      "  Attempting uninstall: tenacity\n",
      "    Found existing installation: tenacity 9.0.0\n",
      "    Uninstalling tenacity-9.0.0:\n",
      "      Successfully uninstalled tenacity-9.0.0\n",
      "  Attempting uninstall: six\n",
      "    Found existing installation: six 1.17.0\n",
      "    Uninstalling six-1.17.0:\n",
      "      Successfully uninstalled six-1.17.0\n",
      "  Attempting uninstall: pyparsing\n",
      "    Found existing installation: pyparsing 3.2.1\n",
      "    Uninstalling pyparsing-3.2.1:\n",
      "      Successfully uninstalled pyparsing-3.2.1\n",
      "  Attempting uninstall: pillow\n",
      "    Found existing installation: pillow 11.1.0\n",
      "    Uninstalling pillow-11.1.0:\n",
      "      Successfully uninstalled pillow-11.1.0\n",
      "  Attempting uninstall: packaging\n",
      "    Found existing installation: packaging 24.2\n",
      "    Uninstalling packaging-24.2:\n",
      "      Successfully uninstalled packaging-24.2\n",
      "  Attempting uninstall: numpy\n",
      "    Found existing installation: numpy 2.2.2\n",
      "    Uninstalling numpy-2.2.2:\n",
      "      Successfully uninstalled numpy-2.2.2\n",
      "  Attempting uninstall: kiwisolver\n",
      "    Found existing installation: kiwisolver 1.4.8\n",
      "    Uninstalling kiwisolver-1.4.8:\n",
      "      Successfully uninstalled kiwisolver-1.4.8\n",
      "  Attempting uninstall: joblib\n",
      "    Found existing installation: joblib 1.4.2\n",
      "    Uninstalling joblib-1.4.2:\n",
      "      Successfully uninstalled joblib-1.4.2\n",
      "  Attempting uninstall: fonttools\n",
      "    Found existing installation: fonttools 4.56.0\n",
      "    Uninstalling fonttools-4.56.0:\n",
      "      Successfully uninstalled fonttools-4.56.0\n",
      "  Attempting uninstall: cycler\n",
      "    Found existing installation: cycler 0.12.1\n",
      "    Uninstalling cycler-0.12.1:\n",
      "      Successfully uninstalled cycler-0.12.1\n",
      "  Attempting uninstall: colorama\n",
      "    Found existing installation: colorama 0.4.6\n",
      "    Uninstalling colorama-0.4.6:\n",
      "      Successfully uninstalled colorama-0.4.6\n",
      "  Attempting uninstall: tqdm\n",
      "    Found existing installation: tqdm 4.67.1\n",
      "    Uninstalling tqdm-4.67.1:\n",
      "      Successfully uninstalled tqdm-4.67.1\n",
      "  Attempting uninstall: scipy\n",
      "    Found existing installation: scipy 1.15.1\n",
      "    Uninstalling scipy-1.15.1:\n",
      "      Successfully uninstalled scipy-1.15.1\n",
      "  Attempting uninstall: python-dateutil\n",
      "    Found existing installation: python-dateutil 2.9.0.post0\n",
      "    Uninstalling python-dateutil-2.9.0.post0:\n",
      "      Successfully uninstalled python-dateutil-2.9.0.post0\n",
      "  Attempting uninstall: plotly\n",
      "    Found existing installation: plotly 5.24.1\n",
      "    Uninstalling plotly-5.24.1:\n",
      "      Successfully uninstalled plotly-5.24.1\n",
      "  Attempting uninstall: contourpy\n",
      "    Found existing installation: contourpy 1.3.1\n",
      "    Uninstalling contourpy-1.3.1:\n",
      "      Successfully uninstalled contourpy-1.3.1\n",
      "  Attempting uninstall: scikit-learn\n",
      "    Found existing installation: scikit-learn 1.6.1\n",
      "    Uninstalling scikit-learn-1.6.1:\n",
      "      Successfully uninstalled scikit-learn-1.6.1\n",
      "  Attempting uninstall: pandas\n",
      "    Found existing installation: pandas 2.2.3\n",
      "    Uninstalling pandas-2.2.3:\n",
      "      Successfully uninstalled pandas-2.2.3\n",
      "  Attempting uninstall: matplotlib\n",
      "    Found existing installation: matplotlib 3.10.0\n",
      "    Uninstalling matplotlib-3.10.0:\n",
      "      Successfully uninstalled matplotlib-3.10.0\n",
      "  Attempting uninstall: seaborn\n",
      "    Found existing installation: seaborn 0.13.2\n",
      "    Uninstalling seaborn-0.13.2:\n",
      "      Successfully uninstalled seaborn-0.13.2\n",
      "  Attempting uninstall: mesa\n",
      "    Found existing installation: Mesa 3.1.0\n",
      "    Uninstalling Mesa-3.1.0:\n",
      "      Successfully uninstalled Mesa-3.1.0\n",
      "  Attempting uninstall: mesa-restaurant-agents\n",
      "    Found existing installation: mesa-restaurant-agents 0.0.1\n",
      "    Uninstalling mesa-restaurant-agents-0.0.1:\n",
      "      Successfully uninstalled mesa-restaurant-agents-0.0.1\n",
      "Successfully installed colorama-0.4.6 contourpy-1.3.1 cycler-0.12.1 fonttools-4.56.0 joblib-1.4.2 kiwisolver-1.4.8 matplotlib-3.10.0 mesa-3.1.0 mesa-restaurant-agents-0.0.1 numpy-2.2.2 packaging-24.2 pandas-2.2.3 pillow-11.1.0 plotly-5.24.1 pyparsing-3.2.1 python-dateutil-2.9.0.post0 pytz-2025.1 scikit-learn-1.6.1 scipy-1.15.1 seaborn-0.13.2 six-1.17.0 tenacity-9.0.0 threadpoolctl-3.6.0 tqdm-4.67.1 tzdata-2025.1\n"
     ]
    }
   ],
   "source": [
    "pip install --force-reinstall agent_system/dist/mesa_restaurant_agents-0.0.1-py3-none-any.whl"
   ]
  },
  {
   "cell_type": "code",
   "execution_count": 3,
   "metadata": {
    "ExecuteTime": {
     "end_time": "2025-02-22T14:51:46.495106Z",
     "start_time": "2025-02-22T14:48:51.727482Z"
    }
   },
   "outputs": [
    {
     "data": {
      "application/vnd.jupyter.widget-view+json": {
       "model_id": "6526f9b94f0f4dcf81d3be4fea66575d",
       "version_major": 2,
       "version_minor": 0
      },
      "text/plain": [
       "  0%|          | 0/1 [00:00<?, ?it/s]"
      ]
     },
     "metadata": {},
     "output_type": "display_data"
    },
    {
     "name": "stdout",
     "output_type": "stream",
     "text": [
      "Step 660, Profit: 0\n",
      "Active customers: 0\n",
      "{(7, 17), (3, 7), (5, 1), (17, 3), (5, 13), (3, 13), (19, 9), (11, 5), (5, 19), (9, 17), (19, 15), (1, 9), (11, 11), (13, 11), (15, 5), (7, 1), (1, 15), (13, 17), (7, 19), (3, 9), (5, 3), (17, 5), (9, 1), (3, 15), (19, 11), (11, 7), (9, 19), (13, 1), (19, 17), (1, 11), (11, 13), (15, 7), (7, 3), (1, 17), (13, 19), (3, 11), (5, 5), (17, 7), (9, 3), (3, 17), (19, 1), (17, 13), (11, 9), (13, 3), (19, 19), (1, 13), (11, 15), (15, 9), (7, 5), (1, 19), (15, 15), (3, 1), (5, 7), (17, 9), (9, 5), (3, 19), (19, 3), (17, 15), (9, 11), (1, 3), (13, 5), (11, 17), (15, 11), (7, 7), (15, 17), (7, 13), (3, 3), (5, 9), (17, 11), (9, 7), (19, 5), (11, 1), (5, 15), (17, 17), (9, 13), (1, 5), (13, 7), (11, 19), (15, 1), (15, 13), (13, 13), (7, 9), (15, 19), (7, 15), (3, 5), (17, 1), (5, 11), (9, 9), (19, 7), (1, 1), (11, 3), (5, 17), (17, 19), (9, 15), (19, 13), (1, 7), (13, 9), (15, 3), (13, 15), (7, 11)}\n",
      "{(7, 17), (3, 7), (5, 1), (17, 3), (5, 13), (3, 13), (19, 9), (11, 5), (5, 19), (9, 17), (19, 15), (1, 9), (11, 11), (13, 11), (15, 5), (7, 1), (1, 15), (13, 17), (7, 19), (3, 9), (5, 3), (17, 5), (9, 1), (3, 15), (19, 11), (11, 7), (9, 19), (13, 1), (19, 17), (1, 11), (11, 13), (15, 7), (7, 3), (1, 17), (13, 19), (3, 11), (5, 5), (17, 7), (9, 3), (3, 17), (19, 1), (17, 13), (11, 9), (13, 3), (19, 19), (1, 13), (11, 15), (15, 9), (7, 5), (1, 19), (15, 15), (3, 1), (5, 7), (9, 5), (3, 19), (19, 3), (17, 15), (9, 11), (1, 3), (13, 5), (11, 17), (15, 11), (7, 7), (15, 17), (7, 13), (3, 3), (5, 9), (17, 11), (9, 7), (19, 5), (11, 1), (5, 15), (17, 17), (9, 13), (1, 5), (13, 7), (11, 19), (15, 1), (15, 13), (13, 13), (7, 9), (15, 19), (7, 15), (3, 5), (17, 1), (5, 11), (9, 9), (19, 7), (1, 1), (11, 3), (5, 17), (17, 19), (9, 15), (19, 13), (1, 7), (13, 9), (15, 3), (13, 15), (7, 11)}\n",
      "DEBUG: Day 1, minute 665: Active customers: 2, waiters: 10\n",
      "DEBUG: Kitchen processing - requested orders: 2, prepared orders: 0\n",
      "DEBUG: Day 1, minute 670: Active customers: 2, waiters: 10\n",
      "DEBUG: Kitchen processing - requested orders: 2, prepared orders: 0\n",
      "DEBUG: Day 1, minute 675: Active customers: 2, waiters: 10\n",
      "DEBUG: Kitchen processing - requested orders: 0, prepared orders: 2\n",
      "DEBUG: Waiter 6 picked up gluten_free for customer 12\n",
      "DEBUG: Waiter 6 picked up gluten_free for customer 13\n",
      "DEBUG: Waiter 6 step - available=True, carrying_food=2, target_pos=(17, 9)\n",
      "Waiter 6 moved from (12, 12) to (17, 10), steps: 12\n",
      "DEBUG: Waiter 6 served customer 12 - Order: gluten_free, Price: $25.00\n",
      "DEBUG: Waiter 6 step - available=True, carrying_food=1, target_pos=(9, 13)\n",
      "Waiter 6 moved from (17, 10) to (9, 12), steps: 12\n",
      "DEBUG: Waiter 6 served customer 13 - Order: gluten_free, Price: $25.00\n",
      "DEBUG: Day 1, minute 680: Active customers: 2, waiters: 10\n",
      "DEBUG: Kitchen processing - requested orders: 0, prepared orders: 0\n",
      "Waiter 6 moved from (9, 12) to (12, 12), steps: 3\n",
      "{(7, 17), (3, 7), (5, 1), (17, 3), (5, 13), (3, 13), (19, 9), (11, 5), (5, 19), (9, 17), (19, 15), (1, 9), (11, 11), (13, 11), (15, 5), (7, 1), (1, 15), (13, 17), (7, 19), (3, 9), (5, 3), (17, 5), (9, 1), (3, 15), (19, 11), (11, 7), (9, 19), (13, 1), (19, 17), (1, 11), (11, 13), (15, 7), (7, 3), (1, 17), (13, 19), (3, 11), (5, 5), (17, 7), (9, 3), (3, 17), (19, 1), (17, 13), (11, 9), (13, 3), (19, 19), (1, 13), (11, 15), (15, 9), (7, 5), (1, 19), (15, 15), (3, 1), (5, 7), (9, 5), (3, 19), (19, 3), (17, 15), (9, 11), (1, 3), (13, 5), (11, 17), (15, 11), (7, 7), (15, 17), (7, 13), (3, 3), (5, 9), (17, 11), (9, 7), (19, 5), (11, 1), (5, 15), (17, 17), (1, 5), (13, 7), (11, 19), (15, 1), (15, 13), (13, 13), (7, 9), (15, 19), (7, 15), (3, 5), (17, 1), (5, 11), (9, 9), (19, 7), (1, 1), (11, 3), (5, 17), (17, 19), (9, 15), (19, 13), (1, 7), (13, 9), (15, 3), (13, 15), (7, 11)}\n",
      "{(7, 17), (3, 7), (5, 1), (17, 3), (5, 13), (3, 13), (19, 9), (11, 5), (5, 19), (9, 17), (19, 15), (1, 9), (11, 11), (13, 11), (15, 5), (7, 1), (1, 15), (13, 17), (7, 19), (3, 9), (5, 3), (17, 5), (9, 1), (3, 15), (19, 11), (11, 7), (9, 19), (13, 1), (19, 17), (1, 11), (11, 13), (15, 7), (7, 3), (1, 17), (13, 19), (5, 5), (17, 7), (9, 3), (3, 17), (19, 1), (17, 13), (11, 9), (13, 3), (19, 19), (1, 13), (11, 15), (15, 9), (7, 5), (1, 19), (15, 15), (3, 1), (5, 7), (9, 5), (3, 19), (19, 3), (17, 15), (9, 11), (1, 3), (13, 5), (11, 17), (15, 11), (7, 7), (15, 17), (7, 13), (3, 3), (5, 9), (17, 11), (9, 7), (19, 5), (11, 1), (5, 15), (17, 17), (1, 5), (13, 7), (11, 19), (15, 1), (15, 13), (13, 13), (7, 9), (15, 19), (7, 15), (3, 5), (17, 1), (5, 11), (9, 9), (19, 7), (1, 1), (11, 3), (5, 17), (17, 19), (9, 15), (19, 13), (1, 7), (13, 9), (15, 3), (13, 15), (7, 11)}\n",
      "DEBUG: Day 1, minute 685: Active customers: 4, waiters: 10\n",
      "DEBUG: Kitchen processing - requested orders: 2, prepared orders: 0\n",
      "DEBUG: Day 1, minute 690: Active customers: 4, waiters: 10\n",
      "DEBUG: Kitchen processing - requested orders: 2, prepared orders: 0\n",
      "DEBUG: Day 1, minute 695: Active customers: 4, waiters: 10\n",
      "DEBUG: Kitchen processing - requested orders: 0, prepared orders: 2\n",
      "DEBUG: Waiter 2 picked up gluten_free for customer 14\n",
      "DEBUG: Waiter 2 picked up gluten_free for customer 15\n",
      "DEBUG: Waiter 2 step - available=True, carrying_food=2, target_pos=(3, 11)\n",
      "Waiter 2 moved from (12, 12) to (4, 11), steps: 12\n",
      "DEBUG: Waiter 2 served customer 14 - Order: gluten_free, Price: $25.00\n",
      "DEBUG: Waiter 2 step - available=True, carrying_food=1, target_pos=(5, 3)\n",
      "Waiter 2 moved from (4, 11) to (4, 3), steps: 12\n",
      "DEBUG: Waiter 2 served customer 15 - Order: gluten_free, Price: $25.00\n",
      "DEBUG: Day 1, minute 700: Active customers: 4, waiters: 10\n",
      "DEBUG: Kitchen processing - requested orders: 0, prepared orders: 0\n",
      "Waiter 2 moved from (4, 3) to (12, 12), steps: 10\n",
      "DEBUG: Day 1, minute 705: Active customers: 4, waiters: 10\n",
      "DEBUG: Kitchen processing - requested orders: 0, prepared orders: 0\n",
      "DEBUG: Day 1, minute 710: Active customers: 4, waiters: 10\n",
      "DEBUG: Kitchen processing - requested orders: 0, prepared orders: 0\n",
      "DEBUG: Day 1, minute 715: Active customers: 4, waiters: 10\n",
      "DEBUG: Kitchen processing - requested orders: 0, prepared orders: 0\n",
      "{(7, 17), (3, 7), (5, 1), (17, 3), (5, 13), (3, 13), (19, 9), (11, 5), (5, 19), (9, 17), (19, 15), (1, 9), (11, 11), (13, 11), (15, 5), (7, 1), (1, 15), (13, 17), (7, 19), (3, 9), (17, 5), (9, 1), (3, 15), (19, 11), (11, 7), (9, 19), (13, 1), (19, 17), (1, 11), (11, 13), (15, 7), (7, 3), (1, 17), (13, 19), (5, 5), (17, 7), (9, 3), (3, 17), (19, 1), (17, 13), (11, 9), (13, 3), (19, 19), (1, 13), (11, 15), (15, 9), (7, 5), (1, 19), (15, 15), (3, 1), (5, 7), (9, 5), (3, 19), (19, 3), (17, 15), (9, 11), (1, 3), (13, 5), (11, 17), (15, 11), (7, 7), (15, 17), (7, 13), (3, 3), (5, 9), (17, 11), (9, 7), (19, 5), (11, 1), (5, 15), (17, 17), (1, 5), (13, 7), (11, 19), (15, 1), (15, 13), (13, 13), (7, 9), (15, 19), (7, 15), (3, 5), (17, 1), (5, 11), (9, 9), (19, 7), (1, 1), (11, 3), (5, 17), (17, 19), (9, 15), (19, 13), (1, 7), (13, 9), (15, 3), (13, 15), (7, 11)}\n",
      "{(7, 17), (3, 7), (5, 1), (17, 3), (5, 13), (3, 13), (19, 9), (11, 5), (5, 19), (9, 17), (19, 15), (1, 9), (11, 11), (13, 11), (15, 5), (7, 1), (13, 17), (7, 19), (3, 9), (17, 5), (9, 1), (3, 15), (19, 11), (11, 7), (9, 19), (13, 1), (19, 17), (1, 11), (11, 13), (15, 7), (7, 3), (1, 17), (13, 19), (5, 5), (17, 7), (9, 3), (3, 17), (19, 1), (17, 13), (11, 9), (13, 3), (19, 19), (1, 13), (11, 15), (15, 9), (7, 5), (1, 19), (15, 15), (3, 1), (5, 7), (9, 5), (3, 19), (19, 3), (17, 15), (9, 11), (1, 3), (13, 5), (11, 17), (15, 11), (7, 7), (15, 17), (7, 13), (3, 3), (5, 9), (17, 11), (9, 7), (19, 5), (11, 1), (5, 15), (17, 17), (1, 5), (13, 7), (11, 19), (15, 1), (15, 13), (13, 13), (7, 9), (15, 19), (7, 15), (3, 5), (17, 1), (5, 11), (9, 9), (19, 7), (1, 1), (11, 3), (5, 17), (17, 19), (9, 15), (19, 13), (1, 7), (13, 9), (15, 3), (13, 15), (7, 11)}\n",
      "{(7, 17), (3, 7), (5, 1), (17, 3), (5, 13), (3, 13), (19, 9), (11, 5), (5, 19), (9, 17), (19, 15), (1, 9), (11, 11), (13, 11), (15, 5), (7, 1), (13, 17), (7, 19), (3, 9), (17, 5), (9, 1), (3, 15), (19, 11), (11, 7), (9, 19), (13, 1), (19, 17), (1, 11), (11, 13), (15, 7), (7, 3), (1, 17), (13, 19), (5, 5), (17, 7), (9, 3), (3, 17), (19, 1), (17, 13), (11, 9), (13, 3), (19, 19), (1, 13), (11, 15), (15, 9), (7, 5), (1, 19), (15, 15), (3, 1), (5, 7), (9, 5), (3, 19), (19, 3), (17, 15), (9, 11), (1, 3), (13, 5), (11, 17), (15, 11), (7, 7), (15, 17), (7, 13), (3, 3), (5, 9), (17, 11), (9, 7), (19, 5), (11, 1), (5, 15), (17, 17), (1, 5), (13, 7), (11, 19), (15, 1), (15, 13), (13, 13), (7, 9), (15, 19), (7, 15), (17, 1), (5, 11), (9, 9), (19, 7), (1, 1), (11, 3), (5, 17), (17, 19), (9, 15), (19, 13), (1, 7), (13, 9), (15, 3), (13, 15), (7, 11)}\n",
      "{(7, 17), (3, 7), (5, 1), (17, 3), (5, 13), (3, 13), (19, 9), (11, 5), (5, 19), (9, 17), (19, 15), (1, 9), (13, 11), (15, 5), (7, 1), (13, 17), (7, 19), (3, 9), (17, 5), (9, 1), (3, 15), (19, 11), (11, 7), (9, 19), (13, 1), (19, 17), (1, 11), (11, 13), (15, 7), (7, 3), (1, 17), (13, 19), (5, 5), (17, 7), (9, 3), (3, 17), (19, 1), (17, 13), (11, 9), (13, 3), (19, 19), (1, 13), (11, 15), (15, 9), (7, 5), (1, 19), (15, 15), (3, 1), (5, 7), (9, 5), (3, 19), (19, 3), (17, 15), (9, 11), (1, 3), (13, 5), (11, 17), (15, 11), (7, 7), (15, 17), (7, 13), (3, 3), (5, 9), (17, 11), (9, 7), (19, 5), (11, 1), (5, 15), (17, 17), (1, 5), (13, 7), (11, 19), (15, 1), (15, 13), (13, 13), (7, 9), (15, 19), (7, 15), (17, 1), (5, 11), (9, 9), (19, 7), (1, 1), (11, 3), (5, 17), (17, 19), (9, 15), (19, 13), (1, 7), (13, 9), (15, 3), (13, 15), (7, 11)}\n",
      "{(7, 17), (3, 7), (5, 1), (17, 3), (5, 13), (3, 13), (19, 9), (11, 5), (5, 19), (9, 17), (19, 15), (1, 9), (13, 11), (15, 5), (7, 1), (13, 17), (7, 19), (3, 9), (17, 5), (9, 1), (3, 15), (19, 11), (11, 7), (9, 19), (13, 1), (19, 17), (1, 11), (11, 13), (15, 7), (7, 3), (1, 17), (13, 19), (5, 5), (17, 7), (9, 3), (3, 17), (19, 1), (17, 13), (11, 9), (13, 3), (19, 19), (1, 13), (11, 15), (15, 9), (7, 5), (1, 19), (15, 15), (3, 1), (5, 7), (9, 5), (19, 3), (17, 15), (9, 11), (1, 3), (13, 5), (11, 17), (15, 11), (7, 7), (15, 17), (7, 13), (3, 3), (5, 9), (17, 11), (9, 7), (19, 5), (11, 1), (5, 15), (17, 17), (1, 5), (13, 7), (11, 19), (15, 1), (15, 13), (13, 13), (7, 9), (15, 19), (7, 15), (17, 1), (5, 11), (9, 9), (19, 7), (1, 1), (11, 3), (5, 17), (17, 19), (9, 15), (19, 13), (1, 7), (13, 9), (15, 3), (13, 15), (7, 11)}\n",
      "Day 1, Hour 12:00:\n",
      "Customers paid: 0\n",
      "Customers left without paying: 0\n",
      "Current profit: $0.00\n",
      "\n",
      "DEBUG: Day 1, minute 720: Active customers: 9, waiters: 10\n",
      "DEBUG: Kitchen processing - requested orders: 5, prepared orders: 0\n",
      "{(7, 17), (3, 7), (5, 1), (17, 3), (5, 13), (3, 13), (19, 9), (11, 5), (5, 19), (9, 17), (19, 15), (1, 9), (13, 11), (15, 5), (7, 1), (13, 17), (7, 19), (3, 9), (17, 5), (9, 1), (3, 15), (19, 11), (11, 7), (13, 1), (19, 17), (1, 11), (11, 13), (15, 7), (7, 3), (1, 17), (13, 19), (5, 5), (17, 7), (9, 3), (3, 17), (19, 1), (17, 13), (11, 9), (13, 3), (19, 19), (1, 13), (11, 15), (15, 9), (7, 5), (1, 19), (15, 15), (3, 1), (5, 7), (9, 5), (19, 3), (17, 15), (9, 11), (1, 3), (13, 5), (11, 17), (15, 11), (7, 7), (15, 17), (7, 13), (3, 3), (5, 9), (17, 11), (9, 7), (19, 5), (11, 1), (5, 15), (17, 17), (1, 5), (13, 7), (11, 19), (15, 1), (15, 13), (13, 13), (7, 9), (15, 19), (7, 15), (17, 1), (5, 11), (9, 9), (19, 7), (1, 1), (11, 3), (5, 17), (17, 19), (9, 15), (19, 13), (1, 7), (13, 9), (15, 3), (13, 15), (7, 11)}\n",
      "{(7, 17), (3, 7), (5, 1), (17, 3), (5, 13), (3, 13), (19, 9), (11, 5), (5, 19), (9, 17), (19, 15), (1, 9), (13, 11), (15, 5), (7, 1), (13, 17), (7, 19), (3, 9), (17, 5), (9, 1), (3, 15), (19, 11), (11, 7), (13, 1), (19, 17), (1, 11), (11, 13), (15, 7), (7, 3), (1, 17), (13, 19), (5, 5), (17, 7), (9, 3), (3, 17), (19, 1), (17, 13), (11, 9), (13, 3), (19, 19), (1, 13), (11, 15), (15, 9), (7, 5), (1, 19), (15, 15), (3, 1), (9, 5), (19, 3), (17, 15), (9, 11), (1, 3), (13, 5), (11, 17), (15, 11), (7, 7), (15, 17), (7, 13), (3, 3), (5, 9), (17, 11), (9, 7), (19, 5), (11, 1), (5, 15), (17, 17), (1, 5), (13, 7), (11, 19), (15, 1), (15, 13), (13, 13), (7, 9), (15, 19), (7, 15), (17, 1), (5, 11), (9, 9), (19, 7), (1, 1), (11, 3), (5, 17), (17, 19), (9, 15), (19, 13), (1, 7), (13, 9), (15, 3), (13, 15), (7, 11)}\n",
      "{(7, 17), (3, 7), (5, 1), (17, 3), (5, 13), (3, 13), (19, 9), (11, 5), (5, 19), (9, 17), (19, 15), (1, 9), (13, 11), (15, 5), (7, 1), (13, 17), (7, 19), (3, 9), (17, 5), (9, 1), (3, 15), (19, 11), (11, 7), (13, 1), (19, 17), (1, 11), (11, 13), (15, 7), (7, 3), (1, 17), (13, 19), (5, 5), (17, 7), (9, 3), (3, 17), (19, 1), (17, 13), (11, 9), (13, 3), (19, 19), (1, 13), (11, 15), (15, 9), (7, 5), (1, 19), (15, 15), (3, 1), (9, 5), (19, 3), (17, 15), (9, 11), (1, 3), (13, 5), (11, 17), (15, 11), (7, 7), (15, 17), (7, 13), (3, 3), (5, 9), (17, 11), (9, 7), (19, 5), (11, 1), (5, 15), (17, 17), (1, 5), (13, 7), (11, 19), (15, 1), (13, 13), (7, 9), (15, 19), (7, 15), (17, 1), (5, 11), (9, 9), (19, 7), (1, 1), (11, 3), (5, 17), (17, 19), (9, 15), (19, 13), (1, 7), (13, 9), (15, 3), (13, 15), (7, 11)}\n",
      "DEBUG: Day 1, minute 725: Active customers: 12, waiters: 10\n",
      "DEBUG: Kitchen processing - requested orders: 8, prepared orders: 0\n",
      "{(7, 17), (3, 7), (5, 1), (17, 3), (5, 13), (3, 13), (19, 9), (11, 5), (5, 19), (9, 17), (19, 15), (1, 9), (13, 11), (15, 5), (7, 1), (13, 17), (7, 19), (3, 9), (17, 5), (9, 1), (3, 15), (19, 11), (11, 7), (13, 1), (19, 17), (1, 11), (11, 13), (15, 7), (7, 3), (1, 17), (13, 19), (5, 5), (17, 7), (9, 3), (3, 17), (19, 1), (17, 13), (11, 9), (13, 3), (19, 19), (1, 13), (11, 15), (15, 9), (7, 5), (1, 19), (15, 15), (3, 1), (9, 5), (19, 3), (17, 15), (9, 11), (1, 3), (13, 5), (11, 17), (15, 11), (7, 7), (15, 17), (7, 13), (3, 3), (5, 9), (17, 11), (9, 7), (19, 5), (11, 1), (5, 15), (17, 17), (1, 5), (13, 7), (11, 19), (15, 1), (13, 13), (7, 9), (15, 19), (7, 15), (17, 1), (5, 11), (19, 7), (1, 1), (11, 3), (5, 17), (17, 19), (9, 15), (19, 13), (1, 7), (13, 9), (15, 3), (13, 15), (7, 11)}\n",
      "{(7, 17), (3, 7), (5, 1), (17, 3), (5, 13), (3, 13), (19, 9), (5, 19), (9, 17), (19, 15), (1, 9), (13, 11), (15, 5), (7, 1), (13, 17), (7, 19), (3, 9), (17, 5), (9, 1), (3, 15), (19, 11), (11, 7), (13, 1), (19, 17), (1, 11), (11, 13), (15, 7), (7, 3), (1, 17), (13, 19), (5, 5), (17, 7), (9, 3), (3, 17), (19, 1), (17, 13), (11, 9), (13, 3), (19, 19), (1, 13), (11, 15), (15, 9), (7, 5), (1, 19), (15, 15), (3, 1), (9, 5), (19, 3), (17, 15), (9, 11), (1, 3), (13, 5), (11, 17), (15, 11), (7, 7), (15, 17), (7, 13), (3, 3), (5, 9), (17, 11), (9, 7), (19, 5), (11, 1), (5, 15), (17, 17), (1, 5), (13, 7), (11, 19), (15, 1), (13, 13), (7, 9), (15, 19), (7, 15), (17, 1), (5, 11), (19, 7), (1, 1), (11, 3), (5, 17), (17, 19), (9, 15), (19, 13), (1, 7), (13, 9), (15, 3), (13, 15), (7, 11)}\n",
      "{(7, 17), (3, 7), (5, 1), (17, 3), (5, 13), (3, 13), (19, 9), (5, 19), (9, 17), (19, 15), (1, 9), (13, 11), (15, 5), (7, 1), (13, 17), (7, 19), (3, 9), (17, 5), (9, 1), (3, 15), (19, 11), (11, 7), (13, 1), (19, 17), (1, 11), (11, 13), (15, 7), (7, 3), (1, 17), (13, 19), (5, 5), (17, 7), (9, 3), (3, 17), (19, 1), (17, 13), (11, 9), (13, 3), (19, 19), (1, 13), (11, 15), (15, 9), (7, 5), (1, 19), (15, 15), (3, 1), (9, 5), (19, 3), (17, 15), (9, 11), (1, 3), (13, 5), (11, 17), (15, 11), (7, 7), (15, 17), (7, 13), (3, 3), (5, 9), (17, 11), (9, 7), (19, 5), (11, 1), (5, 15), (17, 17), (1, 5), (13, 7), (11, 19), (15, 1), (13, 13), (7, 9), (15, 19), (7, 15), (17, 1), (19, 7), (1, 1), (11, 3), (5, 17), (17, 19), (9, 15), (19, 13), (1, 7), (13, 9), (15, 3), (13, 15), (7, 11)}\n",
      "{(7, 17), (3, 7), (5, 1), (17, 3), (5, 13), (3, 13), (19, 9), (5, 19), (9, 17), (19, 15), (1, 9), (13, 11), (15, 5), (7, 1), (13, 17), (7, 19), (3, 9), (17, 5), (9, 1), (3, 15), (19, 11), (13, 1), (19, 17), (1, 11), (11, 13), (15, 7), (7, 3), (1, 17), (13, 19), (5, 5), (17, 7), (9, 3), (3, 17), (19, 1), (17, 13), (11, 9), (13, 3), (19, 19), (1, 13), (11, 15), (15, 9), (7, 5), (1, 19), (15, 15), (3, 1), (9, 5), (19, 3), (17, 15), (9, 11), (1, 3), (13, 5), (11, 17), (15, 11), (7, 7), (15, 17), (7, 13), (3, 3), (5, 9), (17, 11), (9, 7), (19, 5), (11, 1), (5, 15), (17, 17), (1, 5), (13, 7), (11, 19), (15, 1), (13, 13), (7, 9), (15, 19), (7, 15), (17, 1), (19, 7), (1, 1), (11, 3), (5, 17), (17, 19), (9, 15), (19, 13), (1, 7), (13, 9), (15, 3), (13, 15), (7, 11)}\n",
      "{(7, 17), (3, 7), (5, 1), (17, 3), (5, 13), (3, 13), (19, 9), (5, 19), (9, 17), (19, 15), (1, 9), (13, 11), (15, 5), (7, 1), (13, 17), (7, 19), (3, 9), (17, 5), (9, 1), (3, 15), (19, 11), (13, 1), (19, 17), (1, 11), (11, 13), (15, 7), (7, 3), (1, 17), (13, 19), (5, 5), (17, 7), (9, 3), (3, 17), (19, 1), (17, 13), (11, 9), (13, 3), (19, 19), (1, 13), (11, 15), (15, 9), (7, 5), (1, 19), (15, 15), (3, 1), (9, 5), (19, 3), (17, 15), (9, 11), (1, 3), (13, 5), (11, 17), (15, 11), (7, 7), (15, 17), (7, 13), (3, 3), (5, 9), (17, 11), (9, 7), (19, 5), (11, 1), (5, 15), (17, 17), (1, 5), (13, 7), (11, 19), (15, 1), (13, 13), (7, 9), (15, 19), (7, 15), (17, 1), (19, 7), (1, 1), (11, 3), (5, 17), (17, 19), (9, 15), (19, 13), (1, 7), (13, 9), (13, 15), (7, 11)}\n",
      "{(7, 17), (3, 7), (5, 1), (17, 3), (5, 13), (3, 13), (19, 9), (5, 19), (9, 17), (19, 15), (1, 9), (13, 11), (15, 5), (7, 1), (13, 17), (7, 19), (3, 9), (17, 5), (9, 1), (3, 15), (19, 11), (13, 1), (19, 17), (1, 11), (11, 13), (15, 7), (7, 3), (1, 17), (13, 19), (5, 5), (17, 7), (9, 3), (3, 17), (19, 1), (17, 13), (11, 9), (13, 3), (19, 19), (1, 13), (11, 15), (15, 9), (7, 5), (1, 19), (15, 15), (3, 1), (9, 5), (19, 3), (17, 15), (9, 11), (1, 3), (13, 5), (11, 17), (15, 11), (7, 7), (15, 17), (7, 13), (3, 3), (5, 9), (17, 11), (9, 7), (19, 5), (11, 1), (5, 15), (17, 17), (1, 5), (13, 7), (11, 19), (15, 1), (13, 13), (7, 9), (15, 19), (17, 1), (19, 7), (1, 1), (11, 3), (5, 17), (17, 19), (9, 15), (19, 13), (1, 7), (13, 9), (13, 15), (7, 11)}\n",
      "{(7, 17), (3, 7), (5, 1), (5, 13), (3, 13), (19, 9), (5, 19), (9, 17), (19, 15), (1, 9), (13, 11), (15, 5), (7, 1), (13, 17), (7, 19), (3, 9), (17, 5), (9, 1), (3, 15), (19, 11), (13, 1), (19, 17), (1, 11), (11, 13), (15, 7), (7, 3), (1, 17), (13, 19), (5, 5), (17, 7), (9, 3), (3, 17), (19, 1), (17, 13), (11, 9), (13, 3), (19, 19), (1, 13), (11, 15), (15, 9), (7, 5), (1, 19), (15, 15), (3, 1), (9, 5), (19, 3), (17, 15), (9, 11), (1, 3), (13, 5), (11, 17), (15, 11), (7, 7), (15, 17), (7, 13), (3, 3), (5, 9), (17, 11), (9, 7), (19, 5), (11, 1), (5, 15), (17, 17), (1, 5), (13, 7), (11, 19), (15, 1), (13, 13), (7, 9), (15, 19), (17, 1), (19, 7), (1, 1), (11, 3), (5, 17), (17, 19), (9, 15), (19, 13), (1, 7), (13, 9), (13, 15), (7, 11)}\n",
      "{(7, 17), (3, 7), (5, 1), (5, 13), (3, 13), (19, 9), (5, 19), (9, 17), (19, 15), (1, 9), (13, 11), (15, 5), (7, 1), (13, 17), (7, 19), (3, 9), (17, 5), (9, 1), (3, 15), (19, 11), (13, 1), (19, 17), (1, 11), (11, 13), (15, 7), (7, 3), (1, 17), (13, 19), (5, 5), (9, 3), (3, 17), (19, 1), (17, 13), (11, 9), (13, 3), (19, 19), (1, 13), (11, 15), (15, 9), (7, 5), (1, 19), (15, 15), (3, 1), (9, 5), (19, 3), (17, 15), (9, 11), (1, 3), (13, 5), (11, 17), (15, 11), (7, 7), (15, 17), (7, 13), (3, 3), (5, 9), (17, 11), (9, 7), (19, 5), (11, 1), (5, 15), (17, 17), (1, 5), (13, 7), (11, 19), (15, 1), (13, 13), (7, 9), (15, 19), (17, 1), (19, 7), (1, 1), (11, 3), (5, 17), (17, 19), (9, 15), (19, 13), (1, 7), (13, 9), (13, 15), (7, 11)}\n",
      "{(7, 17), (3, 7), (5, 1), (5, 13), (3, 13), (19, 9), (5, 19), (9, 17), (19, 15), (1, 9), (13, 11), (15, 5), (7, 1), (13, 17), (7, 19), (3, 9), (17, 5), (9, 1), (3, 15), (19, 11), (13, 1), (19, 17), (1, 11), (11, 13), (15, 7), (7, 3), (1, 17), (13, 19), (5, 5), (9, 3), (3, 17), (19, 1), (17, 13), (11, 9), (13, 3), (19, 19), (1, 13), (11, 15), (15, 9), (7, 5), (1, 19), (15, 15), (3, 1), (9, 5), (19, 3), (17, 15), (9, 11), (1, 3), (13, 5), (11, 17), (15, 11), (7, 7), (15, 17), (7, 13), (3, 3), (5, 9), (17, 11), (9, 7), (19, 5), (11, 1), (5, 15), (17, 17), (1, 5), (13, 7), (11, 19), (15, 1), (13, 13), (7, 9), (15, 19), (17, 1), (19, 7), (1, 1), (11, 3), (5, 17), (17, 19), (19, 13), (1, 7), (13, 9), (13, 15), (7, 11)}\n",
      "{(7, 17), (3, 7), (5, 1), (5, 13), (3, 13), (19, 9), (5, 19), (9, 17), (19, 15), (1, 9), (13, 11), (15, 5), (7, 1), (13, 17), (7, 19), (3, 9), (17, 5), (9, 1), (3, 15), (19, 11), (13, 1), (19, 17), (1, 11), (11, 13), (15, 7), (7, 3), (1, 17), (13, 19), (5, 5), (9, 3), (3, 17), (19, 1), (17, 13), (11, 9), (13, 3), (19, 19), (1, 13), (11, 15), (15, 9), (7, 5), (1, 19), (15, 15), (3, 1), (9, 5), (17, 15), (9, 11), (1, 3), (13, 5), (11, 17), (15, 11), (7, 7), (15, 17), (7, 13), (3, 3), (5, 9), (17, 11), (9, 7), (19, 5), (11, 1), (5, 15), (17, 17), (1, 5), (13, 7), (11, 19), (15, 1), (13, 13), (7, 9), (15, 19), (17, 1), (19, 7), (1, 1), (11, 3), (5, 17), (17, 19), (19, 13), (1, 7), (13, 9), (13, 15), (7, 11)}\n",
      "DEBUG: Day 1, minute 730: Active customers: 22, waiters: 10\n",
      "DEBUG: Kitchen processing - requested orders: 13, prepared orders: 5\n",
      "DEBUG: Waiter 8 picked up vegetarian for customer 16\n",
      "DEBUG: Waiter 8 picked up gluten_free for customer 17\n",
      "DEBUG: Waiter 8 picked up vegetarian for customer 18\n",
      "DEBUG: Waiter 8 picked up meat for customer 19\n",
      "DEBUG: Waiter 8 step - available=True, carrying_food=4, target_pos=(1, 15)\n",
      "Waiter 8 moved from (12, 12) to (0, 15), steps: 12\n",
      "DEBUG: Waiter 8 served customer 16 - Order: vegetarian, Price: $20.00\n",
      "DEBUG: Waiter 8 step - available=True, carrying_food=3, target_pos=(3, 5)\n",
      "Waiter 8 moved from (0, 15) to (4, 5), steps: 12\n",
      "DEBUG: Waiter 8 served customer 17 - Order: gluten_free, Price: $25.00\n",
      "DEBUG: Waiter 8 step - available=True, carrying_food=2, target_pos=(11, 11)\n",
      "Waiter 8 moved from (4, 5) to (12, 11), steps: 12\n",
      "DEBUG: Waiter 8 served customer 18 - Order: vegetarian, Price: $20.00\n",
      "DEBUG: Waiter 8 step - available=True, carrying_food=1, target_pos=(3, 19)\n",
      "Waiter 8 moved from (12, 11) to (4, 19), steps: 12\n",
      "DEBUG: Waiter 8 served customer 19 - Order: meat, Price: $30.00\n",
      "DEBUG: Waiter 7 picked up vegetarian for customer 20\n",
      "DEBUG: Waiter 7 step - available=True, carrying_food=1, target_pos=(9, 19)\n",
      "Waiter 7 moved from (12, 12) to (8, 19), steps: 12\n",
      "DEBUG: Waiter 7 served customer 20 - Order: vegetarian, Price: $20.00\n",
      "{(7, 17), (3, 7), (5, 1), (5, 13), (3, 13), (19, 9), (5, 19), (9, 17), (19, 15), (1, 9), (13, 11), (15, 5), (7, 1), (13, 17), (7, 19), (17, 5), (9, 1), (3, 15), (19, 11), (13, 1), (19, 17), (1, 11), (11, 13), (15, 7), (7, 3), (1, 17), (13, 19), (5, 5), (9, 3), (3, 17), (19, 1), (17, 13), (11, 9), (13, 3), (19, 19), (1, 13), (11, 15), (15, 9), (7, 5), (1, 19), (15, 15), (3, 1), (9, 5), (17, 15), (9, 11), (1, 3), (13, 5), (11, 17), (15, 11), (7, 7), (15, 17), (7, 13), (3, 3), (5, 9), (17, 11), (9, 7), (19, 5), (11, 1), (5, 15), (17, 17), (1, 5), (13, 7), (11, 19), (15, 1), (13, 13), (7, 9), (15, 19), (17, 1), (19, 7), (1, 1), (11, 3), (5, 17), (17, 19), (19, 13), (1, 7), (13, 9), (13, 15), (7, 11)}\n",
      "{(7, 17), (3, 7), (5, 1), (5, 13), (3, 13), (5, 19), (9, 17), (19, 15), (1, 9), (13, 11), (15, 5), (7, 1), (13, 17), (7, 19), (17, 5), (9, 1), (3, 15), (19, 11), (13, 1), (19, 17), (1, 11), (11, 13), (15, 7), (7, 3), (1, 17), (13, 19), (5, 5), (9, 3), (3, 17), (19, 1), (17, 13), (11, 9), (13, 3), (19, 19), (1, 13), (11, 15), (15, 9), (7, 5), (1, 19), (15, 15), (3, 1), (9, 5), (17, 15), (9, 11), (1, 3), (13, 5), (11, 17), (15, 11), (7, 7), (15, 17), (7, 13), (3, 3), (5, 9), (17, 11), (9, 7), (19, 5), (11, 1), (5, 15), (17, 17), (1, 5), (13, 7), (11, 19), (15, 1), (13, 13), (7, 9), (15, 19), (17, 1), (19, 7), (1, 1), (11, 3), (5, 17), (17, 19), (19, 13), (1, 7), (13, 9), (13, 15), (7, 11)}\n",
      "{(7, 17), (3, 7), (5, 1), (5, 13), (3, 13), (5, 19), (9, 17), (19, 15), (1, 9), (13, 11), (15, 5), (7, 1), (13, 17), (7, 19), (17, 5), (9, 1), (3, 15), (19, 11), (13, 1), (19, 17), (1, 11), (11, 13), (15, 7), (7, 3), (1, 17), (13, 19), (5, 5), (9, 3), (3, 17), (19, 1), (11, 9), (13, 3), (19, 19), (1, 13), (11, 15), (15, 9), (7, 5), (1, 19), (15, 15), (3, 1), (9, 5), (17, 15), (9, 11), (1, 3), (13, 5), (11, 17), (15, 11), (7, 7), (15, 17), (7, 13), (3, 3), (5, 9), (17, 11), (9, 7), (19, 5), (11, 1), (5, 15), (17, 17), (1, 5), (13, 7), (11, 19), (15, 1), (13, 13), (7, 9), (15, 19), (17, 1), (19, 7), (1, 1), (11, 3), (5, 17), (17, 19), (19, 13), (1, 7), (13, 9), (13, 15), (7, 11)}\n",
      "{(7, 17), (3, 7), (5, 1), (5, 13), (3, 13), (5, 19), (9, 17), (19, 15), (1, 9), (13, 11), (15, 5), (7, 1), (13, 17), (7, 19), (17, 5), (9, 1), (3, 15), (19, 11), (13, 1), (19, 17), (1, 11), (11, 13), (15, 7), (7, 3), (1, 17), (13, 19), (5, 5), (9, 3), (3, 17), (19, 1), (11, 9), (13, 3), (19, 19), (1, 13), (11, 15), (15, 9), (1, 19), (15, 15), (3, 1), (9, 5), (17, 15), (9, 11), (1, 3), (13, 5), (11, 17), (15, 11), (7, 7), (15, 17), (7, 13), (3, 3), (5, 9), (17, 11), (9, 7), (19, 5), (11, 1), (5, 15), (17, 17), (1, 5), (13, 7), (11, 19), (15, 1), (13, 13), (7, 9), (15, 19), (17, 1), (19, 7), (1, 1), (11, 3), (5, 17), (17, 19), (19, 13), (1, 7), (13, 9), (13, 15), (7, 11)}\n",
      "{(7, 17), (3, 7), (5, 1), (5, 13), (3, 13), (5, 19), (9, 17), (19, 15), (1, 9), (13, 11), (15, 5), (7, 1), (13, 17), (7, 19), (17, 5), (9, 1), (3, 15), (19, 11), (13, 1), (19, 17), (1, 11), (11, 13), (15, 7), (7, 3), (1, 17), (13, 19), (5, 5), (9, 3), (3, 17), (19, 1), (11, 9), (13, 3), (19, 19), (1, 13), (11, 15), (15, 9), (1, 19), (15, 15), (3, 1), (9, 5), (17, 15), (9, 11), (1, 3), (13, 5), (11, 17), (15, 11), (7, 7), (15, 17), (7, 13), (3, 3), (5, 9), (17, 11), (9, 7), (19, 5), (11, 1), (5, 15), (17, 17), (1, 5), (13, 7), (11, 19), (15, 1), (13, 13), (7, 9), (15, 19), (17, 1), (19, 7), (1, 1), (11, 3), (5, 17), (17, 19), (19, 13), (13, 9), (13, 15), (7, 11)}\n",
      "{(7, 17), (3, 7), (5, 1), (5, 13), (3, 13), (5, 19), (9, 17), (19, 15), (1, 9), (13, 11), (15, 5), (7, 1), (13, 17), (7, 19), (17, 5), (9, 1), (3, 15), (19, 11), (13, 1), (19, 17), (1, 11), (11, 13), (15, 7), (7, 3), (1, 17), (13, 19), (5, 5), (9, 3), (3, 17), (19, 1), (11, 9), (13, 3), (19, 19), (1, 13), (11, 15), (15, 9), (1, 19), (15, 15), (3, 1), (9, 5), (17, 15), (9, 11), (1, 3), (13, 5), (11, 17), (15, 11), (7, 7), (15, 17), (7, 13), (3, 3), (5, 9), (17, 11), (9, 7), (19, 5), (11, 1), (5, 15), (17, 17), (1, 5), (13, 7), (11, 19), (15, 1), (13, 13), (7, 9), (15, 19), (17, 1), (19, 7), (1, 1), (5, 17), (17, 19), (19, 13), (13, 9), (13, 15), (7, 11)}\n",
      "DEBUG: Day 1, minute 735: Active customers: 28, waiters: 10\n",
      "DEBUG: Kitchen processing - requested orders: 16, prepared orders: 3\n",
      "DEBUG: Waiter 10 picked up meat for customer 21\n",
      "DEBUG: Waiter 10 picked up gluten_free for customer 22\n",
      "DEBUG: Waiter 10 picked up vegetarian for customer 23\n",
      "DEBUG: Waiter 10 step - available=True, carrying_food=3, target_pos=(5, 7)\n",
      "Waiter 10 moved from (12, 12) to (4, 7), steps: 12\n",
      "DEBUG: Waiter 10 served customer 21 - Order: meat, Price: $30.00\n",
      "DEBUG: Waiter 10 step - available=True, carrying_food=2, target_pos=(15, 13)\n",
      "Waiter 10 moved from (4, 7) to (16, 13), steps: 12\n",
      "DEBUG: Waiter 10 served customer 22 - Order: gluten_free, Price: $25.00\n",
      "DEBUG: Waiter 10 step - available=True, carrying_food=1, target_pos=(9, 9)\n",
      "Waiter 10 moved from (16, 13) to (9, 8), steps: 12\n",
      "DEBUG: Waiter 10 served customer 23 - Order: vegetarian, Price: $20.00\n",
      "Waiter 8 moved from (4, 19) to (12, 12), steps: 8\n",
      "Waiter 7 moved from (8, 19) to (12, 12), steps: 7\n",
      "{(7, 17), (3, 7), (5, 1), (5, 13), (3, 13), (5, 19), (9, 17), (19, 15), (1, 9), (13, 11), (15, 5), (7, 1), (13, 17), (7, 19), (17, 5), (9, 1), (3, 15), (19, 11), (13, 1), (19, 17), (1, 11), (11, 13), (15, 7), (7, 3), (1, 17), (13, 19), (5, 5), (9, 3), (3, 17), (19, 1), (11, 9), (13, 3), (19, 19), (1, 13), (11, 15), (15, 9), (1, 19), (15, 15), (3, 1), (9, 5), (17, 15), (9, 11), (1, 3), (13, 5), (11, 17), (15, 11), (7, 7), (15, 17), (7, 13), (3, 3), (5, 9), (17, 11), (9, 7), (19, 5), (11, 1), (5, 15), (17, 17), (1, 5), (13, 7), (11, 19), (15, 1), (13, 13), (15, 19), (17, 1), (19, 7), (1, 1), (5, 17), (17, 19), (19, 13), (13, 9), (13, 15), (7, 11)}\n",
      "{(7, 17), (3, 7), (5, 1), (5, 13), (3, 13), (5, 19), (9, 17), (19, 15), (1, 9), (13, 11), (15, 5), (7, 1), (13, 17), (7, 19), (17, 5), (3, 15), (19, 11), (13, 1), (19, 17), (1, 11), (11, 13), (15, 7), (7, 3), (1, 17), (13, 19), (5, 5), (9, 3), (3, 17), (19, 1), (11, 9), (13, 3), (19, 19), (1, 13), (11, 15), (15, 9), (1, 19), (15, 15), (3, 1), (9, 5), (17, 15), (9, 11), (1, 3), (13, 5), (11, 17), (15, 11), (7, 7), (15, 17), (7, 13), (3, 3), (5, 9), (17, 11), (9, 7), (19, 5), (11, 1), (5, 15), (17, 17), (1, 5), (13, 7), (11, 19), (15, 1), (13, 13), (15, 19), (17, 1), (19, 7), (1, 1), (5, 17), (17, 19), (19, 13), (13, 9), (13, 15), (7, 11)}\n",
      "{(7, 17), (3, 7), (5, 1), (5, 13), (3, 13), (5, 19), (9, 17), (19, 15), (1, 9), (13, 11), (15, 5), (7, 1), (13, 17), (7, 19), (17, 5), (3, 15), (19, 11), (13, 1), (19, 17), (1, 11), (11, 13), (15, 7), (7, 3), (1, 17), (13, 19), (5, 5), (9, 3), (3, 17), (19, 1), (11, 9), (13, 3), (19, 19), (1, 13), (11, 15), (15, 9), (1, 19), (15, 15), (3, 1), (9, 5), (17, 15), (9, 11), (1, 3), (13, 5), (11, 17), (15, 11), (7, 7), (15, 17), (7, 13), (3, 3), (5, 9), (17, 11), (9, 7), (19, 5), (11, 1), (5, 15), (17, 17), (1, 5), (13, 7), (11, 19), (15, 1), (15, 19), (17, 1), (19, 7), (1, 1), (5, 17), (17, 19), (19, 13), (13, 9), (13, 15), (7, 11)}\n",
      "{(7, 17), (3, 7), (5, 1), (5, 13), (3, 13), (5, 19), (9, 17), (19, 15), (1, 9), (13, 11), (15, 5), (7, 1), (13, 17), (7, 19), (17, 5), (3, 15), (19, 11), (13, 1), (19, 17), (1, 11), (11, 13), (15, 7), (7, 3), (1, 17), (13, 19), (5, 5), (9, 3), (3, 17), (11, 9), (13, 3), (19, 19), (1, 13), (11, 15), (15, 9), (1, 19), (15, 15), (3, 1), (9, 5), (17, 15), (9, 11), (1, 3), (13, 5), (11, 17), (15, 11), (7, 7), (15, 17), (7, 13), (3, 3), (5, 9), (17, 11), (9, 7), (19, 5), (11, 1), (5, 15), (17, 17), (1, 5), (13, 7), (11, 19), (15, 1), (15, 19), (17, 1), (19, 7), (1, 1), (5, 17), (17, 19), (19, 13), (13, 9), (13, 15), (7, 11)}\n",
      "{(7, 17), (3, 7), (5, 1), (5, 13), (3, 13), (5, 19), (9, 17), (19, 15), (1, 9), (13, 11), (15, 5), (7, 1), (13, 17), (7, 19), (3, 15), (19, 11), (13, 1), (19, 17), (1, 11), (11, 13), (15, 7), (7, 3), (1, 17), (13, 19), (5, 5), (9, 3), (3, 17), (11, 9), (13, 3), (19, 19), (1, 13), (11, 15), (15, 9), (1, 19), (15, 15), (3, 1), (9, 5), (17, 15), (9, 11), (1, 3), (13, 5), (11, 17), (15, 11), (7, 7), (15, 17), (7, 13), (3, 3), (5, 9), (17, 11), (9, 7), (19, 5), (11, 1), (5, 15), (17, 17), (1, 5), (13, 7), (11, 19), (15, 1), (15, 19), (17, 1), (19, 7), (1, 1), (5, 17), (17, 19), (19, 13), (13, 9), (13, 15), (7, 11)}\n",
      "{(7, 17), (3, 7), (5, 1), (5, 13), (3, 13), (5, 19), (9, 17), (19, 15), (1, 9), (13, 11), (15, 5), (7, 1), (13, 17), (7, 19), (3, 15), (19, 11), (13, 1), (19, 17), (11, 13), (15, 7), (7, 3), (1, 17), (13, 19), (5, 5), (9, 3), (3, 17), (11, 9), (13, 3), (19, 19), (1, 13), (11, 15), (15, 9), (1, 19), (15, 15), (3, 1), (9, 5), (17, 15), (9, 11), (1, 3), (13, 5), (11, 17), (15, 11), (7, 7), (15, 17), (7, 13), (3, 3), (5, 9), (17, 11), (9, 7), (19, 5), (11, 1), (5, 15), (17, 17), (1, 5), (13, 7), (11, 19), (15, 1), (15, 19), (17, 1), (19, 7), (1, 1), (5, 17), (17, 19), (19, 13), (13, 9), (13, 15), (7, 11)}\n",
      "DEBUG: Day 1, minute 740: Active customers: 34, waiters: 10\n",
      "DEBUG: Kitchen processing - requested orders: 12, prepared orders: 10\n",
      "DEBUG: Waiter 6 picked up gluten_free for customer 24\n",
      "DEBUG: Waiter 6 picked up vegetarian for customer 25\n",
      "DEBUG: Waiter 6 picked up vegetarian for customer 26\n",
      "DEBUG: Waiter 6 picked up vegetarian for customer 27\n",
      "DEBUG: Waiter 6 step - available=True, carrying_food=4, target_pos=(11, 5)\n",
      "Waiter 6 moved from (12, 12) to (11, 4), steps: 12\n",
      "DEBUG: Waiter 6 served customer 24 - Order: gluten_free, Price: $25.00\n",
      "DEBUG: Waiter 6 step - available=True, carrying_food=3, target_pos=(5, 11)\n",
      "Waiter 6 moved from (11, 4) to (5, 10), steps: 12\n",
      "DEBUG: Waiter 6 served customer 25 - Order: vegetarian, Price: $20.00\n",
      "DEBUG: Waiter 6 step - available=True, carrying_food=2, target_pos=(11, 7)\n",
      "Waiter 6 moved from (5, 10) to (11, 8), steps: 12\n",
      "DEBUG: Waiter 6 served customer 26 - Order: vegetarian, Price: $20.00\n",
      "DEBUG: Waiter 6 step - available=True, carrying_food=1, target_pos=(15, 3)\n",
      "Waiter 6 moved from (11, 8) to (16, 3), steps: 12\n",
      "DEBUG: Waiter 6 served customer 27 - Order: vegetarian, Price: $20.00\n",
      "DEBUG: Waiter 3 picked up gluten_free for customer 28\n",
      "DEBUG: Waiter 3 picked up gluten_free for customer 29\n",
      "DEBUG: Waiter 3 picked up vegetarian for customer 30\n",
      "DEBUG: Waiter 3 picked up gluten_free for customer 31\n",
      "DEBUG: Waiter 3 step - available=True, carrying_food=4, target_pos=(7, 15)\n",
      "Waiter 3 moved from (12, 12) to (8, 15), steps: 12\n",
      "DEBUG: Waiter 3 served customer 28 - Order: gluten_free, Price: $25.00\n",
      "DEBUG: Waiter 3 step - available=True, carrying_food=3, target_pos=(17, 3)\n",
      "Waiter 3 moved from (8, 15) to (16, 3), steps: 12\n",
      "DEBUG: Waiter 3 served customer 29 - Order: gluten_free, Price: $25.00\n",
      "DEBUG: Waiter 3 step - available=True, carrying_food=2, target_pos=(17, 7)\n",
      "Waiter 3 moved from (16, 3) to (16, 7), steps: 12\n",
      "DEBUG: Waiter 3 served customer 30 - Order: vegetarian, Price: $20.00\n",
      "DEBUG: Waiter 3 step - available=True, carrying_food=1, target_pos=(9, 15)\n",
      "Waiter 3 moved from (16, 7) to (8, 15), steps: 12\n",
      "DEBUG: Waiter 3 served customer 31 - Order: gluten_free, Price: $25.00\n",
      "DEBUG: Waiter 5 picked up vegetarian for customer 32\n",
      "DEBUG: Waiter 5 picked up gluten_free for customer 33\n",
      "DEBUG: Waiter 5 step - available=True, carrying_food=2, target_pos=(19, 3)\n",
      "Waiter 5 moved from (12, 12) to (19, 4), steps: 12\n",
      "DEBUG: Waiter 5 served customer 32 - Order: vegetarian, Price: $20.00\n",
      "DEBUG: Waiter 5 step - available=True, carrying_food=1, target_pos=(3, 9)\n",
      "Waiter 5 moved from (19, 4) to (7, 8), steps: 12\n",
      "Waiter 10 moved from (9, 8) to (12, 12), steps: 5\n"
     ]
    },
    {
     "data": {
      "text/html": [
       "<div>\n",
       "<style scoped>\n",
       "    .dataframe tbody tr th:only-of-type {\n",
       "        vertical-align: middle;\n",
       "    }\n",
       "\n",
       "    .dataframe tbody tr th {\n",
       "        vertical-align: top;\n",
       "    }\n",
       "\n",
       "    .dataframe thead th {\n",
       "        text-align: right;\n",
       "    }\n",
       "</style>\n",
       "<table border=\"1\" class=\"dataframe\">\n",
       "  <thead>\n",
       "    <tr style=\"text-align: right;\">\n",
       "      <th></th>\n",
       "      <th>RunId</th>\n",
       "      <th>iteration</th>\n",
       "      <th>Step</th>\n",
       "      <th>n_waiters</th>\n",
       "      <th>grid_width</th>\n",
       "      <th>grid_height</th>\n",
       "      <th>Customer_Count</th>\n",
       "      <th>Average_Wait_Time</th>\n",
       "      <th>Average_Customer_Satisfaction</th>\n",
       "      <th>Profit</th>\n",
       "      <th>Customer_Info</th>\n",
       "      <th>Waiter_Info</th>\n",
       "      <th>GridState</th>\n",
       "    </tr>\n",
       "  </thead>\n",
       "  <tbody>\n",
       "    <tr>\n",
       "      <th>0</th>\n",
       "      <td>0</td>\n",
       "      <td>0</td>\n",
       "      <td>0.0</td>\n",
       "      <td>10</td>\n",
       "      <td>20</td>\n",
       "      <td>20</td>\n",
       "      <td>0.0</td>\n",
       "      <td>0.0</td>\n",
       "      <td>100.0</td>\n",
       "      <td>0.0</td>\n",
       "      <td>[]</td>\n",
       "      <td>[{'waiter_nr': 1, 'tips': 0, 'avg_rating': 0, ...</td>\n",
       "      <td>[{'pos': (12, 12), 'type': 'Kitchen'}, {'pos':...</td>\n",
       "    </tr>\n",
       "    <tr>\n",
       "      <th>1</th>\n",
       "      <td>0</td>\n",
       "      <td>0</td>\n",
       "      <td>1.0</td>\n",
       "      <td>10</td>\n",
       "      <td>20</td>\n",
       "      <td>20</td>\n",
       "      <td>2.0</td>\n",
       "      <td>0.0</td>\n",
       "      <td>100.0</td>\n",
       "      <td>0.0</td>\n",
       "      <td>[{'customer_nr': 12, 'waiting_time': 0, 'order...</td>\n",
       "      <td>[{'waiter_nr': 1, 'tips': 0, 'avg_rating': 0, ...</td>\n",
       "      <td>[{'pos': (12, 12), 'type': 'Kitchen'}, {'pos':...</td>\n",
       "    </tr>\n",
       "    <tr>\n",
       "      <th>2</th>\n",
       "      <td>0</td>\n",
       "      <td>0</td>\n",
       "      <td>2.0</td>\n",
       "      <td>10</td>\n",
       "      <td>20</td>\n",
       "      <td>20</td>\n",
       "      <td>2.0</td>\n",
       "      <td>5.0</td>\n",
       "      <td>90.0</td>\n",
       "      <td>0.0</td>\n",
       "      <td>[{'customer_nr': 12, 'waiting_time': 5, 'order...</td>\n",
       "      <td>[{'waiter_nr': 1, 'tips': 0, 'avg_rating': 0, ...</td>\n",
       "      <td>[{'pos': (12, 12), 'type': 'Kitchen'}, {'pos':...</td>\n",
       "    </tr>\n",
       "    <tr>\n",
       "      <th>3</th>\n",
       "      <td>0</td>\n",
       "      <td>0</td>\n",
       "      <td>3.0</td>\n",
       "      <td>10</td>\n",
       "      <td>20</td>\n",
       "      <td>20</td>\n",
       "      <td>2.0</td>\n",
       "      <td>5.0</td>\n",
       "      <td>90.0</td>\n",
       "      <td>0.0</td>\n",
       "      <td>[{'customer_nr': 12, 'waiting_time': 5, 'order...</td>\n",
       "      <td>[{'waiter_nr': 1, 'tips': 0, 'avg_rating': 0, ...</td>\n",
       "      <td>[{'pos': (12, 12), 'type': 'Kitchen'}, {'pos':...</td>\n",
       "    </tr>\n",
       "    <tr>\n",
       "      <th>4</th>\n",
       "      <td>0</td>\n",
       "      <td>0</td>\n",
       "      <td>4.0</td>\n",
       "      <td>10</td>\n",
       "      <td>20</td>\n",
       "      <td>20</td>\n",
       "      <td>2.0</td>\n",
       "      <td>5.0</td>\n",
       "      <td>90.0</td>\n",
       "      <td>0.0</td>\n",
       "      <td>[{'customer_nr': 12, 'waiting_time': 5, 'order...</td>\n",
       "      <td>[{'waiter_nr': 1, 'tips': 0, 'avg_rating': 0, ...</td>\n",
       "      <td>[{'pos': (12, 12), 'type': 'Kitchen'}, {'pos':...</td>\n",
       "    </tr>\n",
       "  </tbody>\n",
       "</table>\n",
       "</div>"
      ],
      "text/plain": [
       "   RunId  iteration  Step  n_waiters  grid_width  grid_height  Customer_Count  \\\n",
       "0      0          0   0.0         10          20           20             0.0   \n",
       "1      0          0   1.0         10          20           20             2.0   \n",
       "2      0          0   2.0         10          20           20             2.0   \n",
       "3      0          0   3.0         10          20           20             2.0   \n",
       "4      0          0   4.0         10          20           20             2.0   \n",
       "\n",
       "   Average_Wait_Time  Average_Customer_Satisfaction  Profit  \\\n",
       "0                0.0                          100.0     0.0   \n",
       "1                0.0                          100.0     0.0   \n",
       "2                5.0                           90.0     0.0   \n",
       "3                5.0                           90.0     0.0   \n",
       "4                5.0                           90.0     0.0   \n",
       "\n",
       "                                       Customer_Info  \\\n",
       "0                                                 []   \n",
       "1  [{'customer_nr': 12, 'waiting_time': 0, 'order...   \n",
       "2  [{'customer_nr': 12, 'waiting_time': 5, 'order...   \n",
       "3  [{'customer_nr': 12, 'waiting_time': 5, 'order...   \n",
       "4  [{'customer_nr': 12, 'waiting_time': 5, 'order...   \n",
       "\n",
       "                                         Waiter_Info  \\\n",
       "0  [{'waiter_nr': 1, 'tips': 0, 'avg_rating': 0, ...   \n",
       "1  [{'waiter_nr': 1, 'tips': 0, 'avg_rating': 0, ...   \n",
       "2  [{'waiter_nr': 1, 'tips': 0, 'avg_rating': 0, ...   \n",
       "3  [{'waiter_nr': 1, 'tips': 0, 'avg_rating': 0, ...   \n",
       "4  [{'waiter_nr': 1, 'tips': 0, 'avg_rating': 0, ...   \n",
       "\n",
       "                                           GridState  \n",
       "0  [{'pos': (12, 12), 'type': 'Kitchen'}, {'pos':...  \n",
       "1  [{'pos': (12, 12), 'type': 'Kitchen'}, {'pos':...  \n",
       "2  [{'pos': (12, 12), 'type': 'Kitchen'}, {'pos':...  \n",
       "3  [{'pos': (12, 12), 'type': 'Kitchen'}, {'pos':...  \n",
       "4  [{'pos': (12, 12), 'type': 'Kitchen'}, {'pos':...  "
      ]
     },
     "execution_count": 3,
     "metadata": {},
     "output_type": "execute_result"
    }
   ],
   "source": [
    "import mesa\n",
    "from mesa_restaurant_agents.model.restaurant_model import RestaurantModel\n",
    "import pandas as pd\n",
    "\n",
    "params = {\"n_waiters\":10, \"grid_width\":20, \"grid_height\": 20}\n",
    "\n",
    "results = mesa.batch_run(\n",
    "    RestaurantModel,\n",
    "    parameters=params,\n",
    "    iterations=1,\n",
    "    max_steps=15,\n",
    "    number_processes=1,\n",
    "    data_collection_period=1,\n",
    "    display_progress=True,\n",
    ")\n",
    "\n",
    "# Handle data conversion with explicit types\n",
    "df = pd.DataFrame(results)\n",
    "numeric_cols = ['Step', 'Customer_Count', 'Average_Wait_Time', 'Average_Customer_Satisfaction', 'Profit']\n",
    "df[numeric_cols] = df[numeric_cols].fillna(0).astype(float)\n",
    " \n",
    "# Get only columns with data\n",
    "non_empty_cols = [col for col in df.columns if df[col].notna().any()]\n",
    "df[non_empty_cols].head()"
   ]
  },
  {
   "cell_type": "code",
   "execution_count": 4,
   "metadata": {
    "ExecuteTime": {
     "end_time": "2025-02-22T14:51:52.127751Z",
     "start_time": "2025-02-22T14:51:50.083207Z"
    }
   },
   "outputs": [
    {
     "name": "stdout",
     "output_type": "stream",
     "text": [
      "Step 660, Profit: 0\n",
      "Active customers: 0\n",
      "{(15, 21), (7, 17), (21, 13), (3, 7), (5, 1), (17, 3), (5, 13), (3, 13), (19, 9), (11, 5), (5, 19), (17, 21), (9, 17), (19, 15), (1, 9), (11, 11), (13, 11), (15, 5), (7, 1), (1, 15), (13, 17), (21, 9), (7, 19), (21, 15), (3, 9), (5, 3), (17, 5), (9, 1), (3, 15), (19, 11), (11, 7), (5, 21), (9, 19), (13, 1), (19, 17), (1, 11), (11, 13), (15, 7), (7, 3), (1, 17), (13, 19), (7, 21), (21, 17), (3, 11), (5, 5), (17, 7), (9, 3), (3, 17), (19, 1), (17, 13), (11, 9), (9, 21), (13, 3), (19, 19), (1, 13), (11, 15), (15, 9), (7, 5), (1, 19), (13, 21), (21, 1), (15, 15), (3, 1), (21, 19), (5, 7), (17, 9), (9, 5), (3, 19), (19, 3), (17, 15), (9, 11), (1, 3), (13, 5), (19, 21), (11, 17), (15, 11), (7, 7), (1, 21), (21, 3), (15, 17), (7, 13), (3, 3), (21, 21), (5, 9), (17, 11), (9, 7), (3, 21), (19, 5), (11, 1), (5, 15), (17, 17), (9, 13), (1, 5), (13, 7), (11, 19), (15, 1), (15, 13), (7, 9), (21, 5), (15, 19), (7, 15), (21, 11), (3, 5), (17, 1), (5, 11), (9, 9), (19, 7), (1, 1), (11, 3), (5, 17), (17, 19), (9, 15), (19, 13), (1, 7), (13, 9), (11, 21), (15, 3), (13, 15), (7, 11), (21, 7)}\n",
      "DEBUG: Day 1, minute 665: Active customers: 1, waiters: 10\n",
      "DEBUG: Kitchen processing - requested orders: 1, prepared orders: 0\n",
      "DEBUG: Day 1, minute 670: Active customers: 1, waiters: 10\n",
      "DEBUG: Kitchen processing - requested orders: 1, prepared orders: 0\n"
     ]
    }
   ],
   "source": [
    "from mesa_restaurant_agents.model.restaurant_model import RestaurantModel\n",
    "\n",
    "model = RestaurantModel(n_waiters=10, grid_width=23, grid_height=23)\n",
    "for i in range(2):\n",
    "    model.step()"
   ]
  },
  {
   "cell_type": "code",
   "execution_count": 5,
   "metadata": {},
   "outputs": [
    {
     "name": "stdout",
     "output_type": "stream",
     "text": [
      "{0: [(12, 12)], 1: [(12, 12)], 2: [(12, 12)], 3: [(12, 12)], 4: [(12, 12)], 5: [(12, 12)], 6: [(12, 12)], 7: [(12, 12)], 8: [(12, 12)], 9: [(12, 12)], 10: [(12, 12)], 11: [(12, 12)], 12: [(12, 12)], 13: [(12, 12)], 14: [(12, 12)], 15: [(12, 12)]}\n",
      "[{'RunId': 0, 'iteration': 0, 'Step': 0, 'n_waiters': 10, 'grid_width': 20, 'grid_height': 20, 'Customer_Count': 0, 'Average_Wait_Time': 0.0, 'Average_Customer_Satisfaction': 100.0, 'Profit': 0, 'Customer_Info': [], 'Waiter_Info': [{'waiter_nr': 1, 'tips': 0, 'avg_rating': 0, 'served_customers': 0}, {'waiter_nr': 2, 'tips': 0, 'avg_rating': 0, 'served_customers': 0}, {'waiter_nr': 3, 'tips': 0, 'avg_rating': 0, 'served_customers': 0}, {'waiter_nr': 4, 'tips': 0, 'avg_rating': 0, 'served_customers': 0}, {'waiter_nr': 5, 'tips': 0, 'avg_rating': 0, 'served_customers': 0}, {'waiter_nr': 6, 'tips': 0, 'avg_rating': 0, 'served_customers': 0}, {'waiter_nr': 7, 'tips': 0, 'avg_rating': 0, 'served_customers': 0}, {'waiter_nr': 8, 'tips': 0, 'avg_rating': 0, 'served_customers': 0}, {'waiter_nr': 9, 'tips': 0, 'avg_rating': 0, 'served_customers': 0}, {'waiter_nr': 10, 'tips': 0, 'avg_rating': 0, 'served_customers': 0}], 'GridState': [{'pos': (12, 12), 'type': 'Kitchen'}, {'pos': (7, 17), 'type': 'Table'}, {'pos': (5, 1), 'type': 'Table'}, {'pos': (17, 3), 'type': 'Table'}, {'pos': (3, 13), 'type': 'Table'}, {'pos': (19, 9), 'type': 'Table'}, {'pos': (11, 5), 'type': 'Table'}, {'pos': (5, 19), 'type': 'Table'}, {'pos': (9, 17), 'type': 'Table'}, {'pos': (15, 5), 'type': 'Table'}, {'pos': (7, 1), 'type': 'Table'}, {'pos': (1, 15), 'type': 'Table'}, {'pos': (13, 17), 'type': 'Table'}, {'pos': (7, 19), 'type': 'Table'}, {'pos': (5, 3), 'type': 'Table'}, {'pos': (17, 5), 'type': 'Table'}, {'pos': (9, 1), 'type': 'Table'}, {'pos': (3, 15), 'type': 'Table'}, {'pos': (19, 11), 'type': 'Table'}, {'pos': (11, 7), 'type': 'Table'}, {'pos': (9, 19), 'type': 'Table'}, {'pos': (13, 1), 'type': 'Table'}, {'pos': (15, 7), 'type': 'Table'}, {'pos': (7, 3), 'type': 'Table'}, {'pos': (1, 17), 'type': 'Table'}, {'pos': (13, 19), 'type': 'Table'}, {'pos': (5, 5), 'type': 'Table'}, {'pos': (17, 7), 'type': 'Table'}, {'pos': (9, 3), 'type': 'Table'}, {'pos': (3, 17), 'type': 'Table'}, {'pos': (11, 9), 'type': 'Table'}, {'pos': (13, 3), 'type': 'Table'}, {'pos': (15, 9), 'type': 'Table'}, {'pos': (7, 5), 'type': 'Table'}, {'pos': (1, 19), 'type': 'Table'}, {'pos': (3, 1), 'type': 'Table'}, {'pos': (5, 7), 'type': 'Table'}, {'pos': (17, 9), 'type': 'Table'}, {'pos': (9, 5), 'type': 'Table'}, {'pos': (3, 19), 'type': 'Table'}, {'pos': (1, 3), 'type': 'Table'}, {'pos': (13, 5), 'type': 'Table'}, {'pos': (15, 11), 'type': 'Table'}, {'pos': (7, 7), 'type': 'Table'}, {'pos': (3, 3), 'type': 'Table'}, {'pos': (5, 9), 'type': 'Table'}, {'pos': (17, 11), 'type': 'Table'}, {'pos': (9, 7), 'type': 'Table'}, {'pos': (1, 5), 'type': 'Table'}, {'pos': (13, 7), 'type': 'Table'}, {'pos': (15, 13), 'type': 'Table'}, {'pos': (7, 9), 'type': 'Table'}, {'pos': (3, 5), 'type': 'Table'}, {'pos': (5, 11), 'type': 'Table'}, {'pos': (9, 9), 'type': 'Table'}, {'pos': (19, 13), 'type': 'Table'}, {'pos': (1, 7), 'type': 'Table'}, {'pos': (13, 9), 'type': 'Table'}, {'pos': (7, 11), 'type': 'Table'}, {'pos': (3, 7), 'type': 'Table'}, {'pos': (5, 13), 'type': 'Table'}, {'pos': (19, 15), 'type': 'Table'}, {'pos': (1, 9), 'type': 'Table'}, {'pos': (11, 11), 'type': 'Table'}, {'pos': (13, 11), 'type': 'Table'}, {'pos': (3, 9), 'type': 'Table'}, {'pos': (19, 17), 'type': 'Table'}, {'pos': (1, 11), 'type': 'Table'}, {'pos': (11, 13), 'type': 'Table'}, {'pos': (3, 11), 'type': 'Table'}, {'pos': (19, 1), 'type': 'Table'}, {'pos': (17, 13), 'type': 'Table'}, {'pos': (19, 19), 'type': 'Table'}, {'pos': (1, 13), 'type': 'Table'}, {'pos': (11, 15), 'type': 'Table'}, {'pos': (15, 15), 'type': 'Table'}, {'pos': (19, 3), 'type': 'Table'}, {'pos': (17, 15), 'type': 'Table'}, {'pos': (9, 11), 'type': 'Table'}, {'pos': (11, 17), 'type': 'Table'}, {'pos': (15, 17), 'type': 'Table'}, {'pos': (7, 13), 'type': 'Table'}, {'pos': (19, 5), 'type': 'Table'}, {'pos': (11, 1), 'type': 'Table'}, {'pos': (5, 15), 'type': 'Table'}, {'pos': (17, 17), 'type': 'Table'}, {'pos': (9, 13), 'type': 'Table'}, {'pos': (11, 19), 'type': 'Table'}, {'pos': (15, 1), 'type': 'Table'}, {'pos': (13, 13), 'type': 'Table'}, {'pos': (15, 19), 'type': 'Table'}, {'pos': (7, 15), 'type': 'Table'}, {'pos': (17, 1), 'type': 'Table'}, {'pos': (19, 7), 'type': 'Table'}, {'pos': (1, 1), 'type': 'Table'}, {'pos': (11, 3), 'type': 'Table'}, {'pos': (5, 17), 'type': 'Table'}, {'pos': (17, 19), 'type': 'Table'}, {'pos': (9, 15), 'type': 'Table'}, {'pos': (15, 3), 'type': 'Table'}, {'pos': (13, 15), 'type': 'Table'}, {'pos': (12, 12), 'type': 'WaiterAgent'}, {'pos': (12, 12), 'type': 'WaiterAgent'}, {'pos': (12, 12), 'type': 'WaiterAgent'}, {'pos': (12, 12), 'type': 'WaiterAgent'}, {'pos': (12, 12), 'type': 'WaiterAgent'}, {'pos': (12, 12), 'type': 'WaiterAgent'}, {'pos': (12, 12), 'type': 'WaiterAgent'}, {'pos': (12, 12), 'type': 'WaiterAgent'}, {'pos': (12, 12), 'type': 'WaiterAgent'}, {'pos': (12, 12), 'type': 'WaiterAgent'}]}, {'RunId': 0, 'iteration': 0, 'Step': 1, 'n_waiters': 10, 'grid_width': 20, 'grid_height': 20, 'Customer_Count': 2, 'Average_Wait_Time': 0.0, 'Average_Customer_Satisfaction': 100.0, 'Profit': 0, 'Customer_Info': [{'customer_nr': 12, 'waiting_time': 0, 'order_status': 1, 'satisfaction': 100}, {'customer_nr': 13, 'waiting_time': 0, 'order_status': 1, 'satisfaction': 100}], 'Waiter_Info': [{'waiter_nr': 1, 'tips': 0, 'avg_rating': 0, 'served_customers': 0}, {'waiter_nr': 2, 'tips': 0, 'avg_rating': 0, 'served_customers': 0}, {'waiter_nr': 3, 'tips': 0, 'avg_rating': 0, 'served_customers': 0}, {'waiter_nr': 4, 'tips': 0, 'avg_rating': 0, 'served_customers': 0}, {'waiter_nr': 5, 'tips': 0, 'avg_rating': 0, 'served_customers': 0}, {'waiter_nr': 6, 'tips': 0, 'avg_rating': 0, 'served_customers': 0}, {'waiter_nr': 7, 'tips': 0, 'avg_rating': 0, 'served_customers': 0}, {'waiter_nr': 8, 'tips': 0, 'avg_rating': 0, 'served_customers': 0}, {'waiter_nr': 9, 'tips': 0, 'avg_rating': 0, 'served_customers': 0}, {'waiter_nr': 10, 'tips': 0, 'avg_rating': 0, 'served_customers': 0}], 'GridState': [{'pos': (12, 12), 'type': 'Kitchen'}, {'pos': (7, 17), 'type': 'Table'}, {'pos': (5, 1), 'type': 'Table'}, {'pos': (17, 3), 'type': 'Table'}, {'pos': (3, 13), 'type': 'Table'}, {'pos': (19, 9), 'type': 'Table'}, {'pos': (11, 5), 'type': 'Table'}, {'pos': (5, 19), 'type': 'Table'}, {'pos': (9, 17), 'type': 'Table'}, {'pos': (15, 5), 'type': 'Table'}, {'pos': (7, 1), 'type': 'Table'}, {'pos': (1, 15), 'type': 'Table'}, {'pos': (13, 17), 'type': 'Table'}, {'pos': (7, 19), 'type': 'Table'}, {'pos': (5, 3), 'type': 'Table'}, {'pos': (17, 5), 'type': 'Table'}, {'pos': (9, 1), 'type': 'Table'}, {'pos': (3, 15), 'type': 'Table'}, {'pos': (19, 11), 'type': 'Table'}, {'pos': (11, 7), 'type': 'Table'}, {'pos': (9, 19), 'type': 'Table'}, {'pos': (13, 1), 'type': 'Table'}, {'pos': (15, 7), 'type': 'Table'}, {'pos': (7, 3), 'type': 'Table'}, {'pos': (1, 17), 'type': 'Table'}, {'pos': (13, 19), 'type': 'Table'}, {'pos': (5, 5), 'type': 'Table'}, {'pos': (17, 7), 'type': 'Table'}, {'pos': (9, 3), 'type': 'Table'}, {'pos': (3, 17), 'type': 'Table'}, {'pos': (11, 9), 'type': 'Table'}, {'pos': (13, 3), 'type': 'Table'}, {'pos': (15, 9), 'type': 'Table'}, {'pos': (7, 5), 'type': 'Table'}, {'pos': (1, 19), 'type': 'Table'}, {'pos': (3, 1), 'type': 'Table'}, {'pos': (5, 7), 'type': 'Table'}, {'pos': (17, 9), 'type': 'Table'}, {'pos': (9, 5), 'type': 'Table'}, {'pos': (3, 19), 'type': 'Table'}, {'pos': (1, 3), 'type': 'Table'}, {'pos': (13, 5), 'type': 'Table'}, {'pos': (15, 11), 'type': 'Table'}, {'pos': (7, 7), 'type': 'Table'}, {'pos': (3, 3), 'type': 'Table'}, {'pos': (5, 9), 'type': 'Table'}, {'pos': (17, 11), 'type': 'Table'}, {'pos': (9, 7), 'type': 'Table'}, {'pos': (1, 5), 'type': 'Table'}, {'pos': (13, 7), 'type': 'Table'}, {'pos': (15, 13), 'type': 'Table'}, {'pos': (7, 9), 'type': 'Table'}, {'pos': (3, 5), 'type': 'Table'}, {'pos': (5, 11), 'type': 'Table'}, {'pos': (9, 9), 'type': 'Table'}, {'pos': (19, 13), 'type': 'Table'}, {'pos': (1, 7), 'type': 'Table'}, {'pos': (13, 9), 'type': 'Table'}, {'pos': (7, 11), 'type': 'Table'}, {'pos': (3, 7), 'type': 'Table'}, {'pos': (5, 13), 'type': 'Table'}, {'pos': (19, 15), 'type': 'Table'}, {'pos': (1, 9), 'type': 'Table'}, {'pos': (11, 11), 'type': 'Table'}, {'pos': (13, 11), 'type': 'Table'}, {'pos': (3, 9), 'type': 'Table'}, {'pos': (19, 17), 'type': 'Table'}, {'pos': (1, 11), 'type': 'Table'}, {'pos': (11, 13), 'type': 'Table'}, {'pos': (3, 11), 'type': 'Table'}, {'pos': (19, 1), 'type': 'Table'}, {'pos': (17, 13), 'type': 'Table'}, {'pos': (19, 19), 'type': 'Table'}, {'pos': (1, 13), 'type': 'Table'}, {'pos': (11, 15), 'type': 'Table'}, {'pos': (15, 15), 'type': 'Table'}, {'pos': (19, 3), 'type': 'Table'}, {'pos': (17, 15), 'type': 'Table'}, {'pos': (9, 11), 'type': 'Table'}, {'pos': (11, 17), 'type': 'Table'}, {'pos': (15, 17), 'type': 'Table'}, {'pos': (7, 13), 'type': 'Table'}, {'pos': (19, 5), 'type': 'Table'}, {'pos': (11, 1), 'type': 'Table'}, {'pos': (5, 15), 'type': 'Table'}, {'pos': (17, 17), 'type': 'Table'}, {'pos': (9, 13), 'type': 'Table'}, {'pos': (11, 19), 'type': 'Table'}, {'pos': (15, 1), 'type': 'Table'}, {'pos': (13, 13), 'type': 'Table'}, {'pos': (15, 19), 'type': 'Table'}, {'pos': (7, 15), 'type': 'Table'}, {'pos': (17, 1), 'type': 'Table'}, {'pos': (19, 7), 'type': 'Table'}, {'pos': (1, 1), 'type': 'Table'}, {'pos': (11, 3), 'type': 'Table'}, {'pos': (5, 17), 'type': 'Table'}, {'pos': (17, 19), 'type': 'Table'}, {'pos': (9, 15), 'type': 'Table'}, {'pos': (15, 3), 'type': 'Table'}, {'pos': (13, 15), 'type': 'Table'}, {'pos': (12, 12), 'type': 'WaiterAgent'}, {'pos': (12, 12), 'type': 'WaiterAgent'}, {'pos': (12, 12), 'type': 'WaiterAgent'}, {'pos': (12, 12), 'type': 'WaiterAgent'}, {'pos': (12, 12), 'type': 'WaiterAgent'}, {'pos': (12, 12), 'type': 'WaiterAgent'}, {'pos': (12, 12), 'type': 'WaiterAgent'}, {'pos': (12, 12), 'type': 'WaiterAgent'}, {'pos': (12, 12), 'type': 'WaiterAgent'}, {'pos': (12, 12), 'type': 'WaiterAgent'}, {'pos': (17, 9), 'type': 'CustomerAgent'}, {'pos': (9, 13), 'type': 'CustomerAgent'}]}, {'RunId': 0, 'iteration': 0, 'Step': 2, 'n_waiters': 10, 'grid_width': 20, 'grid_height': 20, 'Customer_Count': 2, 'Average_Wait_Time': 5.0, 'Average_Customer_Satisfaction': 90.0, 'Profit': 0, 'Customer_Info': [{'customer_nr': 12, 'waiting_time': 5, 'order_status': 1, 'satisfaction': 90}, {'customer_nr': 13, 'waiting_time': 5, 'order_status': 1, 'satisfaction': 90}], 'Waiter_Info': [{'waiter_nr': 1, 'tips': 0, 'avg_rating': 0, 'served_customers': 0}, {'waiter_nr': 2, 'tips': 0, 'avg_rating': 0, 'served_customers': 0}, {'waiter_nr': 3, 'tips': 0, 'avg_rating': 0, 'served_customers': 0}, {'waiter_nr': 4, 'tips': 0, 'avg_rating': 0, 'served_customers': 0}, {'waiter_nr': 5, 'tips': 0, 'avg_rating': 0, 'served_customers': 0}, {'waiter_nr': 6, 'tips': 0, 'avg_rating': 0, 'served_customers': 0}, {'waiter_nr': 7, 'tips': 0, 'avg_rating': 0, 'served_customers': 0}, {'waiter_nr': 8, 'tips': 0, 'avg_rating': 0, 'served_customers': 0}, {'waiter_nr': 9, 'tips': 0, 'avg_rating': 0, 'served_customers': 0}, {'waiter_nr': 10, 'tips': 0, 'avg_rating': 0, 'served_customers': 0}], 'GridState': [{'pos': (12, 12), 'type': 'Kitchen'}, {'pos': (7, 17), 'type': 'Table'}, {'pos': (5, 1), 'type': 'Table'}, {'pos': (17, 3), 'type': 'Table'}, {'pos': (3, 13), 'type': 'Table'}, {'pos': (19, 9), 'type': 'Table'}, {'pos': (11, 5), 'type': 'Table'}, {'pos': (5, 19), 'type': 'Table'}, {'pos': (9, 17), 'type': 'Table'}, {'pos': (15, 5), 'type': 'Table'}, {'pos': (7, 1), 'type': 'Table'}, {'pos': (1, 15), 'type': 'Table'}, {'pos': (13, 17), 'type': 'Table'}, {'pos': (7, 19), 'type': 'Table'}, {'pos': (5, 3), 'type': 'Table'}, {'pos': (17, 5), 'type': 'Table'}, {'pos': (9, 1), 'type': 'Table'}, {'pos': (3, 15), 'type': 'Table'}, {'pos': (19, 11), 'type': 'Table'}, {'pos': (11, 7), 'type': 'Table'}, {'pos': (9, 19), 'type': 'Table'}, {'pos': (13, 1), 'type': 'Table'}, {'pos': (15, 7), 'type': 'Table'}, {'pos': (7, 3), 'type': 'Table'}, {'pos': (1, 17), 'type': 'Table'}, {'pos': (13, 19), 'type': 'Table'}, {'pos': (5, 5), 'type': 'Table'}, {'pos': (17, 7), 'type': 'Table'}, {'pos': (9, 3), 'type': 'Table'}, {'pos': (3, 17), 'type': 'Table'}, {'pos': (11, 9), 'type': 'Table'}, {'pos': (13, 3), 'type': 'Table'}, {'pos': (15, 9), 'type': 'Table'}, {'pos': (7, 5), 'type': 'Table'}, {'pos': (1, 19), 'type': 'Table'}, {'pos': (3, 1), 'type': 'Table'}, {'pos': (5, 7), 'type': 'Table'}, {'pos': (17, 9), 'type': 'Table'}, {'pos': (9, 5), 'type': 'Table'}, {'pos': (3, 19), 'type': 'Table'}, {'pos': (1, 3), 'type': 'Table'}, {'pos': (13, 5), 'type': 'Table'}, {'pos': (15, 11), 'type': 'Table'}, {'pos': (7, 7), 'type': 'Table'}, {'pos': (3, 3), 'type': 'Table'}, {'pos': (5, 9), 'type': 'Table'}, {'pos': (17, 11), 'type': 'Table'}, {'pos': (9, 7), 'type': 'Table'}, {'pos': (1, 5), 'type': 'Table'}, {'pos': (13, 7), 'type': 'Table'}, {'pos': (15, 13), 'type': 'Table'}, {'pos': (7, 9), 'type': 'Table'}, {'pos': (3, 5), 'type': 'Table'}, {'pos': (5, 11), 'type': 'Table'}, {'pos': (9, 9), 'type': 'Table'}, {'pos': (19, 13), 'type': 'Table'}, {'pos': (1, 7), 'type': 'Table'}, {'pos': (13, 9), 'type': 'Table'}, {'pos': (7, 11), 'type': 'Table'}, {'pos': (3, 7), 'type': 'Table'}, {'pos': (5, 13), 'type': 'Table'}, {'pos': (19, 15), 'type': 'Table'}, {'pos': (1, 9), 'type': 'Table'}, {'pos': (11, 11), 'type': 'Table'}, {'pos': (13, 11), 'type': 'Table'}, {'pos': (3, 9), 'type': 'Table'}, {'pos': (19, 17), 'type': 'Table'}, {'pos': (1, 11), 'type': 'Table'}, {'pos': (11, 13), 'type': 'Table'}, {'pos': (3, 11), 'type': 'Table'}, {'pos': (19, 1), 'type': 'Table'}, {'pos': (17, 13), 'type': 'Table'}, {'pos': (19, 19), 'type': 'Table'}, {'pos': (1, 13), 'type': 'Table'}, {'pos': (11, 15), 'type': 'Table'}, {'pos': (15, 15), 'type': 'Table'}, {'pos': (19, 3), 'type': 'Table'}, {'pos': (17, 15), 'type': 'Table'}, {'pos': (9, 11), 'type': 'Table'}, {'pos': (11, 17), 'type': 'Table'}, {'pos': (15, 17), 'type': 'Table'}, {'pos': (7, 13), 'type': 'Table'}, {'pos': (19, 5), 'type': 'Table'}, {'pos': (11, 1), 'type': 'Table'}, {'pos': (5, 15), 'type': 'Table'}, {'pos': (17, 17), 'type': 'Table'}, {'pos': (9, 13), 'type': 'Table'}, {'pos': (11, 19), 'type': 'Table'}, {'pos': (15, 1), 'type': 'Table'}, {'pos': (13, 13), 'type': 'Table'}, {'pos': (15, 19), 'type': 'Table'}, {'pos': (7, 15), 'type': 'Table'}, {'pos': (17, 1), 'type': 'Table'}, {'pos': (19, 7), 'type': 'Table'}, {'pos': (1, 1), 'type': 'Table'}, {'pos': (11, 3), 'type': 'Table'}, {'pos': (5, 17), 'type': 'Table'}, {'pos': (17, 19), 'type': 'Table'}, {'pos': (9, 15), 'type': 'Table'}, {'pos': (15, 3), 'type': 'Table'}, {'pos': (13, 15), 'type': 'Table'}, {'pos': (12, 12), 'type': 'WaiterAgent'}, {'pos': (12, 12), 'type': 'WaiterAgent'}, {'pos': (12, 12), 'type': 'WaiterAgent'}, {'pos': (12, 12), 'type': 'WaiterAgent'}, {'pos': (12, 12), 'type': 'WaiterAgent'}, {'pos': (12, 12), 'type': 'WaiterAgent'}, {'pos': (12, 12), 'type': 'WaiterAgent'}, {'pos': (12, 12), 'type': 'WaiterAgent'}, {'pos': (12, 12), 'type': 'WaiterAgent'}, {'pos': (12, 12), 'type': 'WaiterAgent'}, {'pos': (17, 9), 'type': 'CustomerAgent'}, {'pos': (9, 13), 'type': 'CustomerAgent'}]}, {'RunId': 0, 'iteration': 0, 'Step': 3, 'n_waiters': 10, 'grid_width': 20, 'grid_height': 20, 'Customer_Count': 2, 'Average_Wait_Time': 5.0, 'Average_Customer_Satisfaction': 90.0, 'Profit': 0, 'Customer_Info': [{'customer_nr': 12, 'waiting_time': 5, 'order_status': 3, 'satisfaction': 90}, {'customer_nr': 13, 'waiting_time': 5, 'order_status': 3, 'satisfaction': 90}], 'Waiter_Info': [{'waiter_nr': 1, 'tips': 0, 'avg_rating': 0, 'served_customers': 0}, {'waiter_nr': 2, 'tips': 0, 'avg_rating': 0, 'served_customers': 0}, {'waiter_nr': 3, 'tips': 0, 'avg_rating': 0, 'served_customers': 0}, {'waiter_nr': 4, 'tips': 0, 'avg_rating': 0, 'served_customers': 0}, {'waiter_nr': 5, 'tips': 0, 'avg_rating': 0, 'served_customers': 0}, {'waiter_nr': 6, 'tips': 0, 'avg_rating': 0, 'served_customers': 2}, {'waiter_nr': 7, 'tips': 0, 'avg_rating': 0, 'served_customers': 0}, {'waiter_nr': 8, 'tips': 0, 'avg_rating': 0, 'served_customers': 0}, {'waiter_nr': 9, 'tips': 0, 'avg_rating': 0, 'served_customers': 0}, {'waiter_nr': 10, 'tips': 0, 'avg_rating': 0, 'served_customers': 0}], 'GridState': [{'pos': (12, 12), 'type': 'Kitchen'}, {'pos': (7, 17), 'type': 'Table'}, {'pos': (5, 1), 'type': 'Table'}, {'pos': (17, 3), 'type': 'Table'}, {'pos': (3, 13), 'type': 'Table'}, {'pos': (19, 9), 'type': 'Table'}, {'pos': (11, 5), 'type': 'Table'}, {'pos': (5, 19), 'type': 'Table'}, {'pos': (9, 17), 'type': 'Table'}, {'pos': (15, 5), 'type': 'Table'}, {'pos': (7, 1), 'type': 'Table'}, {'pos': (1, 15), 'type': 'Table'}, {'pos': (13, 17), 'type': 'Table'}, {'pos': (7, 19), 'type': 'Table'}, {'pos': (5, 3), 'type': 'Table'}, {'pos': (17, 5), 'type': 'Table'}, {'pos': (9, 1), 'type': 'Table'}, {'pos': (3, 15), 'type': 'Table'}, {'pos': (19, 11), 'type': 'Table'}, {'pos': (11, 7), 'type': 'Table'}, {'pos': (9, 19), 'type': 'Table'}, {'pos': (13, 1), 'type': 'Table'}, {'pos': (15, 7), 'type': 'Table'}, {'pos': (7, 3), 'type': 'Table'}, {'pos': (1, 17), 'type': 'Table'}, {'pos': (13, 19), 'type': 'Table'}, {'pos': (5, 5), 'type': 'Table'}, {'pos': (17, 7), 'type': 'Table'}, {'pos': (9, 3), 'type': 'Table'}, {'pos': (3, 17), 'type': 'Table'}, {'pos': (11, 9), 'type': 'Table'}, {'pos': (13, 3), 'type': 'Table'}, {'pos': (15, 9), 'type': 'Table'}, {'pos': (7, 5), 'type': 'Table'}, {'pos': (1, 19), 'type': 'Table'}, {'pos': (3, 1), 'type': 'Table'}, {'pos': (5, 7), 'type': 'Table'}, {'pos': (17, 9), 'type': 'Table'}, {'pos': (9, 5), 'type': 'Table'}, {'pos': (3, 19), 'type': 'Table'}, {'pos': (1, 3), 'type': 'Table'}, {'pos': (13, 5), 'type': 'Table'}, {'pos': (15, 11), 'type': 'Table'}, {'pos': (7, 7), 'type': 'Table'}, {'pos': (3, 3), 'type': 'Table'}, {'pos': (5, 9), 'type': 'Table'}, {'pos': (17, 11), 'type': 'Table'}, {'pos': (9, 7), 'type': 'Table'}, {'pos': (1, 5), 'type': 'Table'}, {'pos': (13, 7), 'type': 'Table'}, {'pos': (15, 13), 'type': 'Table'}, {'pos': (7, 9), 'type': 'Table'}, {'pos': (3, 5), 'type': 'Table'}, {'pos': (5, 11), 'type': 'Table'}, {'pos': (9, 9), 'type': 'Table'}, {'pos': (19, 13), 'type': 'Table'}, {'pos': (1, 7), 'type': 'Table'}, {'pos': (13, 9), 'type': 'Table'}, {'pos': (7, 11), 'type': 'Table'}, {'pos': (3, 7), 'type': 'Table'}, {'pos': (5, 13), 'type': 'Table'}, {'pos': (19, 15), 'type': 'Table'}, {'pos': (1, 9), 'type': 'Table'}, {'pos': (11, 11), 'type': 'Table'}, {'pos': (13, 11), 'type': 'Table'}, {'pos': (3, 9), 'type': 'Table'}, {'pos': (19, 17), 'type': 'Table'}, {'pos': (1, 11), 'type': 'Table'}, {'pos': (11, 13), 'type': 'Table'}, {'pos': (3, 11), 'type': 'Table'}, {'pos': (19, 1), 'type': 'Table'}, {'pos': (17, 13), 'type': 'Table'}, {'pos': (19, 19), 'type': 'Table'}, {'pos': (1, 13), 'type': 'Table'}, {'pos': (11, 15), 'type': 'Table'}, {'pos': (15, 15), 'type': 'Table'}, {'pos': (19, 3), 'type': 'Table'}, {'pos': (17, 15), 'type': 'Table'}, {'pos': (9, 11), 'type': 'Table'}, {'pos': (11, 17), 'type': 'Table'}, {'pos': (15, 17), 'type': 'Table'}, {'pos': (7, 13), 'type': 'Table'}, {'pos': (19, 5), 'type': 'Table'}, {'pos': (11, 1), 'type': 'Table'}, {'pos': (5, 15), 'type': 'Table'}, {'pos': (17, 17), 'type': 'Table'}, {'pos': (9, 13), 'type': 'Table'}, {'pos': (11, 19), 'type': 'Table'}, {'pos': (15, 1), 'type': 'Table'}, {'pos': (13, 13), 'type': 'Table'}, {'pos': (15, 19), 'type': 'Table'}, {'pos': (7, 15), 'type': 'Table'}, {'pos': (17, 1), 'type': 'Table'}, {'pos': (19, 7), 'type': 'Table'}, {'pos': (1, 1), 'type': 'Table'}, {'pos': (11, 3), 'type': 'Table'}, {'pos': (5, 17), 'type': 'Table'}, {'pos': (17, 19), 'type': 'Table'}, {'pos': (9, 15), 'type': 'Table'}, {'pos': (15, 3), 'type': 'Table'}, {'pos': (13, 15), 'type': 'Table'}, {'pos': (12, 12), 'type': 'WaiterAgent'}, {'pos': (12, 12), 'type': 'WaiterAgent'}, {'pos': (12, 12), 'type': 'WaiterAgent'}, {'pos': (12, 12), 'type': 'WaiterAgent'}, {'pos': (12, 12), 'type': 'WaiterAgent'}, {'pos': (9, 12), 'type': 'WaiterAgent'}, {'pos': (12, 12), 'type': 'WaiterAgent'}, {'pos': (12, 12), 'type': 'WaiterAgent'}, {'pos': (12, 12), 'type': 'WaiterAgent'}, {'pos': (12, 12), 'type': 'WaiterAgent'}, {'pos': (17, 9), 'type': 'CustomerAgent'}, {'pos': (9, 13), 'type': 'CustomerAgent'}]}, {'RunId': 0, 'iteration': 0, 'Step': 4, 'n_waiters': 10, 'grid_width': 20, 'grid_height': 20, 'Customer_Count': 2, 'Average_Wait_Time': 5.0, 'Average_Customer_Satisfaction': 90.0, 'Profit': 0, 'Customer_Info': [{'customer_nr': 12, 'waiting_time': 5, 'order_status': 3, 'satisfaction': 90}, {'customer_nr': 13, 'waiting_time': 5, 'order_status': 3, 'satisfaction': 90}], 'Waiter_Info': [{'waiter_nr': 1, 'tips': 0, 'avg_rating': 0, 'served_customers': 0}, {'waiter_nr': 2, 'tips': 0, 'avg_rating': 0, 'served_customers': 0}, {'waiter_nr': 3, 'tips': 0, 'avg_rating': 0, 'served_customers': 0}, {'waiter_nr': 4, 'tips': 0, 'avg_rating': 0, 'served_customers': 0}, {'waiter_nr': 5, 'tips': 0, 'avg_rating': 0, 'served_customers': 0}, {'waiter_nr': 6, 'tips': 0, 'avg_rating': 0, 'served_customers': 2}, {'waiter_nr': 7, 'tips': 0, 'avg_rating': 0, 'served_customers': 0}, {'waiter_nr': 8, 'tips': 0, 'avg_rating': 0, 'served_customers': 0}, {'waiter_nr': 9, 'tips': 0, 'avg_rating': 0, 'served_customers': 0}, {'waiter_nr': 10, 'tips': 0, 'avg_rating': 0, 'served_customers': 0}], 'GridState': [{'pos': (12, 12), 'type': 'Kitchen'}, {'pos': (7, 17), 'type': 'Table'}, {'pos': (5, 1), 'type': 'Table'}, {'pos': (17, 3), 'type': 'Table'}, {'pos': (3, 13), 'type': 'Table'}, {'pos': (19, 9), 'type': 'Table'}, {'pos': (11, 5), 'type': 'Table'}, {'pos': (5, 19), 'type': 'Table'}, {'pos': (9, 17), 'type': 'Table'}, {'pos': (15, 5), 'type': 'Table'}, {'pos': (7, 1), 'type': 'Table'}, {'pos': (1, 15), 'type': 'Table'}, {'pos': (13, 17), 'type': 'Table'}, {'pos': (7, 19), 'type': 'Table'}, {'pos': (5, 3), 'type': 'Table'}, {'pos': (17, 5), 'type': 'Table'}, {'pos': (9, 1), 'type': 'Table'}, {'pos': (3, 15), 'type': 'Table'}, {'pos': (19, 11), 'type': 'Table'}, {'pos': (11, 7), 'type': 'Table'}, {'pos': (9, 19), 'type': 'Table'}, {'pos': (13, 1), 'type': 'Table'}, {'pos': (15, 7), 'type': 'Table'}, {'pos': (7, 3), 'type': 'Table'}, {'pos': (1, 17), 'type': 'Table'}, {'pos': (13, 19), 'type': 'Table'}, {'pos': (5, 5), 'type': 'Table'}, {'pos': (17, 7), 'type': 'Table'}, {'pos': (9, 3), 'type': 'Table'}, {'pos': (3, 17), 'type': 'Table'}, {'pos': (11, 9), 'type': 'Table'}, {'pos': (13, 3), 'type': 'Table'}, {'pos': (15, 9), 'type': 'Table'}, {'pos': (7, 5), 'type': 'Table'}, {'pos': (1, 19), 'type': 'Table'}, {'pos': (3, 1), 'type': 'Table'}, {'pos': (5, 7), 'type': 'Table'}, {'pos': (17, 9), 'type': 'Table'}, {'pos': (9, 5), 'type': 'Table'}, {'pos': (3, 19), 'type': 'Table'}, {'pos': (1, 3), 'type': 'Table'}, {'pos': (13, 5), 'type': 'Table'}, {'pos': (15, 11), 'type': 'Table'}, {'pos': (7, 7), 'type': 'Table'}, {'pos': (3, 3), 'type': 'Table'}, {'pos': (5, 9), 'type': 'Table'}, {'pos': (17, 11), 'type': 'Table'}, {'pos': (9, 7), 'type': 'Table'}, {'pos': (1, 5), 'type': 'Table'}, {'pos': (13, 7), 'type': 'Table'}, {'pos': (15, 13), 'type': 'Table'}, {'pos': (7, 9), 'type': 'Table'}, {'pos': (3, 5), 'type': 'Table'}, {'pos': (5, 11), 'type': 'Table'}, {'pos': (9, 9), 'type': 'Table'}, {'pos': (19, 13), 'type': 'Table'}, {'pos': (1, 7), 'type': 'Table'}, {'pos': (13, 9), 'type': 'Table'}, {'pos': (7, 11), 'type': 'Table'}, {'pos': (3, 7), 'type': 'Table'}, {'pos': (5, 13), 'type': 'Table'}, {'pos': (19, 15), 'type': 'Table'}, {'pos': (1, 9), 'type': 'Table'}, {'pos': (11, 11), 'type': 'Table'}, {'pos': (13, 11), 'type': 'Table'}, {'pos': (3, 9), 'type': 'Table'}, {'pos': (19, 17), 'type': 'Table'}, {'pos': (1, 11), 'type': 'Table'}, {'pos': (11, 13), 'type': 'Table'}, {'pos': (3, 11), 'type': 'Table'}, {'pos': (19, 1), 'type': 'Table'}, {'pos': (17, 13), 'type': 'Table'}, {'pos': (19, 19), 'type': 'Table'}, {'pos': (1, 13), 'type': 'Table'}, {'pos': (11, 15), 'type': 'Table'}, {'pos': (15, 15), 'type': 'Table'}, {'pos': (19, 3), 'type': 'Table'}, {'pos': (17, 15), 'type': 'Table'}, {'pos': (9, 11), 'type': 'Table'}, {'pos': (11, 17), 'type': 'Table'}, {'pos': (15, 17), 'type': 'Table'}, {'pos': (7, 13), 'type': 'Table'}, {'pos': (19, 5), 'type': 'Table'}, {'pos': (11, 1), 'type': 'Table'}, {'pos': (5, 15), 'type': 'Table'}, {'pos': (17, 17), 'type': 'Table'}, {'pos': (9, 13), 'type': 'Table'}, {'pos': (11, 19), 'type': 'Table'}, {'pos': (15, 1), 'type': 'Table'}, {'pos': (13, 13), 'type': 'Table'}, {'pos': (15, 19), 'type': 'Table'}, {'pos': (7, 15), 'type': 'Table'}, {'pos': (17, 1), 'type': 'Table'}, {'pos': (19, 7), 'type': 'Table'}, {'pos': (1, 1), 'type': 'Table'}, {'pos': (11, 3), 'type': 'Table'}, {'pos': (5, 17), 'type': 'Table'}, {'pos': (17, 19), 'type': 'Table'}, {'pos': (9, 15), 'type': 'Table'}, {'pos': (15, 3), 'type': 'Table'}, {'pos': (13, 15), 'type': 'Table'}, {'pos': (12, 12), 'type': 'WaiterAgent'}, {'pos': (12, 12), 'type': 'WaiterAgent'}, {'pos': (12, 12), 'type': 'WaiterAgent'}, {'pos': (12, 12), 'type': 'WaiterAgent'}, {'pos': (12, 12), 'type': 'WaiterAgent'}, {'pos': (12, 12), 'type': 'WaiterAgent'}, {'pos': (12, 12), 'type': 'WaiterAgent'}, {'pos': (12, 12), 'type': 'WaiterAgent'}, {'pos': (12, 12), 'type': 'WaiterAgent'}, {'pos': (12, 12), 'type': 'WaiterAgent'}, {'pos': (17, 9), 'type': 'CustomerAgent'}, {'pos': (9, 13), 'type': 'CustomerAgent'}]}, {'RunId': 0, 'iteration': 0, 'Step': 5, 'n_waiters': 10, 'grid_width': 20, 'grid_height': 20, 'Customer_Count': 4, 'Average_Wait_Time': 2.5, 'Average_Customer_Satisfaction': 95.0, 'Profit': 0, 'Customer_Info': [{'customer_nr': 12, 'waiting_time': 5, 'order_status': 3, 'satisfaction': 90}, {'customer_nr': 13, 'waiting_time': 5, 'order_status': 3, 'satisfaction': 90}, {'customer_nr': 14, 'waiting_time': 0, 'order_status': 1, 'satisfaction': 100}, {'customer_nr': 15, 'waiting_time': 0, 'order_status': 1, 'satisfaction': 100}], 'Waiter_Info': [{'waiter_nr': 1, 'tips': 0, 'avg_rating': 0, 'served_customers': 0}, {'waiter_nr': 2, 'tips': 0, 'avg_rating': 0, 'served_customers': 0}, {'waiter_nr': 3, 'tips': 0, 'avg_rating': 0, 'served_customers': 0}, {'waiter_nr': 4, 'tips': 0, 'avg_rating': 0, 'served_customers': 0}, {'waiter_nr': 5, 'tips': 0, 'avg_rating': 0, 'served_customers': 0}, {'waiter_nr': 6, 'tips': 0, 'avg_rating': 0, 'served_customers': 2}, {'waiter_nr': 7, 'tips': 0, 'avg_rating': 0, 'served_customers': 0}, {'waiter_nr': 8, 'tips': 0, 'avg_rating': 0, 'served_customers': 0}, {'waiter_nr': 9, 'tips': 0, 'avg_rating': 0, 'served_customers': 0}, {'waiter_nr': 10, 'tips': 0, 'avg_rating': 0, 'served_customers': 0}], 'GridState': [{'pos': (12, 12), 'type': 'Kitchen'}, {'pos': (7, 17), 'type': 'Table'}, {'pos': (5, 1), 'type': 'Table'}, {'pos': (17, 3), 'type': 'Table'}, {'pos': (3, 13), 'type': 'Table'}, {'pos': (19, 9), 'type': 'Table'}, {'pos': (11, 5), 'type': 'Table'}, {'pos': (5, 19), 'type': 'Table'}, {'pos': (9, 17), 'type': 'Table'}, {'pos': (15, 5), 'type': 'Table'}, {'pos': (7, 1), 'type': 'Table'}, {'pos': (1, 15), 'type': 'Table'}, {'pos': (13, 17), 'type': 'Table'}, {'pos': (7, 19), 'type': 'Table'}, {'pos': (5, 3), 'type': 'Table'}, {'pos': (17, 5), 'type': 'Table'}, {'pos': (9, 1), 'type': 'Table'}, {'pos': (3, 15), 'type': 'Table'}, {'pos': (19, 11), 'type': 'Table'}, {'pos': (11, 7), 'type': 'Table'}, {'pos': (9, 19), 'type': 'Table'}, {'pos': (13, 1), 'type': 'Table'}, {'pos': (15, 7), 'type': 'Table'}, {'pos': (7, 3), 'type': 'Table'}, {'pos': (1, 17), 'type': 'Table'}, {'pos': (13, 19), 'type': 'Table'}, {'pos': (5, 5), 'type': 'Table'}, {'pos': (17, 7), 'type': 'Table'}, {'pos': (9, 3), 'type': 'Table'}, {'pos': (3, 17), 'type': 'Table'}, {'pos': (11, 9), 'type': 'Table'}, {'pos': (13, 3), 'type': 'Table'}, {'pos': (15, 9), 'type': 'Table'}, {'pos': (7, 5), 'type': 'Table'}, {'pos': (1, 19), 'type': 'Table'}, {'pos': (3, 1), 'type': 'Table'}, {'pos': (5, 7), 'type': 'Table'}, {'pos': (17, 9), 'type': 'Table'}, {'pos': (9, 5), 'type': 'Table'}, {'pos': (3, 19), 'type': 'Table'}, {'pos': (1, 3), 'type': 'Table'}, {'pos': (13, 5), 'type': 'Table'}, {'pos': (15, 11), 'type': 'Table'}, {'pos': (7, 7), 'type': 'Table'}, {'pos': (3, 3), 'type': 'Table'}, {'pos': (5, 9), 'type': 'Table'}, {'pos': (17, 11), 'type': 'Table'}, {'pos': (9, 7), 'type': 'Table'}, {'pos': (1, 5), 'type': 'Table'}, {'pos': (13, 7), 'type': 'Table'}, {'pos': (15, 13), 'type': 'Table'}, {'pos': (7, 9), 'type': 'Table'}, {'pos': (3, 5), 'type': 'Table'}, {'pos': (5, 11), 'type': 'Table'}, {'pos': (9, 9), 'type': 'Table'}, {'pos': (19, 13), 'type': 'Table'}, {'pos': (1, 7), 'type': 'Table'}, {'pos': (13, 9), 'type': 'Table'}, {'pos': (7, 11), 'type': 'Table'}, {'pos': (3, 7), 'type': 'Table'}, {'pos': (5, 13), 'type': 'Table'}, {'pos': (19, 15), 'type': 'Table'}, {'pos': (1, 9), 'type': 'Table'}, {'pos': (11, 11), 'type': 'Table'}, {'pos': (13, 11), 'type': 'Table'}, {'pos': (3, 9), 'type': 'Table'}, {'pos': (19, 17), 'type': 'Table'}, {'pos': (1, 11), 'type': 'Table'}, {'pos': (11, 13), 'type': 'Table'}, {'pos': (3, 11), 'type': 'Table'}, {'pos': (19, 1), 'type': 'Table'}, {'pos': (17, 13), 'type': 'Table'}, {'pos': (19, 19), 'type': 'Table'}, {'pos': (1, 13), 'type': 'Table'}, {'pos': (11, 15), 'type': 'Table'}, {'pos': (15, 15), 'type': 'Table'}, {'pos': (19, 3), 'type': 'Table'}, {'pos': (17, 15), 'type': 'Table'}, {'pos': (9, 11), 'type': 'Table'}, {'pos': (11, 17), 'type': 'Table'}, {'pos': (15, 17), 'type': 'Table'}, {'pos': (7, 13), 'type': 'Table'}, {'pos': (19, 5), 'type': 'Table'}, {'pos': (11, 1), 'type': 'Table'}, {'pos': (5, 15), 'type': 'Table'}, {'pos': (17, 17), 'type': 'Table'}, {'pos': (9, 13), 'type': 'Table'}, {'pos': (11, 19), 'type': 'Table'}, {'pos': (15, 1), 'type': 'Table'}, {'pos': (13, 13), 'type': 'Table'}, {'pos': (15, 19), 'type': 'Table'}, {'pos': (7, 15), 'type': 'Table'}, {'pos': (17, 1), 'type': 'Table'}, {'pos': (19, 7), 'type': 'Table'}, {'pos': (1, 1), 'type': 'Table'}, {'pos': (11, 3), 'type': 'Table'}, {'pos': (5, 17), 'type': 'Table'}, {'pos': (17, 19), 'type': 'Table'}, {'pos': (9, 15), 'type': 'Table'}, {'pos': (15, 3), 'type': 'Table'}, {'pos': (13, 15), 'type': 'Table'}, {'pos': (12, 12), 'type': 'WaiterAgent'}, {'pos': (12, 12), 'type': 'WaiterAgent'}, {'pos': (12, 12), 'type': 'WaiterAgent'}, {'pos': (12, 12), 'type': 'WaiterAgent'}, {'pos': (12, 12), 'type': 'WaiterAgent'}, {'pos': (12, 12), 'type': 'WaiterAgent'}, {'pos': (12, 12), 'type': 'WaiterAgent'}, {'pos': (12, 12), 'type': 'WaiterAgent'}, {'pos': (12, 12), 'type': 'WaiterAgent'}, {'pos': (12, 12), 'type': 'WaiterAgent'}, {'pos': (17, 9), 'type': 'CustomerAgent'}, {'pos': (9, 13), 'type': 'CustomerAgent'}, {'pos': (3, 11), 'type': 'CustomerAgent'}, {'pos': (5, 3), 'type': 'CustomerAgent'}]}, {'RunId': 0, 'iteration': 0, 'Step': 6, 'n_waiters': 10, 'grid_width': 20, 'grid_height': 20, 'Customer_Count': 4, 'Average_Wait_Time': 5.0, 'Average_Customer_Satisfaction': 90.0, 'Profit': 0, 'Customer_Info': [{'customer_nr': 12, 'waiting_time': 5, 'order_status': 3, 'satisfaction': 90}, {'customer_nr': 13, 'waiting_time': 5, 'order_status': 3, 'satisfaction': 90}, {'customer_nr': 14, 'waiting_time': 5, 'order_status': 1, 'satisfaction': 90}, {'customer_nr': 15, 'waiting_time': 5, 'order_status': 1, 'satisfaction': 90}], 'Waiter_Info': [{'waiter_nr': 1, 'tips': 0, 'avg_rating': 0, 'served_customers': 0}, {'waiter_nr': 2, 'tips': 0, 'avg_rating': 0, 'served_customers': 0}, {'waiter_nr': 3, 'tips': 0, 'avg_rating': 0, 'served_customers': 0}, {'waiter_nr': 4, 'tips': 0, 'avg_rating': 0, 'served_customers': 0}, {'waiter_nr': 5, 'tips': 0, 'avg_rating': 0, 'served_customers': 0}, {'waiter_nr': 6, 'tips': 0, 'avg_rating': 0, 'served_customers': 2}, {'waiter_nr': 7, 'tips': 0, 'avg_rating': 0, 'served_customers': 0}, {'waiter_nr': 8, 'tips': 0, 'avg_rating': 0, 'served_customers': 0}, {'waiter_nr': 9, 'tips': 0, 'avg_rating': 0, 'served_customers': 0}, {'waiter_nr': 10, 'tips': 0, 'avg_rating': 0, 'served_customers': 0}], 'GridState': [{'pos': (12, 12), 'type': 'Kitchen'}, {'pos': (7, 17), 'type': 'Table'}, {'pos': (5, 1), 'type': 'Table'}, {'pos': (17, 3), 'type': 'Table'}, {'pos': (3, 13), 'type': 'Table'}, {'pos': (19, 9), 'type': 'Table'}, {'pos': (11, 5), 'type': 'Table'}, {'pos': (5, 19), 'type': 'Table'}, {'pos': (9, 17), 'type': 'Table'}, {'pos': (15, 5), 'type': 'Table'}, {'pos': (7, 1), 'type': 'Table'}, {'pos': (1, 15), 'type': 'Table'}, {'pos': (13, 17), 'type': 'Table'}, {'pos': (7, 19), 'type': 'Table'}, {'pos': (5, 3), 'type': 'Table'}, {'pos': (17, 5), 'type': 'Table'}, {'pos': (9, 1), 'type': 'Table'}, {'pos': (3, 15), 'type': 'Table'}, {'pos': (19, 11), 'type': 'Table'}, {'pos': (11, 7), 'type': 'Table'}, {'pos': (9, 19), 'type': 'Table'}, {'pos': (13, 1), 'type': 'Table'}, {'pos': (15, 7), 'type': 'Table'}, {'pos': (7, 3), 'type': 'Table'}, {'pos': (1, 17), 'type': 'Table'}, {'pos': (13, 19), 'type': 'Table'}, {'pos': (5, 5), 'type': 'Table'}, {'pos': (17, 7), 'type': 'Table'}, {'pos': (9, 3), 'type': 'Table'}, {'pos': (3, 17), 'type': 'Table'}, {'pos': (11, 9), 'type': 'Table'}, {'pos': (13, 3), 'type': 'Table'}, {'pos': (15, 9), 'type': 'Table'}, {'pos': (7, 5), 'type': 'Table'}, {'pos': (1, 19), 'type': 'Table'}, {'pos': (3, 1), 'type': 'Table'}, {'pos': (5, 7), 'type': 'Table'}, {'pos': (17, 9), 'type': 'Table'}, {'pos': (9, 5), 'type': 'Table'}, {'pos': (3, 19), 'type': 'Table'}, {'pos': (1, 3), 'type': 'Table'}, {'pos': (13, 5), 'type': 'Table'}, {'pos': (15, 11), 'type': 'Table'}, {'pos': (7, 7), 'type': 'Table'}, {'pos': (3, 3), 'type': 'Table'}, {'pos': (5, 9), 'type': 'Table'}, {'pos': (17, 11), 'type': 'Table'}, {'pos': (9, 7), 'type': 'Table'}, {'pos': (1, 5), 'type': 'Table'}, {'pos': (13, 7), 'type': 'Table'}, {'pos': (15, 13), 'type': 'Table'}, {'pos': (7, 9), 'type': 'Table'}, {'pos': (3, 5), 'type': 'Table'}, {'pos': (5, 11), 'type': 'Table'}, {'pos': (9, 9), 'type': 'Table'}, {'pos': (19, 13), 'type': 'Table'}, {'pos': (1, 7), 'type': 'Table'}, {'pos': (13, 9), 'type': 'Table'}, {'pos': (7, 11), 'type': 'Table'}, {'pos': (3, 7), 'type': 'Table'}, {'pos': (5, 13), 'type': 'Table'}, {'pos': (19, 15), 'type': 'Table'}, {'pos': (1, 9), 'type': 'Table'}, {'pos': (11, 11), 'type': 'Table'}, {'pos': (13, 11), 'type': 'Table'}, {'pos': (3, 9), 'type': 'Table'}, {'pos': (19, 17), 'type': 'Table'}, {'pos': (1, 11), 'type': 'Table'}, {'pos': (11, 13), 'type': 'Table'}, {'pos': (3, 11), 'type': 'Table'}, {'pos': (19, 1), 'type': 'Table'}, {'pos': (17, 13), 'type': 'Table'}, {'pos': (19, 19), 'type': 'Table'}, {'pos': (1, 13), 'type': 'Table'}, {'pos': (11, 15), 'type': 'Table'}, {'pos': (15, 15), 'type': 'Table'}, {'pos': (19, 3), 'type': 'Table'}, {'pos': (17, 15), 'type': 'Table'}, {'pos': (9, 11), 'type': 'Table'}, {'pos': (11, 17), 'type': 'Table'}, {'pos': (15, 17), 'type': 'Table'}, {'pos': (7, 13), 'type': 'Table'}, {'pos': (19, 5), 'type': 'Table'}, {'pos': (11, 1), 'type': 'Table'}, {'pos': (5, 15), 'type': 'Table'}, {'pos': (17, 17), 'type': 'Table'}, {'pos': (9, 13), 'type': 'Table'}, {'pos': (11, 19), 'type': 'Table'}, {'pos': (15, 1), 'type': 'Table'}, {'pos': (13, 13), 'type': 'Table'}, {'pos': (15, 19), 'type': 'Table'}, {'pos': (7, 15), 'type': 'Table'}, {'pos': (17, 1), 'type': 'Table'}, {'pos': (19, 7), 'type': 'Table'}, {'pos': (1, 1), 'type': 'Table'}, {'pos': (11, 3), 'type': 'Table'}, {'pos': (5, 17), 'type': 'Table'}, {'pos': (17, 19), 'type': 'Table'}, {'pos': (9, 15), 'type': 'Table'}, {'pos': (15, 3), 'type': 'Table'}, {'pos': (13, 15), 'type': 'Table'}, {'pos': (12, 12), 'type': 'WaiterAgent'}, {'pos': (12, 12), 'type': 'WaiterAgent'}, {'pos': (12, 12), 'type': 'WaiterAgent'}, {'pos': (12, 12), 'type': 'WaiterAgent'}, {'pos': (12, 12), 'type': 'WaiterAgent'}, {'pos': (12, 12), 'type': 'WaiterAgent'}, {'pos': (12, 12), 'type': 'WaiterAgent'}, {'pos': (12, 12), 'type': 'WaiterAgent'}, {'pos': (12, 12), 'type': 'WaiterAgent'}, {'pos': (12, 12), 'type': 'WaiterAgent'}, {'pos': (17, 9), 'type': 'CustomerAgent'}, {'pos': (9, 13), 'type': 'CustomerAgent'}, {'pos': (3, 11), 'type': 'CustomerAgent'}, {'pos': (5, 3), 'type': 'CustomerAgent'}]}, {'RunId': 0, 'iteration': 0, 'Step': 7, 'n_waiters': 10, 'grid_width': 20, 'grid_height': 20, 'Customer_Count': 4, 'Average_Wait_Time': 5.0, 'Average_Customer_Satisfaction': 90.0, 'Profit': 0, 'Customer_Info': [{'customer_nr': 12, 'waiting_time': 5, 'order_status': 3, 'satisfaction': 90}, {'customer_nr': 13, 'waiting_time': 5, 'order_status': 3, 'satisfaction': 90}, {'customer_nr': 14, 'waiting_time': 5, 'order_status': 3, 'satisfaction': 90}, {'customer_nr': 15, 'waiting_time': 5, 'order_status': 3, 'satisfaction': 90}], 'Waiter_Info': [{'waiter_nr': 1, 'tips': 0, 'avg_rating': 0, 'served_customers': 0}, {'waiter_nr': 2, 'tips': 0, 'avg_rating': 0, 'served_customers': 2}, {'waiter_nr': 3, 'tips': 0, 'avg_rating': 0, 'served_customers': 0}, {'waiter_nr': 4, 'tips': 0, 'avg_rating': 0, 'served_customers': 0}, {'waiter_nr': 5, 'tips': 0, 'avg_rating': 0, 'served_customers': 0}, {'waiter_nr': 6, 'tips': 0, 'avg_rating': 0, 'served_customers': 2}, {'waiter_nr': 7, 'tips': 0, 'avg_rating': 0, 'served_customers': 0}, {'waiter_nr': 8, 'tips': 0, 'avg_rating': 0, 'served_customers': 0}, {'waiter_nr': 9, 'tips': 0, 'avg_rating': 0, 'served_customers': 0}, {'waiter_nr': 10, 'tips': 0, 'avg_rating': 0, 'served_customers': 0}], 'GridState': [{'pos': (12, 12), 'type': 'Kitchen'}, {'pos': (7, 17), 'type': 'Table'}, {'pos': (5, 1), 'type': 'Table'}, {'pos': (17, 3), 'type': 'Table'}, {'pos': (3, 13), 'type': 'Table'}, {'pos': (19, 9), 'type': 'Table'}, {'pos': (11, 5), 'type': 'Table'}, {'pos': (5, 19), 'type': 'Table'}, {'pos': (9, 17), 'type': 'Table'}, {'pos': (15, 5), 'type': 'Table'}, {'pos': (7, 1), 'type': 'Table'}, {'pos': (1, 15), 'type': 'Table'}, {'pos': (13, 17), 'type': 'Table'}, {'pos': (7, 19), 'type': 'Table'}, {'pos': (5, 3), 'type': 'Table'}, {'pos': (17, 5), 'type': 'Table'}, {'pos': (9, 1), 'type': 'Table'}, {'pos': (3, 15), 'type': 'Table'}, {'pos': (19, 11), 'type': 'Table'}, {'pos': (11, 7), 'type': 'Table'}, {'pos': (9, 19), 'type': 'Table'}, {'pos': (13, 1), 'type': 'Table'}, {'pos': (15, 7), 'type': 'Table'}, {'pos': (7, 3), 'type': 'Table'}, {'pos': (1, 17), 'type': 'Table'}, {'pos': (13, 19), 'type': 'Table'}, {'pos': (5, 5), 'type': 'Table'}, {'pos': (17, 7), 'type': 'Table'}, {'pos': (9, 3), 'type': 'Table'}, {'pos': (3, 17), 'type': 'Table'}, {'pos': (11, 9), 'type': 'Table'}, {'pos': (13, 3), 'type': 'Table'}, {'pos': (15, 9), 'type': 'Table'}, {'pos': (7, 5), 'type': 'Table'}, {'pos': (1, 19), 'type': 'Table'}, {'pos': (3, 1), 'type': 'Table'}, {'pos': (5, 7), 'type': 'Table'}, {'pos': (17, 9), 'type': 'Table'}, {'pos': (9, 5), 'type': 'Table'}, {'pos': (3, 19), 'type': 'Table'}, {'pos': (1, 3), 'type': 'Table'}, {'pos': (13, 5), 'type': 'Table'}, {'pos': (15, 11), 'type': 'Table'}, {'pos': (7, 7), 'type': 'Table'}, {'pos': (3, 3), 'type': 'Table'}, {'pos': (5, 9), 'type': 'Table'}, {'pos': (17, 11), 'type': 'Table'}, {'pos': (9, 7), 'type': 'Table'}, {'pos': (1, 5), 'type': 'Table'}, {'pos': (13, 7), 'type': 'Table'}, {'pos': (15, 13), 'type': 'Table'}, {'pos': (7, 9), 'type': 'Table'}, {'pos': (3, 5), 'type': 'Table'}, {'pos': (5, 11), 'type': 'Table'}, {'pos': (9, 9), 'type': 'Table'}, {'pos': (19, 13), 'type': 'Table'}, {'pos': (1, 7), 'type': 'Table'}, {'pos': (13, 9), 'type': 'Table'}, {'pos': (7, 11), 'type': 'Table'}, {'pos': (3, 7), 'type': 'Table'}, {'pos': (5, 13), 'type': 'Table'}, {'pos': (19, 15), 'type': 'Table'}, {'pos': (1, 9), 'type': 'Table'}, {'pos': (11, 11), 'type': 'Table'}, {'pos': (13, 11), 'type': 'Table'}, {'pos': (3, 9), 'type': 'Table'}, {'pos': (19, 17), 'type': 'Table'}, {'pos': (1, 11), 'type': 'Table'}, {'pos': (11, 13), 'type': 'Table'}, {'pos': (3, 11), 'type': 'Table'}, {'pos': (19, 1), 'type': 'Table'}, {'pos': (17, 13), 'type': 'Table'}, {'pos': (19, 19), 'type': 'Table'}, {'pos': (1, 13), 'type': 'Table'}, {'pos': (11, 15), 'type': 'Table'}, {'pos': (15, 15), 'type': 'Table'}, {'pos': (19, 3), 'type': 'Table'}, {'pos': (17, 15), 'type': 'Table'}, {'pos': (9, 11), 'type': 'Table'}, {'pos': (11, 17), 'type': 'Table'}, {'pos': (15, 17), 'type': 'Table'}, {'pos': (7, 13), 'type': 'Table'}, {'pos': (19, 5), 'type': 'Table'}, {'pos': (11, 1), 'type': 'Table'}, {'pos': (5, 15), 'type': 'Table'}, {'pos': (17, 17), 'type': 'Table'}, {'pos': (9, 13), 'type': 'Table'}, {'pos': (11, 19), 'type': 'Table'}, {'pos': (15, 1), 'type': 'Table'}, {'pos': (13, 13), 'type': 'Table'}, {'pos': (15, 19), 'type': 'Table'}, {'pos': (7, 15), 'type': 'Table'}, {'pos': (17, 1), 'type': 'Table'}, {'pos': (19, 7), 'type': 'Table'}, {'pos': (1, 1), 'type': 'Table'}, {'pos': (11, 3), 'type': 'Table'}, {'pos': (5, 17), 'type': 'Table'}, {'pos': (17, 19), 'type': 'Table'}, {'pos': (9, 15), 'type': 'Table'}, {'pos': (15, 3), 'type': 'Table'}, {'pos': (13, 15), 'type': 'Table'}, {'pos': (12, 12), 'type': 'WaiterAgent'}, {'pos': (4, 3), 'type': 'WaiterAgent'}, {'pos': (12, 12), 'type': 'WaiterAgent'}, {'pos': (12, 12), 'type': 'WaiterAgent'}, {'pos': (12, 12), 'type': 'WaiterAgent'}, {'pos': (12, 12), 'type': 'WaiterAgent'}, {'pos': (12, 12), 'type': 'WaiterAgent'}, {'pos': (12, 12), 'type': 'WaiterAgent'}, {'pos': (12, 12), 'type': 'WaiterAgent'}, {'pos': (12, 12), 'type': 'WaiterAgent'}, {'pos': (17, 9), 'type': 'CustomerAgent'}, {'pos': (9, 13), 'type': 'CustomerAgent'}, {'pos': (3, 11), 'type': 'CustomerAgent'}, {'pos': (5, 3), 'type': 'CustomerAgent'}]}, {'RunId': 0, 'iteration': 0, 'Step': 8, 'n_waiters': 10, 'grid_width': 20, 'grid_height': 20, 'Customer_Count': 4, 'Average_Wait_Time': 5.0, 'Average_Customer_Satisfaction': 90.0, 'Profit': 0, 'Customer_Info': [{'customer_nr': 12, 'waiting_time': 5, 'order_status': 3, 'satisfaction': 90}, {'customer_nr': 13, 'waiting_time': 5, 'order_status': 3, 'satisfaction': 90}, {'customer_nr': 14, 'waiting_time': 5, 'order_status': 3, 'satisfaction': 90}, {'customer_nr': 15, 'waiting_time': 5, 'order_status': 3, 'satisfaction': 90}], 'Waiter_Info': [{'waiter_nr': 1, 'tips': 0, 'avg_rating': 0, 'served_customers': 0}, {'waiter_nr': 2, 'tips': 0, 'avg_rating': 0, 'served_customers': 2}, {'waiter_nr': 3, 'tips': 0, 'avg_rating': 0, 'served_customers': 0}, {'waiter_nr': 4, 'tips': 0, 'avg_rating': 0, 'served_customers': 0}, {'waiter_nr': 5, 'tips': 0, 'avg_rating': 0, 'served_customers': 0}, {'waiter_nr': 6, 'tips': 0, 'avg_rating': 0, 'served_customers': 2}, {'waiter_nr': 7, 'tips': 0, 'avg_rating': 0, 'served_customers': 0}, {'waiter_nr': 8, 'tips': 0, 'avg_rating': 0, 'served_customers': 0}, {'waiter_nr': 9, 'tips': 0, 'avg_rating': 0, 'served_customers': 0}, {'waiter_nr': 10, 'tips': 0, 'avg_rating': 0, 'served_customers': 0}], 'GridState': [{'pos': (12, 12), 'type': 'Kitchen'}, {'pos': (7, 17), 'type': 'Table'}, {'pos': (5, 1), 'type': 'Table'}, {'pos': (17, 3), 'type': 'Table'}, {'pos': (3, 13), 'type': 'Table'}, {'pos': (19, 9), 'type': 'Table'}, {'pos': (11, 5), 'type': 'Table'}, {'pos': (5, 19), 'type': 'Table'}, {'pos': (9, 17), 'type': 'Table'}, {'pos': (15, 5), 'type': 'Table'}, {'pos': (7, 1), 'type': 'Table'}, {'pos': (1, 15), 'type': 'Table'}, {'pos': (13, 17), 'type': 'Table'}, {'pos': (7, 19), 'type': 'Table'}, {'pos': (5, 3), 'type': 'Table'}, {'pos': (17, 5), 'type': 'Table'}, {'pos': (9, 1), 'type': 'Table'}, {'pos': (3, 15), 'type': 'Table'}, {'pos': (19, 11), 'type': 'Table'}, {'pos': (11, 7), 'type': 'Table'}, {'pos': (9, 19), 'type': 'Table'}, {'pos': (13, 1), 'type': 'Table'}, {'pos': (15, 7), 'type': 'Table'}, {'pos': (7, 3), 'type': 'Table'}, {'pos': (1, 17), 'type': 'Table'}, {'pos': (13, 19), 'type': 'Table'}, {'pos': (5, 5), 'type': 'Table'}, {'pos': (17, 7), 'type': 'Table'}, {'pos': (9, 3), 'type': 'Table'}, {'pos': (3, 17), 'type': 'Table'}, {'pos': (11, 9), 'type': 'Table'}, {'pos': (13, 3), 'type': 'Table'}, {'pos': (15, 9), 'type': 'Table'}, {'pos': (7, 5), 'type': 'Table'}, {'pos': (1, 19), 'type': 'Table'}, {'pos': (3, 1), 'type': 'Table'}, {'pos': (5, 7), 'type': 'Table'}, {'pos': (17, 9), 'type': 'Table'}, {'pos': (9, 5), 'type': 'Table'}, {'pos': (3, 19), 'type': 'Table'}, {'pos': (1, 3), 'type': 'Table'}, {'pos': (13, 5), 'type': 'Table'}, {'pos': (15, 11), 'type': 'Table'}, {'pos': (7, 7), 'type': 'Table'}, {'pos': (3, 3), 'type': 'Table'}, {'pos': (5, 9), 'type': 'Table'}, {'pos': (17, 11), 'type': 'Table'}, {'pos': (9, 7), 'type': 'Table'}, {'pos': (1, 5), 'type': 'Table'}, {'pos': (13, 7), 'type': 'Table'}, {'pos': (15, 13), 'type': 'Table'}, {'pos': (7, 9), 'type': 'Table'}, {'pos': (3, 5), 'type': 'Table'}, {'pos': (5, 11), 'type': 'Table'}, {'pos': (9, 9), 'type': 'Table'}, {'pos': (19, 13), 'type': 'Table'}, {'pos': (1, 7), 'type': 'Table'}, {'pos': (13, 9), 'type': 'Table'}, {'pos': (7, 11), 'type': 'Table'}, {'pos': (3, 7), 'type': 'Table'}, {'pos': (5, 13), 'type': 'Table'}, {'pos': (19, 15), 'type': 'Table'}, {'pos': (1, 9), 'type': 'Table'}, {'pos': (11, 11), 'type': 'Table'}, {'pos': (13, 11), 'type': 'Table'}, {'pos': (3, 9), 'type': 'Table'}, {'pos': (19, 17), 'type': 'Table'}, {'pos': (1, 11), 'type': 'Table'}, {'pos': (11, 13), 'type': 'Table'}, {'pos': (3, 11), 'type': 'Table'}, {'pos': (19, 1), 'type': 'Table'}, {'pos': (17, 13), 'type': 'Table'}, {'pos': (19, 19), 'type': 'Table'}, {'pos': (1, 13), 'type': 'Table'}, {'pos': (11, 15), 'type': 'Table'}, {'pos': (15, 15), 'type': 'Table'}, {'pos': (19, 3), 'type': 'Table'}, {'pos': (17, 15), 'type': 'Table'}, {'pos': (9, 11), 'type': 'Table'}, {'pos': (11, 17), 'type': 'Table'}, {'pos': (15, 17), 'type': 'Table'}, {'pos': (7, 13), 'type': 'Table'}, {'pos': (19, 5), 'type': 'Table'}, {'pos': (11, 1), 'type': 'Table'}, {'pos': (5, 15), 'type': 'Table'}, {'pos': (17, 17), 'type': 'Table'}, {'pos': (9, 13), 'type': 'Table'}, {'pos': (11, 19), 'type': 'Table'}, {'pos': (15, 1), 'type': 'Table'}, {'pos': (13, 13), 'type': 'Table'}, {'pos': (15, 19), 'type': 'Table'}, {'pos': (7, 15), 'type': 'Table'}, {'pos': (17, 1), 'type': 'Table'}, {'pos': (19, 7), 'type': 'Table'}, {'pos': (1, 1), 'type': 'Table'}, {'pos': (11, 3), 'type': 'Table'}, {'pos': (5, 17), 'type': 'Table'}, {'pos': (17, 19), 'type': 'Table'}, {'pos': (9, 15), 'type': 'Table'}, {'pos': (15, 3), 'type': 'Table'}, {'pos': (13, 15), 'type': 'Table'}, {'pos': (12, 12), 'type': 'WaiterAgent'}, {'pos': (12, 12), 'type': 'WaiterAgent'}, {'pos': (12, 12), 'type': 'WaiterAgent'}, {'pos': (12, 12), 'type': 'WaiterAgent'}, {'pos': (12, 12), 'type': 'WaiterAgent'}, {'pos': (12, 12), 'type': 'WaiterAgent'}, {'pos': (12, 12), 'type': 'WaiterAgent'}, {'pos': (12, 12), 'type': 'WaiterAgent'}, {'pos': (12, 12), 'type': 'WaiterAgent'}, {'pos': (12, 12), 'type': 'WaiterAgent'}, {'pos': (17, 9), 'type': 'CustomerAgent'}, {'pos': (9, 13), 'type': 'CustomerAgent'}, {'pos': (3, 11), 'type': 'CustomerAgent'}, {'pos': (5, 3), 'type': 'CustomerAgent'}]}, {'RunId': 0, 'iteration': 0, 'Step': 9, 'n_waiters': 10, 'grid_width': 20, 'grid_height': 20, 'Customer_Count': 4, 'Average_Wait_Time': 5.0, 'Average_Customer_Satisfaction': 90.0, 'Profit': 0, 'Customer_Info': [{'customer_nr': 12, 'waiting_time': 5, 'order_status': 3, 'satisfaction': 90}, {'customer_nr': 13, 'waiting_time': 5, 'order_status': 3, 'satisfaction': 90}, {'customer_nr': 14, 'waiting_time': 5, 'order_status': 3, 'satisfaction': 90}, {'customer_nr': 15, 'waiting_time': 5, 'order_status': 3, 'satisfaction': 90}], 'Waiter_Info': [{'waiter_nr': 1, 'tips': 0, 'avg_rating': 0, 'served_customers': 0}, {'waiter_nr': 2, 'tips': 0, 'avg_rating': 0, 'served_customers': 2}, {'waiter_nr': 3, 'tips': 0, 'avg_rating': 0, 'served_customers': 0}, {'waiter_nr': 4, 'tips': 0, 'avg_rating': 0, 'served_customers': 0}, {'waiter_nr': 5, 'tips': 0, 'avg_rating': 0, 'served_customers': 0}, {'waiter_nr': 6, 'tips': 0, 'avg_rating': 0, 'served_customers': 2}, {'waiter_nr': 7, 'tips': 0, 'avg_rating': 0, 'served_customers': 0}, {'waiter_nr': 8, 'tips': 0, 'avg_rating': 0, 'served_customers': 0}, {'waiter_nr': 9, 'tips': 0, 'avg_rating': 0, 'served_customers': 0}, {'waiter_nr': 10, 'tips': 0, 'avg_rating': 0, 'served_customers': 0}], 'GridState': [{'pos': (12, 12), 'type': 'Kitchen'}, {'pos': (7, 17), 'type': 'Table'}, {'pos': (5, 1), 'type': 'Table'}, {'pos': (17, 3), 'type': 'Table'}, {'pos': (3, 13), 'type': 'Table'}, {'pos': (19, 9), 'type': 'Table'}, {'pos': (11, 5), 'type': 'Table'}, {'pos': (5, 19), 'type': 'Table'}, {'pos': (9, 17), 'type': 'Table'}, {'pos': (15, 5), 'type': 'Table'}, {'pos': (7, 1), 'type': 'Table'}, {'pos': (1, 15), 'type': 'Table'}, {'pos': (13, 17), 'type': 'Table'}, {'pos': (7, 19), 'type': 'Table'}, {'pos': (5, 3), 'type': 'Table'}, {'pos': (17, 5), 'type': 'Table'}, {'pos': (9, 1), 'type': 'Table'}, {'pos': (3, 15), 'type': 'Table'}, {'pos': (19, 11), 'type': 'Table'}, {'pos': (11, 7), 'type': 'Table'}, {'pos': (9, 19), 'type': 'Table'}, {'pos': (13, 1), 'type': 'Table'}, {'pos': (15, 7), 'type': 'Table'}, {'pos': (7, 3), 'type': 'Table'}, {'pos': (1, 17), 'type': 'Table'}, {'pos': (13, 19), 'type': 'Table'}, {'pos': (5, 5), 'type': 'Table'}, {'pos': (17, 7), 'type': 'Table'}, {'pos': (9, 3), 'type': 'Table'}, {'pos': (3, 17), 'type': 'Table'}, {'pos': (11, 9), 'type': 'Table'}, {'pos': (13, 3), 'type': 'Table'}, {'pos': (15, 9), 'type': 'Table'}, {'pos': (7, 5), 'type': 'Table'}, {'pos': (1, 19), 'type': 'Table'}, {'pos': (3, 1), 'type': 'Table'}, {'pos': (5, 7), 'type': 'Table'}, {'pos': (17, 9), 'type': 'Table'}, {'pos': (9, 5), 'type': 'Table'}, {'pos': (3, 19), 'type': 'Table'}, {'pos': (1, 3), 'type': 'Table'}, {'pos': (13, 5), 'type': 'Table'}, {'pos': (15, 11), 'type': 'Table'}, {'pos': (7, 7), 'type': 'Table'}, {'pos': (3, 3), 'type': 'Table'}, {'pos': (5, 9), 'type': 'Table'}, {'pos': (17, 11), 'type': 'Table'}, {'pos': (9, 7), 'type': 'Table'}, {'pos': (1, 5), 'type': 'Table'}, {'pos': (13, 7), 'type': 'Table'}, {'pos': (15, 13), 'type': 'Table'}, {'pos': (7, 9), 'type': 'Table'}, {'pos': (3, 5), 'type': 'Table'}, {'pos': (5, 11), 'type': 'Table'}, {'pos': (9, 9), 'type': 'Table'}, {'pos': (19, 13), 'type': 'Table'}, {'pos': (1, 7), 'type': 'Table'}, {'pos': (13, 9), 'type': 'Table'}, {'pos': (7, 11), 'type': 'Table'}, {'pos': (3, 7), 'type': 'Table'}, {'pos': (5, 13), 'type': 'Table'}, {'pos': (19, 15), 'type': 'Table'}, {'pos': (1, 9), 'type': 'Table'}, {'pos': (11, 11), 'type': 'Table'}, {'pos': (13, 11), 'type': 'Table'}, {'pos': (3, 9), 'type': 'Table'}, {'pos': (19, 17), 'type': 'Table'}, {'pos': (1, 11), 'type': 'Table'}, {'pos': (11, 13), 'type': 'Table'}, {'pos': (3, 11), 'type': 'Table'}, {'pos': (19, 1), 'type': 'Table'}, {'pos': (17, 13), 'type': 'Table'}, {'pos': (19, 19), 'type': 'Table'}, {'pos': (1, 13), 'type': 'Table'}, {'pos': (11, 15), 'type': 'Table'}, {'pos': (15, 15), 'type': 'Table'}, {'pos': (19, 3), 'type': 'Table'}, {'pos': (17, 15), 'type': 'Table'}, {'pos': (9, 11), 'type': 'Table'}, {'pos': (11, 17), 'type': 'Table'}, {'pos': (15, 17), 'type': 'Table'}, {'pos': (7, 13), 'type': 'Table'}, {'pos': (19, 5), 'type': 'Table'}, {'pos': (11, 1), 'type': 'Table'}, {'pos': (5, 15), 'type': 'Table'}, {'pos': (17, 17), 'type': 'Table'}, {'pos': (9, 13), 'type': 'Table'}, {'pos': (11, 19), 'type': 'Table'}, {'pos': (15, 1), 'type': 'Table'}, {'pos': (13, 13), 'type': 'Table'}, {'pos': (15, 19), 'type': 'Table'}, {'pos': (7, 15), 'type': 'Table'}, {'pos': (17, 1), 'type': 'Table'}, {'pos': (19, 7), 'type': 'Table'}, {'pos': (1, 1), 'type': 'Table'}, {'pos': (11, 3), 'type': 'Table'}, {'pos': (5, 17), 'type': 'Table'}, {'pos': (17, 19), 'type': 'Table'}, {'pos': (9, 15), 'type': 'Table'}, {'pos': (15, 3), 'type': 'Table'}, {'pos': (13, 15), 'type': 'Table'}, {'pos': (12, 12), 'type': 'WaiterAgent'}, {'pos': (12, 12), 'type': 'WaiterAgent'}, {'pos': (12, 12), 'type': 'WaiterAgent'}, {'pos': (12, 12), 'type': 'WaiterAgent'}, {'pos': (12, 12), 'type': 'WaiterAgent'}, {'pos': (12, 12), 'type': 'WaiterAgent'}, {'pos': (12, 12), 'type': 'WaiterAgent'}, {'pos': (12, 12), 'type': 'WaiterAgent'}, {'pos': (12, 12), 'type': 'WaiterAgent'}, {'pos': (12, 12), 'type': 'WaiterAgent'}, {'pos': (17, 9), 'type': 'CustomerAgent'}, {'pos': (9, 13), 'type': 'CustomerAgent'}, {'pos': (3, 11), 'type': 'CustomerAgent'}, {'pos': (5, 3), 'type': 'CustomerAgent'}]}, {'RunId': 0, 'iteration': 0, 'Step': 10, 'n_waiters': 10, 'grid_width': 20, 'grid_height': 20, 'Customer_Count': 4, 'Average_Wait_Time': 5.0, 'Average_Customer_Satisfaction': 90.0, 'Profit': 0, 'Customer_Info': [{'customer_nr': 12, 'waiting_time': 5, 'order_status': 3, 'satisfaction': 90}, {'customer_nr': 13, 'waiting_time': 5, 'order_status': 3, 'satisfaction': 90}, {'customer_nr': 14, 'waiting_time': 5, 'order_status': 3, 'satisfaction': 90}, {'customer_nr': 15, 'waiting_time': 5, 'order_status': 3, 'satisfaction': 90}], 'Waiter_Info': [{'waiter_nr': 1, 'tips': 0, 'avg_rating': 0, 'served_customers': 0}, {'waiter_nr': 2, 'tips': 0, 'avg_rating': 0, 'served_customers': 2}, {'waiter_nr': 3, 'tips': 0, 'avg_rating': 0, 'served_customers': 0}, {'waiter_nr': 4, 'tips': 0, 'avg_rating': 0, 'served_customers': 0}, {'waiter_nr': 5, 'tips': 0, 'avg_rating': 0, 'served_customers': 0}, {'waiter_nr': 6, 'tips': 0, 'avg_rating': 0, 'served_customers': 2}, {'waiter_nr': 7, 'tips': 0, 'avg_rating': 0, 'served_customers': 0}, {'waiter_nr': 8, 'tips': 0, 'avg_rating': 0, 'served_customers': 0}, {'waiter_nr': 9, 'tips': 0, 'avg_rating': 0, 'served_customers': 0}, {'waiter_nr': 10, 'tips': 0, 'avg_rating': 0, 'served_customers': 0}], 'GridState': [{'pos': (12, 12), 'type': 'Kitchen'}, {'pos': (7, 17), 'type': 'Table'}, {'pos': (5, 1), 'type': 'Table'}, {'pos': (17, 3), 'type': 'Table'}, {'pos': (3, 13), 'type': 'Table'}, {'pos': (19, 9), 'type': 'Table'}, {'pos': (11, 5), 'type': 'Table'}, {'pos': (5, 19), 'type': 'Table'}, {'pos': (9, 17), 'type': 'Table'}, {'pos': (15, 5), 'type': 'Table'}, {'pos': (7, 1), 'type': 'Table'}, {'pos': (1, 15), 'type': 'Table'}, {'pos': (13, 17), 'type': 'Table'}, {'pos': (7, 19), 'type': 'Table'}, {'pos': (5, 3), 'type': 'Table'}, {'pos': (17, 5), 'type': 'Table'}, {'pos': (9, 1), 'type': 'Table'}, {'pos': (3, 15), 'type': 'Table'}, {'pos': (19, 11), 'type': 'Table'}, {'pos': (11, 7), 'type': 'Table'}, {'pos': (9, 19), 'type': 'Table'}, {'pos': (13, 1), 'type': 'Table'}, {'pos': (15, 7), 'type': 'Table'}, {'pos': (7, 3), 'type': 'Table'}, {'pos': (1, 17), 'type': 'Table'}, {'pos': (13, 19), 'type': 'Table'}, {'pos': (5, 5), 'type': 'Table'}, {'pos': (17, 7), 'type': 'Table'}, {'pos': (9, 3), 'type': 'Table'}, {'pos': (3, 17), 'type': 'Table'}, {'pos': (11, 9), 'type': 'Table'}, {'pos': (13, 3), 'type': 'Table'}, {'pos': (15, 9), 'type': 'Table'}, {'pos': (7, 5), 'type': 'Table'}, {'pos': (1, 19), 'type': 'Table'}, {'pos': (3, 1), 'type': 'Table'}, {'pos': (5, 7), 'type': 'Table'}, {'pos': (17, 9), 'type': 'Table'}, {'pos': (9, 5), 'type': 'Table'}, {'pos': (3, 19), 'type': 'Table'}, {'pos': (1, 3), 'type': 'Table'}, {'pos': (13, 5), 'type': 'Table'}, {'pos': (15, 11), 'type': 'Table'}, {'pos': (7, 7), 'type': 'Table'}, {'pos': (3, 3), 'type': 'Table'}, {'pos': (5, 9), 'type': 'Table'}, {'pos': (17, 11), 'type': 'Table'}, {'pos': (9, 7), 'type': 'Table'}, {'pos': (1, 5), 'type': 'Table'}, {'pos': (13, 7), 'type': 'Table'}, {'pos': (15, 13), 'type': 'Table'}, {'pos': (7, 9), 'type': 'Table'}, {'pos': (3, 5), 'type': 'Table'}, {'pos': (5, 11), 'type': 'Table'}, {'pos': (9, 9), 'type': 'Table'}, {'pos': (19, 13), 'type': 'Table'}, {'pos': (1, 7), 'type': 'Table'}, {'pos': (13, 9), 'type': 'Table'}, {'pos': (7, 11), 'type': 'Table'}, {'pos': (3, 7), 'type': 'Table'}, {'pos': (5, 13), 'type': 'Table'}, {'pos': (19, 15), 'type': 'Table'}, {'pos': (1, 9), 'type': 'Table'}, {'pos': (11, 11), 'type': 'Table'}, {'pos': (13, 11), 'type': 'Table'}, {'pos': (3, 9), 'type': 'Table'}, {'pos': (19, 17), 'type': 'Table'}, {'pos': (1, 11), 'type': 'Table'}, {'pos': (11, 13), 'type': 'Table'}, {'pos': (3, 11), 'type': 'Table'}, {'pos': (19, 1), 'type': 'Table'}, {'pos': (17, 13), 'type': 'Table'}, {'pos': (19, 19), 'type': 'Table'}, {'pos': (1, 13), 'type': 'Table'}, {'pos': (11, 15), 'type': 'Table'}, {'pos': (15, 15), 'type': 'Table'}, {'pos': (19, 3), 'type': 'Table'}, {'pos': (17, 15), 'type': 'Table'}, {'pos': (9, 11), 'type': 'Table'}, {'pos': (11, 17), 'type': 'Table'}, {'pos': (15, 17), 'type': 'Table'}, {'pos': (7, 13), 'type': 'Table'}, {'pos': (19, 5), 'type': 'Table'}, {'pos': (11, 1), 'type': 'Table'}, {'pos': (5, 15), 'type': 'Table'}, {'pos': (17, 17), 'type': 'Table'}, {'pos': (9, 13), 'type': 'Table'}, {'pos': (11, 19), 'type': 'Table'}, {'pos': (15, 1), 'type': 'Table'}, {'pos': (13, 13), 'type': 'Table'}, {'pos': (15, 19), 'type': 'Table'}, {'pos': (7, 15), 'type': 'Table'}, {'pos': (17, 1), 'type': 'Table'}, {'pos': (19, 7), 'type': 'Table'}, {'pos': (1, 1), 'type': 'Table'}, {'pos': (11, 3), 'type': 'Table'}, {'pos': (5, 17), 'type': 'Table'}, {'pos': (17, 19), 'type': 'Table'}, {'pos': (9, 15), 'type': 'Table'}, {'pos': (15, 3), 'type': 'Table'}, {'pos': (13, 15), 'type': 'Table'}, {'pos': (12, 12), 'type': 'WaiterAgent'}, {'pos': (12, 12), 'type': 'WaiterAgent'}, {'pos': (12, 12), 'type': 'WaiterAgent'}, {'pos': (12, 12), 'type': 'WaiterAgent'}, {'pos': (12, 12), 'type': 'WaiterAgent'}, {'pos': (12, 12), 'type': 'WaiterAgent'}, {'pos': (12, 12), 'type': 'WaiterAgent'}, {'pos': (12, 12), 'type': 'WaiterAgent'}, {'pos': (12, 12), 'type': 'WaiterAgent'}, {'pos': (12, 12), 'type': 'WaiterAgent'}, {'pos': (17, 9), 'type': 'CustomerAgent'}, {'pos': (9, 13), 'type': 'CustomerAgent'}, {'pos': (3, 11), 'type': 'CustomerAgent'}, {'pos': (5, 3), 'type': 'CustomerAgent'}]}, {'RunId': 0, 'iteration': 0, 'Step': 11, 'n_waiters': 10, 'grid_width': 20, 'grid_height': 20, 'Customer_Count': 4, 'Average_Wait_Time': 5.0, 'Average_Customer_Satisfaction': 90.0, 'Profit': 0, 'Customer_Info': [{'customer_nr': 12, 'waiting_time': 5, 'order_status': 3, 'satisfaction': 90}, {'customer_nr': 13, 'waiting_time': 5, 'order_status': 3, 'satisfaction': 90}, {'customer_nr': 14, 'waiting_time': 5, 'order_status': 3, 'satisfaction': 90}, {'customer_nr': 15, 'waiting_time': 5, 'order_status': 3, 'satisfaction': 90}], 'Waiter_Info': [{'waiter_nr': 1, 'tips': 0, 'avg_rating': 0, 'served_customers': 0}, {'waiter_nr': 2, 'tips': 0, 'avg_rating': 0, 'served_customers': 2}, {'waiter_nr': 3, 'tips': 0, 'avg_rating': 0, 'served_customers': 0}, {'waiter_nr': 4, 'tips': 0, 'avg_rating': 0, 'served_customers': 0}, {'waiter_nr': 5, 'tips': 0, 'avg_rating': 0, 'served_customers': 0}, {'waiter_nr': 6, 'tips': 0, 'avg_rating': 0, 'served_customers': 2}, {'waiter_nr': 7, 'tips': 0, 'avg_rating': 0, 'served_customers': 0}, {'waiter_nr': 8, 'tips': 0, 'avg_rating': 0, 'served_customers': 0}, {'waiter_nr': 9, 'tips': 0, 'avg_rating': 0, 'served_customers': 0}, {'waiter_nr': 10, 'tips': 0, 'avg_rating': 0, 'served_customers': 0}], 'GridState': [{'pos': (12, 12), 'type': 'Kitchen'}, {'pos': (7, 17), 'type': 'Table'}, {'pos': (5, 1), 'type': 'Table'}, {'pos': (17, 3), 'type': 'Table'}, {'pos': (3, 13), 'type': 'Table'}, {'pos': (19, 9), 'type': 'Table'}, {'pos': (11, 5), 'type': 'Table'}, {'pos': (5, 19), 'type': 'Table'}, {'pos': (9, 17), 'type': 'Table'}, {'pos': (15, 5), 'type': 'Table'}, {'pos': (7, 1), 'type': 'Table'}, {'pos': (1, 15), 'type': 'Table'}, {'pos': (13, 17), 'type': 'Table'}, {'pos': (7, 19), 'type': 'Table'}, {'pos': (5, 3), 'type': 'Table'}, {'pos': (17, 5), 'type': 'Table'}, {'pos': (9, 1), 'type': 'Table'}, {'pos': (3, 15), 'type': 'Table'}, {'pos': (19, 11), 'type': 'Table'}, {'pos': (11, 7), 'type': 'Table'}, {'pos': (9, 19), 'type': 'Table'}, {'pos': (13, 1), 'type': 'Table'}, {'pos': (15, 7), 'type': 'Table'}, {'pos': (7, 3), 'type': 'Table'}, {'pos': (1, 17), 'type': 'Table'}, {'pos': (13, 19), 'type': 'Table'}, {'pos': (5, 5), 'type': 'Table'}, {'pos': (17, 7), 'type': 'Table'}, {'pos': (9, 3), 'type': 'Table'}, {'pos': (3, 17), 'type': 'Table'}, {'pos': (11, 9), 'type': 'Table'}, {'pos': (13, 3), 'type': 'Table'}, {'pos': (15, 9), 'type': 'Table'}, {'pos': (7, 5), 'type': 'Table'}, {'pos': (1, 19), 'type': 'Table'}, {'pos': (3, 1), 'type': 'Table'}, {'pos': (5, 7), 'type': 'Table'}, {'pos': (17, 9), 'type': 'Table'}, {'pos': (9, 5), 'type': 'Table'}, {'pos': (3, 19), 'type': 'Table'}, {'pos': (1, 3), 'type': 'Table'}, {'pos': (13, 5), 'type': 'Table'}, {'pos': (15, 11), 'type': 'Table'}, {'pos': (7, 7), 'type': 'Table'}, {'pos': (3, 3), 'type': 'Table'}, {'pos': (5, 9), 'type': 'Table'}, {'pos': (17, 11), 'type': 'Table'}, {'pos': (9, 7), 'type': 'Table'}, {'pos': (1, 5), 'type': 'Table'}, {'pos': (13, 7), 'type': 'Table'}, {'pos': (15, 13), 'type': 'Table'}, {'pos': (7, 9), 'type': 'Table'}, {'pos': (3, 5), 'type': 'Table'}, {'pos': (5, 11), 'type': 'Table'}, {'pos': (9, 9), 'type': 'Table'}, {'pos': (19, 13), 'type': 'Table'}, {'pos': (1, 7), 'type': 'Table'}, {'pos': (13, 9), 'type': 'Table'}, {'pos': (7, 11), 'type': 'Table'}, {'pos': (3, 7), 'type': 'Table'}, {'pos': (5, 13), 'type': 'Table'}, {'pos': (19, 15), 'type': 'Table'}, {'pos': (1, 9), 'type': 'Table'}, {'pos': (11, 11), 'type': 'Table'}, {'pos': (13, 11), 'type': 'Table'}, {'pos': (3, 9), 'type': 'Table'}, {'pos': (19, 17), 'type': 'Table'}, {'pos': (1, 11), 'type': 'Table'}, {'pos': (11, 13), 'type': 'Table'}, {'pos': (3, 11), 'type': 'Table'}, {'pos': (19, 1), 'type': 'Table'}, {'pos': (17, 13), 'type': 'Table'}, {'pos': (19, 19), 'type': 'Table'}, {'pos': (1, 13), 'type': 'Table'}, {'pos': (11, 15), 'type': 'Table'}, {'pos': (15, 15), 'type': 'Table'}, {'pos': (19, 3), 'type': 'Table'}, {'pos': (17, 15), 'type': 'Table'}, {'pos': (9, 11), 'type': 'Table'}, {'pos': (11, 17), 'type': 'Table'}, {'pos': (15, 17), 'type': 'Table'}, {'pos': (7, 13), 'type': 'Table'}, {'pos': (19, 5), 'type': 'Table'}, {'pos': (11, 1), 'type': 'Table'}, {'pos': (5, 15), 'type': 'Table'}, {'pos': (17, 17), 'type': 'Table'}, {'pos': (9, 13), 'type': 'Table'}, {'pos': (11, 19), 'type': 'Table'}, {'pos': (15, 1), 'type': 'Table'}, {'pos': (13, 13), 'type': 'Table'}, {'pos': (15, 19), 'type': 'Table'}, {'pos': (7, 15), 'type': 'Table'}, {'pos': (17, 1), 'type': 'Table'}, {'pos': (19, 7), 'type': 'Table'}, {'pos': (1, 1), 'type': 'Table'}, {'pos': (11, 3), 'type': 'Table'}, {'pos': (5, 17), 'type': 'Table'}, {'pos': (17, 19), 'type': 'Table'}, {'pos': (9, 15), 'type': 'Table'}, {'pos': (15, 3), 'type': 'Table'}, {'pos': (13, 15), 'type': 'Table'}, {'pos': (12, 12), 'type': 'WaiterAgent'}, {'pos': (12, 12), 'type': 'WaiterAgent'}, {'pos': (12, 12), 'type': 'WaiterAgent'}, {'pos': (12, 12), 'type': 'WaiterAgent'}, {'pos': (12, 12), 'type': 'WaiterAgent'}, {'pos': (12, 12), 'type': 'WaiterAgent'}, {'pos': (12, 12), 'type': 'WaiterAgent'}, {'pos': (12, 12), 'type': 'WaiterAgent'}, {'pos': (12, 12), 'type': 'WaiterAgent'}, {'pos': (12, 12), 'type': 'WaiterAgent'}, {'pos': (17, 9), 'type': 'CustomerAgent'}, {'pos': (9, 13), 'type': 'CustomerAgent'}, {'pos': (3, 11), 'type': 'CustomerAgent'}, {'pos': (5, 3), 'type': 'CustomerAgent'}]}, {'RunId': 0, 'iteration': 0, 'Step': 12, 'n_waiters': 10, 'grid_width': 20, 'grid_height': 20, 'Customer_Count': 9, 'Average_Wait_Time': 2.2222222222222223, 'Average_Customer_Satisfaction': 95.55555555555556, 'Profit': 0, 'Customer_Info': [{'customer_nr': 12, 'waiting_time': 5, 'order_status': 3, 'satisfaction': 90}, {'customer_nr': 13, 'waiting_time': 5, 'order_status': 3, 'satisfaction': 90}, {'customer_nr': 14, 'waiting_time': 5, 'order_status': 3, 'satisfaction': 90}, {'customer_nr': 15, 'waiting_time': 5, 'order_status': 3, 'satisfaction': 90}, {'customer_nr': 16, 'waiting_time': 0, 'order_status': 1, 'satisfaction': 100}, {'customer_nr': 17, 'waiting_time': 0, 'order_status': 1, 'satisfaction': 100}, {'customer_nr': 18, 'waiting_time': 0, 'order_status': 1, 'satisfaction': 100}, {'customer_nr': 19, 'waiting_time': 0, 'order_status': 1, 'satisfaction': 100}, {'customer_nr': 20, 'waiting_time': 0, 'order_status': 1, 'satisfaction': 100}], 'Waiter_Info': [{'waiter_nr': 1, 'tips': 0, 'avg_rating': 0, 'served_customers': 0}, {'waiter_nr': 2, 'tips': 0, 'avg_rating': 0, 'served_customers': 2}, {'waiter_nr': 3, 'tips': 0, 'avg_rating': 0, 'served_customers': 0}, {'waiter_nr': 4, 'tips': 0, 'avg_rating': 0, 'served_customers': 0}, {'waiter_nr': 5, 'tips': 0, 'avg_rating': 0, 'served_customers': 0}, {'waiter_nr': 6, 'tips': 0, 'avg_rating': 0, 'served_customers': 2}, {'waiter_nr': 7, 'tips': 0, 'avg_rating': 0, 'served_customers': 0}, {'waiter_nr': 8, 'tips': 0, 'avg_rating': 0, 'served_customers': 0}, {'waiter_nr': 9, 'tips': 0, 'avg_rating': 0, 'served_customers': 0}, {'waiter_nr': 10, 'tips': 0, 'avg_rating': 0, 'served_customers': 0}], 'GridState': [{'pos': (12, 12), 'type': 'Kitchen'}, {'pos': (7, 17), 'type': 'Table'}, {'pos': (5, 1), 'type': 'Table'}, {'pos': (17, 3), 'type': 'Table'}, {'pos': (3, 13), 'type': 'Table'}, {'pos': (19, 9), 'type': 'Table'}, {'pos': (11, 5), 'type': 'Table'}, {'pos': (5, 19), 'type': 'Table'}, {'pos': (9, 17), 'type': 'Table'}, {'pos': (15, 5), 'type': 'Table'}, {'pos': (7, 1), 'type': 'Table'}, {'pos': (1, 15), 'type': 'Table'}, {'pos': (13, 17), 'type': 'Table'}, {'pos': (7, 19), 'type': 'Table'}, {'pos': (5, 3), 'type': 'Table'}, {'pos': (17, 5), 'type': 'Table'}, {'pos': (9, 1), 'type': 'Table'}, {'pos': (3, 15), 'type': 'Table'}, {'pos': (19, 11), 'type': 'Table'}, {'pos': (11, 7), 'type': 'Table'}, {'pos': (9, 19), 'type': 'Table'}, {'pos': (13, 1), 'type': 'Table'}, {'pos': (15, 7), 'type': 'Table'}, {'pos': (7, 3), 'type': 'Table'}, {'pos': (1, 17), 'type': 'Table'}, {'pos': (13, 19), 'type': 'Table'}, {'pos': (5, 5), 'type': 'Table'}, {'pos': (17, 7), 'type': 'Table'}, {'pos': (9, 3), 'type': 'Table'}, {'pos': (3, 17), 'type': 'Table'}, {'pos': (11, 9), 'type': 'Table'}, {'pos': (13, 3), 'type': 'Table'}, {'pos': (15, 9), 'type': 'Table'}, {'pos': (7, 5), 'type': 'Table'}, {'pos': (1, 19), 'type': 'Table'}, {'pos': (3, 1), 'type': 'Table'}, {'pos': (5, 7), 'type': 'Table'}, {'pos': (17, 9), 'type': 'Table'}, {'pos': (9, 5), 'type': 'Table'}, {'pos': (3, 19), 'type': 'Table'}, {'pos': (1, 3), 'type': 'Table'}, {'pos': (13, 5), 'type': 'Table'}, {'pos': (15, 11), 'type': 'Table'}, {'pos': (7, 7), 'type': 'Table'}, {'pos': (3, 3), 'type': 'Table'}, {'pos': (5, 9), 'type': 'Table'}, {'pos': (17, 11), 'type': 'Table'}, {'pos': (9, 7), 'type': 'Table'}, {'pos': (1, 5), 'type': 'Table'}, {'pos': (13, 7), 'type': 'Table'}, {'pos': (15, 13), 'type': 'Table'}, {'pos': (7, 9), 'type': 'Table'}, {'pos': (3, 5), 'type': 'Table'}, {'pos': (5, 11), 'type': 'Table'}, {'pos': (9, 9), 'type': 'Table'}, {'pos': (19, 13), 'type': 'Table'}, {'pos': (1, 7), 'type': 'Table'}, {'pos': (13, 9), 'type': 'Table'}, {'pos': (7, 11), 'type': 'Table'}, {'pos': (3, 7), 'type': 'Table'}, {'pos': (5, 13), 'type': 'Table'}, {'pos': (19, 15), 'type': 'Table'}, {'pos': (1, 9), 'type': 'Table'}, {'pos': (11, 11), 'type': 'Table'}, {'pos': (13, 11), 'type': 'Table'}, {'pos': (3, 9), 'type': 'Table'}, {'pos': (19, 17), 'type': 'Table'}, {'pos': (1, 11), 'type': 'Table'}, {'pos': (11, 13), 'type': 'Table'}, {'pos': (3, 11), 'type': 'Table'}, {'pos': (19, 1), 'type': 'Table'}, {'pos': (17, 13), 'type': 'Table'}, {'pos': (19, 19), 'type': 'Table'}, {'pos': (1, 13), 'type': 'Table'}, {'pos': (11, 15), 'type': 'Table'}, {'pos': (15, 15), 'type': 'Table'}, {'pos': (19, 3), 'type': 'Table'}, {'pos': (17, 15), 'type': 'Table'}, {'pos': (9, 11), 'type': 'Table'}, {'pos': (11, 17), 'type': 'Table'}, {'pos': (15, 17), 'type': 'Table'}, {'pos': (7, 13), 'type': 'Table'}, {'pos': (19, 5), 'type': 'Table'}, {'pos': (11, 1), 'type': 'Table'}, {'pos': (5, 15), 'type': 'Table'}, {'pos': (17, 17), 'type': 'Table'}, {'pos': (9, 13), 'type': 'Table'}, {'pos': (11, 19), 'type': 'Table'}, {'pos': (15, 1), 'type': 'Table'}, {'pos': (13, 13), 'type': 'Table'}, {'pos': (15, 19), 'type': 'Table'}, {'pos': (7, 15), 'type': 'Table'}, {'pos': (17, 1), 'type': 'Table'}, {'pos': (19, 7), 'type': 'Table'}, {'pos': (1, 1), 'type': 'Table'}, {'pos': (11, 3), 'type': 'Table'}, {'pos': (5, 17), 'type': 'Table'}, {'pos': (17, 19), 'type': 'Table'}, {'pos': (9, 15), 'type': 'Table'}, {'pos': (15, 3), 'type': 'Table'}, {'pos': (13, 15), 'type': 'Table'}, {'pos': (12, 12), 'type': 'WaiterAgent'}, {'pos': (12, 12), 'type': 'WaiterAgent'}, {'pos': (12, 12), 'type': 'WaiterAgent'}, {'pos': (12, 12), 'type': 'WaiterAgent'}, {'pos': (12, 12), 'type': 'WaiterAgent'}, {'pos': (12, 12), 'type': 'WaiterAgent'}, {'pos': (12, 12), 'type': 'WaiterAgent'}, {'pos': (12, 12), 'type': 'WaiterAgent'}, {'pos': (12, 12), 'type': 'WaiterAgent'}, {'pos': (12, 12), 'type': 'WaiterAgent'}, {'pos': (17, 9), 'type': 'CustomerAgent'}, {'pos': (9, 13), 'type': 'CustomerAgent'}, {'pos': (3, 11), 'type': 'CustomerAgent'}, {'pos': (5, 3), 'type': 'CustomerAgent'}, {'pos': (1, 15), 'type': 'CustomerAgent'}, {'pos': (3, 5), 'type': 'CustomerAgent'}, {'pos': (11, 11), 'type': 'CustomerAgent'}, {'pos': (3, 19), 'type': 'CustomerAgent'}, {'pos': (9, 19), 'type': 'CustomerAgent'}]}, {'RunId': 0, 'iteration': 0, 'Step': 13, 'n_waiters': 10, 'grid_width': 20, 'grid_height': 20, 'Customer_Count': 12, 'Average_Wait_Time': 3.75, 'Average_Customer_Satisfaction': 92.5, 'Profit': 0, 'Customer_Info': [{'customer_nr': 12, 'waiting_time': 5, 'order_status': 3, 'satisfaction': 90}, {'customer_nr': 13, 'waiting_time': 5, 'order_status': 3, 'satisfaction': 90}, {'customer_nr': 14, 'waiting_time': 5, 'order_status': 3, 'satisfaction': 90}, {'customer_nr': 15, 'waiting_time': 5, 'order_status': 3, 'satisfaction': 90}, {'customer_nr': 16, 'waiting_time': 5, 'order_status': 1, 'satisfaction': 90}, {'customer_nr': 17, 'waiting_time': 5, 'order_status': 1, 'satisfaction': 90}, {'customer_nr': 18, 'waiting_time': 5, 'order_status': 1, 'satisfaction': 90}, {'customer_nr': 19, 'waiting_time': 5, 'order_status': 1, 'satisfaction': 90}, {'customer_nr': 20, 'waiting_time': 5, 'order_status': 1, 'satisfaction': 90}, {'customer_nr': 21, 'waiting_time': 0, 'order_status': 1, 'satisfaction': 100}, {'customer_nr': 22, 'waiting_time': 0, 'order_status': 1, 'satisfaction': 100}, {'customer_nr': 23, 'waiting_time': 0, 'order_status': 1, 'satisfaction': 100}], 'Waiter_Info': [{'waiter_nr': 1, 'tips': 0, 'avg_rating': 0, 'served_customers': 0}, {'waiter_nr': 2, 'tips': 0, 'avg_rating': 0, 'served_customers': 2}, {'waiter_nr': 3, 'tips': 0, 'avg_rating': 0, 'served_customers': 0}, {'waiter_nr': 4, 'tips': 0, 'avg_rating': 0, 'served_customers': 0}, {'waiter_nr': 5, 'tips': 0, 'avg_rating': 0, 'served_customers': 0}, {'waiter_nr': 6, 'tips': 0, 'avg_rating': 0, 'served_customers': 2}, {'waiter_nr': 7, 'tips': 0, 'avg_rating': 0, 'served_customers': 0}, {'waiter_nr': 8, 'tips': 0, 'avg_rating': 0, 'served_customers': 0}, {'waiter_nr': 9, 'tips': 0, 'avg_rating': 0, 'served_customers': 0}, {'waiter_nr': 10, 'tips': 0, 'avg_rating': 0, 'served_customers': 0}], 'GridState': [{'pos': (12, 12), 'type': 'Kitchen'}, {'pos': (7, 17), 'type': 'Table'}, {'pos': (5, 1), 'type': 'Table'}, {'pos': (17, 3), 'type': 'Table'}, {'pos': (3, 13), 'type': 'Table'}, {'pos': (19, 9), 'type': 'Table'}, {'pos': (11, 5), 'type': 'Table'}, {'pos': (5, 19), 'type': 'Table'}, {'pos': (9, 17), 'type': 'Table'}, {'pos': (15, 5), 'type': 'Table'}, {'pos': (7, 1), 'type': 'Table'}, {'pos': (1, 15), 'type': 'Table'}, {'pos': (13, 17), 'type': 'Table'}, {'pos': (7, 19), 'type': 'Table'}, {'pos': (5, 3), 'type': 'Table'}, {'pos': (17, 5), 'type': 'Table'}, {'pos': (9, 1), 'type': 'Table'}, {'pos': (3, 15), 'type': 'Table'}, {'pos': (19, 11), 'type': 'Table'}, {'pos': (11, 7), 'type': 'Table'}, {'pos': (9, 19), 'type': 'Table'}, {'pos': (13, 1), 'type': 'Table'}, {'pos': (15, 7), 'type': 'Table'}, {'pos': (7, 3), 'type': 'Table'}, {'pos': (1, 17), 'type': 'Table'}, {'pos': (13, 19), 'type': 'Table'}, {'pos': (5, 5), 'type': 'Table'}, {'pos': (17, 7), 'type': 'Table'}, {'pos': (9, 3), 'type': 'Table'}, {'pos': (3, 17), 'type': 'Table'}, {'pos': (11, 9), 'type': 'Table'}, {'pos': (13, 3), 'type': 'Table'}, {'pos': (15, 9), 'type': 'Table'}, {'pos': (7, 5), 'type': 'Table'}, {'pos': (1, 19), 'type': 'Table'}, {'pos': (3, 1), 'type': 'Table'}, {'pos': (5, 7), 'type': 'Table'}, {'pos': (17, 9), 'type': 'Table'}, {'pos': (9, 5), 'type': 'Table'}, {'pos': (3, 19), 'type': 'Table'}, {'pos': (1, 3), 'type': 'Table'}, {'pos': (13, 5), 'type': 'Table'}, {'pos': (15, 11), 'type': 'Table'}, {'pos': (7, 7), 'type': 'Table'}, {'pos': (3, 3), 'type': 'Table'}, {'pos': (5, 9), 'type': 'Table'}, {'pos': (17, 11), 'type': 'Table'}, {'pos': (9, 7), 'type': 'Table'}, {'pos': (1, 5), 'type': 'Table'}, {'pos': (13, 7), 'type': 'Table'}, {'pos': (15, 13), 'type': 'Table'}, {'pos': (7, 9), 'type': 'Table'}, {'pos': (3, 5), 'type': 'Table'}, {'pos': (5, 11), 'type': 'Table'}, {'pos': (9, 9), 'type': 'Table'}, {'pos': (19, 13), 'type': 'Table'}, {'pos': (1, 7), 'type': 'Table'}, {'pos': (13, 9), 'type': 'Table'}, {'pos': (7, 11), 'type': 'Table'}, {'pos': (3, 7), 'type': 'Table'}, {'pos': (5, 13), 'type': 'Table'}, {'pos': (19, 15), 'type': 'Table'}, {'pos': (1, 9), 'type': 'Table'}, {'pos': (11, 11), 'type': 'Table'}, {'pos': (13, 11), 'type': 'Table'}, {'pos': (3, 9), 'type': 'Table'}, {'pos': (19, 17), 'type': 'Table'}, {'pos': (1, 11), 'type': 'Table'}, {'pos': (11, 13), 'type': 'Table'}, {'pos': (3, 11), 'type': 'Table'}, {'pos': (19, 1), 'type': 'Table'}, {'pos': (17, 13), 'type': 'Table'}, {'pos': (19, 19), 'type': 'Table'}, {'pos': (1, 13), 'type': 'Table'}, {'pos': (11, 15), 'type': 'Table'}, {'pos': (15, 15), 'type': 'Table'}, {'pos': (19, 3), 'type': 'Table'}, {'pos': (17, 15), 'type': 'Table'}, {'pos': (9, 11), 'type': 'Table'}, {'pos': (11, 17), 'type': 'Table'}, {'pos': (15, 17), 'type': 'Table'}, {'pos': (7, 13), 'type': 'Table'}, {'pos': (19, 5), 'type': 'Table'}, {'pos': (11, 1), 'type': 'Table'}, {'pos': (5, 15), 'type': 'Table'}, {'pos': (17, 17), 'type': 'Table'}, {'pos': (9, 13), 'type': 'Table'}, {'pos': (11, 19), 'type': 'Table'}, {'pos': (15, 1), 'type': 'Table'}, {'pos': (13, 13), 'type': 'Table'}, {'pos': (15, 19), 'type': 'Table'}, {'pos': (7, 15), 'type': 'Table'}, {'pos': (17, 1), 'type': 'Table'}, {'pos': (19, 7), 'type': 'Table'}, {'pos': (1, 1), 'type': 'Table'}, {'pos': (11, 3), 'type': 'Table'}, {'pos': (5, 17), 'type': 'Table'}, {'pos': (17, 19), 'type': 'Table'}, {'pos': (9, 15), 'type': 'Table'}, {'pos': (15, 3), 'type': 'Table'}, {'pos': (13, 15), 'type': 'Table'}, {'pos': (12, 12), 'type': 'WaiterAgent'}, {'pos': (12, 12), 'type': 'WaiterAgent'}, {'pos': (12, 12), 'type': 'WaiterAgent'}, {'pos': (12, 12), 'type': 'WaiterAgent'}, {'pos': (12, 12), 'type': 'WaiterAgent'}, {'pos': (12, 12), 'type': 'WaiterAgent'}, {'pos': (12, 12), 'type': 'WaiterAgent'}, {'pos': (12, 12), 'type': 'WaiterAgent'}, {'pos': (12, 12), 'type': 'WaiterAgent'}, {'pos': (12, 12), 'type': 'WaiterAgent'}, {'pos': (17, 9), 'type': 'CustomerAgent'}, {'pos': (9, 13), 'type': 'CustomerAgent'}, {'pos': (3, 11), 'type': 'CustomerAgent'}, {'pos': (5, 3), 'type': 'CustomerAgent'}, {'pos': (1, 15), 'type': 'CustomerAgent'}, {'pos': (3, 5), 'type': 'CustomerAgent'}, {'pos': (11, 11), 'type': 'CustomerAgent'}, {'pos': (3, 19), 'type': 'CustomerAgent'}, {'pos': (9, 19), 'type': 'CustomerAgent'}, {'pos': (5, 7), 'type': 'CustomerAgent'}, {'pos': (15, 13), 'type': 'CustomerAgent'}, {'pos': (9, 9), 'type': 'CustomerAgent'}]}, {'RunId': 0, 'iteration': 0, 'Step': 14, 'n_waiters': 10, 'grid_width': 20, 'grid_height': 20, 'Customer_Count': 22, 'Average_Wait_Time': 2.727272727272727, 'Average_Customer_Satisfaction': 94.54545454545455, 'Profit': 0, 'Customer_Info': [{'customer_nr': 12, 'waiting_time': 5, 'order_status': 3, 'satisfaction': 90}, {'customer_nr': 13, 'waiting_time': 5, 'order_status': 3, 'satisfaction': 90}, {'customer_nr': 14, 'waiting_time': 5, 'order_status': 3, 'satisfaction': 90}, {'customer_nr': 15, 'waiting_time': 5, 'order_status': 3, 'satisfaction': 90}, {'customer_nr': 16, 'waiting_time': 5, 'order_status': 3, 'satisfaction': 90}, {'customer_nr': 17, 'waiting_time': 5, 'order_status': 3, 'satisfaction': 90}, {'customer_nr': 18, 'waiting_time': 5, 'order_status': 3, 'satisfaction': 90}, {'customer_nr': 19, 'waiting_time': 5, 'order_status': 3, 'satisfaction': 90}, {'customer_nr': 20, 'waiting_time': 5, 'order_status': 3, 'satisfaction': 90}, {'customer_nr': 21, 'waiting_time': 5, 'order_status': 1, 'satisfaction': 90}, {'customer_nr': 22, 'waiting_time': 5, 'order_status': 1, 'satisfaction': 90}, {'customer_nr': 23, 'waiting_time': 5, 'order_status': 1, 'satisfaction': 90}, {'customer_nr': 24, 'waiting_time': 0, 'order_status': 1, 'satisfaction': 100}, {'customer_nr': 25, 'waiting_time': 0, 'order_status': 1, 'satisfaction': 100}, {'customer_nr': 26, 'waiting_time': 0, 'order_status': 1, 'satisfaction': 100}, {'customer_nr': 27, 'waiting_time': 0, 'order_status': 1, 'satisfaction': 100}, {'customer_nr': 28, 'waiting_time': 0, 'order_status': 1, 'satisfaction': 100}, {'customer_nr': 29, 'waiting_time': 0, 'order_status': 1, 'satisfaction': 100}, {'customer_nr': 30, 'waiting_time': 0, 'order_status': 1, 'satisfaction': 100}, {'customer_nr': 31, 'waiting_time': 0, 'order_status': 1, 'satisfaction': 100}, {'customer_nr': 32, 'waiting_time': 0, 'order_status': 1, 'satisfaction': 100}, {'customer_nr': 33, 'waiting_time': 0, 'order_status': 1, 'satisfaction': 100}], 'Waiter_Info': [{'waiter_nr': 1, 'tips': 0, 'avg_rating': 0, 'served_customers': 0}, {'waiter_nr': 2, 'tips': 0, 'avg_rating': 0, 'served_customers': 2}, {'waiter_nr': 3, 'tips': 0, 'avg_rating': 0, 'served_customers': 0}, {'waiter_nr': 4, 'tips': 0, 'avg_rating': 0, 'served_customers': 0}, {'waiter_nr': 5, 'tips': 0, 'avg_rating': 0, 'served_customers': 0}, {'waiter_nr': 6, 'tips': 0, 'avg_rating': 0, 'served_customers': 2}, {'waiter_nr': 7, 'tips': 0, 'avg_rating': 0, 'served_customers': 1}, {'waiter_nr': 8, 'tips': 0, 'avg_rating': 0, 'served_customers': 4}, {'waiter_nr': 9, 'tips': 0, 'avg_rating': 0, 'served_customers': 0}, {'waiter_nr': 10, 'tips': 0, 'avg_rating': 0, 'served_customers': 0}], 'GridState': [{'pos': (12, 12), 'type': 'Kitchen'}, {'pos': (7, 17), 'type': 'Table'}, {'pos': (5, 1), 'type': 'Table'}, {'pos': (17, 3), 'type': 'Table'}, {'pos': (3, 13), 'type': 'Table'}, {'pos': (19, 9), 'type': 'Table'}, {'pos': (11, 5), 'type': 'Table'}, {'pos': (5, 19), 'type': 'Table'}, {'pos': (9, 17), 'type': 'Table'}, {'pos': (15, 5), 'type': 'Table'}, {'pos': (7, 1), 'type': 'Table'}, {'pos': (1, 15), 'type': 'Table'}, {'pos': (13, 17), 'type': 'Table'}, {'pos': (7, 19), 'type': 'Table'}, {'pos': (5, 3), 'type': 'Table'}, {'pos': (17, 5), 'type': 'Table'}, {'pos': (9, 1), 'type': 'Table'}, {'pos': (3, 15), 'type': 'Table'}, {'pos': (19, 11), 'type': 'Table'}, {'pos': (11, 7), 'type': 'Table'}, {'pos': (9, 19), 'type': 'Table'}, {'pos': (13, 1), 'type': 'Table'}, {'pos': (15, 7), 'type': 'Table'}, {'pos': (7, 3), 'type': 'Table'}, {'pos': (1, 17), 'type': 'Table'}, {'pos': (13, 19), 'type': 'Table'}, {'pos': (5, 5), 'type': 'Table'}, {'pos': (17, 7), 'type': 'Table'}, {'pos': (9, 3), 'type': 'Table'}, {'pos': (3, 17), 'type': 'Table'}, {'pos': (11, 9), 'type': 'Table'}, {'pos': (13, 3), 'type': 'Table'}, {'pos': (15, 9), 'type': 'Table'}, {'pos': (7, 5), 'type': 'Table'}, {'pos': (1, 19), 'type': 'Table'}, {'pos': (3, 1), 'type': 'Table'}, {'pos': (5, 7), 'type': 'Table'}, {'pos': (17, 9), 'type': 'Table'}, {'pos': (9, 5), 'type': 'Table'}, {'pos': (3, 19), 'type': 'Table'}, {'pos': (1, 3), 'type': 'Table'}, {'pos': (13, 5), 'type': 'Table'}, {'pos': (15, 11), 'type': 'Table'}, {'pos': (7, 7), 'type': 'Table'}, {'pos': (3, 3), 'type': 'Table'}, {'pos': (5, 9), 'type': 'Table'}, {'pos': (17, 11), 'type': 'Table'}, {'pos': (9, 7), 'type': 'Table'}, {'pos': (1, 5), 'type': 'Table'}, {'pos': (13, 7), 'type': 'Table'}, {'pos': (15, 13), 'type': 'Table'}, {'pos': (7, 9), 'type': 'Table'}, {'pos': (3, 5), 'type': 'Table'}, {'pos': (5, 11), 'type': 'Table'}, {'pos': (9, 9), 'type': 'Table'}, {'pos': (19, 13), 'type': 'Table'}, {'pos': (1, 7), 'type': 'Table'}, {'pos': (13, 9), 'type': 'Table'}, {'pos': (7, 11), 'type': 'Table'}, {'pos': (3, 7), 'type': 'Table'}, {'pos': (5, 13), 'type': 'Table'}, {'pos': (19, 15), 'type': 'Table'}, {'pos': (1, 9), 'type': 'Table'}, {'pos': (11, 11), 'type': 'Table'}, {'pos': (13, 11), 'type': 'Table'}, {'pos': (3, 9), 'type': 'Table'}, {'pos': (19, 17), 'type': 'Table'}, {'pos': (1, 11), 'type': 'Table'}, {'pos': (11, 13), 'type': 'Table'}, {'pos': (3, 11), 'type': 'Table'}, {'pos': (19, 1), 'type': 'Table'}, {'pos': (17, 13), 'type': 'Table'}, {'pos': (19, 19), 'type': 'Table'}, {'pos': (1, 13), 'type': 'Table'}, {'pos': (11, 15), 'type': 'Table'}, {'pos': (15, 15), 'type': 'Table'}, {'pos': (19, 3), 'type': 'Table'}, {'pos': (17, 15), 'type': 'Table'}, {'pos': (9, 11), 'type': 'Table'}, {'pos': (11, 17), 'type': 'Table'}, {'pos': (15, 17), 'type': 'Table'}, {'pos': (7, 13), 'type': 'Table'}, {'pos': (19, 5), 'type': 'Table'}, {'pos': (11, 1), 'type': 'Table'}, {'pos': (5, 15), 'type': 'Table'}, {'pos': (17, 17), 'type': 'Table'}, {'pos': (9, 13), 'type': 'Table'}, {'pos': (11, 19), 'type': 'Table'}, {'pos': (15, 1), 'type': 'Table'}, {'pos': (13, 13), 'type': 'Table'}, {'pos': (15, 19), 'type': 'Table'}, {'pos': (7, 15), 'type': 'Table'}, {'pos': (17, 1), 'type': 'Table'}, {'pos': (19, 7), 'type': 'Table'}, {'pos': (1, 1), 'type': 'Table'}, {'pos': (11, 3), 'type': 'Table'}, {'pos': (5, 17), 'type': 'Table'}, {'pos': (17, 19), 'type': 'Table'}, {'pos': (9, 15), 'type': 'Table'}, {'pos': (15, 3), 'type': 'Table'}, {'pos': (13, 15), 'type': 'Table'}, {'pos': (12, 12), 'type': 'WaiterAgent'}, {'pos': (12, 12), 'type': 'WaiterAgent'}, {'pos': (12, 12), 'type': 'WaiterAgent'}, {'pos': (12, 12), 'type': 'WaiterAgent'}, {'pos': (12, 12), 'type': 'WaiterAgent'}, {'pos': (12, 12), 'type': 'WaiterAgent'}, {'pos': (8, 19), 'type': 'WaiterAgent'}, {'pos': (4, 19), 'type': 'WaiterAgent'}, {'pos': (12, 12), 'type': 'WaiterAgent'}, {'pos': (12, 12), 'type': 'WaiterAgent'}, {'pos': (17, 9), 'type': 'CustomerAgent'}, {'pos': (9, 13), 'type': 'CustomerAgent'}, {'pos': (3, 11), 'type': 'CustomerAgent'}, {'pos': (5, 3), 'type': 'CustomerAgent'}, {'pos': (1, 15), 'type': 'CustomerAgent'}, {'pos': (3, 5), 'type': 'CustomerAgent'}, {'pos': (11, 11), 'type': 'CustomerAgent'}, {'pos': (3, 19), 'type': 'CustomerAgent'}, {'pos': (9, 19), 'type': 'CustomerAgent'}, {'pos': (5, 7), 'type': 'CustomerAgent'}, {'pos': (15, 13), 'type': 'CustomerAgent'}, {'pos': (9, 9), 'type': 'CustomerAgent'}, {'pos': (11, 5), 'type': 'CustomerAgent'}, {'pos': (5, 11), 'type': 'CustomerAgent'}, {'pos': (11, 7), 'type': 'CustomerAgent'}, {'pos': (15, 3), 'type': 'CustomerAgent'}, {'pos': (7, 15), 'type': 'CustomerAgent'}, {'pos': (17, 3), 'type': 'CustomerAgent'}, {'pos': (17, 7), 'type': 'CustomerAgent'}, {'pos': (9, 15), 'type': 'CustomerAgent'}, {'pos': (19, 3), 'type': 'CustomerAgent'}, {'pos': (3, 9), 'type': 'CustomerAgent'}]}, {'RunId': 0, 'iteration': 0, 'Step': 15, 'n_waiters': 10, 'grid_width': 20, 'grid_height': 20, 'Customer_Count': 28, 'Average_Wait_Time': 3.9285714285714284, 'Average_Customer_Satisfaction': 92.14285714285714, 'Profit': 0, 'Customer_Info': [{'customer_nr': 12, 'waiting_time': 5, 'order_status': 3, 'satisfaction': 90}, {'customer_nr': 13, 'waiting_time': 5, 'order_status': 3, 'satisfaction': 90}, {'customer_nr': 14, 'waiting_time': 5, 'order_status': 3, 'satisfaction': 90}, {'customer_nr': 15, 'waiting_time': 5, 'order_status': 3, 'satisfaction': 90}, {'customer_nr': 16, 'waiting_time': 5, 'order_status': 3, 'satisfaction': 90}, {'customer_nr': 17, 'waiting_time': 5, 'order_status': 3, 'satisfaction': 90}, {'customer_nr': 18, 'waiting_time': 5, 'order_status': 3, 'satisfaction': 90}, {'customer_nr': 19, 'waiting_time': 5, 'order_status': 3, 'satisfaction': 90}, {'customer_nr': 20, 'waiting_time': 5, 'order_status': 3, 'satisfaction': 90}, {'customer_nr': 21, 'waiting_time': 5, 'order_status': 3, 'satisfaction': 90}, {'customer_nr': 22, 'waiting_time': 5, 'order_status': 3, 'satisfaction': 90}, {'customer_nr': 23, 'waiting_time': 5, 'order_status': 3, 'satisfaction': 90}, {'customer_nr': 24, 'waiting_time': 5, 'order_status': 1, 'satisfaction': 90}, {'customer_nr': 25, 'waiting_time': 5, 'order_status': 1, 'satisfaction': 90}, {'customer_nr': 26, 'waiting_time': 5, 'order_status': 1, 'satisfaction': 90}, {'customer_nr': 27, 'waiting_time': 5, 'order_status': 1, 'satisfaction': 90}, {'customer_nr': 28, 'waiting_time': 5, 'order_status': 1, 'satisfaction': 90}, {'customer_nr': 29, 'waiting_time': 5, 'order_status': 1, 'satisfaction': 90}, {'customer_nr': 30, 'waiting_time': 5, 'order_status': 1, 'satisfaction': 90}, {'customer_nr': 31, 'waiting_time': 5, 'order_status': 1, 'satisfaction': 90}, {'customer_nr': 32, 'waiting_time': 5, 'order_status': 1, 'satisfaction': 90}, {'customer_nr': 33, 'waiting_time': 5, 'order_status': 1, 'satisfaction': 90}, {'customer_nr': 34, 'waiting_time': 0, 'order_status': 1, 'satisfaction': 100}, {'customer_nr': 35, 'waiting_time': 0, 'order_status': 1, 'satisfaction': 100}, {'customer_nr': 36, 'waiting_time': 0, 'order_status': 1, 'satisfaction': 100}, {'customer_nr': 37, 'waiting_time': 0, 'order_status': 1, 'satisfaction': 100}, {'customer_nr': 38, 'waiting_time': 0, 'order_status': 1, 'satisfaction': 100}, {'customer_nr': 39, 'waiting_time': 0, 'order_status': 1, 'satisfaction': 100}], 'Waiter_Info': [{'waiter_nr': 1, 'tips': 0, 'avg_rating': 0, 'served_customers': 0}, {'waiter_nr': 2, 'tips': 0, 'avg_rating': 0, 'served_customers': 2}, {'waiter_nr': 3, 'tips': 0, 'avg_rating': 0, 'served_customers': 0}, {'waiter_nr': 4, 'tips': 0, 'avg_rating': 0, 'served_customers': 0}, {'waiter_nr': 5, 'tips': 0, 'avg_rating': 0, 'served_customers': 0}, {'waiter_nr': 6, 'tips': 0, 'avg_rating': 0, 'served_customers': 2}, {'waiter_nr': 7, 'tips': 0, 'avg_rating': 0, 'served_customers': 1}, {'waiter_nr': 8, 'tips': 0, 'avg_rating': 0, 'served_customers': 4}, {'waiter_nr': 9, 'tips': 0, 'avg_rating': 0, 'served_customers': 0}, {'waiter_nr': 10, 'tips': 0, 'avg_rating': 0, 'served_customers': 3}], 'GridState': [{'pos': (12, 12), 'type': 'Kitchen'}, {'pos': (7, 17), 'type': 'Table'}, {'pos': (5, 1), 'type': 'Table'}, {'pos': (17, 3), 'type': 'Table'}, {'pos': (3, 13), 'type': 'Table'}, {'pos': (19, 9), 'type': 'Table'}, {'pos': (11, 5), 'type': 'Table'}, {'pos': (5, 19), 'type': 'Table'}, {'pos': (9, 17), 'type': 'Table'}, {'pos': (15, 5), 'type': 'Table'}, {'pos': (7, 1), 'type': 'Table'}, {'pos': (1, 15), 'type': 'Table'}, {'pos': (13, 17), 'type': 'Table'}, {'pos': (7, 19), 'type': 'Table'}, {'pos': (5, 3), 'type': 'Table'}, {'pos': (17, 5), 'type': 'Table'}, {'pos': (9, 1), 'type': 'Table'}, {'pos': (3, 15), 'type': 'Table'}, {'pos': (19, 11), 'type': 'Table'}, {'pos': (11, 7), 'type': 'Table'}, {'pos': (9, 19), 'type': 'Table'}, {'pos': (13, 1), 'type': 'Table'}, {'pos': (15, 7), 'type': 'Table'}, {'pos': (7, 3), 'type': 'Table'}, {'pos': (1, 17), 'type': 'Table'}, {'pos': (13, 19), 'type': 'Table'}, {'pos': (5, 5), 'type': 'Table'}, {'pos': (17, 7), 'type': 'Table'}, {'pos': (9, 3), 'type': 'Table'}, {'pos': (3, 17), 'type': 'Table'}, {'pos': (11, 9), 'type': 'Table'}, {'pos': (13, 3), 'type': 'Table'}, {'pos': (15, 9), 'type': 'Table'}, {'pos': (7, 5), 'type': 'Table'}, {'pos': (1, 19), 'type': 'Table'}, {'pos': (3, 1), 'type': 'Table'}, {'pos': (5, 7), 'type': 'Table'}, {'pos': (17, 9), 'type': 'Table'}, {'pos': (9, 5), 'type': 'Table'}, {'pos': (3, 19), 'type': 'Table'}, {'pos': (1, 3), 'type': 'Table'}, {'pos': (13, 5), 'type': 'Table'}, {'pos': (15, 11), 'type': 'Table'}, {'pos': (7, 7), 'type': 'Table'}, {'pos': (3, 3), 'type': 'Table'}, {'pos': (5, 9), 'type': 'Table'}, {'pos': (17, 11), 'type': 'Table'}, {'pos': (9, 7), 'type': 'Table'}, {'pos': (1, 5), 'type': 'Table'}, {'pos': (13, 7), 'type': 'Table'}, {'pos': (15, 13), 'type': 'Table'}, {'pos': (7, 9), 'type': 'Table'}, {'pos': (3, 5), 'type': 'Table'}, {'pos': (5, 11), 'type': 'Table'}, {'pos': (9, 9), 'type': 'Table'}, {'pos': (19, 13), 'type': 'Table'}, {'pos': (1, 7), 'type': 'Table'}, {'pos': (13, 9), 'type': 'Table'}, {'pos': (7, 11), 'type': 'Table'}, {'pos': (3, 7), 'type': 'Table'}, {'pos': (5, 13), 'type': 'Table'}, {'pos': (19, 15), 'type': 'Table'}, {'pos': (1, 9), 'type': 'Table'}, {'pos': (11, 11), 'type': 'Table'}, {'pos': (13, 11), 'type': 'Table'}, {'pos': (3, 9), 'type': 'Table'}, {'pos': (19, 17), 'type': 'Table'}, {'pos': (1, 11), 'type': 'Table'}, {'pos': (11, 13), 'type': 'Table'}, {'pos': (3, 11), 'type': 'Table'}, {'pos': (19, 1), 'type': 'Table'}, {'pos': (17, 13), 'type': 'Table'}, {'pos': (19, 19), 'type': 'Table'}, {'pos': (1, 13), 'type': 'Table'}, {'pos': (11, 15), 'type': 'Table'}, {'pos': (15, 15), 'type': 'Table'}, {'pos': (19, 3), 'type': 'Table'}, {'pos': (17, 15), 'type': 'Table'}, {'pos': (9, 11), 'type': 'Table'}, {'pos': (11, 17), 'type': 'Table'}, {'pos': (15, 17), 'type': 'Table'}, {'pos': (7, 13), 'type': 'Table'}, {'pos': (19, 5), 'type': 'Table'}, {'pos': (11, 1), 'type': 'Table'}, {'pos': (5, 15), 'type': 'Table'}, {'pos': (17, 17), 'type': 'Table'}, {'pos': (9, 13), 'type': 'Table'}, {'pos': (11, 19), 'type': 'Table'}, {'pos': (15, 1), 'type': 'Table'}, {'pos': (13, 13), 'type': 'Table'}, {'pos': (15, 19), 'type': 'Table'}, {'pos': (7, 15), 'type': 'Table'}, {'pos': (17, 1), 'type': 'Table'}, {'pos': (19, 7), 'type': 'Table'}, {'pos': (1, 1), 'type': 'Table'}, {'pos': (11, 3), 'type': 'Table'}, {'pos': (5, 17), 'type': 'Table'}, {'pos': (17, 19), 'type': 'Table'}, {'pos': (9, 15), 'type': 'Table'}, {'pos': (15, 3), 'type': 'Table'}, {'pos': (13, 15), 'type': 'Table'}, {'pos': (12, 12), 'type': 'WaiterAgent'}, {'pos': (12, 12), 'type': 'WaiterAgent'}, {'pos': (12, 12), 'type': 'WaiterAgent'}, {'pos': (12, 12), 'type': 'WaiterAgent'}, {'pos': (12, 12), 'type': 'WaiterAgent'}, {'pos': (12, 12), 'type': 'WaiterAgent'}, {'pos': (12, 12), 'type': 'WaiterAgent'}, {'pos': (12, 12), 'type': 'WaiterAgent'}, {'pos': (12, 12), 'type': 'WaiterAgent'}, {'pos': (9, 8), 'type': 'WaiterAgent'}, {'pos': (17, 9), 'type': 'CustomerAgent'}, {'pos': (9, 13), 'type': 'CustomerAgent'}, {'pos': (3, 11), 'type': 'CustomerAgent'}, {'pos': (5, 3), 'type': 'CustomerAgent'}, {'pos': (1, 15), 'type': 'CustomerAgent'}, {'pos': (3, 5), 'type': 'CustomerAgent'}, {'pos': (11, 11), 'type': 'CustomerAgent'}, {'pos': (3, 19), 'type': 'CustomerAgent'}, {'pos': (9, 19), 'type': 'CustomerAgent'}, {'pos': (5, 7), 'type': 'CustomerAgent'}, {'pos': (15, 13), 'type': 'CustomerAgent'}, {'pos': (9, 9), 'type': 'CustomerAgent'}, {'pos': (11, 5), 'type': 'CustomerAgent'}, {'pos': (5, 11), 'type': 'CustomerAgent'}, {'pos': (11, 7), 'type': 'CustomerAgent'}, {'pos': (15, 3), 'type': 'CustomerAgent'}, {'pos': (7, 15), 'type': 'CustomerAgent'}, {'pos': (17, 3), 'type': 'CustomerAgent'}, {'pos': (17, 7), 'type': 'CustomerAgent'}, {'pos': (9, 15), 'type': 'CustomerAgent'}, {'pos': (19, 3), 'type': 'CustomerAgent'}, {'pos': (3, 9), 'type': 'CustomerAgent'}, {'pos': (19, 9), 'type': 'CustomerAgent'}, {'pos': (17, 13), 'type': 'CustomerAgent'}, {'pos': (7, 5), 'type': 'CustomerAgent'}, {'pos': (1, 7), 'type': 'CustomerAgent'}, {'pos': (11, 3), 'type': 'CustomerAgent'}, {'pos': (7, 9), 'type': 'CustomerAgent'}]}]\n"
     ]
    }
   ],
   "source": [
    "waiter_positions = {}\n",
    "for i in range(len(results)):\n",
    "    grid_states = results[i]['GridState']\n",
    "    waiter_positions_step = []\n",
    "    for grid_state in grid_states:\n",
    "        if grid_state['type'] == \"Kitchen\":\n",
    "            waiter_positions_step.append(grid_state['pos'])\n",
    "    waiter_positions[i] = waiter_positions_step\n",
    "\n",
    "print(waiter_positions)\n",
    "\n",
    "print(results)\n"
   ]
  },
  {
   "cell_type": "code",
   "execution_count": 6,
   "metadata": {
    "ExecuteTime": {
     "end_time": "2025-02-22T14:52:11.227371Z",
     "start_time": "2025-02-22T14:51:55.059753Z"
    }
   },
   "outputs": [
    {
     "data": {
      "image/png": "[encoded data removed]",
      "text/plain": [
       "<Figure size 1000x1000 with 1 Axes>"
      ]
     },
     "metadata": {},
     "output_type": "display_data"
    },
    {
     "data": {
      "image/png": "[encoded data removed]",
      "text/plain": [
       "<Figure size 1500x1000 with 1 Axes>"
      ]
     },
     "metadata": {},
     "output_type": "display_data"
    },
    {
     "data": {
      "application/vnd.plotly.v1+json": {
       "config": {
        "plotlyServerURL": "https://plot.ly"
       },
       "data": [
        {
         "alignmentgroup": "True",
         "bingroup": "x",
         "histfunc": "sum",
         "hovertemplate": "customer_nr=12<br>time=%{x}<br>sum of waiting_time=%{y}<extra></extra>",
         "legendgroup": "12",
         "marker": {
          "color": "#636efa",
          "pattern": {
           "shape": ""
          }
         },
         "name": "12",
         "nbinsx": 15,
         "offsetgroup": "12",
         "orientation": "v",
         "showlegend": true,
         "type": "histogram",
         "x": [
          "2024-01-01T11:05:00",
          "2024-01-01T11:10:00",
          "2024-01-01T11:15:00",
          "2024-01-01T11:20:00",
          "2024-01-01T11:25:00",
          "2024-01-01T11:30:00",
          "2024-01-01T11:35:00",
          "2024-01-01T11:40:00",
          "2024-01-01T11:45:00",
          "2024-01-01T11:50:00",
          "2024-01-01T11:55:00",
          "2024-01-01T12:00:00",
          "2024-01-01T12:05:00",
          "2024-01-01T12:10:00",
          "2024-01-01T12:15:00"
         ],
         "xaxis": "x",
         "y": [
          0,
          5,
          5,
          5,
          5,
          5,
          5,
          5,
          5,
          5,
          5,
          5,
          5,
          5,
          5
         ],
         "yaxis": "y"
        },
        {
         "alignmentgroup": "True",
         "bingroup": "x",
         "histfunc": "sum",
         "hovertemplate": "customer_nr=13<br>time=%{x}<br>sum of waiting_time=%{y}<extra></extra>",
         "legendgroup": "13",
         "marker": {
          "color": "#EF553B",
          "pattern": {
           "shape": ""
          }
         },
         "name": "13",
         "nbinsx": 15,
         "offsetgroup": "13",
         "orientation": "v",
         "showlegend": true,
         "type": "histogram",
         "x": [
          "2024-01-01T11:05:00",
          "2024-01-01T11:10:00",
          "2024-01-01T11:15:00",
          "2024-01-01T11:20:00",
          "2024-01-01T11:25:00",
          "2024-01-01T11:30:00",
          "2024-01-01T11:35:00",
          "2024-01-01T11:40:00",
          "2024-01-01T11:45:00",
          "2024-01-01T11:50:00",
          "2024-01-01T11:55:00",
          "2024-01-01T12:00:00",
          "2024-01-01T12:05:00",
          "2024-01-01T12:10:00",
          "2024-01-01T12:15:00"
         ],
         "xaxis": "x",
         "y": [
          0,
          5,
          5,
          5,
          5,
          5,
          5,
          5,
          5,
          5,
          5,
          5,
          5,
          5,
          5
         ],
         "yaxis": "y"
        },
        {
         "alignmentgroup": "True",
         "bingroup": "x",
         "histfunc": "sum",
         "hovertemplate": "customer_nr=14<br>time=%{x}<br>sum of waiting_time=%{y}<extra></extra>",
         "legendgroup": "14",
         "marker": {
          "color": "#00cc96",
          "pattern": {
           "shape": ""
          }
         },
         "name": "14",
         "nbinsx": 15,
         "offsetgroup": "14",
         "orientation": "v",
         "showlegend": true,
         "type": "histogram",
         "x": [
          "2024-01-01T11:25:00",
          "2024-01-01T11:30:00",
          "2024-01-01T11:35:00",
          "2024-01-01T11:40:00",
          "2024-01-01T11:45:00",
          "2024-01-01T11:50:00",
          "2024-01-01T11:55:00",
          "2024-01-01T12:00:00",
          "2024-01-01T12:05:00",
          "2024-01-01T12:10:00",
          "2024-01-01T12:15:00"
         ],
         "xaxis": "x",
         "y": [
          0,
          5,
          5,
          5,
          5,
          5,
          5,
          5,
          5,
          5,
          5
         ],
         "yaxis": "y"
        },
        {
         "alignmentgroup": "True",
         "bingroup": "x",
         "histfunc": "sum",
         "hovertemplate": "customer_nr=15<br>time=%{x}<br>sum of waiting_time=%{y}<extra></extra>",
         "legendgroup": "15",
         "marker": {
          "color": "#ab63fa",
          "pattern": {
           "shape": ""
          }
         },
         "name": "15",
         "nbinsx": 15,
         "offsetgroup": "15",
         "orientation": "v",
         "showlegend": true,
         "type": "histogram",
         "x": [
          "2024-01-01T11:25:00",
          "2024-01-01T11:30:00",
          "2024-01-01T11:35:00",
          "2024-01-01T11:40:00",
          "2024-01-01T11:45:00",
          "2024-01-01T11:50:00",
          "2024-01-01T11:55:00",
          "2024-01-01T12:00:00",
          "2024-01-01T12:05:00",
          "2024-01-01T12:10:00",
          "2024-01-01T12:15:00"
         ],
         "xaxis": "x",
         "y": [
          0,
          5,
          5,
          5,
          5,
          5,
          5,
          5,
          5,
          5,
          5
         ],
         "yaxis": "y"
        },
        {
         "alignmentgroup": "True",
         "bingroup": "x",
         "histfunc": "sum",
         "hovertemplate": "customer_nr=16<br>time=%{x}<br>sum of waiting_time=%{y}<extra></extra>",
         "legendgroup": "16",
         "marker": {
          "color": "#FFA15A",
          "pattern": {
           "shape": ""
          }
         },
         "name": "16",
         "nbinsx": 15,
         "offsetgroup": "16",
         "orientation": "v",
         "showlegend": true,
         "type": "histogram",
         "x": [
          "2024-01-01T12:00:00",
          "2024-01-01T12:05:00",
          "2024-01-01T12:10:00",
          "2024-01-01T12:15:00"
         ],
         "xaxis": "x",
         "y": [
          0,
          5,
          5,
          5
         ],
         "yaxis": "y"
        },
        {
         "alignmentgroup": "True",
         "bingroup": "x",
         "histfunc": "sum",
         "hovertemplate": "customer_nr=17<br>time=%{x}<br>sum of waiting_time=%{y}<extra></extra>",
         "legendgroup": "17",
         "marker": {
          "color": "#19d3f3",
          "pattern": {
           "shape": ""
          }
         },
         "name": "17",
         "nbinsx": 15,
         "offsetgroup": "17",
         "orientation": "v",
         "showlegend": true,
         "type": "histogram",
         "x": [
          "2024-01-01T12:00:00",
          "2024-01-01T12:05:00",
          "2024-01-01T12:10:00",
          "2024-01-01T12:15:00"
         ],
         "xaxis": "x",
         "y": [
          0,
          5,
          5,
          5
         ],
         "yaxis": "y"
        },
        {
         "alignmentgroup": "True",
         "bingroup": "x",
         "histfunc": "sum",
         "hovertemplate": "customer_nr=18<br>time=%{x}<br>sum of waiting_time=%{y}<extra></extra>",
         "legendgroup": "18",
         "marker": {
          "color": "#FF6692",
          "pattern": {
           "shape": ""
          }
         },
         "name": "18",
         "nbinsx": 15,
         "offsetgroup": "18",
         "orientation": "v",
         "showlegend": true,
         "type": "histogram",
         "x": [
          "2024-01-01T12:00:00",
          "2024-01-01T12:05:00",
          "2024-01-01T12:10:00",
          "2024-01-01T12:15:00"
         ],
         "xaxis": "x",
         "y": [
          0,
          5,
          5,
          5
         ],
         "yaxis": "y"
        },
        {
         "alignmentgroup": "True",
         "bingroup": "x",
         "histfunc": "sum",
         "hovertemplate": "customer_nr=19<br>time=%{x}<br>sum of waiting_time=%{y}<extra></extra>",
         "legendgroup": "19",
         "marker": {
          "color": "#B6E880",
          "pattern": {
           "shape": ""
          }
         },
         "name": "19",
         "nbinsx": 15,
         "offsetgroup": "19",
         "orientation": "v",
         "showlegend": true,
         "type": "histogram",
         "x": [
          "2024-01-01T12:00:00",
          "2024-01-01T12:05:00",
          "2024-01-01T12:10:00",
          "2024-01-01T12:15:00"
         ],
         "xaxis": "x",
         "y": [
          0,
          5,
          5,
          5
         ],
         "yaxis": "y"
        },
        {
         "alignmentgroup": "True",
         "bingroup": "x",
         "histfunc": "sum",
         "hovertemplate": "customer_nr=20<br>time=%{x}<br>sum of waiting_time=%{y}<extra></extra>",
         "legendgroup": "20",
         "marker": {
          "color": "#FF97FF",
          "pattern": {
           "shape": ""
          }
         },
         "name": "20",
         "nbinsx": 15,
         "offsetgroup": "20",
         "orientation": "v",
         "showlegend": true,
         "type": "histogram",
         "x": [
          "2024-01-01T12:00:00",
          "2024-01-01T12:05:00",
          "2024-01-01T12:10:00",
          "2024-01-01T12:15:00"
         ],
         "xaxis": "x",
         "y": [
          0,
          5,
          5,
          5
         ],
         "yaxis": "y"
        },
        {
         "alignmentgroup": "True",
         "bingroup": "x",
         "histfunc": "sum",
         "hovertemplate": "customer_nr=21<br>time=%{x}<br>sum of waiting_time=%{y}<extra></extra>",
         "legendgroup": "21",
         "marker": {
          "color": "#FECB52",
          "pattern": {
           "shape": ""
          }
         },
         "name": "21",
         "nbinsx": 15,
         "offsetgroup": "21",
         "orientation": "v",
         "showlegend": true,
         "type": "histogram",
         "x": [
          "2024-01-01T12:05:00",
          "2024-01-01T12:10:00",
          "2024-01-01T12:15:00"
         ],
         "xaxis": "x",
         "y": [
          0,
          5,
          5
         ],
         "yaxis": "y"
        },
        {
         "alignmentgroup": "True",
         "bingroup": "x",
         "histfunc": "sum",
         "hovertemplate": "customer_nr=22<br>time=%{x}<br>sum of waiting_time=%{y}<extra></extra>",
         "legendgroup": "22",
         "marker": {
          "color": "#636efa",
          "pattern": {
           "shape": ""
          }
         },
         "name": "22",
         "nbinsx": 15,
         "offsetgroup": "22",
         "orientation": "v",
         "showlegend": true,
         "type": "histogram",
         "x": [
          "2024-01-01T12:05:00",
          "2024-01-01T12:10:00",
          "2024-01-01T12:15:00"
         ],
         "xaxis": "x",
         "y": [
          0,
          5,
          5
         ],
         "yaxis": "y"
        },
        {
         "alignmentgroup": "True",
         "bingroup": "x",
         "histfunc": "sum",
         "hovertemplate": "customer_nr=23<br>time=%{x}<br>sum of waiting_time=%{y}<extra></extra>",
         "legendgroup": "23",
         "marker": {
          "color": "#EF553B",
          "pattern": {
           "shape": ""
          }
         },
         "name": "23",
         "nbinsx": 15,
         "offsetgroup": "23",
         "orientation": "v",
         "showlegend": true,
         "type": "histogram",
         "x": [
          "2024-01-01T12:05:00",
          "2024-01-01T12:10:00",
          "2024-01-01T12:15:00"
         ],
         "xaxis": "x",
         "y": [
          0,
          5,
          5
         ],
         "yaxis": "y"
        },
        {
         "alignmentgroup": "True",
         "bingroup": "x",
         "histfunc": "sum",
         "hovertemplate": "customer_nr=24<br>time=%{x}<br>sum of waiting_time=%{y}<extra></extra>",
         "legendgroup": "24",
         "marker": {
          "color": "#00cc96",
          "pattern": {
           "shape": ""
          }
         },
         "name": "24",
         "nbinsx": 15,
         "offsetgroup": "24",
         "orientation": "v",
         "showlegend": true,
         "type": "histogram",
         "x": [
          "2024-01-01T12:10:00",
          "2024-01-01T12:15:00"
         ],
         "xaxis": "x",
         "y": [
          0,
          5
         ],
         "yaxis": "y"
        },
        {
         "alignmentgroup": "True",
         "bingroup": "x",
         "histfunc": "sum",
         "hovertemplate": "customer_nr=25<br>time=%{x}<br>sum of waiting_time=%{y}<extra></extra>",
         "legendgroup": "25",
         "marker": {
          "color": "#ab63fa",
          "pattern": {
           "shape": ""
          }
         },
         "name": "25",
         "nbinsx": 15,
         "offsetgroup": "25",
         "orientation": "v",
         "showlegend": true,
         "type": "histogram",
         "x": [
          "2024-01-01T12:10:00",
          "2024-01-01T12:15:00"
         ],
         "xaxis": "x",
         "y": [
          0,
          5
         ],
         "yaxis": "y"
        },
        {
         "alignmentgroup": "True",
         "bingroup": "x",
         "histfunc": "sum",
         "hovertemplate": "customer_nr=26<br>time=%{x}<br>sum of waiting_time=%{y}<extra></extra>",
         "legendgroup": "26",
         "marker": {
          "color": "#FFA15A",
          "pattern": {
           "shape": ""
          }
         },
         "name": "26",
         "nbinsx": 15,
         "offsetgroup": "26",
         "orientation": "v",
         "showlegend": true,
         "type": "histogram",
         "x": [
          "2024-01-01T12:10:00",
          "2024-01-01T12:15:00"
         ],
         "xaxis": "x",
         "y": [
          0,
          5
         ],
         "yaxis": "y"
        },
        {
         "alignmentgroup": "True",
         "bingroup": "x",
         "histfunc": "sum",
         "hovertemplate": "customer_nr=27<br>time=%{x}<br>sum of waiting_time=%{y}<extra></extra>",
         "legendgroup": "27",
         "marker": {
          "color": "#19d3f3",
          "pattern": {
           "shape": ""
          }
         },
         "name": "27",
         "nbinsx": 15,
         "offsetgroup": "27",
         "orientation": "v",
         "showlegend": true,
         "type": "histogram",
         "x": [
          "2024-01-01T12:10:00",
          "2024-01-01T12:15:00"
         ],
         "xaxis": "x",
         "y": [
          0,
          5
         ],
         "yaxis": "y"
        },
        {
         "alignmentgroup": "True",
         "bingroup": "x",
         "histfunc": "sum",
         "hovertemplate": "customer_nr=28<br>time=%{x}<br>sum of waiting_time=%{y}<extra></extra>",
         "legendgroup": "28",
         "marker": {
          "color": "#FF6692",
          "pattern": {
           "shape": ""
          }
         },
         "name": "28",
         "nbinsx": 15,
         "offsetgroup": "28",
         "orientation": "v",
         "showlegend": true,
         "type": "histogram",
         "x": [
          "2024-01-01T12:10:00",
          "2024-01-01T12:15:00"
         ],
         "xaxis": "x",
         "y": [
          0,
          5
         ],
         "yaxis": "y"
        },
        {
         "alignmentgroup": "True",
         "bingroup": "x",
         "histfunc": "sum",
         "hovertemplate": "customer_nr=29<br>time=%{x}<br>sum of waiting_time=%{y}<extra></extra>",
         "legendgroup": "29",
         "marker": {
          "color": "#B6E880",
          "pattern": {
           "shape": ""
          }
         },
         "name": "29",
         "nbinsx": 15,
         "offsetgroup": "29",
         "orientation": "v",
         "showlegend": true,
         "type": "histogram",
         "x": [
          "2024-01-01T12:10:00",
          "2024-01-01T12:15:00"
         ],
         "xaxis": "x",
         "y": [
          0,
          5
         ],
         "yaxis": "y"
        },
        {
         "alignmentgroup": "True",
         "bingroup": "x",
         "histfunc": "sum",
         "hovertemplate": "customer_nr=30<br>time=%{x}<br>sum of waiting_time=%{y}<extra></extra>",
         "legendgroup": "30",
         "marker": {
          "color": "#FF97FF",
          "pattern": {
           "shape": ""
          }
         },
         "name": "30",
         "nbinsx": 15,
         "offsetgroup": "30",
         "orientation": "v",
         "showlegend": true,
         "type": "histogram",
         "x": [
          "2024-01-01T12:10:00",
          "2024-01-01T12:15:00"
         ],
         "xaxis": "x",
         "y": [
          0,
          5
         ],
         "yaxis": "y"
        },
        {
         "alignmentgroup": "True",
         "bingroup": "x",
         "histfunc": "sum",
         "hovertemplate": "customer_nr=31<br>time=%{x}<br>sum of waiting_time=%{y}<extra></extra>",
         "legendgroup": "31",
         "marker": {
          "color": "#FECB52",
          "pattern": {
           "shape": ""
          }
         },
         "name": "31",
         "nbinsx": 15,
         "offsetgroup": "31",
         "orientation": "v",
         "showlegend": true,
         "type": "histogram",
         "x": [
          "2024-01-01T12:10:00",
          "2024-01-01T12:15:00"
         ],
         "xaxis": "x",
         "y": [
          0,
          5
         ],
         "yaxis": "y"
        },
        {
         "alignmentgroup": "True",
         "bingroup": "x",
         "histfunc": "sum",
         "hovertemplate": "customer_nr=32<br>time=%{x}<br>sum of waiting_time=%{y}<extra></extra>",
         "legendgroup": "32",
         "marker": {
          "color": "#636efa",
          "pattern": {
           "shape": ""
          }
         },
         "name": "32",
         "nbinsx": 15,
         "offsetgroup": "32",
         "orientation": "v",
         "showlegend": true,
         "type": "histogram",
         "x": [
          "2024-01-01T12:10:00",
          "2024-01-01T12:15:00"
         ],
         "xaxis": "x",
         "y": [
          0,
          5
         ],
         "yaxis": "y"
        },
        {
         "alignmentgroup": "True",
         "bingroup": "x",
         "histfunc": "sum",
         "hovertemplate": "customer_nr=33<br>time=%{x}<br>sum of waiting_time=%{y}<extra></extra>",
         "legendgroup": "33",
         "marker": {
          "color": "#EF553B",
          "pattern": {
           "shape": ""
          }
         },
         "name": "33",
         "nbinsx": 15,
         "offsetgroup": "33",
         "orientation": "v",
         "showlegend": true,
         "type": "histogram",
         "x": [
          "2024-01-01T12:10:00",
          "2024-01-01T12:15:00"
         ],
         "xaxis": "x",
         "y": [
          0,
          5
         ],
         "yaxis": "y"
        },
        {
         "alignmentgroup": "True",
         "bingroup": "x",
         "histfunc": "sum",
         "hovertemplate": "customer_nr=34<br>time=%{x}<br>sum of waiting_time=%{y}<extra></extra>",
         "legendgroup": "34",
         "marker": {
          "color": "#00cc96",
          "pattern": {
           "shape": ""
          }
         },
         "name": "34",
         "nbinsx": 15,
         "offsetgroup": "34",
         "orientation": "v",
         "showlegend": true,
         "type": "histogram",
         "x": [
          "2024-01-01T12:15:00"
         ],
         "xaxis": "x",
         "y": [
          0
         ],
         "yaxis": "y"
        },
        {
         "alignmentgroup": "True",
         "bingroup": "x",
         "histfunc": "sum",
         "hovertemplate": "customer_nr=35<br>time=%{x}<br>sum of waiting_time=%{y}<extra></extra>",
         "legendgroup": "35",
         "marker": {
          "color": "#ab63fa",
          "pattern": {
           "shape": ""
          }
         },
         "name": "35",
         "nbinsx": 15,
         "offsetgroup": "35",
         "orientation": "v",
         "showlegend": true,
         "type": "histogram",
         "x": [
          "2024-01-01T12:15:00"
         ],
         "xaxis": "x",
         "y": [
          0
         ],
         "yaxis": "y"
        },
        {
         "alignmentgroup": "True",
         "bingroup": "x",
         "histfunc": "sum",
         "hovertemplate": "customer_nr=36<br>time=%{x}<br>sum of waiting_time=%{y}<extra></extra>",
         "legendgroup": "36",
         "marker": {
          "color": "#FFA15A",
          "pattern": {
           "shape": ""
          }
         },
         "name": "36",
         "nbinsx": 15,
         "offsetgroup": "36",
         "orientation": "v",
         "showlegend": true,
         "type": "histogram",
         "x": [
          "2024-01-01T12:15:00"
         ],
         "xaxis": "x",
         "y": [
          0
         ],
         "yaxis": "y"
        },
        {
         "alignmentgroup": "True",
         "bingroup": "x",
         "histfunc": "sum",
         "hovertemplate": "customer_nr=37<br>time=%{x}<br>sum of waiting_time=%{y}<extra></extra>",
         "legendgroup": "37",
         "marker": {
          "color": "#19d3f3",
          "pattern": {
           "shape": ""
          }
         },
         "name": "37",
         "nbinsx": 15,
         "offsetgroup": "37",
         "orientation": "v",
         "showlegend": true,
         "type": "histogram",
         "x": [
          "2024-01-01T12:15:00"
         ],
         "xaxis": "x",
         "y": [
          0
         ],
         "yaxis": "y"
        },
        {
         "alignmentgroup": "True",
         "bingroup": "x",
         "histfunc": "sum",
         "hovertemplate": "customer_nr=38<br>time=%{x}<br>sum of waiting_time=%{y}<extra></extra>",
         "legendgroup": "38",
         "marker": {
          "color": "#FF6692",
          "pattern": {
           "shape": ""
          }
         },
         "name": "38",
         "nbinsx": 15,
         "offsetgroup": "38",
         "orientation": "v",
         "showlegend": true,
         "type": "histogram",
         "x": [
          "2024-01-01T12:15:00"
         ],
         "xaxis": "x",
         "y": [
          0
         ],
         "yaxis": "y"
        },
        {
         "alignmentgroup": "True",
         "bingroup": "x",
         "histfunc": "sum",
         "hovertemplate": "customer_nr=39<br>time=%{x}<br>sum of waiting_time=%{y}<extra></extra>",
         "legendgroup": "39",
         "marker": {
          "color": "#B6E880",
          "pattern": {
           "shape": ""
          }
         },
         "name": "39",
         "nbinsx": 15,
         "offsetgroup": "39",
         "orientation": "v",
         "showlegend": true,
         "type": "histogram",
         "x": [
          "2024-01-01T12:15:00"
         ],
         "xaxis": "x",
         "y": [
          0
         ],
         "yaxis": "y"
        }
       ],
       "layout": {
        "barmode": "group",
        "height": 400,
        "legend": {
         "title": {
          "text": "customer_nr"
         },
         "tracegroupgap": 0
        },
        "margin": {
         "t": 60
        },
        "template": {
         "data": {
          "bar": [
           {
            "error_x": {
             "color": "#2a3f5f"
            },
            "error_y": {
             "color": "#2a3f5f"
            },
            "marker": {
             "line": {
              "color": "#E5ECF6",
              "width": 0.5
             },
             "pattern": {
              "fillmode": "overlay",
              "size": 10,
              "solidity": 0.2
             }
            },
            "type": "bar"
           }
          ],
          "barpolar": [
           {
            "marker": {
             "line": {
              "color": "#E5ECF6",
              "width": 0.5
             },
             "pattern": {
              "fillmode": "overlay",
              "size": 10,
              "solidity": 0.2
             }
            },
            "type": "barpolar"
           }
          ],
          "carpet": [
           {
            "aaxis": {
             "endlinecolor": "#2a3f5f",
             "gridcolor": "white",
             "linecolor": "white",
             "minorgridcolor": "white",
             "startlinecolor": "#2a3f5f"
            },
            "baxis": {
             "endlinecolor": "#2a3f5f",
             "gridcolor": "white",
             "linecolor": "white",
             "minorgridcolor": "white",
             "startlinecolor": "#2a3f5f"
            },
            "type": "carpet"
           }
          ],
          "choropleth": [
           {
            "colorbar": {
             "outlinewidth": 0,
             "ticks": ""
            },
            "type": "choropleth"
           }
          ],
          "contour": [
           {
            "colorbar": {
             "outlinewidth": 0,
             "ticks": ""
            },
            "colorscale": [
             [
              0,
              "#0d0887"
             ],
             [
              0.1111111111111111,
              "#46039f"
             ],
             [
              0.2222222222222222,
              "#7201a8"
             ],
             [
              0.3333333333333333,
              "#9c179e"
             ],
             [
              0.4444444444444444,
              "#bd3786"
             ],
             [
              0.5555555555555556,
              "#d8576b"
             ],
             [
              0.6666666666666666,
              "#ed7953"
             ],
             [
              0.7777777777777778,
              "#fb9f3a"
             ],
             [
              0.8888888888888888,
              "#fdca26"
             ],
             [
              1,
              "#f0f921"
             ]
            ],
            "type": "contour"
           }
          ],
          "contourcarpet": [
           {
            "colorbar": {
             "outlinewidth": 0,
             "ticks": ""
            },
            "type": "contourcarpet"
           }
          ],
          "heatmap": [
           {
            "colorbar": {
             "outlinewidth": 0,
             "ticks": ""
            },
            "colorscale": [
             [
              0,
              "#0d0887"
             ],
             [
              0.1111111111111111,
              "#46039f"
             ],
             [
              0.2222222222222222,
              "#7201a8"
             ],
             [
              0.3333333333333333,
              "#9c179e"
             ],
             [
              0.4444444444444444,
              "#bd3786"
             ],
             [
              0.5555555555555556,
              "#d8576b"
             ],
             [
              0.6666666666666666,
              "#ed7953"
             ],
             [
              0.7777777777777778,
              "#fb9f3a"
             ],
             [
              0.8888888888888888,
              "#fdca26"
             ],
             [
              1,
              "#f0f921"
             ]
            ],
            "type": "heatmap"
           }
          ],
          "heatmapgl": [
           {
            "colorbar": {
             "outlinewidth": 0,
             "ticks": ""
            },
            "colorscale": [
             [
              0,
              "#0d0887"
             ],
             [
              0.1111111111111111,
              "#46039f"
             ],
             [
              0.2222222222222222,
              "#7201a8"
             ],
             [
              0.3333333333333333,
              "#9c179e"
             ],
             [
              0.4444444444444444,
              "#bd3786"
             ],
             [
              0.5555555555555556,
              "#d8576b"
             ],
             [
              0.6666666666666666,
              "#ed7953"
             ],
             [
              0.7777777777777778,
              "#fb9f3a"
             ],
             [
              0.8888888888888888,
              "#fdca26"
             ],
             [
              1,
              "#f0f921"
             ]
            ],
            "type": "heatmapgl"
           }
          ],
          "histogram": [
           {
            "marker": {
             "pattern": {
              "fillmode": "overlay",
              "size": 10,
              "solidity": 0.2
             }
            },
            "type": "histogram"
           }
          ],
          "histogram2d": [
           {
            "colorbar": {
             "outlinewidth": 0,
             "ticks": ""
            },
            "colorscale": [
             [
              0,
              "#0d0887"
             ],
             [
              0.1111111111111111,
              "#46039f"
             ],
             [
              0.2222222222222222,
              "#7201a8"
             ],
             [
              0.3333333333333333,
              "#9c179e"
             ],
             [
              0.4444444444444444,
              "#bd3786"
             ],
             [
              0.5555555555555556,
              "#d8576b"
             ],
             [
              0.6666666666666666,
              "#ed7953"
             ],
             [
              0.7777777777777778,
              "#fb9f3a"
             ],
             [
              0.8888888888888888,
              "#fdca26"
             ],
             [
              1,
              "#f0f921"
             ]
            ],
            "type": "histogram2d"
           }
          ],
          "histogram2dcontour": [
           {
            "colorbar": {
             "outlinewidth": 0,
             "ticks": ""
            },
            "colorscale": [
             [
              0,
              "#0d0887"
             ],
             [
              0.1111111111111111,
              "#46039f"
             ],
             [
              0.2222222222222222,
              "#7201a8"
             ],
             [
              0.3333333333333333,
              "#9c179e"
             ],
             [
              0.4444444444444444,
              "#bd3786"
             ],
             [
              0.5555555555555556,
              "#d8576b"
             ],
             [
              0.6666666666666666,
              "#ed7953"
             ],
             [
              0.7777777777777778,
              "#fb9f3a"
             ],
             [
              0.8888888888888888,
              "#fdca26"
             ],
             [
              1,
              "#f0f921"
             ]
            ],
            "type": "histogram2dcontour"
           }
          ],
          "mesh3d": [
           {
            "colorbar": {
             "outlinewidth": 0,
             "ticks": ""
            },
            "type": "mesh3d"
           }
          ],
          "parcoords": [
           {
            "line": {
             "colorbar": {
              "outlinewidth": 0,
              "ticks": ""
             }
            },
            "type": "parcoords"
           }
          ],
          "pie": [
           {
            "automargin": true,
            "type": "pie"
           }
          ],
          "scatter": [
           {
            "fillpattern": {
             "fillmode": "overlay",
             "size": 10,
             "solidity": 0.2
            },
            "type": "scatter"
           }
          ],
          "scatter3d": [
           {
            "line": {
             "colorbar": {
              "outlinewidth": 0,
              "ticks": ""
             }
            },
            "marker": {
             "colorbar": {
              "outlinewidth": 0,
              "ticks": ""
             }
            },
            "type": "scatter3d"
           }
          ],
          "scattercarpet": [
           {
            "marker": {
             "colorbar": {
              "outlinewidth": 0,
              "ticks": ""
             }
            },
            "type": "scattercarpet"
           }
          ],
          "scattergeo": [
           {
            "marker": {
             "colorbar": {
              "outlinewidth": 0,
              "ticks": ""
             }
            },
            "type": "scattergeo"
           }
          ],
          "scattergl": [
           {
            "marker": {
             "colorbar": {
              "outlinewidth": 0,
              "ticks": ""
             }
            },
            "type": "scattergl"
           }
          ],
          "scattermapbox": [
           {
            "marker": {
             "colorbar": {
              "outlinewidth": 0,
              "ticks": ""
             }
            },
            "type": "scattermapbox"
           }
          ],
          "scatterpolar": [
           {
            "marker": {
             "colorbar": {
              "outlinewidth": 0,
              "ticks": ""
             }
            },
            "type": "scatterpolar"
           }
          ],
          "scatterpolargl": [
           {
            "marker": {
             "colorbar": {
              "outlinewidth": 0,
              "ticks": ""
             }
            },
            "type": "scatterpolargl"
           }
          ],
          "scatterternary": [
           {
            "marker": {
             "colorbar": {
              "outlinewidth": 0,
              "ticks": ""
             }
            },
            "type": "scatterternary"
           }
          ],
          "surface": [
           {
            "colorbar": {
             "outlinewidth": 0,
             "ticks": ""
            },
            "colorscale": [
             [
              0,
              "#0d0887"
             ],
             [
              0.1111111111111111,
              "#46039f"
             ],
             [
              0.2222222222222222,
              "#7201a8"
             ],
             [
              0.3333333333333333,
              "#9c179e"
             ],
             [
              0.4444444444444444,
              "#bd3786"
             ],
             [
              0.5555555555555556,
              "#d8576b"
             ],
             [
              0.6666666666666666,
              "#ed7953"
             ],
             [
              0.7777777777777778,
              "#fb9f3a"
             ],
             [
              0.8888888888888888,
              "#fdca26"
             ],
             [
              1,
              "#f0f921"
             ]
            ],
            "type": "surface"
           }
          ],
          "table": [
           {
            "cells": {
             "fill": {
              "color": "#EBF0F8"
             },
             "line": {
              "color": "white"
             }
            },
            "header": {
             "fill": {
              "color": "#C8D4E3"
             },
             "line": {
              "color": "white"
             }
            },
            "type": "table"
           }
          ]
         },
         "layout": {
          "annotationdefaults": {
           "arrowcolor": "#2a3f5f",
           "arrowhead": 0,
           "arrowwidth": 1
          },
          "autotypenumbers": "strict",
          "coloraxis": {
           "colorbar": {
            "outlinewidth": 0,
            "ticks": ""
           }
          },
          "colorscale": {
           "diverging": [
            [
             0,
             "#8e0152"
            ],
            [
             0.1,
             "#c51b7d"
            ],
            [
             0.2,
             "#de77ae"
            ],
            [
             0.3,
             "#f1b6da"
            ],
            [
             0.4,
             "#fde0ef"
            ],
            [
             0.5,
             "#f7f7f7"
            ],
            [
             0.6,
             "#e6f5d0"
            ],
            [
             0.7,
             "#b8e186"
            ],
            [
             0.8,
             "#7fbc41"
            ],
            [
             0.9,
             "#4d9221"
            ],
            [
             1,
             "#276419"
            ]
           ],
           "sequential": [
            [
             0,
             "#0d0887"
            ],
            [
             0.1111111111111111,
             "#46039f"
            ],
            [
             0.2222222222222222,
             "#7201a8"
            ],
            [
             0.3333333333333333,
             "#9c179e"
            ],
            [
             0.4444444444444444,
             "#bd3786"
            ],
            [
             0.5555555555555556,
             "#d8576b"
            ],
            [
             0.6666666666666666,
             "#ed7953"
            ],
            [
             0.7777777777777778,
             "#fb9f3a"
            ],
            [
             0.8888888888888888,
             "#fdca26"
            ],
            [
             1,
             "#f0f921"
            ]
           ],
           "sequentialminus": [
            [
             0,
             "#0d0887"
            ],
            [
             0.1111111111111111,
             "#46039f"
            ],
            [
             0.2222222222222222,
             "#7201a8"
            ],
            [
             0.3333333333333333,
             "#9c179e"
            ],
            [
             0.4444444444444444,
             "#bd3786"
            ],
            [
             0.5555555555555556,
             "#d8576b"
            ],
            [
             0.6666666666666666,
             "#ed7953"
            ],
            [
             0.7777777777777778,
             "#fb9f3a"
            ],
            [
             0.8888888888888888,
             "#fdca26"
            ],
            [
             1,
             "#f0f921"
            ]
           ]
          },
          "colorway": [
           "#636efa",
           "#EF553B",
           "#00cc96",
           "#ab63fa",
           "#FFA15A",
           "#19d3f3",
           "#FF6692",
           "#B6E880",
           "#FF97FF",
           "#FECB52"
          ],
          "font": {
           "color": "#2a3f5f"
          },
          "geo": {
           "bgcolor": "white",
           "lakecolor": "white",
           "landcolor": "#E5ECF6",
           "showlakes": true,
           "showland": true,
           "subunitcolor": "white"
          },
          "hoverlabel": {
           "align": "left"
          },
          "hovermode": "closest",
          "mapbox": {
           "style": "light"
          },
          "paper_bgcolor": "white",
          "plot_bgcolor": "#E5ECF6",
          "polar": {
           "angularaxis": {
            "gridcolor": "white",
            "linecolor": "white",
            "ticks": ""
           },
           "bgcolor": "#E5ECF6",
           "radialaxis": {
            "gridcolor": "white",
            "linecolor": "white",
            "ticks": ""
           }
          },
          "scene": {
           "xaxis": {
            "backgroundcolor": "#E5ECF6",
            "gridcolor": "white",
            "gridwidth": 2,
            "linecolor": "white",
            "showbackground": true,
            "ticks": "",
            "zerolinecolor": "white"
           },
           "yaxis": {
            "backgroundcolor": "#E5ECF6",
            "gridcolor": "white",
            "gridwidth": 2,
            "linecolor": "white",
            "showbackground": true,
            "ticks": "",
            "zerolinecolor": "white"
           },
           "zaxis": {
            "backgroundcolor": "#E5ECF6",
            "gridcolor": "white",
            "gridwidth": 2,
            "linecolor": "white",
            "showbackground": true,
            "ticks": "",
            "zerolinecolor": "white"
           }
          },
          "shapedefaults": {
           "line": {
            "color": "#2a3f5f"
           }
          },
          "ternary": {
           "aaxis": {
            "gridcolor": "white",
            "linecolor": "white",
            "ticks": ""
           },
           "baxis": {
            "gridcolor": "white",
            "linecolor": "white",
            "ticks": ""
           },
           "bgcolor": "#E5ECF6",
           "caxis": {
            "gridcolor": "white",
            "linecolor": "white",
            "ticks": ""
           }
          },
          "title": {
           "x": 0.05
          },
          "xaxis": {
           "automargin": true,
           "gridcolor": "white",
           "linecolor": "white",
           "ticks": "",
           "title": {
            "standoff": 15
           },
           "zerolinecolor": "white",
           "zerolinewidth": 2
          },
          "yaxis": {
           "automargin": true,
           "gridcolor": "white",
           "linecolor": "white",
           "ticks": "",
           "title": {
            "standoff": 15
           },
           "zerolinecolor": "white",
           "zerolinewidth": 2
          }
         }
        },
        "xaxis": {
         "anchor": "y",
         "domain": [
          0,
          1
         ],
         "title": {
          "text": "Time of Day"
         }
        },
        "yaxis": {
         "anchor": "x",
         "domain": [
          0,
          1
         ],
         "title": {
          "text": "sum of waiting_time"
         }
        }
       }
      }
     },
     "metadata": {},
     "output_type": "display_data"
    },
    {
     "name": "stdout",
     "output_type": "stream",
     "text": [
      "None\n"
     ]
    },
    {
     "data": {
      "application/vnd.plotly.v1+json": {
       "config": {
        "plotlyServerURL": "https://plot.ly"
       },
       "data": [
        {
         "alignmentgroup": "True",
         "bingroup": "x",
         "histfunc": "sum",
         "hovertemplate": "customer_nr=12<br>time=%{x}<br>sum of order_status=%{y}<extra></extra>",
         "legendgroup": "12",
         "marker": {
          "color": "#636efa",
          "pattern": {
           "shape": ""
          }
         },
         "name": "12",
         "nbinsx": 15,
         "offsetgroup": "12",
         "orientation": "v",
         "showlegend": true,
         "type": "histogram",
         "x": [
          "2024-01-01T11:05:00",
          "2024-01-01T11:10:00",
          "2024-01-01T11:15:00",
          "2024-01-01T11:20:00",
          "2024-01-01T11:25:00",
          "2024-01-01T11:30:00",
          "2024-01-01T11:35:00",
          "2024-01-01T11:40:00",
          "2024-01-01T11:45:00",
          "2024-01-01T11:50:00",
          "2024-01-01T11:55:00",
          "2024-01-01T12:00:00",
          "2024-01-01T12:05:00",
          "2024-01-01T12:10:00",
          "2024-01-01T12:15:00"
         ],
         "xaxis": "x",
         "y": [
          1,
          1,
          3,
          3,
          3,
          3,
          3,
          3,
          3,
          3,
          3,
          3,
          3,
          3,
          3
         ],
         "yaxis": "y"
        },
        {
         "alignmentgroup": "True",
         "bingroup": "x",
         "histfunc": "sum",
         "hovertemplate": "customer_nr=13<br>time=%{x}<br>sum of order_status=%{y}<extra></extra>",
         "legendgroup": "13",
         "marker": {
          "color": "#EF553B",
          "pattern": {
           "shape": ""
          }
         },
         "name": "13",
         "nbinsx": 15,
         "offsetgroup": "13",
         "orientation": "v",
         "showlegend": true,
         "type": "histogram",
         "x": [
          "2024-01-01T11:05:00",
          "2024-01-01T11:10:00",
          "2024-01-01T11:15:00",
          "2024-01-01T11:20:00",
          "2024-01-01T11:25:00",
          "2024-01-01T11:30:00",
          "2024-01-01T11:35:00",
          "2024-01-01T11:40:00",
          "2024-01-01T11:45:00",
          "2024-01-01T11:50:00",
          "2024-01-01T11:55:00",
          "2024-01-01T12:00:00",
          "2024-01-01T12:05:00",
          "2024-01-01T12:10:00",
          "2024-01-01T12:15:00"
         ],
         "xaxis": "x",
         "y": [
          1,
          1,
          3,
          3,
          3,
          3,
          3,
          3,
          3,
          3,
          3,
          3,
          3,
          3,
          3
         ],
         "yaxis": "y"
        },
        {
         "alignmentgroup": "True",
         "bingroup": "x",
         "histfunc": "sum",
         "hovertemplate": "customer_nr=14<br>time=%{x}<br>sum of order_status=%{y}<extra></extra>",
         "legendgroup": "14",
         "marker": {
          "color": "#00cc96",
          "pattern": {
           "shape": ""
          }
         },
         "name": "14",
         "nbinsx": 15,
         "offsetgroup": "14",
         "orientation": "v",
         "showlegend": true,
         "type": "histogram",
         "x": [
          "2024-01-01T11:25:00",
          "2024-01-01T11:30:00",
          "2024-01-01T11:35:00",
          "2024-01-01T11:40:00",
          "2024-01-01T11:45:00",
          "2024-01-01T11:50:00",
          "2024-01-01T11:55:00",
          "2024-01-01T12:00:00",
          "2024-01-01T12:05:00",
          "2024-01-01T12:10:00",
          "2024-01-01T12:15:00"
         ],
         "xaxis": "x",
         "y": [
          1,
          1,
          3,
          3,
          3,
          3,
          3,
          3,
          3,
          3,
          3
         ],
         "yaxis": "y"
        },
        {
         "alignmentgroup": "True",
         "bingroup": "x",
         "histfunc": "sum",
         "hovertemplate": "customer_nr=15<br>time=%{x}<br>sum of order_status=%{y}<extra></extra>",
         "legendgroup": "15",
         "marker": {
          "color": "#ab63fa",
          "pattern": {
           "shape": ""
          }
         },
         "name": "15",
         "nbinsx": 15,
         "offsetgroup": "15",
         "orientation": "v",
         "showlegend": true,
         "type": "histogram",
         "x": [
          "2024-01-01T11:25:00",
          "2024-01-01T11:30:00",
          "2024-01-01T11:35:00",
          "2024-01-01T11:40:00",
          "2024-01-01T11:45:00",
          "2024-01-01T11:50:00",
          "2024-01-01T11:55:00",
          "2024-01-01T12:00:00",
          "2024-01-01T12:05:00",
          "2024-01-01T12:10:00",
          "2024-01-01T12:15:00"
         ],
         "xaxis": "x",
         "y": [
          1,
          1,
          3,
          3,
          3,
          3,
          3,
          3,
          3,
          3,
          3
         ],
         "yaxis": "y"
        },
        {
         "alignmentgroup": "True",
         "bingroup": "x",
         "histfunc": "sum",
         "hovertemplate": "customer_nr=16<br>time=%{x}<br>sum of order_status=%{y}<extra></extra>",
         "legendgroup": "16",
         "marker": {
          "color": "#FFA15A",
          "pattern": {
           "shape": ""
          }
         },
         "name": "16",
         "nbinsx": 15,
         "offsetgroup": "16",
         "orientation": "v",
         "showlegend": true,
         "type": "histogram",
         "x": [
          "2024-01-01T12:00:00",
          "2024-01-01T12:05:00",
          "2024-01-01T12:10:00",
          "2024-01-01T12:15:00"
         ],
         "xaxis": "x",
         "y": [
          1,
          1,
          3,
          3
         ],
         "yaxis": "y"
        },
        {
         "alignmentgroup": "True",
         "bingroup": "x",
         "histfunc": "sum",
         "hovertemplate": "customer_nr=17<br>time=%{x}<br>sum of order_status=%{y}<extra></extra>",
         "legendgroup": "17",
         "marker": {
          "color": "#19d3f3",
          "pattern": {
           "shape": ""
          }
         },
         "name": "17",
         "nbinsx": 15,
         "offsetgroup": "17",
         "orientation": "v",
         "showlegend": true,
         "type": "histogram",
         "x": [
          "2024-01-01T12:00:00",
          "2024-01-01T12:05:00",
          "2024-01-01T12:10:00",
          "2024-01-01T12:15:00"
         ],
         "xaxis": "x",
         "y": [
          1,
          1,
          3,
          3
         ],
         "yaxis": "y"
        },
        {
         "alignmentgroup": "True",
         "bingroup": "x",
         "histfunc": "sum",
         "hovertemplate": "customer_nr=18<br>time=%{x}<br>sum of order_status=%{y}<extra></extra>",
         "legendgroup": "18",
         "marker": {
          "color": "#FF6692",
          "pattern": {
           "shape": ""
          }
         },
         "name": "18",
         "nbinsx": 15,
         "offsetgroup": "18",
         "orientation": "v",
         "showlegend": true,
         "type": "histogram",
         "x": [
          "2024-01-01T12:00:00",
          "2024-01-01T12:05:00",
          "2024-01-01T12:10:00",
          "2024-01-01T12:15:00"
         ],
         "xaxis": "x",
         "y": [
          1,
          1,
          3,
          3
         ],
         "yaxis": "y"
        },
        {
         "alignmentgroup": "True",
         "bingroup": "x",
         "histfunc": "sum",
         "hovertemplate": "customer_nr=19<br>time=%{x}<br>sum of order_status=%{y}<extra></extra>",
         "legendgroup": "19",
         "marker": {
          "color": "#B6E880",
          "pattern": {
           "shape": ""
          }
         },
         "name": "19",
         "nbinsx": 15,
         "offsetgroup": "19",
         "orientation": "v",
         "showlegend": true,
         "type": "histogram",
         "x": [
          "2024-01-01T12:00:00",
          "2024-01-01T12:05:00",
          "2024-01-01T12:10:00",
          "2024-01-01T12:15:00"
         ],
         "xaxis": "x",
         "y": [
          1,
          1,
          3,
          3
         ],
         "yaxis": "y"
        },
        {
         "alignmentgroup": "True",
         "bingroup": "x",
         "histfunc": "sum",
         "hovertemplate": "customer_nr=20<br>time=%{x}<br>sum of order_status=%{y}<extra></extra>",
         "legendgroup": "20",
         "marker": {
          "color": "#FF97FF",
          "pattern": {
           "shape": ""
          }
         },
         "name": "20",
         "nbinsx": 15,
         "offsetgroup": "20",
         "orientation": "v",
         "showlegend": true,
         "type": "histogram",
         "x": [
          "2024-01-01T12:00:00",
          "2024-01-01T12:05:00",
          "2024-01-01T12:10:00",
          "2024-01-01T12:15:00"
         ],
         "xaxis": "x",
         "y": [
          1,
          1,
          3,
          3
         ],
         "yaxis": "y"
        },
        {
         "alignmentgroup": "True",
         "bingroup": "x",
         "histfunc": "sum",
         "hovertemplate": "customer_nr=21<br>time=%{x}<br>sum of order_status=%{y}<extra></extra>",
         "legendgroup": "21",
         "marker": {
          "color": "#FECB52",
          "pattern": {
           "shape": ""
          }
         },
         "name": "21",
         "nbinsx": 15,
         "offsetgroup": "21",
         "orientation": "v",
         "showlegend": true,
         "type": "histogram",
         "x": [
          "2024-01-01T12:05:00",
          "2024-01-01T12:10:00",
          "2024-01-01T12:15:00"
         ],
         "xaxis": "x",
         "y": [
          1,
          1,
          3
         ],
         "yaxis": "y"
        },
        {
         "alignmentgroup": "True",
         "bingroup": "x",
         "histfunc": "sum",
         "hovertemplate": "customer_nr=22<br>time=%{x}<br>sum of order_status=%{y}<extra></extra>",
         "legendgroup": "22",
         "marker": {
          "color": "#636efa",
          "pattern": {
           "shape": ""
          }
         },
         "name": "22",
         "nbinsx": 15,
         "offsetgroup": "22",
         "orientation": "v",
         "showlegend": true,
         "type": "histogram",
         "x": [
          "2024-01-01T12:05:00",
          "2024-01-01T12:10:00",
          "2024-01-01T12:15:00"
         ],
         "xaxis": "x",
         "y": [
          1,
          1,
          3
         ],
         "yaxis": "y"
        },
        {
         "alignmentgroup": "True",
         "bingroup": "x",
         "histfunc": "sum",
         "hovertemplate": "customer_nr=23<br>time=%{x}<br>sum of order_status=%{y}<extra></extra>",
         "legendgroup": "23",
         "marker": {
          "color": "#EF553B",
          "pattern": {
           "shape": ""
          }
         },
         "name": "23",
         "nbinsx": 15,
         "offsetgroup": "23",
         "orientation": "v",
         "showlegend": true,
         "type": "histogram",
         "x": [
          "2024-01-01T12:05:00",
          "2024-01-01T12:10:00",
          "2024-01-01T12:15:00"
         ],
         "xaxis": "x",
         "y": [
          1,
          1,
          3
         ],
         "yaxis": "y"
        },
        {
         "alignmentgroup": "True",
         "bingroup": "x",
         "histfunc": "sum",
         "hovertemplate": "customer_nr=24<br>time=%{x}<br>sum of order_status=%{y}<extra></extra>",
         "legendgroup": "24",
         "marker": {
          "color": "#00cc96",
          "pattern": {
           "shape": ""
          }
         },
         "name": "24",
         "nbinsx": 15,
         "offsetgroup": "24",
         "orientation": "v",
         "showlegend": true,
         "type": "histogram",
         "x": [
          "2024-01-01T12:10:00",
          "2024-01-01T12:15:00"
         ],
         "xaxis": "x",
         "y": [
          1,
          1
         ],
         "yaxis": "y"
        },
        {
         "alignmentgroup": "True",
         "bingroup": "x",
         "histfunc": "sum",
         "hovertemplate": "customer_nr=25<br>time=%{x}<br>sum of order_status=%{y}<extra></extra>",
         "legendgroup": "25",
         "marker": {
          "color": "#ab63fa",
          "pattern": {
           "shape": ""
          }
         },
         "name": "25",
         "nbinsx": 15,
         "offsetgroup": "25",
         "orientation": "v",
         "showlegend": true,
         "type": "histogram",
         "x": [
          "2024-01-01T12:10:00",
          "2024-01-01T12:15:00"
         ],
         "xaxis": "x",
         "y": [
          1,
          1
         ],
         "yaxis": "y"
        },
        {
         "alignmentgroup": "True",
         "bingroup": "x",
         "histfunc": "sum",
         "hovertemplate": "customer_nr=26<br>time=%{x}<br>sum of order_status=%{y}<extra></extra>",
         "legendgroup": "26",
         "marker": {
          "color": "#FFA15A",
          "pattern": {
           "shape": ""
          }
         },
         "name": "26",
         "nbinsx": 15,
         "offsetgroup": "26",
         "orientation": "v",
         "showlegend": true,
         "type": "histogram",
         "x": [
          "2024-01-01T12:10:00",
          "2024-01-01T12:15:00"
         ],
         "xaxis": "x",
         "y": [
          1,
          1
         ],
         "yaxis": "y"
        },
        {
         "alignmentgroup": "True",
         "bingroup": "x",
         "histfunc": "sum",
         "hovertemplate": "customer_nr=27<br>time=%{x}<br>sum of order_status=%{y}<extra></extra>",
         "legendgroup": "27",
         "marker": {
          "color": "#19d3f3",
          "pattern": {
           "shape": ""
          }
         },
         "name": "27",
         "nbinsx": 15,
         "offsetgroup": "27",
         "orientation": "v",
         "showlegend": true,
         "type": "histogram",
         "x": [
          "2024-01-01T12:10:00",
          "2024-01-01T12:15:00"
         ],
         "xaxis": "x",
         "y": [
          1,
          1
         ],
         "yaxis": "y"
        },
        {
         "alignmentgroup": "True",
         "bingroup": "x",
         "histfunc": "sum",
         "hovertemplate": "customer_nr=28<br>time=%{x}<br>sum of order_status=%{y}<extra></extra>",
         "legendgroup": "28",
         "marker": {
          "color": "#FF6692",
          "pattern": {
           "shape": ""
          }
         },
         "name": "28",
         "nbinsx": 15,
         "offsetgroup": "28",
         "orientation": "v",
         "showlegend": true,
         "type": "histogram",
         "x": [
          "2024-01-01T12:10:00",
          "2024-01-01T12:15:00"
         ],
         "xaxis": "x",
         "y": [
          1,
          1
         ],
         "yaxis": "y"
        },
        {
         "alignmentgroup": "True",
         "bingroup": "x",
         "histfunc": "sum",
         "hovertemplate": "customer_nr=29<br>time=%{x}<br>sum of order_status=%{y}<extra></extra>",
         "legendgroup": "29",
         "marker": {
          "color": "#B6E880",
          "pattern": {
           "shape": ""
          }
         },
         "name": "29",
         "nbinsx": 15,
         "offsetgroup": "29",
         "orientation": "v",
         "showlegend": true,
         "type": "histogram",
         "x": [
          "2024-01-01T12:10:00",
          "2024-01-01T12:15:00"
         ],
         "xaxis": "x",
         "y": [
          1,
          1
         ],
         "yaxis": "y"
        },
        {
         "alignmentgroup": "True",
         "bingroup": "x",
         "histfunc": "sum",
         "hovertemplate": "customer_nr=30<br>time=%{x}<br>sum of order_status=%{y}<extra></extra>",
         "legendgroup": "30",
         "marker": {
          "color": "#FF97FF",
          "pattern": {
           "shape": ""
          }
         },
         "name": "30",
         "nbinsx": 15,
         "offsetgroup": "30",
         "orientation": "v",
         "showlegend": true,
         "type": "histogram",
         "x": [
          "2024-01-01T12:10:00",
          "2024-01-01T12:15:00"
         ],
         "xaxis": "x",
         "y": [
          1,
          1
         ],
         "yaxis": "y"
        },
        {
         "alignmentgroup": "True",
         "bingroup": "x",
         "histfunc": "sum",
         "hovertemplate": "customer_nr=31<br>time=%{x}<br>sum of order_status=%{y}<extra></extra>",
         "legendgroup": "31",
         "marker": {
          "color": "#FECB52",
          "pattern": {
           "shape": ""
          }
         },
         "name": "31",
         "nbinsx": 15,
         "offsetgroup": "31",
         "orientation": "v",
         "showlegend": true,
         "type": "histogram",
         "x": [
          "2024-01-01T12:10:00",
          "2024-01-01T12:15:00"
         ],
         "xaxis": "x",
         "y": [
          1,
          1
         ],
         "yaxis": "y"
        },
        {
         "alignmentgroup": "True",
         "bingroup": "x",
         "histfunc": "sum",
         "hovertemplate": "customer_nr=32<br>time=%{x}<br>sum of order_status=%{y}<extra></extra>",
         "legendgroup": "32",
         "marker": {
          "color": "#636efa",
          "pattern": {
           "shape": ""
          }
         },
         "name": "32",
         "nbinsx": 15,
         "offsetgroup": "32",
         "orientation": "v",
         "showlegend": true,
         "type": "histogram",
         "x": [
          "2024-01-01T12:10:00",
          "2024-01-01T12:15:00"
         ],
         "xaxis": "x",
         "y": [
          1,
          1
         ],
         "yaxis": "y"
        },
        {
         "alignmentgroup": "True",
         "bingroup": "x",
         "histfunc": "sum",
         "hovertemplate": "customer_nr=33<br>time=%{x}<br>sum of order_status=%{y}<extra></extra>",
         "legendgroup": "33",
         "marker": {
          "color": "#EF553B",
          "pattern": {
           "shape": ""
          }
         },
         "name": "33",
         "nbinsx": 15,
         "offsetgroup": "33",
         "orientation": "v",
         "showlegend": true,
         "type": "histogram",
         "x": [
          "2024-01-01T12:10:00",
          "2024-01-01T12:15:00"
         ],
         "xaxis": "x",
         "y": [
          1,
          1
         ],
         "yaxis": "y"
        },
        {
         "alignmentgroup": "True",
         "bingroup": "x",
         "histfunc": "sum",
         "hovertemplate": "customer_nr=34<br>time=%{x}<br>sum of order_status=%{y}<extra></extra>",
         "legendgroup": "34",
         "marker": {
          "color": "#00cc96",
          "pattern": {
           "shape": ""
          }
         },
         "name": "34",
         "nbinsx": 15,
         "offsetgroup": "34",
         "orientation": "v",
         "showlegend": true,
         "type": "histogram",
         "x": [
          "2024-01-01T12:15:00"
         ],
         "xaxis": "x",
         "y": [
          1
         ],
         "yaxis": "y"
        },
        {
         "alignmentgroup": "True",
         "bingroup": "x",
         "histfunc": "sum",
         "hovertemplate": "customer_nr=35<br>time=%{x}<br>sum of order_status=%{y}<extra></extra>",
         "legendgroup": "35",
         "marker": {
          "color": "#ab63fa",
          "pattern": {
           "shape": ""
          }
         },
         "name": "35",
         "nbinsx": 15,
         "offsetgroup": "35",
         "orientation": "v",
         "showlegend": true,
         "type": "histogram",
         "x": [
          "2024-01-01T12:15:00"
         ],
         "xaxis": "x",
         "y": [
          1
         ],
         "yaxis": "y"
        },
        {
         "alignmentgroup": "True",
         "bingroup": "x",
         "histfunc": "sum",
         "hovertemplate": "customer_nr=36<br>time=%{x}<br>sum of order_status=%{y}<extra></extra>",
         "legendgroup": "36",
         "marker": {
          "color": "#FFA15A",
          "pattern": {
           "shape": ""
          }
         },
         "name": "36",
         "nbinsx": 15,
         "offsetgroup": "36",
         "orientation": "v",
         "showlegend": true,
         "type": "histogram",
         "x": [
          "2024-01-01T12:15:00"
         ],
         "xaxis": "x",
         "y": [
          1
         ],
         "yaxis": "y"
        },
        {
         "alignmentgroup": "True",
         "bingroup": "x",
         "histfunc": "sum",
         "hovertemplate": "customer_nr=37<br>time=%{x}<br>sum of order_status=%{y}<extra></extra>",
         "legendgroup": "37",
         "marker": {
          "color": "#19d3f3",
          "pattern": {
           "shape": ""
          }
         },
         "name": "37",
         "nbinsx": 15,
         "offsetgroup": "37",
         "orientation": "v",
         "showlegend": true,
         "type": "histogram",
         "x": [
          "2024-01-01T12:15:00"
         ],
         "xaxis": "x",
         "y": [
          1
         ],
         "yaxis": "y"
        },
        {
         "alignmentgroup": "True",
         "bingroup": "x",
         "histfunc": "sum",
         "hovertemplate": "customer_nr=38<br>time=%{x}<br>sum of order_status=%{y}<extra></extra>",
         "legendgroup": "38",
         "marker": {
          "color": "#FF6692",
          "pattern": {
           "shape": ""
          }
         },
         "name": "38",
         "nbinsx": 15,
         "offsetgroup": "38",
         "orientation": "v",
         "showlegend": true,
         "type": "histogram",
         "x": [
          "2024-01-01T12:15:00"
         ],
         "xaxis": "x",
         "y": [
          1
         ],
         "yaxis": "y"
        },
        {
         "alignmentgroup": "True",
         "bingroup": "x",
         "histfunc": "sum",
         "hovertemplate": "customer_nr=39<br>time=%{x}<br>sum of order_status=%{y}<extra></extra>",
         "legendgroup": "39",
         "marker": {
          "color": "#B6E880",
          "pattern": {
           "shape": ""
          }
         },
         "name": "39",
         "nbinsx": 15,
         "offsetgroup": "39",
         "orientation": "v",
         "showlegend": true,
         "type": "histogram",
         "x": [
          "2024-01-01T12:15:00"
         ],
         "xaxis": "x",
         "y": [
          1
         ],
         "yaxis": "y"
        }
       ],
       "layout": {
        "barmode": "group",
        "height": 400,
        "legend": {
         "title": {
          "text": "customer_nr"
         },
         "tracegroupgap": 0
        },
        "margin": {
         "t": 60
        },
        "template": {
         "data": {
          "bar": [
           {
            "error_x": {
             "color": "#2a3f5f"
            },
            "error_y": {
             "color": "#2a3f5f"
            },
            "marker": {
             "line": {
              "color": "#E5ECF6",
              "width": 0.5
             },
             "pattern": {
              "fillmode": "overlay",
              "size": 10,
              "solidity": 0.2
             }
            },
            "type": "bar"
           }
          ],
          "barpolar": [
           {
            "marker": {
             "line": {
              "color": "#E5ECF6",
              "width": 0.5
             },
             "pattern": {
              "fillmode": "overlay",
              "size": 10,
              "solidity": 0.2
             }
            },
            "type": "barpolar"
           }
          ],
          "carpet": [
           {
            "aaxis": {
             "endlinecolor": "#2a3f5f",
             "gridcolor": "white",
             "linecolor": "white",
             "minorgridcolor": "white",
             "startlinecolor": "#2a3f5f"
            },
            "baxis": {
             "endlinecolor": "#2a3f5f",
             "gridcolor": "white",
             "linecolor": "white",
             "minorgridcolor": "white",
             "startlinecolor": "#2a3f5f"
            },
            "type": "carpet"
           }
          ],
          "choropleth": [
           {
            "colorbar": {
             "outlinewidth": 0,
             "ticks": ""
            },
            "type": "choropleth"
           }
          ],
          "contour": [
           {
            "colorbar": {
             "outlinewidth": 0,
             "ticks": ""
            },
            "colorscale": [
             [
              0,
              "#0d0887"
             ],
             [
              0.1111111111111111,
              "#46039f"
             ],
             [
              0.2222222222222222,
              "#7201a8"
             ],
             [
              0.3333333333333333,
              "#9c179e"
             ],
             [
              0.4444444444444444,
              "#bd3786"
             ],
             [
              0.5555555555555556,
              "#d8576b"
             ],
             [
              0.6666666666666666,
              "#ed7953"
             ],
             [
              0.7777777777777778,
              "#fb9f3a"
             ],
             [
              0.8888888888888888,
              "#fdca26"
             ],
             [
              1,
              "#f0f921"
             ]
            ],
            "type": "contour"
           }
          ],
          "contourcarpet": [
           {
            "colorbar": {
             "outlinewidth": 0,
             "ticks": ""
            },
            "type": "contourcarpet"
           }
          ],
          "heatmap": [
           {
            "colorbar": {
             "outlinewidth": 0,
             "ticks": ""
            },
            "colorscale": [
             [
              0,
              "#0d0887"
             ],
             [
              0.1111111111111111,
              "#46039f"
             ],
             [
              0.2222222222222222,
              "#7201a8"
             ],
             [
              0.3333333333333333,
              "#9c179e"
             ],
             [
              0.4444444444444444,
              "#bd3786"
             ],
             [
              0.5555555555555556,
              "#d8576b"
             ],
             [
              0.6666666666666666,
              "#ed7953"
             ],
             [
              0.7777777777777778,
              "#fb9f3a"
             ],
             [
              0.8888888888888888,
              "#fdca26"
             ],
             [
              1,
              "#f0f921"
             ]
            ],
            "type": "heatmap"
           }
          ],
          "heatmapgl": [
           {
            "colorbar": {
             "outlinewidth": 0,
             "ticks": ""
            },
            "colorscale": [
             [
              0,
              "#0d0887"
             ],
             [
              0.1111111111111111,
              "#46039f"
             ],
             [
              0.2222222222222222,
              "#7201a8"
             ],
             [
              0.3333333333333333,
              "#9c179e"
             ],
             [
              0.4444444444444444,
              "#bd3786"
             ],
             [
              0.5555555555555556,
              "#d8576b"
             ],
             [
              0.6666666666666666,
              "#ed7953"
             ],
             [
              0.7777777777777778,
              "#fb9f3a"
             ],
             [
              0.8888888888888888,
              "#fdca26"
             ],
             [
              1,
              "#f0f921"
             ]
            ],
            "type": "heatmapgl"
           }
          ],
          "histogram": [
           {
            "marker": {
             "pattern": {
              "fillmode": "overlay",
              "size": 10,
              "solidity": 0.2
             }
            },
            "type": "histogram"
           }
          ],
          "histogram2d": [
           {
            "colorbar": {
             "outlinewidth": 0,
             "ticks": ""
            },
            "colorscale": [
             [
              0,
              "#0d0887"
             ],
             [
              0.1111111111111111,
              "#46039f"
             ],
             [
              0.2222222222222222,
              "#7201a8"
             ],
             [
              0.3333333333333333,
              "#9c179e"
             ],
             [
              0.4444444444444444,
              "#bd3786"
             ],
             [
              0.5555555555555556,
              "#d8576b"
             ],
             [
              0.6666666666666666,
              "#ed7953"
             ],
             [
              0.7777777777777778,
              "#fb9f3a"
             ],
             [
              0.8888888888888888,
              "#fdca26"
             ],
             [
              1,
              "#f0f921"
             ]
            ],
            "type": "histogram2d"
           }
          ],
          "histogram2dcontour": [
           {
            "colorbar": {
             "outlinewidth": 0,
             "ticks": ""
            },
            "colorscale": [
             [
              0,
              "#0d0887"
             ],
             [
              0.1111111111111111,
              "#46039f"
             ],
             [
              0.2222222222222222,
              "#7201a8"
             ],
             [
              0.3333333333333333,
              "#9c179e"
             ],
             [
              0.4444444444444444,
              "#bd3786"
             ],
             [
              0.5555555555555556,
              "#d8576b"
             ],
             [
              0.6666666666666666,
              "#ed7953"
             ],
             [
              0.7777777777777778,
              "#fb9f3a"
             ],
             [
              0.8888888888888888,
              "#fdca26"
             ],
             [
              1,
              "#f0f921"
             ]
            ],
            "type": "histogram2dcontour"
           }
          ],
          "mesh3d": [
           {
            "colorbar": {
             "outlinewidth": 0,
             "ticks": ""
            },
            "type": "mesh3d"
           }
          ],
          "parcoords": [
           {
            "line": {
             "colorbar": {
              "outlinewidth": 0,
              "ticks": ""
             }
            },
            "type": "parcoords"
           }
          ],
          "pie": [
           {
            "automargin": true,
            "type": "pie"
           }
          ],
          "scatter": [
           {
            "fillpattern": {
             "fillmode": "overlay",
             "size": 10,
             "solidity": 0.2
            },
            "type": "scatter"
           }
          ],
          "scatter3d": [
           {
            "line": {
             "colorbar": {
              "outlinewidth": 0,
              "ticks": ""
             }
            },
            "marker": {
             "colorbar": {
              "outlinewidth": 0,
              "ticks": ""
             }
            },
            "type": "scatter3d"
           }
          ],
          "scattercarpet": [
           {
            "marker": {
             "colorbar": {
              "outlinewidth": 0,
              "ticks": ""
             }
            },
            "type": "scattercarpet"
           }
          ],
          "scattergeo": [
           {
            "marker": {
             "colorbar": {
              "outlinewidth": 0,
              "ticks": ""
             }
            },
            "type": "scattergeo"
           }
          ],
          "scattergl": [
           {
            "marker": {
             "colorbar": {
              "outlinewidth": 0,
              "ticks": ""
             }
            },
            "type": "scattergl"
           }
          ],
          "scattermapbox": [
           {
            "marker": {
             "colorbar": {
              "outlinewidth": 0,
              "ticks": ""
             }
            },
            "type": "scattermapbox"
           }
          ],
          "scatterpolar": [
           {
            "marker": {
             "colorbar": {
              "outlinewidth": 0,
              "ticks": ""
             }
            },
            "type": "scatterpolar"
           }
          ],
          "scatterpolargl": [
           {
            "marker": {
             "colorbar": {
              "outlinewidth": 0,
              "ticks": ""
             }
            },
            "type": "scatterpolargl"
           }
          ],
          "scatterternary": [
           {
            "marker": {
             "colorbar": {
              "outlinewidth": 0,
              "ticks": ""
             }
            },
            "type": "scatterternary"
           }
          ],
          "surface": [
           {
            "colorbar": {
             "outlinewidth": 0,
             "ticks": ""
            },
            "colorscale": [
             [
              0,
              "#0d0887"
             ],
             [
              0.1111111111111111,
              "#46039f"
             ],
             [
              0.2222222222222222,
              "#7201a8"
             ],
             [
              0.3333333333333333,
              "#9c179e"
             ],
             [
              0.4444444444444444,
              "#bd3786"
             ],
             [
              0.5555555555555556,
              "#d8576b"
             ],
             [
              0.6666666666666666,
              "#ed7953"
             ],
             [
              0.7777777777777778,
              "#fb9f3a"
             ],
             [
              0.8888888888888888,
              "#fdca26"
             ],
             [
              1,
              "#f0f921"
             ]
            ],
            "type": "surface"
           }
          ],
          "table": [
           {
            "cells": {
             "fill": {
              "color": "#EBF0F8"
             },
             "line": {
              "color": "white"
             }
            },
            "header": {
             "fill": {
              "color": "#C8D4E3"
             },
             "line": {
              "color": "white"
             }
            },
            "type": "table"
           }
          ]
         },
         "layout": {
          "annotationdefaults": {
           "arrowcolor": "#2a3f5f",
           "arrowhead": 0,
           "arrowwidth": 1
          },
          "autotypenumbers": "strict",
          "coloraxis": {
           "colorbar": {
            "outlinewidth": 0,
            "ticks": ""
           }
          },
          "colorscale": {
           "diverging": [
            [
             0,
             "#8e0152"
            ],
            [
             0.1,
             "#c51b7d"
            ],
            [
             0.2,
             "#de77ae"
            ],
            [
             0.3,
             "#f1b6da"
            ],
            [
             0.4,
             "#fde0ef"
            ],
            [
             0.5,
             "#f7f7f7"
            ],
            [
             0.6,
             "#e6f5d0"
            ],
            [
             0.7,
             "#b8e186"
            ],
            [
             0.8,
             "#7fbc41"
            ],
            [
             0.9,
             "#4d9221"
            ],
            [
             1,
             "#276419"
            ]
           ],
           "sequential": [
            [
             0,
             "#0d0887"
            ],
            [
             0.1111111111111111,
             "#46039f"
            ],
            [
             0.2222222222222222,
             "#7201a8"
            ],
            [
             0.3333333333333333,
             "#9c179e"
            ],
            [
             0.4444444444444444,
             "#bd3786"
            ],
            [
             0.5555555555555556,
             "#d8576b"
            ],
            [
             0.6666666666666666,
             "#ed7953"
            ],
            [
             0.7777777777777778,
             "#fb9f3a"
            ],
            [
             0.8888888888888888,
             "#fdca26"
            ],
            [
             1,
             "#f0f921"
            ]
           ],
           "sequentialminus": [
            [
             0,
             "#0d0887"
            ],
            [
             0.1111111111111111,
             "#46039f"
            ],
            [
             0.2222222222222222,
             "#7201a8"
            ],
            [
             0.3333333333333333,
             "#9c179e"
            ],
            [
             0.4444444444444444,
             "#bd3786"
            ],
            [
             0.5555555555555556,
             "#d8576b"
            ],
            [
             0.6666666666666666,
             "#ed7953"
            ],
            [
             0.7777777777777778,
             "#fb9f3a"
            ],
            [
             0.8888888888888888,
             "#fdca26"
            ],
            [
             1,
             "#f0f921"
            ]
           ]
          },
          "colorway": [
           "#636efa",
           "#EF553B",
           "#00cc96",
           "#ab63fa",
           "#FFA15A",
           "#19d3f3",
           "#FF6692",
           "#B6E880",
           "#FF97FF",
           "#FECB52"
          ],
          "font": {
           "color": "#2a3f5f"
          },
          "geo": {
           "bgcolor": "white",
           "lakecolor": "white",
           "landcolor": "#E5ECF6",
           "showlakes": true,
           "showland": true,
           "subunitcolor": "white"
          },
          "hoverlabel": {
           "align": "left"
          },
          "hovermode": "closest",
          "mapbox": {
           "style": "light"
          },
          "paper_bgcolor": "white",
          "plot_bgcolor": "#E5ECF6",
          "polar": {
           "angularaxis": {
            "gridcolor": "white",
            "linecolor": "white",
            "ticks": ""
           },
           "bgcolor": "#E5ECF6",
           "radialaxis": {
            "gridcolor": "white",
            "linecolor": "white",
            "ticks": ""
           }
          },
          "scene": {
           "xaxis": {
            "backgroundcolor": "#E5ECF6",
            "gridcolor": "white",
            "gridwidth": 2,
            "linecolor": "white",
            "showbackground": true,
            "ticks": "",
            "zerolinecolor": "white"
           },
           "yaxis": {
            "backgroundcolor": "#E5ECF6",
            "gridcolor": "white",
            "gridwidth": 2,
            "linecolor": "white",
            "showbackground": true,
            "ticks": "",
            "zerolinecolor": "white"
           },
           "zaxis": {
            "backgroundcolor": "#E5ECF6",
            "gridcolor": "white",
            "gridwidth": 2,
            "linecolor": "white",
            "showbackground": true,
            "ticks": "",
            "zerolinecolor": "white"
           }
          },
          "shapedefaults": {
           "line": {
            "color": "#2a3f5f"
           }
          },
          "ternary": {
           "aaxis": {
            "gridcolor": "white",
            "linecolor": "white",
            "ticks": ""
           },
           "baxis": {
            "gridcolor": "white",
            "linecolor": "white",
            "ticks": ""
           },
           "bgcolor": "#E5ECF6",
           "caxis": {
            "gridcolor": "white",
            "linecolor": "white",
            "ticks": ""
           }
          },
          "title": {
           "x": 0.05
          },
          "xaxis": {
           "automargin": true,
           "gridcolor": "white",
           "linecolor": "white",
           "ticks": "",
           "title": {
            "standoff": 15
           },
           "zerolinecolor": "white",
           "zerolinewidth": 2
          },
          "yaxis": {
           "automargin": true,
           "gridcolor": "white",
           "linecolor": "white",
           "ticks": "",
           "title": {
            "standoff": 15
           },
           "zerolinecolor": "white",
           "zerolinewidth": 2
          }
         }
        },
        "xaxis": {
         "anchor": "y",
         "domain": [
          0,
          1
         ],
         "title": {
          "text": "Time of Day"
         }
        },
        "yaxis": {
         "anchor": "x",
         "domain": [
          0,
          1
         ],
         "title": {
          "text": "sum of order_status"
         }
        }
       }
      }
     },
     "metadata": {},
     "output_type": "display_data"
    },
    {
     "name": "stdout",
     "output_type": "stream",
     "text": [
      "None\n"
     ]
    },
    {
     "data": {
      "application/vnd.plotly.v1+json": {
       "config": {
        "plotlyServerURL": "https://plot.ly"
       },
       "data": [
        {
         "alignmentgroup": "True",
         "bingroup": "x",
         "histfunc": "sum",
         "hovertemplate": "customer_nr=12<br>time=%{x}<br>sum of satisfaction=%{y}<extra></extra>",
         "legendgroup": "12",
         "marker": {
          "color": "#636efa",
          "pattern": {
           "shape": ""
          }
         },
         "name": "12",
         "nbinsx": 15,
         "offsetgroup": "12",
         "orientation": "v",
         "showlegend": true,
         "type": "histogram",
         "x": [
          "2024-01-01T11:05:00",
          "2024-01-01T11:10:00",
          "2024-01-01T11:15:00",
          "2024-01-01T11:20:00",
          "2024-01-01T11:25:00",
          "2024-01-01T11:30:00",
          "2024-01-01T11:35:00",
          "2024-01-01T11:40:00",
          "2024-01-01T11:45:00",
          "2024-01-01T11:50:00",
          "2024-01-01T11:55:00",
          "2024-01-01T12:00:00",
          "2024-01-01T12:05:00",
          "2024-01-01T12:10:00",
          "2024-01-01T12:15:00"
         ],
         "xaxis": "x",
         "y": [
          100,
          90,
          90,
          90,
          90,
          90,
          90,
          90,
          90,
          90,
          90,
          90,
          90,
          90,
          90
         ],
         "yaxis": "y"
        },
        {
         "alignmentgroup": "True",
         "bingroup": "x",
         "histfunc": "sum",
         "hovertemplate": "customer_nr=13<br>time=%{x}<br>sum of satisfaction=%{y}<extra></extra>",
         "legendgroup": "13",
         "marker": {
          "color": "#EF553B",
          "pattern": {
           "shape": ""
          }
         },
         "name": "13",
         "nbinsx": 15,
         "offsetgroup": "13",
         "orientation": "v",
         "showlegend": true,
         "type": "histogram",
         "x": [
          "2024-01-01T11:05:00",
          "2024-01-01T11:10:00",
          "2024-01-01T11:15:00",
          "2024-01-01T11:20:00",
          "2024-01-01T11:25:00",
          "2024-01-01T11:30:00",
          "2024-01-01T11:35:00",
          "2024-01-01T11:40:00",
          "2024-01-01T11:45:00",
          "2024-01-01T11:50:00",
          "2024-01-01T11:55:00",
          "2024-01-01T12:00:00",
          "2024-01-01T12:05:00",
          "2024-01-01T12:10:00",
          "2024-01-01T12:15:00"
         ],
         "xaxis": "x",
         "y": [
          100,
          90,
          90,
          90,
          90,
          90,
          90,
          90,
          90,
          90,
          90,
          90,
          90,
          90,
          90
         ],
         "yaxis": "y"
        },
        {
         "alignmentgroup": "True",
         "bingroup": "x",
         "histfunc": "sum",
         "hovertemplate": "customer_nr=14<br>time=%{x}<br>sum of satisfaction=%{y}<extra></extra>",
         "legendgroup": "14",
         "marker": {
          "color": "#00cc96",
          "pattern": {
           "shape": ""
          }
         },
         "name": "14",
         "nbinsx": 15,
         "offsetgroup": "14",
         "orientation": "v",
         "showlegend": true,
         "type": "histogram",
         "x": [
          "2024-01-01T11:25:00",
          "2024-01-01T11:30:00",
          "2024-01-01T11:35:00",
          "2024-01-01T11:40:00",
          "2024-01-01T11:45:00",
          "2024-01-01T11:50:00",
          "2024-01-01T11:55:00",
          "2024-01-01T12:00:00",
          "2024-01-01T12:05:00",
          "2024-01-01T12:10:00",
          "2024-01-01T12:15:00"
         ],
         "xaxis": "x",
         "y": [
          100,
          90,
          90,
          90,
          90,
          90,
          90,
          90,
          90,
          90,
          90
         ],
         "yaxis": "y"
        },
        {
         "alignmentgroup": "True",
         "bingroup": "x",
         "histfunc": "sum",
         "hovertemplate": "customer_nr=15<br>time=%{x}<br>sum of satisfaction=%{y}<extra></extra>",
         "legendgroup": "15",
         "marker": {
          "color": "#ab63fa",
          "pattern": {
           "shape": ""
          }
         },
         "name": "15",
         "nbinsx": 15,
         "offsetgroup": "15",
         "orientation": "v",
         "showlegend": true,
         "type": "histogram",
         "x": [
          "2024-01-01T11:25:00",
          "2024-01-01T11:30:00",
          "2024-01-01T11:35:00",
          "2024-01-01T11:40:00",
          "2024-01-01T11:45:00",
          "2024-01-01T11:50:00",
          "2024-01-01T11:55:00",
          "2024-01-01T12:00:00",
          "2024-01-01T12:05:00",
          "2024-01-01T12:10:00",
          "2024-01-01T12:15:00"
         ],
         "xaxis": "x",
         "y": [
          100,
          90,
          90,
          90,
          90,
          90,
          90,
          90,
          90,
          90,
          90
         ],
         "yaxis": "y"
        },
        {
         "alignmentgroup": "True",
         "bingroup": "x",
         "histfunc": "sum",
         "hovertemplate": "customer_nr=16<br>time=%{x}<br>sum of satisfaction=%{y}<extra></extra>",
         "legendgroup": "16",
         "marker": {
          "color": "#FFA15A",
          "pattern": {
           "shape": ""
          }
         },
         "name": "16",
         "nbinsx": 15,
         "offsetgroup": "16",
         "orientation": "v",
         "showlegend": true,
         "type": "histogram",
         "x": [
          "2024-01-01T12:00:00",
          "2024-01-01T12:05:00",
          "2024-01-01T12:10:00",
          "2024-01-01T12:15:00"
         ],
         "xaxis": "x",
         "y": [
          100,
          90,
          90,
          90
         ],
         "yaxis": "y"
        },
        {
         "alignmentgroup": "True",
         "bingroup": "x",
         "histfunc": "sum",
         "hovertemplate": "customer_nr=17<br>time=%{x}<br>sum of satisfaction=%{y}<extra></extra>",
         "legendgroup": "17",
         "marker": {
          "color": "#19d3f3",
          "pattern": {
           "shape": ""
          }
         },
         "name": "17",
         "nbinsx": 15,
         "offsetgroup": "17",
         "orientation": "v",
         "showlegend": true,
         "type": "histogram",
         "x": [
          "2024-01-01T12:00:00",
          "2024-01-01T12:05:00",
          "2024-01-01T12:10:00",
          "2024-01-01T12:15:00"
         ],
         "xaxis": "x",
         "y": [
          100,
          90,
          90,
          90
         ],
         "yaxis": "y"
        },
        {
         "alignmentgroup": "True",
         "bingroup": "x",
         "histfunc": "sum",
         "hovertemplate": "customer_nr=18<br>time=%{x}<br>sum of satisfaction=%{y}<extra></extra>",
         "legendgroup": "18",
         "marker": {
          "color": "#FF6692",
          "pattern": {
           "shape": ""
          }
         },
         "name": "18",
         "nbinsx": 15,
         "offsetgroup": "18",
         "orientation": "v",
         "showlegend": true,
         "type": "histogram",
         "x": [
          "2024-01-01T12:00:00",
          "2024-01-01T12:05:00",
          "2024-01-01T12:10:00",
          "2024-01-01T12:15:00"
         ],
         "xaxis": "x",
         "y": [
          100,
          90,
          90,
          90
         ],
         "yaxis": "y"
        },
        {
         "alignmentgroup": "True",
         "bingroup": "x",
         "histfunc": "sum",
         "hovertemplate": "customer_nr=19<br>time=%{x}<br>sum of satisfaction=%{y}<extra></extra>",
         "legendgroup": "19",
         "marker": {
          "color": "#B6E880",
          "pattern": {
           "shape": ""
          }
         },
         "name": "19",
         "nbinsx": 15,
         "offsetgroup": "19",
         "orientation": "v",
         "showlegend": true,
         "type": "histogram",
         "x": [
          "2024-01-01T12:00:00",
          "2024-01-01T12:05:00",
          "2024-01-01T12:10:00",
          "2024-01-01T12:15:00"
         ],
         "xaxis": "x",
         "y": [
          100,
          90,
          90,
          90
         ],
         "yaxis": "y"
        },
        {
         "alignmentgroup": "True",
         "bingroup": "x",
         "histfunc": "sum",
         "hovertemplate": "customer_nr=20<br>time=%{x}<br>sum of satisfaction=%{y}<extra></extra>",
         "legendgroup": "20",
         "marker": {
          "color": "#FF97FF",
          "pattern": {
           "shape": ""
          }
         },
         "name": "20",
         "nbinsx": 15,
         "offsetgroup": "20",
         "orientation": "v",
         "showlegend": true,
         "type": "histogram",
         "x": [
          "2024-01-01T12:00:00",
          "2024-01-01T12:05:00",
          "2024-01-01T12:10:00",
          "2024-01-01T12:15:00"
         ],
         "xaxis": "x",
         "y": [
          100,
          90,
          90,
          90
         ],
         "yaxis": "y"
        },
        {
         "alignmentgroup": "True",
         "bingroup": "x",
         "histfunc": "sum",
         "hovertemplate": "customer_nr=21<br>time=%{x}<br>sum of satisfaction=%{y}<extra></extra>",
         "legendgroup": "21",
         "marker": {
          "color": "#FECB52",
          "pattern": {
           "shape": ""
          }
         },
         "name": "21",
         "nbinsx": 15,
         "offsetgroup": "21",
         "orientation": "v",
         "showlegend": true,
         "type": "histogram",
         "x": [
          "2024-01-01T12:05:00",
          "2024-01-01T12:10:00",
          "2024-01-01T12:15:00"
         ],
         "xaxis": "x",
         "y": [
          100,
          90,
          90
         ],
         "yaxis": "y"
        },
        {
         "alignmentgroup": "True",
         "bingroup": "x",
         "histfunc": "sum",
         "hovertemplate": "customer_nr=22<br>time=%{x}<br>sum of satisfaction=%{y}<extra></extra>",
         "legendgroup": "22",
         "marker": {
          "color": "#636efa",
          "pattern": {
           "shape": ""
          }
         },
         "name": "22",
         "nbinsx": 15,
         "offsetgroup": "22",
         "orientation": "v",
         "showlegend": true,
         "type": "histogram",
         "x": [
          "2024-01-01T12:05:00",
          "2024-01-01T12:10:00",
          "2024-01-01T12:15:00"
         ],
         "xaxis": "x",
         "y": [
          100,
          90,
          90
         ],
         "yaxis": "y"
        },
        {
         "alignmentgroup": "True",
         "bingroup": "x",
         "histfunc": "sum",
         "hovertemplate": "customer_nr=23<br>time=%{x}<br>sum of satisfaction=%{y}<extra></extra>",
         "legendgroup": "23",
         "marker": {
          "color": "#EF553B",
          "pattern": {
           "shape": ""
          }
         },
         "name": "23",
         "nbinsx": 15,
         "offsetgroup": "23",
         "orientation": "v",
         "showlegend": true,
         "type": "histogram",
         "x": [
          "2024-01-01T12:05:00",
          "2024-01-01T12:10:00",
          "2024-01-01T12:15:00"
         ],
         "xaxis": "x",
         "y": [
          100,
          90,
          90
         ],
         "yaxis": "y"
        },
        {
         "alignmentgroup": "True",
         "bingroup": "x",
         "histfunc": "sum",
         "hovertemplate": "customer_nr=24<br>time=%{x}<br>sum of satisfaction=%{y}<extra></extra>",
         "legendgroup": "24",
         "marker": {
          "color": "#00cc96",
          "pattern": {
           "shape": ""
          }
         },
         "name": "24",
         "nbinsx": 15,
         "offsetgroup": "24",
         "orientation": "v",
         "showlegend": true,
         "type": "histogram",
         "x": [
          "2024-01-01T12:10:00",
          "2024-01-01T12:15:00"
         ],
         "xaxis": "x",
         "y": [
          100,
          90
         ],
         "yaxis": "y"
        },
        {
         "alignmentgroup": "True",
         "bingroup": "x",
         "histfunc": "sum",
         "hovertemplate": "customer_nr=25<br>time=%{x}<br>sum of satisfaction=%{y}<extra></extra>",
         "legendgroup": "25",
         "marker": {
          "color": "#ab63fa",
          "pattern": {
           "shape": ""
          }
         },
         "name": "25",
         "nbinsx": 15,
         "offsetgroup": "25",
         "orientation": "v",
         "showlegend": true,
         "type": "histogram",
         "x": [
          "2024-01-01T12:10:00",
          "2024-01-01T12:15:00"
         ],
         "xaxis": "x",
         "y": [
          100,
          90
         ],
         "yaxis": "y"
        },
        {
         "alignmentgroup": "True",
         "bingroup": "x",
         "histfunc": "sum",
         "hovertemplate": "customer_nr=26<br>time=%{x}<br>sum of satisfaction=%{y}<extra></extra>",
         "legendgroup": "26",
         "marker": {
          "color": "#FFA15A",
          "pattern": {
           "shape": ""
          }
         },
         "name": "26",
         "nbinsx": 15,
         "offsetgroup": "26",
         "orientation": "v",
         "showlegend": true,
         "type": "histogram",
         "x": [
          "2024-01-01T12:10:00",
          "2024-01-01T12:15:00"
         ],
         "xaxis": "x",
         "y": [
          100,
          90
         ],
         "yaxis": "y"
        },
        {
         "alignmentgroup": "True",
         "bingroup": "x",
         "histfunc": "sum",
         "hovertemplate": "customer_nr=27<br>time=%{x}<br>sum of satisfaction=%{y}<extra></extra>",
         "legendgroup": "27",
         "marker": {
          "color": "#19d3f3",
          "pattern": {
           "shape": ""
          }
         },
         "name": "27",
         "nbinsx": 15,
         "offsetgroup": "27",
         "orientation": "v",
         "showlegend": true,
         "type": "histogram",
         "x": [
          "2024-01-01T12:10:00",
          "2024-01-01T12:15:00"
         ],
         "xaxis": "x",
         "y": [
          100,
          90
         ],
         "yaxis": "y"
        },
        {
         "alignmentgroup": "True",
         "bingroup": "x",
         "histfunc": "sum",
         "hovertemplate": "customer_nr=28<br>time=%{x}<br>sum of satisfaction=%{y}<extra></extra>",
         "legendgroup": "28",
         "marker": {
          "color": "#FF6692",
          "pattern": {
           "shape": ""
          }
         },
         "name": "28",
         "nbinsx": 15,
         "offsetgroup": "28",
         "orientation": "v",
         "showlegend": true,
         "type": "histogram",
         "x": [
          "2024-01-01T12:10:00",
          "2024-01-01T12:15:00"
         ],
         "xaxis": "x",
         "y": [
          100,
          90
         ],
         "yaxis": "y"
        },
        {
         "alignmentgroup": "True",
         "bingroup": "x",
         "histfunc": "sum",
         "hovertemplate": "customer_nr=29<br>time=%{x}<br>sum of satisfaction=%{y}<extra></extra>",
         "legendgroup": "29",
         "marker": {
          "color": "#B6E880",
          "pattern": {
           "shape": ""
          }
         },
         "name": "29",
         "nbinsx": 15,
         "offsetgroup": "29",
         "orientation": "v",
         "showlegend": true,
         "type": "histogram",
         "x": [
          "2024-01-01T12:10:00",
          "2024-01-01T12:15:00"
         ],
         "xaxis": "x",
         "y": [
          100,
          90
         ],
         "yaxis": "y"
        },
        {
         "alignmentgroup": "True",
         "bingroup": "x",
         "histfunc": "sum",
         "hovertemplate": "customer_nr=30<br>time=%{x}<br>sum of satisfaction=%{y}<extra></extra>",
         "legendgroup": "30",
         "marker": {
          "color": "#FF97FF",
          "pattern": {
           "shape": ""
          }
         },
         "name": "30",
         "nbinsx": 15,
         "offsetgroup": "30",
         "orientation": "v",
         "showlegend": true,
         "type": "histogram",
         "x": [
          "2024-01-01T12:10:00",
          "2024-01-01T12:15:00"
         ],
         "xaxis": "x",
         "y": [
          100,
          90
         ],
         "yaxis": "y"
        },
        {
         "alignmentgroup": "True",
         "bingroup": "x",
         "histfunc": "sum",
         "hovertemplate": "customer_nr=31<br>time=%{x}<br>sum of satisfaction=%{y}<extra></extra>",
         "legendgroup": "31",
         "marker": {
          "color": "#FECB52",
          "pattern": {
           "shape": ""
          }
         },
         "name": "31",
         "nbinsx": 15,
         "offsetgroup": "31",
         "orientation": "v",
         "showlegend": true,
         "type": "histogram",
         "x": [
          "2024-01-01T12:10:00",
          "2024-01-01T12:15:00"
         ],
         "xaxis": "x",
         "y": [
          100,
          90
         ],
         "yaxis": "y"
        },
        {
         "alignmentgroup": "True",
         "bingroup": "x",
         "histfunc": "sum",
         "hovertemplate": "customer_nr=32<br>time=%{x}<br>sum of satisfaction=%{y}<extra></extra>",
         "legendgroup": "32",
         "marker": {
          "color": "#636efa",
          "pattern": {
           "shape": ""
          }
         },
         "name": "32",
         "nbinsx": 15,
         "offsetgroup": "32",
         "orientation": "v",
         "showlegend": true,
         "type": "histogram",
         "x": [
          "2024-01-01T12:10:00",
          "2024-01-01T12:15:00"
         ],
         "xaxis": "x",
         "y": [
          100,
          90
         ],
         "yaxis": "y"
        },
        {
         "alignmentgroup": "True",
         "bingroup": "x",
         "histfunc": "sum",
         "hovertemplate": "customer_nr=33<br>time=%{x}<br>sum of satisfaction=%{y}<extra></extra>",
         "legendgroup": "33",
         "marker": {
          "color": "#EF553B",
          "pattern": {
           "shape": ""
          }
         },
         "name": "33",
         "nbinsx": 15,
         "offsetgroup": "33",
         "orientation": "v",
         "showlegend": true,
         "type": "histogram",
         "x": [
          "2024-01-01T12:10:00",
          "2024-01-01T12:15:00"
         ],
         "xaxis": "x",
         "y": [
          100,
          90
         ],
         "yaxis": "y"
        },
        {
         "alignmentgroup": "True",
         "bingroup": "x",
         "histfunc": "sum",
         "hovertemplate": "customer_nr=34<br>time=%{x}<br>sum of satisfaction=%{y}<extra></extra>",
         "legendgroup": "34",
         "marker": {
          "color": "#00cc96",
          "pattern": {
           "shape": ""
          }
         },
         "name": "34",
         "nbinsx": 15,
         "offsetgroup": "34",
         "orientation": "v",
         "showlegend": true,
         "type": "histogram",
         "x": [
          "2024-01-01T12:15:00"
         ],
         "xaxis": "x",
         "y": [
          100
         ],
         "yaxis": "y"
        },
        {
         "alignmentgroup": "True",
         "bingroup": "x",
         "histfunc": "sum",
         "hovertemplate": "customer_nr=35<br>time=%{x}<br>sum of satisfaction=%{y}<extra></extra>",
         "legendgroup": "35",
         "marker": {
          "color": "#ab63fa",
          "pattern": {
           "shape": ""
          }
         },
         "name": "35",
         "nbinsx": 15,
         "offsetgroup": "35",
         "orientation": "v",
         "showlegend": true,
         "type": "histogram",
         "x": [
          "2024-01-01T12:15:00"
         ],
         "xaxis": "x",
         "y": [
          100
         ],
         "yaxis": "y"
        },
        {
         "alignmentgroup": "True",
         "bingroup": "x",
         "histfunc": "sum",
         "hovertemplate": "customer_nr=36<br>time=%{x}<br>sum of satisfaction=%{y}<extra></extra>",
         "legendgroup": "36",
         "marker": {
          "color": "#FFA15A",
          "pattern": {
           "shape": ""
          }
         },
         "name": "36",
         "nbinsx": 15,
         "offsetgroup": "36",
         "orientation": "v",
         "showlegend": true,
         "type": "histogram",
         "x": [
          "2024-01-01T12:15:00"
         ],
         "xaxis": "x",
         "y": [
          100
         ],
         "yaxis": "y"
        },
        {
         "alignmentgroup": "True",
         "bingroup": "x",
         "histfunc": "sum",
         "hovertemplate": "customer_nr=37<br>time=%{x}<br>sum of satisfaction=%{y}<extra></extra>",
         "legendgroup": "37",
         "marker": {
          "color": "#19d3f3",
          "pattern": {
           "shape": ""
          }
         },
         "name": "37",
         "nbinsx": 15,
         "offsetgroup": "37",
         "orientation": "v",
         "showlegend": true,
         "type": "histogram",
         "x": [
          "2024-01-01T12:15:00"
         ],
         "xaxis": "x",
         "y": [
          100
         ],
         "yaxis": "y"
        },
        {
         "alignmentgroup": "True",
         "bingroup": "x",
         "histfunc": "sum",
         "hovertemplate": "customer_nr=38<br>time=%{x}<br>sum of satisfaction=%{y}<extra></extra>",
         "legendgroup": "38",
         "marker": {
          "color": "#FF6692",
          "pattern": {
           "shape": ""
          }
         },
         "name": "38",
         "nbinsx": 15,
         "offsetgroup": "38",
         "orientation": "v",
         "showlegend": true,
         "type": "histogram",
         "x": [
          "2024-01-01T12:15:00"
         ],
         "xaxis": "x",
         "y": [
          100
         ],
         "yaxis": "y"
        },
        {
         "alignmentgroup": "True",
         "bingroup": "x",
         "histfunc": "sum",
         "hovertemplate": "customer_nr=39<br>time=%{x}<br>sum of satisfaction=%{y}<extra></extra>",
         "legendgroup": "39",
         "marker": {
          "color": "#B6E880",
          "pattern": {
           "shape": ""
          }
         },
         "name": "39",
         "nbinsx": 15,
         "offsetgroup": "39",
         "orientation": "v",
         "showlegend": true,
         "type": "histogram",
         "x": [
          "2024-01-01T12:15:00"
         ],
         "xaxis": "x",
         "y": [
          100
         ],
         "yaxis": "y"
        }
       ],
       "layout": {
        "barmode": "group",
        "height": 400,
        "legend": {
         "title": {
          "text": "customer_nr"
         },
         "tracegroupgap": 0
        },
        "margin": {
         "t": 60
        },
        "template": {
         "data": {
          "bar": [
           {
            "error_x": {
             "color": "#2a3f5f"
            },
            "error_y": {
             "color": "#2a3f5f"
            },
            "marker": {
             "line": {
              "color": "#E5ECF6",
              "width": 0.5
             },
             "pattern": {
              "fillmode": "overlay",
              "size": 10,
              "solidity": 0.2
             }
            },
            "type": "bar"
           }
          ],
          "barpolar": [
           {
            "marker": {
             "line": {
              "color": "#E5ECF6",
              "width": 0.5
             },
             "pattern": {
              "fillmode": "overlay",
              "size": 10,
              "solidity": 0.2
             }
            },
            "type": "barpolar"
           }
          ],
          "carpet": [
           {
            "aaxis": {
             "endlinecolor": "#2a3f5f",
             "gridcolor": "white",
             "linecolor": "white",
             "minorgridcolor": "white",
             "startlinecolor": "#2a3f5f"
            },
            "baxis": {
             "endlinecolor": "#2a3f5f",
             "gridcolor": "white",
             "linecolor": "white",
             "minorgridcolor": "white",
             "startlinecolor": "#2a3f5f"
            },
            "type": "carpet"
           }
          ],
          "choropleth": [
           {
            "colorbar": {
             "outlinewidth": 0,
             "ticks": ""
            },
            "type": "choropleth"
           }
          ],
          "contour": [
           {
            "colorbar": {
             "outlinewidth": 0,
             "ticks": ""
            },
            "colorscale": [
             [
              0,
              "#0d0887"
             ],
             [
              0.1111111111111111,
              "#46039f"
             ],
             [
              0.2222222222222222,
              "#7201a8"
             ],
             [
              0.3333333333333333,
              "#9c179e"
             ],
             [
              0.4444444444444444,
              "#bd3786"
             ],
             [
              0.5555555555555556,
              "#d8576b"
             ],
             [
              0.6666666666666666,
              "#ed7953"
             ],
             [
              0.7777777777777778,
              "#fb9f3a"
             ],
             [
              0.8888888888888888,
              "#fdca26"
             ],
             [
              1,
              "#f0f921"
             ]
            ],
            "type": "contour"
           }
          ],
          "contourcarpet": [
           {
            "colorbar": {
             "outlinewidth": 0,
             "ticks": ""
            },
            "type": "contourcarpet"
           }
          ],
          "heatmap": [
           {
            "colorbar": {
             "outlinewidth": 0,
             "ticks": ""
            },
            "colorscale": [
             [
              0,
              "#0d0887"
             ],
             [
              0.1111111111111111,
              "#46039f"
             ],
             [
              0.2222222222222222,
              "#7201a8"
             ],
             [
              0.3333333333333333,
              "#9c179e"
             ],
             [
              0.4444444444444444,
              "#bd3786"
             ],
             [
              0.5555555555555556,
              "#d8576b"
             ],
             [
              0.6666666666666666,
              "#ed7953"
             ],
             [
              0.7777777777777778,
              "#fb9f3a"
             ],
             [
              0.8888888888888888,
              "#fdca26"
             ],
             [
              1,
              "#f0f921"
             ]
            ],
            "type": "heatmap"
           }
          ],
          "heatmapgl": [
           {
            "colorbar": {
             "outlinewidth": 0,
             "ticks": ""
            },
            "colorscale": [
             [
              0,
              "#0d0887"
             ],
             [
              0.1111111111111111,
              "#46039f"
             ],
             [
              0.2222222222222222,
              "#7201a8"
             ],
             [
              0.3333333333333333,
              "#9c179e"
             ],
             [
              0.4444444444444444,
              "#bd3786"
             ],
             [
              0.5555555555555556,
              "#d8576b"
             ],
             [
              0.6666666666666666,
              "#ed7953"
             ],
             [
              0.7777777777777778,
              "#fb9f3a"
             ],
             [
              0.8888888888888888,
              "#fdca26"
             ],
             [
              1,
              "#f0f921"
             ]
            ],
            "type": "heatmapgl"
           }
          ],
          "histogram": [
           {
            "marker": {
             "pattern": {
              "fillmode": "overlay",
              "size": 10,
              "solidity": 0.2
             }
            },
            "type": "histogram"
           }
          ],
          "histogram2d": [
           {
            "colorbar": {
             "outlinewidth": 0,
             "ticks": ""
            },
            "colorscale": [
             [
              0,
              "#0d0887"
             ],
             [
              0.1111111111111111,
              "#46039f"
             ],
             [
              0.2222222222222222,
              "#7201a8"
             ],
             [
              0.3333333333333333,
              "#9c179e"
             ],
             [
              0.4444444444444444,
              "#bd3786"
             ],
             [
              0.5555555555555556,
              "#d8576b"
             ],
             [
              0.6666666666666666,
              "#ed7953"
             ],
             [
              0.7777777777777778,
              "#fb9f3a"
             ],
             [
              0.8888888888888888,
              "#fdca26"
             ],
             [
              1,
              "#f0f921"
             ]
            ],
            "type": "histogram2d"
           }
          ],
          "histogram2dcontour": [
           {
            "colorbar": {
             "outlinewidth": 0,
             "ticks": ""
            },
            "colorscale": [
             [
              0,
              "#0d0887"
             ],
             [
              0.1111111111111111,
              "#46039f"
             ],
             [
              0.2222222222222222,
              "#7201a8"
             ],
             [
              0.3333333333333333,
              "#9c179e"
             ],
             [
              0.4444444444444444,
              "#bd3786"
             ],
             [
              0.5555555555555556,
              "#d8576b"
             ],
             [
              0.6666666666666666,
              "#ed7953"
             ],
             [
              0.7777777777777778,
              "#fb9f3a"
             ],
             [
              0.8888888888888888,
              "#fdca26"
             ],
             [
              1,
              "#f0f921"
             ]
            ],
            "type": "histogram2dcontour"
           }
          ],
          "mesh3d": [
           {
            "colorbar": {
             "outlinewidth": 0,
             "ticks": ""
            },
            "type": "mesh3d"
           }
          ],
          "parcoords": [
           {
            "line": {
             "colorbar": {
              "outlinewidth": 0,
              "ticks": ""
             }
            },
            "type": "parcoords"
           }
          ],
          "pie": [
           {
            "automargin": true,
            "type": "pie"
           }
          ],
          "scatter": [
           {
            "fillpattern": {
             "fillmode": "overlay",
             "size": 10,
             "solidity": 0.2
            },
            "type": "scatter"
           }
          ],
          "scatter3d": [
           {
            "line": {
             "colorbar": {
              "outlinewidth": 0,
              "ticks": ""
             }
            },
            "marker": {
             "colorbar": {
              "outlinewidth": 0,
              "ticks": ""
             }
            },
            "type": "scatter3d"
           }
          ],
          "scattercarpet": [
           {
            "marker": {
             "colorbar": {
              "outlinewidth": 0,
              "ticks": ""
             }
            },
            "type": "scattercarpet"
           }
          ],
          "scattergeo": [
           {
            "marker": {
             "colorbar": {
              "outlinewidth": 0,
              "ticks": ""
             }
            },
            "type": "scattergeo"
           }
          ],
          "scattergl": [
           {
            "marker": {
             "colorbar": {
              "outlinewidth": 0,
              "ticks": ""
             }
            },
            "type": "scattergl"
           }
          ],
          "scattermapbox": [
           {
            "marker": {
             "colorbar": {
              "outlinewidth": 0,
              "ticks": ""
             }
            },
            "type": "scattermapbox"
           }
          ],
          "scatterpolar": [
           {
            "marker": {
             "colorbar": {
              "outlinewidth": 0,
              "ticks": ""
             }
            },
            "type": "scatterpolar"
           }
          ],
          "scatterpolargl": [
           {
            "marker": {
             "colorbar": {
              "outlinewidth": 0,
              "ticks": ""
             }
            },
            "type": "scatterpolargl"
           }
          ],
          "scatterternary": [
           {
            "marker": {
             "colorbar": {
              "outlinewidth": 0,
              "ticks": ""
             }
            },
            "type": "scatterternary"
           }
          ],
          "surface": [
           {
            "colorbar": {
             "outlinewidth": 0,
             "ticks": ""
            },
            "colorscale": [
             [
              0,
              "#0d0887"
             ],
             [
              0.1111111111111111,
              "#46039f"
             ],
             [
              0.2222222222222222,
              "#7201a8"
             ],
             [
              0.3333333333333333,
              "#9c179e"
             ],
             [
              0.4444444444444444,
              "#bd3786"
             ],
             [
              0.5555555555555556,
              "#d8576b"
             ],
             [
              0.6666666666666666,
              "#ed7953"
             ],
             [
              0.7777777777777778,
              "#fb9f3a"
             ],
             [
              0.8888888888888888,
              "#fdca26"
             ],
             [
              1,
              "#f0f921"
             ]
            ],
            "type": "surface"
           }
          ],
          "table": [
           {
            "cells": {
             "fill": {
              "color": "#EBF0F8"
             },
             "line": {
              "color": "white"
             }
            },
            "header": {
             "fill": {
              "color": "#C8D4E3"
             },
             "line": {
              "color": "white"
             }
            },
            "type": "table"
           }
          ]
         },
         "layout": {
          "annotationdefaults": {
           "arrowcolor": "#2a3f5f",
           "arrowhead": 0,
           "arrowwidth": 1
          },
          "autotypenumbers": "strict",
          "coloraxis": {
           "colorbar": {
            "outlinewidth": 0,
            "ticks": ""
           }
          },
          "colorscale": {
           "diverging": [
            [
             0,
             "#8e0152"
            ],
            [
             0.1,
             "#c51b7d"
            ],
            [
             0.2,
             "#de77ae"
            ],
            [
             0.3,
             "#f1b6da"
            ],
            [
             0.4,
             "#fde0ef"
            ],
            [
             0.5,
             "#f7f7f7"
            ],
            [
             0.6,
             "#e6f5d0"
            ],
            [
             0.7,
             "#b8e186"
            ],
            [
             0.8,
             "#7fbc41"
            ],
            [
             0.9,
             "#4d9221"
            ],
            [
             1,
             "#276419"
            ]
           ],
           "sequential": [
            [
             0,
             "#0d0887"
            ],
            [
             0.1111111111111111,
             "#46039f"
            ],
            [
             0.2222222222222222,
             "#7201a8"
            ],
            [
             0.3333333333333333,
             "#9c179e"
            ],
            [
             0.4444444444444444,
             "#bd3786"
            ],
            [
             0.5555555555555556,
             "#d8576b"
            ],
            [
             0.6666666666666666,
             "#ed7953"
            ],
            [
             0.7777777777777778,
             "#fb9f3a"
            ],
            [
             0.8888888888888888,
             "#fdca26"
            ],
            [
             1,
             "#f0f921"
            ]
           ],
           "sequentialminus": [
            [
             0,
             "#0d0887"
            ],
            [
             0.1111111111111111,
             "#46039f"
            ],
            [
             0.2222222222222222,
             "#7201a8"
            ],
            [
             0.3333333333333333,
             "#9c179e"
            ],
            [
             0.4444444444444444,
             "#bd3786"
            ],
            [
             0.5555555555555556,
             "#d8576b"
            ],
            [
             0.6666666666666666,
             "#ed7953"
            ],
            [
             0.7777777777777778,
             "#fb9f3a"
            ],
            [
             0.8888888888888888,
             "#fdca26"
            ],
            [
             1,
             "#f0f921"
            ]
           ]
          },
          "colorway": [
           "#636efa",
           "#EF553B",
           "#00cc96",
           "#ab63fa",
           "#FFA15A",
           "#19d3f3",
           "#FF6692",
           "#B6E880",
           "#FF97FF",
           "#FECB52"
          ],
          "font": {
           "color": "#2a3f5f"
          },
          "geo": {
           "bgcolor": "white",
           "lakecolor": "white",
           "landcolor": "#E5ECF6",
           "showlakes": true,
           "showland": true,
           "subunitcolor": "white"
          },
          "hoverlabel": {
           "align": "left"
          },
          "hovermode": "closest",
          "mapbox": {
           "style": "light"
          },
          "paper_bgcolor": "white",
          "plot_bgcolor": "#E5ECF6",
          "polar": {
           "angularaxis": {
            "gridcolor": "white",
            "linecolor": "white",
            "ticks": ""
           },
           "bgcolor": "#E5ECF6",
           "radialaxis": {
            "gridcolor": "white",
            "linecolor": "white",
            "ticks": ""
           }
          },
          "scene": {
           "xaxis": {
            "backgroundcolor": "#E5ECF6",
            "gridcolor": "white",
            "gridwidth": 2,
            "linecolor": "white",
            "showbackground": true,
            "ticks": "",
            "zerolinecolor": "white"
           },
           "yaxis": {
            "backgroundcolor": "#E5ECF6",
            "gridcolor": "white",
            "gridwidth": 2,
            "linecolor": "white",
            "showbackground": true,
            "ticks": "",
            "zerolinecolor": "white"
           },
           "zaxis": {
            "backgroundcolor": "#E5ECF6",
            "gridcolor": "white",
            "gridwidth": 2,
            "linecolor": "white",
            "showbackground": true,
            "ticks": "",
            "zerolinecolor": "white"
           }
          },
          "shapedefaults": {
           "line": {
            "color": "#2a3f5f"
           }
          },
          "ternary": {
           "aaxis": {
            "gridcolor": "white",
            "linecolor": "white",
            "ticks": ""
           },
           "baxis": {
            "gridcolor": "white",
            "linecolor": "white",
            "ticks": ""
           },
           "bgcolor": "#E5ECF6",
           "caxis": {
            "gridcolor": "white",
            "linecolor": "white",
            "ticks": ""
           }
          },
          "title": {
           "x": 0.05
          },
          "xaxis": {
           "automargin": true,
           "gridcolor": "white",
           "linecolor": "white",
           "ticks": "",
           "title": {
            "standoff": 15
           },
           "zerolinecolor": "white",
           "zerolinewidth": 2
          },
          "yaxis": {
           "automargin": true,
           "gridcolor": "white",
           "linecolor": "white",
           "ticks": "",
           "title": {
            "standoff": 15
           },
           "zerolinecolor": "white",
           "zerolinewidth": 2
          }
         }
        },
        "xaxis": {
         "anchor": "y",
         "domain": [
          0,
          1
         ],
         "title": {
          "text": "Time of Day"
         }
        },
        "yaxis": {
         "anchor": "x",
         "domain": [
          0,
          1
         ],
         "title": {
          "text": "sum of satisfaction"
         }
        }
       }
      }
     },
     "metadata": {},
     "output_type": "display_data"
    },
    {
     "name": "stdout",
     "output_type": "stream",
     "text": [
      "None\n"
     ]
    },
    {
     "data": {
      "application/vnd.plotly.v1+json": {
       "config": {
        "plotlyServerURL": "https://plot.ly"
       },
       "data": [
        {
         "alignmentgroup": "True",
         "bingroup": "x",
         "histfunc": "sum",
         "hovertemplate": "waiter_nr=1<br>step=%{x}<br>sum of tips=%{y}<extra></extra>",
         "legendgroup": "1",
         "marker": {
          "color": "#636efa",
          "pattern": {
           "shape": ""
          }
         },
         "name": "1",
         "nbinsx": 16,
         "offsetgroup": "1",
         "orientation": "v",
         "showlegend": true,
         "type": "histogram",
         "x": [
          0,
          1,
          2,
          3,
          4,
          5,
          6,
          7,
          8,
          9,
          10,
          11,
          12,
          13,
          14,
          15
         ],
         "xaxis": "x",
         "y": [
          0,
          0,
          0,
          0,
          0,
          0,
          0,
          0,
          0,
          0,
          0,
          0,
          0,
          0,
          0,
          0
         ],
         "yaxis": "y"
        },
        {
         "alignmentgroup": "True",
         "bingroup": "x",
         "histfunc": "sum",
         "hovertemplate": "waiter_nr=2<br>step=%{x}<br>sum of tips=%{y}<extra></extra>",
         "legendgroup": "2",
         "marker": {
          "color": "#EF553B",
          "pattern": {
           "shape": ""
          }
         },
         "name": "2",
         "nbinsx": 16,
         "offsetgroup": "2",
         "orientation": "v",
         "showlegend": true,
         "type": "histogram",
         "x": [
          0,
          1,
          2,
          3,
          4,
          5,
          6,
          7,
          8,
          9,
          10,
          11,
          12,
          13,
          14,
          15
         ],
         "xaxis": "x",
         "y": [
          0,
          0,
          0,
          0,
          0,
          0,
          0,
          0,
          0,
          0,
          0,
          0,
          0,
          0,
          0,
          0
         ],
         "yaxis": "y"
        },
        {
         "alignmentgroup": "True",
         "bingroup": "x",
         "histfunc": "sum",
         "hovertemplate": "waiter_nr=3<br>step=%{x}<br>sum of tips=%{y}<extra></extra>",
         "legendgroup": "3",
         "marker": {
          "color": "#00cc96",
          "pattern": {
           "shape": ""
          }
         },
         "name": "3",
         "nbinsx": 16,
         "offsetgroup": "3",
         "orientation": "v",
         "showlegend": true,
         "type": "histogram",
         "x": [
          0,
          1,
          2,
          3,
          4,
          5,
          6,
          7,
          8,
          9,
          10,
          11,
          12,
          13,
          14,
          15
         ],
         "xaxis": "x",
         "y": [
          0,
          0,
          0,
          0,
          0,
          0,
          0,
          0,
          0,
          0,
          0,
          0,
          0,
          0,
          0,
          0
         ],
         "yaxis": "y"
        },
        {
         "alignmentgroup": "True",
         "bingroup": "x",
         "histfunc": "sum",
         "hovertemplate": "waiter_nr=4<br>step=%{x}<br>sum of tips=%{y}<extra></extra>",
         "legendgroup": "4",
         "marker": {
          "color": "#ab63fa",
          "pattern": {
           "shape": ""
          }
         },
         "name": "4",
         "nbinsx": 16,
         "offsetgroup": "4",
         "orientation": "v",
         "showlegend": true,
         "type": "histogram",
         "x": [
          0,
          1,
          2,
          3,
          4,
          5,
          6,
          7,
          8,
          9,
          10,
          11,
          12,
          13,
          14,
          15
         ],
         "xaxis": "x",
         "y": [
          0,
          0,
          0,
          0,
          0,
          0,
          0,
          0,
          0,
          0,
          0,
          0,
          0,
          0,
          0,
          0
         ],
         "yaxis": "y"
        },
        {
         "alignmentgroup": "True",
         "bingroup": "x",
         "histfunc": "sum",
         "hovertemplate": "waiter_nr=5<br>step=%{x}<br>sum of tips=%{y}<extra></extra>",
         "legendgroup": "5",
         "marker": {
          "color": "#FFA15A",
          "pattern": {
           "shape": ""
          }
         },
         "name": "5",
         "nbinsx": 16,
         "offsetgroup": "5",
         "orientation": "v",
         "showlegend": true,
         "type": "histogram",
         "x": [
          0,
          1,
          2,
          3,
          4,
          5,
          6,
          7,
          8,
          9,
          10,
          11,
          12,
          13,
          14,
          15
         ],
         "xaxis": "x",
         "y": [
          0,
          0,
          0,
          0,
          0,
          0,
          0,
          0,
          0,
          0,
          0,
          0,
          0,
          0,
          0,
          0
         ],
         "yaxis": "y"
        },
        {
         "alignmentgroup": "True",
         "bingroup": "x",
         "histfunc": "sum",
         "hovertemplate": "waiter_nr=6<br>step=%{x}<br>sum of tips=%{y}<extra></extra>",
         "legendgroup": "6",
         "marker": {
          "color": "#19d3f3",
          "pattern": {
           "shape": ""
          }
         },
         "name": "6",
         "nbinsx": 16,
         "offsetgroup": "6",
         "orientation": "v",
         "showlegend": true,
         "type": "histogram",
         "x": [
          0,
          1,
          2,
          3,
          4,
          5,
          6,
          7,
          8,
          9,
          10,
          11,
          12,
          13,
          14,
          15
         ],
         "xaxis": "x",
         "y": [
          0,
          0,
          0,
          0,
          0,
          0,
          0,
          0,
          0,
          0,
          0,
          0,
          0,
          0,
          0,
          0
         ],
         "yaxis": "y"
        },
        {
         "alignmentgroup": "True",
         "bingroup": "x",
         "histfunc": "sum",
         "hovertemplate": "waiter_nr=7<br>step=%{x}<br>sum of tips=%{y}<extra></extra>",
         "legendgroup": "7",
         "marker": {
          "color": "#FF6692",
          "pattern": {
           "shape": ""
          }
         },
         "name": "7",
         "nbinsx": 16,
         "offsetgroup": "7",
         "orientation": "v",
         "showlegend": true,
         "type": "histogram",
         "x": [
          0,
          1,
          2,
          3,
          4,
          5,
          6,
          7,
          8,
          9,
          10,
          11,
          12,
          13,
          14,
          15
         ],
         "xaxis": "x",
         "y": [
          0,
          0,
          0,
          0,
          0,
          0,
          0,
          0,
          0,
          0,
          0,
          0,
          0,
          0,
          0,
          0
         ],
         "yaxis": "y"
        },
        {
         "alignmentgroup": "True",
         "bingroup": "x",
         "histfunc": "sum",
         "hovertemplate": "waiter_nr=8<br>step=%{x}<br>sum of tips=%{y}<extra></extra>",
         "legendgroup": "8",
         "marker": {
          "color": "#B6E880",
          "pattern": {
           "shape": ""
          }
         },
         "name": "8",
         "nbinsx": 16,
         "offsetgroup": "8",
         "orientation": "v",
         "showlegend": true,
         "type": "histogram",
         "x": [
          0,
          1,
          2,
          3,
          4,
          5,
          6,
          7,
          8,
          9,
          10,
          11,
          12,
          13,
          14,
          15
         ],
         "xaxis": "x",
         "y": [
          0,
          0,
          0,
          0,
          0,
          0,
          0,
          0,
          0,
          0,
          0,
          0,
          0,
          0,
          0,
          0
         ],
         "yaxis": "y"
        },
        {
         "alignmentgroup": "True",
         "bingroup": "x",
         "histfunc": "sum",
         "hovertemplate": "waiter_nr=9<br>step=%{x}<br>sum of tips=%{y}<extra></extra>",
         "legendgroup": "9",
         "marker": {
          "color": "#FF97FF",
          "pattern": {
           "shape": ""
          }
         },
         "name": "9",
         "nbinsx": 16,
         "offsetgroup": "9",
         "orientation": "v",
         "showlegend": true,
         "type": "histogram",
         "x": [
          0,
          1,
          2,
          3,
          4,
          5,
          6,
          7,
          8,
          9,
          10,
          11,
          12,
          13,
          14,
          15
         ],
         "xaxis": "x",
         "y": [
          0,
          0,
          0,
          0,
          0,
          0,
          0,
          0,
          0,
          0,
          0,
          0,
          0,
          0,
          0,
          0
         ],
         "yaxis": "y"
        },
        {
         "alignmentgroup": "True",
         "bingroup": "x",
         "histfunc": "sum",
         "hovertemplate": "waiter_nr=10<br>step=%{x}<br>sum of tips=%{y}<extra></extra>",
         "legendgroup": "10",
         "marker": {
          "color": "#FECB52",
          "pattern": {
           "shape": ""
          }
         },
         "name": "10",
         "nbinsx": 16,
         "offsetgroup": "10",
         "orientation": "v",
         "showlegend": true,
         "type": "histogram",
         "x": [
          0,
          1,
          2,
          3,
          4,
          5,
          6,
          7,
          8,
          9,
          10,
          11,
          12,
          13,
          14,
          15
         ],
         "xaxis": "x",
         "y": [
          0,
          0,
          0,
          0,
          0,
          0,
          0,
          0,
          0,
          0,
          0,
          0,
          0,
          0,
          0,
          0
         ],
         "yaxis": "y"
        }
       ],
       "layout": {
        "barmode": "group",
        "height": 400,
        "legend": {
         "title": {
          "text": "waiter_nr"
         },
         "tracegroupgap": 0
        },
        "margin": {
         "t": 60
        },
        "template": {
         "data": {
          "bar": [
           {
            "error_x": {
             "color": "#2a3f5f"
            },
            "error_y": {
             "color": "#2a3f5f"
            },
            "marker": {
             "line": {
              "color": "#E5ECF6",
              "width": 0.5
             },
             "pattern": {
              "fillmode": "overlay",
              "size": 10,
              "solidity": 0.2
             }
            },
            "type": "bar"
           }
          ],
          "barpolar": [
           {
            "marker": {
             "line": {
              "color": "#E5ECF6",
              "width": 0.5
             },
             "pattern": {
              "fillmode": "overlay",
              "size": 10,
              "solidity": 0.2
             }
            },
            "type": "barpolar"
           }
          ],
          "carpet": [
           {
            "aaxis": {
             "endlinecolor": "#2a3f5f",
             "gridcolor": "white",
             "linecolor": "white",
             "minorgridcolor": "white",
             "startlinecolor": "#2a3f5f"
            },
            "baxis": {
             "endlinecolor": "#2a3f5f",
             "gridcolor": "white",
             "linecolor": "white",
             "minorgridcolor": "white",
             "startlinecolor": "#2a3f5f"
            },
            "type": "carpet"
           }
          ],
          "choropleth": [
           {
            "colorbar": {
             "outlinewidth": 0,
             "ticks": ""
            },
            "type": "choropleth"
           }
          ],
          "contour": [
           {
            "colorbar": {
             "outlinewidth": 0,
             "ticks": ""
            },
            "colorscale": [
             [
              0,
              "#0d0887"
             ],
             [
              0.1111111111111111,
              "#46039f"
             ],
             [
              0.2222222222222222,
              "#7201a8"
             ],
             [
              0.3333333333333333,
              "#9c179e"
             ],
             [
              0.4444444444444444,
              "#bd3786"
             ],
             [
              0.5555555555555556,
              "#d8576b"
             ],
             [
              0.6666666666666666,
              "#ed7953"
             ],
             [
              0.7777777777777778,
              "#fb9f3a"
             ],
             [
              0.8888888888888888,
              "#fdca26"
             ],
             [
              1,
              "#f0f921"
             ]
            ],
            "type": "contour"
           }
          ],
          "contourcarpet": [
           {
            "colorbar": {
             "outlinewidth": 0,
             "ticks": ""
            },
            "type": "contourcarpet"
           }
          ],
          "heatmap": [
           {
            "colorbar": {
             "outlinewidth": 0,
             "ticks": ""
            },
            "colorscale": [
             [
              0,
              "#0d0887"
             ],
             [
              0.1111111111111111,
              "#46039f"
             ],
             [
              0.2222222222222222,
              "#7201a8"
             ],
             [
              0.3333333333333333,
              "#9c179e"
             ],
             [
              0.4444444444444444,
              "#bd3786"
             ],
             [
              0.5555555555555556,
              "#d8576b"
             ],
             [
              0.6666666666666666,
              "#ed7953"
             ],
             [
              0.7777777777777778,
              "#fb9f3a"
             ],
             [
              0.8888888888888888,
              "#fdca26"
             ],
             [
              1,
              "#f0f921"
             ]
            ],
            "type": "heatmap"
           }
          ],
          "heatmapgl": [
           {
            "colorbar": {
             "outlinewidth": 0,
             "ticks": ""
            },
            "colorscale": [
             [
              0,
              "#0d0887"
             ],
             [
              0.1111111111111111,
              "#46039f"
             ],
             [
              0.2222222222222222,
              "#7201a8"
             ],
             [
              0.3333333333333333,
              "#9c179e"
             ],
             [
              0.4444444444444444,
              "#bd3786"
             ],
             [
              0.5555555555555556,
              "#d8576b"
             ],
             [
              0.6666666666666666,
              "#ed7953"
             ],
             [
              0.7777777777777778,
              "#fb9f3a"
             ],
             [
              0.8888888888888888,
              "#fdca26"
             ],
             [
              1,
              "#f0f921"
             ]
            ],
            "type": "heatmapgl"
           }
          ],
          "histogram": [
           {
            "marker": {
             "pattern": {
              "fillmode": "overlay",
              "size": 10,
              "solidity": 0.2
             }
            },
            "type": "histogram"
           }
          ],
          "histogram2d": [
           {
            "colorbar": {
             "outlinewidth": 0,
             "ticks": ""
            },
            "colorscale": [
             [
              0,
              "#0d0887"
             ],
             [
              0.1111111111111111,
              "#46039f"
             ],
             [
              0.2222222222222222,
              "#7201a8"
             ],
             [
              0.3333333333333333,
              "#9c179e"
             ],
             [
              0.4444444444444444,
              "#bd3786"
             ],
             [
              0.5555555555555556,
              "#d8576b"
             ],
             [
              0.6666666666666666,
              "#ed7953"
             ],
             [
              0.7777777777777778,
              "#fb9f3a"
             ],
             [
              0.8888888888888888,
              "#fdca26"
             ],
             [
              1,
              "#f0f921"
             ]
            ],
            "type": "histogram2d"
           }
          ],
          "histogram2dcontour": [
           {
            "colorbar": {
             "outlinewidth": 0,
             "ticks": ""
            },
            "colorscale": [
             [
              0,
              "#0d0887"
             ],
             [
              0.1111111111111111,
              "#46039f"
             ],
             [
              0.2222222222222222,
              "#7201a8"
             ],
             [
              0.3333333333333333,
              "#9c179e"
             ],
             [
              0.4444444444444444,
              "#bd3786"
             ],
             [
              0.5555555555555556,
              "#d8576b"
             ],
             [
              0.6666666666666666,
              "#ed7953"
             ],
             [
              0.7777777777777778,
              "#fb9f3a"
             ],
             [
              0.8888888888888888,
              "#fdca26"
             ],
             [
              1,
              "#f0f921"
             ]
            ],
            "type": "histogram2dcontour"
           }
          ],
          "mesh3d": [
           {
            "colorbar": {
             "outlinewidth": 0,
             "ticks": ""
            },
            "type": "mesh3d"
           }
          ],
          "parcoords": [
           {
            "line": {
             "colorbar": {
              "outlinewidth": 0,
              "ticks": ""
             }
            },
            "type": "parcoords"
           }
          ],
          "pie": [
           {
            "automargin": true,
            "type": "pie"
           }
          ],
          "scatter": [
           {
            "fillpattern": {
             "fillmode": "overlay",
             "size": 10,
             "solidity": 0.2
            },
            "type": "scatter"
           }
          ],
          "scatter3d": [
           {
            "line": {
             "colorbar": {
              "outlinewidth": 0,
              "ticks": ""
             }
            },
            "marker": {
             "colorbar": {
              "outlinewidth": 0,
              "ticks": ""
             }
            },
            "type": "scatter3d"
           }
          ],
          "scattercarpet": [
           {
            "marker": {
             "colorbar": {
              "outlinewidth": 0,
              "ticks": ""
             }
            },
            "type": "scattercarpet"
           }
          ],
          "scattergeo": [
           {
            "marker": {
             "colorbar": {
              "outlinewidth": 0,
              "ticks": ""
             }
            },
            "type": "scattergeo"
           }
          ],
          "scattergl": [
           {
            "marker": {
             "colorbar": {
              "outlinewidth": 0,
              "ticks": ""
             }
            },
            "type": "scattergl"
           }
          ],
          "scattermapbox": [
           {
            "marker": {
             "colorbar": {
              "outlinewidth": 0,
              "ticks": ""
             }
            },
            "type": "scattermapbox"
           }
          ],
          "scatterpolar": [
           {
            "marker": {
             "colorbar": {
              "outlinewidth": 0,
              "ticks": ""
             }
            },
            "type": "scatterpolar"
           }
          ],
          "scatterpolargl": [
           {
            "marker": {
             "colorbar": {
              "outlinewidth": 0,
              "ticks": ""
             }
            },
            "type": "scatterpolargl"
           }
          ],
          "scatterternary": [
           {
            "marker": {
             "colorbar": {
              "outlinewidth": 0,
              "ticks": ""
             }
            },
            "type": "scatterternary"
           }
          ],
          "surface": [
           {
            "colorbar": {
             "outlinewidth": 0,
             "ticks": ""
            },
            "colorscale": [
             [
              0,
              "#0d0887"
             ],
             [
              0.1111111111111111,
              "#46039f"
             ],
             [
              0.2222222222222222,
              "#7201a8"
             ],
             [
              0.3333333333333333,
              "#9c179e"
             ],
             [
              0.4444444444444444,
              "#bd3786"
             ],
             [
              0.5555555555555556,
              "#d8576b"
             ],
             [
              0.6666666666666666,
              "#ed7953"
             ],
             [
              0.7777777777777778,
              "#fb9f3a"
             ],
             [
              0.8888888888888888,
              "#fdca26"
             ],
             [
              1,
              "#f0f921"
             ]
            ],
            "type": "surface"
           }
          ],
          "table": [
           {
            "cells": {
             "fill": {
              "color": "#EBF0F8"
             },
             "line": {
              "color": "white"
             }
            },
            "header": {
             "fill": {
              "color": "#C8D4E3"
             },
             "line": {
              "color": "white"
             }
            },
            "type": "table"
           }
          ]
         },
         "layout": {
          "annotationdefaults": {
           "arrowcolor": "#2a3f5f",
           "arrowhead": 0,
           "arrowwidth": 1
          },
          "autotypenumbers": "strict",
          "coloraxis": {
           "colorbar": {
            "outlinewidth": 0,
            "ticks": ""
           }
          },
          "colorscale": {
           "diverging": [
            [
             0,
             "#8e0152"
            ],
            [
             0.1,
             "#c51b7d"
            ],
            [
             0.2,
             "#de77ae"
            ],
            [
             0.3,
             "#f1b6da"
            ],
            [
             0.4,
             "#fde0ef"
            ],
            [
             0.5,
             "#f7f7f7"
            ],
            [
             0.6,
             "#e6f5d0"
            ],
            [
             0.7,
             "#b8e186"
            ],
            [
             0.8,
             "#7fbc41"
            ],
            [
             0.9,
             "#4d9221"
            ],
            [
             1,
             "#276419"
            ]
           ],
           "sequential": [
            [
             0,
             "#0d0887"
            ],
            [
             0.1111111111111111,
             "#46039f"
            ],
            [
             0.2222222222222222,
             "#7201a8"
            ],
            [
             0.3333333333333333,
             "#9c179e"
            ],
            [
             0.4444444444444444,
             "#bd3786"
            ],
            [
             0.5555555555555556,
             "#d8576b"
            ],
            [
             0.6666666666666666,
             "#ed7953"
            ],
            [
             0.7777777777777778,
             "#fb9f3a"
            ],
            [
             0.8888888888888888,
             "#fdca26"
            ],
            [
             1,
             "#f0f921"
            ]
           ],
           "sequentialminus": [
            [
             0,
             "#0d0887"
            ],
            [
             0.1111111111111111,
             "#46039f"
            ],
            [
             0.2222222222222222,
             "#7201a8"
            ],
            [
             0.3333333333333333,
             "#9c179e"
            ],
            [
             0.4444444444444444,
             "#bd3786"
            ],
            [
             0.5555555555555556,
             "#d8576b"
            ],
            [
             0.6666666666666666,
             "#ed7953"
            ],
            [
             0.7777777777777778,
             "#fb9f3a"
            ],
            [
             0.8888888888888888,
             "#fdca26"
            ],
            [
             1,
             "#f0f921"
            ]
           ]
          },
          "colorway": [
           "#636efa",
           "#EF553B",
           "#00cc96",
           "#ab63fa",
           "#FFA15A",
           "#19d3f3",
           "#FF6692",
           "#B6E880",
           "#FF97FF",
           "#FECB52"
          ],
          "font": {
           "color": "#2a3f5f"
          },
          "geo": {
           "bgcolor": "white",
           "lakecolor": "white",
           "landcolor": "#E5ECF6",
           "showlakes": true,
           "showland": true,
           "subunitcolor": "white"
          },
          "hoverlabel": {
           "align": "left"
          },
          "hovermode": "closest",
          "mapbox": {
           "style": "light"
          },
          "paper_bgcolor": "white",
          "plot_bgcolor": "#E5ECF6",
          "polar": {
           "angularaxis": {
            "gridcolor": "white",
            "linecolor": "white",
            "ticks": ""
           },
           "bgcolor": "#E5ECF6",
           "radialaxis": {
            "gridcolor": "white",
            "linecolor": "white",
            "ticks": ""
           }
          },
          "scene": {
           "xaxis": {
            "backgroundcolor": "#E5ECF6",
            "gridcolor": "white",
            "gridwidth": 2,
            "linecolor": "white",
            "showbackground": true,
            "ticks": "",
            "zerolinecolor": "white"
           },
           "yaxis": {
            "backgroundcolor": "#E5ECF6",
            "gridcolor": "white",
            "gridwidth": 2,
            "linecolor": "white",
            "showbackground": true,
            "ticks": "",
            "zerolinecolor": "white"
           },
           "zaxis": {
            "backgroundcolor": "#E5ECF6",
            "gridcolor": "white",
            "gridwidth": 2,
            "linecolor": "white",
            "showbackground": true,
            "ticks": "",
            "zerolinecolor": "white"
           }
          },
          "shapedefaults": {
           "line": {
            "color": "#2a3f5f"
           }
          },
          "ternary": {
           "aaxis": {
            "gridcolor": "white",
            "linecolor": "white",
            "ticks": ""
           },
           "baxis": {
            "gridcolor": "white",
            "linecolor": "white",
            "ticks": ""
           },
           "bgcolor": "#E5ECF6",
           "caxis": {
            "gridcolor": "white",
            "linecolor": "white",
            "ticks": ""
           }
          },
          "title": {
           "x": 0.05
          },
          "xaxis": {
           "automargin": true,
           "gridcolor": "white",
           "linecolor": "white",
           "ticks": "",
           "title": {
            "standoff": 15
           },
           "zerolinecolor": "white",
           "zerolinewidth": 2
          },
          "yaxis": {
           "automargin": true,
           "gridcolor": "white",
           "linecolor": "white",
           "ticks": "",
           "title": {
            "standoff": 15
           },
           "zerolinecolor": "white",
           "zerolinewidth": 2
          }
         }
        },
        "xaxis": {
         "anchor": "y",
         "domain": [
          0,
          1
         ],
         "title": {
          "text": "step"
         }
        },
        "yaxis": {
         "anchor": "x",
         "domain": [
          0,
          1
         ],
         "title": {
          "text": "sum of tips"
         }
        }
       }
      }
     },
     "metadata": {},
     "output_type": "display_data"
    },
    {
     "name": "stdout",
     "output_type": "stream",
     "text": [
      "None\n"
     ]
    },
    {
     "data": {
      "application/vnd.plotly.v1+json": {
       "config": {
        "plotlyServerURL": "https://plot.ly"
       },
       "data": [
        {
         "alignmentgroup": "True",
         "bingroup": "x",
         "histfunc": "sum",
         "hovertemplate": "waiter_nr=1<br>step=%{x}<br>sum of avg_rating=%{y}<extra></extra>",
         "legendgroup": "1",
         "marker": {
          "color": "#636efa",
          "pattern": {
           "shape": ""
          }
         },
         "name": "1",
         "nbinsx": 16,
         "offsetgroup": "1",
         "orientation": "v",
         "showlegend": true,
         "type": "histogram",
         "x": [
          0,
          1,
          2,
          3,
          4,
          5,
          6,
          7,
          8,
          9,
          10,
          11,
          12,
          13,
          14,
          15
         ],
         "xaxis": "x",
         "y": [
          0,
          0,
          0,
          0,
          0,
          0,
          0,
          0,
          0,
          0,
          0,
          0,
          0,
          0,
          0,
          0
         ],
         "yaxis": "y"
        },
        {
         "alignmentgroup": "True",
         "bingroup": "x",
         "histfunc": "sum",
         "hovertemplate": "waiter_nr=2<br>step=%{x}<br>sum of avg_rating=%{y}<extra></extra>",
         "legendgroup": "2",
         "marker": {
          "color": "#EF553B",
          "pattern": {
           "shape": ""
          }
         },
         "name": "2",
         "nbinsx": 16,
         "offsetgroup": "2",
         "orientation": "v",
         "showlegend": true,
         "type": "histogram",
         "x": [
          0,
          1,
          2,
          3,
          4,
          5,
          6,
          7,
          8,
          9,
          10,
          11,
          12,
          13,
          14,
          15
         ],
         "xaxis": "x",
         "y": [
          0,
          0,
          0,
          0,
          0,
          0,
          0,
          0,
          0,
          0,
          0,
          0,
          0,
          0,
          0,
          0
         ],
         "yaxis": "y"
        },
        {
         "alignmentgroup": "True",
         "bingroup": "x",
         "histfunc": "sum",
         "hovertemplate": "waiter_nr=3<br>step=%{x}<br>sum of avg_rating=%{y}<extra></extra>",
         "legendgroup": "3",
         "marker": {
          "color": "#00cc96",
          "pattern": {
           "shape": ""
          }
         },
         "name": "3",
         "nbinsx": 16,
         "offsetgroup": "3",
         "orientation": "v",
         "showlegend": true,
         "type": "histogram",
         "x": [
          0,
          1,
          2,
          3,
          4,
          5,
          6,
          7,
          8,
          9,
          10,
          11,
          12,
          13,
          14,
          15
         ],
         "xaxis": "x",
         "y": [
          0,
          0,
          0,
          0,
          0,
          0,
          0,
          0,
          0,
          0,
          0,
          0,
          0,
          0,
          0,
          0
         ],
         "yaxis": "y"
        },
        {
         "alignmentgroup": "True",
         "bingroup": "x",
         "histfunc": "sum",
         "hovertemplate": "waiter_nr=4<br>step=%{x}<br>sum of avg_rating=%{y}<extra></extra>",
         "legendgroup": "4",
         "marker": {
          "color": "#ab63fa",
          "pattern": {
           "shape": ""
          }
         },
         "name": "4",
         "nbinsx": 16,
         "offsetgroup": "4",
         "orientation": "v",
         "showlegend": true,
         "type": "histogram",
         "x": [
          0,
          1,
          2,
          3,
          4,
          5,
          6,
          7,
          8,
          9,
          10,
          11,
          12,
          13,
          14,
          15
         ],
         "xaxis": "x",
         "y": [
          0,
          0,
          0,
          0,
          0,
          0,
          0,
          0,
          0,
          0,
          0,
          0,
          0,
          0,
          0,
          0
         ],
         "yaxis": "y"
        },
        {
         "alignmentgroup": "True",
         "bingroup": "x",
         "histfunc": "sum",
         "hovertemplate": "waiter_nr=5<br>step=%{x}<br>sum of avg_rating=%{y}<extra></extra>",
         "legendgroup": "5",
         "marker": {
          "color": "#FFA15A",
          "pattern": {
           "shape": ""
          }
         },
         "name": "5",
         "nbinsx": 16,
         "offsetgroup": "5",
         "orientation": "v",
         "showlegend": true,
         "type": "histogram",
         "x": [
          0,
          1,
          2,
          3,
          4,
          5,
          6,
          7,
          8,
          9,
          10,
          11,
          12,
          13,
          14,
          15
         ],
         "xaxis": "x",
         "y": [
          0,
          0,
          0,
          0,
          0,
          0,
          0,
          0,
          0,
          0,
          0,
          0,
          0,
          0,
          0,
          0
         ],
         "yaxis": "y"
        },
        {
         "alignmentgroup": "True",
         "bingroup": "x",
         "histfunc": "sum",
         "hovertemplate": "waiter_nr=6<br>step=%{x}<br>sum of avg_rating=%{y}<extra></extra>",
         "legendgroup": "6",
         "marker": {
          "color": "#19d3f3",
          "pattern": {
           "shape": ""
          }
         },
         "name": "6",
         "nbinsx": 16,
         "offsetgroup": "6",
         "orientation": "v",
         "showlegend": true,
         "type": "histogram",
         "x": [
          0,
          1,
          2,
          3,
          4,
          5,
          6,
          7,
          8,
          9,
          10,
          11,
          12,
          13,
          14,
          15
         ],
         "xaxis": "x",
         "y": [
          0,
          0,
          0,
          0,
          0,
          0,
          0,
          0,
          0,
          0,
          0,
          0,
          0,
          0,
          0,
          0
         ],
         "yaxis": "y"
        },
        {
         "alignmentgroup": "True",
         "bingroup": "x",
         "histfunc": "sum",
         "hovertemplate": "waiter_nr=7<br>step=%{x}<br>sum of avg_rating=%{y}<extra></extra>",
         "legendgroup": "7",
         "marker": {
          "color": "#FF6692",
          "pattern": {
           "shape": ""
          }
         },
         "name": "7",
         "nbinsx": 16,
         "offsetgroup": "7",
         "orientation": "v",
         "showlegend": true,
         "type": "histogram",
         "x": [
          0,
          1,
          2,
          3,
          4,
          5,
          6,
          7,
          8,
          9,
          10,
          11,
          12,
          13,
          14,
          15
         ],
         "xaxis": "x",
         "y": [
          0,
          0,
          0,
          0,
          0,
          0,
          0,
          0,
          0,
          0,
          0,
          0,
          0,
          0,
          0,
          0
         ],
         "yaxis": "y"
        },
        {
         "alignmentgroup": "True",
         "bingroup": "x",
         "histfunc": "sum",
         "hovertemplate": "waiter_nr=8<br>step=%{x}<br>sum of avg_rating=%{y}<extra></extra>",
         "legendgroup": "8",
         "marker": {
          "color": "#B6E880",
          "pattern": {
           "shape": ""
          }
         },
         "name": "8",
         "nbinsx": 16,
         "offsetgroup": "8",
         "orientation": "v",
         "showlegend": true,
         "type": "histogram",
         "x": [
          0,
          1,
          2,
          3,
          4,
          5,
          6,
          7,
          8,
          9,
          10,
          11,
          12,
          13,
          14,
          15
         ],
         "xaxis": "x",
         "y": [
          0,
          0,
          0,
          0,
          0,
          0,
          0,
          0,
          0,
          0,
          0,
          0,
          0,
          0,
          0,
          0
         ],
         "yaxis": "y"
        },
        {
         "alignmentgroup": "True",
         "bingroup": "x",
         "histfunc": "sum",
         "hovertemplate": "waiter_nr=9<br>step=%{x}<br>sum of avg_rating=%{y}<extra></extra>",
         "legendgroup": "9",
         "marker": {
          "color": "#FF97FF",
          "pattern": {
           "shape": ""
          }
         },
         "name": "9",
         "nbinsx": 16,
         "offsetgroup": "9",
         "orientation": "v",
         "showlegend": true,
         "type": "histogram",
         "x": [
          0,
          1,
          2,
          3,
          4,
          5,
          6,
          7,
          8,
          9,
          10,
          11,
          12,
          13,
          14,
          15
         ],
         "xaxis": "x",
         "y": [
          0,
          0,
          0,
          0,
          0,
          0,
          0,
          0,
          0,
          0,
          0,
          0,
          0,
          0,
          0,
          0
         ],
         "yaxis": "y"
        },
        {
         "alignmentgroup": "True",
         "bingroup": "x",
         "histfunc": "sum",
         "hovertemplate": "waiter_nr=10<br>step=%{x}<br>sum of avg_rating=%{y}<extra></extra>",
         "legendgroup": "10",
         "marker": {
          "color": "#FECB52",
          "pattern": {
           "shape": ""
          }
         },
         "name": "10",
         "nbinsx": 16,
         "offsetgroup": "10",
         "orientation": "v",
         "showlegend": true,
         "type": "histogram",
         "x": [
          0,
          1,
          2,
          3,
          4,
          5,
          6,
          7,
          8,
          9,
          10,
          11,
          12,
          13,
          14,
          15
         ],
         "xaxis": "x",
         "y": [
          0,
          0,
          0,
          0,
          0,
          0,
          0,
          0,
          0,
          0,
          0,
          0,
          0,
          0,
          0,
          0
         ],
         "yaxis": "y"
        }
       ],
       "layout": {
        "barmode": "group",
        "height": 400,
        "legend": {
         "title": {
          "text": "waiter_nr"
         },
         "tracegroupgap": 0
        },
        "margin": {
         "t": 60
        },
        "template": {
         "data": {
          "bar": [
           {
            "error_x": {
             "color": "#2a3f5f"
            },
            "error_y": {
             "color": "#2a3f5f"
            },
            "marker": {
             "line": {
              "color": "#E5ECF6",
              "width": 0.5
             },
             "pattern": {
              "fillmode": "overlay",
              "size": 10,
              "solidity": 0.2
             }
            },
            "type": "bar"
           }
          ],
          "barpolar": [
           {
            "marker": {
             "line": {
              "color": "#E5ECF6",
              "width": 0.5
             },
             "pattern": {
              "fillmode": "overlay",
              "size": 10,
              "solidity": 0.2
             }
            },
            "type": "barpolar"
           }
          ],
          "carpet": [
           {
            "aaxis": {
             "endlinecolor": "#2a3f5f",
             "gridcolor": "white",
             "linecolor": "white",
             "minorgridcolor": "white",
             "startlinecolor": "#2a3f5f"
            },
            "baxis": {
             "endlinecolor": "#2a3f5f",
             "gridcolor": "white",
             "linecolor": "white",
             "minorgridcolor": "white",
             "startlinecolor": "#2a3f5f"
            },
            "type": "carpet"
           }
          ],
          "choropleth": [
           {
            "colorbar": {
             "outlinewidth": 0,
             "ticks": ""
            },
            "type": "choropleth"
           }
          ],
          "contour": [
           {
            "colorbar": {
             "outlinewidth": 0,
             "ticks": ""
            },
            "colorscale": [
             [
              0,
              "#0d0887"
             ],
             [
              0.1111111111111111,
              "#46039f"
             ],
             [
              0.2222222222222222,
              "#7201a8"
             ],
             [
              0.3333333333333333,
              "#9c179e"
             ],
             [
              0.4444444444444444,
              "#bd3786"
             ],
             [
              0.5555555555555556,
              "#d8576b"
             ],
             [
              0.6666666666666666,
              "#ed7953"
             ],
             [
              0.7777777777777778,
              "#fb9f3a"
             ],
             [
              0.8888888888888888,
              "#fdca26"
             ],
             [
              1,
              "#f0f921"
             ]
            ],
            "type": "contour"
           }
          ],
          "contourcarpet": [
           {
            "colorbar": {
             "outlinewidth": 0,
             "ticks": ""
            },
            "type": "contourcarpet"
           }
          ],
          "heatmap": [
           {
            "colorbar": {
             "outlinewidth": 0,
             "ticks": ""
            },
            "colorscale": [
             [
              0,
              "#0d0887"
             ],
             [
              0.1111111111111111,
              "#46039f"
             ],
             [
              0.2222222222222222,
              "#7201a8"
             ],
             [
              0.3333333333333333,
              "#9c179e"
             ],
             [
              0.4444444444444444,
              "#bd3786"
             ],
             [
              0.5555555555555556,
              "#d8576b"
             ],
             [
              0.6666666666666666,
              "#ed7953"
             ],
             [
              0.7777777777777778,
              "#fb9f3a"
             ],
             [
              0.8888888888888888,
              "#fdca26"
             ],
             [
              1,
              "#f0f921"
             ]
            ],
            "type": "heatmap"
           }
          ],
          "heatmapgl": [
           {
            "colorbar": {
             "outlinewidth": 0,
             "ticks": ""
            },
            "colorscale": [
             [
              0,
              "#0d0887"
             ],
             [
              0.1111111111111111,
              "#46039f"
             ],
             [
              0.2222222222222222,
              "#7201a8"
             ],
             [
              0.3333333333333333,
              "#9c179e"
             ],
             [
              0.4444444444444444,
              "#bd3786"
             ],
             [
              0.5555555555555556,
              "#d8576b"
             ],
             [
              0.6666666666666666,
              "#ed7953"
             ],
             [
              0.7777777777777778,
              "#fb9f3a"
             ],
             [
              0.8888888888888888,
              "#fdca26"
             ],
             [
              1,
              "#f0f921"
             ]
            ],
            "type": "heatmapgl"
           }
          ],
          "histogram": [
           {
            "marker": {
             "pattern": {
              "fillmode": "overlay",
              "size": 10,
              "solidity": 0.2
             }
            },
            "type": "histogram"
           }
          ],
          "histogram2d": [
           {
            "colorbar": {
             "outlinewidth": 0,
             "ticks": ""
            },
            "colorscale": [
             [
              0,
              "#0d0887"
             ],
             [
              0.1111111111111111,
              "#46039f"
             ],
             [
              0.2222222222222222,
              "#7201a8"
             ],
             [
              0.3333333333333333,
              "#9c179e"
             ],
             [
              0.4444444444444444,
              "#bd3786"
             ],
             [
              0.5555555555555556,
              "#d8576b"
             ],
             [
              0.6666666666666666,
              "#ed7953"
             ],
             [
              0.7777777777777778,
              "#fb9f3a"
             ],
             [
              0.8888888888888888,
              "#fdca26"
             ],
             [
              1,
              "#f0f921"
             ]
            ],
            "type": "histogram2d"
           }
          ],
          "histogram2dcontour": [
           {
            "colorbar": {
             "outlinewidth": 0,
             "ticks": ""
            },
            "colorscale": [
             [
              0,
              "#0d0887"
             ],
             [
              0.1111111111111111,
              "#46039f"
             ],
             [
              0.2222222222222222,
              "#7201a8"
             ],
             [
              0.3333333333333333,
              "#9c179e"
             ],
             [
              0.4444444444444444,
              "#bd3786"
             ],
             [
              0.5555555555555556,
              "#d8576b"
             ],
             [
              0.6666666666666666,
              "#ed7953"
             ],
             [
              0.7777777777777778,
              "#fb9f3a"
             ],
             [
              0.8888888888888888,
              "#fdca26"
             ],
             [
              1,
              "#f0f921"
             ]
            ],
            "type": "histogram2dcontour"
           }
          ],
          "mesh3d": [
           {
            "colorbar": {
             "outlinewidth": 0,
             "ticks": ""
            },
            "type": "mesh3d"
           }
          ],
          "parcoords": [
           {
            "line": {
             "colorbar": {
              "outlinewidth": 0,
              "ticks": ""
             }
            },
            "type": "parcoords"
           }
          ],
          "pie": [
           {
            "automargin": true,
            "type": "pie"
           }
          ],
          "scatter": [
           {
            "fillpattern": {
             "fillmode": "overlay",
             "size": 10,
             "solidity": 0.2
            },
            "type": "scatter"
           }
          ],
          "scatter3d": [
           {
            "line": {
             "colorbar": {
              "outlinewidth": 0,
              "ticks": ""
             }
            },
            "marker": {
             "colorbar": {
              "outlinewidth": 0,
              "ticks": ""
             }
            },
            "type": "scatter3d"
           }
          ],
          "scattercarpet": [
           {
            "marker": {
             "colorbar": {
              "outlinewidth": 0,
              "ticks": ""
             }
            },
            "type": "scattercarpet"
           }
          ],
          "scattergeo": [
           {
            "marker": {
             "colorbar": {
              "outlinewidth": 0,
              "ticks": ""
             }
            },
            "type": "scattergeo"
           }
          ],
          "scattergl": [
           {
            "marker": {
             "colorbar": {
              "outlinewidth": 0,
              "ticks": ""
             }
            },
            "type": "scattergl"
           }
          ],
          "scattermapbox": [
           {
            "marker": {
             "colorbar": {
              "outlinewidth": 0,
              "ticks": ""
             }
            },
            "type": "scattermapbox"
           }
          ],
          "scatterpolar": [
           {
            "marker": {
             "colorbar": {
              "outlinewidth": 0,
              "ticks": ""
             }
            },
            "type": "scatterpolar"
           }
          ],
          "scatterpolargl": [
           {
            "marker": {
             "colorbar": {
              "outlinewidth": 0,
              "ticks": ""
             }
            },
            "type": "scatterpolargl"
           }
          ],
          "scatterternary": [
           {
            "marker": {
             "colorbar": {
              "outlinewidth": 0,
              "ticks": ""
             }
            },
            "type": "scatterternary"
           }
          ],
          "surface": [
           {
            "colorbar": {
             "outlinewidth": 0,
             "ticks": ""
            },
            "colorscale": [
             [
              0,
              "#0d0887"
             ],
             [
              0.1111111111111111,
              "#46039f"
             ],
             [
              0.2222222222222222,
              "#7201a8"
             ],
             [
              0.3333333333333333,
              "#9c179e"
             ],
             [
              0.4444444444444444,
              "#bd3786"
             ],
             [
              0.5555555555555556,
              "#d8576b"
             ],
             [
              0.6666666666666666,
              "#ed7953"
             ],
             [
              0.7777777777777778,
              "#fb9f3a"
             ],
             [
              0.8888888888888888,
              "#fdca26"
             ],
             [
              1,
              "#f0f921"
             ]
            ],
            "type": "surface"
           }
          ],
          "table": [
           {
            "cells": {
             "fill": {
              "color": "#EBF0F8"
             },
             "line": {
              "color": "white"
             }
            },
            "header": {
             "fill": {
              "color": "#C8D4E3"
             },
             "line": {
              "color": "white"
             }
            },
            "type": "table"
           }
          ]
         },
         "layout": {
          "annotationdefaults": {
           "arrowcolor": "#2a3f5f",
           "arrowhead": 0,
           "arrowwidth": 1
          },
          "autotypenumbers": "strict",
          "coloraxis": {
           "colorbar": {
            "outlinewidth": 0,
            "ticks": ""
           }
          },
          "colorscale": {
           "diverging": [
            [
             0,
             "#8e0152"
            ],
            [
             0.1,
             "#c51b7d"
            ],
            [
             0.2,
             "#de77ae"
            ],
            [
             0.3,
             "#f1b6da"
            ],
            [
             0.4,
             "#fde0ef"
            ],
            [
             0.5,
             "#f7f7f7"
            ],
            [
             0.6,
             "#e6f5d0"
            ],
            [
             0.7,
             "#b8e186"
            ],
            [
             0.8,
             "#7fbc41"
            ],
            [
             0.9,
             "#4d9221"
            ],
            [
             1,
             "#276419"
            ]
           ],
           "sequential": [
            [
             0,
             "#0d0887"
            ],
            [
             0.1111111111111111,
             "#46039f"
            ],
            [
             0.2222222222222222,
             "#7201a8"
            ],
            [
             0.3333333333333333,
             "#9c179e"
            ],
            [
             0.4444444444444444,
             "#bd3786"
            ],
            [
             0.5555555555555556,
             "#d8576b"
            ],
            [
             0.6666666666666666,
             "#ed7953"
            ],
            [
             0.7777777777777778,
             "#fb9f3a"
            ],
            [
             0.8888888888888888,
             "#fdca26"
            ],
            [
             1,
             "#f0f921"
            ]
           ],
           "sequentialminus": [
            [
             0,
             "#0d0887"
            ],
            [
             0.1111111111111111,
             "#46039f"
            ],
            [
             0.2222222222222222,
             "#7201a8"
            ],
            [
             0.3333333333333333,
             "#9c179e"
            ],
            [
             0.4444444444444444,
             "#bd3786"
            ],
            [
             0.5555555555555556,
             "#d8576b"
            ],
            [
             0.6666666666666666,
             "#ed7953"
            ],
            [
             0.7777777777777778,
             "#fb9f3a"
            ],
            [
             0.8888888888888888,
             "#fdca26"
            ],
            [
             1,
             "#f0f921"
            ]
           ]
          },
          "colorway": [
           "#636efa",
           "#EF553B",
           "#00cc96",
           "#ab63fa",
           "#FFA15A",
           "#19d3f3",
           "#FF6692",
           "#B6E880",
           "#FF97FF",
           "#FECB52"
          ],
          "font": {
           "color": "#2a3f5f"
          },
          "geo": {
           "bgcolor": "white",
           "lakecolor": "white",
           "landcolor": "#E5ECF6",
           "showlakes": true,
           "showland": true,
           "subunitcolor": "white"
          },
          "hoverlabel": {
           "align": "left"
          },
          "hovermode": "closest",
          "mapbox": {
           "style": "light"
          },
          "paper_bgcolor": "white",
          "plot_bgcolor": "#E5ECF6",
          "polar": {
           "angularaxis": {
            "gridcolor": "white",
            "linecolor": "white",
            "ticks": ""
           },
           "bgcolor": "#E5ECF6",
           "radialaxis": {
            "gridcolor": "white",
            "linecolor": "white",
            "ticks": ""
           }
          },
          "scene": {
           "xaxis": {
            "backgroundcolor": "#E5ECF6",
            "gridcolor": "white",
            "gridwidth": 2,
            "linecolor": "white",
            "showbackground": true,
            "ticks": "",
            "zerolinecolor": "white"
           },
           "yaxis": {
            "backgroundcolor": "#E5ECF6",
            "gridcolor": "white",
            "gridwidth": 2,
            "linecolor": "white",
            "showbackground": true,
            "ticks": "",
            "zerolinecolor": "white"
           },
           "zaxis": {
            "backgroundcolor": "#E5ECF6",
            "gridcolor": "white",
            "gridwidth": 2,
            "linecolor": "white",
            "showbackground": true,
            "ticks": "",
            "zerolinecolor": "white"
           }
          },
          "shapedefaults": {
           "line": {
            "color": "#2a3f5f"
           }
          },
          "ternary": {
           "aaxis": {
            "gridcolor": "white",
            "linecolor": "white",
            "ticks": ""
           },
           "baxis": {
            "gridcolor": "white",
            "linecolor": "white",
            "ticks": ""
           },
           "bgcolor": "#E5ECF6",
           "caxis": {
            "gridcolor": "white",
            "linecolor": "white",
            "ticks": ""
           }
          },
          "title": {
           "x": 0.05
          },
          "xaxis": {
           "automargin": true,
           "gridcolor": "white",
           "linecolor": "white",
           "ticks": "",
           "title": {
            "standoff": 15
           },
           "zerolinecolor": "white",
           "zerolinewidth": 2
          },
          "yaxis": {
           "automargin": true,
           "gridcolor": "white",
           "linecolor": "white",
           "ticks": "",
           "title": {
            "standoff": 15
           },
           "zerolinecolor": "white",
           "zerolinewidth": 2
          }
         }
        },
        "xaxis": {
         "anchor": "y",
         "domain": [
          0,
          1
         ],
         "title": {
          "text": "step"
         }
        },
        "yaxis": {
         "anchor": "x",
         "domain": [
          0,
          1
         ],
         "title": {
          "text": "sum of avg_rating"
         }
        }
       }
      }
     },
     "metadata": {},
     "output_type": "display_data"
    },
    {
     "name": "stdout",
     "output_type": "stream",
     "text": [
      "None\n"
     ]
    },
    {
     "data": {
      "application/vnd.plotly.v1+json": {
       "config": {
        "plotlyServerURL": "https://plot.ly"
       },
       "data": [
        {
         "alignmentgroup": "True",
         "bingroup": "x",
         "histfunc": "sum",
         "hovertemplate": "waiter_nr=1<br>step=%{x}<br>sum of served_customers=%{y}<extra></extra>",
         "legendgroup": "1",
         "marker": {
          "color": "#636efa",
          "pattern": {
           "shape": ""
          }
         },
         "name": "1",
         "nbinsx": 16,
         "offsetgroup": "1",
         "orientation": "v",
         "showlegend": true,
         "type": "histogram",
         "x": [
          0,
          1,
          2,
          3,
          4,
          5,
          6,
          7,
          8,
          9,
          10,
          11,
          12,
          13,
          14,
          15
         ],
         "xaxis": "x",
         "y": [
          0,
          0,
          0,
          0,
          0,
          0,
          0,
          0,
          0,
          0,
          0,
          0,
          0,
          0,
          0,
          0
         ],
         "yaxis": "y"
        },
        {
         "alignmentgroup": "True",
         "bingroup": "x",
         "histfunc": "sum",
         "hovertemplate": "waiter_nr=2<br>step=%{x}<br>sum of served_customers=%{y}<extra></extra>",
         "legendgroup": "2",
         "marker": {
          "color": "#EF553B",
          "pattern": {
           "shape": ""
          }
         },
         "name": "2",
         "nbinsx": 16,
         "offsetgroup": "2",
         "orientation": "v",
         "showlegend": true,
         "type": "histogram",
         "x": [
          0,
          1,
          2,
          3,
          4,
          5,
          6,
          7,
          8,
          9,
          10,
          11,
          12,
          13,
          14,
          15
         ],
         "xaxis": "x",
         "y": [
          0,
          0,
          0,
          0,
          0,
          0,
          0,
          2,
          2,
          2,
          2,
          2,
          2,
          2,
          2,
          2
         ],
         "yaxis": "y"
        },
        {
         "alignmentgroup": "True",
         "bingroup": "x",
         "histfunc": "sum",
         "hovertemplate": "waiter_nr=3<br>step=%{x}<br>sum of served_customers=%{y}<extra></extra>",
         "legendgroup": "3",
         "marker": {
          "color": "#00cc96",
          "pattern": {
           "shape": ""
          }
         },
         "name": "3",
         "nbinsx": 16,
         "offsetgroup": "3",
         "orientation": "v",
         "showlegend": true,
         "type": "histogram",
         "x": [
          0,
          1,
          2,
          3,
          4,
          5,
          6,
          7,
          8,
          9,
          10,
          11,
          12,
          13,
          14,
          15
         ],
         "xaxis": "x",
         "y": [
          0,
          0,
          0,
          0,
          0,
          0,
          0,
          0,
          0,
          0,
          0,
          0,
          0,
          0,
          0,
          0
         ],
         "yaxis": "y"
        },
        {
         "alignmentgroup": "True",
         "bingroup": "x",
         "histfunc": "sum",
         "hovertemplate": "waiter_nr=4<br>step=%{x}<br>sum of served_customers=%{y}<extra></extra>",
         "legendgroup": "4",
         "marker": {
          "color": "#ab63fa",
          "pattern": {
           "shape": ""
          }
         },
         "name": "4",
         "nbinsx": 16,
         "offsetgroup": "4",
         "orientation": "v",
         "showlegend": true,
         "type": "histogram",
         "x": [
          0,
          1,
          2,
          3,
          4,
          5,
          6,
          7,
          8,
          9,
          10,
          11,
          12,
          13,
          14,
          15
         ],
         "xaxis": "x",
         "y": [
          0,
          0,
          0,
          0,
          0,
          0,
          0,
          0,
          0,
          0,
          0,
          0,
          0,
          0,
          0,
          0
         ],
         "yaxis": "y"
        },
        {
         "alignmentgroup": "True",
         "bingroup": "x",
         "histfunc": "sum",
         "hovertemplate": "waiter_nr=5<br>step=%{x}<br>sum of served_customers=%{y}<extra></extra>",
         "legendgroup": "5",
         "marker": {
          "color": "#FFA15A",
          "pattern": {
           "shape": ""
          }
         },
         "name": "5",
         "nbinsx": 16,
         "offsetgroup": "5",
         "orientation": "v",
         "showlegend": true,
         "type": "histogram",
         "x": [
          0,
          1,
          2,
          3,
          4,
          5,
          6,
          7,
          8,
          9,
          10,
          11,
          12,
          13,
          14,
          15
         ],
         "xaxis": "x",
         "y": [
          0,
          0,
          0,
          0,
          0,
          0,
          0,
          0,
          0,
          0,
          0,
          0,
          0,
          0,
          0,
          0
         ],
         "yaxis": "y"
        },
        {
         "alignmentgroup": "True",
         "bingroup": "x",
         "histfunc": "sum",
         "hovertemplate": "waiter_nr=6<br>step=%{x}<br>sum of served_customers=%{y}<extra></extra>",
         "legendgroup": "6",
         "marker": {
          "color": "#19d3f3",
          "pattern": {
           "shape": ""
          }
         },
         "name": "6",
         "nbinsx": 16,
         "offsetgroup": "6",
         "orientation": "v",
         "showlegend": true,
         "type": "histogram",
         "x": [
          0,
          1,
          2,
          3,
          4,
          5,
          6,
          7,
          8,
          9,
          10,
          11,
          12,
          13,
          14,
          15
         ],
         "xaxis": "x",
         "y": [
          0,
          0,
          0,
          2,
          2,
          2,
          2,
          2,
          2,
          2,
          2,
          2,
          2,
          2,
          2,
          2
         ],
         "yaxis": "y"
        },
        {
         "alignmentgroup": "True",
         "bingroup": "x",
         "histfunc": "sum",
         "hovertemplate": "waiter_nr=7<br>step=%{x}<br>sum of served_customers=%{y}<extra></extra>",
         "legendgroup": "7",
         "marker": {
          "color": "#FF6692",
          "pattern": {
           "shape": ""
          }
         },
         "name": "7",
         "nbinsx": 16,
         "offsetgroup": "7",
         "orientation": "v",
         "showlegend": true,
         "type": "histogram",
         "x": [
          0,
          1,
          2,
          3,
          4,
          5,
          6,
          7,
          8,
          9,
          10,
          11,
          12,
          13,
          14,
          15
         ],
         "xaxis": "x",
         "y": [
          0,
          0,
          0,
          0,
          0,
          0,
          0,
          0,
          0,
          0,
          0,
          0,
          0,
          0,
          1,
          1
         ],
         "yaxis": "y"
        },
        {
         "alignmentgroup": "True",
         "bingroup": "x",
         "histfunc": "sum",
         "hovertemplate": "waiter_nr=8<br>step=%{x}<br>sum of served_customers=%{y}<extra></extra>",
         "legendgroup": "8",
         "marker": {
          "color": "#B6E880",
          "pattern": {
           "shape": ""
          }
         },
         "name": "8",
         "nbinsx": 16,
         "offsetgroup": "8",
         "orientation": "v",
         "showlegend": true,
         "type": "histogram",
         "x": [
          0,
          1,
          2,
          3,
          4,
          5,
          6,
          7,
          8,
          9,
          10,
          11,
          12,
          13,
          14,
          15
         ],
         "xaxis": "x",
         "y": [
          0,
          0,
          0,
          0,
          0,
          0,
          0,
          0,
          0,
          0,
          0,
          0,
          0,
          0,
          4,
          4
         ],
         "yaxis": "y"
        },
        {
         "alignmentgroup": "True",
         "bingroup": "x",
         "histfunc": "sum",
         "hovertemplate": "waiter_nr=9<br>step=%{x}<br>sum of served_customers=%{y}<extra></extra>",
         "legendgroup": "9",
         "marker": {
          "color": "#FF97FF",
          "pattern": {
           "shape": ""
          }
         },
         "name": "9",
         "nbinsx": 16,
         "offsetgroup": "9",
         "orientation": "v",
         "showlegend": true,
         "type": "histogram",
         "x": [
          0,
          1,
          2,
          3,
          4,
          5,
          6,
          7,
          8,
          9,
          10,
          11,
          12,
          13,
          14,
          15
         ],
         "xaxis": "x",
         "y": [
          0,
          0,
          0,
          0,
          0,
          0,
          0,
          0,
          0,
          0,
          0,
          0,
          0,
          0,
          0,
          0
         ],
         "yaxis": "y"
        },
        {
         "alignmentgroup": "True",
         "bingroup": "x",
         "histfunc": "sum",
         "hovertemplate": "waiter_nr=10<br>step=%{x}<br>sum of served_customers=%{y}<extra></extra>",
         "legendgroup": "10",
         "marker": {
          "color": "#FECB52",
          "pattern": {
           "shape": ""
          }
         },
         "name": "10",
         "nbinsx": 16,
         "offsetgroup": "10",
         "orientation": "v",
         "showlegend": true,
         "type": "histogram",
         "x": [
          0,
          1,
          2,
          3,
          4,
          5,
          6,
          7,
          8,
          9,
          10,
          11,
          12,
          13,
          14,
          15
         ],
         "xaxis": "x",
         "y": [
          0,
          0,
          0,
          0,
          0,
          0,
          0,
          0,
          0,
          0,
          0,
          0,
          0,
          0,
          0,
          3
         ],
         "yaxis": "y"
        }
       ],
       "layout": {
        "barmode": "group",
        "height": 400,
        "legend": {
         "title": {
          "text": "waiter_nr"
         },
         "tracegroupgap": 0
        },
        "margin": {
         "t": 60
        },
        "template": {
         "data": {
          "bar": [
           {
            "error_x": {
             "color": "#2a3f5f"
            },
            "error_y": {
             "color": "#2a3f5f"
            },
            "marker": {
             "line": {
              "color": "#E5ECF6",
              "width": 0.5
             },
             "pattern": {
              "fillmode": "overlay",
              "size": 10,
              "solidity": 0.2
             }
            },
            "type": "bar"
           }
          ],
          "barpolar": [
           {
            "marker": {
             "line": {
              "color": "#E5ECF6",
              "width": 0.5
             },
             "pattern": {
              "fillmode": "overlay",
              "size": 10,
              "solidity": 0.2
             }
            },
            "type": "barpolar"
           }
          ],
          "carpet": [
           {
            "aaxis": {
             "endlinecolor": "#2a3f5f",
             "gridcolor": "white",
             "linecolor": "white",
             "minorgridcolor": "white",
             "startlinecolor": "#2a3f5f"
            },
            "baxis": {
             "endlinecolor": "#2a3f5f",
             "gridcolor": "white",
             "linecolor": "white",
             "minorgridcolor": "white",
             "startlinecolor": "#2a3f5f"
            },
            "type": "carpet"
           }
          ],
          "choropleth": [
           {
            "colorbar": {
             "outlinewidth": 0,
             "ticks": ""
            },
            "type": "choropleth"
           }
          ],
          "contour": [
           {
            "colorbar": {
             "outlinewidth": 0,
             "ticks": ""
            },
            "colorscale": [
             [
              0,
              "#0d0887"
             ],
             [
              0.1111111111111111,
              "#46039f"
             ],
             [
              0.2222222222222222,
              "#7201a8"
             ],
             [
              0.3333333333333333,
              "#9c179e"
             ],
             [
              0.4444444444444444,
              "#bd3786"
             ],
             [
              0.5555555555555556,
              "#d8576b"
             ],
             [
              0.6666666666666666,
              "#ed7953"
             ],
             [
              0.7777777777777778,
              "#fb9f3a"
             ],
             [
              0.8888888888888888,
              "#fdca26"
             ],
             [
              1,
              "#f0f921"
             ]
            ],
            "type": "contour"
           }
          ],
          "contourcarpet": [
           {
            "colorbar": {
             "outlinewidth": 0,
             "ticks": ""
            },
            "type": "contourcarpet"
           }
          ],
          "heatmap": [
           {
            "colorbar": {
             "outlinewidth": 0,
             "ticks": ""
            },
            "colorscale": [
             [
              0,
              "#0d0887"
             ],
             [
              0.1111111111111111,
              "#46039f"
             ],
             [
              0.2222222222222222,
              "#7201a8"
             ],
             [
              0.3333333333333333,
              "#9c179e"
             ],
             [
              0.4444444444444444,
              "#bd3786"
             ],
             [
              0.5555555555555556,
              "#d8576b"
             ],
             [
              0.6666666666666666,
              "#ed7953"
             ],
             [
              0.7777777777777778,
              "#fb9f3a"
             ],
             [
              0.8888888888888888,
              "#fdca26"
             ],
             [
              1,
              "#f0f921"
             ]
            ],
            "type": "heatmap"
           }
          ],
          "heatmapgl": [
           {
            "colorbar": {
             "outlinewidth": 0,
             "ticks": ""
            },
            "colorscale": [
             [
              0,
              "#0d0887"
             ],
             [
              0.1111111111111111,
              "#46039f"
             ],
             [
              0.2222222222222222,
              "#7201a8"
             ],
             [
              0.3333333333333333,
              "#9c179e"
             ],
             [
              0.4444444444444444,
              "#bd3786"
             ],
             [
              0.5555555555555556,
              "#d8576b"
             ],
             [
              0.6666666666666666,
              "#ed7953"
             ],
             [
              0.7777777777777778,
              "#fb9f3a"
             ],
             [
              0.8888888888888888,
              "#fdca26"
             ],
             [
              1,
              "#f0f921"
             ]
            ],
            "type": "heatmapgl"
           }
          ],
          "histogram": [
           {
            "marker": {
             "pattern": {
              "fillmode": "overlay",
              "size": 10,
              "solidity": 0.2
             }
            },
            "type": "histogram"
           }
          ],
          "histogram2d": [
           {
            "colorbar": {
             "outlinewidth": 0,
             "ticks": ""
            },
            "colorscale": [
             [
              0,
              "#0d0887"
             ],
             [
              0.1111111111111111,
              "#46039f"
             ],
             [
              0.2222222222222222,
              "#7201a8"
             ],
             [
              0.3333333333333333,
              "#9c179e"
             ],
             [
              0.4444444444444444,
              "#bd3786"
             ],
             [
              0.5555555555555556,
              "#d8576b"
             ],
             [
              0.6666666666666666,
              "#ed7953"
             ],
             [
              0.7777777777777778,
              "#fb9f3a"
             ],
             [
              0.8888888888888888,
              "#fdca26"
             ],
             [
              1,
              "#f0f921"
             ]
            ],
            "type": "histogram2d"
           }
          ],
          "histogram2dcontour": [
           {
            "colorbar": {
             "outlinewidth": 0,
             "ticks": ""
            },
            "colorscale": [
             [
              0,
              "#0d0887"
             ],
             [
              0.1111111111111111,
              "#46039f"
             ],
             [
              0.2222222222222222,
              "#7201a8"
             ],
             [
              0.3333333333333333,
              "#9c179e"
             ],
             [
              0.4444444444444444,
              "#bd3786"
             ],
             [
              0.5555555555555556,
              "#d8576b"
             ],
             [
              0.6666666666666666,
              "#ed7953"
             ],
             [
              0.7777777777777778,
              "#fb9f3a"
             ],
             [
              0.8888888888888888,
              "#fdca26"
             ],
             [
              1,
              "#f0f921"
             ]
            ],
            "type": "histogram2dcontour"
           }
          ],
          "mesh3d": [
           {
            "colorbar": {
             "outlinewidth": 0,
             "ticks": ""
            },
            "type": "mesh3d"
           }
          ],
          "parcoords": [
           {
            "line": {
             "colorbar": {
              "outlinewidth": 0,
              "ticks": ""
             }
            },
            "type": "parcoords"
           }
          ],
          "pie": [
           {
            "automargin": true,
            "type": "pie"
           }
          ],
          "scatter": [
           {
            "fillpattern": {
             "fillmode": "overlay",
             "size": 10,
             "solidity": 0.2
            },
            "type": "scatter"
           }
          ],
          "scatter3d": [
           {
            "line": {
             "colorbar": {
              "outlinewidth": 0,
              "ticks": ""
             }
            },
            "marker": {
             "colorbar": {
              "outlinewidth": 0,
              "ticks": ""
             }
            },
            "type": "scatter3d"
           }
          ],
          "scattercarpet": [
           {
            "marker": {
             "colorbar": {
              "outlinewidth": 0,
              "ticks": ""
             }
            },
            "type": "scattercarpet"
           }
          ],
          "scattergeo": [
           {
            "marker": {
             "colorbar": {
              "outlinewidth": 0,
              "ticks": ""
             }
            },
            "type": "scattergeo"
           }
          ],
          "scattergl": [
           {
            "marker": {
             "colorbar": {
              "outlinewidth": 0,
              "ticks": ""
             }
            },
            "type": "scattergl"
           }
          ],
          "scattermapbox": [
           {
            "marker": {
             "colorbar": {
              "outlinewidth": 0,
              "ticks": ""
             }
            },
            "type": "scattermapbox"
           }
          ],
          "scatterpolar": [
           {
            "marker": {
             "colorbar": {
              "outlinewidth": 0,
              "ticks": ""
             }
            },
            "type": "scatterpolar"
           }
          ],
          "scatterpolargl": [
           {
            "marker": {
             "colorbar": {
              "outlinewidth": 0,
              "ticks": ""
             }
            },
            "type": "scatterpolargl"
           }
          ],
          "scatterternary": [
           {
            "marker": {
             "colorbar": {
              "outlinewidth": 0,
              "ticks": ""
             }
            },
            "type": "scatterternary"
           }
          ],
          "surface": [
           {
            "colorbar": {
             "outlinewidth": 0,
             "ticks": ""
            },
            "colorscale": [
             [
              0,
              "#0d0887"
             ],
             [
              0.1111111111111111,
              "#46039f"
             ],
             [
              0.2222222222222222,
              "#7201a8"
             ],
             [
              0.3333333333333333,
              "#9c179e"
             ],
             [
              0.4444444444444444,
              "#bd3786"
             ],
             [
              0.5555555555555556,
              "#d8576b"
             ],
             [
              0.6666666666666666,
              "#ed7953"
             ],
             [
              0.7777777777777778,
              "#fb9f3a"
             ],
             [
              0.8888888888888888,
              "#fdca26"
             ],
             [
              1,
              "#f0f921"
             ]
            ],
            "type": "surface"
           }
          ],
          "table": [
           {
            "cells": {
             "fill": {
              "color": "#EBF0F8"
             },
             "line": {
              "color": "white"
             }
            },
            "header": {
             "fill": {
              "color": "#C8D4E3"
             },
             "line": {
              "color": "white"
             }
            },
            "type": "table"
           }
          ]
         },
         "layout": {
          "annotationdefaults": {
           "arrowcolor": "#2a3f5f",
           "arrowhead": 0,
           "arrowwidth": 1
          },
          "autotypenumbers": "strict",
          "coloraxis": {
           "colorbar": {
            "outlinewidth": 0,
            "ticks": ""
           }
          },
          "colorscale": {
           "diverging": [
            [
             0,
             "#8e0152"
            ],
            [
             0.1,
             "#c51b7d"
            ],
            [
             0.2,
             "#de77ae"
            ],
            [
             0.3,
             "#f1b6da"
            ],
            [
             0.4,
             "#fde0ef"
            ],
            [
             0.5,
             "#f7f7f7"
            ],
            [
             0.6,
             "#e6f5d0"
            ],
            [
             0.7,
             "#b8e186"
            ],
            [
             0.8,
             "#7fbc41"
            ],
            [
             0.9,
             "#4d9221"
            ],
            [
             1,
             "#276419"
            ]
           ],
           "sequential": [
            [
             0,
             "#0d0887"
            ],
            [
             0.1111111111111111,
             "#46039f"
            ],
            [
             0.2222222222222222,
             "#7201a8"
            ],
            [
             0.3333333333333333,
             "#9c179e"
            ],
            [
             0.4444444444444444,
             "#bd3786"
            ],
            [
             0.5555555555555556,
             "#d8576b"
            ],
            [
             0.6666666666666666,
             "#ed7953"
            ],
            [
             0.7777777777777778,
             "#fb9f3a"
            ],
            [
             0.8888888888888888,
             "#fdca26"
            ],
            [
             1,
             "#f0f921"
            ]
           ],
           "sequentialminus": [
            [
             0,
             "#0d0887"
            ],
            [
             0.1111111111111111,
             "#46039f"
            ],
            [
             0.2222222222222222,
             "#7201a8"
            ],
            [
             0.3333333333333333,
             "#9c179e"
            ],
            [
             0.4444444444444444,
             "#bd3786"
            ],
            [
             0.5555555555555556,
             "#d8576b"
            ],
            [
             0.6666666666666666,
             "#ed7953"
            ],
            [
             0.7777777777777778,
             "#fb9f3a"
            ],
            [
             0.8888888888888888,
             "#fdca26"
            ],
            [
             1,
             "#f0f921"
            ]
           ]
          },
          "colorway": [
           "#636efa",
           "#EF553B",
           "#00cc96",
           "#ab63fa",
           "#FFA15A",
           "#19d3f3",
           "#FF6692",
           "#B6E880",
           "#FF97FF",
           "#FECB52"
          ],
          "font": {
           "color": "#2a3f5f"
          },
          "geo": {
           "bgcolor": "white",
           "lakecolor": "white",
           "landcolor": "#E5ECF6",
           "showlakes": true,
           "showland": true,
           "subunitcolor": "white"
          },
          "hoverlabel": {
           "align": "left"
          },
          "hovermode": "closest",
          "mapbox": {
           "style": "light"
          },
          "paper_bgcolor": "white",
          "plot_bgcolor": "#E5ECF6",
          "polar": {
           "angularaxis": {
            "gridcolor": "white",
            "linecolor": "white",
            "ticks": ""
           },
           "bgcolor": "#E5ECF6",
           "radialaxis": {
            "gridcolor": "white",
            "linecolor": "white",
            "ticks": ""
           }
          },
          "scene": {
           "xaxis": {
            "backgroundcolor": "#E5ECF6",
            "gridcolor": "white",
            "gridwidth": 2,
            "linecolor": "white",
            "showbackground": true,
            "ticks": "",
            "zerolinecolor": "white"
           },
           "yaxis": {
            "backgroundcolor": "#E5ECF6",
            "gridcolor": "white",
            "gridwidth": 2,
            "linecolor": "white",
            "showbackground": true,
            "ticks": "",
            "zerolinecolor": "white"
           },
           "zaxis": {
            "backgroundcolor": "#E5ECF6",
            "gridcolor": "white",
            "gridwidth": 2,
            "linecolor": "white",
            "showbackground": true,
            "ticks": "",
            "zerolinecolor": "white"
           }
          },
          "shapedefaults": {
           "line": {
            "color": "#2a3f5f"
           }
          },
          "ternary": {
           "aaxis": {
            "gridcolor": "white",
            "linecolor": "white",
            "ticks": ""
           },
           "baxis": {
            "gridcolor": "white",
            "linecolor": "white",
            "ticks": ""
           },
           "bgcolor": "#E5ECF6",
           "caxis": {
            "gridcolor": "white",
            "linecolor": "white",
            "ticks": ""
           }
          },
          "title": {
           "x": 0.05
          },
          "xaxis": {
           "automargin": true,
           "gridcolor": "white",
           "linecolor": "white",
           "ticks": "",
           "title": {
            "standoff": 15
           },
           "zerolinecolor": "white",
           "zerolinewidth": 2
          },
          "yaxis": {
           "automargin": true,
           "gridcolor": "white",
           "linecolor": "white",
           "ticks": "",
           "title": {
            "standoff": 15
           },
           "zerolinecolor": "white",
           "zerolinewidth": 2
          }
         }
        },
        "xaxis": {
         "anchor": "y",
         "domain": [
          0,
          1
         ],
         "title": {
          "text": "step"
         }
        },
        "yaxis": {
         "anchor": "x",
         "domain": [
          0,
          1
         ],
         "title": {
          "text": "sum of served_customers"
         }
        }
       }
      }
     },
     "metadata": {},
     "output_type": "display_data"
    },
    {
     "name": "stdout",
     "output_type": "stream",
     "text": [
      "None\n"
     ]
    }
   ],
   "source": [
    "from mesa_restaurant_agents.visualization import *\n",
    "from mesa_restaurant_agents.visualization import GridAnimator\n",
    "\n",
    "# Create an instance of GridAnimator\n",
    "animator = GridAnimator(results)\n",
    "\n",
    "ani = animator.animate_first_run()\n",
    "ani.save('animated_heatmap.gif', writer='pillow', fps=2, dpi=80)\n",
    "df_mean_step = display_mean_step_results(results)\n",
    "df_first_run_customer = display_first_run_step_results_customer(results)\n",
    "df_first_run_waiter = display_first_run_step_results_waiter(results)"
   ]
  },
  {
   "cell_type": "code",
   "execution_count": 7,
   "metadata": {
    "ExecuteTime": {
     "end_time": "2025-02-22T14:39:42.716783Z",
     "start_time": "2025-02-22T14:39:42.710927Z"
    }
   },
   "outputs": [
    {
     "data": {
      "text/html": [
       "<div>\n",
       "<style scoped>\n",
       "    .dataframe tbody tr th:only-of-type {\n",
       "        vertical-align: middle;\n",
       "    }\n",
       "\n",
       "    .dataframe tbody tr th {\n",
       "        vertical-align: top;\n",
       "    }\n",
       "\n",
       "    .dataframe thead th {\n",
       "        text-align: right;\n",
       "    }\n",
       "</style>\n",
       "<table border=\"1\" class=\"dataframe\">\n",
       "  <thead>\n",
       "    <tr style=\"text-align: right;\">\n",
       "      <th></th>\n",
       "      <th>Time</th>\n",
       "      <th>mean_customer_count</th>\n",
       "      <th>mean_waiting_time</th>\n",
       "      <th>mean_customer_satisfaction</th>\n",
       "      <th>mean_profit</th>\n",
       "    </tr>\n",
       "  </thead>\n",
       "  <tbody>\n",
       "    <tr>\n",
       "      <th>0</th>\n",
       "      <td>2024-01-01 11:00:00</td>\n",
       "      <td>0.0</td>\n",
       "      <td>0.000000</td>\n",
       "      <td>100.000000</td>\n",
       "      <td>0.0</td>\n",
       "    </tr>\n",
       "    <tr>\n",
       "      <th>1</th>\n",
       "      <td>2024-01-01 11:05:00</td>\n",
       "      <td>2.0</td>\n",
       "      <td>0.000000</td>\n",
       "      <td>100.000000</td>\n",
       "      <td>0.0</td>\n",
       "    </tr>\n",
       "    <tr>\n",
       "      <th>2</th>\n",
       "      <td>2024-01-01 11:10:00</td>\n",
       "      <td>2.0</td>\n",
       "      <td>5.000000</td>\n",
       "      <td>90.000000</td>\n",
       "      <td>0.0</td>\n",
       "    </tr>\n",
       "    <tr>\n",
       "      <th>3</th>\n",
       "      <td>2024-01-01 11:15:00</td>\n",
       "      <td>2.0</td>\n",
       "      <td>5.000000</td>\n",
       "      <td>90.000000</td>\n",
       "      <td>0.0</td>\n",
       "    </tr>\n",
       "    <tr>\n",
       "      <th>4</th>\n",
       "      <td>2024-01-01 11:20:00</td>\n",
       "      <td>2.0</td>\n",
       "      <td>5.000000</td>\n",
       "      <td>90.000000</td>\n",
       "      <td>0.0</td>\n",
       "    </tr>\n",
       "    <tr>\n",
       "      <th>5</th>\n",
       "      <td>2024-01-01 11:25:00</td>\n",
       "      <td>4.0</td>\n",
       "      <td>2.500000</td>\n",
       "      <td>95.000000</td>\n",
       "      <td>0.0</td>\n",
       "    </tr>\n",
       "    <tr>\n",
       "      <th>6</th>\n",
       "      <td>2024-01-01 11:30:00</td>\n",
       "      <td>4.0</td>\n",
       "      <td>5.000000</td>\n",
       "      <td>90.000000</td>\n",
       "      <td>0.0</td>\n",
       "    </tr>\n",
       "    <tr>\n",
       "      <th>7</th>\n",
       "      <td>2024-01-01 11:35:00</td>\n",
       "      <td>4.0</td>\n",
       "      <td>5.000000</td>\n",
       "      <td>90.000000</td>\n",
       "      <td>0.0</td>\n",
       "    </tr>\n",
       "    <tr>\n",
       "      <th>8</th>\n",
       "      <td>2024-01-01 11:40:00</td>\n",
       "      <td>4.0</td>\n",
       "      <td>5.000000</td>\n",
       "      <td>90.000000</td>\n",
       "      <td>0.0</td>\n",
       "    </tr>\n",
       "    <tr>\n",
       "      <th>9</th>\n",
       "      <td>2024-01-01 11:45:00</td>\n",
       "      <td>4.0</td>\n",
       "      <td>5.000000</td>\n",
       "      <td>90.000000</td>\n",
       "      <td>0.0</td>\n",
       "    </tr>\n",
       "    <tr>\n",
       "      <th>10</th>\n",
       "      <td>2024-01-01 11:50:00</td>\n",
       "      <td>4.0</td>\n",
       "      <td>5.000000</td>\n",
       "      <td>90.000000</td>\n",
       "      <td>0.0</td>\n",
       "    </tr>\n",
       "    <tr>\n",
       "      <th>11</th>\n",
       "      <td>2024-01-01 11:55:00</td>\n",
       "      <td>4.0</td>\n",
       "      <td>5.000000</td>\n",
       "      <td>90.000000</td>\n",
       "      <td>0.0</td>\n",
       "    </tr>\n",
       "    <tr>\n",
       "      <th>12</th>\n",
       "      <td>2024-01-01 12:00:00</td>\n",
       "      <td>9.0</td>\n",
       "      <td>2.222222</td>\n",
       "      <td>95.555556</td>\n",
       "      <td>0.0</td>\n",
       "    </tr>\n",
       "    <tr>\n",
       "      <th>13</th>\n",
       "      <td>2024-01-01 12:05:00</td>\n",
       "      <td>12.0</td>\n",
       "      <td>3.750000</td>\n",
       "      <td>92.500000</td>\n",
       "      <td>0.0</td>\n",
       "    </tr>\n",
       "    <tr>\n",
       "      <th>14</th>\n",
       "      <td>2024-01-01 12:10:00</td>\n",
       "      <td>22.0</td>\n",
       "      <td>2.727273</td>\n",
       "      <td>94.545455</td>\n",
       "      <td>0.0</td>\n",
       "    </tr>\n",
       "    <tr>\n",
       "      <th>15</th>\n",
       "      <td>2024-01-01 12:15:00</td>\n",
       "      <td>28.0</td>\n",
       "      <td>3.928571</td>\n",
       "      <td>92.142857</td>\n",
       "      <td>0.0</td>\n",
       "    </tr>\n",
       "  </tbody>\n",
       "</table>\n",
       "</div>"
      ],
      "text/plain": [
       "                  Time  mean_customer_count  mean_waiting_time  \\\n",
       "0  2024-01-01 11:00:00                  0.0           0.000000   \n",
       "1  2024-01-01 11:05:00                  2.0           0.000000   \n",
       "2  2024-01-01 11:10:00                  2.0           5.000000   \n",
       "3  2024-01-01 11:15:00                  2.0           5.000000   \n",
       "4  2024-01-01 11:20:00                  2.0           5.000000   \n",
       "5  2024-01-01 11:25:00                  4.0           2.500000   \n",
       "6  2024-01-01 11:30:00                  4.0           5.000000   \n",
       "7  2024-01-01 11:35:00                  4.0           5.000000   \n",
       "8  2024-01-01 11:40:00                  4.0           5.000000   \n",
       "9  2024-01-01 11:45:00                  4.0           5.000000   \n",
       "10 2024-01-01 11:50:00                  4.0           5.000000   \n",
       "11 2024-01-01 11:55:00                  4.0           5.000000   \n",
       "12 2024-01-01 12:00:00                  9.0           2.222222   \n",
       "13 2024-01-01 12:05:00                 12.0           3.750000   \n",
       "14 2024-01-01 12:10:00                 22.0           2.727273   \n",
       "15 2024-01-01 12:15:00                 28.0           3.928571   \n",
       "\n",
       "    mean_customer_satisfaction  mean_profit  \n",
       "0                   100.000000          0.0  \n",
       "1                   100.000000          0.0  \n",
       "2                    90.000000          0.0  \n",
       "3                    90.000000          0.0  \n",
       "4                    90.000000          0.0  \n",
       "5                    95.000000          0.0  \n",
       "6                    90.000000          0.0  \n",
       "7                    90.000000          0.0  \n",
       "8                    90.000000          0.0  \n",
       "9                    90.000000          0.0  \n",
       "10                   90.000000          0.0  \n",
       "11                   90.000000          0.0  \n",
       "12                   95.555556          0.0  \n",
       "13                   92.500000          0.0  \n",
       "14                   94.545455          0.0  \n",
       "15                   92.142857          0.0  "
      ]
     },
     "execution_count": 7,
     "metadata": {},
     "output_type": "execute_result"
    }
   ],
   "source": [
    "df_mean_step"
   ]
  }
 ],
 "metadata": {
  "kernelspec": {
   "display_name": "Python 3",
   "language": "python",
   "name": "python3"
  },
  "language_info": {
   "codemirror_mode": {
    "name": "ipython",
    "version": 3
   },
   "file_extension": ".py",
   "mimetype": "text/x-python",
   "name": "python",
   "nbconvert_exporter": "python",
   "pygments_lexer": "ipython3",
   "version": "3.12.6"
  }
 },
 "nbformat": 4,
 "nbformat_minor": 2
}
