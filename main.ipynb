{
 "cells": [
  {
   "cell_type": "code",
   "execution_count": 1,
   "metadata": {
    "ExecuteTime": {
     "end_time": "2025-02-20T19:42:04.626958Z",
     "start_time": "2025-02-20T19:41:52.894937Z"
    }
   },
   "outputs": [],
   "source": [
    "pip install --force-reinstall agent_system/dist/mesa_restaurant_agents-0.0.1-py3-none-any.whl"
   ]
  },
  {
   "cell_type": "code",
   "execution_count": 2,
   "metadata": {
    "ExecuteTime": {
     "end_time": "2025-02-20T19:42:08.718945Z",
     "start_time": "2025-02-20T19:42:08.584761Z"
    }
   },
   "outputs": [
    {
     "data": {
      "application/vnd.jupyter.widget-view+json": {
       "model_id": "2fc93476bb9f42cf90a923dae9cc34d9",
       "version_major": 2,
       "version_minor": 0
      },
      "text/plain": [
       "  0%|          | 0/5 [00:00<?, ?it/s]"
      ]
     },
     "metadata": {},
     "output_type": "display_data"
    },
    {
     "name": "stdout",
     "output_type": "stream",
     "text": [
      "[{'RunId': 0, 'iteration': 0, 'Step': 0, 'n_waiters': 2, 'grid_width': 50, 'grid_height': 50, 'Customer_Count': 1, 'Average_Wait_Time': np.float64(0.0), 'Average_Customer_Satisfaction': np.float64(100.0), 'Profit': np.float64(0.0), 'Customer_Info': [{'customer_nr': 4, 'waiting_time': 0, 'order_status': 1, 'satisfaction': 100}], 'Waiter_Info': [{'waiter_nr': 1, 'current_orders': {}, 'tips': 0, 'avg_rating': 0, 'served_customers': 0}, {'waiter_nr': 2, 'current_orders': {}, 'tips': 0, 'avg_rating': 0, 'served_customers': 0}]}, {'RunId': 0, 'iteration': 0, 'Step': 1, 'n_waiters': 2, 'grid_width': 50, 'grid_height': 50, 'Customer_Count': 1, 'Average_Wait_Time': np.float64(0.0), 'Average_Customer_Satisfaction': np.float64(100.0), 'Profit': np.float64(0.0), 'Customer_Info': [{'customer_nr': 4, 'waiting_time': 0.0, 'order_status': 1, 'satisfaction': 100.0}], 'Waiter_Info': [{'waiter_nr': 1, 'current_orders': {}, 'tips': 0, 'avg_rating': 0, 'served_customers': 0}, {'waiter_nr': 2, 'current_orders': {}, 'tips': 0, 'avg_rating': 0, 'served_customers': 0}]}, {'RunId': 0, 'iteration': 0, 'Step': 2, 'n_waiters': 2, 'grid_width': 50, 'grid_height': 50, 'Customer_Count': 2, 'Average_Wait_Time': np.float64(2.5), 'Average_Customer_Satisfaction': np.float64(95.0), 'Profit': np.float64(0.0), 'Customer_Info': [{'customer_nr': 4, 'waiting_time': 5.0, 'order_status': 1, 'satisfaction': 90.0}, {'customer_nr': 5, 'waiting_time': 0, 'order_status': 1, 'satisfaction': 100}], 'Waiter_Info': [{'waiter_nr': 1, 'current_orders': {}, 'tips': 0, 'avg_rating': 0, 'served_customers': 0}, {'waiter_nr': 2, 'current_orders': {}, 'tips': 0, 'avg_rating': 0, 'served_customers': 0}]}, {'RunId': 0, 'iteration': 0, 'Step': 3, 'n_waiters': 2, 'grid_width': 50, 'grid_height': 50, 'Customer_Count': 3, 'Average_Wait_Time': np.float64(3.3333333333333335), 'Average_Customer_Satisfaction': np.float64(93.33333333333333), 'Profit': np.float64(0.0), 'Customer_Info': [{'customer_nr': 4, 'waiting_time': 10.0, 'order_status': 1, 'satisfaction': 80.0}, {'customer_nr': 5, 'waiting_time': 0.0, 'order_status': 1, 'satisfaction': 100.0}, {'customer_nr': 6, 'waiting_time': 0, 'order_status': 1, 'satisfaction': 100}], 'Waiter_Info': [{'waiter_nr': 1, 'current_orders': {}, 'tips': 0, 'avg_rating': 0, 'served_customers': 0}, {'waiter_nr': 2, 'current_orders': {}, 'tips': 0, 'avg_rating': 0, 'served_customers': 0}]}, {'RunId': 0, 'iteration': 0, 'Step': 4, 'n_waiters': 2, 'grid_width': 50, 'grid_height': 50, 'Customer_Count': 5, 'Average_Wait_Time': np.float64(4.0), 'Average_Customer_Satisfaction': np.float64(92.0), 'Profit': np.float64(0.0), 'Customer_Info': [{'customer_nr': 4, 'waiting_time': 15.0, 'order_status': 1, 'satisfaction': 70.0}, {'customer_nr': 5, 'waiting_time': 5.0, 'order_status': 1, 'satisfaction': 90.0}, {'customer_nr': 6, 'waiting_time': 0.0, 'order_status': 1, 'satisfaction': 100.0}, {'customer_nr': 7, 'waiting_time': 0, 'order_status': 1, 'satisfaction': 100}, {'customer_nr': 8, 'waiting_time': 0, 'order_status': 1, 'satisfaction': 100}], 'Waiter_Info': [{'waiter_nr': 1, 'current_orders': {}, 'tips': 0, 'avg_rating': 0, 'served_customers': 0}, {'waiter_nr': 2, 'current_orders': {}, 'tips': 0, 'avg_rating': 0, 'served_customers': 0}]}, {'RunId': 0, 'iteration': 0, 'Step': 5, 'n_waiters': 2, 'grid_width': 50, 'grid_height': 50, 'Customer_Count': 6, 'Average_Wait_Time': np.float64(5.833333333333333), 'Average_Customer_Satisfaction': np.float64(88.33333333333333), 'Profit': np.float64(0.0), 'Customer_Info': [{'customer_nr': 4, 'waiting_time': 20.0, 'order_status': 1, 'satisfaction': 60.0}, {'customer_nr': 5, 'waiting_time': 10.0, 'order_status': 1, 'satisfaction': 80.0}, {'customer_nr': 6, 'waiting_time': 5.0, 'order_status': 1, 'satisfaction': 90.0}, {'customer_nr': 7, 'waiting_time': 0.0, 'order_status': 1, 'satisfaction': 100.0}, {'customer_nr': 8, 'waiting_time': 0.0, 'order_status': 1, 'satisfaction': 100.0}, {'customer_nr': 9, 'waiting_time': 0, 'order_status': 1, 'satisfaction': 100}], 'Waiter_Info': [{'waiter_nr': 1, 'current_orders': {}, 'tips': 0, 'avg_rating': 0, 'served_customers': 0}, {'waiter_nr': 2, 'current_orders': {}, 'tips': 0, 'avg_rating': 0, 'served_customers': 0}]}, {'RunId': 0, 'iteration': 0, 'Step': 6, 'n_waiters': 2, 'grid_width': 50, 'grid_height': 50, 'Customer_Count': 7, 'Average_Wait_Time': np.float64(8.571428571428571), 'Average_Customer_Satisfaction': np.float64(82.85714285714286), 'Profit': np.float64(0.0), 'Customer_Info': [{'customer_nr': 4, 'waiting_time': 25.0, 'order_status': 1, 'satisfaction': 50.0}, {'customer_nr': 5, 'waiting_time': 15.0, 'order_status': 1, 'satisfaction': 70.0}, {'customer_nr': 6, 'waiting_time': 10.0, 'order_status': 1, 'satisfaction': 80.0}, {'customer_nr': 7, 'waiting_time': 5.0, 'order_status': 1, 'satisfaction': 90.0}, {'customer_nr': 8, 'waiting_time': 5.0, 'order_status': 1, 'satisfaction': 90.0}, {'customer_nr': 9, 'waiting_time': 0.0, 'order_status': 1, 'satisfaction': 100.0}, {'customer_nr': 10, 'waiting_time': 0, 'order_status': 1, 'satisfaction': 100}], 'Waiter_Info': [{'waiter_nr': 1, 'current_orders': {}, 'tips': 0, 'avg_rating': 0, 'served_customers': 0}, {'waiter_nr': 2, 'current_orders': {}, 'tips': 0, 'avg_rating': 0, 'served_customers': 0}]}, {'RunId': 0, 'iteration': 0, 'Step': 7, 'n_waiters': 2, 'grid_width': 50, 'grid_height': 50, 'Customer_Count': 8, 'Average_Wait_Time': np.float64(11.25), 'Average_Customer_Satisfaction': np.float64(77.5), 'Profit': np.float64(0.0), 'Customer_Info': [{'customer_nr': 4, 'waiting_time': 30.0, 'order_status': 1, 'satisfaction': 40.0}, {'customer_nr': 5, 'waiting_time': 20.0, 'order_status': 1, 'satisfaction': 60.0}, {'customer_nr': 6, 'waiting_time': 15.0, 'order_status': 1, 'satisfaction': 70.0}, {'customer_nr': 7, 'waiting_time': 10.0, 'order_status': 1, 'satisfaction': 80.0}, {'customer_nr': 8, 'waiting_time': 10.0, 'order_status': 1, 'satisfaction': 80.0}, {'customer_nr': 9, 'waiting_time': 5.0, 'order_status': 1, 'satisfaction': 90.0}, {'customer_nr': 10, 'waiting_time': 0.0, 'order_status': 1, 'satisfaction': 100.0}, {'customer_nr': 11, 'waiting_time': 0, 'order_status': 1, 'satisfaction': 100}], 'Waiter_Info': [{'waiter_nr': 1, 'current_orders': {}, 'tips': 0, 'avg_rating': 0, 'served_customers': 0}, {'waiter_nr': 2, 'current_orders': {}, 'tips': 0, 'avg_rating': 0, 'served_customers': 0}]}, {'RunId': 0, 'iteration': 0, 'Step': 8, 'n_waiters': 2, 'grid_width': 50, 'grid_height': 50, 'Customer_Count': 12, 'Average_Wait_Time': np.float64(10.416666666666666), 'Average_Customer_Satisfaction': np.float64(79.16666666666667), 'Profit': np.float64(0.0), 'Customer_Info': [{'customer_nr': 4, 'waiting_time': 35.0, 'order_status': 1, 'satisfaction': 30.0}, {'customer_nr': 5, 'waiting_time': 25.0, 'order_status': 1, 'satisfaction': 50.0}, {'customer_nr': 6, 'waiting_time': 20.0, 'order_status': 1, 'satisfaction': 60.0}, {'customer_nr': 7, 'waiting_time': 15.0, 'order_status': 1, 'satisfaction': 70.0}, {'customer_nr': 8, 'waiting_time': 15.0, 'order_status': 1, 'satisfaction': 70.0}, {'customer_nr': 9, 'waiting_time': 10.0, 'order_status': 1, 'satisfaction': 80.0}, {'customer_nr': 10, 'waiting_time': 5.0, 'order_status': 1, 'satisfaction': 90.0}, {'customer_nr': 11, 'waiting_time': 0.0, 'order_status': 1, 'satisfaction': 100.0}, {'customer_nr': 12, 'waiting_time': 0, 'order_status': 1, 'satisfaction': 100}, {'customer_nr': 13, 'waiting_time': 0, 'order_status': 1, 'satisfaction': 100}, {'customer_nr': 14, 'waiting_time': 0, 'order_status': 1, 'satisfaction': 100}, {'customer_nr': 15, 'waiting_time': 0, 'order_status': 1, 'satisfaction': 100}], 'Waiter_Info': [{'waiter_nr': 1, 'current_orders': {}, 'tips': 0, 'avg_rating': 0, 'served_customers': 0}, {'waiter_nr': 2, 'current_orders': {}, 'tips': 0, 'avg_rating': 0, 'served_customers': 0}]}, {'RunId': 0, 'iteration': 0, 'Step': 9, 'n_waiters': 2, 'grid_width': 50, 'grid_height': 50, 'Customer_Count': 13, 'Average_Wait_Time': np.float64(12.692307692307692), 'Average_Customer_Satisfaction': np.float64(74.61538461538461), 'Profit': np.float64(0.0), 'Customer_Info': [{'customer_nr': 4, 'waiting_time': 40.0, 'order_status': 1, 'satisfaction': 20.0}, {'customer_nr': 5, 'waiting_time': 30.0, 'order_status': 1, 'satisfaction': 40.0}, {'customer_nr': 6, 'waiting_time': 25.0, 'order_status': 1, 'satisfaction': 50.0}, {'customer_nr': 7, 'waiting_time': 20.0, 'order_status': 1, 'satisfaction': 60.0}, {'customer_nr': 8, 'waiting_time': 20.0, 'order_status': 1, 'satisfaction': 60.0}, {'customer_nr': 9, 'waiting_time': 15.0, 'order_status': 1, 'satisfaction': 70.0}, {'customer_nr': 10, 'waiting_time': 10.0, 'order_status': 1, 'satisfaction': 80.0}, {'customer_nr': 11, 'waiting_time': 5.0, 'order_status': 1, 'satisfaction': 90.0}, {'customer_nr': 12, 'waiting_time': 0.0, 'order_status': 1, 'satisfaction': 100.0}, {'customer_nr': 13, 'waiting_time': 0.0, 'order_status': 1, 'satisfaction': 100.0}, {'customer_nr': 14, 'waiting_time': 0.0, 'order_status': 1, 'satisfaction': 100.0}, {'customer_nr': 15, 'waiting_time': 0.0, 'order_status': 1, 'satisfaction': 100.0}, {'customer_nr': 16, 'waiting_time': 0, 'order_status': 1, 'satisfaction': 100}], 'Waiter_Info': [{'waiter_nr': 1, 'current_orders': {}, 'tips': 0, 'avg_rating': 0, 'served_customers': 0}, {'waiter_nr': 2, 'current_orders': {}, 'tips': 0, 'avg_rating': 0, 'served_customers': 0}]}, {'RunId': 0, 'iteration': 0, 'Step': 10, 'n_waiters': 2, 'grid_width': 50, 'grid_height': 50, 'Customer_Count': 15, 'Average_Wait_Time': np.float64(15.0), 'Average_Customer_Satisfaction': np.float64(70.0), 'Profit': np.float64(0.0), 'Customer_Info': [{'customer_nr': 4, 'waiting_time': 45.0, 'order_status': 1, 'satisfaction': 10.0}, {'customer_nr': 5, 'waiting_time': 35.0, 'order_status': 1, 'satisfaction': 30.0}, {'customer_nr': 6, 'waiting_time': 30.0, 'order_status': 1, 'satisfaction': 40.0}, {'customer_nr': 7, 'waiting_time': 25.0, 'order_status': 1, 'satisfaction': 50.0}, {'customer_nr': 8, 'waiting_time': 25.0, 'order_status': 1, 'satisfaction': 50.0}, {'customer_nr': 9, 'waiting_time': 20.0, 'order_status': 1, 'satisfaction': 60.0}, {'customer_nr': 10, 'waiting_time': 15.0, 'order_status': 1, 'satisfaction': 70.0}, {'customer_nr': 11, 'waiting_time': 10.0, 'order_status': 1, 'satisfaction': 80.0}, {'customer_nr': 12, 'waiting_time': 5.0, 'order_status': 1, 'satisfaction': 90.0}, {'customer_nr': 13, 'waiting_time': 5.0, 'order_status': 1, 'satisfaction': 90.0}, {'customer_nr': 14, 'waiting_time': 5.0, 'order_status': 1, 'satisfaction': 90.0}, {'customer_nr': 15, 'waiting_time': 5.0, 'order_status': 1, 'satisfaction': 90.0}, {'customer_nr': 16, 'waiting_time': 0.0, 'order_status': 1, 'satisfaction': 100.0}, {'customer_nr': 17, 'waiting_time': 0, 'order_status': 1, 'satisfaction': 100}, {'customer_nr': 18, 'waiting_time': 0, 'order_status': 1, 'satisfaction': 100}], 'Waiter_Info': [{'waiter_nr': 1, 'current_orders': {}, 'tips': 0, 'avg_rating': 0, 'served_customers': 0}, {'waiter_nr': 2, 'current_orders': {}, 'tips': 0, 'avg_rating': 0, 'served_customers': 0}]}, {'RunId': 1, 'iteration': 1, 'Step': 0, 'n_waiters': 2, 'grid_width': 50, 'grid_height': 50, 'Customer_Count': 0, 'Average_Wait_Time': np.float64(nan), 'Average_Customer_Satisfaction': np.float64(nan), 'Profit': np.float64(0.0), 'Customer_Info': [], 'Waiter_Info': [{'waiter_nr': 1, 'current_orders': {}, 'tips': 0, 'avg_rating': 0, 'served_customers': 0}, {'waiter_nr': 2, 'current_orders': {}, 'tips': 0, 'avg_rating': 0, 'served_customers': 0}]}, {'RunId': 1, 'iteration': 1, 'Step': 1, 'n_waiters': 2, 'grid_width': 50, 'grid_height': 50, 'Customer_Count': 0, 'Average_Wait_Time': np.float64(nan), 'Average_Customer_Satisfaction': np.float64(nan), 'Profit': np.float64(0.0), 'Customer_Info': [], 'Waiter_Info': [{'waiter_nr': 1, 'current_orders': {}, 'tips': 0, 'avg_rating': 0, 'served_customers': 0}, {'waiter_nr': 2, 'current_orders': {}, 'tips': 0, 'avg_rating': 0, 'served_customers': 0}]}, {'RunId': 1, 'iteration': 1, 'Step': 2, 'n_waiters': 2, 'grid_width': 50, 'grid_height': 50, 'Customer_Count': 1, 'Average_Wait_Time': np.float64(0.0), 'Average_Customer_Satisfaction': np.float64(100.0), 'Profit': np.float64(0.0), 'Customer_Info': [{'customer_nr': 4, 'waiting_time': 0, 'order_status': 1, 'satisfaction': 100}], 'Waiter_Info': [{'waiter_nr': 1, 'current_orders': {}, 'tips': 0, 'avg_rating': 0, 'served_customers': 0}, {'waiter_nr': 2, 'current_orders': {}, 'tips': 0, 'avg_rating': 0, 'served_customers': 0}]}, {'RunId': 1, 'iteration': 1, 'Step': 3, 'n_waiters': 2, 'grid_width': 50, 'grid_height': 50, 'Customer_Count': 3, 'Average_Wait_Time': np.float64(0.0), 'Average_Customer_Satisfaction': np.float64(100.0), 'Profit': np.float64(0.0), 'Customer_Info': [{'customer_nr': 4, 'waiting_time': 0.0, 'order_status': 1, 'satisfaction': 100.0}, {'customer_nr': 5, 'waiting_time': 0, 'order_status': 1, 'satisfaction': 100}, {'customer_nr': 6, 'waiting_time': 0, 'order_status': 1, 'satisfaction': 100}], 'Waiter_Info': [{'waiter_nr': 1, 'current_orders': {}, 'tips': 0, 'avg_rating': 0, 'served_customers': 0}, {'waiter_nr': 2, 'current_orders': {}, 'tips': 0, 'avg_rating': 0, 'served_customers': 0}]}, {'RunId': 1, 'iteration': 1, 'Step': 4, 'n_waiters': 2, 'grid_width': 50, 'grid_height': 50, 'Customer_Count': 6, 'Average_Wait_Time': np.float64(0.8333333333333334), 'Average_Customer_Satisfaction': np.float64(98.33333333333333), 'Profit': np.float64(0.0), 'Customer_Info': [{'customer_nr': 4, 'waiting_time': 5.0, 'order_status': 1, 'satisfaction': 90.0}, {'customer_nr': 5, 'waiting_time': 0.0, 'order_status': 1, 'satisfaction': 100.0}, {'customer_nr': 6, 'waiting_time': 0.0, 'order_status': 1, 'satisfaction': 100.0}, {'customer_nr': 7, 'waiting_time': 0, 'order_status': 1, 'satisfaction': 100}, {'customer_nr': 8, 'waiting_time': 0, 'order_status': 1, 'satisfaction': 100}, {'customer_nr': 9, 'waiting_time': 0, 'order_status': 1, 'satisfaction': 100}], 'Waiter_Info': [{'waiter_nr': 1, 'current_orders': {}, 'tips': 0, 'avg_rating': 0, 'served_customers': 0}, {'waiter_nr': 2, 'current_orders': {}, 'tips': 0, 'avg_rating': 0, 'served_customers': 0}]}, {'RunId': 1, 'iteration': 1, 'Step': 5, 'n_waiters': 2, 'grid_width': 50, 'grid_height': 50, 'Customer_Count': 9, 'Average_Wait_Time': np.float64(2.2222222222222223), 'Average_Customer_Satisfaction': np.float64(95.55555555555556), 'Profit': np.float64(0.0), 'Customer_Info': [{'customer_nr': 4, 'waiting_time': 10.0, 'order_status': 1, 'satisfaction': 80.0}, {'customer_nr': 5, 'waiting_time': 5.0, 'order_status': 1, 'satisfaction': 90.0}, {'customer_nr': 6, 'waiting_time': 5.0, 'order_status': 1, 'satisfaction': 90.0}, {'customer_nr': 7, 'waiting_time': 0.0, 'order_status': 1, 'satisfaction': 100.0}, {'customer_nr': 8, 'waiting_time': 0.0, 'order_status': 1, 'satisfaction': 100.0}, {'customer_nr': 9, 'waiting_time': 0.0, 'order_status': 1, 'satisfaction': 100.0}, {'customer_nr': 10, 'waiting_time': 0, 'order_status': 1, 'satisfaction': 100}, {'customer_nr': 11, 'waiting_time': 0, 'order_status': 1, 'satisfaction': 100}, {'customer_nr': 12, 'waiting_time': 0, 'order_status': 1, 'satisfaction': 100}], 'Waiter_Info': [{'waiter_nr': 1, 'current_orders': {}, 'tips': 0, 'avg_rating': 0, 'served_customers': 0}, {'waiter_nr': 2, 'current_orders': {}, 'tips': 0, 'avg_rating': 0, 'served_customers': 0}]}, {'RunId': 1, 'iteration': 1, 'Step': 6, 'n_waiters': 2, 'grid_width': 50, 'grid_height': 50, 'Customer_Count': 10, 'Average_Wait_Time': np.float64(5.0), 'Average_Customer_Satisfaction': np.float64(90.0), 'Profit': np.float64(0.0), 'Customer_Info': [{'customer_nr': 4, 'waiting_time': 15.0, 'order_status': 1, 'satisfaction': 70.0}, {'customer_nr': 5, 'waiting_time': 10.0, 'order_status': 1, 'satisfaction': 80.0}, {'customer_nr': 6, 'waiting_time': 10.0, 'order_status': 1, 'satisfaction': 80.0}, {'customer_nr': 7, 'waiting_time': 5.0, 'order_status': 1, 'satisfaction': 90.0}, {'customer_nr': 8, 'waiting_time': 5.0, 'order_status': 1, 'satisfaction': 90.0}, {'customer_nr': 9, 'waiting_time': 5.0, 'order_status': 1, 'satisfaction': 90.0}, {'customer_nr': 10, 'waiting_time': 0.0, 'order_status': 1, 'satisfaction': 100.0}, {'customer_nr': 11, 'waiting_time': 0.0, 'order_status': 1, 'satisfaction': 100.0}, {'customer_nr': 12, 'waiting_time': 0.0, 'order_status': 1, 'satisfaction': 100.0}, {'customer_nr': 13, 'waiting_time': 0, 'order_status': 1, 'satisfaction': 100}], 'Waiter_Info': [{'waiter_nr': 1, 'current_orders': {}, 'tips': 0, 'avg_rating': 0, 'served_customers': 0}, {'waiter_nr': 2, 'current_orders': {}, 'tips': 0, 'avg_rating': 0, 'served_customers': 0}]}, {'RunId': 1, 'iteration': 1, 'Step': 7, 'n_waiters': 2, 'grid_width': 50, 'grid_height': 50, 'Customer_Count': 11, 'Average_Wait_Time': np.float64(8.636363636363637), 'Average_Customer_Satisfaction': np.float64(82.72727272727273), 'Profit': np.float64(0.0), 'Customer_Info': [{'customer_nr': 4, 'waiting_time': 20.0, 'order_status': 1, 'satisfaction': 60.0}, {'customer_nr': 5, 'waiting_time': 15.0, 'order_status': 1, 'satisfaction': 70.0}, {'customer_nr': 6, 'waiting_time': 15.0, 'order_status': 1, 'satisfaction': 70.0}, {'customer_nr': 7, 'waiting_time': 10.0, 'order_status': 1, 'satisfaction': 80.0}, {'customer_nr': 8, 'waiting_time': 10.0, 'order_status': 1, 'satisfaction': 80.0}, {'customer_nr': 9, 'waiting_time': 10.0, 'order_status': 1, 'satisfaction': 80.0}, {'customer_nr': 10, 'waiting_time': 5.0, 'order_status': 1, 'satisfaction': 90.0}, {'customer_nr': 11, 'waiting_time': 5.0, 'order_status': 1, 'satisfaction': 90.0}, {'customer_nr': 12, 'waiting_time': 5.0, 'order_status': 1, 'satisfaction': 90.0}, {'customer_nr': 13, 'waiting_time': 0.0, 'order_status': 1, 'satisfaction': 100.0}, {'customer_nr': 14, 'waiting_time': 0, 'order_status': 1, 'satisfaction': 100}], 'Waiter_Info': [{'waiter_nr': 1, 'current_orders': {}, 'tips': 0, 'avg_rating': 0, 'served_customers': 0}, {'waiter_nr': 2, 'current_orders': {}, 'tips': 0, 'avg_rating': 0, 'served_customers': 0}]}, {'RunId': 1, 'iteration': 1, 'Step': 8, 'n_waiters': 2, 'grid_width': 50, 'grid_height': 50, 'Customer_Count': 13, 'Average_Wait_Time': np.float64(11.153846153846153), 'Average_Customer_Satisfaction': np.float64(77.6923076923077), 'Profit': np.float64(0.0), 'Customer_Info': [{'customer_nr': 4, 'waiting_time': 25.0, 'order_status': 1, 'satisfaction': 50.0}, {'customer_nr': 5, 'waiting_time': 20.0, 'order_status': 1, 'satisfaction': 60.0}, {'customer_nr': 6, 'waiting_time': 20.0, 'order_status': 1, 'satisfaction': 60.0}, {'customer_nr': 7, 'waiting_time': 15.0, 'order_status': 1, 'satisfaction': 70.0}, {'customer_nr': 8, 'waiting_time': 15.0, 'order_status': 1, 'satisfaction': 70.0}, {'customer_nr': 9, 'waiting_time': 15.0, 'order_status': 1, 'satisfaction': 70.0}, {'customer_nr': 10, 'waiting_time': 10.0, 'order_status': 1, 'satisfaction': 80.0}, {'customer_nr': 11, 'waiting_time': 10.0, 'order_status': 1, 'satisfaction': 80.0}, {'customer_nr': 12, 'waiting_time': 10.0, 'order_status': 1, 'satisfaction': 80.0}, {'customer_nr': 13, 'waiting_time': 5.0, 'order_status': 1, 'satisfaction': 90.0}, {'customer_nr': 14, 'waiting_time': 0.0, 'order_status': 1, 'satisfaction': 100.0}, {'customer_nr': 15, 'waiting_time': 0, 'order_status': 1, 'satisfaction': 100}, {'customer_nr': 16, 'waiting_time': 0, 'order_status': 1, 'satisfaction': 100}], 'Waiter_Info': [{'waiter_nr': 1, 'current_orders': {}, 'tips': 0, 'avg_rating': 0, 'served_customers': 0}, {'waiter_nr': 2, 'current_orders': {}, 'tips': 0, 'avg_rating': 0, 'served_customers': 0}]}, {'RunId': 1, 'iteration': 1, 'Step': 9, 'n_waiters': 2, 'grid_width': 50, 'grid_height': 50, 'Customer_Count': 15, 'Average_Wait_Time': np.float64(13.333333333333334), 'Average_Customer_Satisfaction': np.float64(73.33333333333333), 'Profit': np.float64(0.0), 'Customer_Info': [{'customer_nr': 4, 'waiting_time': 30.0, 'order_status': 1, 'satisfaction': 40.0}, {'customer_nr': 5, 'waiting_time': 25.0, 'order_status': 1, 'satisfaction': 50.0}, {'customer_nr': 6, 'waiting_time': 25.0, 'order_status': 1, 'satisfaction': 50.0}, {'customer_nr': 7, 'waiting_time': 20.0, 'order_status': 1, 'satisfaction': 60.0}, {'customer_nr': 8, 'waiting_time': 20.0, 'order_status': 1, 'satisfaction': 60.0}, {'customer_nr': 9, 'waiting_time': 20.0, 'order_status': 1, 'satisfaction': 60.0}, {'customer_nr': 10, 'waiting_time': 15.0, 'order_status': 1, 'satisfaction': 70.0}, {'customer_nr': 11, 'waiting_time': 15.0, 'order_status': 1, 'satisfaction': 70.0}, {'customer_nr': 12, 'waiting_time': 15.0, 'order_status': 1, 'satisfaction': 70.0}, {'customer_nr': 13, 'waiting_time': 10.0, 'order_status': 1, 'satisfaction': 80.0}, {'customer_nr': 14, 'waiting_time': 5.0, 'order_status': 1, 'satisfaction': 90.0}, {'customer_nr': 15, 'waiting_time': 0.0, 'order_status': 1, 'satisfaction': 100.0}, {'customer_nr': 16, 'waiting_time': 0.0, 'order_status': 1, 'satisfaction': 100.0}, {'customer_nr': 17, 'waiting_time': 0, 'order_status': 1, 'satisfaction': 100}, {'customer_nr': 18, 'waiting_time': 0, 'order_status': 1, 'satisfaction': 100}], 'Waiter_Info': [{'waiter_nr': 1, 'current_orders': {}, 'tips': 0, 'avg_rating': 0, 'served_customers': 0}, {'waiter_nr': 2, 'current_orders': {}, 'tips': 0, 'avg_rating': 0, 'served_customers': 0}]}, {'RunId': 1, 'iteration': 1, 'Step': 10, 'n_waiters': 2, 'grid_width': 50, 'grid_height': 50, 'Customer_Count': 17, 'Average_Wait_Time': np.float64(15.588235294117647), 'Average_Customer_Satisfaction': np.float64(68.82352941176471), 'Profit': np.float64(0.0), 'Customer_Info': [{'customer_nr': 4, 'waiting_time': 35.0, 'order_status': 1, 'satisfaction': 30.0}, {'customer_nr': 5, 'waiting_time': 30.0, 'order_status': 1, 'satisfaction': 40.0}, {'customer_nr': 6, 'waiting_time': 30.0, 'order_status': 1, 'satisfaction': 40.0}, {'customer_nr': 7, 'waiting_time': 25.0, 'order_status': 1, 'satisfaction': 50.0}, {'customer_nr': 8, 'waiting_time': 25.0, 'order_status': 1, 'satisfaction': 50.0}, {'customer_nr': 9, 'waiting_time': 25.0, 'order_status': 1, 'satisfaction': 50.0}, {'customer_nr': 10, 'waiting_time': 20.0, 'order_status': 1, 'satisfaction': 60.0}, {'customer_nr': 11, 'waiting_time': 20.0, 'order_status': 1, 'satisfaction': 60.0}, {'customer_nr': 12, 'waiting_time': 20.0, 'order_status': 1, 'satisfaction': 60.0}, {'customer_nr': 13, 'waiting_time': 15.0, 'order_status': 1, 'satisfaction': 70.0}, {'customer_nr': 14, 'waiting_time': 10.0, 'order_status': 1, 'satisfaction': 80.0}, {'customer_nr': 15, 'waiting_time': 5.0, 'order_status': 1, 'satisfaction': 90.0}, {'customer_nr': 16, 'waiting_time': 5.0, 'order_status': 1, 'satisfaction': 90.0}, {'customer_nr': 17, 'waiting_time': 0.0, 'order_status': 1, 'satisfaction': 100.0}, {'customer_nr': 18, 'waiting_time': 0.0, 'order_status': 1, 'satisfaction': 100.0}, {'customer_nr': 19, 'waiting_time': 0, 'order_status': 1, 'satisfaction': 100}, {'customer_nr': 20, 'waiting_time': 0, 'order_status': 1, 'satisfaction': 100}], 'Waiter_Info': [{'waiter_nr': 1, 'current_orders': {}, 'tips': 0, 'avg_rating': 0, 'served_customers': 0}, {'waiter_nr': 2, 'current_orders': {}, 'tips': 0, 'avg_rating': 0, 'served_customers': 0}]}, {'RunId': 2, 'iteration': 2, 'Step': 0, 'n_waiters': 2, 'grid_width': 50, 'grid_height': 50, 'Customer_Count': 3, 'Average_Wait_Time': np.float64(0.0), 'Average_Customer_Satisfaction': np.float64(100.0), 'Profit': np.float64(0.0), 'Customer_Info': [{'customer_nr': 4, 'waiting_time': 0, 'order_status': 1, 'satisfaction': 100}, {'customer_nr': 5, 'waiting_time': 0, 'order_status': 1, 'satisfaction': 100}, {'customer_nr': 6, 'waiting_time': 0, 'order_status': 1, 'satisfaction': 100}], 'Waiter_Info': [{'waiter_nr': 1, 'current_orders': {}, 'tips': 0, 'avg_rating': 0, 'served_customers': 0}, {'waiter_nr': 2, 'current_orders': {}, 'tips': 0, 'avg_rating': 0, 'served_customers': 0}]}, {'RunId': 2, 'iteration': 2, 'Step': 1, 'n_waiters': 2, 'grid_width': 50, 'grid_height': 50, 'Customer_Count': 5, 'Average_Wait_Time': np.float64(0.0), 'Average_Customer_Satisfaction': np.float64(100.0), 'Profit': np.float64(0.0), 'Customer_Info': [{'customer_nr': 4, 'waiting_time': 0.0, 'order_status': 1, 'satisfaction': 100.0}, {'customer_nr': 5, 'waiting_time': 0.0, 'order_status': 1, 'satisfaction': 100.0}, {'customer_nr': 6, 'waiting_time': 0.0, 'order_status': 1, 'satisfaction': 100.0}, {'customer_nr': 7, 'waiting_time': 0, 'order_status': 1, 'satisfaction': 100}, {'customer_nr': 8, 'waiting_time': 0, 'order_status': 1, 'satisfaction': 100}], 'Waiter_Info': [{'waiter_nr': 1, 'current_orders': {}, 'tips': 0, 'avg_rating': 0, 'served_customers': 0}, {'waiter_nr': 2, 'current_orders': {}, 'tips': 0, 'avg_rating': 0, 'served_customers': 0}]}, {'RunId': 2, 'iteration': 2, 'Step': 2, 'n_waiters': 2, 'grid_width': 50, 'grid_height': 50, 'Customer_Count': 8, 'Average_Wait_Time': np.float64(1.875), 'Average_Customer_Satisfaction': np.float64(96.25), 'Profit': np.float64(0.0), 'Customer_Info': [{'customer_nr': 4, 'waiting_time': 5.0, 'order_status': 1, 'satisfaction': 90.0}, {'customer_nr': 5, 'waiting_time': 5.0, 'order_status': 1, 'satisfaction': 90.0}, {'customer_nr': 6, 'waiting_time': 5.0, 'order_status': 1, 'satisfaction': 90.0}, {'customer_nr': 7, 'waiting_time': 0.0, 'order_status': 1, 'satisfaction': 100.0}, {'customer_nr': 8, 'waiting_time': 0.0, 'order_status': 1, 'satisfaction': 100.0}, {'customer_nr': 9, 'waiting_time': 0, 'order_status': 1, 'satisfaction': 100}, {'customer_nr': 10, 'waiting_time': 0, 'order_status': 1, 'satisfaction': 100}, {'customer_nr': 11, 'waiting_time': 0, 'order_status': 1, 'satisfaction': 100}], 'Waiter_Info': [{'waiter_nr': 1, 'current_orders': {}, 'tips': 0, 'avg_rating': 0, 'served_customers': 0}, {'waiter_nr': 2, 'current_orders': {}, 'tips': 0, 'avg_rating': 0, 'served_customers': 0}]}, {'RunId': 2, 'iteration': 2, 'Step': 3, 'n_waiters': 2, 'grid_width': 50, 'grid_height': 50, 'Customer_Count': 10, 'Average_Wait_Time': np.float64(4.0), 'Average_Customer_Satisfaction': np.float64(92.0), 'Profit': np.float64(0.0), 'Customer_Info': [{'customer_nr': 4, 'waiting_time': 10.0, 'order_status': 1, 'satisfaction': 80.0}, {'customer_nr': 5, 'waiting_time': 10.0, 'order_status': 1, 'satisfaction': 80.0}, {'customer_nr': 6, 'waiting_time': 10.0, 'order_status': 1, 'satisfaction': 80.0}, {'customer_nr': 7, 'waiting_time': 5.0, 'order_status': 1, 'satisfaction': 90.0}, {'customer_nr': 8, 'waiting_time': 5.0, 'order_status': 1, 'satisfaction': 90.0}, {'customer_nr': 9, 'waiting_time': 0.0, 'order_status': 1, 'satisfaction': 100.0}, {'customer_nr': 10, 'waiting_time': 0.0, 'order_status': 1, 'satisfaction': 100.0}, {'customer_nr': 11, 'waiting_time': 0.0, 'order_status': 1, 'satisfaction': 100.0}, {'customer_nr': 12, 'waiting_time': 0, 'order_status': 1, 'satisfaction': 100}, {'customer_nr': 13, 'waiting_time': 0, 'order_status': 1, 'satisfaction': 100}], 'Waiter_Info': [{'waiter_nr': 1, 'current_orders': {}, 'tips': 0, 'avg_rating': 0, 'served_customers': 0}, {'waiter_nr': 2, 'current_orders': {}, 'tips': 0, 'avg_rating': 0, 'served_customers': 0}]}, {'RunId': 2, 'iteration': 2, 'Step': 4, 'n_waiters': 2, 'grid_width': 50, 'grid_height': 50, 'Customer_Count': 13, 'Average_Wait_Time': np.float64(6.153846153846154), 'Average_Customer_Satisfaction': np.float64(87.6923076923077), 'Profit': np.float64(0.0), 'Customer_Info': [{'customer_nr': 4, 'waiting_time': 15.0, 'order_status': 1, 'satisfaction': 70.0}, {'customer_nr': 5, 'waiting_time': 15.0, 'order_status': 1, 'satisfaction': 70.0}, {'customer_nr': 6, 'waiting_time': 15.0, 'order_status': 1, 'satisfaction': 70.0}, {'customer_nr': 7, 'waiting_time': 10.0, 'order_status': 1, 'satisfaction': 80.0}, {'customer_nr': 8, 'waiting_time': 10.0, 'order_status': 1, 'satisfaction': 80.0}, {'customer_nr': 9, 'waiting_time': 5.0, 'order_status': 1, 'satisfaction': 90.0}, {'customer_nr': 10, 'waiting_time': 5.0, 'order_status': 1, 'satisfaction': 90.0}, {'customer_nr': 11, 'waiting_time': 5.0, 'order_status': 1, 'satisfaction': 90.0}, {'customer_nr': 12, 'waiting_time': 0.0, 'order_status': 1, 'satisfaction': 100.0}, {'customer_nr': 13, 'waiting_time': 0.0, 'order_status': 1, 'satisfaction': 100.0}, {'customer_nr': 14, 'waiting_time': 0, 'order_status': 1, 'satisfaction': 100}, {'customer_nr': 15, 'waiting_time': 0, 'order_status': 1, 'satisfaction': 100}, {'customer_nr': 16, 'waiting_time': 0, 'order_status': 1, 'satisfaction': 100}], 'Waiter_Info': [{'waiter_nr': 1, 'current_orders': {}, 'tips': 0, 'avg_rating': 0, 'served_customers': 0}, {'waiter_nr': 2, 'current_orders': {}, 'tips': 0, 'avg_rating': 0, 'served_customers': 0}]}, {'RunId': 2, 'iteration': 2, 'Step': 5, 'n_waiters': 2, 'grid_width': 50, 'grid_height': 50, 'Customer_Count': 15, 'Average_Wait_Time': np.float64(8.666666666666666), 'Average_Customer_Satisfaction': np.float64(82.66666666666667), 'Profit': np.float64(0.0), 'Customer_Info': [{'customer_nr': 4, 'waiting_time': 20.0, 'order_status': 1, 'satisfaction': 60.0}, {'customer_nr': 5, 'waiting_time': 20.0, 'order_status': 1, 'satisfaction': 60.0}, {'customer_nr': 6, 'waiting_time': 20.0, 'order_status': 1, 'satisfaction': 60.0}, {'customer_nr': 7, 'waiting_time': 15.0, 'order_status': 1, 'satisfaction': 70.0}, {'customer_nr': 8, 'waiting_time': 15.0, 'order_status': 1, 'satisfaction': 70.0}, {'customer_nr': 9, 'waiting_time': 10.0, 'order_status': 1, 'satisfaction': 80.0}, {'customer_nr': 10, 'waiting_time': 10.0, 'order_status': 1, 'satisfaction': 80.0}, {'customer_nr': 11, 'waiting_time': 10.0, 'order_status': 1, 'satisfaction': 80.0}, {'customer_nr': 12, 'waiting_time': 5.0, 'order_status': 1, 'satisfaction': 90.0}, {'customer_nr': 13, 'waiting_time': 5.0, 'order_status': 1, 'satisfaction': 90.0}, {'customer_nr': 14, 'waiting_time': 0.0, 'order_status': 1, 'satisfaction': 100.0}, {'customer_nr': 15, 'waiting_time': 0.0, 'order_status': 1, 'satisfaction': 100.0}, {'customer_nr': 16, 'waiting_time': 0.0, 'order_status': 1, 'satisfaction': 100.0}, {'customer_nr': 17, 'waiting_time': 0, 'order_status': 1, 'satisfaction': 100}, {'customer_nr': 18, 'waiting_time': 0, 'order_status': 1, 'satisfaction': 100}], 'Waiter_Info': [{'waiter_nr': 1, 'current_orders': {}, 'tips': 0, 'avg_rating': 0, 'served_customers': 0}, {'waiter_nr': 2, 'current_orders': {}, 'tips': 0, 'avg_rating': 0, 'served_customers': 0}]}, {'RunId': 2, 'iteration': 2, 'Step': 6, 'n_waiters': 2, 'grid_width': 50, 'grid_height': 50, 'Customer_Count': 17, 'Average_Wait_Time': np.float64(11.470588235294118), 'Average_Customer_Satisfaction': np.float64(77.05882352941177), 'Profit': np.float64(0.0), 'Customer_Info': [{'customer_nr': 4, 'waiting_time': 25.0, 'order_status': 1, 'satisfaction': 50.0}, {'customer_nr': 5, 'waiting_time': 25.0, 'order_status': 1, 'satisfaction': 50.0}, {'customer_nr': 6, 'waiting_time': 25.0, 'order_status': 1, 'satisfaction': 50.0}, {'customer_nr': 7, 'waiting_time': 20.0, 'order_status': 1, 'satisfaction': 60.0}, {'customer_nr': 8, 'waiting_time': 20.0, 'order_status': 1, 'satisfaction': 60.0}, {'customer_nr': 9, 'waiting_time': 15.0, 'order_status': 1, 'satisfaction': 70.0}, {'customer_nr': 10, 'waiting_time': 15.0, 'order_status': 1, 'satisfaction': 70.0}, {'customer_nr': 11, 'waiting_time': 15.0, 'order_status': 1, 'satisfaction': 70.0}, {'customer_nr': 12, 'waiting_time': 10.0, 'order_status': 1, 'satisfaction': 80.0}, {'customer_nr': 13, 'waiting_time': 10.0, 'order_status': 1, 'satisfaction': 80.0}, {'customer_nr': 14, 'waiting_time': 5.0, 'order_status': 1, 'satisfaction': 90.0}, {'customer_nr': 15, 'waiting_time': 5.0, 'order_status': 1, 'satisfaction': 90.0}, {'customer_nr': 16, 'waiting_time': 5.0, 'order_status': 1, 'satisfaction': 90.0}, {'customer_nr': 17, 'waiting_time': 0.0, 'order_status': 1, 'satisfaction': 100.0}, {'customer_nr': 18, 'waiting_time': 0.0, 'order_status': 1, 'satisfaction': 100.0}, {'customer_nr': 19, 'waiting_time': 0, 'order_status': 1, 'satisfaction': 100}, {'customer_nr': 20, 'waiting_time': 0, 'order_status': 1, 'satisfaction': 100}], 'Waiter_Info': [{'waiter_nr': 1, 'current_orders': {}, 'tips': 0, 'avg_rating': 0, 'served_customers': 0}, {'waiter_nr': 2, 'current_orders': {}, 'tips': 0, 'avg_rating': 0, 'served_customers': 0}]}, {'RunId': 2, 'iteration': 2, 'Step': 7, 'n_waiters': 2, 'grid_width': 50, 'grid_height': 50, 'Customer_Count': 19, 'Average_Wait_Time': np.float64(14.210526315789474), 'Average_Customer_Satisfaction': np.float64(71.57894736842105), 'Profit': np.float64(0.0), 'Customer_Info': [{'customer_nr': 4, 'waiting_time': 30.0, 'order_status': 1, 'satisfaction': 40.0}, {'customer_nr': 5, 'waiting_time': 30.0, 'order_status': 1, 'satisfaction': 40.0}, {'customer_nr': 6, 'waiting_time': 30.0, 'order_status': 1, 'satisfaction': 40.0}, {'customer_nr': 7, 'waiting_time': 25.0, 'order_status': 1, 'satisfaction': 50.0}, {'customer_nr': 8, 'waiting_time': 25.0, 'order_status': 1, 'satisfaction': 50.0}, {'customer_nr': 9, 'waiting_time': 20.0, 'order_status': 1, 'satisfaction': 60.0}, {'customer_nr': 10, 'waiting_time': 20.0, 'order_status': 1, 'satisfaction': 60.0}, {'customer_nr': 11, 'waiting_time': 20.0, 'order_status': 1, 'satisfaction': 60.0}, {'customer_nr': 12, 'waiting_time': 15.0, 'order_status': 1, 'satisfaction': 70.0}, {'customer_nr': 13, 'waiting_time': 15.0, 'order_status': 1, 'satisfaction': 70.0}, {'customer_nr': 14, 'waiting_time': 10.0, 'order_status': 1, 'satisfaction': 80.0}, {'customer_nr': 15, 'waiting_time': 10.0, 'order_status': 1, 'satisfaction': 80.0}, {'customer_nr': 16, 'waiting_time': 10.0, 'order_status': 1, 'satisfaction': 80.0}, {'customer_nr': 17, 'waiting_time': 5.0, 'order_status': 1, 'satisfaction': 90.0}, {'customer_nr': 18, 'waiting_time': 5.0, 'order_status': 1, 'satisfaction': 90.0}, {'customer_nr': 19, 'waiting_time': 0.0, 'order_status': 1, 'satisfaction': 100.0}, {'customer_nr': 20, 'waiting_time': 0.0, 'order_status': 1, 'satisfaction': 100.0}, {'customer_nr': 21, 'waiting_time': 0, 'order_status': 1, 'satisfaction': 100}, {'customer_nr': 22, 'waiting_time': 0, 'order_status': 1, 'satisfaction': 100}], 'Waiter_Info': [{'waiter_nr': 1, 'current_orders': {}, 'tips': 0, 'avg_rating': 0, 'served_customers': 0}, {'waiter_nr': 2, 'current_orders': {}, 'tips': 0, 'avg_rating': 0, 'served_customers': 0}]}, {'RunId': 2, 'iteration': 2, 'Step': 8, 'n_waiters': 2, 'grid_width': 50, 'grid_height': 50, 'Customer_Count': 22, 'Average_Wait_Time': np.float64(16.136363636363637), 'Average_Customer_Satisfaction': np.float64(67.72727272727273), 'Profit': np.float64(0.0), 'Customer_Info': [{'customer_nr': 4, 'waiting_time': 35.0, 'order_status': 1, 'satisfaction': 30.0}, {'customer_nr': 5, 'waiting_time': 35.0, 'order_status': 1, 'satisfaction': 30.0}, {'customer_nr': 6, 'waiting_time': 35.0, 'order_status': 1, 'satisfaction': 30.0}, {'customer_nr': 7, 'waiting_time': 30.0, 'order_status': 1, 'satisfaction': 40.0}, {'customer_nr': 8, 'waiting_time': 30.0, 'order_status': 1, 'satisfaction': 40.0}, {'customer_nr': 9, 'waiting_time': 25.0, 'order_status': 1, 'satisfaction': 50.0}, {'customer_nr': 10, 'waiting_time': 25.0, 'order_status': 1, 'satisfaction': 50.0}, {'customer_nr': 11, 'waiting_time': 25.0, 'order_status': 1, 'satisfaction': 50.0}, {'customer_nr': 12, 'waiting_time': 20.0, 'order_status': 1, 'satisfaction': 60.0}, {'customer_nr': 13, 'waiting_time': 20.0, 'order_status': 1, 'satisfaction': 60.0}, {'customer_nr': 14, 'waiting_time': 15.0, 'order_status': 1, 'satisfaction': 70.0}, {'customer_nr': 15, 'waiting_time': 15.0, 'order_status': 1, 'satisfaction': 70.0}, {'customer_nr': 16, 'waiting_time': 15.0, 'order_status': 1, 'satisfaction': 70.0}, {'customer_nr': 17, 'waiting_time': 10.0, 'order_status': 1, 'satisfaction': 80.0}, {'customer_nr': 18, 'waiting_time': 10.0, 'order_status': 1, 'satisfaction': 80.0}, {'customer_nr': 19, 'waiting_time': 5.0, 'order_status': 1, 'satisfaction': 90.0}, {'customer_nr': 20, 'waiting_time': 5.0, 'order_status': 1, 'satisfaction': 90.0}, {'customer_nr': 21, 'waiting_time': 0.0, 'order_status': 1, 'satisfaction': 100.0}, {'customer_nr': 22, 'waiting_time': 0.0, 'order_status': 1, 'satisfaction': 100.0}, {'customer_nr': 23, 'waiting_time': 0, 'order_status': 1, 'satisfaction': 100}, {'customer_nr': 24, 'waiting_time': 0, 'order_status': 1, 'satisfaction': 100}, {'customer_nr': 25, 'waiting_time': 0, 'order_status': 1, 'satisfaction': 100}], 'Waiter_Info': [{'waiter_nr': 1, 'current_orders': {}, 'tips': 0, 'avg_rating': 0, 'served_customers': 0}, {'waiter_nr': 2, 'current_orders': {}, 'tips': 0, 'avg_rating': 0, 'served_customers': 0}]}, {'RunId': 2, 'iteration': 2, 'Step': 9, 'n_waiters': 2, 'grid_width': 50, 'grid_height': 50, 'Customer_Count': 25, 'Average_Wait_Time': np.float64(18.0), 'Average_Customer_Satisfaction': np.float64(64.0), 'Profit': np.float64(0.0), 'Customer_Info': [{'customer_nr': 4, 'waiting_time': 40.0, 'order_status': 1, 'satisfaction': 20.0}, {'customer_nr': 5, 'waiting_time': 40.0, 'order_status': 1, 'satisfaction': 20.0}, {'customer_nr': 6, 'waiting_time': 40.0, 'order_status': 1, 'satisfaction': 20.0}, {'customer_nr': 7, 'waiting_time': 35.0, 'order_status': 1, 'satisfaction': 30.0}, {'customer_nr': 8, 'waiting_time': 35.0, 'order_status': 1, 'satisfaction': 30.0}, {'customer_nr': 9, 'waiting_time': 30.0, 'order_status': 1, 'satisfaction': 40.0}, {'customer_nr': 10, 'waiting_time': 30.0, 'order_status': 1, 'satisfaction': 40.0}, {'customer_nr': 11, 'waiting_time': 30.0, 'order_status': 1, 'satisfaction': 40.0}, {'customer_nr': 12, 'waiting_time': 25.0, 'order_status': 1, 'satisfaction': 50.0}, {'customer_nr': 13, 'waiting_time': 25.0, 'order_status': 1, 'satisfaction': 50.0}, {'customer_nr': 14, 'waiting_time': 20.0, 'order_status': 1, 'satisfaction': 60.0}, {'customer_nr': 15, 'waiting_time': 20.0, 'order_status': 1, 'satisfaction': 60.0}, {'customer_nr': 16, 'waiting_time': 20.0, 'order_status': 1, 'satisfaction': 60.0}, {'customer_nr': 17, 'waiting_time': 15.0, 'order_status': 1, 'satisfaction': 70.0}, {'customer_nr': 18, 'waiting_time': 15.0, 'order_status': 1, 'satisfaction': 70.0}, {'customer_nr': 19, 'waiting_time': 10.0, 'order_status': 1, 'satisfaction': 80.0}, {'customer_nr': 20, 'waiting_time': 10.0, 'order_status': 1, 'satisfaction': 80.0}, {'customer_nr': 21, 'waiting_time': 5.0, 'order_status': 1, 'satisfaction': 90.0}, {'customer_nr': 22, 'waiting_time': 5.0, 'order_status': 1, 'satisfaction': 90.0}, {'customer_nr': 23, 'waiting_time': 0.0, 'order_status': 1, 'satisfaction': 100.0}, {'customer_nr': 24, 'waiting_time': 0.0, 'order_status': 1, 'satisfaction': 100.0}, {'customer_nr': 25, 'waiting_time': 0.0, 'order_status': 1, 'satisfaction': 100.0}, {'customer_nr': 26, 'waiting_time': 0, 'order_status': 1, 'satisfaction': 100}, {'customer_nr': 27, 'waiting_time': 0, 'order_status': 1, 'satisfaction': 100}, {'customer_nr': 28, 'waiting_time': 0, 'order_status': 1, 'satisfaction': 100}], 'Waiter_Info': [{'waiter_nr': 1, 'current_orders': {}, 'tips': 0, 'avg_rating': 0, 'served_customers': 0}, {'waiter_nr': 2, 'current_orders': {}, 'tips': 0, 'avg_rating': 0, 'served_customers': 0}]}, {'RunId': 2, 'iteration': 2, 'Step': 10, 'n_waiters': 2, 'grid_width': 50, 'grid_height': 50, 'Customer_Count': 31, 'Average_Wait_Time': np.float64(18.06451612903226), 'Average_Customer_Satisfaction': np.float64(63.87096774193548), 'Profit': np.float64(0.0), 'Customer_Info': [{'customer_nr': 4, 'waiting_time': 45.0, 'order_status': 1, 'satisfaction': 10.0}, {'customer_nr': 5, 'waiting_time': 45.0, 'order_status': 1, 'satisfaction': 10.0}, {'customer_nr': 6, 'waiting_time': 45.0, 'order_status': 1, 'satisfaction': 10.0}, {'customer_nr': 7, 'waiting_time': 40.0, 'order_status': 1, 'satisfaction': 20.0}, {'customer_nr': 8, 'waiting_time': 40.0, 'order_status': 1, 'satisfaction': 20.0}, {'customer_nr': 9, 'waiting_time': 35.0, 'order_status': 1, 'satisfaction': 30.0}, {'customer_nr': 10, 'waiting_time': 35.0, 'order_status': 1, 'satisfaction': 30.0}, {'customer_nr': 11, 'waiting_time': 35.0, 'order_status': 1, 'satisfaction': 30.0}, {'customer_nr': 12, 'waiting_time': 30.0, 'order_status': 1, 'satisfaction': 40.0}, {'customer_nr': 13, 'waiting_time': 30.0, 'order_status': 1, 'satisfaction': 40.0}, {'customer_nr': 14, 'waiting_time': 25.0, 'order_status': 1, 'satisfaction': 50.0}, {'customer_nr': 15, 'waiting_time': 25.0, 'order_status': 1, 'satisfaction': 50.0}, {'customer_nr': 16, 'waiting_time': 25.0, 'order_status': 1, 'satisfaction': 50.0}, {'customer_nr': 17, 'waiting_time': 20.0, 'order_status': 1, 'satisfaction': 60.0}, {'customer_nr': 18, 'waiting_time': 20.0, 'order_status': 1, 'satisfaction': 60.0}, {'customer_nr': 19, 'waiting_time': 15.0, 'order_status': 1, 'satisfaction': 70.0}, {'customer_nr': 20, 'waiting_time': 15.0, 'order_status': 1, 'satisfaction': 70.0}, {'customer_nr': 21, 'waiting_time': 10.0, 'order_status': 1, 'satisfaction': 80.0}, {'customer_nr': 22, 'waiting_time': 10.0, 'order_status': 1, 'satisfaction': 80.0}, {'customer_nr': 23, 'waiting_time': 5.0, 'order_status': 1, 'satisfaction': 90.0}, {'customer_nr': 24, 'waiting_time': 5.0, 'order_status': 1, 'satisfaction': 90.0}, {'customer_nr': 25, 'waiting_time': 5.0, 'order_status': 1, 'satisfaction': 90.0}, {'customer_nr': 26, 'waiting_time': 0.0, 'order_status': 1, 'satisfaction': 100.0}, {'customer_nr': 27, 'waiting_time': 0.0, 'order_status': 1, 'satisfaction': 100.0}, {'customer_nr': 28, 'waiting_time': 0.0, 'order_status': 1, 'satisfaction': 100.0}, {'customer_nr': 29, 'waiting_time': 0, 'order_status': 1, 'satisfaction': 100}, {'customer_nr': 30, 'waiting_time': 0, 'order_status': 1, 'satisfaction': 100}, {'customer_nr': 31, 'waiting_time': 0, 'order_status': 1, 'satisfaction': 100}, {'customer_nr': 32, 'waiting_time': 0, 'order_status': 1, 'satisfaction': 100}, {'customer_nr': 33, 'waiting_time': 0, 'order_status': 1, 'satisfaction': 100}, {'customer_nr': 34, 'waiting_time': 0, 'order_status': 1, 'satisfaction': 100}], 'Waiter_Info': [{'waiter_nr': 1, 'current_orders': {}, 'tips': 0, 'avg_rating': 0, 'served_customers': 0}, {'waiter_nr': 2, 'current_orders': {}, 'tips': 0, 'avg_rating': 0, 'served_customers': 0}]}, {'RunId': 3, 'iteration': 3, 'Step': 0, 'n_waiters': 2, 'grid_width': 50, 'grid_height': 50, 'Customer_Count': 4, 'Average_Wait_Time': np.float64(0.0), 'Average_Customer_Satisfaction': np.float64(100.0), 'Profit': np.float64(0.0), 'Customer_Info': [{'customer_nr': 4, 'waiting_time': 0, 'order_status': 1, 'satisfaction': 100}, {'customer_nr': 5, 'waiting_time': 0, 'order_status': 1, 'satisfaction': 100}, {'customer_nr': 6, 'waiting_time': 0, 'order_status': 1, 'satisfaction': 100}, {'customer_nr': 7, 'waiting_time': 0, 'order_status': 1, 'satisfaction': 100}], 'Waiter_Info': [{'waiter_nr': 1, 'current_orders': {}, 'tips': 0, 'avg_rating': 0, 'served_customers': 0}, {'waiter_nr': 2, 'current_orders': {}, 'tips': 0, 'avg_rating': 0, 'served_customers': 0}]}, {'RunId': 3, 'iteration': 3, 'Step': 1, 'n_waiters': 2, 'grid_width': 50, 'grid_height': 50, 'Customer_Count': 6, 'Average_Wait_Time': np.float64(0.0), 'Average_Customer_Satisfaction': np.float64(100.0), 'Profit': np.float64(0.0), 'Customer_Info': [{'customer_nr': 4, 'waiting_time': 0.0, 'order_status': 1, 'satisfaction': 100.0}, {'customer_nr': 5, 'waiting_time': 0.0, 'order_status': 1, 'satisfaction': 100.0}, {'customer_nr': 6, 'waiting_time': 0.0, 'order_status': 1, 'satisfaction': 100.0}, {'customer_nr': 7, 'waiting_time': 0.0, 'order_status': 1, 'satisfaction': 100.0}, {'customer_nr': 8, 'waiting_time': 0, 'order_status': 1, 'satisfaction': 100}, {'customer_nr': 9, 'waiting_time': 0, 'order_status': 1, 'satisfaction': 100}], 'Waiter_Info': [{'waiter_nr': 1, 'current_orders': {}, 'tips': 0, 'avg_rating': 0, 'served_customers': 0}, {'waiter_nr': 2, 'current_orders': {}, 'tips': 0, 'avg_rating': 0, 'served_customers': 0}]}, {'RunId': 3, 'iteration': 3, 'Step': 2, 'n_waiters': 2, 'grid_width': 50, 'grid_height': 50, 'Customer_Count': 8, 'Average_Wait_Time': np.float64(2.5), 'Average_Customer_Satisfaction': np.float64(95.0), 'Profit': np.float64(0.0), 'Customer_Info': [{'customer_nr': 4, 'waiting_time': 5.0, 'order_status': 1, 'satisfaction': 90.0}, {'customer_nr': 5, 'waiting_time': 5.0, 'order_status': 1, 'satisfaction': 90.0}, {'customer_nr': 6, 'waiting_time': 5.0, 'order_status': 1, 'satisfaction': 90.0}, {'customer_nr': 7, 'waiting_time': 5.0, 'order_status': 1, 'satisfaction': 90.0}, {'customer_nr': 8, 'waiting_time': 0.0, 'order_status': 1, 'satisfaction': 100.0}, {'customer_nr': 9, 'waiting_time': 0.0, 'order_status': 1, 'satisfaction': 100.0}, {'customer_nr': 10, 'waiting_time': 0, 'order_status': 1, 'satisfaction': 100}, {'customer_nr': 11, 'waiting_time': 0, 'order_status': 1, 'satisfaction': 100}], 'Waiter_Info': [{'waiter_nr': 1, 'current_orders': {}, 'tips': 0, 'avg_rating': 0, 'served_customers': 0}, {'waiter_nr': 2, 'current_orders': {}, 'tips': 0, 'avg_rating': 0, 'served_customers': 0}]}, {'RunId': 3, 'iteration': 3, 'Step': 3, 'n_waiters': 2, 'grid_width': 50, 'grid_height': 50, 'Customer_Count': 9, 'Average_Wait_Time': np.float64(5.555555555555555), 'Average_Customer_Satisfaction': np.float64(88.88888888888889), 'Profit': np.float64(0.0), 'Customer_Info': [{'customer_nr': 4, 'waiting_time': 10.0, 'order_status': 1, 'satisfaction': 80.0}, {'customer_nr': 5, 'waiting_time': 10.0, 'order_status': 1, 'satisfaction': 80.0}, {'customer_nr': 6, 'waiting_time': 10.0, 'order_status': 1, 'satisfaction': 80.0}, {'customer_nr': 7, 'waiting_time': 10.0, 'order_status': 1, 'satisfaction': 80.0}, {'customer_nr': 8, 'waiting_time': 5.0, 'order_status': 1, 'satisfaction': 90.0}, {'customer_nr': 9, 'waiting_time': 5.0, 'order_status': 1, 'satisfaction': 90.0}, {'customer_nr': 10, 'waiting_time': 0.0, 'order_status': 1, 'satisfaction': 100.0}, {'customer_nr': 11, 'waiting_time': 0.0, 'order_status': 1, 'satisfaction': 100.0}, {'customer_nr': 12, 'waiting_time': 0, 'order_status': 1, 'satisfaction': 100}], 'Waiter_Info': [{'waiter_nr': 1, 'current_orders': {}, 'tips': 0, 'avg_rating': 0, 'served_customers': 0}, {'waiter_nr': 2, 'current_orders': {}, 'tips': 0, 'avg_rating': 0, 'served_customers': 0}]}, {'RunId': 3, 'iteration': 3, 'Step': 4, 'n_waiters': 2, 'grid_width': 50, 'grid_height': 50, 'Customer_Count': 11, 'Average_Wait_Time': np.float64(8.181818181818182), 'Average_Customer_Satisfaction': np.float64(83.63636363636364), 'Profit': np.float64(0.0), 'Customer_Info': [{'customer_nr': 4, 'waiting_time': 15.0, 'order_status': 1, 'satisfaction': 70.0}, {'customer_nr': 5, 'waiting_time': 15.0, 'order_status': 1, 'satisfaction': 70.0}, {'customer_nr': 6, 'waiting_time': 15.0, 'order_status': 1, 'satisfaction': 70.0}, {'customer_nr': 7, 'waiting_time': 15.0, 'order_status': 1, 'satisfaction': 70.0}, {'customer_nr': 8, 'waiting_time': 10.0, 'order_status': 1, 'satisfaction': 80.0}, {'customer_nr': 9, 'waiting_time': 10.0, 'order_status': 1, 'satisfaction': 80.0}, {'customer_nr': 10, 'waiting_time': 5.0, 'order_status': 1, 'satisfaction': 90.0}, {'customer_nr': 11, 'waiting_time': 5.0, 'order_status': 1, 'satisfaction': 90.0}, {'customer_nr': 12, 'waiting_time': 0.0, 'order_status': 1, 'satisfaction': 100.0}, {'customer_nr': 13, 'waiting_time': 0, 'order_status': 1, 'satisfaction': 100}, {'customer_nr': 14, 'waiting_time': 0, 'order_status': 1, 'satisfaction': 100}], 'Waiter_Info': [{'waiter_nr': 1, 'current_orders': {}, 'tips': 0, 'avg_rating': 0, 'served_customers': 0}, {'waiter_nr': 2, 'current_orders': {}, 'tips': 0, 'avg_rating': 0, 'served_customers': 0}]}, {'RunId': 3, 'iteration': 3, 'Step': 5, 'n_waiters': 2, 'grid_width': 50, 'grid_height': 50, 'Customer_Count': 14, 'Average_Wait_Time': np.float64(9.642857142857142), 'Average_Customer_Satisfaction': np.float64(80.71428571428571), 'Profit': np.float64(0.0), 'Customer_Info': [{'customer_nr': 4, 'waiting_time': 20.0, 'order_status': 1, 'satisfaction': 60.0}, {'customer_nr': 5, 'waiting_time': 20.0, 'order_status': 1, 'satisfaction': 60.0}, {'customer_nr': 6, 'waiting_time': 20.0, 'order_status': 1, 'satisfaction': 60.0}, {'customer_nr': 7, 'waiting_time': 20.0, 'order_status': 1, 'satisfaction': 60.0}, {'customer_nr': 8, 'waiting_time': 15.0, 'order_status': 1, 'satisfaction': 70.0}, {'customer_nr': 9, 'waiting_time': 15.0, 'order_status': 1, 'satisfaction': 70.0}, {'customer_nr': 10, 'waiting_time': 10.0, 'order_status': 1, 'satisfaction': 80.0}, {'customer_nr': 11, 'waiting_time': 10.0, 'order_status': 1, 'satisfaction': 80.0}, {'customer_nr': 12, 'waiting_time': 5.0, 'order_status': 1, 'satisfaction': 90.0}, {'customer_nr': 13, 'waiting_time': 0.0, 'order_status': 1, 'satisfaction': 100.0}, {'customer_nr': 14, 'waiting_time': 0.0, 'order_status': 1, 'satisfaction': 100.0}, {'customer_nr': 15, 'waiting_time': 0, 'order_status': 1, 'satisfaction': 100}, {'customer_nr': 16, 'waiting_time': 0, 'order_status': 1, 'satisfaction': 100}, {'customer_nr': 17, 'waiting_time': 0, 'order_status': 1, 'satisfaction': 100}], 'Waiter_Info': [{'waiter_nr': 1, 'current_orders': {}, 'tips': 0, 'avg_rating': 0, 'served_customers': 0}, {'waiter_nr': 2, 'current_orders': {}, 'tips': 0, 'avg_rating': 0, 'served_customers': 0}]}, {'RunId': 3, 'iteration': 3, 'Step': 6, 'n_waiters': 2, 'grid_width': 50, 'grid_height': 50, 'Customer_Count': 15, 'Average_Wait_Time': np.float64(12.666666666666666), 'Average_Customer_Satisfaction': np.float64(74.66666666666667), 'Profit': np.float64(0.0), 'Customer_Info': [{'customer_nr': 4, 'waiting_time': 25.0, 'order_status': 1, 'satisfaction': 50.0}, {'customer_nr': 5, 'waiting_time': 25.0, 'order_status': 1, 'satisfaction': 50.0}, {'customer_nr': 6, 'waiting_time': 25.0, 'order_status': 1, 'satisfaction': 50.0}, {'customer_nr': 7, 'waiting_time': 25.0, 'order_status': 1, 'satisfaction': 50.0}, {'customer_nr': 8, 'waiting_time': 20.0, 'order_status': 1, 'satisfaction': 60.0}, {'customer_nr': 9, 'waiting_time': 20.0, 'order_status': 1, 'satisfaction': 60.0}, {'customer_nr': 10, 'waiting_time': 15.0, 'order_status': 1, 'satisfaction': 70.0}, {'customer_nr': 11, 'waiting_time': 15.0, 'order_status': 1, 'satisfaction': 70.0}, {'customer_nr': 12, 'waiting_time': 10.0, 'order_status': 1, 'satisfaction': 80.0}, {'customer_nr': 13, 'waiting_time': 5.0, 'order_status': 1, 'satisfaction': 90.0}, {'customer_nr': 14, 'waiting_time': 5.0, 'order_status': 1, 'satisfaction': 90.0}, {'customer_nr': 15, 'waiting_time': 0.0, 'order_status': 1, 'satisfaction': 100.0}, {'customer_nr': 16, 'waiting_time': 0.0, 'order_status': 1, 'satisfaction': 100.0}, {'customer_nr': 17, 'waiting_time': 0.0, 'order_status': 1, 'satisfaction': 100.0}, {'customer_nr': 18, 'waiting_time': 0, 'order_status': 1, 'satisfaction': 100}], 'Waiter_Info': [{'waiter_nr': 1, 'current_orders': {}, 'tips': 0, 'avg_rating': 0, 'served_customers': 0}, {'waiter_nr': 2, 'current_orders': {}, 'tips': 0, 'avg_rating': 0, 'served_customers': 0}]}, {'RunId': 3, 'iteration': 3, 'Step': 7, 'n_waiters': 2, 'grid_width': 50, 'grid_height': 50, 'Customer_Count': 19, 'Average_Wait_Time': np.float64(13.68421052631579), 'Average_Customer_Satisfaction': np.float64(72.63157894736842), 'Profit': np.float64(0.0), 'Customer_Info': [{'customer_nr': 4, 'waiting_time': 30.0, 'order_status': 1, 'satisfaction': 40.0}, {'customer_nr': 5, 'waiting_time': 30.0, 'order_status': 1, 'satisfaction': 40.0}, {'customer_nr': 6, 'waiting_time': 30.0, 'order_status': 1, 'satisfaction': 40.0}, {'customer_nr': 7, 'waiting_time': 30.0, 'order_status': 1, 'satisfaction': 40.0}, {'customer_nr': 8, 'waiting_time': 25.0, 'order_status': 1, 'satisfaction': 50.0}, {'customer_nr': 9, 'waiting_time': 25.0, 'order_status': 1, 'satisfaction': 50.0}, {'customer_nr': 10, 'waiting_time': 20.0, 'order_status': 1, 'satisfaction': 60.0}, {'customer_nr': 11, 'waiting_time': 20.0, 'order_status': 1, 'satisfaction': 60.0}, {'customer_nr': 12, 'waiting_time': 15.0, 'order_status': 1, 'satisfaction': 70.0}, {'customer_nr': 13, 'waiting_time': 10.0, 'order_status': 1, 'satisfaction': 80.0}, {'customer_nr': 14, 'waiting_time': 10.0, 'order_status': 1, 'satisfaction': 80.0}, {'customer_nr': 15, 'waiting_time': 5.0, 'order_status': 1, 'satisfaction': 90.0}, {'customer_nr': 16, 'waiting_time': 5.0, 'order_status': 1, 'satisfaction': 90.0}, {'customer_nr': 17, 'waiting_time': 5.0, 'order_status': 1, 'satisfaction': 90.0}, {'customer_nr': 18, 'waiting_time': 0.0, 'order_status': 1, 'satisfaction': 100.0}, {'customer_nr': 19, 'waiting_time': 0, 'order_status': 1, 'satisfaction': 100}, {'customer_nr': 20, 'waiting_time': 0, 'order_status': 1, 'satisfaction': 100}, {'customer_nr': 21, 'waiting_time': 0, 'order_status': 1, 'satisfaction': 100}, {'customer_nr': 22, 'waiting_time': 0, 'order_status': 1, 'satisfaction': 100}], 'Waiter_Info': [{'waiter_nr': 1, 'current_orders': {}, 'tips': 0, 'avg_rating': 0, 'served_customers': 0}, {'waiter_nr': 2, 'current_orders': {}, 'tips': 0, 'avg_rating': 0, 'served_customers': 0}]}, {'RunId': 3, 'iteration': 3, 'Step': 8, 'n_waiters': 2, 'grid_width': 50, 'grid_height': 50, 'Customer_Count': 23, 'Average_Wait_Time': np.float64(14.565217391304348), 'Average_Customer_Satisfaction': np.float64(70.8695652173913), 'Profit': np.float64(0.0), 'Customer_Info': [{'customer_nr': 4, 'waiting_time': 35.0, 'order_status': 1, 'satisfaction': 30.0}, {'customer_nr': 5, 'waiting_time': 35.0, 'order_status': 1, 'satisfaction': 30.0}, {'customer_nr': 6, 'waiting_time': 35.0, 'order_status': 1, 'satisfaction': 30.0}, {'customer_nr': 7, 'waiting_time': 35.0, 'order_status': 1, 'satisfaction': 30.0}, {'customer_nr': 8, 'waiting_time': 30.0, 'order_status': 1, 'satisfaction': 40.0}, {'customer_nr': 9, 'waiting_time': 30.0, 'order_status': 1, 'satisfaction': 40.0}, {'customer_nr': 10, 'waiting_time': 25.0, 'order_status': 1, 'satisfaction': 50.0}, {'customer_nr': 11, 'waiting_time': 25.0, 'order_status': 1, 'satisfaction': 50.0}, {'customer_nr': 12, 'waiting_time': 20.0, 'order_status': 1, 'satisfaction': 60.0}, {'customer_nr': 13, 'waiting_time': 15.0, 'order_status': 1, 'satisfaction': 70.0}, {'customer_nr': 14, 'waiting_time': 15.0, 'order_status': 1, 'satisfaction': 70.0}, {'customer_nr': 15, 'waiting_time': 10.0, 'order_status': 1, 'satisfaction': 80.0}, {'customer_nr': 16, 'waiting_time': 10.0, 'order_status': 1, 'satisfaction': 80.0}, {'customer_nr': 17, 'waiting_time': 10.0, 'order_status': 1, 'satisfaction': 80.0}, {'customer_nr': 18, 'waiting_time': 5.0, 'order_status': 1, 'satisfaction': 90.0}, {'customer_nr': 19, 'waiting_time': 0.0, 'order_status': 1, 'satisfaction': 100.0}, {'customer_nr': 20, 'waiting_time': 0.0, 'order_status': 1, 'satisfaction': 100.0}, {'customer_nr': 21, 'waiting_time': 0.0, 'order_status': 1, 'satisfaction': 100.0}, {'customer_nr': 22, 'waiting_time': 0.0, 'order_status': 1, 'satisfaction': 100.0}, {'customer_nr': 23, 'waiting_time': 0, 'order_status': 1, 'satisfaction': 100}, {'customer_nr': 24, 'waiting_time': 0, 'order_status': 1, 'satisfaction': 100}, {'customer_nr': 25, 'waiting_time': 0, 'order_status': 1, 'satisfaction': 100}, {'customer_nr': 26, 'waiting_time': 0, 'order_status': 1, 'satisfaction': 100}], 'Waiter_Info': [{'waiter_nr': 1, 'current_orders': {}, 'tips': 0, 'avg_rating': 0, 'served_customers': 0}, {'waiter_nr': 2, 'current_orders': {}, 'tips': 0, 'avg_rating': 0, 'served_customers': 0}]}, {'RunId': 3, 'iteration': 3, 'Step': 9, 'n_waiters': 2, 'grid_width': 50, 'grid_height': 50, 'Customer_Count': 25, 'Average_Wait_Time': np.float64(17.2), 'Average_Customer_Satisfaction': np.float64(65.6), 'Profit': np.float64(0.0), 'Customer_Info': [{'customer_nr': 4, 'waiting_time': 40.0, 'order_status': 1, 'satisfaction': 20.0}, {'customer_nr': 5, 'waiting_time': 40.0, 'order_status': 1, 'satisfaction': 20.0}, {'customer_nr': 6, 'waiting_time': 40.0, 'order_status': 1, 'satisfaction': 20.0}, {'customer_nr': 7, 'waiting_time': 40.0, 'order_status': 1, 'satisfaction': 20.0}, {'customer_nr': 8, 'waiting_time': 35.0, 'order_status': 1, 'satisfaction': 30.0}, {'customer_nr': 9, 'waiting_time': 35.0, 'order_status': 1, 'satisfaction': 30.0}, {'customer_nr': 10, 'waiting_time': 30.0, 'order_status': 1, 'satisfaction': 40.0}, {'customer_nr': 11, 'waiting_time': 30.0, 'order_status': 1, 'satisfaction': 40.0}, {'customer_nr': 12, 'waiting_time': 25.0, 'order_status': 1, 'satisfaction': 50.0}, {'customer_nr': 13, 'waiting_time': 20.0, 'order_status': 1, 'satisfaction': 60.0}, {'customer_nr': 14, 'waiting_time': 20.0, 'order_status': 1, 'satisfaction': 60.0}, {'customer_nr': 15, 'waiting_time': 15.0, 'order_status': 1, 'satisfaction': 70.0}, {'customer_nr': 16, 'waiting_time': 15.0, 'order_status': 1, 'satisfaction': 70.0}, {'customer_nr': 17, 'waiting_time': 15.0, 'order_status': 1, 'satisfaction': 70.0}, {'customer_nr': 18, 'waiting_time': 10.0, 'order_status': 1, 'satisfaction': 80.0}, {'customer_nr': 19, 'waiting_time': 5.0, 'order_status': 1, 'satisfaction': 90.0}, {'customer_nr': 20, 'waiting_time': 5.0, 'order_status': 1, 'satisfaction': 90.0}, {'customer_nr': 21, 'waiting_time': 5.0, 'order_status': 1, 'satisfaction': 90.0}, {'customer_nr': 22, 'waiting_time': 5.0, 'order_status': 1, 'satisfaction': 90.0}, {'customer_nr': 23, 'waiting_time': 0.0, 'order_status': 1, 'satisfaction': 100.0}, {'customer_nr': 24, 'waiting_time': 0.0, 'order_status': 1, 'satisfaction': 100.0}, {'customer_nr': 25, 'waiting_time': 0.0, 'order_status': 1, 'satisfaction': 100.0}, {'customer_nr': 26, 'waiting_time': 0.0, 'order_status': 1, 'satisfaction': 100.0}, {'customer_nr': 27, 'waiting_time': 0, 'order_status': 1, 'satisfaction': 100}, {'customer_nr': 28, 'waiting_time': 0, 'order_status': 1, 'satisfaction': 100}], 'Waiter_Info': [{'waiter_nr': 1, 'current_orders': {}, 'tips': 0, 'avg_rating': 0, 'served_customers': 0}, {'waiter_nr': 2, 'current_orders': {}, 'tips': 0, 'avg_rating': 0, 'served_customers': 0}]}, {'RunId': 3, 'iteration': 3, 'Step': 10, 'n_waiters': 2, 'grid_width': 50, 'grid_height': 50, 'Customer_Count': 27, 'Average_Wait_Time': np.float64(20.185185185185187), 'Average_Customer_Satisfaction': np.float64(59.629629629629626), 'Profit': np.float64(0.0), 'Customer_Info': [{'customer_nr': 4, 'waiting_time': 45.0, 'order_status': 1, 'satisfaction': 10.0}, {'customer_nr': 5, 'waiting_time': 45.0, 'order_status': 1, 'satisfaction': 10.0}, {'customer_nr': 6, 'waiting_time': 45.0, 'order_status': 1, 'satisfaction': 10.0}, {'customer_nr': 7, 'waiting_time': 45.0, 'order_status': 1, 'satisfaction': 10.0}, {'customer_nr': 8, 'waiting_time': 40.0, 'order_status': 1, 'satisfaction': 20.0}, {'customer_nr': 9, 'waiting_time': 40.0, 'order_status': 1, 'satisfaction': 20.0}, {'customer_nr': 10, 'waiting_time': 35.0, 'order_status': 1, 'satisfaction': 30.0}, {'customer_nr': 11, 'waiting_time': 35.0, 'order_status': 1, 'satisfaction': 30.0}, {'customer_nr': 12, 'waiting_time': 30.0, 'order_status': 1, 'satisfaction': 40.0}, {'customer_nr': 13, 'waiting_time': 25.0, 'order_status': 1, 'satisfaction': 50.0}, {'customer_nr': 14, 'waiting_time': 25.0, 'order_status': 1, 'satisfaction': 50.0}, {'customer_nr': 15, 'waiting_time': 20.0, 'order_status': 1, 'satisfaction': 60.0}, {'customer_nr': 16, 'waiting_time': 20.0, 'order_status': 1, 'satisfaction': 60.0}, {'customer_nr': 17, 'waiting_time': 20.0, 'order_status': 1, 'satisfaction': 60.0}, {'customer_nr': 18, 'waiting_time': 15.0, 'order_status': 1, 'satisfaction': 70.0}, {'customer_nr': 19, 'waiting_time': 10.0, 'order_status': 1, 'satisfaction': 80.0}, {'customer_nr': 20, 'waiting_time': 10.0, 'order_status': 1, 'satisfaction': 80.0}, {'customer_nr': 21, 'waiting_time': 10.0, 'order_status': 1, 'satisfaction': 80.0}, {'customer_nr': 22, 'waiting_time': 10.0, 'order_status': 1, 'satisfaction': 80.0}, {'customer_nr': 23, 'waiting_time': 5.0, 'order_status': 1, 'satisfaction': 90.0}, {'customer_nr': 24, 'waiting_time': 5.0, 'order_status': 1, 'satisfaction': 90.0}, {'customer_nr': 25, 'waiting_time': 5.0, 'order_status': 1, 'satisfaction': 90.0}, {'customer_nr': 26, 'waiting_time': 5.0, 'order_status': 1, 'satisfaction': 90.0}, {'customer_nr': 27, 'waiting_time': 0.0, 'order_status': 1, 'satisfaction': 100.0}, {'customer_nr': 28, 'waiting_time': 0.0, 'order_status': 1, 'satisfaction': 100.0}, {'customer_nr': 29, 'waiting_time': 0, 'order_status': 1, 'satisfaction': 100}, {'customer_nr': 30, 'waiting_time': 0, 'order_status': 1, 'satisfaction': 100}], 'Waiter_Info': [{'waiter_nr': 1, 'current_orders': {}, 'tips': 0, 'avg_rating': 0, 'served_customers': 0}, {'waiter_nr': 2, 'current_orders': {}, 'tips': 0, 'avg_rating': 0, 'served_customers': 0}]}, {'RunId': 4, 'iteration': 4, 'Step': 0, 'n_waiters': 2, 'grid_width': 50, 'grid_height': 50, 'Customer_Count': 3, 'Average_Wait_Time': np.float64(0.0), 'Average_Customer_Satisfaction': np.float64(100.0), 'Profit': np.float64(0.0), 'Customer_Info': [{'customer_nr': 4, 'waiting_time': 0, 'order_status': 1, 'satisfaction': 100}, {'customer_nr': 5, 'waiting_time': 0, 'order_status': 1, 'satisfaction': 100}, {'customer_nr': 6, 'waiting_time': 0, 'order_status': 1, 'satisfaction': 100}], 'Waiter_Info': [{'waiter_nr': 1, 'current_orders': {}, 'tips': 0, 'avg_rating': 0, 'served_customers': 0}, {'waiter_nr': 2, 'current_orders': {}, 'tips': 0, 'avg_rating': 0, 'served_customers': 0}]}, {'RunId': 4, 'iteration': 4, 'Step': 1, 'n_waiters': 2, 'grid_width': 50, 'grid_height': 50, 'Customer_Count': 6, 'Average_Wait_Time': np.float64(0.0), 'Average_Customer_Satisfaction': np.float64(100.0), 'Profit': np.float64(0.0), 'Customer_Info': [{'customer_nr': 4, 'waiting_time': 0.0, 'order_status': 1, 'satisfaction': 100.0}, {'customer_nr': 5, 'waiting_time': 0.0, 'order_status': 1, 'satisfaction': 100.0}, {'customer_nr': 6, 'waiting_time': 0.0, 'order_status': 1, 'satisfaction': 100.0}, {'customer_nr': 7, 'waiting_time': 0, 'order_status': 1, 'satisfaction': 100}, {'customer_nr': 8, 'waiting_time': 0, 'order_status': 1, 'satisfaction': 100}, {'customer_nr': 9, 'waiting_time': 0, 'order_status': 1, 'satisfaction': 100}], 'Waiter_Info': [{'waiter_nr': 1, 'current_orders': {}, 'tips': 0, 'avg_rating': 0, 'served_customers': 0}, {'waiter_nr': 2, 'current_orders': {}, 'tips': 0, 'avg_rating': 0, 'served_customers': 0}]}, {'RunId': 4, 'iteration': 4, 'Step': 2, 'n_waiters': 2, 'grid_width': 50, 'grid_height': 50, 'Customer_Count': 8, 'Average_Wait_Time': np.float64(1.875), 'Average_Customer_Satisfaction': np.float64(96.25), 'Profit': np.float64(0.0), 'Customer_Info': [{'customer_nr': 4, 'waiting_time': 5.0, 'order_status': 1, 'satisfaction': 90.0}, {'customer_nr': 5, 'waiting_time': 5.0, 'order_status': 1, 'satisfaction': 90.0}, {'customer_nr': 6, 'waiting_time': 5.0, 'order_status': 1, 'satisfaction': 90.0}, {'customer_nr': 7, 'waiting_time': 0.0, 'order_status': 1, 'satisfaction': 100.0}, {'customer_nr': 8, 'waiting_time': 0.0, 'order_status': 1, 'satisfaction': 100.0}, {'customer_nr': 9, 'waiting_time': 0.0, 'order_status': 1, 'satisfaction': 100.0}, {'customer_nr': 10, 'waiting_time': 0, 'order_status': 1, 'satisfaction': 100}, {'customer_nr': 11, 'waiting_time': 0, 'order_status': 1, 'satisfaction': 100}], 'Waiter_Info': [{'waiter_nr': 1, 'current_orders': {}, 'tips': 0, 'avg_rating': 0, 'served_customers': 0}, {'waiter_nr': 2, 'current_orders': {}, 'tips': 0, 'avg_rating': 0, 'served_customers': 0}]}, {'RunId': 4, 'iteration': 4, 'Step': 3, 'n_waiters': 2, 'grid_width': 50, 'grid_height': 50, 'Customer_Count': 8, 'Average_Wait_Time': np.float64(5.625), 'Average_Customer_Satisfaction': np.float64(88.75), 'Profit': np.float64(0.0), 'Customer_Info': [{'customer_nr': 4, 'waiting_time': 10.0, 'order_status': 1, 'satisfaction': 80.0}, {'customer_nr': 5, 'waiting_time': 10.0, 'order_status': 1, 'satisfaction': 80.0}, {'customer_nr': 6, 'waiting_time': 10.0, 'order_status': 1, 'satisfaction': 80.0}, {'customer_nr': 7, 'waiting_time': 5.0, 'order_status': 1, 'satisfaction': 90.0}, {'customer_nr': 8, 'waiting_time': 5.0, 'order_status': 1, 'satisfaction': 90.0}, {'customer_nr': 9, 'waiting_time': 5.0, 'order_status': 1, 'satisfaction': 90.0}, {'customer_nr': 10, 'waiting_time': 0.0, 'order_status': 1, 'satisfaction': 100.0}, {'customer_nr': 11, 'waiting_time': 0.0, 'order_status': 1, 'satisfaction': 100.0}], 'Waiter_Info': [{'waiter_nr': 1, 'current_orders': {}, 'tips': 0, 'avg_rating': 0, 'served_customers': 0}, {'waiter_nr': 2, 'current_orders': {}, 'tips': 0, 'avg_rating': 0, 'served_customers': 0}]}, {'RunId': 4, 'iteration': 4, 'Step': 4, 'n_waiters': 2, 'grid_width': 50, 'grid_height': 50, 'Customer_Count': 12, 'Average_Wait_Time': np.float64(7.083333333333333), 'Average_Customer_Satisfaction': np.float64(85.83333333333333), 'Profit': np.float64(0.0), 'Customer_Info': [{'customer_nr': 4, 'waiting_time': 15.0, 'order_status': 1, 'satisfaction': 70.0}, {'customer_nr': 5, 'waiting_time': 15.0, 'order_status': 1, 'satisfaction': 70.0}, {'customer_nr': 6, 'waiting_time': 15.0, 'order_status': 1, 'satisfaction': 70.0}, {'customer_nr': 7, 'waiting_time': 10.0, 'order_status': 1, 'satisfaction': 80.0}, {'customer_nr': 8, 'waiting_time': 10.0, 'order_status': 1, 'satisfaction': 80.0}, {'customer_nr': 9, 'waiting_time': 10.0, 'order_status': 1, 'satisfaction': 80.0}, {'customer_nr': 10, 'waiting_time': 5.0, 'order_status': 1, 'satisfaction': 90.0}, {'customer_nr': 11, 'waiting_time': 5.0, 'order_status': 1, 'satisfaction': 90.0}, {'customer_nr': 12, 'waiting_time': 0, 'order_status': 1, 'satisfaction': 100}, {'customer_nr': 13, 'waiting_time': 0, 'order_status': 1, 'satisfaction': 100}, {'customer_nr': 14, 'waiting_time': 0, 'order_status': 1, 'satisfaction': 100}, {'customer_nr': 15, 'waiting_time': 0, 'order_status': 1, 'satisfaction': 100}], 'Waiter_Info': [{'waiter_nr': 1, 'current_orders': {}, 'tips': 0, 'avg_rating': 0, 'served_customers': 0}, {'waiter_nr': 2, 'current_orders': {}, 'tips': 0, 'avg_rating': 0, 'served_customers': 0}]}, {'RunId': 4, 'iteration': 4, 'Step': 5, 'n_waiters': 2, 'grid_width': 50, 'grid_height': 50, 'Customer_Count': 14, 'Average_Wait_Time': np.float64(8.928571428571429), 'Average_Customer_Satisfaction': np.float64(82.14285714285714), 'Profit': np.float64(0.0), 'Customer_Info': [{'customer_nr': 4, 'waiting_time': 20.0, 'order_status': 1, 'satisfaction': 60.0}, {'customer_nr': 5, 'waiting_time': 20.0, 'order_status': 1, 'satisfaction': 60.0}, {'customer_nr': 6, 'waiting_time': 20.0, 'order_status': 1, 'satisfaction': 60.0}, {'customer_nr': 7, 'waiting_time': 15.0, 'order_status': 1, 'satisfaction': 70.0}, {'customer_nr': 8, 'waiting_time': 15.0, 'order_status': 1, 'satisfaction': 70.0}, {'customer_nr': 9, 'waiting_time': 15.0, 'order_status': 1, 'satisfaction': 70.0}, {'customer_nr': 10, 'waiting_time': 10.0, 'order_status': 1, 'satisfaction': 80.0}, {'customer_nr': 11, 'waiting_time': 10.0, 'order_status': 1, 'satisfaction': 80.0}, {'customer_nr': 12, 'waiting_time': 0.0, 'order_status': 1, 'satisfaction': 100.0}, {'customer_nr': 13, 'waiting_time': 0.0, 'order_status': 1, 'satisfaction': 100.0}, {'customer_nr': 14, 'waiting_time': 0.0, 'order_status': 1, 'satisfaction': 100.0}, {'customer_nr': 15, 'waiting_time': 0.0, 'order_status': 1, 'satisfaction': 100.0}, {'customer_nr': 16, 'waiting_time': 0, 'order_status': 1, 'satisfaction': 100}, {'customer_nr': 17, 'waiting_time': 0, 'order_status': 1, 'satisfaction': 100}], 'Waiter_Info': [{'waiter_nr': 1, 'current_orders': {}, 'tips': 0, 'avg_rating': 0, 'served_customers': 0}, {'waiter_nr': 2, 'current_orders': {}, 'tips': 0, 'avg_rating': 0, 'served_customers': 0}]}, {'RunId': 4, 'iteration': 4, 'Step': 6, 'n_waiters': 2, 'grid_width': 50, 'grid_height': 50, 'Customer_Count': 16, 'Average_Wait_Time': np.float64(11.5625), 'Average_Customer_Satisfaction': np.float64(76.875), 'Profit': np.float64(0.0), 'Customer_Info': [{'customer_nr': 4, 'waiting_time': 25.0, 'order_status': 1, 'satisfaction': 50.0}, {'customer_nr': 5, 'waiting_time': 25.0, 'order_status': 1, 'satisfaction': 50.0}, {'customer_nr': 6, 'waiting_time': 25.0, 'order_status': 1, 'satisfaction': 50.0}, {'customer_nr': 7, 'waiting_time': 20.0, 'order_status': 1, 'satisfaction': 60.0}, {'customer_nr': 8, 'waiting_time': 20.0, 'order_status': 1, 'satisfaction': 60.0}, {'customer_nr': 9, 'waiting_time': 20.0, 'order_status': 1, 'satisfaction': 60.0}, {'customer_nr': 10, 'waiting_time': 15.0, 'order_status': 1, 'satisfaction': 70.0}, {'customer_nr': 11, 'waiting_time': 15.0, 'order_status': 1, 'satisfaction': 70.0}, {'customer_nr': 12, 'waiting_time': 5.0, 'order_status': 1, 'satisfaction': 90.0}, {'customer_nr': 13, 'waiting_time': 5.0, 'order_status': 1, 'satisfaction': 90.0}, {'customer_nr': 14, 'waiting_time': 5.0, 'order_status': 1, 'satisfaction': 90.0}, {'customer_nr': 15, 'waiting_time': 5.0, 'order_status': 1, 'satisfaction': 90.0}, {'customer_nr': 16, 'waiting_time': 0.0, 'order_status': 1, 'satisfaction': 100.0}, {'customer_nr': 17, 'waiting_time': 0.0, 'order_status': 1, 'satisfaction': 100.0}, {'customer_nr': 18, 'waiting_time': 0, 'order_status': 1, 'satisfaction': 100}, {'customer_nr': 19, 'waiting_time': 0, 'order_status': 1, 'satisfaction': 100}], 'Waiter_Info': [{'waiter_nr': 1, 'current_orders': {}, 'tips': 0, 'avg_rating': 0, 'served_customers': 0}, {'waiter_nr': 2, 'current_orders': {}, 'tips': 0, 'avg_rating': 0, 'served_customers': 0}]}, {'RunId': 4, 'iteration': 4, 'Step': 7, 'n_waiters': 2, 'grid_width': 50, 'grid_height': 50, 'Customer_Count': 17, 'Average_Wait_Time': np.float64(15.0), 'Average_Customer_Satisfaction': np.float64(70.0), 'Profit': np.float64(0.0), 'Customer_Info': [{'customer_nr': 4, 'waiting_time': 30.0, 'order_status': 1, 'satisfaction': 40.0}, {'customer_nr': 5, 'waiting_time': 30.0, 'order_status': 1, 'satisfaction': 40.0}, {'customer_nr': 6, 'waiting_time': 30.0, 'order_status': 1, 'satisfaction': 40.0}, {'customer_nr': 7, 'waiting_time': 25.0, 'order_status': 1, 'satisfaction': 50.0}, {'customer_nr': 8, 'waiting_time': 25.0, 'order_status': 1, 'satisfaction': 50.0}, {'customer_nr': 9, 'waiting_time': 25.0, 'order_status': 1, 'satisfaction': 50.0}, {'customer_nr': 10, 'waiting_time': 20.0, 'order_status': 1, 'satisfaction': 60.0}, {'customer_nr': 11, 'waiting_time': 20.0, 'order_status': 1, 'satisfaction': 60.0}, {'customer_nr': 12, 'waiting_time': 10.0, 'order_status': 1, 'satisfaction': 80.0}, {'customer_nr': 13, 'waiting_time': 10.0, 'order_status': 1, 'satisfaction': 80.0}, {'customer_nr': 14, 'waiting_time': 10.0, 'order_status': 1, 'satisfaction': 80.0}, {'customer_nr': 15, 'waiting_time': 10.0, 'order_status': 1, 'satisfaction': 80.0}, {'customer_nr': 16, 'waiting_time': 5.0, 'order_status': 1, 'satisfaction': 90.0}, {'customer_nr': 17, 'waiting_time': 5.0, 'order_status': 1, 'satisfaction': 90.0}, {'customer_nr': 18, 'waiting_time': 0.0, 'order_status': 1, 'satisfaction': 100.0}, {'customer_nr': 19, 'waiting_time': 0.0, 'order_status': 1, 'satisfaction': 100.0}, {'customer_nr': 20, 'waiting_time': 0, 'order_status': 1, 'satisfaction': 100}], 'Waiter_Info': [{'waiter_nr': 1, 'current_orders': {}, 'tips': 0, 'avg_rating': 0, 'served_customers': 0}, {'waiter_nr': 2, 'current_orders': {}, 'tips': 0, 'avg_rating': 0, 'served_customers': 0}]}, {'RunId': 4, 'iteration': 4, 'Step': 8, 'n_waiters': 2, 'grid_width': 50, 'grid_height': 50, 'Customer_Count': 22, 'Average_Wait_Time': np.float64(15.227272727272727), 'Average_Customer_Satisfaction': np.float64(69.54545454545455), 'Profit': np.float64(0.0), 'Customer_Info': [{'customer_nr': 4, 'waiting_time': 35.0, 'order_status': 1, 'satisfaction': 30.0}, {'customer_nr': 5, 'waiting_time': 35.0, 'order_status': 1, 'satisfaction': 30.0}, {'customer_nr': 6, 'waiting_time': 35.0, 'order_status': 1, 'satisfaction': 30.0}, {'customer_nr': 7, 'waiting_time': 30.0, 'order_status': 1, 'satisfaction': 40.0}, {'customer_nr': 8, 'waiting_time': 30.0, 'order_status': 1, 'satisfaction': 40.0}, {'customer_nr': 9, 'waiting_time': 30.0, 'order_status': 1, 'satisfaction': 40.0}, {'customer_nr': 10, 'waiting_time': 25.0, 'order_status': 1, 'satisfaction': 50.0}, {'customer_nr': 11, 'waiting_time': 25.0, 'order_status': 1, 'satisfaction': 50.0}, {'customer_nr': 12, 'waiting_time': 15.0, 'order_status': 1, 'satisfaction': 70.0}, {'customer_nr': 13, 'waiting_time': 15.0, 'order_status': 1, 'satisfaction': 70.0}, {'customer_nr': 14, 'waiting_time': 15.0, 'order_status': 1, 'satisfaction': 70.0}, {'customer_nr': 15, 'waiting_time': 15.0, 'order_status': 1, 'satisfaction': 70.0}, {'customer_nr': 16, 'waiting_time': 10.0, 'order_status': 1, 'satisfaction': 80.0}, {'customer_nr': 17, 'waiting_time': 10.0, 'order_status': 1, 'satisfaction': 80.0}, {'customer_nr': 18, 'waiting_time': 5.0, 'order_status': 1, 'satisfaction': 90.0}, {'customer_nr': 19, 'waiting_time': 5.0, 'order_status': 1, 'satisfaction': 90.0}, {'customer_nr': 20, 'waiting_time': 0.0, 'order_status': 1, 'satisfaction': 100.0}, {'customer_nr': 21, 'waiting_time': 0, 'order_status': 1, 'satisfaction': 100}, {'customer_nr': 22, 'waiting_time': 0, 'order_status': 1, 'satisfaction': 100}, {'customer_nr': 23, 'waiting_time': 0, 'order_status': 1, 'satisfaction': 100}, {'customer_nr': 24, 'waiting_time': 0, 'order_status': 1, 'satisfaction': 100}, {'customer_nr': 25, 'waiting_time': 0, 'order_status': 1, 'satisfaction': 100}], 'Waiter_Info': [{'waiter_nr': 1, 'current_orders': {}, 'tips': 0, 'avg_rating': 0, 'served_customers': 0}, {'waiter_nr': 2, 'current_orders': {}, 'tips': 0, 'avg_rating': 0, 'served_customers': 0}]}, {'RunId': 4, 'iteration': 4, 'Step': 9, 'n_waiters': 2, 'grid_width': 50, 'grid_height': 50, 'Customer_Count': 28, 'Average_Wait_Time': np.float64(15.0), 'Average_Customer_Satisfaction': np.float64(70.0), 'Profit': np.float64(0.0), 'Customer_Info': [{'customer_nr': 4, 'waiting_time': 40.0, 'order_status': 1, 'satisfaction': 20.0}, {'customer_nr': 5, 'waiting_time': 40.0, 'order_status': 1, 'satisfaction': 20.0}, {'customer_nr': 6, 'waiting_time': 40.0, 'order_status': 1, 'satisfaction': 20.0}, {'customer_nr': 7, 'waiting_time': 35.0, 'order_status': 1, 'satisfaction': 30.0}, {'customer_nr': 8, 'waiting_time': 35.0, 'order_status': 1, 'satisfaction': 30.0}, {'customer_nr': 9, 'waiting_time': 35.0, 'order_status': 1, 'satisfaction': 30.0}, {'customer_nr': 10, 'waiting_time': 30.0, 'order_status': 1, 'satisfaction': 40.0}, {'customer_nr': 11, 'waiting_time': 30.0, 'order_status': 1, 'satisfaction': 40.0}, {'customer_nr': 12, 'waiting_time': 20.0, 'order_status': 1, 'satisfaction': 60.0}, {'customer_nr': 13, 'waiting_time': 20.0, 'order_status': 1, 'satisfaction': 60.0}, {'customer_nr': 14, 'waiting_time': 20.0, 'order_status': 1, 'satisfaction': 60.0}, {'customer_nr': 15, 'waiting_time': 20.0, 'order_status': 1, 'satisfaction': 60.0}, {'customer_nr': 16, 'waiting_time': 15.0, 'order_status': 1, 'satisfaction': 70.0}, {'customer_nr': 17, 'waiting_time': 15.0, 'order_status': 1, 'satisfaction': 70.0}, {'customer_nr': 18, 'waiting_time': 10.0, 'order_status': 1, 'satisfaction': 80.0}, {'customer_nr': 19, 'waiting_time': 10.0, 'order_status': 1, 'satisfaction': 80.0}, {'customer_nr': 20, 'waiting_time': 5.0, 'order_status': 1, 'satisfaction': 90.0}, {'customer_nr': 21, 'waiting_time': 0.0, 'order_status': 1, 'satisfaction': 100.0}, {'customer_nr': 22, 'waiting_time': 0.0, 'order_status': 1, 'satisfaction': 100.0}, {'customer_nr': 23, 'waiting_time': 0.0, 'order_status': 1, 'satisfaction': 100.0}, {'customer_nr': 24, 'waiting_time': 0.0, 'order_status': 1, 'satisfaction': 100.0}, {'customer_nr': 25, 'waiting_time': 0.0, 'order_status': 1, 'satisfaction': 100.0}, {'customer_nr': 26, 'waiting_time': 0, 'order_status': 1, 'satisfaction': 100}, {'customer_nr': 27, 'waiting_time': 0, 'order_status': 1, 'satisfaction': 100}, {'customer_nr': 28, 'waiting_time': 0, 'order_status': 1, 'satisfaction': 100}, {'customer_nr': 29, 'waiting_time': 0, 'order_status': 1, 'satisfaction': 100}, {'customer_nr': 30, 'waiting_time': 0, 'order_status': 1, 'satisfaction': 100}, {'customer_nr': 31, 'waiting_time': 0, 'order_status': 1, 'satisfaction': 100}], 'Waiter_Info': [{'waiter_nr': 1, 'current_orders': {}, 'tips': 0, 'avg_rating': 0, 'served_customers': 0}, {'waiter_nr': 2, 'current_orders': {}, 'tips': 0, 'avg_rating': 0, 'served_customers': 0}]}, {'RunId': 4, 'iteration': 4, 'Step': 10, 'n_waiters': 2, 'grid_width': 50, 'grid_height': 50, 'Customer_Count': 28, 'Average_Wait_Time': np.float64(18.928571428571427), 'Average_Customer_Satisfaction': np.float64(62.142857142857146), 'Profit': np.float64(0.0), 'Customer_Info': [{'customer_nr': 4, 'waiting_time': 45.0, 'order_status': 1, 'satisfaction': 10.0}, {'customer_nr': 5, 'waiting_time': 45.0, 'order_status': 1, 'satisfaction': 10.0}, {'customer_nr': 6, 'waiting_time': 45.0, 'order_status': 1, 'satisfaction': 10.0}, {'customer_nr': 7, 'waiting_time': 40.0, 'order_status': 1, 'satisfaction': 20.0}, {'customer_nr': 8, 'waiting_time': 40.0, 'order_status': 1, 'satisfaction': 20.0}, {'customer_nr': 9, 'waiting_time': 40.0, 'order_status': 1, 'satisfaction': 20.0}, {'customer_nr': 10, 'waiting_time': 35.0, 'order_status': 1, 'satisfaction': 30.0}, {'customer_nr': 11, 'waiting_time': 35.0, 'order_status': 1, 'satisfaction': 30.0}, {'customer_nr': 12, 'waiting_time': 25.0, 'order_status': 1, 'satisfaction': 50.0}, {'customer_nr': 13, 'waiting_time': 25.0, 'order_status': 1, 'satisfaction': 50.0}, {'customer_nr': 14, 'waiting_time': 25.0, 'order_status': 1, 'satisfaction': 50.0}, {'customer_nr': 15, 'waiting_time': 25.0, 'order_status': 1, 'satisfaction': 50.0}, {'customer_nr': 16, 'waiting_time': 20.0, 'order_status': 1, 'satisfaction': 60.0}, {'customer_nr': 17, 'waiting_time': 20.0, 'order_status': 1, 'satisfaction': 60.0}, {'customer_nr': 18, 'waiting_time': 15.0, 'order_status': 1, 'satisfaction': 70.0}, {'customer_nr': 19, 'waiting_time': 15.0, 'order_status': 1, 'satisfaction': 70.0}, {'customer_nr': 20, 'waiting_time': 10.0, 'order_status': 1, 'satisfaction': 80.0}, {'customer_nr': 21, 'waiting_time': 5.0, 'order_status': 1, 'satisfaction': 90.0}, {'customer_nr': 22, 'waiting_time': 5.0, 'order_status': 1, 'satisfaction': 90.0}, {'customer_nr': 23, 'waiting_time': 5.0, 'order_status': 1, 'satisfaction': 90.0}, {'customer_nr': 24, 'waiting_time': 5.0, 'order_status': 1, 'satisfaction': 90.0}, {'customer_nr': 25, 'waiting_time': 5.0, 'order_status': 1, 'satisfaction': 90.0}, {'customer_nr': 26, 'waiting_time': 0.0, 'order_status': 1, 'satisfaction': 100.0}, {'customer_nr': 27, 'waiting_time': 0.0, 'order_status': 1, 'satisfaction': 100.0}, {'customer_nr': 28, 'waiting_time': 0.0, 'order_status': 1, 'satisfaction': 100.0}, {'customer_nr': 29, 'waiting_time': 0.0, 'order_status': 1, 'satisfaction': 100.0}, {'customer_nr': 30, 'waiting_time': 0.0, 'order_status': 1, 'satisfaction': 100.0}, {'customer_nr': 31, 'waiting_time': 0.0, 'order_status': 1, 'satisfaction': 100.0}], 'Waiter_Info': [{'waiter_nr': 1, 'current_orders': {}, 'tips': 0, 'avg_rating': 0, 'served_customers': 0}, {'waiter_nr': 2, 'current_orders': {}, 'tips': 0, 'avg_rating': 0, 'served_customers': 0}]}]\n"
     ]
    },
    {
     "name": "stderr",
     "output_type": "stream",
     "text": [
      "c:\\Users\\s.neumann\\AppData\\Local\\Programs\\Python\\Python312\\Lib\\site-packages\\numpy\\_core\\fromnumeric.py:3860: RuntimeWarning: Mean of empty slice.\n",
      "  return _methods._mean(a, axis=axis, dtype=dtype,\n",
      "c:\\Users\\s.neumann\\AppData\\Local\\Programs\\Python\\Python312\\Lib\\site-packages\\numpy\\_core\\_methods.py:145: RuntimeWarning: invalid value encountered in scalar divide\n",
      "  ret = ret.dtype.type(ret / rcount)\n"
     ]
    }
   ],
   "source": [
    "import mesa\n",
    "from mesa_restaurant_agents.model.restaurant_model import RestaurantModel\n",
    "\n",
    "params = {\"n_waiters\":2, \"grid_width\":50, \"grid_height\": 50}\n",
    "\n",
    "results = mesa.batch_run(\n",
    "    RestaurantModel,\n",
    "    parameters=params,\n",
    "    iterations=5,\n",
    "    max_steps=10,\n",
    "    number_processes=1,\n",
    "    data_collection_period=1,\n",
    "    display_progress=True,\n",
    ")\n",
    "print(results)"
   ]
  },
  {
   "cell_type": "code",
   "execution_count": 3,
   "metadata": {
    "ExecuteTime": {
     "end_time": "2025-02-20T19:42:12.223978Z",
     "start_time": "2025-02-20T19:42:11.838237Z"
    }
   },
   "outputs": [
    {
     "name": "stdout",
     "output_type": "stream",
     "text": [
      "[[0. 0. 0. 0. 0. 0. 0. 0. 0. 0. 0. 0. 0. 0. 0. 0. 0. 0. 0. 0. 0. 0. 0.]\n",
      " [0. 2. 0. 2. 0. 2. 0. 2. 0. 2. 0. 2. 0. 3. 0. 2. 0. 2. 0. 2. 0. 3. 0.]\n",
      " [0. 0. 0. 0. 0. 0. 0. 0. 0. 0. 0. 0. 0. 0. 0. 0. 0. 0. 0. 0. 0. 0. 0.]\n",
      " [0. 2. 0. 2. 0. 2. 0. 2. 0. 2. 0. 2. 0. 2. 0. 2. 0. 3. 0. 2. 0. 2. 0.]\n",
      " [0. 0. 0. 0. 0. 0. 0. 0. 0. 0. 0. 0. 0. 0. 0. 0. 0. 0. 0. 0. 0. 0. 0.]\n",
      " [0. 3. 0. 2. 0. 2. 0. 2. 0. 2. 0. 2. 0. 3. 0. 2. 0. 2. 0. 2. 0. 2. 0.]\n",
      " [0. 0. 0. 0. 0. 0. 0. 0. 0. 0. 0. 0. 0. 0. 0. 0. 0. 0. 0. 0. 0. 0. 0.]\n",
      " [0. 2. 0. 2. 0. 2. 0. 3. 0. 2. 0. 3. 0. 3. 0. 2. 0. 2. 0. 2. 0. 2. 0.]\n",
      " [0. 0. 0. 0. 0. 0. 0. 0. 0. 0. 0. 0. 0. 0. 0. 0. 0. 0. 0. 0. 0. 0. 0.]\n",
      " [0. 2. 0. 3. 0. 2. 0. 2. 0. 2. 0. 2. 0. 2. 0. 2. 0. 2. 0. 2. 0. 3. 0.]\n",
      " [0. 0. 0. 0. 0. 0. 0. 0. 0. 0. 0. 0. 0. 0. 0. 0. 0. 0. 0. 0. 0. 0. 0.]\n",
      " [0. 3. 0. 2. 0. 2. 0. 2. 0. 2. 0. 3. 0. 2. 0. 3. 0. 2. 0. 2. 0. 3. 0.]\n",
      " [0. 0. 0. 0. 0. 0. 0. 0. 0. 0. 0. 0. 0. 0. 0. 0. 0. 0. 0. 0. 0. 0. 0.]\n",
      " [0. 2. 0. 2. 0. 2. 0. 3. 0. 2. 0. 2. 0. 2. 0. 2. 0. 2. 0. 3. 0. 2. 0.]\n",
      " [0. 0. 0. 0. 0. 0. 0. 0. 0. 0. 0. 0. 0. 0. 0. 0. 0. 0. 0. 0. 0. 0. 0.]\n",
      " [0. 2. 0. 2. 0. 2. 0. 2. 0. 3. 0. 3. 0. 2. 0. 2. 0. 2. 0. 3. 0. 2. 0.]\n",
      " [0. 0. 0. 0. 0. 0. 0. 0. 0. 0. 0. 0. 0. 0. 0. 0. 0. 0. 1. 0. 0. 0. 0.]\n",
      " [0. 2. 0. 2. 0. 2. 0. 2. 0. 3. 0. 3. 0. 3. 0. 3. 0. 2. 0. 2. 0. 2. 0.]\n",
      " [0. 0. 0. 0. 0. 0. 0. 0. 0. 0. 0. 0. 0. 0. 0. 0. 0. 1. 0. 0. 0. 0. 0.]\n",
      " [0. 2. 0. 2. 0. 2. 0. 2. 0. 2. 0. 3. 0. 2. 0. 2. 0. 2. 0. 2. 0. 2. 0.]\n",
      " [0. 0. 0. 0. 0. 0. 0. 0. 0. 0. 0. 0. 1. 0. 0. 0. 0. 0. 0. 0. 0. 0. 0.]\n",
      " [0. 2. 0. 2. 0. 2. 0. 2. 0. 2. 0. 2. 0. 2. 0. 3. 0. 2. 0. 2. 0. 2. 0.]\n",
      " [0. 0. 0. 0. 0. 0. 0. 0. 0. 0. 0. 0. 0. 0. 0. 0. 0. 0. 0. 0. 0. 0. 0.]]\n"
     ]
    },
    {
     "data": {
      "text/plain": [
       "[Text(0.5, 1.0, 'Visualization of agents in grid')]"
      ]
     },
     "execution_count": 3,
     "metadata": {},
     "output_type": "execute_result"
    },
    {
     "data": {
      "image/png": "[encoded data removed]",
      "text/plain": [
       "<Figure size 500x500 with 1 Axes>"
      ]
     },
     "metadata": {},
     "output_type": "display_data"
    }
   ],
   "source": [
    "import seaborn as sns\n",
    "import numpy as np\n",
    "from mesa_restaurant_agents.agents.customer_agent import CustomerAgent\n",
    "from mesa_restaurant_agents.agents.manager_agent import ManagerAgent\n",
    "from mesa_restaurant_agents.agents.waiter_agent import WaiterAgent\n",
    "from mesa_restaurant_agents.utils.environment_definition import EnvironmentDefinition\n",
    "\n",
    "model = RestaurantModel(n_waiters=2, grid_width=23, grid_height=23)\n",
    "for i in range(10):\n",
    "    model.step()\n",
    "\n",
    "agents_position = np.zeros((model.grid.width, model.grid.height))\n",
    "for cell_content, (x, y) in model.grid.coord_iter():\n",
    "    if len(cell_content) > 0:\n",
    "        if isinstance(cell_content[0], CustomerAgent):\n",
    "            agents_position[x][y] = EnvironmentDefinition.OCCUPIED_TABLE.value\n",
    "        elif isinstance(cell_content[0], WaiterAgent):\n",
    "            agents_position[x][y] = EnvironmentDefinition.OCCUPIED.value\n",
    "        else:\n",
    "            agents_position[x][y] = 5\n",
    "\n",
    "for x in range(len(model.environment)):\n",
    "    for y in range(len(model.environment[x])):\n",
    "        if model.environment[x][y] == EnvironmentDefinition.FREE_TABLE.value:\n",
    "            agents_position[x][y] = EnvironmentDefinition.FREE_TABLE.value\n",
    "        elif model.environment[x][y] == EnvironmentDefinition.KITCHEN.value:\n",
    "            agents_position[x][y] = EnvironmentDefinition.KITCHEN.value\n",
    "\n",
    "mapping = {0: \"\", EnvironmentDefinition.FREE_TABLE.value: \"\",\n",
    "           EnvironmentDefinition.KITCHEN.value: \"\",\n",
    "           EnvironmentDefinition.OCCUPIED_TABLE.value: \"C\",\n",
    "           EnvironmentDefinition.OCCUPIED.value: \"W\", 5: \"M\"}\n",
    "\n",
    "annot = np.vectorize(mapping.get)(agents_position)\n",
    "    \n",
    "# Plot using seaborn, with a visual size of 5x5\n",
    "g = sns.heatmap(agents_position, cmap=\"viridis\", annot=annot, cbar=False, square=True, fmt=\"\")\n",
    "g.figure.set_size_inches(5, 5)\n",
    "g.set(title=\"Visualization of agents in grid\")"
   ]
  },
  {
   "cell_type": "code",
   "execution_count": 4,
   "metadata": {
    "ExecuteTime": {
     "end_time": "2025-02-20T19:42:21.711362Z",
     "start_time": "2025-02-20T19:42:21.561083Z"
    }
   },
   "outputs": [
    {
     "data": {
      "image/png": "[encoded data removed]",
      "text/plain": [
       "<Figure size 1500x1000 with 1 Axes>"
      ]
     },
     "metadata": {},
     "output_type": "display_data"
    },
    {
     "name": "stdout",
     "output_type": "stream",
     "text": [
      "None\n"
     ]
    },
    {
     "data": {
      "application/vnd.plotly.v1+json": {
       "config": {
        "plotlyServerURL": "https://plot.ly"
       },
       "data": [
        {
         "alignmentgroup": "True",
         "bingroup": "x",
         "histfunc": "sum",
         "hovertemplate": "customer_nr=4<br>step=%{x}<br>sum of waiting_time=%{y}<extra></extra>",
         "legendgroup": "4",
         "marker": {
          "color": "#636efa",
          "pattern": {
           "shape": ""
          }
         },
         "name": "4",
         "nbinsx": 11,
         "offsetgroup": "4",
         "orientation": "v",
         "showlegend": true,
         "type": "histogram",
         "x": [
          0,
          1,
          2,
          3,
          4,
          5,
          6,
          7,
          8,
          9,
          10
         ],
         "xaxis": "x",
         "y": [
          0,
          0,
          5,
          10,
          15,
          20,
          25,
          30,
          35,
          40,
          45
         ],
         "yaxis": "y"
        },
        {
         "alignmentgroup": "True",
         "bingroup": "x",
         "histfunc": "sum",
         "hovertemplate": "customer_nr=5<br>step=%{x}<br>sum of waiting_time=%{y}<extra></extra>",
         "legendgroup": "5",
         "marker": {
          "color": "#EF553B",
          "pattern": {
           "shape": ""
          }
         },
         "name": "5",
         "nbinsx": 11,
         "offsetgroup": "5",
         "orientation": "v",
         "showlegend": true,
         "type": "histogram",
         "x": [
          2,
          3,
          4,
          5,
          6,
          7,
          8,
          9,
          10
         ],
         "xaxis": "x",
         "y": [
          0,
          0,
          5,
          10,
          15,
          20,
          25,
          30,
          35
         ],
         "yaxis": "y"
        },
        {
         "alignmentgroup": "True",
         "bingroup": "x",
         "histfunc": "sum",
         "hovertemplate": "customer_nr=6<br>step=%{x}<br>sum of waiting_time=%{y}<extra></extra>",
         "legendgroup": "6",
         "marker": {
          "color": "#00cc96",
          "pattern": {
           "shape": ""
          }
         },
         "name": "6",
         "nbinsx": 11,
         "offsetgroup": "6",
         "orientation": "v",
         "showlegend": true,
         "type": "histogram",
         "x": [
          3,
          4,
          5,
          6,
          7,
          8,
          9,
          10
         ],
         "xaxis": "x",
         "y": [
          0,
          0,
          5,
          10,
          15,
          20,
          25,
          30
         ],
         "yaxis": "y"
        },
        {
         "alignmentgroup": "True",
         "bingroup": "x",
         "histfunc": "sum",
         "hovertemplate": "customer_nr=7<br>step=%{x}<br>sum of waiting_time=%{y}<extra></extra>",
         "legendgroup": "7",
         "marker": {
          "color": "#ab63fa",
          "pattern": {
           "shape": ""
          }
         },
         "name": "7",
         "nbinsx": 11,
         "offsetgroup": "7",
         "orientation": "v",
         "showlegend": true,
         "type": "histogram",
         "x": [
          4,
          5,
          6,
          7,
          8,
          9,
          10
         ],
         "xaxis": "x",
         "y": [
          0,
          0,
          5,
          10,
          15,
          20,
          25
         ],
         "yaxis": "y"
        },
        {
         "alignmentgroup": "True",
         "bingroup": "x",
         "histfunc": "sum",
         "hovertemplate": "customer_nr=8<br>step=%{x}<br>sum of waiting_time=%{y}<extra></extra>",
         "legendgroup": "8",
         "marker": {
          "color": "#FFA15A",
          "pattern": {
           "shape": ""
          }
         },
         "name": "8",
         "nbinsx": 11,
         "offsetgroup": "8",
         "orientation": "v",
         "showlegend": true,
         "type": "histogram",
         "x": [
          4,
          5,
          6,
          7,
          8,
          9,
          10
         ],
         "xaxis": "x",
         "y": [
          0,
          0,
          5,
          10,
          15,
          20,
          25
         ],
         "yaxis": "y"
        },
        {
         "alignmentgroup": "True",
         "bingroup": "x",
         "histfunc": "sum",
         "hovertemplate": "customer_nr=9<br>step=%{x}<br>sum of waiting_time=%{y}<extra></extra>",
         "legendgroup": "9",
         "marker": {
          "color": "#19d3f3",
          "pattern": {
           "shape": ""
          }
         },
         "name": "9",
         "nbinsx": 11,
         "offsetgroup": "9",
         "orientation": "v",
         "showlegend": true,
         "type": "histogram",
         "x": [
          5,
          6,
          7,
          8,
          9,
          10
         ],
         "xaxis": "x",
         "y": [
          0,
          0,
          5,
          10,
          15,
          20
         ],
         "yaxis": "y"
        },
        {
         "alignmentgroup": "True",
         "bingroup": "x",
         "histfunc": "sum",
         "hovertemplate": "customer_nr=10<br>step=%{x}<br>sum of waiting_time=%{y}<extra></extra>",
         "legendgroup": "10",
         "marker": {
          "color": "#FF6692",
          "pattern": {
           "shape": ""
          }
         },
         "name": "10",
         "nbinsx": 11,
         "offsetgroup": "10",
         "orientation": "v",
         "showlegend": true,
         "type": "histogram",
         "x": [
          6,
          7,
          8,
          9,
          10
         ],
         "xaxis": "x",
         "y": [
          0,
          0,
          5,
          10,
          15
         ],
         "yaxis": "y"
        },
        {
         "alignmentgroup": "True",
         "bingroup": "x",
         "histfunc": "sum",
         "hovertemplate": "customer_nr=11<br>step=%{x}<br>sum of waiting_time=%{y}<extra></extra>",
         "legendgroup": "11",
         "marker": {
          "color": "#B6E880",
          "pattern": {
           "shape": ""
          }
         },
         "name": "11",
         "nbinsx": 11,
         "offsetgroup": "11",
         "orientation": "v",
         "showlegend": true,
         "type": "histogram",
         "x": [
          7,
          8,
          9,
          10
         ],
         "xaxis": "x",
         "y": [
          0,
          0,
          5,
          10
         ],
         "yaxis": "y"
        },
        {
         "alignmentgroup": "True",
         "bingroup": "x",
         "histfunc": "sum",
         "hovertemplate": "customer_nr=12<br>step=%{x}<br>sum of waiting_time=%{y}<extra></extra>",
         "legendgroup": "12",
         "marker": {
          "color": "#FF97FF",
          "pattern": {
           "shape": ""
          }
         },
         "name": "12",
         "nbinsx": 11,
         "offsetgroup": "12",
         "orientation": "v",
         "showlegend": true,
         "type": "histogram",
         "x": [
          8,
          9,
          10
         ],
         "xaxis": "x",
         "y": [
          0,
          0,
          5
         ],
         "yaxis": "y"
        },
        {
         "alignmentgroup": "True",
         "bingroup": "x",
         "histfunc": "sum",
         "hovertemplate": "customer_nr=13<br>step=%{x}<br>sum of waiting_time=%{y}<extra></extra>",
         "legendgroup": "13",
         "marker": {
          "color": "#FECB52",
          "pattern": {
           "shape": ""
          }
         },
         "name": "13",
         "nbinsx": 11,
         "offsetgroup": "13",
         "orientation": "v",
         "showlegend": true,
         "type": "histogram",
         "x": [
          8,
          9,
          10
         ],
         "xaxis": "x",
         "y": [
          0,
          0,
          5
         ],
         "yaxis": "y"
        },
        {
         "alignmentgroup": "True",
         "bingroup": "x",
         "histfunc": "sum",
         "hovertemplate": "customer_nr=14<br>step=%{x}<br>sum of waiting_time=%{y}<extra></extra>",
         "legendgroup": "14",
         "marker": {
          "color": "#636efa",
          "pattern": {
           "shape": ""
          }
         },
         "name": "14",
         "nbinsx": 11,
         "offsetgroup": "14",
         "orientation": "v",
         "showlegend": true,
         "type": "histogram",
         "x": [
          8,
          9,
          10
         ],
         "xaxis": "x",
         "y": [
          0,
          0,
          5
         ],
         "yaxis": "y"
        },
        {
         "alignmentgroup": "True",
         "bingroup": "x",
         "histfunc": "sum",
         "hovertemplate": "customer_nr=15<br>step=%{x}<br>sum of waiting_time=%{y}<extra></extra>",
         "legendgroup": "15",
         "marker": {
          "color": "#EF553B",
          "pattern": {
           "shape": ""
          }
         },
         "name": "15",
         "nbinsx": 11,
         "offsetgroup": "15",
         "orientation": "v",
         "showlegend": true,
         "type": "histogram",
         "x": [
          8,
          9,
          10
         ],
         "xaxis": "x",
         "y": [
          0,
          0,
          5
         ],
         "yaxis": "y"
        },
        {
         "alignmentgroup": "True",
         "bingroup": "x",
         "histfunc": "sum",
         "hovertemplate": "customer_nr=16<br>step=%{x}<br>sum of waiting_time=%{y}<extra></extra>",
         "legendgroup": "16",
         "marker": {
          "color": "#00cc96",
          "pattern": {
           "shape": ""
          }
         },
         "name": "16",
         "nbinsx": 11,
         "offsetgroup": "16",
         "orientation": "v",
         "showlegend": true,
         "type": "histogram",
         "x": [
          9,
          10
         ],
         "xaxis": "x",
         "y": [
          0,
          0
         ],
         "yaxis": "y"
        },
        {
         "alignmentgroup": "True",
         "bingroup": "x",
         "histfunc": "sum",
         "hovertemplate": "customer_nr=17<br>step=%{x}<br>sum of waiting_time=%{y}<extra></extra>",
         "legendgroup": "17",
         "marker": {
          "color": "#ab63fa",
          "pattern": {
           "shape": ""
          }
         },
         "name": "17",
         "nbinsx": 11,
         "offsetgroup": "17",
         "orientation": "v",
         "showlegend": true,
         "type": "histogram",
         "x": [
          10
         ],
         "xaxis": "x",
         "y": [
          0
         ],
         "yaxis": "y"
        },
        {
         "alignmentgroup": "True",
         "bingroup": "x",
         "histfunc": "sum",
         "hovertemplate": "customer_nr=18<br>step=%{x}<br>sum of waiting_time=%{y}<extra></extra>",
         "legendgroup": "18",
         "marker": {
          "color": "#FFA15A",
          "pattern": {
           "shape": ""
          }
         },
         "name": "18",
         "nbinsx": 11,
         "offsetgroup": "18",
         "orientation": "v",
         "showlegend": true,
         "type": "histogram",
         "x": [
          10
         ],
         "xaxis": "x",
         "y": [
          0
         ],
         "yaxis": "y"
        }
       ],
       "layout": {
        "barmode": "group",
        "height": 400,
        "legend": {
         "title": {
          "text": "customer_nr"
         },
         "tracegroupgap": 0
        },
        "margin": {
         "t": 60
        },
        "template": {
         "data": {
          "bar": [
           {
            "error_x": {
             "color": "#2a3f5f"
            },
            "error_y": {
             "color": "#2a3f5f"
            },
            "marker": {
             "line": {
              "color": "#E5ECF6",
              "width": 0.5
             },
             "pattern": {
              "fillmode": "overlay",
              "size": 10,
              "solidity": 0.2
             }
            },
            "type": "bar"
           }
          ],
          "barpolar": [
           {
            "marker": {
             "line": {
              "color": "#E5ECF6",
              "width": 0.5
             },
             "pattern": {
              "fillmode": "overlay",
              "size": 10,
              "solidity": 0.2
             }
            },
            "type": "barpolar"
           }
          ],
          "carpet": [
           {
            "aaxis": {
             "endlinecolor": "#2a3f5f",
             "gridcolor": "white",
             "linecolor": "white",
             "minorgridcolor": "white",
             "startlinecolor": "#2a3f5f"
            },
            "baxis": {
             "endlinecolor": "#2a3f5f",
             "gridcolor": "white",
             "linecolor": "white",
             "minorgridcolor": "white",
             "startlinecolor": "#2a3f5f"
            },
            "type": "carpet"
           }
          ],
          "choropleth": [
           {
            "colorbar": {
             "outlinewidth": 0,
             "ticks": ""
            },
            "type": "choropleth"
           }
          ],
          "contour": [
           {
            "colorbar": {
             "outlinewidth": 0,
             "ticks": ""
            },
            "colorscale": [
             [
              0,
              "#0d0887"
             ],
             [
              0.1111111111111111,
              "#46039f"
             ],
             [
              0.2222222222222222,
              "#7201a8"
             ],
             [
              0.3333333333333333,
              "#9c179e"
             ],
             [
              0.4444444444444444,
              "#bd3786"
             ],
             [
              0.5555555555555556,
              "#d8576b"
             ],
             [
              0.6666666666666666,
              "#ed7953"
             ],
             [
              0.7777777777777778,
              "#fb9f3a"
             ],
             [
              0.8888888888888888,
              "#fdca26"
             ],
             [
              1,
              "#f0f921"
             ]
            ],
            "type": "contour"
           }
          ],
          "contourcarpet": [
           {
            "colorbar": {
             "outlinewidth": 0,
             "ticks": ""
            },
            "type": "contourcarpet"
           }
          ],
          "heatmap": [
           {
            "colorbar": {
             "outlinewidth": 0,
             "ticks": ""
            },
            "colorscale": [
             [
              0,
              "#0d0887"
             ],
             [
              0.1111111111111111,
              "#46039f"
             ],
             [
              0.2222222222222222,
              "#7201a8"
             ],
             [
              0.3333333333333333,
              "#9c179e"
             ],
             [
              0.4444444444444444,
              "#bd3786"
             ],
             [
              0.5555555555555556,
              "#d8576b"
             ],
             [
              0.6666666666666666,
              "#ed7953"
             ],
             [
              0.7777777777777778,
              "#fb9f3a"
             ],
             [
              0.8888888888888888,
              "#fdca26"
             ],
             [
              1,
              "#f0f921"
             ]
            ],
            "type": "heatmap"
           }
          ],
          "heatmapgl": [
           {
            "colorbar": {
             "outlinewidth": 0,
             "ticks": ""
            },
            "colorscale": [
             [
              0,
              "#0d0887"
             ],
             [
              0.1111111111111111,
              "#46039f"
             ],
             [
              0.2222222222222222,
              "#7201a8"
             ],
             [
              0.3333333333333333,
              "#9c179e"
             ],
             [
              0.4444444444444444,
              "#bd3786"
             ],
             [
              0.5555555555555556,
              "#d8576b"
             ],
             [
              0.6666666666666666,
              "#ed7953"
             ],
             [
              0.7777777777777778,
              "#fb9f3a"
             ],
             [
              0.8888888888888888,
              "#fdca26"
             ],
             [
              1,
              "#f0f921"
             ]
            ],
            "type": "heatmapgl"
           }
          ],
          "histogram": [
           {
            "marker": {
             "pattern": {
              "fillmode": "overlay",
              "size": 10,
              "solidity": 0.2
             }
            },
            "type": "histogram"
           }
          ],
          "histogram2d": [
           {
            "colorbar": {
             "outlinewidth": 0,
             "ticks": ""
            },
            "colorscale": [
             [
              0,
              "#0d0887"
             ],
             [
              0.1111111111111111,
              "#46039f"
             ],
             [
              0.2222222222222222,
              "#7201a8"
             ],
             [
              0.3333333333333333,
              "#9c179e"
             ],
             [
              0.4444444444444444,
              "#bd3786"
             ],
             [
              0.5555555555555556,
              "#d8576b"
             ],
             [
              0.6666666666666666,
              "#ed7953"
             ],
             [
              0.7777777777777778,
              "#fb9f3a"
             ],
             [
              0.8888888888888888,
              "#fdca26"
             ],
             [
              1,
              "#f0f921"
             ]
            ],
            "type": "histogram2d"
           }
          ],
          "histogram2dcontour": [
           {
            "colorbar": {
             "outlinewidth": 0,
             "ticks": ""
            },
            "colorscale": [
             [
              0,
              "#0d0887"
             ],
             [
              0.1111111111111111,
              "#46039f"
             ],
             [
              0.2222222222222222,
              "#7201a8"
             ],
             [
              0.3333333333333333,
              "#9c179e"
             ],
             [
              0.4444444444444444,
              "#bd3786"
             ],
             [
              0.5555555555555556,
              "#d8576b"
             ],
             [
              0.6666666666666666,
              "#ed7953"
             ],
             [
              0.7777777777777778,
              "#fb9f3a"
             ],
             [
              0.8888888888888888,
              "#fdca26"
             ],
             [
              1,
              "#f0f921"
             ]
            ],
            "type": "histogram2dcontour"
           }
          ],
          "mesh3d": [
           {
            "colorbar": {
             "outlinewidth": 0,
             "ticks": ""
            },
            "type": "mesh3d"
           }
          ],
          "parcoords": [
           {
            "line": {
             "colorbar": {
              "outlinewidth": 0,
              "ticks": ""
             }
            },
            "type": "parcoords"
           }
          ],
          "pie": [
           {
            "automargin": true,
            "type": "pie"
           }
          ],
          "scatter": [
           {
            "fillpattern": {
             "fillmode": "overlay",
             "size": 10,
             "solidity": 0.2
            },
            "type": "scatter"
           }
          ],
          "scatter3d": [
           {
            "line": {
             "colorbar": {
              "outlinewidth": 0,
              "ticks": ""
             }
            },
            "marker": {
             "colorbar": {
              "outlinewidth": 0,
              "ticks": ""
             }
            },
            "type": "scatter3d"
           }
          ],
          "scattercarpet": [
           {
            "marker": {
             "colorbar": {
              "outlinewidth": 0,
              "ticks": ""
             }
            },
            "type": "scattercarpet"
           }
          ],
          "scattergeo": [
           {
            "marker": {
             "colorbar": {
              "outlinewidth": 0,
              "ticks": ""
             }
            },
            "type": "scattergeo"
           }
          ],
          "scattergl": [
           {
            "marker": {
             "colorbar": {
              "outlinewidth": 0,
              "ticks": ""
             }
            },
            "type": "scattergl"
           }
          ],
          "scattermapbox": [
           {
            "marker": {
             "colorbar": {
              "outlinewidth": 0,
              "ticks": ""
             }
            },
            "type": "scattermapbox"
           }
          ],
          "scatterpolar": [
           {
            "marker": {
             "colorbar": {
              "outlinewidth": 0,
              "ticks": ""
             }
            },
            "type": "scatterpolar"
           }
          ],
          "scatterpolargl": [
           {
            "marker": {
             "colorbar": {
              "outlinewidth": 0,
              "ticks": ""
             }
            },
            "type": "scatterpolargl"
           }
          ],
          "scatterternary": [
           {
            "marker": {
             "colorbar": {
              "outlinewidth": 0,
              "ticks": ""
             }
            },
            "type": "scatterternary"
           }
          ],
          "surface": [
           {
            "colorbar": {
             "outlinewidth": 0,
             "ticks": ""
            },
            "colorscale": [
             [
              0,
              "#0d0887"
             ],
             [
              0.1111111111111111,
              "#46039f"
             ],
             [
              0.2222222222222222,
              "#7201a8"
             ],
             [
              0.3333333333333333,
              "#9c179e"
             ],
             [
              0.4444444444444444,
              "#bd3786"
             ],
             [
              0.5555555555555556,
              "#d8576b"
             ],
             [
              0.6666666666666666,
              "#ed7953"
             ],
             [
              0.7777777777777778,
              "#fb9f3a"
             ],
             [
              0.8888888888888888,
              "#fdca26"
             ],
             [
              1,
              "#f0f921"
             ]
            ],
            "type": "surface"
           }
          ],
          "table": [
           {
            "cells": {
             "fill": {
              "color": "#EBF0F8"
             },
             "line": {
              "color": "white"
             }
            },
            "header": {
             "fill": {
              "color": "#C8D4E3"
             },
             "line": {
              "color": "white"
             }
            },
            "type": "table"
           }
          ]
         },
         "layout": {
          "annotationdefaults": {
           "arrowcolor": "#2a3f5f",
           "arrowhead": 0,
           "arrowwidth": 1
          },
          "autotypenumbers": "strict",
          "coloraxis": {
           "colorbar": {
            "outlinewidth": 0,
            "ticks": ""
           }
          },
          "colorscale": {
           "diverging": [
            [
             0,
             "#8e0152"
            ],
            [
             0.1,
             "#c51b7d"
            ],
            [
             0.2,
             "#de77ae"
            ],
            [
             0.3,
             "#f1b6da"
            ],
            [
             0.4,
             "#fde0ef"
            ],
            [
             0.5,
             "#f7f7f7"
            ],
            [
             0.6,
             "#e6f5d0"
            ],
            [
             0.7,
             "#b8e186"
            ],
            [
             0.8,
             "#7fbc41"
            ],
            [
             0.9,
             "#4d9221"
            ],
            [
             1,
             "#276419"
            ]
           ],
           "sequential": [
            [
             0,
             "#0d0887"
            ],
            [
             0.1111111111111111,
             "#46039f"
            ],
            [
             0.2222222222222222,
             "#7201a8"
            ],
            [
             0.3333333333333333,
             "#9c179e"
            ],
            [
             0.4444444444444444,
             "#bd3786"
            ],
            [
             0.5555555555555556,
             "#d8576b"
            ],
            [
             0.6666666666666666,
             "#ed7953"
            ],
            [
             0.7777777777777778,
             "#fb9f3a"
            ],
            [
             0.8888888888888888,
             "#fdca26"
            ],
            [
             1,
             "#f0f921"
            ]
           ],
           "sequentialminus": [
            [
             0,
             "#0d0887"
            ],
            [
             0.1111111111111111,
             "#46039f"
            ],
            [
             0.2222222222222222,
             "#7201a8"
            ],
            [
             0.3333333333333333,
             "#9c179e"
            ],
            [
             0.4444444444444444,
             "#bd3786"
            ],
            [
             0.5555555555555556,
             "#d8576b"
            ],
            [
             0.6666666666666666,
             "#ed7953"
            ],
            [
             0.7777777777777778,
             "#fb9f3a"
            ],
            [
             0.8888888888888888,
             "#fdca26"
            ],
            [
             1,
             "#f0f921"
            ]
           ]
          },
          "colorway": [
           "#636efa",
           "#EF553B",
           "#00cc96",
           "#ab63fa",
           "#FFA15A",
           "#19d3f3",
           "#FF6692",
           "#B6E880",
           "#FF97FF",
           "#FECB52"
          ],
          "font": {
           "color": "#2a3f5f"
          },
          "geo": {
           "bgcolor": "white",
           "lakecolor": "white",
           "landcolor": "#E5ECF6",
           "showlakes": true,
           "showland": true,
           "subunitcolor": "white"
          },
          "hoverlabel": {
           "align": "left"
          },
          "hovermode": "closest",
          "mapbox": {
           "style": "light"
          },
          "paper_bgcolor": "white",
          "plot_bgcolor": "#E5ECF6",
          "polar": {
           "angularaxis": {
            "gridcolor": "white",
            "linecolor": "white",
            "ticks": ""
           },
           "bgcolor": "#E5ECF6",
           "radialaxis": {
            "gridcolor": "white",
            "linecolor": "white",
            "ticks": ""
           }
          },
          "scene": {
           "xaxis": {
            "backgroundcolor": "#E5ECF6",
            "gridcolor": "white",
            "gridwidth": 2,
            "linecolor": "white",
            "showbackground": true,
            "ticks": "",
            "zerolinecolor": "white"
           },
           "yaxis": {
            "backgroundcolor": "#E5ECF6",
            "gridcolor": "white",
            "gridwidth": 2,
            "linecolor": "white",
            "showbackground": true,
            "ticks": "",
            "zerolinecolor": "white"
           },
           "zaxis": {
            "backgroundcolor": "#E5ECF6",
            "gridcolor": "white",
            "gridwidth": 2,
            "linecolor": "white",
            "showbackground": true,
            "ticks": "",
            "zerolinecolor": "white"
           }
          },
          "shapedefaults": {
           "line": {
            "color": "#2a3f5f"
           }
          },
          "ternary": {
           "aaxis": {
            "gridcolor": "white",
            "linecolor": "white",
            "ticks": ""
           },
           "baxis": {
            "gridcolor": "white",
            "linecolor": "white",
            "ticks": ""
           },
           "bgcolor": "#E5ECF6",
           "caxis": {
            "gridcolor": "white",
            "linecolor": "white",
            "ticks": ""
           }
          },
          "title": {
           "x": 0.05
          },
          "xaxis": {
           "automargin": true,
           "gridcolor": "white",
           "linecolor": "white",
           "ticks": "",
           "title": {
            "standoff": 15
           },
           "zerolinecolor": "white",
           "zerolinewidth": 2
          },
          "yaxis": {
           "automargin": true,
           "gridcolor": "white",
           "linecolor": "white",
           "ticks": "",
           "title": {
            "standoff": 15
           },
           "zerolinecolor": "white",
           "zerolinewidth": 2
          }
         }
        },
        "xaxis": {
         "anchor": "y",
         "domain": [
          0,
          1
         ],
         "title": {
          "text": "step"
         }
        },
        "yaxis": {
         "anchor": "x",
         "domain": [
          0,
          1
         ],
         "title": {
          "text": "sum of waiting_time"
         }
        }
       }
      }
     },
     "metadata": {},
     "output_type": "display_data"
    },
    {
     "name": "stdout",
     "output_type": "stream",
     "text": [
      "None\n"
     ]
    },
    {
     "data": {
      "application/vnd.plotly.v1+json": {
       "config": {
        "plotlyServerURL": "https://plot.ly"
       },
       "data": [
        {
         "alignmentgroup": "True",
         "bingroup": "x",
         "histfunc": "sum",
         "hovertemplate": "customer_nr=4<br>step=%{x}<br>sum of order_status=%{y}<extra></extra>",
         "legendgroup": "4",
         "marker": {
          "color": "#636efa",
          "pattern": {
           "shape": ""
          }
         },
         "name": "4",
         "nbinsx": 11,
         "offsetgroup": "4",
         "orientation": "v",
         "showlegend": true,
         "type": "histogram",
         "x": [
          0,
          1,
          2,
          3,
          4,
          5,
          6,
          7,
          8,
          9,
          10
         ],
         "xaxis": "x",
         "y": [
          1,
          1,
          1,
          1,
          1,
          1,
          1,
          1,
          1,
          1,
          1
         ],
         "yaxis": "y"
        },
        {
         "alignmentgroup": "True",
         "bingroup": "x",
         "histfunc": "sum",
         "hovertemplate": "customer_nr=5<br>step=%{x}<br>sum of order_status=%{y}<extra></extra>",
         "legendgroup": "5",
         "marker": {
          "color": "#EF553B",
          "pattern": {
           "shape": ""
          }
         },
         "name": "5",
         "nbinsx": 11,
         "offsetgroup": "5",
         "orientation": "v",
         "showlegend": true,
         "type": "histogram",
         "x": [
          2,
          3,
          4,
          5,
          6,
          7,
          8,
          9,
          10
         ],
         "xaxis": "x",
         "y": [
          1,
          1,
          1,
          1,
          1,
          1,
          1,
          1,
          1
         ],
         "yaxis": "y"
        },
        {
         "alignmentgroup": "True",
         "bingroup": "x",
         "histfunc": "sum",
         "hovertemplate": "customer_nr=6<br>step=%{x}<br>sum of order_status=%{y}<extra></extra>",
         "legendgroup": "6",
         "marker": {
          "color": "#00cc96",
          "pattern": {
           "shape": ""
          }
         },
         "name": "6",
         "nbinsx": 11,
         "offsetgroup": "6",
         "orientation": "v",
         "showlegend": true,
         "type": "histogram",
         "x": [
          3,
          4,
          5,
          6,
          7,
          8,
          9,
          10
         ],
         "xaxis": "x",
         "y": [
          1,
          1,
          1,
          1,
          1,
          1,
          1,
          1
         ],
         "yaxis": "y"
        },
        {
         "alignmentgroup": "True",
         "bingroup": "x",
         "histfunc": "sum",
         "hovertemplate": "customer_nr=7<br>step=%{x}<br>sum of order_status=%{y}<extra></extra>",
         "legendgroup": "7",
         "marker": {
          "color": "#ab63fa",
          "pattern": {
           "shape": ""
          }
         },
         "name": "7",
         "nbinsx": 11,
         "offsetgroup": "7",
         "orientation": "v",
         "showlegend": true,
         "type": "histogram",
         "x": [
          4,
          5,
          6,
          7,
          8,
          9,
          10
         ],
         "xaxis": "x",
         "y": [
          1,
          1,
          1,
          1,
          1,
          1,
          1
         ],
         "yaxis": "y"
        },
        {
         "alignmentgroup": "True",
         "bingroup": "x",
         "histfunc": "sum",
         "hovertemplate": "customer_nr=8<br>step=%{x}<br>sum of order_status=%{y}<extra></extra>",
         "legendgroup": "8",
         "marker": {
          "color": "#FFA15A",
          "pattern": {
           "shape": ""
          }
         },
         "name": "8",
         "nbinsx": 11,
         "offsetgroup": "8",
         "orientation": "v",
         "showlegend": true,
         "type": "histogram",
         "x": [
          4,
          5,
          6,
          7,
          8,
          9,
          10
         ],
         "xaxis": "x",
         "y": [
          1,
          1,
          1,
          1,
          1,
          1,
          1
         ],
         "yaxis": "y"
        },
        {
         "alignmentgroup": "True",
         "bingroup": "x",
         "histfunc": "sum",
         "hovertemplate": "customer_nr=9<br>step=%{x}<br>sum of order_status=%{y}<extra></extra>",
         "legendgroup": "9",
         "marker": {
          "color": "#19d3f3",
          "pattern": {
           "shape": ""
          }
         },
         "name": "9",
         "nbinsx": 11,
         "offsetgroup": "9",
         "orientation": "v",
         "showlegend": true,
         "type": "histogram",
         "x": [
          5,
          6,
          7,
          8,
          9,
          10
         ],
         "xaxis": "x",
         "y": [
          1,
          1,
          1,
          1,
          1,
          1
         ],
         "yaxis": "y"
        },
        {
         "alignmentgroup": "True",
         "bingroup": "x",
         "histfunc": "sum",
         "hovertemplate": "customer_nr=10<br>step=%{x}<br>sum of order_status=%{y}<extra></extra>",
         "legendgroup": "10",
         "marker": {
          "color": "#FF6692",
          "pattern": {
           "shape": ""
          }
         },
         "name": "10",
         "nbinsx": 11,
         "offsetgroup": "10",
         "orientation": "v",
         "showlegend": true,
         "type": "histogram",
         "x": [
          6,
          7,
          8,
          9,
          10
         ],
         "xaxis": "x",
         "y": [
          1,
          1,
          1,
          1,
          1
         ],
         "yaxis": "y"
        },
        {
         "alignmentgroup": "True",
         "bingroup": "x",
         "histfunc": "sum",
         "hovertemplate": "customer_nr=11<br>step=%{x}<br>sum of order_status=%{y}<extra></extra>",
         "legendgroup": "11",
         "marker": {
          "color": "#B6E880",
          "pattern": {
           "shape": ""
          }
         },
         "name": "11",
         "nbinsx": 11,
         "offsetgroup": "11",
         "orientation": "v",
         "showlegend": true,
         "type": "histogram",
         "x": [
          7,
          8,
          9,
          10
         ],
         "xaxis": "x",
         "y": [
          1,
          1,
          1,
          1
         ],
         "yaxis": "y"
        },
        {
         "alignmentgroup": "True",
         "bingroup": "x",
         "histfunc": "sum",
         "hovertemplate": "customer_nr=12<br>step=%{x}<br>sum of order_status=%{y}<extra></extra>",
         "legendgroup": "12",
         "marker": {
          "color": "#FF97FF",
          "pattern": {
           "shape": ""
          }
         },
         "name": "12",
         "nbinsx": 11,
         "offsetgroup": "12",
         "orientation": "v",
         "showlegend": true,
         "type": "histogram",
         "x": [
          8,
          9,
          10
         ],
         "xaxis": "x",
         "y": [
          1,
          1,
          1
         ],
         "yaxis": "y"
        },
        {
         "alignmentgroup": "True",
         "bingroup": "x",
         "histfunc": "sum",
         "hovertemplate": "customer_nr=13<br>step=%{x}<br>sum of order_status=%{y}<extra></extra>",
         "legendgroup": "13",
         "marker": {
          "color": "#FECB52",
          "pattern": {
           "shape": ""
          }
         },
         "name": "13",
         "nbinsx": 11,
         "offsetgroup": "13",
         "orientation": "v",
         "showlegend": true,
         "type": "histogram",
         "x": [
          8,
          9,
          10
         ],
         "xaxis": "x",
         "y": [
          1,
          1,
          1
         ],
         "yaxis": "y"
        },
        {
         "alignmentgroup": "True",
         "bingroup": "x",
         "histfunc": "sum",
         "hovertemplate": "customer_nr=14<br>step=%{x}<br>sum of order_status=%{y}<extra></extra>",
         "legendgroup": "14",
         "marker": {
          "color": "#636efa",
          "pattern": {
           "shape": ""
          }
         },
         "name": "14",
         "nbinsx": 11,
         "offsetgroup": "14",
         "orientation": "v",
         "showlegend": true,
         "type": "histogram",
         "x": [
          8,
          9,
          10
         ],
         "xaxis": "x",
         "y": [
          1,
          1,
          1
         ],
         "yaxis": "y"
        },
        {
         "alignmentgroup": "True",
         "bingroup": "x",
         "histfunc": "sum",
         "hovertemplate": "customer_nr=15<br>step=%{x}<br>sum of order_status=%{y}<extra></extra>",
         "legendgroup": "15",
         "marker": {
          "color": "#EF553B",
          "pattern": {
           "shape": ""
          }
         },
         "name": "15",
         "nbinsx": 11,
         "offsetgroup": "15",
         "orientation": "v",
         "showlegend": true,
         "type": "histogram",
         "x": [
          8,
          9,
          10
         ],
         "xaxis": "x",
         "y": [
          1,
          1,
          1
         ],
         "yaxis": "y"
        },
        {
         "alignmentgroup": "True",
         "bingroup": "x",
         "histfunc": "sum",
         "hovertemplate": "customer_nr=16<br>step=%{x}<br>sum of order_status=%{y}<extra></extra>",
         "legendgroup": "16",
         "marker": {
          "color": "#00cc96",
          "pattern": {
           "shape": ""
          }
         },
         "name": "16",
         "nbinsx": 11,
         "offsetgroup": "16",
         "orientation": "v",
         "showlegend": true,
         "type": "histogram",
         "x": [
          9,
          10
         ],
         "xaxis": "x",
         "y": [
          1,
          1
         ],
         "yaxis": "y"
        },
        {
         "alignmentgroup": "True",
         "bingroup": "x",
         "histfunc": "sum",
         "hovertemplate": "customer_nr=17<br>step=%{x}<br>sum of order_status=%{y}<extra></extra>",
         "legendgroup": "17",
         "marker": {
          "color": "#ab63fa",
          "pattern": {
           "shape": ""
          }
         },
         "name": "17",
         "nbinsx": 11,
         "offsetgroup": "17",
         "orientation": "v",
         "showlegend": true,
         "type": "histogram",
         "x": [
          10
         ],
         "xaxis": "x",
         "y": [
          1
         ],
         "yaxis": "y"
        },
        {
         "alignmentgroup": "True",
         "bingroup": "x",
         "histfunc": "sum",
         "hovertemplate": "customer_nr=18<br>step=%{x}<br>sum of order_status=%{y}<extra></extra>",
         "legendgroup": "18",
         "marker": {
          "color": "#FFA15A",
          "pattern": {
           "shape": ""
          }
         },
         "name": "18",
         "nbinsx": 11,
         "offsetgroup": "18",
         "orientation": "v",
         "showlegend": true,
         "type": "histogram",
         "x": [
          10
         ],
         "xaxis": "x",
         "y": [
          1
         ],
         "yaxis": "y"
        }
       ],
       "layout": {
        "barmode": "group",
        "height": 400,
        "legend": {
         "title": {
          "text": "customer_nr"
         },
         "tracegroupgap": 0
        },
        "margin": {
         "t": 60
        },
        "template": {
         "data": {
          "bar": [
           {
            "error_x": {
             "color": "#2a3f5f"
            },
            "error_y": {
             "color": "#2a3f5f"
            },
            "marker": {
             "line": {
              "color": "#E5ECF6",
              "width": 0.5
             },
             "pattern": {
              "fillmode": "overlay",
              "size": 10,
              "solidity": 0.2
             }
            },
            "type": "bar"
           }
          ],
          "barpolar": [
           {
            "marker": {
             "line": {
              "color": "#E5ECF6",
              "width": 0.5
             },
             "pattern": {
              "fillmode": "overlay",
              "size": 10,
              "solidity": 0.2
             }
            },
            "type": "barpolar"
           }
          ],
          "carpet": [
           {
            "aaxis": {
             "endlinecolor": "#2a3f5f",
             "gridcolor": "white",
             "linecolor": "white",
             "minorgridcolor": "white",
             "startlinecolor": "#2a3f5f"
            },
            "baxis": {
             "endlinecolor": "#2a3f5f",
             "gridcolor": "white",
             "linecolor": "white",
             "minorgridcolor": "white",
             "startlinecolor": "#2a3f5f"
            },
            "type": "carpet"
           }
          ],
          "choropleth": [
           {
            "colorbar": {
             "outlinewidth": 0,
             "ticks": ""
            },
            "type": "choropleth"
           }
          ],
          "contour": [
           {
            "colorbar": {
             "outlinewidth": 0,
             "ticks": ""
            },
            "colorscale": [
             [
              0,
              "#0d0887"
             ],
             [
              0.1111111111111111,
              "#46039f"
             ],
             [
              0.2222222222222222,
              "#7201a8"
             ],
             [
              0.3333333333333333,
              "#9c179e"
             ],
             [
              0.4444444444444444,
              "#bd3786"
             ],
             [
              0.5555555555555556,
              "#d8576b"
             ],
             [
              0.6666666666666666,
              "#ed7953"
             ],
             [
              0.7777777777777778,
              "#fb9f3a"
             ],
             [
              0.8888888888888888,
              "#fdca26"
             ],
             [
              1,
              "#f0f921"
             ]
            ],
            "type": "contour"
           }
          ],
          "contourcarpet": [
           {
            "colorbar": {
             "outlinewidth": 0,
             "ticks": ""
            },
            "type": "contourcarpet"
           }
          ],
          "heatmap": [
           {
            "colorbar": {
             "outlinewidth": 0,
             "ticks": ""
            },
            "colorscale": [
             [
              0,
              "#0d0887"
             ],
             [
              0.1111111111111111,
              "#46039f"
             ],
             [
              0.2222222222222222,
              "#7201a8"
             ],
             [
              0.3333333333333333,
              "#9c179e"
             ],
             [
              0.4444444444444444,
              "#bd3786"
             ],
             [
              0.5555555555555556,
              "#d8576b"
             ],
             [
              0.6666666666666666,
              "#ed7953"
             ],
             [
              0.7777777777777778,
              "#fb9f3a"
             ],
             [
              0.8888888888888888,
              "#fdca26"
             ],
             [
              1,
              "#f0f921"
             ]
            ],
            "type": "heatmap"
           }
          ],
          "heatmapgl": [
           {
            "colorbar": {
             "outlinewidth": 0,
             "ticks": ""
            },
            "colorscale": [
             [
              0,
              "#0d0887"
             ],
             [
              0.1111111111111111,
              "#46039f"
             ],
             [
              0.2222222222222222,
              "#7201a8"
             ],
             [
              0.3333333333333333,
              "#9c179e"
             ],
             [
              0.4444444444444444,
              "#bd3786"
             ],
             [
              0.5555555555555556,
              "#d8576b"
             ],
             [
              0.6666666666666666,
              "#ed7953"
             ],
             [
              0.7777777777777778,
              "#fb9f3a"
             ],
             [
              0.8888888888888888,
              "#fdca26"
             ],
             [
              1,
              "#f0f921"
             ]
            ],
            "type": "heatmapgl"
           }
          ],
          "histogram": [
           {
            "marker": {
             "pattern": {
              "fillmode": "overlay",
              "size": 10,
              "solidity": 0.2
             }
            },
            "type": "histogram"
           }
          ],
          "histogram2d": [
           {
            "colorbar": {
             "outlinewidth": 0,
             "ticks": ""
            },
            "colorscale": [
             [
              0,
              "#0d0887"
             ],
             [
              0.1111111111111111,
              "#46039f"
             ],
             [
              0.2222222222222222,
              "#7201a8"
             ],
             [
              0.3333333333333333,
              "#9c179e"
             ],
             [
              0.4444444444444444,
              "#bd3786"
             ],
             [
              0.5555555555555556,
              "#d8576b"
             ],
             [
              0.6666666666666666,
              "#ed7953"
             ],
             [
              0.7777777777777778,
              "#fb9f3a"
             ],
             [
              0.8888888888888888,
              "#fdca26"
             ],
             [
              1,
              "#f0f921"
             ]
            ],
            "type": "histogram2d"
           }
          ],
          "histogram2dcontour": [
           {
            "colorbar": {
             "outlinewidth": 0,
             "ticks": ""
            },
            "colorscale": [
             [
              0,
              "#0d0887"
             ],
             [
              0.1111111111111111,
              "#46039f"
             ],
             [
              0.2222222222222222,
              "#7201a8"
             ],
             [
              0.3333333333333333,
              "#9c179e"
             ],
             [
              0.4444444444444444,
              "#bd3786"
             ],
             [
              0.5555555555555556,
              "#d8576b"
             ],
             [
              0.6666666666666666,
              "#ed7953"
             ],
             [
              0.7777777777777778,
              "#fb9f3a"
             ],
             [
              0.8888888888888888,
              "#fdca26"
             ],
             [
              1,
              "#f0f921"
             ]
            ],
            "type": "histogram2dcontour"
           }
          ],
          "mesh3d": [
           {
            "colorbar": {
             "outlinewidth": 0,
             "ticks": ""
            },
            "type": "mesh3d"
           }
          ],
          "parcoords": [
           {
            "line": {
             "colorbar": {
              "outlinewidth": 0,
              "ticks": ""
             }
            },
            "type": "parcoords"
           }
          ],
          "pie": [
           {
            "automargin": true,
            "type": "pie"
           }
          ],
          "scatter": [
           {
            "fillpattern": {
             "fillmode": "overlay",
             "size": 10,
             "solidity": 0.2
            },
            "type": "scatter"
           }
          ],
          "scatter3d": [
           {
            "line": {
             "colorbar": {
              "outlinewidth": 0,
              "ticks": ""
             }
            },
            "marker": {
             "colorbar": {
              "outlinewidth": 0,
              "ticks": ""
             }
            },
            "type": "scatter3d"
           }
          ],
          "scattercarpet": [
           {
            "marker": {
             "colorbar": {
              "outlinewidth": 0,
              "ticks": ""
             }
            },
            "type": "scattercarpet"
           }
          ],
          "scattergeo": [
           {
            "marker": {
             "colorbar": {
              "outlinewidth": 0,
              "ticks": ""
             }
            },
            "type": "scattergeo"
           }
          ],
          "scattergl": [
           {
            "marker": {
             "colorbar": {
              "outlinewidth": 0,
              "ticks": ""
             }
            },
            "type": "scattergl"
           }
          ],
          "scattermapbox": [
           {
            "marker": {
             "colorbar": {
              "outlinewidth": 0,
              "ticks": ""
             }
            },
            "type": "scattermapbox"
           }
          ],
          "scatterpolar": [
           {
            "marker": {
             "colorbar": {
              "outlinewidth": 0,
              "ticks": ""
             }
            },
            "type": "scatterpolar"
           }
          ],
          "scatterpolargl": [
           {
            "marker": {
             "colorbar": {
              "outlinewidth": 0,
              "ticks": ""
             }
            },
            "type": "scatterpolargl"
           }
          ],
          "scatterternary": [
           {
            "marker": {
             "colorbar": {
              "outlinewidth": 0,
              "ticks": ""
             }
            },
            "type": "scatterternary"
           }
          ],
          "surface": [
           {
            "colorbar": {
             "outlinewidth": 0,
             "ticks": ""
            },
            "colorscale": [
             [
              0,
              "#0d0887"
             ],
             [
              0.1111111111111111,
              "#46039f"
             ],
             [
              0.2222222222222222,
              "#7201a8"
             ],
             [
              0.3333333333333333,
              "#9c179e"
             ],
             [
              0.4444444444444444,
              "#bd3786"
             ],
             [
              0.5555555555555556,
              "#d8576b"
             ],
             [
              0.6666666666666666,
              "#ed7953"
             ],
             [
              0.7777777777777778,
              "#fb9f3a"
             ],
             [
              0.8888888888888888,
              "#fdca26"
             ],
             [
              1,
              "#f0f921"
             ]
            ],
            "type": "surface"
           }
          ],
          "table": [
           {
            "cells": {
             "fill": {
              "color": "#EBF0F8"
             },
             "line": {
              "color": "white"
             }
            },
            "header": {
             "fill": {
              "color": "#C8D4E3"
             },
             "line": {
              "color": "white"
             }
            },
            "type": "table"
           }
          ]
         },
         "layout": {
          "annotationdefaults": {
           "arrowcolor": "#2a3f5f",
           "arrowhead": 0,
           "arrowwidth": 1
          },
          "autotypenumbers": "strict",
          "coloraxis": {
           "colorbar": {
            "outlinewidth": 0,
            "ticks": ""
           }
          },
          "colorscale": {
           "diverging": [
            [
             0,
             "#8e0152"
            ],
            [
             0.1,
             "#c51b7d"
            ],
            [
             0.2,
             "#de77ae"
            ],
            [
             0.3,
             "#f1b6da"
            ],
            [
             0.4,
             "#fde0ef"
            ],
            [
             0.5,
             "#f7f7f7"
            ],
            [
             0.6,
             "#e6f5d0"
            ],
            [
             0.7,
             "#b8e186"
            ],
            [
             0.8,
             "#7fbc41"
            ],
            [
             0.9,
             "#4d9221"
            ],
            [
             1,
             "#276419"
            ]
           ],
           "sequential": [
            [
             0,
             "#0d0887"
            ],
            [
             0.1111111111111111,
             "#46039f"
            ],
            [
             0.2222222222222222,
             "#7201a8"
            ],
            [
             0.3333333333333333,
             "#9c179e"
            ],
            [
             0.4444444444444444,
             "#bd3786"
            ],
            [
             0.5555555555555556,
             "#d8576b"
            ],
            [
             0.6666666666666666,
             "#ed7953"
            ],
            [
             0.7777777777777778,
             "#fb9f3a"
            ],
            [
             0.8888888888888888,
             "#fdca26"
            ],
            [
             1,
             "#f0f921"
            ]
           ],
           "sequentialminus": [
            [
             0,
             "#0d0887"
            ],
            [
             0.1111111111111111,
             "#46039f"
            ],
            [
             0.2222222222222222,
             "#7201a8"
            ],
            [
             0.3333333333333333,
             "#9c179e"
            ],
            [
             0.4444444444444444,
             "#bd3786"
            ],
            [
             0.5555555555555556,
             "#d8576b"
            ],
            [
             0.6666666666666666,
             "#ed7953"
            ],
            [
             0.7777777777777778,
             "#fb9f3a"
            ],
            [
             0.8888888888888888,
             "#fdca26"
            ],
            [
             1,
             "#f0f921"
            ]
           ]
          },
          "colorway": [
           "#636efa",
           "#EF553B",
           "#00cc96",
           "#ab63fa",
           "#FFA15A",
           "#19d3f3",
           "#FF6692",
           "#B6E880",
           "#FF97FF",
           "#FECB52"
          ],
          "font": {
           "color": "#2a3f5f"
          },
          "geo": {
           "bgcolor": "white",
           "lakecolor": "white",
           "landcolor": "#E5ECF6",
           "showlakes": true,
           "showland": true,
           "subunitcolor": "white"
          },
          "hoverlabel": {
           "align": "left"
          },
          "hovermode": "closest",
          "mapbox": {
           "style": "light"
          },
          "paper_bgcolor": "white",
          "plot_bgcolor": "#E5ECF6",
          "polar": {
           "angularaxis": {
            "gridcolor": "white",
            "linecolor": "white",
            "ticks": ""
           },
           "bgcolor": "#E5ECF6",
           "radialaxis": {
            "gridcolor": "white",
            "linecolor": "white",
            "ticks": ""
           }
          },
          "scene": {
           "xaxis": {
            "backgroundcolor": "#E5ECF6",
            "gridcolor": "white",
            "gridwidth": 2,
            "linecolor": "white",
            "showbackground": true,
            "ticks": "",
            "zerolinecolor": "white"
           },
           "yaxis": {
            "backgroundcolor": "#E5ECF6",
            "gridcolor": "white",
            "gridwidth": 2,
            "linecolor": "white",
            "showbackground": true,
            "ticks": "",
            "zerolinecolor": "white"
           },
           "zaxis": {
            "backgroundcolor": "#E5ECF6",
            "gridcolor": "white",
            "gridwidth": 2,
            "linecolor": "white",
            "showbackground": true,
            "ticks": "",
            "zerolinecolor": "white"
           }
          },
          "shapedefaults": {
           "line": {
            "color": "#2a3f5f"
           }
          },
          "ternary": {
           "aaxis": {
            "gridcolor": "white",
            "linecolor": "white",
            "ticks": ""
           },
           "baxis": {
            "gridcolor": "white",
            "linecolor": "white",
            "ticks": ""
           },
           "bgcolor": "#E5ECF6",
           "caxis": {
            "gridcolor": "white",
            "linecolor": "white",
            "ticks": ""
           }
          },
          "title": {
           "x": 0.05
          },
          "xaxis": {
           "automargin": true,
           "gridcolor": "white",
           "linecolor": "white",
           "ticks": "",
           "title": {
            "standoff": 15
           },
           "zerolinecolor": "white",
           "zerolinewidth": 2
          },
          "yaxis": {
           "automargin": true,
           "gridcolor": "white",
           "linecolor": "white",
           "ticks": "",
           "title": {
            "standoff": 15
           },
           "zerolinecolor": "white",
           "zerolinewidth": 2
          }
         }
        },
        "xaxis": {
         "anchor": "y",
         "domain": [
          0,
          1
         ],
         "title": {
          "text": "step"
         }
        },
        "yaxis": {
         "anchor": "x",
         "domain": [
          0,
          1
         ],
         "title": {
          "text": "sum of order_status"
         }
        }
       }
      }
     },
     "metadata": {},
     "output_type": "display_data"
    },
    {
     "name": "stdout",
     "output_type": "stream",
     "text": [
      "None\n"
     ]
    },
    {
     "data": {
      "application/vnd.plotly.v1+json": {
       "config": {
        "plotlyServerURL": "https://plot.ly"
       },
       "data": [
        {
         "alignmentgroup": "True",
         "bingroup": "x",
         "histfunc": "sum",
         "hovertemplate": "customer_nr=4<br>step=%{x}<br>sum of satisfaction=%{y}<extra></extra>",
         "legendgroup": "4",
         "marker": {
          "color": "#636efa",
          "pattern": {
           "shape": ""
          }
         },
         "name": "4",
         "nbinsx": 11,
         "offsetgroup": "4",
         "orientation": "v",
         "showlegend": true,
         "type": "histogram",
         "x": [
          0,
          1,
          2,
          3,
          4,
          5,
          6,
          7,
          8,
          9,
          10
         ],
         "xaxis": "x",
         "y": [
          100,
          100,
          90,
          80,
          70,
          60,
          50,
          40,
          30,
          20,
          10
         ],
         "yaxis": "y"
        },
        {
         "alignmentgroup": "True",
         "bingroup": "x",
         "histfunc": "sum",
         "hovertemplate": "customer_nr=5<br>step=%{x}<br>sum of satisfaction=%{y}<extra></extra>",
         "legendgroup": "5",
         "marker": {
          "color": "#EF553B",
          "pattern": {
           "shape": ""
          }
         },
         "name": "5",
         "nbinsx": 11,
         "offsetgroup": "5",
         "orientation": "v",
         "showlegend": true,
         "type": "histogram",
         "x": [
          2,
          3,
          4,
          5,
          6,
          7,
          8,
          9,
          10
         ],
         "xaxis": "x",
         "y": [
          100,
          100,
          90,
          80,
          70,
          60,
          50,
          40,
          30
         ],
         "yaxis": "y"
        },
        {
         "alignmentgroup": "True",
         "bingroup": "x",
         "histfunc": "sum",
         "hovertemplate": "customer_nr=6<br>step=%{x}<br>sum of satisfaction=%{y}<extra></extra>",
         "legendgroup": "6",
         "marker": {
          "color": "#00cc96",
          "pattern": {
           "shape": ""
          }
         },
         "name": "6",
         "nbinsx": 11,
         "offsetgroup": "6",
         "orientation": "v",
         "showlegend": true,
         "type": "histogram",
         "x": [
          3,
          4,
          5,
          6,
          7,
          8,
          9,
          10
         ],
         "xaxis": "x",
         "y": [
          100,
          100,
          90,
          80,
          70,
          60,
          50,
          40
         ],
         "yaxis": "y"
        },
        {
         "alignmentgroup": "True",
         "bingroup": "x",
         "histfunc": "sum",
         "hovertemplate": "customer_nr=7<br>step=%{x}<br>sum of satisfaction=%{y}<extra></extra>",
         "legendgroup": "7",
         "marker": {
          "color": "#ab63fa",
          "pattern": {
           "shape": ""
          }
         },
         "name": "7",
         "nbinsx": 11,
         "offsetgroup": "7",
         "orientation": "v",
         "showlegend": true,
         "type": "histogram",
         "x": [
          4,
          5,
          6,
          7,
          8,
          9,
          10
         ],
         "xaxis": "x",
         "y": [
          100,
          100,
          90,
          80,
          70,
          60,
          50
         ],
         "yaxis": "y"
        },
        {
         "alignmentgroup": "True",
         "bingroup": "x",
         "histfunc": "sum",
         "hovertemplate": "customer_nr=8<br>step=%{x}<br>sum of satisfaction=%{y}<extra></extra>",
         "legendgroup": "8",
         "marker": {
          "color": "#FFA15A",
          "pattern": {
           "shape": ""
          }
         },
         "name": "8",
         "nbinsx": 11,
         "offsetgroup": "8",
         "orientation": "v",
         "showlegend": true,
         "type": "histogram",
         "x": [
          4,
          5,
          6,
          7,
          8,
          9,
          10
         ],
         "xaxis": "x",
         "y": [
          100,
          100,
          90,
          80,
          70,
          60,
          50
         ],
         "yaxis": "y"
        },
        {
         "alignmentgroup": "True",
         "bingroup": "x",
         "histfunc": "sum",
         "hovertemplate": "customer_nr=9<br>step=%{x}<br>sum of satisfaction=%{y}<extra></extra>",
         "legendgroup": "9",
         "marker": {
          "color": "#19d3f3",
          "pattern": {
           "shape": ""
          }
         },
         "name": "9",
         "nbinsx": 11,
         "offsetgroup": "9",
         "orientation": "v",
         "showlegend": true,
         "type": "histogram",
         "x": [
          5,
          6,
          7,
          8,
          9,
          10
         ],
         "xaxis": "x",
         "y": [
          100,
          100,
          90,
          80,
          70,
          60
         ],
         "yaxis": "y"
        },
        {
         "alignmentgroup": "True",
         "bingroup": "x",
         "histfunc": "sum",
         "hovertemplate": "customer_nr=10<br>step=%{x}<br>sum of satisfaction=%{y}<extra></extra>",
         "legendgroup": "10",
         "marker": {
          "color": "#FF6692",
          "pattern": {
           "shape": ""
          }
         },
         "name": "10",
         "nbinsx": 11,
         "offsetgroup": "10",
         "orientation": "v",
         "showlegend": true,
         "type": "histogram",
         "x": [
          6,
          7,
          8,
          9,
          10
         ],
         "xaxis": "x",
         "y": [
          100,
          100,
          90,
          80,
          70
         ],
         "yaxis": "y"
        },
        {
         "alignmentgroup": "True",
         "bingroup": "x",
         "histfunc": "sum",
         "hovertemplate": "customer_nr=11<br>step=%{x}<br>sum of satisfaction=%{y}<extra></extra>",
         "legendgroup": "11",
         "marker": {
          "color": "#B6E880",
          "pattern": {
           "shape": ""
          }
         },
         "name": "11",
         "nbinsx": 11,
         "offsetgroup": "11",
         "orientation": "v",
         "showlegend": true,
         "type": "histogram",
         "x": [
          7,
          8,
          9,
          10
         ],
         "xaxis": "x",
         "y": [
          100,
          100,
          90,
          80
         ],
         "yaxis": "y"
        },
        {
         "alignmentgroup": "True",
         "bingroup": "x",
         "histfunc": "sum",
         "hovertemplate": "customer_nr=12<br>step=%{x}<br>sum of satisfaction=%{y}<extra></extra>",
         "legendgroup": "12",
         "marker": {
          "color": "#FF97FF",
          "pattern": {
           "shape": ""
          }
         },
         "name": "12",
         "nbinsx": 11,
         "offsetgroup": "12",
         "orientation": "v",
         "showlegend": true,
         "type": "histogram",
         "x": [
          8,
          9,
          10
         ],
         "xaxis": "x",
         "y": [
          100,
          100,
          90
         ],
         "yaxis": "y"
        },
        {
         "alignmentgroup": "True",
         "bingroup": "x",
         "histfunc": "sum",
         "hovertemplate": "customer_nr=13<br>step=%{x}<br>sum of satisfaction=%{y}<extra></extra>",
         "legendgroup": "13",
         "marker": {
          "color": "#FECB52",
          "pattern": {
           "shape": ""
          }
         },
         "name": "13",
         "nbinsx": 11,
         "offsetgroup": "13",
         "orientation": "v",
         "showlegend": true,
         "type": "histogram",
         "x": [
          8,
          9,
          10
         ],
         "xaxis": "x",
         "y": [
          100,
          100,
          90
         ],
         "yaxis": "y"
        },
        {
         "alignmentgroup": "True",
         "bingroup": "x",
         "histfunc": "sum",
         "hovertemplate": "customer_nr=14<br>step=%{x}<br>sum of satisfaction=%{y}<extra></extra>",
         "legendgroup": "14",
         "marker": {
          "color": "#636efa",
          "pattern": {
           "shape": ""
          }
         },
         "name": "14",
         "nbinsx": 11,
         "offsetgroup": "14",
         "orientation": "v",
         "showlegend": true,
         "type": "histogram",
         "x": [
          8,
          9,
          10
         ],
         "xaxis": "x",
         "y": [
          100,
          100,
          90
         ],
         "yaxis": "y"
        },
        {
         "alignmentgroup": "True",
         "bingroup": "x",
         "histfunc": "sum",
         "hovertemplate": "customer_nr=15<br>step=%{x}<br>sum of satisfaction=%{y}<extra></extra>",
         "legendgroup": "15",
         "marker": {
          "color": "#EF553B",
          "pattern": {
           "shape": ""
          }
         },
         "name": "15",
         "nbinsx": 11,
         "offsetgroup": "15",
         "orientation": "v",
         "showlegend": true,
         "type": "histogram",
         "x": [
          8,
          9,
          10
         ],
         "xaxis": "x",
         "y": [
          100,
          100,
          90
         ],
         "yaxis": "y"
        },
        {
         "alignmentgroup": "True",
         "bingroup": "x",
         "histfunc": "sum",
         "hovertemplate": "customer_nr=16<br>step=%{x}<br>sum of satisfaction=%{y}<extra></extra>",
         "legendgroup": "16",
         "marker": {
          "color": "#00cc96",
          "pattern": {
           "shape": ""
          }
         },
         "name": "16",
         "nbinsx": 11,
         "offsetgroup": "16",
         "orientation": "v",
         "showlegend": true,
         "type": "histogram",
         "x": [
          9,
          10
         ],
         "xaxis": "x",
         "y": [
          100,
          100
         ],
         "yaxis": "y"
        },
        {
         "alignmentgroup": "True",
         "bingroup": "x",
         "histfunc": "sum",
         "hovertemplate": "customer_nr=17<br>step=%{x}<br>sum of satisfaction=%{y}<extra></extra>",
         "legendgroup": "17",
         "marker": {
          "color": "#ab63fa",
          "pattern": {
           "shape": ""
          }
         },
         "name": "17",
         "nbinsx": 11,
         "offsetgroup": "17",
         "orientation": "v",
         "showlegend": true,
         "type": "histogram",
         "x": [
          10
         ],
         "xaxis": "x",
         "y": [
          100
         ],
         "yaxis": "y"
        },
        {
         "alignmentgroup": "True",
         "bingroup": "x",
         "histfunc": "sum",
         "hovertemplate": "customer_nr=18<br>step=%{x}<br>sum of satisfaction=%{y}<extra></extra>",
         "legendgroup": "18",
         "marker": {
          "color": "#FFA15A",
          "pattern": {
           "shape": ""
          }
         },
         "name": "18",
         "nbinsx": 11,
         "offsetgroup": "18",
         "orientation": "v",
         "showlegend": true,
         "type": "histogram",
         "x": [
          10
         ],
         "xaxis": "x",
         "y": [
          100
         ],
         "yaxis": "y"
        }
       ],
       "layout": {
        "barmode": "group",
        "height": 400,
        "legend": {
         "title": {
          "text": "customer_nr"
         },
         "tracegroupgap": 0
        },
        "margin": {
         "t": 60
        },
        "template": {
         "data": {
          "bar": [
           {
            "error_x": {
             "color": "#2a3f5f"
            },
            "error_y": {
             "color": "#2a3f5f"
            },
            "marker": {
             "line": {
              "color": "#E5ECF6",
              "width": 0.5
             },
             "pattern": {
              "fillmode": "overlay",
              "size": 10,
              "solidity": 0.2
             }
            },
            "type": "bar"
           }
          ],
          "barpolar": [
           {
            "marker": {
             "line": {
              "color": "#E5ECF6",
              "width": 0.5
             },
             "pattern": {
              "fillmode": "overlay",
              "size": 10,
              "solidity": 0.2
             }
            },
            "type": "barpolar"
           }
          ],
          "carpet": [
           {
            "aaxis": {
             "endlinecolor": "#2a3f5f",
             "gridcolor": "white",
             "linecolor": "white",
             "minorgridcolor": "white",
             "startlinecolor": "#2a3f5f"
            },
            "baxis": {
             "endlinecolor": "#2a3f5f",
             "gridcolor": "white",
             "linecolor": "white",
             "minorgridcolor": "white",
             "startlinecolor": "#2a3f5f"
            },
            "type": "carpet"
           }
          ],
          "choropleth": [
           {
            "colorbar": {
             "outlinewidth": 0,
             "ticks": ""
            },
            "type": "choropleth"
           }
          ],
          "contour": [
           {
            "colorbar": {
             "outlinewidth": 0,
             "ticks": ""
            },
            "colorscale": [
             [
              0,
              "#0d0887"
             ],
             [
              0.1111111111111111,
              "#46039f"
             ],
             [
              0.2222222222222222,
              "#7201a8"
             ],
             [
              0.3333333333333333,
              "#9c179e"
             ],
             [
              0.4444444444444444,
              "#bd3786"
             ],
             [
              0.5555555555555556,
              "#d8576b"
             ],
             [
              0.6666666666666666,
              "#ed7953"
             ],
             [
              0.7777777777777778,
              "#fb9f3a"
             ],
             [
              0.8888888888888888,
              "#fdca26"
             ],
             [
              1,
              "#f0f921"
             ]
            ],
            "type": "contour"
           }
          ],
          "contourcarpet": [
           {
            "colorbar": {
             "outlinewidth": 0,
             "ticks": ""
            },
            "type": "contourcarpet"
           }
          ],
          "heatmap": [
           {
            "colorbar": {
             "outlinewidth": 0,
             "ticks": ""
            },
            "colorscale": [
             [
              0,
              "#0d0887"
             ],
             [
              0.1111111111111111,
              "#46039f"
             ],
             [
              0.2222222222222222,
              "#7201a8"
             ],
             [
              0.3333333333333333,
              "#9c179e"
             ],
             [
              0.4444444444444444,
              "#bd3786"
             ],
             [
              0.5555555555555556,
              "#d8576b"
             ],
             [
              0.6666666666666666,
              "#ed7953"
             ],
             [
              0.7777777777777778,
              "#fb9f3a"
             ],
             [
              0.8888888888888888,
              "#fdca26"
             ],
             [
              1,
              "#f0f921"
             ]
            ],
            "type": "heatmap"
           }
          ],
          "heatmapgl": [
           {
            "colorbar": {
             "outlinewidth": 0,
             "ticks": ""
            },
            "colorscale": [
             [
              0,
              "#0d0887"
             ],
             [
              0.1111111111111111,
              "#46039f"
             ],
             [
              0.2222222222222222,
              "#7201a8"
             ],
             [
              0.3333333333333333,
              "#9c179e"
             ],
             [
              0.4444444444444444,
              "#bd3786"
             ],
             [
              0.5555555555555556,
              "#d8576b"
             ],
             [
              0.6666666666666666,
              "#ed7953"
             ],
             [
              0.7777777777777778,
              "#fb9f3a"
             ],
             [
              0.8888888888888888,
              "#fdca26"
             ],
             [
              1,
              "#f0f921"
             ]
            ],
            "type": "heatmapgl"
           }
          ],
          "histogram": [
           {
            "marker": {
             "pattern": {
              "fillmode": "overlay",
              "size": 10,
              "solidity": 0.2
             }
            },
            "type": "histogram"
           }
          ],
          "histogram2d": [
           {
            "colorbar": {
             "outlinewidth": 0,
             "ticks": ""
            },
            "colorscale": [
             [
              0,
              "#0d0887"
             ],
             [
              0.1111111111111111,
              "#46039f"
             ],
             [
              0.2222222222222222,
              "#7201a8"
             ],
             [
              0.3333333333333333,
              "#9c179e"
             ],
             [
              0.4444444444444444,
              "#bd3786"
             ],
             [
              0.5555555555555556,
              "#d8576b"
             ],
             [
              0.6666666666666666,
              "#ed7953"
             ],
             [
              0.7777777777777778,
              "#fb9f3a"
             ],
             [
              0.8888888888888888,
              "#fdca26"
             ],
             [
              1,
              "#f0f921"
             ]
            ],
            "type": "histogram2d"
           }
          ],
          "histogram2dcontour": [
           {
            "colorbar": {
             "outlinewidth": 0,
             "ticks": ""
            },
            "colorscale": [
             [
              0,
              "#0d0887"
             ],
             [
              0.1111111111111111,
              "#46039f"
             ],
             [
              0.2222222222222222,
              "#7201a8"
             ],
             [
              0.3333333333333333,
              "#9c179e"
             ],
             [
              0.4444444444444444,
              "#bd3786"
             ],
             [
              0.5555555555555556,
              "#d8576b"
             ],
             [
              0.6666666666666666,
              "#ed7953"
             ],
             [
              0.7777777777777778,
              "#fb9f3a"
             ],
             [
              0.8888888888888888,
              "#fdca26"
             ],
             [
              1,
              "#f0f921"
             ]
            ],
            "type": "histogram2dcontour"
           }
          ],
          "mesh3d": [
           {
            "colorbar": {
             "outlinewidth": 0,
             "ticks": ""
            },
            "type": "mesh3d"
           }
          ],
          "parcoords": [
           {
            "line": {
             "colorbar": {
              "outlinewidth": 0,
              "ticks": ""
             }
            },
            "type": "parcoords"
           }
          ],
          "pie": [
           {
            "automargin": true,
            "type": "pie"
           }
          ],
          "scatter": [
           {
            "fillpattern": {
             "fillmode": "overlay",
             "size": 10,
             "solidity": 0.2
            },
            "type": "scatter"
           }
          ],
          "scatter3d": [
           {
            "line": {
             "colorbar": {
              "outlinewidth": 0,
              "ticks": ""
             }
            },
            "marker": {
             "colorbar": {
              "outlinewidth": 0,
              "ticks": ""
             }
            },
            "type": "scatter3d"
           }
          ],
          "scattercarpet": [
           {
            "marker": {
             "colorbar": {
              "outlinewidth": 0,
              "ticks": ""
             }
            },
            "type": "scattercarpet"
           }
          ],
          "scattergeo": [
           {
            "marker": {
             "colorbar": {
              "outlinewidth": 0,
              "ticks": ""
             }
            },
            "type": "scattergeo"
           }
          ],
          "scattergl": [
           {
            "marker": {
             "colorbar": {
              "outlinewidth": 0,
              "ticks": ""
             }
            },
            "type": "scattergl"
           }
          ],
          "scattermapbox": [
           {
            "marker": {
             "colorbar": {
              "outlinewidth": 0,
              "ticks": ""
             }
            },
            "type": "scattermapbox"
           }
          ],
          "scatterpolar": [
           {
            "marker": {
             "colorbar": {
              "outlinewidth": 0,
              "ticks": ""
             }
            },
            "type": "scatterpolar"
           }
          ],
          "scatterpolargl": [
           {
            "marker": {
             "colorbar": {
              "outlinewidth": 0,
              "ticks": ""
             }
            },
            "type": "scatterpolargl"
           }
          ],
          "scatterternary": [
           {
            "marker": {
             "colorbar": {
              "outlinewidth": 0,
              "ticks": ""
             }
            },
            "type": "scatterternary"
           }
          ],
          "surface": [
           {
            "colorbar": {
             "outlinewidth": 0,
             "ticks": ""
            },
            "colorscale": [
             [
              0,
              "#0d0887"
             ],
             [
              0.1111111111111111,
              "#46039f"
             ],
             [
              0.2222222222222222,
              "#7201a8"
             ],
             [
              0.3333333333333333,
              "#9c179e"
             ],
             [
              0.4444444444444444,
              "#bd3786"
             ],
             [
              0.5555555555555556,
              "#d8576b"
             ],
             [
              0.6666666666666666,
              "#ed7953"
             ],
             [
              0.7777777777777778,
              "#fb9f3a"
             ],
             [
              0.8888888888888888,
              "#fdca26"
             ],
             [
              1,
              "#f0f921"
             ]
            ],
            "type": "surface"
           }
          ],
          "table": [
           {
            "cells": {
             "fill": {
              "color": "#EBF0F8"
             },
             "line": {
              "color": "white"
             }
            },
            "header": {
             "fill": {
              "color": "#C8D4E3"
             },
             "line": {
              "color": "white"
             }
            },
            "type": "table"
           }
          ]
         },
         "layout": {
          "annotationdefaults": {
           "arrowcolor": "#2a3f5f",
           "arrowhead": 0,
           "arrowwidth": 1
          },
          "autotypenumbers": "strict",
          "coloraxis": {
           "colorbar": {
            "outlinewidth": 0,
            "ticks": ""
           }
          },
          "colorscale": {
           "diverging": [
            [
             0,
             "#8e0152"
            ],
            [
             0.1,
             "#c51b7d"
            ],
            [
             0.2,
             "#de77ae"
            ],
            [
             0.3,
             "#f1b6da"
            ],
            [
             0.4,
             "#fde0ef"
            ],
            [
             0.5,
             "#f7f7f7"
            ],
            [
             0.6,
             "#e6f5d0"
            ],
            [
             0.7,
             "#b8e186"
            ],
            [
             0.8,
             "#7fbc41"
            ],
            [
             0.9,
             "#4d9221"
            ],
            [
             1,
             "#276419"
            ]
           ],
           "sequential": [
            [
             0,
             "#0d0887"
            ],
            [
             0.1111111111111111,
             "#46039f"
            ],
            [
             0.2222222222222222,
             "#7201a8"
            ],
            [
             0.3333333333333333,
             "#9c179e"
            ],
            [
             0.4444444444444444,
             "#bd3786"
            ],
            [
             0.5555555555555556,
             "#d8576b"
            ],
            [
             0.6666666666666666,
             "#ed7953"
            ],
            [
             0.7777777777777778,
             "#fb9f3a"
            ],
            [
             0.8888888888888888,
             "#fdca26"
            ],
            [
             1,
             "#f0f921"
            ]
           ],
           "sequentialminus": [
            [
             0,
             "#0d0887"
            ],
            [
             0.1111111111111111,
             "#46039f"
            ],
            [
             0.2222222222222222,
             "#7201a8"
            ],
            [
             0.3333333333333333,
             "#9c179e"
            ],
            [
             0.4444444444444444,
             "#bd3786"
            ],
            [
             0.5555555555555556,
             "#d8576b"
            ],
            [
             0.6666666666666666,
             "#ed7953"
            ],
            [
             0.7777777777777778,
             "#fb9f3a"
            ],
            [
             0.8888888888888888,
             "#fdca26"
            ],
            [
             1,
             "#f0f921"
            ]
           ]
          },
          "colorway": [
           "#636efa",
           "#EF553B",
           "#00cc96",
           "#ab63fa",
           "#FFA15A",
           "#19d3f3",
           "#FF6692",
           "#B6E880",
           "#FF97FF",
           "#FECB52"
          ],
          "font": {
           "color": "#2a3f5f"
          },
          "geo": {
           "bgcolor": "white",
           "lakecolor": "white",
           "landcolor": "#E5ECF6",
           "showlakes": true,
           "showland": true,
           "subunitcolor": "white"
          },
          "hoverlabel": {
           "align": "left"
          },
          "hovermode": "closest",
          "mapbox": {
           "style": "light"
          },
          "paper_bgcolor": "white",
          "plot_bgcolor": "#E5ECF6",
          "polar": {
           "angularaxis": {
            "gridcolor": "white",
            "linecolor": "white",
            "ticks": ""
           },
           "bgcolor": "#E5ECF6",
           "radialaxis": {
            "gridcolor": "white",
            "linecolor": "white",
            "ticks": ""
           }
          },
          "scene": {
           "xaxis": {
            "backgroundcolor": "#E5ECF6",
            "gridcolor": "white",
            "gridwidth": 2,
            "linecolor": "white",
            "showbackground": true,
            "ticks": "",
            "zerolinecolor": "white"
           },
           "yaxis": {
            "backgroundcolor": "#E5ECF6",
            "gridcolor": "white",
            "gridwidth": 2,
            "linecolor": "white",
            "showbackground": true,
            "ticks": "",
            "zerolinecolor": "white"
           },
           "zaxis": {
            "backgroundcolor": "#E5ECF6",
            "gridcolor": "white",
            "gridwidth": 2,
            "linecolor": "white",
            "showbackground": true,
            "ticks": "",
            "zerolinecolor": "white"
           }
          },
          "shapedefaults": {
           "line": {
            "color": "#2a3f5f"
           }
          },
          "ternary": {
           "aaxis": {
            "gridcolor": "white",
            "linecolor": "white",
            "ticks": ""
           },
           "baxis": {
            "gridcolor": "white",
            "linecolor": "white",
            "ticks": ""
           },
           "bgcolor": "#E5ECF6",
           "caxis": {
            "gridcolor": "white",
            "linecolor": "white",
            "ticks": ""
           }
          },
          "title": {
           "x": 0.05
          },
          "xaxis": {
           "automargin": true,
           "gridcolor": "white",
           "linecolor": "white",
           "ticks": "",
           "title": {
            "standoff": 15
           },
           "zerolinecolor": "white",
           "zerolinewidth": 2
          },
          "yaxis": {
           "automargin": true,
           "gridcolor": "white",
           "linecolor": "white",
           "ticks": "",
           "title": {
            "standoff": 15
           },
           "zerolinecolor": "white",
           "zerolinewidth": 2
          }
         }
        },
        "xaxis": {
         "anchor": "y",
         "domain": [
          0,
          1
         ],
         "title": {
          "text": "step"
         }
        },
        "yaxis": {
         "anchor": "x",
         "domain": [
          0,
          1
         ],
         "title": {
          "text": "sum of satisfaction"
         }
        }
       }
      }
     },
     "metadata": {},
     "output_type": "display_data"
    },
    {
     "name": "stdout",
     "output_type": "stream",
     "text": [
      "None\n"
     ]
    },
    {
     "data": {
      "application/vnd.plotly.v1+json": {
       "config": {
        "plotlyServerURL": "https://plot.ly"
       },
       "data": [
        {
         "alignmentgroup": "True",
         "bingroup": "x",
         "histfunc": "sum",
         "hovertemplate": "waiter_nr=1<br>step=%{x}<br>sum of tips=%{y}<extra></extra>",
         "legendgroup": "1",
         "marker": {
          "color": "#636efa",
          "pattern": {
           "shape": ""
          }
         },
         "name": "1",
         "nbinsx": 11,
         "offsetgroup": "1",
         "orientation": "v",
         "showlegend": true,
         "type": "histogram",
         "x": [
          0,
          1,
          2,
          3,
          4,
          5,
          6,
          7,
          8,
          9,
          10
         ],
         "xaxis": "x",
         "y": [
          0,
          0,
          0,
          0,
          0,
          0,
          0,
          0,
          0,
          0,
          0
         ],
         "yaxis": "y"
        },
        {
         "alignmentgroup": "True",
         "bingroup": "x",
         "histfunc": "sum",
         "hovertemplate": "waiter_nr=2<br>step=%{x}<br>sum of tips=%{y}<extra></extra>",
         "legendgroup": "2",
         "marker": {
          "color": "#EF553B",
          "pattern": {
           "shape": ""
          }
         },
         "name": "2",
         "nbinsx": 11,
         "offsetgroup": "2",
         "orientation": "v",
         "showlegend": true,
         "type": "histogram",
         "x": [
          0,
          1,
          2,
          3,
          4,
          5,
          6,
          7,
          8,
          9,
          10
         ],
         "xaxis": "x",
         "y": [
          0,
          0,
          0,
          0,
          0,
          0,
          0,
          0,
          0,
          0,
          0
         ],
         "yaxis": "y"
        }
       ],
       "layout": {
        "barmode": "group",
        "height": 400,
        "legend": {
         "title": {
          "text": "waiter_nr"
         },
         "tracegroupgap": 0
        },
        "margin": {
         "t": 60
        },
        "template": {
         "data": {
          "bar": [
           {
            "error_x": {
             "color": "#2a3f5f"
            },
            "error_y": {
             "color": "#2a3f5f"
            },
            "marker": {
             "line": {
              "color": "#E5ECF6",
              "width": 0.5
             },
             "pattern": {
              "fillmode": "overlay",
              "size": 10,
              "solidity": 0.2
             }
            },
            "type": "bar"
           }
          ],
          "barpolar": [
           {
            "marker": {
             "line": {
              "color": "#E5ECF6",
              "width": 0.5
             },
             "pattern": {
              "fillmode": "overlay",
              "size": 10,
              "solidity": 0.2
             }
            },
            "type": "barpolar"
           }
          ],
          "carpet": [
           {
            "aaxis": {
             "endlinecolor": "#2a3f5f",
             "gridcolor": "white",
             "linecolor": "white",
             "minorgridcolor": "white",
             "startlinecolor": "#2a3f5f"
            },
            "baxis": {
             "endlinecolor": "#2a3f5f",
             "gridcolor": "white",
             "linecolor": "white",
             "minorgridcolor": "white",
             "startlinecolor": "#2a3f5f"
            },
            "type": "carpet"
           }
          ],
          "choropleth": [
           {
            "colorbar": {
             "outlinewidth": 0,
             "ticks": ""
            },
            "type": "choropleth"
           }
          ],
          "contour": [
           {
            "colorbar": {
             "outlinewidth": 0,
             "ticks": ""
            },
            "colorscale": [
             [
              0,
              "#0d0887"
             ],
             [
              0.1111111111111111,
              "#46039f"
             ],
             [
              0.2222222222222222,
              "#7201a8"
             ],
             [
              0.3333333333333333,
              "#9c179e"
             ],
             [
              0.4444444444444444,
              "#bd3786"
             ],
             [
              0.5555555555555556,
              "#d8576b"
             ],
             [
              0.6666666666666666,
              "#ed7953"
             ],
             [
              0.7777777777777778,
              "#fb9f3a"
             ],
             [
              0.8888888888888888,
              "#fdca26"
             ],
             [
              1,
              "#f0f921"
             ]
            ],
            "type": "contour"
           }
          ],
          "contourcarpet": [
           {
            "colorbar": {
             "outlinewidth": 0,
             "ticks": ""
            },
            "type": "contourcarpet"
           }
          ],
          "heatmap": [
           {
            "colorbar": {
             "outlinewidth": 0,
             "ticks": ""
            },
            "colorscale": [
             [
              0,
              "#0d0887"
             ],
             [
              0.1111111111111111,
              "#46039f"
             ],
             [
              0.2222222222222222,
              "#7201a8"
             ],
             [
              0.3333333333333333,
              "#9c179e"
             ],
             [
              0.4444444444444444,
              "#bd3786"
             ],
             [
              0.5555555555555556,
              "#d8576b"
             ],
             [
              0.6666666666666666,
              "#ed7953"
             ],
             [
              0.7777777777777778,
              "#fb9f3a"
             ],
             [
              0.8888888888888888,
              "#fdca26"
             ],
             [
              1,
              "#f0f921"
             ]
            ],
            "type": "heatmap"
           }
          ],
          "heatmapgl": [
           {
            "colorbar": {
             "outlinewidth": 0,
             "ticks": ""
            },
            "colorscale": [
             [
              0,
              "#0d0887"
             ],
             [
              0.1111111111111111,
              "#46039f"
             ],
             [
              0.2222222222222222,
              "#7201a8"
             ],
             [
              0.3333333333333333,
              "#9c179e"
             ],
             [
              0.4444444444444444,
              "#bd3786"
             ],
             [
              0.5555555555555556,
              "#d8576b"
             ],
             [
              0.6666666666666666,
              "#ed7953"
             ],
             [
              0.7777777777777778,
              "#fb9f3a"
             ],
             [
              0.8888888888888888,
              "#fdca26"
             ],
             [
              1,
              "#f0f921"
             ]
            ],
            "type": "heatmapgl"
           }
          ],
          "histogram": [
           {
            "marker": {
             "pattern": {
              "fillmode": "overlay",
              "size": 10,
              "solidity": 0.2
             }
            },
            "type": "histogram"
           }
          ],
          "histogram2d": [
           {
            "colorbar": {
             "outlinewidth": 0,
             "ticks": ""
            },
            "colorscale": [
             [
              0,
              "#0d0887"
             ],
             [
              0.1111111111111111,
              "#46039f"
             ],
             [
              0.2222222222222222,
              "#7201a8"
             ],
             [
              0.3333333333333333,
              "#9c179e"
             ],
             [
              0.4444444444444444,
              "#bd3786"
             ],
             [
              0.5555555555555556,
              "#d8576b"
             ],
             [
              0.6666666666666666,
              "#ed7953"
             ],
             [
              0.7777777777777778,
              "#fb9f3a"
             ],
             [
              0.8888888888888888,
              "#fdca26"
             ],
             [
              1,
              "#f0f921"
             ]
            ],
            "type": "histogram2d"
           }
          ],
          "histogram2dcontour": [
           {
            "colorbar": {
             "outlinewidth": 0,
             "ticks": ""
            },
            "colorscale": [
             [
              0,
              "#0d0887"
             ],
             [
              0.1111111111111111,
              "#46039f"
             ],
             [
              0.2222222222222222,
              "#7201a8"
             ],
             [
              0.3333333333333333,
              "#9c179e"
             ],
             [
              0.4444444444444444,
              "#bd3786"
             ],
             [
              0.5555555555555556,
              "#d8576b"
             ],
             [
              0.6666666666666666,
              "#ed7953"
             ],
             [
              0.7777777777777778,
              "#fb9f3a"
             ],
             [
              0.8888888888888888,
              "#fdca26"
             ],
             [
              1,
              "#f0f921"
             ]
            ],
            "type": "histogram2dcontour"
           }
          ],
          "mesh3d": [
           {
            "colorbar": {
             "outlinewidth": 0,
             "ticks": ""
            },
            "type": "mesh3d"
           }
          ],
          "parcoords": [
           {
            "line": {
             "colorbar": {
              "outlinewidth": 0,
              "ticks": ""
             }
            },
            "type": "parcoords"
           }
          ],
          "pie": [
           {
            "automargin": true,
            "type": "pie"
           }
          ],
          "scatter": [
           {
            "fillpattern": {
             "fillmode": "overlay",
             "size": 10,
             "solidity": 0.2
            },
            "type": "scatter"
           }
          ],
          "scatter3d": [
           {
            "line": {
             "colorbar": {
              "outlinewidth": 0,
              "ticks": ""
             }
            },
            "marker": {
             "colorbar": {
              "outlinewidth": 0,
              "ticks": ""
             }
            },
            "type": "scatter3d"
           }
          ],
          "scattercarpet": [
           {
            "marker": {
             "colorbar": {
              "outlinewidth": 0,
              "ticks": ""
             }
            },
            "type": "scattercarpet"
           }
          ],
          "scattergeo": [
           {
            "marker": {
             "colorbar": {
              "outlinewidth": 0,
              "ticks": ""
             }
            },
            "type": "scattergeo"
           }
          ],
          "scattergl": [
           {
            "marker": {
             "colorbar": {
              "outlinewidth": 0,
              "ticks": ""
             }
            },
            "type": "scattergl"
           }
          ],
          "scattermapbox": [
           {
            "marker": {
             "colorbar": {
              "outlinewidth": 0,
              "ticks": ""
             }
            },
            "type": "scattermapbox"
           }
          ],
          "scatterpolar": [
           {
            "marker": {
             "colorbar": {
              "outlinewidth": 0,
              "ticks": ""
             }
            },
            "type": "scatterpolar"
           }
          ],
          "scatterpolargl": [
           {
            "marker": {
             "colorbar": {
              "outlinewidth": 0,
              "ticks": ""
             }
            },
            "type": "scatterpolargl"
           }
          ],
          "scatterternary": [
           {
            "marker": {
             "colorbar": {
              "outlinewidth": 0,
              "ticks": ""
             }
            },
            "type": "scatterternary"
           }
          ],
          "surface": [
           {
            "colorbar": {
             "outlinewidth": 0,
             "ticks": ""
            },
            "colorscale": [
             [
              0,
              "#0d0887"
             ],
             [
              0.1111111111111111,
              "#46039f"
             ],
             [
              0.2222222222222222,
              "#7201a8"
             ],
             [
              0.3333333333333333,
              "#9c179e"
             ],
             [
              0.4444444444444444,
              "#bd3786"
             ],
             [
              0.5555555555555556,
              "#d8576b"
             ],
             [
              0.6666666666666666,
              "#ed7953"
             ],
             [
              0.7777777777777778,
              "#fb9f3a"
             ],
             [
              0.8888888888888888,
              "#fdca26"
             ],
             [
              1,
              "#f0f921"
             ]
            ],
            "type": "surface"
           }
          ],
          "table": [
           {
            "cells": {
             "fill": {
              "color": "#EBF0F8"
             },
             "line": {
              "color": "white"
             }
            },
            "header": {
             "fill": {
              "color": "#C8D4E3"
             },
             "line": {
              "color": "white"
             }
            },
            "type": "table"
           }
          ]
         },
         "layout": {
          "annotationdefaults": {
           "arrowcolor": "#2a3f5f",
           "arrowhead": 0,
           "arrowwidth": 1
          },
          "autotypenumbers": "strict",
          "coloraxis": {
           "colorbar": {
            "outlinewidth": 0,
            "ticks": ""
           }
          },
          "colorscale": {
           "diverging": [
            [
             0,
             "#8e0152"
            ],
            [
             0.1,
             "#c51b7d"
            ],
            [
             0.2,
             "#de77ae"
            ],
            [
             0.3,
             "#f1b6da"
            ],
            [
             0.4,
             "#fde0ef"
            ],
            [
             0.5,
             "#f7f7f7"
            ],
            [
             0.6,
             "#e6f5d0"
            ],
            [
             0.7,
             "#b8e186"
            ],
            [
             0.8,
             "#7fbc41"
            ],
            [
             0.9,
             "#4d9221"
            ],
            [
             1,
             "#276419"
            ]
           ],
           "sequential": [
            [
             0,
             "#0d0887"
            ],
            [
             0.1111111111111111,
             "#46039f"
            ],
            [
             0.2222222222222222,
             "#7201a8"
            ],
            [
             0.3333333333333333,
             "#9c179e"
            ],
            [
             0.4444444444444444,
             "#bd3786"
            ],
            [
             0.5555555555555556,
             "#d8576b"
            ],
            [
             0.6666666666666666,
             "#ed7953"
            ],
            [
             0.7777777777777778,
             "#fb9f3a"
            ],
            [
             0.8888888888888888,
             "#fdca26"
            ],
            [
             1,
             "#f0f921"
            ]
           ],
           "sequentialminus": [
            [
             0,
             "#0d0887"
            ],
            [
             0.1111111111111111,
             "#46039f"
            ],
            [
             0.2222222222222222,
             "#7201a8"
            ],
            [
             0.3333333333333333,
             "#9c179e"
            ],
            [
             0.4444444444444444,
             "#bd3786"
            ],
            [
             0.5555555555555556,
             "#d8576b"
            ],
            [
             0.6666666666666666,
             "#ed7953"
            ],
            [
             0.7777777777777778,
             "#fb9f3a"
            ],
            [
             0.8888888888888888,
             "#fdca26"
            ],
            [
             1,
             "#f0f921"
            ]
           ]
          },
          "colorway": [
           "#636efa",
           "#EF553B",
           "#00cc96",
           "#ab63fa",
           "#FFA15A",
           "#19d3f3",
           "#FF6692",
           "#B6E880",
           "#FF97FF",
           "#FECB52"
          ],
          "font": {
           "color": "#2a3f5f"
          },
          "geo": {
           "bgcolor": "white",
           "lakecolor": "white",
           "landcolor": "#E5ECF6",
           "showlakes": true,
           "showland": true,
           "subunitcolor": "white"
          },
          "hoverlabel": {
           "align": "left"
          },
          "hovermode": "closest",
          "mapbox": {
           "style": "light"
          },
          "paper_bgcolor": "white",
          "plot_bgcolor": "#E5ECF6",
          "polar": {
           "angularaxis": {
            "gridcolor": "white",
            "linecolor": "white",
            "ticks": ""
           },
           "bgcolor": "#E5ECF6",
           "radialaxis": {
            "gridcolor": "white",
            "linecolor": "white",
            "ticks": ""
           }
          },
          "scene": {
           "xaxis": {
            "backgroundcolor": "#E5ECF6",
            "gridcolor": "white",
            "gridwidth": 2,
            "linecolor": "white",
            "showbackground": true,
            "ticks": "",
            "zerolinecolor": "white"
           },
           "yaxis": {
            "backgroundcolor": "#E5ECF6",
            "gridcolor": "white",
            "gridwidth": 2,
            "linecolor": "white",
            "showbackground": true,
            "ticks": "",
            "zerolinecolor": "white"
           },
           "zaxis": {
            "backgroundcolor": "#E5ECF6",
            "gridcolor": "white",
            "gridwidth": 2,
            "linecolor": "white",
            "showbackground": true,
            "ticks": "",
            "zerolinecolor": "white"
           }
          },
          "shapedefaults": {
           "line": {
            "color": "#2a3f5f"
           }
          },
          "ternary": {
           "aaxis": {
            "gridcolor": "white",
            "linecolor": "white",
            "ticks": ""
           },
           "baxis": {
            "gridcolor": "white",
            "linecolor": "white",
            "ticks": ""
           },
           "bgcolor": "#E5ECF6",
           "caxis": {
            "gridcolor": "white",
            "linecolor": "white",
            "ticks": ""
           }
          },
          "title": {
           "x": 0.05
          },
          "xaxis": {
           "automargin": true,
           "gridcolor": "white",
           "linecolor": "white",
           "ticks": "",
           "title": {
            "standoff": 15
           },
           "zerolinecolor": "white",
           "zerolinewidth": 2
          },
          "yaxis": {
           "automargin": true,
           "gridcolor": "white",
           "linecolor": "white",
           "ticks": "",
           "title": {
            "standoff": 15
           },
           "zerolinecolor": "white",
           "zerolinewidth": 2
          }
         }
        },
        "xaxis": {
         "anchor": "y",
         "domain": [
          0,
          1
         ],
         "title": {
          "text": "step"
         }
        },
        "yaxis": {
         "anchor": "x",
         "domain": [
          0,
          1
         ],
         "title": {
          "text": "sum of tips"
         }
        }
       }
      }
     },
     "metadata": {},
     "output_type": "display_data"
    },
    {
     "name": "stdout",
     "output_type": "stream",
     "text": [
      "None\n"
     ]
    },
    {
     "data": {
      "application/vnd.plotly.v1+json": {
       "config": {
        "plotlyServerURL": "https://plot.ly"
       },
       "data": [
        {
         "alignmentgroup": "True",
         "bingroup": "x",
         "histfunc": "sum",
         "hovertemplate": "waiter_nr=1<br>step=%{x}<br>sum of avg_rating=%{y}<extra></extra>",
         "legendgroup": "1",
         "marker": {
          "color": "#636efa",
          "pattern": {
           "shape": ""
          }
         },
         "name": "1",
         "nbinsx": 11,
         "offsetgroup": "1",
         "orientation": "v",
         "showlegend": true,
         "type": "histogram",
         "x": [
          0,
          1,
          2,
          3,
          4,
          5,
          6,
          7,
          8,
          9,
          10
         ],
         "xaxis": "x",
         "y": [
          0,
          0,
          0,
          0,
          0,
          0,
          0,
          0,
          0,
          0,
          0
         ],
         "yaxis": "y"
        },
        {
         "alignmentgroup": "True",
         "bingroup": "x",
         "histfunc": "sum",
         "hovertemplate": "waiter_nr=2<br>step=%{x}<br>sum of avg_rating=%{y}<extra></extra>",
         "legendgroup": "2",
         "marker": {
          "color": "#EF553B",
          "pattern": {
           "shape": ""
          }
         },
         "name": "2",
         "nbinsx": 11,
         "offsetgroup": "2",
         "orientation": "v",
         "showlegend": true,
         "type": "histogram",
         "x": [
          0,
          1,
          2,
          3,
          4,
          5,
          6,
          7,
          8,
          9,
          10
         ],
         "xaxis": "x",
         "y": [
          0,
          0,
          0,
          0,
          0,
          0,
          0,
          0,
          0,
          0,
          0
         ],
         "yaxis": "y"
        }
       ],
       "layout": {
        "barmode": "group",
        "height": 400,
        "legend": {
         "title": {
          "text": "waiter_nr"
         },
         "tracegroupgap": 0
        },
        "margin": {
         "t": 60
        },
        "template": {
         "data": {
          "bar": [
           {
            "error_x": {
             "color": "#2a3f5f"
            },
            "error_y": {
             "color": "#2a3f5f"
            },
            "marker": {
             "line": {
              "color": "#E5ECF6",
              "width": 0.5
             },
             "pattern": {
              "fillmode": "overlay",
              "size": 10,
              "solidity": 0.2
             }
            },
            "type": "bar"
           }
          ],
          "barpolar": [
           {
            "marker": {
             "line": {
              "color": "#E5ECF6",
              "width": 0.5
             },
             "pattern": {
              "fillmode": "overlay",
              "size": 10,
              "solidity": 0.2
             }
            },
            "type": "barpolar"
           }
          ],
          "carpet": [
           {
            "aaxis": {
             "endlinecolor": "#2a3f5f",
             "gridcolor": "white",
             "linecolor": "white",
             "minorgridcolor": "white",
             "startlinecolor": "#2a3f5f"
            },
            "baxis": {
             "endlinecolor": "#2a3f5f",
             "gridcolor": "white",
             "linecolor": "white",
             "minorgridcolor": "white",
             "startlinecolor": "#2a3f5f"
            },
            "type": "carpet"
           }
          ],
          "choropleth": [
           {
            "colorbar": {
             "outlinewidth": 0,
             "ticks": ""
            },
            "type": "choropleth"
           }
          ],
          "contour": [
           {
            "colorbar": {
             "outlinewidth": 0,
             "ticks": ""
            },
            "colorscale": [
             [
              0,
              "#0d0887"
             ],
             [
              0.1111111111111111,
              "#46039f"
             ],
             [
              0.2222222222222222,
              "#7201a8"
             ],
             [
              0.3333333333333333,
              "#9c179e"
             ],
             [
              0.4444444444444444,
              "#bd3786"
             ],
             [
              0.5555555555555556,
              "#d8576b"
             ],
             [
              0.6666666666666666,
              "#ed7953"
             ],
             [
              0.7777777777777778,
              "#fb9f3a"
             ],
             [
              0.8888888888888888,
              "#fdca26"
             ],
             [
              1,
              "#f0f921"
             ]
            ],
            "type": "contour"
           }
          ],
          "contourcarpet": [
           {
            "colorbar": {
             "outlinewidth": 0,
             "ticks": ""
            },
            "type": "contourcarpet"
           }
          ],
          "heatmap": [
           {
            "colorbar": {
             "outlinewidth": 0,
             "ticks": ""
            },
            "colorscale": [
             [
              0,
              "#0d0887"
             ],
             [
              0.1111111111111111,
              "#46039f"
             ],
             [
              0.2222222222222222,
              "#7201a8"
             ],
             [
              0.3333333333333333,
              "#9c179e"
             ],
             [
              0.4444444444444444,
              "#bd3786"
             ],
             [
              0.5555555555555556,
              "#d8576b"
             ],
             [
              0.6666666666666666,
              "#ed7953"
             ],
             [
              0.7777777777777778,
              "#fb9f3a"
             ],
             [
              0.8888888888888888,
              "#fdca26"
             ],
             [
              1,
              "#f0f921"
             ]
            ],
            "type": "heatmap"
           }
          ],
          "heatmapgl": [
           {
            "colorbar": {
             "outlinewidth": 0,
             "ticks": ""
            },
            "colorscale": [
             [
              0,
              "#0d0887"
             ],
             [
              0.1111111111111111,
              "#46039f"
             ],
             [
              0.2222222222222222,
              "#7201a8"
             ],
             [
              0.3333333333333333,
              "#9c179e"
             ],
             [
              0.4444444444444444,
              "#bd3786"
             ],
             [
              0.5555555555555556,
              "#d8576b"
             ],
             [
              0.6666666666666666,
              "#ed7953"
             ],
             [
              0.7777777777777778,
              "#fb9f3a"
             ],
             [
              0.8888888888888888,
              "#fdca26"
             ],
             [
              1,
              "#f0f921"
             ]
            ],
            "type": "heatmapgl"
           }
          ],
          "histogram": [
           {
            "marker": {
             "pattern": {
              "fillmode": "overlay",
              "size": 10,
              "solidity": 0.2
             }
            },
            "type": "histogram"
           }
          ],
          "histogram2d": [
           {
            "colorbar": {
             "outlinewidth": 0,
             "ticks": ""
            },
            "colorscale": [
             [
              0,
              "#0d0887"
             ],
             [
              0.1111111111111111,
              "#46039f"
             ],
             [
              0.2222222222222222,
              "#7201a8"
             ],
             [
              0.3333333333333333,
              "#9c179e"
             ],
             [
              0.4444444444444444,
              "#bd3786"
             ],
             [
              0.5555555555555556,
              "#d8576b"
             ],
             [
              0.6666666666666666,
              "#ed7953"
             ],
             [
              0.7777777777777778,
              "#fb9f3a"
             ],
             [
              0.8888888888888888,
              "#fdca26"
             ],
             [
              1,
              "#f0f921"
             ]
            ],
            "type": "histogram2d"
           }
          ],
          "histogram2dcontour": [
           {
            "colorbar": {
             "outlinewidth": 0,
             "ticks": ""
            },
            "colorscale": [
             [
              0,
              "#0d0887"
             ],
             [
              0.1111111111111111,
              "#46039f"
             ],
             [
              0.2222222222222222,
              "#7201a8"
             ],
             [
              0.3333333333333333,
              "#9c179e"
             ],
             [
              0.4444444444444444,
              "#bd3786"
             ],
             [
              0.5555555555555556,
              "#d8576b"
             ],
             [
              0.6666666666666666,
              "#ed7953"
             ],
             [
              0.7777777777777778,
              "#fb9f3a"
             ],
             [
              0.8888888888888888,
              "#fdca26"
             ],
             [
              1,
              "#f0f921"
             ]
            ],
            "type": "histogram2dcontour"
           }
          ],
          "mesh3d": [
           {
            "colorbar": {
             "outlinewidth": 0,
             "ticks": ""
            },
            "type": "mesh3d"
           }
          ],
          "parcoords": [
           {
            "line": {
             "colorbar": {
              "outlinewidth": 0,
              "ticks": ""
             }
            },
            "type": "parcoords"
           }
          ],
          "pie": [
           {
            "automargin": true,
            "type": "pie"
           }
          ],
          "scatter": [
           {
            "fillpattern": {
             "fillmode": "overlay",
             "size": 10,
             "solidity": 0.2
            },
            "type": "scatter"
           }
          ],
          "scatter3d": [
           {
            "line": {
             "colorbar": {
              "outlinewidth": 0,
              "ticks": ""
             }
            },
            "marker": {
             "colorbar": {
              "outlinewidth": 0,
              "ticks": ""
             }
            },
            "type": "scatter3d"
           }
          ],
          "scattercarpet": [
           {
            "marker": {
             "colorbar": {
              "outlinewidth": 0,
              "ticks": ""
             }
            },
            "type": "scattercarpet"
           }
          ],
          "scattergeo": [
           {
            "marker": {
             "colorbar": {
              "outlinewidth": 0,
              "ticks": ""
             }
            },
            "type": "scattergeo"
           }
          ],
          "scattergl": [
           {
            "marker": {
             "colorbar": {
              "outlinewidth": 0,
              "ticks": ""
             }
            },
            "type": "scattergl"
           }
          ],
          "scattermapbox": [
           {
            "marker": {
             "colorbar": {
              "outlinewidth": 0,
              "ticks": ""
             }
            },
            "type": "scattermapbox"
           }
          ],
          "scatterpolar": [
           {
            "marker": {
             "colorbar": {
              "outlinewidth": 0,
              "ticks": ""
             }
            },
            "type": "scatterpolar"
           }
          ],
          "scatterpolargl": [
           {
            "marker": {
             "colorbar": {
              "outlinewidth": 0,
              "ticks": ""
             }
            },
            "type": "scatterpolargl"
           }
          ],
          "scatterternary": [
           {
            "marker": {
             "colorbar": {
              "outlinewidth": 0,
              "ticks": ""
             }
            },
            "type": "scatterternary"
           }
          ],
          "surface": [
           {
            "colorbar": {
             "outlinewidth": 0,
             "ticks": ""
            },
            "colorscale": [
             [
              0,
              "#0d0887"
             ],
             [
              0.1111111111111111,
              "#46039f"
             ],
             [
              0.2222222222222222,
              "#7201a8"
             ],
             [
              0.3333333333333333,
              "#9c179e"
             ],
             [
              0.4444444444444444,
              "#bd3786"
             ],
             [
              0.5555555555555556,
              "#d8576b"
             ],
             [
              0.6666666666666666,
              "#ed7953"
             ],
             [
              0.7777777777777778,
              "#fb9f3a"
             ],
             [
              0.8888888888888888,
              "#fdca26"
             ],
             [
              1,
              "#f0f921"
             ]
            ],
            "type": "surface"
           }
          ],
          "table": [
           {
            "cells": {
             "fill": {
              "color": "#EBF0F8"
             },
             "line": {
              "color": "white"
             }
            },
            "header": {
             "fill": {
              "color": "#C8D4E3"
             },
             "line": {
              "color": "white"
             }
            },
            "type": "table"
           }
          ]
         },
         "layout": {
          "annotationdefaults": {
           "arrowcolor": "#2a3f5f",
           "arrowhead": 0,
           "arrowwidth": 1
          },
          "autotypenumbers": "strict",
          "coloraxis": {
           "colorbar": {
            "outlinewidth": 0,
            "ticks": ""
           }
          },
          "colorscale": {
           "diverging": [
            [
             0,
             "#8e0152"
            ],
            [
             0.1,
             "#c51b7d"
            ],
            [
             0.2,
             "#de77ae"
            ],
            [
             0.3,
             "#f1b6da"
            ],
            [
             0.4,
             "#fde0ef"
            ],
            [
             0.5,
             "#f7f7f7"
            ],
            [
             0.6,
             "#e6f5d0"
            ],
            [
             0.7,
             "#b8e186"
            ],
            [
             0.8,
             "#7fbc41"
            ],
            [
             0.9,
             "#4d9221"
            ],
            [
             1,
             "#276419"
            ]
           ],
           "sequential": [
            [
             0,
             "#0d0887"
            ],
            [
             0.1111111111111111,
             "#46039f"
            ],
            [
             0.2222222222222222,
             "#7201a8"
            ],
            [
             0.3333333333333333,
             "#9c179e"
            ],
            [
             0.4444444444444444,
             "#bd3786"
            ],
            [
             0.5555555555555556,
             "#d8576b"
            ],
            [
             0.6666666666666666,
             "#ed7953"
            ],
            [
             0.7777777777777778,
             "#fb9f3a"
            ],
            [
             0.8888888888888888,
             "#fdca26"
            ],
            [
             1,
             "#f0f921"
            ]
           ],
           "sequentialminus": [
            [
             0,
             "#0d0887"
            ],
            [
             0.1111111111111111,
             "#46039f"
            ],
            [
             0.2222222222222222,
             "#7201a8"
            ],
            [
             0.3333333333333333,
             "#9c179e"
            ],
            [
             0.4444444444444444,
             "#bd3786"
            ],
            [
             0.5555555555555556,
             "#d8576b"
            ],
            [
             0.6666666666666666,
             "#ed7953"
            ],
            [
             0.7777777777777778,
             "#fb9f3a"
            ],
            [
             0.8888888888888888,
             "#fdca26"
            ],
            [
             1,
             "#f0f921"
            ]
           ]
          },
          "colorway": [
           "#636efa",
           "#EF553B",
           "#00cc96",
           "#ab63fa",
           "#FFA15A",
           "#19d3f3",
           "#FF6692",
           "#B6E880",
           "#FF97FF",
           "#FECB52"
          ],
          "font": {
           "color": "#2a3f5f"
          },
          "geo": {
           "bgcolor": "white",
           "lakecolor": "white",
           "landcolor": "#E5ECF6",
           "showlakes": true,
           "showland": true,
           "subunitcolor": "white"
          },
          "hoverlabel": {
           "align": "left"
          },
          "hovermode": "closest",
          "mapbox": {
           "style": "light"
          },
          "paper_bgcolor": "white",
          "plot_bgcolor": "#E5ECF6",
          "polar": {
           "angularaxis": {
            "gridcolor": "white",
            "linecolor": "white",
            "ticks": ""
           },
           "bgcolor": "#E5ECF6",
           "radialaxis": {
            "gridcolor": "white",
            "linecolor": "white",
            "ticks": ""
           }
          },
          "scene": {
           "xaxis": {
            "backgroundcolor": "#E5ECF6",
            "gridcolor": "white",
            "gridwidth": 2,
            "linecolor": "white",
            "showbackground": true,
            "ticks": "",
            "zerolinecolor": "white"
           },
           "yaxis": {
            "backgroundcolor": "#E5ECF6",
            "gridcolor": "white",
            "gridwidth": 2,
            "linecolor": "white",
            "showbackground": true,
            "ticks": "",
            "zerolinecolor": "white"
           },
           "zaxis": {
            "backgroundcolor": "#E5ECF6",
            "gridcolor": "white",
            "gridwidth": 2,
            "linecolor": "white",
            "showbackground": true,
            "ticks": "",
            "zerolinecolor": "white"
           }
          },
          "shapedefaults": {
           "line": {
            "color": "#2a3f5f"
           }
          },
          "ternary": {
           "aaxis": {
            "gridcolor": "white",
            "linecolor": "white",
            "ticks": ""
           },
           "baxis": {
            "gridcolor": "white",
            "linecolor": "white",
            "ticks": ""
           },
           "bgcolor": "#E5ECF6",
           "caxis": {
            "gridcolor": "white",
            "linecolor": "white",
            "ticks": ""
           }
          },
          "title": {
           "x": 0.05
          },
          "xaxis": {
           "automargin": true,
           "gridcolor": "white",
           "linecolor": "white",
           "ticks": "",
           "title": {
            "standoff": 15
           },
           "zerolinecolor": "white",
           "zerolinewidth": 2
          },
          "yaxis": {
           "automargin": true,
           "gridcolor": "white",
           "linecolor": "white",
           "ticks": "",
           "title": {
            "standoff": 15
           },
           "zerolinecolor": "white",
           "zerolinewidth": 2
          }
         }
        },
        "xaxis": {
         "anchor": "y",
         "domain": [
          0,
          1
         ],
         "title": {
          "text": "step"
         }
        },
        "yaxis": {
         "anchor": "x",
         "domain": [
          0,
          1
         ],
         "title": {
          "text": "sum of avg_rating"
         }
        }
       }
      }
     },
     "metadata": {},
     "output_type": "display_data"
    },
    {
     "name": "stdout",
     "output_type": "stream",
     "text": [
      "None\n"
     ]
    },
    {
     "data": {
      "application/vnd.plotly.v1+json": {
       "config": {
        "plotlyServerURL": "https://plot.ly"
       },
       "data": [
        {
         "alignmentgroup": "True",
         "bingroup": "x",
         "histfunc": "sum",
         "hovertemplate": "waiter_nr=1<br>step=%{x}<br>sum of served_customers=%{y}<extra></extra>",
         "legendgroup": "1",
         "marker": {
          "color": "#636efa",
          "pattern": {
           "shape": ""
          }
         },
         "name": "1",
         "nbinsx": 11,
         "offsetgroup": "1",
         "orientation": "v",
         "showlegend": true,
         "type": "histogram",
         "x": [
          0,
          1,
          2,
          3,
          4,
          5,
          6,
          7,
          8,
          9,
          10
         ],
         "xaxis": "x",
         "y": [
          0,
          0,
          0,
          0,
          0,
          0,
          0,
          0,
          0,
          0,
          0
         ],
         "yaxis": "y"
        },
        {
         "alignmentgroup": "True",
         "bingroup": "x",
         "histfunc": "sum",
         "hovertemplate": "waiter_nr=2<br>step=%{x}<br>sum of served_customers=%{y}<extra></extra>",
         "legendgroup": "2",
         "marker": {
          "color": "#EF553B",
          "pattern": {
           "shape": ""
          }
         },
         "name": "2",
         "nbinsx": 11,
         "offsetgroup": "2",
         "orientation": "v",
         "showlegend": true,
         "type": "histogram",
         "x": [
          0,
          1,
          2,
          3,
          4,
          5,
          6,
          7,
          8,
          9,
          10
         ],
         "xaxis": "x",
         "y": [
          0,
          0,
          0,
          0,
          0,
          0,
          0,
          0,
          0,
          0,
          0
         ],
         "yaxis": "y"
        }
       ],
       "layout": {
        "barmode": "group",
        "height": 400,
        "legend": {
         "title": {
          "text": "waiter_nr"
         },
         "tracegroupgap": 0
        },
        "margin": {
         "t": 60
        },
        "template": {
         "data": {
          "bar": [
           {
            "error_x": {
             "color": "#2a3f5f"
            },
            "error_y": {
             "color": "#2a3f5f"
            },
            "marker": {
             "line": {
              "color": "#E5ECF6",
              "width": 0.5
             },
             "pattern": {
              "fillmode": "overlay",
              "size": 10,
              "solidity": 0.2
             }
            },
            "type": "bar"
           }
          ],
          "barpolar": [
           {
            "marker": {
             "line": {
              "color": "#E5ECF6",
              "width": 0.5
             },
             "pattern": {
              "fillmode": "overlay",
              "size": 10,
              "solidity": 0.2
             }
            },
            "type": "barpolar"
           }
          ],
          "carpet": [
           {
            "aaxis": {
             "endlinecolor": "#2a3f5f",
             "gridcolor": "white",
             "linecolor": "white",
             "minorgridcolor": "white",
             "startlinecolor": "#2a3f5f"
            },
            "baxis": {
             "endlinecolor": "#2a3f5f",
             "gridcolor": "white",
             "linecolor": "white",
             "minorgridcolor": "white",
             "startlinecolor": "#2a3f5f"
            },
            "type": "carpet"
           }
          ],
          "choropleth": [
           {
            "colorbar": {
             "outlinewidth": 0,
             "ticks": ""
            },
            "type": "choropleth"
           }
          ],
          "contour": [
           {
            "colorbar": {
             "outlinewidth": 0,
             "ticks": ""
            },
            "colorscale": [
             [
              0,
              "#0d0887"
             ],
             [
              0.1111111111111111,
              "#46039f"
             ],
             [
              0.2222222222222222,
              "#7201a8"
             ],
             [
              0.3333333333333333,
              "#9c179e"
             ],
             [
              0.4444444444444444,
              "#bd3786"
             ],
             [
              0.5555555555555556,
              "#d8576b"
             ],
             [
              0.6666666666666666,
              "#ed7953"
             ],
             [
              0.7777777777777778,
              "#fb9f3a"
             ],
             [
              0.8888888888888888,
              "#fdca26"
             ],
             [
              1,
              "#f0f921"
             ]
            ],
            "type": "contour"
           }
          ],
          "contourcarpet": [
           {
            "colorbar": {
             "outlinewidth": 0,
             "ticks": ""
            },
            "type": "contourcarpet"
           }
          ],
          "heatmap": [
           {
            "colorbar": {
             "outlinewidth": 0,
             "ticks": ""
            },
            "colorscale": [
             [
              0,
              "#0d0887"
             ],
             [
              0.1111111111111111,
              "#46039f"
             ],
             [
              0.2222222222222222,
              "#7201a8"
             ],
             [
              0.3333333333333333,
              "#9c179e"
             ],
             [
              0.4444444444444444,
              "#bd3786"
             ],
             [
              0.5555555555555556,
              "#d8576b"
             ],
             [
              0.6666666666666666,
              "#ed7953"
             ],
             [
              0.7777777777777778,
              "#fb9f3a"
             ],
             [
              0.8888888888888888,
              "#fdca26"
             ],
             [
              1,
              "#f0f921"
             ]
            ],
            "type": "heatmap"
           }
          ],
          "heatmapgl": [
           {
            "colorbar": {
             "outlinewidth": 0,
             "ticks": ""
            },
            "colorscale": [
             [
              0,
              "#0d0887"
             ],
             [
              0.1111111111111111,
              "#46039f"
             ],
             [
              0.2222222222222222,
              "#7201a8"
             ],
             [
              0.3333333333333333,
              "#9c179e"
             ],
             [
              0.4444444444444444,
              "#bd3786"
             ],
             [
              0.5555555555555556,
              "#d8576b"
             ],
             [
              0.6666666666666666,
              "#ed7953"
             ],
             [
              0.7777777777777778,
              "#fb9f3a"
             ],
             [
              0.8888888888888888,
              "#fdca26"
             ],
             [
              1,
              "#f0f921"
             ]
            ],
            "type": "heatmapgl"
           }
          ],
          "histogram": [
           {
            "marker": {
             "pattern": {
              "fillmode": "overlay",
              "size": 10,
              "solidity": 0.2
             }
            },
            "type": "histogram"
           }
          ],
          "histogram2d": [
           {
            "colorbar": {
             "outlinewidth": 0,
             "ticks": ""
            },
            "colorscale": [
             [
              0,
              "#0d0887"
             ],
             [
              0.1111111111111111,
              "#46039f"
             ],
             [
              0.2222222222222222,
              "#7201a8"
             ],
             [
              0.3333333333333333,
              "#9c179e"
             ],
             [
              0.4444444444444444,
              "#bd3786"
             ],
             [
              0.5555555555555556,
              "#d8576b"
             ],
             [
              0.6666666666666666,
              "#ed7953"
             ],
             [
              0.7777777777777778,
              "#fb9f3a"
             ],
             [
              0.8888888888888888,
              "#fdca26"
             ],
             [
              1,
              "#f0f921"
             ]
            ],
            "type": "histogram2d"
           }
          ],
          "histogram2dcontour": [
           {
            "colorbar": {
             "outlinewidth": 0,
             "ticks": ""
            },
            "colorscale": [
             [
              0,
              "#0d0887"
             ],
             [
              0.1111111111111111,
              "#46039f"
             ],
             [
              0.2222222222222222,
              "#7201a8"
             ],
             [
              0.3333333333333333,
              "#9c179e"
             ],
             [
              0.4444444444444444,
              "#bd3786"
             ],
             [
              0.5555555555555556,
              "#d8576b"
             ],
             [
              0.6666666666666666,
              "#ed7953"
             ],
             [
              0.7777777777777778,
              "#fb9f3a"
             ],
             [
              0.8888888888888888,
              "#fdca26"
             ],
             [
              1,
              "#f0f921"
             ]
            ],
            "type": "histogram2dcontour"
           }
          ],
          "mesh3d": [
           {
            "colorbar": {
             "outlinewidth": 0,
             "ticks": ""
            },
            "type": "mesh3d"
           }
          ],
          "parcoords": [
           {
            "line": {
             "colorbar": {
              "outlinewidth": 0,
              "ticks": ""
             }
            },
            "type": "parcoords"
           }
          ],
          "pie": [
           {
            "automargin": true,
            "type": "pie"
           }
          ],
          "scatter": [
           {
            "fillpattern": {
             "fillmode": "overlay",
             "size": 10,
             "solidity": 0.2
            },
            "type": "scatter"
           }
          ],
          "scatter3d": [
           {
            "line": {
             "colorbar": {
              "outlinewidth": 0,
              "ticks": ""
             }
            },
            "marker": {
             "colorbar": {
              "outlinewidth": 0,
              "ticks": ""
             }
            },
            "type": "scatter3d"
           }
          ],
          "scattercarpet": [
           {
            "marker": {
             "colorbar": {
              "outlinewidth": 0,
              "ticks": ""
             }
            },
            "type": "scattercarpet"
           }
          ],
          "scattergeo": [
           {
            "marker": {
             "colorbar": {
              "outlinewidth": 0,
              "ticks": ""
             }
            },
            "type": "scattergeo"
           }
          ],
          "scattergl": [
           {
            "marker": {
             "colorbar": {
              "outlinewidth": 0,
              "ticks": ""
             }
            },
            "type": "scattergl"
           }
          ],
          "scattermapbox": [
           {
            "marker": {
             "colorbar": {
              "outlinewidth": 0,
              "ticks": ""
             }
            },
            "type": "scattermapbox"
           }
          ],
          "scatterpolar": [
           {
            "marker": {
             "colorbar": {
              "outlinewidth": 0,
              "ticks": ""
             }
            },
            "type": "scatterpolar"
           }
          ],
          "scatterpolargl": [
           {
            "marker": {
             "colorbar": {
              "outlinewidth": 0,
              "ticks": ""
             }
            },
            "type": "scatterpolargl"
           }
          ],
          "scatterternary": [
           {
            "marker": {
             "colorbar": {
              "outlinewidth": 0,
              "ticks": ""
             }
            },
            "type": "scatterternary"
           }
          ],
          "surface": [
           {
            "colorbar": {
             "outlinewidth": 0,
             "ticks": ""
            },
            "colorscale": [
             [
              0,
              "#0d0887"
             ],
             [
              0.1111111111111111,
              "#46039f"
             ],
             [
              0.2222222222222222,
              "#7201a8"
             ],
             [
              0.3333333333333333,
              "#9c179e"
             ],
             [
              0.4444444444444444,
              "#bd3786"
             ],
             [
              0.5555555555555556,
              "#d8576b"
             ],
             [
              0.6666666666666666,
              "#ed7953"
             ],
             [
              0.7777777777777778,
              "#fb9f3a"
             ],
             [
              0.8888888888888888,
              "#fdca26"
             ],
             [
              1,
              "#f0f921"
             ]
            ],
            "type": "surface"
           }
          ],
          "table": [
           {
            "cells": {
             "fill": {
              "color": "#EBF0F8"
             },
             "line": {
              "color": "white"
             }
            },
            "header": {
             "fill": {
              "color": "#C8D4E3"
             },
             "line": {
              "color": "white"
             }
            },
            "type": "table"
           }
          ]
         },
         "layout": {
          "annotationdefaults": {
           "arrowcolor": "#2a3f5f",
           "arrowhead": 0,
           "arrowwidth": 1
          },
          "autotypenumbers": "strict",
          "coloraxis": {
           "colorbar": {
            "outlinewidth": 0,
            "ticks": ""
           }
          },
          "colorscale": {
           "diverging": [
            [
             0,
             "#8e0152"
            ],
            [
             0.1,
             "#c51b7d"
            ],
            [
             0.2,
             "#de77ae"
            ],
            [
             0.3,
             "#f1b6da"
            ],
            [
             0.4,
             "#fde0ef"
            ],
            [
             0.5,
             "#f7f7f7"
            ],
            [
             0.6,
             "#e6f5d0"
            ],
            [
             0.7,
             "#b8e186"
            ],
            [
             0.8,
             "#7fbc41"
            ],
            [
             0.9,
             "#4d9221"
            ],
            [
             1,
             "#276419"
            ]
           ],
           "sequential": [
            [
             0,
             "#0d0887"
            ],
            [
             0.1111111111111111,
             "#46039f"
            ],
            [
             0.2222222222222222,
             "#7201a8"
            ],
            [
             0.3333333333333333,
             "#9c179e"
            ],
            [
             0.4444444444444444,
             "#bd3786"
            ],
            [
             0.5555555555555556,
             "#d8576b"
            ],
            [
             0.6666666666666666,
             "#ed7953"
            ],
            [
             0.7777777777777778,
             "#fb9f3a"
            ],
            [
             0.8888888888888888,
             "#fdca26"
            ],
            [
             1,
             "#f0f921"
            ]
           ],
           "sequentialminus": [
            [
             0,
             "#0d0887"
            ],
            [
             0.1111111111111111,
             "#46039f"
            ],
            [
             0.2222222222222222,
             "#7201a8"
            ],
            [
             0.3333333333333333,
             "#9c179e"
            ],
            [
             0.4444444444444444,
             "#bd3786"
            ],
            [
             0.5555555555555556,
             "#d8576b"
            ],
            [
             0.6666666666666666,
             "#ed7953"
            ],
            [
             0.7777777777777778,
             "#fb9f3a"
            ],
            [
             0.8888888888888888,
             "#fdca26"
            ],
            [
             1,
             "#f0f921"
            ]
           ]
          },
          "colorway": [
           "#636efa",
           "#EF553B",
           "#00cc96",
           "#ab63fa",
           "#FFA15A",
           "#19d3f3",
           "#FF6692",
           "#B6E880",
           "#FF97FF",
           "#FECB52"
          ],
          "font": {
           "color": "#2a3f5f"
          },
          "geo": {
           "bgcolor": "white",
           "lakecolor": "white",
           "landcolor": "#E5ECF6",
           "showlakes": true,
           "showland": true,
           "subunitcolor": "white"
          },
          "hoverlabel": {
           "align": "left"
          },
          "hovermode": "closest",
          "mapbox": {
           "style": "light"
          },
          "paper_bgcolor": "white",
          "plot_bgcolor": "#E5ECF6",
          "polar": {
           "angularaxis": {
            "gridcolor": "white",
            "linecolor": "white",
            "ticks": ""
           },
           "bgcolor": "#E5ECF6",
           "radialaxis": {
            "gridcolor": "white",
            "linecolor": "white",
            "ticks": ""
           }
          },
          "scene": {
           "xaxis": {
            "backgroundcolor": "#E5ECF6",
            "gridcolor": "white",
            "gridwidth": 2,
            "linecolor": "white",
            "showbackground": true,
            "ticks": "",
            "zerolinecolor": "white"
           },
           "yaxis": {
            "backgroundcolor": "#E5ECF6",
            "gridcolor": "white",
            "gridwidth": 2,
            "linecolor": "white",
            "showbackground": true,
            "ticks": "",
            "zerolinecolor": "white"
           },
           "zaxis": {
            "backgroundcolor": "#E5ECF6",
            "gridcolor": "white",
            "gridwidth": 2,
            "linecolor": "white",
            "showbackground": true,
            "ticks": "",
            "zerolinecolor": "white"
           }
          },
          "shapedefaults": {
           "line": {
            "color": "#2a3f5f"
           }
          },
          "ternary": {
           "aaxis": {
            "gridcolor": "white",
            "linecolor": "white",
            "ticks": ""
           },
           "baxis": {
            "gridcolor": "white",
            "linecolor": "white",
            "ticks": ""
           },
           "bgcolor": "#E5ECF6",
           "caxis": {
            "gridcolor": "white",
            "linecolor": "white",
            "ticks": ""
           }
          },
          "title": {
           "x": 0.05
          },
          "xaxis": {
           "automargin": true,
           "gridcolor": "white",
           "linecolor": "white",
           "ticks": "",
           "title": {
            "standoff": 15
           },
           "zerolinecolor": "white",
           "zerolinewidth": 2
          },
          "yaxis": {
           "automargin": true,
           "gridcolor": "white",
           "linecolor": "white",
           "ticks": "",
           "title": {
            "standoff": 15
           },
           "zerolinecolor": "white",
           "zerolinewidth": 2
          }
         }
        },
        "xaxis": {
         "anchor": "y",
         "domain": [
          0,
          1
         ],
         "title": {
          "text": "step"
         }
        },
        "yaxis": {
         "anchor": "x",
         "domain": [
          0,
          1
         ],
         "title": {
          "text": "sum of served_customers"
         }
        }
       }
      }
     },
     "metadata": {},
     "output_type": "display_data"
    },
    {
     "name": "stdout",
     "output_type": "stream",
     "text": [
      "None\n"
     ]
    }
   ],
   "source": [
    "from mesa_restaurant_agents.visualization import *\n",
    "\n",
    "df_mean_step = display_mean_step_results(results)\n",
    "df_first_run_customer = display_first_run_step_results_customer(results)\n",
    "df_first_run_waiter = display_first_run_step_results_waiter(results)"
   ]
  },
  {
   "cell_type": "code",
   "execution_count": 5,
   "metadata": {},
   "outputs": [
    {
     "data": {
      "text/html": [
       "<div>\n",
       "<style scoped>\n",
       "    .dataframe tbody tr th:only-of-type {\n",
       "        vertical-align: middle;\n",
       "    }\n",
       "\n",
       "    .dataframe tbody tr th {\n",
       "        vertical-align: top;\n",
       "    }\n",
       "\n",
       "    .dataframe thead th {\n",
       "        text-align: right;\n",
       "    }\n",
       "</style>\n",
       "<table border=\"1\" class=\"dataframe\">\n",
       "  <thead>\n",
       "    <tr style=\"text-align: right;\">\n",
       "      <th></th>\n",
       "      <th>Step</th>\n",
       "      <th>mean_customer_count</th>\n",
       "      <th>mean_waiting_time</th>\n",
       "      <th>mean_customer_satisfaction</th>\n",
       "      <th>mean_profit</th>\n",
       "    </tr>\n",
       "  </thead>\n",
       "  <tbody>\n",
       "    <tr>\n",
       "      <th>0</th>\n",
       "      <td>0</td>\n",
       "      <td>2.2</td>\n",
       "      <td>0.000000</td>\n",
       "      <td>100.000000</td>\n",
       "      <td>0.0</td>\n",
       "    </tr>\n",
       "    <tr>\n",
       "      <th>1</th>\n",
       "      <td>1</td>\n",
       "      <td>3.6</td>\n",
       "      <td>0.000000</td>\n",
       "      <td>100.000000</td>\n",
       "      <td>0.0</td>\n",
       "    </tr>\n",
       "    <tr>\n",
       "      <th>2</th>\n",
       "      <td>2</td>\n",
       "      <td>5.4</td>\n",
       "      <td>1.750000</td>\n",
       "      <td>96.500000</td>\n",
       "      <td>0.0</td>\n",
       "    </tr>\n",
       "    <tr>\n",
       "      <th>3</th>\n",
       "      <td>3</td>\n",
       "      <td>6.6</td>\n",
       "      <td>3.702778</td>\n",
       "      <td>92.594444</td>\n",
       "      <td>0.0</td>\n",
       "    </tr>\n",
       "    <tr>\n",
       "      <th>4</th>\n",
       "      <td>4</td>\n",
       "      <td>9.4</td>\n",
       "      <td>5.250466</td>\n",
       "      <td>89.499068</td>\n",
       "      <td>0.0</td>\n",
       "    </tr>\n",
       "    <tr>\n",
       "      <th>5</th>\n",
       "      <td>5</td>\n",
       "      <td>11.6</td>\n",
       "      <td>7.058730</td>\n",
       "      <td>85.882540</td>\n",
       "      <td>0.0</td>\n",
       "    </tr>\n",
       "    <tr>\n",
       "      <th>6</th>\n",
       "      <td>6</td>\n",
       "      <td>13.0</td>\n",
       "      <td>9.854237</td>\n",
       "      <td>80.291527</td>\n",
       "      <td>0.0</td>\n",
       "    </tr>\n",
       "    <tr>\n",
       "      <th>7</th>\n",
       "      <td>7</td>\n",
       "      <td>14.8</td>\n",
       "      <td>12.556220</td>\n",
       "      <td>74.887560</td>\n",
       "      <td>0.0</td>\n",
       "    </tr>\n",
       "    <tr>\n",
       "      <th>8</th>\n",
       "      <td>8</td>\n",
       "      <td>18.4</td>\n",
       "      <td>13.499873</td>\n",
       "      <td>73.000253</td>\n",
       "      <td>0.0</td>\n",
       "    </tr>\n",
       "    <tr>\n",
       "      <th>9</th>\n",
       "      <td>9</td>\n",
       "      <td>21.2</td>\n",
       "      <td>15.245128</td>\n",
       "      <td>69.509744</td>\n",
       "      <td>0.0</td>\n",
       "    </tr>\n",
       "    <tr>\n",
       "      <th>10</th>\n",
       "      <td>10</td>\n",
       "      <td>23.6</td>\n",
       "      <td>17.553302</td>\n",
       "      <td>64.893397</td>\n",
       "      <td>0.0</td>\n",
       "    </tr>\n",
       "  </tbody>\n",
       "</table>\n",
       "</div>"
      ],
      "text/plain": [
       "    Step  mean_customer_count  mean_waiting_time  mean_customer_satisfaction  \\\n",
       "0      0                  2.2           0.000000                  100.000000   \n",
       "1      1                  3.6           0.000000                  100.000000   \n",
       "2      2                  5.4           1.750000                   96.500000   \n",
       "3      3                  6.6           3.702778                   92.594444   \n",
       "4      4                  9.4           5.250466                   89.499068   \n",
       "5      5                 11.6           7.058730                   85.882540   \n",
       "6      6                 13.0           9.854237                   80.291527   \n",
       "7      7                 14.8          12.556220                   74.887560   \n",
       "8      8                 18.4          13.499873                   73.000253   \n",
       "9      9                 21.2          15.245128                   69.509744   \n",
       "10    10                 23.6          17.553302                   64.893397   \n",
       "\n",
       "    mean_profit  \n",
       "0           0.0  \n",
       "1           0.0  \n",
       "2           0.0  \n",
       "3           0.0  \n",
       "4           0.0  \n",
       "5           0.0  \n",
       "6           0.0  \n",
       "7           0.0  \n",
       "8           0.0  \n",
       "9           0.0  \n",
       "10          0.0  "
      ]
     },
     "execution_count": 5,
     "metadata": {},
     "output_type": "execute_result"
    }
   ],
   "source": [
    "df_mean_step"
   ]
  },
  {
   "cell_type": "code",
   "execution_count": 6,
   "metadata": {},
   "outputs": [
    {
     "data": {
      "text/html": [
       "<div>\n",
       "<style scoped>\n",
       "    .dataframe tbody tr th:only-of-type {\n",
       "        vertical-align: middle;\n",
       "    }\n",
       "\n",
       "    .dataframe tbody tr th {\n",
       "        vertical-align: top;\n",
       "    }\n",
       "\n",
       "    .dataframe thead th {\n",
       "        text-align: right;\n",
       "    }\n",
       "</style>\n",
       "<table border=\"1\" class=\"dataframe\">\n",
       "  <thead>\n",
       "    <tr style=\"text-align: right;\">\n",
       "      <th></th>\n",
       "      <th>customer_nr</th>\n",
       "      <th>waiting_time</th>\n",
       "      <th>order_status</th>\n",
       "      <th>satisfaction</th>\n",
       "      <th>step</th>\n",
       "    </tr>\n",
       "  </thead>\n",
       "  <tbody>\n",
       "    <tr>\n",
       "      <th>0</th>\n",
       "      <td>4</td>\n",
       "      <td>0.0</td>\n",
       "      <td>1</td>\n",
       "      <td>100.0</td>\n",
       "      <td>0</td>\n",
       "    </tr>\n",
       "    <tr>\n",
       "      <th>1</th>\n",
       "      <td>4</td>\n",
       "      <td>0.0</td>\n",
       "      <td>1</td>\n",
       "      <td>100.0</td>\n",
       "      <td>1</td>\n",
       "    </tr>\n",
       "    <tr>\n",
       "      <th>2</th>\n",
       "      <td>4</td>\n",
       "      <td>5.0</td>\n",
       "      <td>1</td>\n",
       "      <td>90.0</td>\n",
       "      <td>2</td>\n",
       "    </tr>\n",
       "    <tr>\n",
       "      <th>4</th>\n",
       "      <td>4</td>\n",
       "      <td>10.0</td>\n",
       "      <td>1</td>\n",
       "      <td>80.0</td>\n",
       "      <td>3</td>\n",
       "    </tr>\n",
       "    <tr>\n",
       "      <th>7</th>\n",
       "      <td>4</td>\n",
       "      <td>15.0</td>\n",
       "      <td>1</td>\n",
       "      <td>70.0</td>\n",
       "      <td>4</td>\n",
       "    </tr>\n",
       "    <tr>\n",
       "      <th>...</th>\n",
       "      <td>...</td>\n",
       "      <td>...</td>\n",
       "      <td>...</td>\n",
       "      <td>...</td>\n",
       "      <td>...</td>\n",
       "    </tr>\n",
       "    <tr>\n",
       "      <th>69</th>\n",
       "      <td>15</td>\n",
       "      <td>5.0</td>\n",
       "      <td>1</td>\n",
       "      <td>90.0</td>\n",
       "      <td>10</td>\n",
       "    </tr>\n",
       "    <tr>\n",
       "      <th>57</th>\n",
       "      <td>16</td>\n",
       "      <td>0.0</td>\n",
       "      <td>1</td>\n",
       "      <td>100.0</td>\n",
       "      <td>9</td>\n",
       "    </tr>\n",
       "    <tr>\n",
       "      <th>70</th>\n",
       "      <td>16</td>\n",
       "      <td>0.0</td>\n",
       "      <td>1</td>\n",
       "      <td>100.0</td>\n",
       "      <td>10</td>\n",
       "    </tr>\n",
       "    <tr>\n",
       "      <th>71</th>\n",
       "      <td>17</td>\n",
       "      <td>0.0</td>\n",
       "      <td>1</td>\n",
       "      <td>100.0</td>\n",
       "      <td>10</td>\n",
       "    </tr>\n",
       "    <tr>\n",
       "      <th>72</th>\n",
       "      <td>18</td>\n",
       "      <td>0.0</td>\n",
       "      <td>1</td>\n",
       "      <td>100.0</td>\n",
       "      <td>10</td>\n",
       "    </tr>\n",
       "  </tbody>\n",
       "</table>\n",
       "<p>73 rows × 5 columns</p>\n",
       "</div>"
      ],
      "text/plain": [
       "    customer_nr  waiting_time  order_status  satisfaction  step\n",
       "0             4           0.0             1         100.0     0\n",
       "1             4           0.0             1         100.0     1\n",
       "2             4           5.0             1          90.0     2\n",
       "4             4          10.0             1          80.0     3\n",
       "7             4          15.0             1          70.0     4\n",
       "..          ...           ...           ...           ...   ...\n",
       "69           15           5.0             1          90.0    10\n",
       "57           16           0.0             1         100.0     9\n",
       "70           16           0.0             1         100.0    10\n",
       "71           17           0.0             1         100.0    10\n",
       "72           18           0.0             1         100.0    10\n",
       "\n",
       "[73 rows x 5 columns]"
      ]
     },
     "execution_count": 6,
     "metadata": {},
     "output_type": "execute_result"
    }
   ],
   "source": [
    "df_first_run_customer.sort_values(['customer_nr', 'step'])"
   ]
  },
  {
   "cell_type": "code",
   "execution_count": 7,
   "metadata": {},
   "outputs": [
    {
     "data": {
      "text/html": [
       "<div>\n",
       "<style scoped>\n",
       "    .dataframe tbody tr th:only-of-type {\n",
       "        vertical-align: middle;\n",
       "    }\n",
       "\n",
       "    .dataframe tbody tr th {\n",
       "        vertical-align: top;\n",
       "    }\n",
       "\n",
       "    .dataframe thead th {\n",
       "        text-align: right;\n",
       "    }\n",
       "</style>\n",
       "<table border=\"1\" class=\"dataframe\">\n",
       "  <thead>\n",
       "    <tr style=\"text-align: right;\">\n",
       "      <th></th>\n",
       "      <th>waiter_nr</th>\n",
       "      <th>current_orders</th>\n",
       "      <th>tips</th>\n",
       "      <th>avg_rating</th>\n",
       "      <th>served_customers</th>\n",
       "      <th>step</th>\n",
       "    </tr>\n",
       "  </thead>\n",
       "  <tbody>\n",
       "    <tr>\n",
       "      <th>0</th>\n",
       "      <td>1</td>\n",
       "      <td>{}</td>\n",
       "      <td>0</td>\n",
       "      <td>0</td>\n",
       "      <td>0</td>\n",
       "      <td>0</td>\n",
       "    </tr>\n",
       "    <tr>\n",
       "      <th>2</th>\n",
       "      <td>1</td>\n",
       "      <td>{}</td>\n",
       "      <td>0</td>\n",
       "      <td>0</td>\n",
       "      <td>0</td>\n",
       "      <td>1</td>\n",
       "    </tr>\n",
       "    <tr>\n",
       "      <th>4</th>\n",
       "      <td>1</td>\n",
       "      <td>{}</td>\n",
       "      <td>0</td>\n",
       "      <td>0</td>\n",
       "      <td>0</td>\n",
       "      <td>2</td>\n",
       "    </tr>\n",
       "    <tr>\n",
       "      <th>6</th>\n",
       "      <td>1</td>\n",
       "      <td>{}</td>\n",
       "      <td>0</td>\n",
       "      <td>0</td>\n",
       "      <td>0</td>\n",
       "      <td>3</td>\n",
       "    </tr>\n",
       "    <tr>\n",
       "      <th>8</th>\n",
       "      <td>1</td>\n",
       "      <td>{}</td>\n",
       "      <td>0</td>\n",
       "      <td>0</td>\n",
       "      <td>0</td>\n",
       "      <td>4</td>\n",
       "    </tr>\n",
       "    <tr>\n",
       "      <th>10</th>\n",
       "      <td>1</td>\n",
       "      <td>{}</td>\n",
       "      <td>0</td>\n",
       "      <td>0</td>\n",
       "      <td>0</td>\n",
       "      <td>5</td>\n",
       "    </tr>\n",
       "    <tr>\n",
       "      <th>12</th>\n",
       "      <td>1</td>\n",
       "      <td>{}</td>\n",
       "      <td>0</td>\n",
       "      <td>0</td>\n",
       "      <td>0</td>\n",
       "      <td>6</td>\n",
       "    </tr>\n",
       "    <tr>\n",
       "      <th>14</th>\n",
       "      <td>1</td>\n",
       "      <td>{}</td>\n",
       "      <td>0</td>\n",
       "      <td>0</td>\n",
       "      <td>0</td>\n",
       "      <td>7</td>\n",
       "    </tr>\n",
       "    <tr>\n",
       "      <th>16</th>\n",
       "      <td>1</td>\n",
       "      <td>{}</td>\n",
       "      <td>0</td>\n",
       "      <td>0</td>\n",
       "      <td>0</td>\n",
       "      <td>8</td>\n",
       "    </tr>\n",
       "    <tr>\n",
       "      <th>18</th>\n",
       "      <td>1</td>\n",
       "      <td>{}</td>\n",
       "      <td>0</td>\n",
       "      <td>0</td>\n",
       "      <td>0</td>\n",
       "      <td>9</td>\n",
       "    </tr>\n",
       "    <tr>\n",
       "      <th>20</th>\n",
       "      <td>1</td>\n",
       "      <td>{}</td>\n",
       "      <td>0</td>\n",
       "      <td>0</td>\n",
       "      <td>0</td>\n",
       "      <td>10</td>\n",
       "    </tr>\n",
       "    <tr>\n",
       "      <th>1</th>\n",
       "      <td>2</td>\n",
       "      <td>{}</td>\n",
       "      <td>0</td>\n",
       "      <td>0</td>\n",
       "      <td>0</td>\n",
       "      <td>0</td>\n",
       "    </tr>\n",
       "    <tr>\n",
       "      <th>3</th>\n",
       "      <td>2</td>\n",
       "      <td>{}</td>\n",
       "      <td>0</td>\n",
       "      <td>0</td>\n",
       "      <td>0</td>\n",
       "      <td>1</td>\n",
       "    </tr>\n",
       "    <tr>\n",
       "      <th>5</th>\n",
       "      <td>2</td>\n",
       "      <td>{}</td>\n",
       "      <td>0</td>\n",
       "      <td>0</td>\n",
       "      <td>0</td>\n",
       "      <td>2</td>\n",
       "    </tr>\n",
       "    <tr>\n",
       "      <th>7</th>\n",
       "      <td>2</td>\n",
       "      <td>{}</td>\n",
       "      <td>0</td>\n",
       "      <td>0</td>\n",
       "      <td>0</td>\n",
       "      <td>3</td>\n",
       "    </tr>\n",
       "    <tr>\n",
       "      <th>9</th>\n",
       "      <td>2</td>\n",
       "      <td>{}</td>\n",
       "      <td>0</td>\n",
       "      <td>0</td>\n",
       "      <td>0</td>\n",
       "      <td>4</td>\n",
       "    </tr>\n",
       "    <tr>\n",
       "      <th>11</th>\n",
       "      <td>2</td>\n",
       "      <td>{}</td>\n",
       "      <td>0</td>\n",
       "      <td>0</td>\n",
       "      <td>0</td>\n",
       "      <td>5</td>\n",
       "    </tr>\n",
       "    <tr>\n",
       "      <th>13</th>\n",
       "      <td>2</td>\n",
       "      <td>{}</td>\n",
       "      <td>0</td>\n",
       "      <td>0</td>\n",
       "      <td>0</td>\n",
       "      <td>6</td>\n",
       "    </tr>\n",
       "    <tr>\n",
       "      <th>15</th>\n",
       "      <td>2</td>\n",
       "      <td>{}</td>\n",
       "      <td>0</td>\n",
       "      <td>0</td>\n",
       "      <td>0</td>\n",
       "      <td>7</td>\n",
       "    </tr>\n",
       "    <tr>\n",
       "      <th>17</th>\n",
       "      <td>2</td>\n",
       "      <td>{}</td>\n",
       "      <td>0</td>\n",
       "      <td>0</td>\n",
       "      <td>0</td>\n",
       "      <td>8</td>\n",
       "    </tr>\n",
       "    <tr>\n",
       "      <th>19</th>\n",
       "      <td>2</td>\n",
       "      <td>{}</td>\n",
       "      <td>0</td>\n",
       "      <td>0</td>\n",
       "      <td>0</td>\n",
       "      <td>9</td>\n",
       "    </tr>\n",
       "    <tr>\n",
       "      <th>21</th>\n",
       "      <td>2</td>\n",
       "      <td>{}</td>\n",
       "      <td>0</td>\n",
       "      <td>0</td>\n",
       "      <td>0</td>\n",
       "      <td>10</td>\n",
       "    </tr>\n",
       "  </tbody>\n",
       "</table>\n",
       "</div>"
      ],
      "text/plain": [
       "    waiter_nr current_orders  tips  avg_rating  served_customers  step\n",
       "0           1             {}     0           0                 0     0\n",
       "2           1             {}     0           0                 0     1\n",
       "4           1             {}     0           0                 0     2\n",
       "6           1             {}     0           0                 0     3\n",
       "8           1             {}     0           0                 0     4\n",
       "10          1             {}     0           0                 0     5\n",
       "12          1             {}     0           0                 0     6\n",
       "14          1             {}     0           0                 0     7\n",
       "16          1             {}     0           0                 0     8\n",
       "18          1             {}     0           0                 0     9\n",
       "20          1             {}     0           0                 0    10\n",
       "1           2             {}     0           0                 0     0\n",
       "3           2             {}     0           0                 0     1\n",
       "5           2             {}     0           0                 0     2\n",
       "7           2             {}     0           0                 0     3\n",
       "9           2             {}     0           0                 0     4\n",
       "11          2             {}     0           0                 0     5\n",
       "13          2             {}     0           0                 0     6\n",
       "15          2             {}     0           0                 0     7\n",
       "17          2             {}     0           0                 0     8\n",
       "19          2             {}     0           0                 0     9\n",
       "21          2             {}     0           0                 0    10"
      ]
     },
     "execution_count": 7,
     "metadata": {},
     "output_type": "execute_result"
    }
   ],
   "source": [
    "df_first_run_waiter.sort_values(['waiter_nr', 'step'])"
   ]
  }
 ],
 "metadata": {
  "kernelspec": {
   "display_name": "Python 3",
   "language": "python",
   "name": "python3"
  },
  "language_info": {
   "codemirror_mode": {
    "name": "ipython",
    "version": 3
   },
   "file_extension": ".py",
   "mimetype": "text/x-python",
   "name": "python",
   "nbconvert_exporter": "python",
   "pygments_lexer": "ipython3",
   "version": "3.12.6"
  }
 },
 "nbformat": 4,
 "nbformat_minor": 2
}
