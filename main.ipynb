{
 "cells": [
  {
   "cell_type": "code",
   "execution_count": 1,
   "metadata": {},
   "outputs": [
    {
     "name": "stdout",
     "output_type": "stream",
     "text": [
      "Processing c:\\users\\s.neumann\\documents\\11_master_cas\\code\\mesa-restaurant-agents\\agent_system\\dist\\mesa_restaurant_agents-0.0.1-py3-none-any.whl\n",
      "Installing collected packages: mesa-restaurant-agents\n",
      "  Attempting uninstall: mesa-restaurant-agents\n",
      "    Found existing installation: mesa_restaurant_agents 0.0.1\n",
      "    Uninstalling mesa_restaurant_agents-0.0.1:\n",
      "      Successfully uninstalled mesa_restaurant_agents-0.0.1\n",
      "Successfully installed mesa-restaurant-agents-0.0.1\n",
      "Note: you may need to restart the kernel to use updated packages.\n"
     ]
    },
    {
     "name": "stderr",
     "output_type": "stream",
     "text": [
      "\n",
      "[notice] A new release of pip is available: 24.2 -> 25.0.1\n",
      "[notice] To update, run: python.exe -m pip install --upgrade pip\n"
     ]
    }
   ],
   "source": [
    "pip install --force-reinstall agent_system/dist/mesa_restaurant_agents-0.0.1-py3-none-any.whl"
   ]
  },
  {
   "cell_type": "code",
   "execution_count": 2,
   "metadata": {},
   "outputs": [
    {
     "data": {
      "application/vnd.jupyter.widget-view+json": {
       "model_id": "2d432f1105d649deae6d87e26741dedc",
       "version_major": 2,
       "version_minor": 0
      },
      "text/plain": [
       "  0%|          | 0/5 [00:00<?, ?it/s]"
      ]
     },
     "metadata": {},
     "output_type": "display_data"
    },
    {
     "name": "stdout",
     "output_type": "stream",
     "text": [
      "[{'RunId': 0, 'iteration': 0, 'Step': 0, 'n_waiters': 2, 'Customer_Count': 1, 'Average_Wait_Time': np.float64(0.0), 'Average_Customer_Satisfaction': np.float64(0.0), 'Profit': np.float64(0.0), 'Customer_Info': [{'customer_nr': 0, 'waiting_time': 0, 'order_status': 0, 'satisfaction': 0}]}, {'RunId': 0, 'iteration': 0, 'Step': 1, 'n_waiters': 2, 'Customer_Count': 5, 'Average_Wait_Time': np.float64(0.0), 'Average_Customer_Satisfaction': np.float64(0.0), 'Profit': np.float64(0.0), 'Customer_Info': [{'customer_nr': 0, 'waiting_time': 0, 'order_status': 1, 'satisfaction': 0}, {'customer_nr': 1, 'waiting_time': 0, 'order_status': 0, 'satisfaction': 0}, {'customer_nr': 2, 'waiting_time': 0, 'order_status': 0, 'satisfaction': 0}, {'customer_nr': 3, 'waiting_time': 0, 'order_status': 0, 'satisfaction': 0}, {'customer_nr': 4, 'waiting_time': 0, 'order_status': 0, 'satisfaction': 0}]}, {'RunId': 0, 'iteration': 0, 'Step': 2, 'n_waiters': 2, 'Customer_Count': 5, 'Average_Wait_Time': np.float64(0.0), 'Average_Customer_Satisfaction': np.float64(0.0), 'Profit': np.float64(0.0), 'Customer_Info': [{'customer_nr': 0, 'waiting_time': 0, 'order_status': 3, 'satisfaction': 0}, {'customer_nr': 1, 'waiting_time': 0, 'order_status': 0, 'satisfaction': 0}, {'customer_nr': 2, 'waiting_time': 0, 'order_status': 0, 'satisfaction': 0}, {'customer_nr': 3, 'waiting_time': 0, 'order_status': 0, 'satisfaction': 0}, {'customer_nr': 4, 'waiting_time': 0, 'order_status': 0, 'satisfaction': 0}]}, {'RunId': 0, 'iteration': 0, 'Step': 3, 'n_waiters': 2, 'Customer_Count': 9, 'Average_Wait_Time': np.float64(0.0), 'Average_Customer_Satisfaction': np.float64(0.0), 'Profit': np.float64(0.0), 'Customer_Info': [{'customer_nr': 0, 'waiting_time': 0, 'order_status': 3, 'satisfaction': 0}, {'customer_nr': 1, 'waiting_time': 0, 'order_status': 0, 'satisfaction': 0}, {'customer_nr': 2, 'waiting_time': 0, 'order_status': 0, 'satisfaction': 0}, {'customer_nr': 3, 'waiting_time': 0, 'order_status': 0, 'satisfaction': 0}, {'customer_nr': 4, 'waiting_time': 0, 'order_status': 0, 'satisfaction': 0}, {'customer_nr': 5, 'waiting_time': 0, 'order_status': 0, 'satisfaction': 0}, {'customer_nr': 6, 'waiting_time': 0, 'order_status': 0, 'satisfaction': 0}, {'customer_nr': 7, 'waiting_time': 0, 'order_status': 0, 'satisfaction': 0}, {'customer_nr': 8, 'waiting_time': 0, 'order_status': 0, 'satisfaction': 0}]}, {'RunId': 0, 'iteration': 0, 'Step': 4, 'n_waiters': 2, 'Customer_Count': 11, 'Average_Wait_Time': np.float64(0.0), 'Average_Customer_Satisfaction': np.float64(0.0), 'Profit': np.float64(0.0), 'Customer_Info': [{'customer_nr': 0, 'waiting_time': 0, 'order_status': 3, 'satisfaction': 0}, {'customer_nr': 1, 'waiting_time': 0, 'order_status': 0, 'satisfaction': 0}, {'customer_nr': 2, 'waiting_time': 0, 'order_status': 0, 'satisfaction': 0}, {'customer_nr': 3, 'waiting_time': 0, 'order_status': 0, 'satisfaction': 0}, {'customer_nr': 4, 'waiting_time': 0, 'order_status': 0, 'satisfaction': 0}, {'customer_nr': 5, 'waiting_time': 0, 'order_status': 0, 'satisfaction': 0}, {'customer_nr': 6, 'waiting_time': 0, 'order_status': 0, 'satisfaction': 0}, {'customer_nr': 7, 'waiting_time': 0, 'order_status': 0, 'satisfaction': 0}, {'customer_nr': 8, 'waiting_time': 0, 'order_status': 0, 'satisfaction': 0}, {'customer_nr': 9, 'waiting_time': 0, 'order_status': 0, 'satisfaction': 0}, {'customer_nr': 10, 'waiting_time': 0, 'order_status': 0, 'satisfaction': 0}]}, {'RunId': 0, 'iteration': 0, 'Step': 5, 'n_waiters': 2, 'Customer_Count': 12, 'Average_Wait_Time': np.float64(0.0), 'Average_Customer_Satisfaction': np.float64(0.0), 'Profit': np.float64(0.0), 'Customer_Info': [{'customer_nr': 0, 'waiting_time': 0, 'order_status': 3, 'satisfaction': 0}, {'customer_nr': 1, 'waiting_time': 0, 'order_status': 0, 'satisfaction': 0}, {'customer_nr': 2, 'waiting_time': 0, 'order_status': 0, 'satisfaction': 0}, {'customer_nr': 3, 'waiting_time': 0, 'order_status': 0, 'satisfaction': 0}, {'customer_nr': 4, 'waiting_time': 0, 'order_status': 0, 'satisfaction': 0}, {'customer_nr': 5, 'waiting_time': 0, 'order_status': 0, 'satisfaction': 0}, {'customer_nr': 6, 'waiting_time': 0, 'order_status': 0, 'satisfaction': 0}, {'customer_nr': 7, 'waiting_time': 0, 'order_status': 0, 'satisfaction': 0}, {'customer_nr': 8, 'waiting_time': 0, 'order_status': 0, 'satisfaction': 0}, {'customer_nr': 9, 'waiting_time': 0, 'order_status': 0, 'satisfaction': 0}, {'customer_nr': 10, 'waiting_time': 0, 'order_status': 0, 'satisfaction': 0}, {'customer_nr': 11, 'waiting_time': 0, 'order_status': 0, 'satisfaction': 0}]}, {'RunId': 0, 'iteration': 0, 'Step': 6, 'n_waiters': 2, 'Customer_Count': 12, 'Average_Wait_Time': np.float64(0.0), 'Average_Customer_Satisfaction': np.float64(0.0), 'Profit': np.float64(0.0), 'Customer_Info': [{'customer_nr': 0, 'waiting_time': 0, 'order_status': 3, 'satisfaction': 0}, {'customer_nr': 1, 'waiting_time': 0, 'order_status': 0, 'satisfaction': 0}, {'customer_nr': 2, 'waiting_time': 0, 'order_status': 0, 'satisfaction': 0}, {'customer_nr': 3, 'waiting_time': 0, 'order_status': 0, 'satisfaction': 0}, {'customer_nr': 4, 'waiting_time': 0, 'order_status': 0, 'satisfaction': 0}, {'customer_nr': 5, 'waiting_time': 0, 'order_status': 0, 'satisfaction': 0}, {'customer_nr': 6, 'waiting_time': 0, 'order_status': 0, 'satisfaction': 0}, {'customer_nr': 7, 'waiting_time': 0, 'order_status': 0, 'satisfaction': 0}, {'customer_nr': 8, 'waiting_time': 0, 'order_status': 0, 'satisfaction': 0}, {'customer_nr': 9, 'waiting_time': 0, 'order_status': 0, 'satisfaction': 0}, {'customer_nr': 10, 'waiting_time': 0, 'order_status': 0, 'satisfaction': 0}, {'customer_nr': 11, 'waiting_time': 0, 'order_status': 0, 'satisfaction': 0}]}, {'RunId': 0, 'iteration': 0, 'Step': 7, 'n_waiters': 2, 'Customer_Count': 13, 'Average_Wait_Time': np.float64(0.0), 'Average_Customer_Satisfaction': np.float64(0.0), 'Profit': np.float64(0.0), 'Customer_Info': [{'customer_nr': 0, 'waiting_time': 0, 'order_status': 3, 'satisfaction': 0}, {'customer_nr': 1, 'waiting_time': 0, 'order_status': 0, 'satisfaction': 0}, {'customer_nr': 2, 'waiting_time': 0, 'order_status': 0, 'satisfaction': 0}, {'customer_nr': 3, 'waiting_time': 0, 'order_status': 0, 'satisfaction': 0}, {'customer_nr': 4, 'waiting_time': 0, 'order_status': 0, 'satisfaction': 0}, {'customer_nr': 5, 'waiting_time': 0, 'order_status': 0, 'satisfaction': 0}, {'customer_nr': 6, 'waiting_time': 0, 'order_status': 0, 'satisfaction': 0}, {'customer_nr': 7, 'waiting_time': 0, 'order_status': 0, 'satisfaction': 0}, {'customer_nr': 8, 'waiting_time': 0, 'order_status': 0, 'satisfaction': 0}, {'customer_nr': 9, 'waiting_time': 0, 'order_status': 0, 'satisfaction': 0}, {'customer_nr': 10, 'waiting_time': 0, 'order_status': 0, 'satisfaction': 0}, {'customer_nr': 11, 'waiting_time': 0, 'order_status': 0, 'satisfaction': 0}, {'customer_nr': 12, 'waiting_time': 0, 'order_status': 0, 'satisfaction': 0}]}, {'RunId': 0, 'iteration': 0, 'Step': 8, 'n_waiters': 2, 'Customer_Count': 17, 'Average_Wait_Time': np.float64(0.0), 'Average_Customer_Satisfaction': np.float64(0.0), 'Profit': np.float64(0.0), 'Customer_Info': [{'customer_nr': 0, 'waiting_time': 0, 'order_status': 3, 'satisfaction': 0}, {'customer_nr': 1, 'waiting_time': 0, 'order_status': 0, 'satisfaction': 0}, {'customer_nr': 2, 'waiting_time': 0, 'order_status': 0, 'satisfaction': 0}, {'customer_nr': 3, 'waiting_time': 0, 'order_status': 0, 'satisfaction': 0}, {'customer_nr': 4, 'waiting_time': 0, 'order_status': 0, 'satisfaction': 0}, {'customer_nr': 5, 'waiting_time': 0, 'order_status': 0, 'satisfaction': 0}, {'customer_nr': 6, 'waiting_time': 0, 'order_status': 0, 'satisfaction': 0}, {'customer_nr': 7, 'waiting_time': 0, 'order_status': 0, 'satisfaction': 0}, {'customer_nr': 8, 'waiting_time': 0, 'order_status': 0, 'satisfaction': 0}, {'customer_nr': 9, 'waiting_time': 0, 'order_status': 0, 'satisfaction': 0}, {'customer_nr': 10, 'waiting_time': 0, 'order_status': 0, 'satisfaction': 0}, {'customer_nr': 11, 'waiting_time': 0, 'order_status': 0, 'satisfaction': 0}, {'customer_nr': 12, 'waiting_time': 0, 'order_status': 0, 'satisfaction': 0}, {'customer_nr': 13, 'waiting_time': 0, 'order_status': 0, 'satisfaction': 0}, {'customer_nr': 14, 'waiting_time': 0, 'order_status': 0, 'satisfaction': 0}, {'customer_nr': 15, 'waiting_time': 0, 'order_status': 0, 'satisfaction': 0}, {'customer_nr': 16, 'waiting_time': 0, 'order_status': 0, 'satisfaction': 0}]}, {'RunId': 0, 'iteration': 0, 'Step': 9, 'n_waiters': 2, 'Customer_Count': 19, 'Average_Wait_Time': np.float64(0.0), 'Average_Customer_Satisfaction': np.float64(0.0), 'Profit': np.float64(0.0), 'Customer_Info': [{'customer_nr': 0, 'waiting_time': 0, 'order_status': 3, 'satisfaction': 0}, {'customer_nr': 1, 'waiting_time': 0, 'order_status': 0, 'satisfaction': 0}, {'customer_nr': 2, 'waiting_time': 0, 'order_status': 0, 'satisfaction': 0}, {'customer_nr': 3, 'waiting_time': 0, 'order_status': 0, 'satisfaction': 0}, {'customer_nr': 4, 'waiting_time': 0, 'order_status': 0, 'satisfaction': 0}, {'customer_nr': 5, 'waiting_time': 0, 'order_status': 0, 'satisfaction': 0}, {'customer_nr': 6, 'waiting_time': 0, 'order_status': 0, 'satisfaction': 0}, {'customer_nr': 7, 'waiting_time': 0, 'order_status': 0, 'satisfaction': 0}, {'customer_nr': 8, 'waiting_time': 0, 'order_status': 0, 'satisfaction': 0}, {'customer_nr': 9, 'waiting_time': 0, 'order_status': 0, 'satisfaction': 0}, {'customer_nr': 10, 'waiting_time': 0, 'order_status': 0, 'satisfaction': 0}, {'customer_nr': 11, 'waiting_time': 0, 'order_status': 0, 'satisfaction': 0}, {'customer_nr': 12, 'waiting_time': 0, 'order_status': 0, 'satisfaction': 0}, {'customer_nr': 13, 'waiting_time': 0, 'order_status': 0, 'satisfaction': 0}, {'customer_nr': 14, 'waiting_time': 0, 'order_status': 0, 'satisfaction': 0}, {'customer_nr': 15, 'waiting_time': 0, 'order_status': 0, 'satisfaction': 0}, {'customer_nr': 16, 'waiting_time': 0, 'order_status': 0, 'satisfaction': 0}, {'customer_nr': 17, 'waiting_time': 0, 'order_status': 0, 'satisfaction': 0}, {'customer_nr': 18, 'waiting_time': 0, 'order_status': 0, 'satisfaction': 0}]}, {'RunId': 0, 'iteration': 0, 'Step': 10, 'n_waiters': 2, 'Customer_Count': 22, 'Average_Wait_Time': np.float64(0.0), 'Average_Customer_Satisfaction': np.float64(0.0), 'Profit': np.float64(0.0), 'Customer_Info': [{'customer_nr': 0, 'waiting_time': 0, 'order_status': 3, 'satisfaction': 0}, {'customer_nr': 1, 'waiting_time': 0, 'order_status': 0, 'satisfaction': 0}, {'customer_nr': 2, 'waiting_time': 0, 'order_status': 0, 'satisfaction': 0}, {'customer_nr': 3, 'waiting_time': 0, 'order_status': 0, 'satisfaction': 0}, {'customer_nr': 4, 'waiting_time': 0, 'order_status': 0, 'satisfaction': 0}, {'customer_nr': 5, 'waiting_time': 0, 'order_status': 0, 'satisfaction': 0}, {'customer_nr': 6, 'waiting_time': 0, 'order_status': 0, 'satisfaction': 0}, {'customer_nr': 7, 'waiting_time': 0, 'order_status': 0, 'satisfaction': 0}, {'customer_nr': 8, 'waiting_time': 0, 'order_status': 0, 'satisfaction': 0}, {'customer_nr': 9, 'waiting_time': 0, 'order_status': 0, 'satisfaction': 0}, {'customer_nr': 10, 'waiting_time': 0, 'order_status': 0, 'satisfaction': 0}, {'customer_nr': 11, 'waiting_time': 0, 'order_status': 0, 'satisfaction': 0}, {'customer_nr': 12, 'waiting_time': 0, 'order_status': 0, 'satisfaction': 0}, {'customer_nr': 13, 'waiting_time': 0, 'order_status': 0, 'satisfaction': 0}, {'customer_nr': 14, 'waiting_time': 0, 'order_status': 0, 'satisfaction': 0}, {'customer_nr': 15, 'waiting_time': 0, 'order_status': 0, 'satisfaction': 0}, {'customer_nr': 16, 'waiting_time': 0, 'order_status': 0, 'satisfaction': 0}, {'customer_nr': 17, 'waiting_time': 0, 'order_status': 0, 'satisfaction': 0}, {'customer_nr': 18, 'waiting_time': 0, 'order_status': 0, 'satisfaction': 0}, {'customer_nr': 19, 'waiting_time': 0, 'order_status': 0, 'satisfaction': 0}, {'customer_nr': 20, 'waiting_time': 0, 'order_status': 0, 'satisfaction': 0}, {'customer_nr': 21, 'waiting_time': 0, 'order_status': 0, 'satisfaction': 0}]}, {'RunId': 1, 'iteration': 1, 'Step': 0, 'n_waiters': 2, 'Customer_Count': 1, 'Average_Wait_Time': np.float64(0.0), 'Average_Customer_Satisfaction': np.float64(0.0), 'Profit': np.float64(0.0), 'Customer_Info': [{'customer_nr': 0, 'waiting_time': 0, 'order_status': 0, 'satisfaction': 0}]}, {'RunId': 1, 'iteration': 1, 'Step': 1, 'n_waiters': 2, 'Customer_Count': 6, 'Average_Wait_Time': np.float64(0.0), 'Average_Customer_Satisfaction': np.float64(0.0), 'Profit': np.float64(0.0), 'Customer_Info': [{'customer_nr': 0, 'waiting_time': 0, 'order_status': 1, 'satisfaction': 0}, {'customer_nr': 1, 'waiting_time': 0, 'order_status': 0, 'satisfaction': 0}, {'customer_nr': 2, 'waiting_time': 0, 'order_status': 0, 'satisfaction': 0}, {'customer_nr': 3, 'waiting_time': 0, 'order_status': 0, 'satisfaction': 0}, {'customer_nr': 4, 'waiting_time': 0, 'order_status': 0, 'satisfaction': 0}, {'customer_nr': 5, 'waiting_time': 0, 'order_status': 0, 'satisfaction': 0}]}, {'RunId': 1, 'iteration': 1, 'Step': 2, 'n_waiters': 2, 'Customer_Count': 7, 'Average_Wait_Time': np.float64(0.0), 'Average_Customer_Satisfaction': np.float64(0.0), 'Profit': np.float64(0.0), 'Customer_Info': [{'customer_nr': 0, 'waiting_time': 0, 'order_status': 3, 'satisfaction': 0}, {'customer_nr': 1, 'waiting_time': 0, 'order_status': 0, 'satisfaction': 0}, {'customer_nr': 2, 'waiting_time': 0, 'order_status': 0, 'satisfaction': 0}, {'customer_nr': 3, 'waiting_time': 0, 'order_status': 0, 'satisfaction': 0}, {'customer_nr': 4, 'waiting_time': 0, 'order_status': 0, 'satisfaction': 0}, {'customer_nr': 5, 'waiting_time': 0, 'order_status': 0, 'satisfaction': 0}, {'customer_nr': 6, 'waiting_time': 0, 'order_status': 0, 'satisfaction': 0}]}, {'RunId': 1, 'iteration': 1, 'Step': 3, 'n_waiters': 2, 'Customer_Count': 9, 'Average_Wait_Time': np.float64(0.0), 'Average_Customer_Satisfaction': np.float64(0.0), 'Profit': np.float64(0.0), 'Customer_Info': [{'customer_nr': 0, 'waiting_time': 0, 'order_status': 3, 'satisfaction': 0}, {'customer_nr': 1, 'waiting_time': 0, 'order_status': 0, 'satisfaction': 0}, {'customer_nr': 2, 'waiting_time': 0, 'order_status': 0, 'satisfaction': 0}, {'customer_nr': 3, 'waiting_time': 0, 'order_status': 0, 'satisfaction': 0}, {'customer_nr': 4, 'waiting_time': 0, 'order_status': 0, 'satisfaction': 0}, {'customer_nr': 5, 'waiting_time': 0, 'order_status': 0, 'satisfaction': 0}, {'customer_nr': 6, 'waiting_time': 0, 'order_status': 0, 'satisfaction': 0}, {'customer_nr': 7, 'waiting_time': 0, 'order_status': 0, 'satisfaction': 0}, {'customer_nr': 8, 'waiting_time': 0, 'order_status': 0, 'satisfaction': 0}]}, {'RunId': 1, 'iteration': 1, 'Step': 4, 'n_waiters': 2, 'Customer_Count': 10, 'Average_Wait_Time': np.float64(0.0), 'Average_Customer_Satisfaction': np.float64(0.0), 'Profit': np.float64(0.0), 'Customer_Info': [{'customer_nr': 0, 'waiting_time': 0, 'order_status': 3, 'satisfaction': 0}, {'customer_nr': 1, 'waiting_time': 0, 'order_status': 0, 'satisfaction': 0}, {'customer_nr': 2, 'waiting_time': 0, 'order_status': 0, 'satisfaction': 0}, {'customer_nr': 3, 'waiting_time': 0, 'order_status': 0, 'satisfaction': 0}, {'customer_nr': 4, 'waiting_time': 0, 'order_status': 0, 'satisfaction': 0}, {'customer_nr': 5, 'waiting_time': 0, 'order_status': 0, 'satisfaction': 0}, {'customer_nr': 6, 'waiting_time': 0, 'order_status': 0, 'satisfaction': 0}, {'customer_nr': 7, 'waiting_time': 0, 'order_status': 0, 'satisfaction': 0}, {'customer_nr': 8, 'waiting_time': 0, 'order_status': 0, 'satisfaction': 0}, {'customer_nr': 9, 'waiting_time': 0, 'order_status': 0, 'satisfaction': 0}]}, {'RunId': 1, 'iteration': 1, 'Step': 5, 'n_waiters': 2, 'Customer_Count': 16, 'Average_Wait_Time': np.float64(0.0), 'Average_Customer_Satisfaction': np.float64(0.0), 'Profit': np.float64(0.0), 'Customer_Info': [{'customer_nr': 0, 'waiting_time': 0, 'order_status': 3, 'satisfaction': 0}, {'customer_nr': 1, 'waiting_time': 0, 'order_status': 0, 'satisfaction': 0}, {'customer_nr': 2, 'waiting_time': 0, 'order_status': 0, 'satisfaction': 0}, {'customer_nr': 3, 'waiting_time': 0, 'order_status': 0, 'satisfaction': 0}, {'customer_nr': 4, 'waiting_time': 0, 'order_status': 0, 'satisfaction': 0}, {'customer_nr': 5, 'waiting_time': 0, 'order_status': 0, 'satisfaction': 0}, {'customer_nr': 6, 'waiting_time': 0, 'order_status': 0, 'satisfaction': 0}, {'customer_nr': 7, 'waiting_time': 0, 'order_status': 0, 'satisfaction': 0}, {'customer_nr': 8, 'waiting_time': 0, 'order_status': 0, 'satisfaction': 0}, {'customer_nr': 9, 'waiting_time': 0, 'order_status': 0, 'satisfaction': 0}, {'customer_nr': 10, 'waiting_time': 0, 'order_status': 0, 'satisfaction': 0}, {'customer_nr': 11, 'waiting_time': 0, 'order_status': 0, 'satisfaction': 0}, {'customer_nr': 12, 'waiting_time': 0, 'order_status': 0, 'satisfaction': 0}, {'customer_nr': 13, 'waiting_time': 0, 'order_status': 0, 'satisfaction': 0}, {'customer_nr': 14, 'waiting_time': 0, 'order_status': 0, 'satisfaction': 0}, {'customer_nr': 15, 'waiting_time': 0, 'order_status': 0, 'satisfaction': 0}]}, {'RunId': 1, 'iteration': 1, 'Step': 6, 'n_waiters': 2, 'Customer_Count': 19, 'Average_Wait_Time': np.float64(0.0), 'Average_Customer_Satisfaction': np.float64(0.0), 'Profit': np.float64(0.0), 'Customer_Info': [{'customer_nr': 0, 'waiting_time': 0, 'order_status': 3, 'satisfaction': 0}, {'customer_nr': 1, 'waiting_time': 0, 'order_status': 0, 'satisfaction': 0}, {'customer_nr': 2, 'waiting_time': 0, 'order_status': 0, 'satisfaction': 0}, {'customer_nr': 3, 'waiting_time': 0, 'order_status': 0, 'satisfaction': 0}, {'customer_nr': 4, 'waiting_time': 0, 'order_status': 0, 'satisfaction': 0}, {'customer_nr': 5, 'waiting_time': 0, 'order_status': 0, 'satisfaction': 0}, {'customer_nr': 6, 'waiting_time': 0, 'order_status': 0, 'satisfaction': 0}, {'customer_nr': 7, 'waiting_time': 0, 'order_status': 0, 'satisfaction': 0}, {'customer_nr': 8, 'waiting_time': 0, 'order_status': 0, 'satisfaction': 0}, {'customer_nr': 9, 'waiting_time': 0, 'order_status': 0, 'satisfaction': 0}, {'customer_nr': 10, 'waiting_time': 0, 'order_status': 0, 'satisfaction': 0}, {'customer_nr': 11, 'waiting_time': 0, 'order_status': 0, 'satisfaction': 0}, {'customer_nr': 12, 'waiting_time': 0, 'order_status': 0, 'satisfaction': 0}, {'customer_nr': 13, 'waiting_time': 0, 'order_status': 0, 'satisfaction': 0}, {'customer_nr': 14, 'waiting_time': 0, 'order_status': 0, 'satisfaction': 0}, {'customer_nr': 15, 'waiting_time': 0, 'order_status': 0, 'satisfaction': 0}, {'customer_nr': 16, 'waiting_time': 0, 'order_status': 0, 'satisfaction': 0}, {'customer_nr': 17, 'waiting_time': 0, 'order_status': 0, 'satisfaction': 0}, {'customer_nr': 18, 'waiting_time': 0, 'order_status': 0, 'satisfaction': 0}]}, {'RunId': 1, 'iteration': 1, 'Step': 7, 'n_waiters': 2, 'Customer_Count': 22, 'Average_Wait_Time': np.float64(0.0), 'Average_Customer_Satisfaction': np.float64(0.0), 'Profit': np.float64(0.0), 'Customer_Info': [{'customer_nr': 0, 'waiting_time': 0, 'order_status': 3, 'satisfaction': 0}, {'customer_nr': 1, 'waiting_time': 0, 'order_status': 0, 'satisfaction': 0}, {'customer_nr': 2, 'waiting_time': 0, 'order_status': 0, 'satisfaction': 0}, {'customer_nr': 3, 'waiting_time': 0, 'order_status': 0, 'satisfaction': 0}, {'customer_nr': 4, 'waiting_time': 0, 'order_status': 0, 'satisfaction': 0}, {'customer_nr': 5, 'waiting_time': 0, 'order_status': 0, 'satisfaction': 0}, {'customer_nr': 6, 'waiting_time': 0, 'order_status': 0, 'satisfaction': 0}, {'customer_nr': 7, 'waiting_time': 0, 'order_status': 0, 'satisfaction': 0}, {'customer_nr': 8, 'waiting_time': 0, 'order_status': 0, 'satisfaction': 0}, {'customer_nr': 9, 'waiting_time': 0, 'order_status': 0, 'satisfaction': 0}, {'customer_nr': 10, 'waiting_time': 0, 'order_status': 0, 'satisfaction': 0}, {'customer_nr': 11, 'waiting_time': 0, 'order_status': 0, 'satisfaction': 0}, {'customer_nr': 12, 'waiting_time': 0, 'order_status': 0, 'satisfaction': 0}, {'customer_nr': 13, 'waiting_time': 0, 'order_status': 0, 'satisfaction': 0}, {'customer_nr': 14, 'waiting_time': 0, 'order_status': 0, 'satisfaction': 0}, {'customer_nr': 15, 'waiting_time': 0, 'order_status': 0, 'satisfaction': 0}, {'customer_nr': 16, 'waiting_time': 0, 'order_status': 0, 'satisfaction': 0}, {'customer_nr': 17, 'waiting_time': 0, 'order_status': 0, 'satisfaction': 0}, {'customer_nr': 18, 'waiting_time': 0, 'order_status': 0, 'satisfaction': 0}, {'customer_nr': 19, 'waiting_time': 0, 'order_status': 0, 'satisfaction': 0}, {'customer_nr': 20, 'waiting_time': 0, 'order_status': 0, 'satisfaction': 0}, {'customer_nr': 21, 'waiting_time': 0, 'order_status': 0, 'satisfaction': 0}]}, {'RunId': 1, 'iteration': 1, 'Step': 8, 'n_waiters': 2, 'Customer_Count': 25, 'Average_Wait_Time': np.float64(0.0), 'Average_Customer_Satisfaction': np.float64(0.0), 'Profit': np.float64(0.0), 'Customer_Info': [{'customer_nr': 0, 'waiting_time': 0, 'order_status': 3, 'satisfaction': 0}, {'customer_nr': 1, 'waiting_time': 0, 'order_status': 0, 'satisfaction': 0}, {'customer_nr': 2, 'waiting_time': 0, 'order_status': 0, 'satisfaction': 0}, {'customer_nr': 3, 'waiting_time': 0, 'order_status': 0, 'satisfaction': 0}, {'customer_nr': 4, 'waiting_time': 0, 'order_status': 0, 'satisfaction': 0}, {'customer_nr': 5, 'waiting_time': 0, 'order_status': 0, 'satisfaction': 0}, {'customer_nr': 6, 'waiting_time': 0, 'order_status': 0, 'satisfaction': 0}, {'customer_nr': 7, 'waiting_time': 0, 'order_status': 0, 'satisfaction': 0}, {'customer_nr': 8, 'waiting_time': 0, 'order_status': 0, 'satisfaction': 0}, {'customer_nr': 9, 'waiting_time': 0, 'order_status': 0, 'satisfaction': 0}, {'customer_nr': 10, 'waiting_time': 0, 'order_status': 0, 'satisfaction': 0}, {'customer_nr': 11, 'waiting_time': 0, 'order_status': 0, 'satisfaction': 0}, {'customer_nr': 12, 'waiting_time': 0, 'order_status': 0, 'satisfaction': 0}, {'customer_nr': 13, 'waiting_time': 0, 'order_status': 0, 'satisfaction': 0}, {'customer_nr': 14, 'waiting_time': 0, 'order_status': 0, 'satisfaction': 0}, {'customer_nr': 15, 'waiting_time': 0, 'order_status': 0, 'satisfaction': 0}, {'customer_nr': 16, 'waiting_time': 0, 'order_status': 0, 'satisfaction': 0}, {'customer_nr': 17, 'waiting_time': 0, 'order_status': 0, 'satisfaction': 0}, {'customer_nr': 18, 'waiting_time': 0, 'order_status': 0, 'satisfaction': 0}, {'customer_nr': 19, 'waiting_time': 0, 'order_status': 0, 'satisfaction': 0}, {'customer_nr': 20, 'waiting_time': 0, 'order_status': 0, 'satisfaction': 0}, {'customer_nr': 21, 'waiting_time': 0, 'order_status': 0, 'satisfaction': 0}, {'customer_nr': 22, 'waiting_time': 0, 'order_status': 0, 'satisfaction': 0}, {'customer_nr': 23, 'waiting_time': 0, 'order_status': 0, 'satisfaction': 0}, {'customer_nr': 24, 'waiting_time': 0, 'order_status': 0, 'satisfaction': 0}]}, {'RunId': 1, 'iteration': 1, 'Step': 9, 'n_waiters': 2, 'Customer_Count': 28, 'Average_Wait_Time': np.float64(0.0), 'Average_Customer_Satisfaction': np.float64(0.0), 'Profit': np.float64(0.0), 'Customer_Info': [{'customer_nr': 0, 'waiting_time': 0, 'order_status': 3, 'satisfaction': 0}, {'customer_nr': 1, 'waiting_time': 0, 'order_status': 0, 'satisfaction': 0}, {'customer_nr': 2, 'waiting_time': 0, 'order_status': 0, 'satisfaction': 0}, {'customer_nr': 3, 'waiting_time': 0, 'order_status': 0, 'satisfaction': 0}, {'customer_nr': 4, 'waiting_time': 0, 'order_status': 0, 'satisfaction': 0}, {'customer_nr': 5, 'waiting_time': 0, 'order_status': 0, 'satisfaction': 0}, {'customer_nr': 6, 'waiting_time': 0, 'order_status': 0, 'satisfaction': 0}, {'customer_nr': 7, 'waiting_time': 0, 'order_status': 0, 'satisfaction': 0}, {'customer_nr': 8, 'waiting_time': 0, 'order_status': 0, 'satisfaction': 0}, {'customer_nr': 9, 'waiting_time': 0, 'order_status': 0, 'satisfaction': 0}, {'customer_nr': 10, 'waiting_time': 0, 'order_status': 0, 'satisfaction': 0}, {'customer_nr': 11, 'waiting_time': 0, 'order_status': 0, 'satisfaction': 0}, {'customer_nr': 12, 'waiting_time': 0, 'order_status': 0, 'satisfaction': 0}, {'customer_nr': 13, 'waiting_time': 0, 'order_status': 0, 'satisfaction': 0}, {'customer_nr': 14, 'waiting_time': 0, 'order_status': 0, 'satisfaction': 0}, {'customer_nr': 15, 'waiting_time': 0, 'order_status': 0, 'satisfaction': 0}, {'customer_nr': 16, 'waiting_time': 0, 'order_status': 0, 'satisfaction': 0}, {'customer_nr': 17, 'waiting_time': 0, 'order_status': 0, 'satisfaction': 0}, {'customer_nr': 18, 'waiting_time': 0, 'order_status': 0, 'satisfaction': 0}, {'customer_nr': 19, 'waiting_time': 0, 'order_status': 0, 'satisfaction': 0}, {'customer_nr': 20, 'waiting_time': 0, 'order_status': 0, 'satisfaction': 0}, {'customer_nr': 21, 'waiting_time': 0, 'order_status': 0, 'satisfaction': 0}, {'customer_nr': 22, 'waiting_time': 0, 'order_status': 0, 'satisfaction': 0}, {'customer_nr': 23, 'waiting_time': 0, 'order_status': 0, 'satisfaction': 0}, {'customer_nr': 24, 'waiting_time': 0, 'order_status': 0, 'satisfaction': 0}, {'customer_nr': 25, 'waiting_time': 0, 'order_status': 0, 'satisfaction': 0}, {'customer_nr': 26, 'waiting_time': 0, 'order_status': 0, 'satisfaction': 0}, {'customer_nr': 27, 'waiting_time': 0, 'order_status': 0, 'satisfaction': 0}]}, {'RunId': 1, 'iteration': 1, 'Step': 10, 'n_waiters': 2, 'Customer_Count': 29, 'Average_Wait_Time': np.float64(0.0), 'Average_Customer_Satisfaction': np.float64(0.0), 'Profit': np.float64(0.0), 'Customer_Info': [{'customer_nr': 0, 'waiting_time': 0, 'order_status': 3, 'satisfaction': 0}, {'customer_nr': 1, 'waiting_time': 0, 'order_status': 0, 'satisfaction': 0}, {'customer_nr': 2, 'waiting_time': 0, 'order_status': 0, 'satisfaction': 0}, {'customer_nr': 3, 'waiting_time': 0, 'order_status': 0, 'satisfaction': 0}, {'customer_nr': 4, 'waiting_time': 0, 'order_status': 0, 'satisfaction': 0}, {'customer_nr': 5, 'waiting_time': 0, 'order_status': 0, 'satisfaction': 0}, {'customer_nr': 6, 'waiting_time': 0, 'order_status': 0, 'satisfaction': 0}, {'customer_nr': 7, 'waiting_time': 0, 'order_status': 0, 'satisfaction': 0}, {'customer_nr': 8, 'waiting_time': 0, 'order_status': 0, 'satisfaction': 0}, {'customer_nr': 9, 'waiting_time': 0, 'order_status': 0, 'satisfaction': 0}, {'customer_nr': 10, 'waiting_time': 0, 'order_status': 0, 'satisfaction': 0}, {'customer_nr': 11, 'waiting_time': 0, 'order_status': 0, 'satisfaction': 0}, {'customer_nr': 12, 'waiting_time': 0, 'order_status': 0, 'satisfaction': 0}, {'customer_nr': 13, 'waiting_time': 0, 'order_status': 0, 'satisfaction': 0}, {'customer_nr': 14, 'waiting_time': 0, 'order_status': 0, 'satisfaction': 0}, {'customer_nr': 15, 'waiting_time': 0, 'order_status': 0, 'satisfaction': 0}, {'customer_nr': 16, 'waiting_time': 0, 'order_status': 0, 'satisfaction': 0}, {'customer_nr': 17, 'waiting_time': 0, 'order_status': 0, 'satisfaction': 0}, {'customer_nr': 18, 'waiting_time': 0, 'order_status': 0, 'satisfaction': 0}, {'customer_nr': 19, 'waiting_time': 0, 'order_status': 0, 'satisfaction': 0}, {'customer_nr': 20, 'waiting_time': 0, 'order_status': 0, 'satisfaction': 0}, {'customer_nr': 21, 'waiting_time': 0, 'order_status': 0, 'satisfaction': 0}, {'customer_nr': 22, 'waiting_time': 0, 'order_status': 0, 'satisfaction': 0}, {'customer_nr': 23, 'waiting_time': 0, 'order_status': 0, 'satisfaction': 0}, {'customer_nr': 24, 'waiting_time': 0, 'order_status': 0, 'satisfaction': 0}, {'customer_nr': 25, 'waiting_time': 0, 'order_status': 0, 'satisfaction': 0}, {'customer_nr': 26, 'waiting_time': 0, 'order_status': 0, 'satisfaction': 0}, {'customer_nr': 27, 'waiting_time': 0, 'order_status': 0, 'satisfaction': 0}, {'customer_nr': 28, 'waiting_time': 0, 'order_status': 0, 'satisfaction': 0}]}, {'RunId': 2, 'iteration': 2, 'Step': 0, 'n_waiters': 2, 'Customer_Count': 1, 'Average_Wait_Time': np.float64(0.0), 'Average_Customer_Satisfaction': np.float64(0.0), 'Profit': np.float64(0.0), 'Customer_Info': [{'customer_nr': 0, 'waiting_time': 0, 'order_status': 0, 'satisfaction': 0}]}, {'RunId': 2, 'iteration': 2, 'Step': 1, 'n_waiters': 2, 'Customer_Count': 3, 'Average_Wait_Time': np.float64(0.0), 'Average_Customer_Satisfaction': np.float64(0.0), 'Profit': np.float64(0.0), 'Customer_Info': [{'customer_nr': 0, 'waiting_time': 0, 'order_status': 1, 'satisfaction': 0}, {'customer_nr': 1, 'waiting_time': 0, 'order_status': 0, 'satisfaction': 0}, {'customer_nr': 2, 'waiting_time': 0, 'order_status': 0, 'satisfaction': 0}]}, {'RunId': 2, 'iteration': 2, 'Step': 2, 'n_waiters': 2, 'Customer_Count': 5, 'Average_Wait_Time': np.float64(0.0), 'Average_Customer_Satisfaction': np.float64(0.0), 'Profit': np.float64(0.0), 'Customer_Info': [{'customer_nr': 0, 'waiting_time': 0, 'order_status': 3, 'satisfaction': 0}, {'customer_nr': 1, 'waiting_time': 0, 'order_status': 0, 'satisfaction': 0}, {'customer_nr': 2, 'waiting_time': 0, 'order_status': 0, 'satisfaction': 0}, {'customer_nr': 3, 'waiting_time': 0, 'order_status': 0, 'satisfaction': 0}, {'customer_nr': 4, 'waiting_time': 0, 'order_status': 0, 'satisfaction': 0}]}, {'RunId': 2, 'iteration': 2, 'Step': 3, 'n_waiters': 2, 'Customer_Count': 6, 'Average_Wait_Time': np.float64(0.0), 'Average_Customer_Satisfaction': np.float64(0.0), 'Profit': np.float64(0.0), 'Customer_Info': [{'customer_nr': 0, 'waiting_time': 0, 'order_status': 3, 'satisfaction': 0}, {'customer_nr': 1, 'waiting_time': 0, 'order_status': 0, 'satisfaction': 0}, {'customer_nr': 2, 'waiting_time': 0, 'order_status': 0, 'satisfaction': 0}, {'customer_nr': 3, 'waiting_time': 0, 'order_status': 0, 'satisfaction': 0}, {'customer_nr': 4, 'waiting_time': 0, 'order_status': 0, 'satisfaction': 0}, {'customer_nr': 5, 'waiting_time': 0, 'order_status': 0, 'satisfaction': 0}]}, {'RunId': 2, 'iteration': 2, 'Step': 4, 'n_waiters': 2, 'Customer_Count': 7, 'Average_Wait_Time': np.float64(0.0), 'Average_Customer_Satisfaction': np.float64(0.0), 'Profit': np.float64(0.0), 'Customer_Info': [{'customer_nr': 0, 'waiting_time': 0, 'order_status': 3, 'satisfaction': 0}, {'customer_nr': 1, 'waiting_time': 0, 'order_status': 0, 'satisfaction': 0}, {'customer_nr': 2, 'waiting_time': 0, 'order_status': 0, 'satisfaction': 0}, {'customer_nr': 3, 'waiting_time': 0, 'order_status': 0, 'satisfaction': 0}, {'customer_nr': 4, 'waiting_time': 0, 'order_status': 0, 'satisfaction': 0}, {'customer_nr': 5, 'waiting_time': 0, 'order_status': 0, 'satisfaction': 0}, {'customer_nr': 6, 'waiting_time': 0, 'order_status': 0, 'satisfaction': 0}]}, {'RunId': 2, 'iteration': 2, 'Step': 5, 'n_waiters': 2, 'Customer_Count': 8, 'Average_Wait_Time': np.float64(0.0), 'Average_Customer_Satisfaction': np.float64(0.0), 'Profit': np.float64(0.0), 'Customer_Info': [{'customer_nr': 0, 'waiting_time': 0, 'order_status': 3, 'satisfaction': 0}, {'customer_nr': 1, 'waiting_time': 0, 'order_status': 0, 'satisfaction': 0}, {'customer_nr': 2, 'waiting_time': 0, 'order_status': 0, 'satisfaction': 0}, {'customer_nr': 3, 'waiting_time': 0, 'order_status': 0, 'satisfaction': 0}, {'customer_nr': 4, 'waiting_time': 0, 'order_status': 0, 'satisfaction': 0}, {'customer_nr': 5, 'waiting_time': 0, 'order_status': 0, 'satisfaction': 0}, {'customer_nr': 6, 'waiting_time': 0, 'order_status': 0, 'satisfaction': 0}, {'customer_nr': 7, 'waiting_time': 0, 'order_status': 0, 'satisfaction': 0}]}, {'RunId': 2, 'iteration': 2, 'Step': 6, 'n_waiters': 2, 'Customer_Count': 9, 'Average_Wait_Time': np.float64(0.0), 'Average_Customer_Satisfaction': np.float64(0.0), 'Profit': np.float64(0.0), 'Customer_Info': [{'customer_nr': 0, 'waiting_time': 0, 'order_status': 3, 'satisfaction': 0}, {'customer_nr': 1, 'waiting_time': 0, 'order_status': 0, 'satisfaction': 0}, {'customer_nr': 2, 'waiting_time': 0, 'order_status': 0, 'satisfaction': 0}, {'customer_nr': 3, 'waiting_time': 0, 'order_status': 0, 'satisfaction': 0}, {'customer_nr': 4, 'waiting_time': 0, 'order_status': 0, 'satisfaction': 0}, {'customer_nr': 5, 'waiting_time': 0, 'order_status': 0, 'satisfaction': 0}, {'customer_nr': 6, 'waiting_time': 0, 'order_status': 0, 'satisfaction': 0}, {'customer_nr': 7, 'waiting_time': 0, 'order_status': 0, 'satisfaction': 0}, {'customer_nr': 8, 'waiting_time': 0, 'order_status': 0, 'satisfaction': 0}]}, {'RunId': 2, 'iteration': 2, 'Step': 7, 'n_waiters': 2, 'Customer_Count': 11, 'Average_Wait_Time': np.float64(0.0), 'Average_Customer_Satisfaction': np.float64(0.0), 'Profit': np.float64(0.0), 'Customer_Info': [{'customer_nr': 0, 'waiting_time': 0, 'order_status': 3, 'satisfaction': 0}, {'customer_nr': 1, 'waiting_time': 0, 'order_status': 0, 'satisfaction': 0}, {'customer_nr': 2, 'waiting_time': 0, 'order_status': 0, 'satisfaction': 0}, {'customer_nr': 3, 'waiting_time': 0, 'order_status': 0, 'satisfaction': 0}, {'customer_nr': 4, 'waiting_time': 0, 'order_status': 0, 'satisfaction': 0}, {'customer_nr': 5, 'waiting_time': 0, 'order_status': 0, 'satisfaction': 0}, {'customer_nr': 6, 'waiting_time': 0, 'order_status': 0, 'satisfaction': 0}, {'customer_nr': 7, 'waiting_time': 0, 'order_status': 0, 'satisfaction': 0}, {'customer_nr': 8, 'waiting_time': 0, 'order_status': 0, 'satisfaction': 0}, {'customer_nr': 9, 'waiting_time': 0, 'order_status': 0, 'satisfaction': 0}, {'customer_nr': 10, 'waiting_time': 0, 'order_status': 0, 'satisfaction': 0}]}, {'RunId': 2, 'iteration': 2, 'Step': 8, 'n_waiters': 2, 'Customer_Count': 12, 'Average_Wait_Time': np.float64(0.0), 'Average_Customer_Satisfaction': np.float64(0.0), 'Profit': np.float64(0.0), 'Customer_Info': [{'customer_nr': 0, 'waiting_time': 0, 'order_status': 3, 'satisfaction': 0}, {'customer_nr': 1, 'waiting_time': 0, 'order_status': 0, 'satisfaction': 0}, {'customer_nr': 2, 'waiting_time': 0, 'order_status': 0, 'satisfaction': 0}, {'customer_nr': 3, 'waiting_time': 0, 'order_status': 0, 'satisfaction': 0}, {'customer_nr': 4, 'waiting_time': 0, 'order_status': 0, 'satisfaction': 0}, {'customer_nr': 5, 'waiting_time': 0, 'order_status': 0, 'satisfaction': 0}, {'customer_nr': 6, 'waiting_time': 0, 'order_status': 0, 'satisfaction': 0}, {'customer_nr': 7, 'waiting_time': 0, 'order_status': 0, 'satisfaction': 0}, {'customer_nr': 8, 'waiting_time': 0, 'order_status': 0, 'satisfaction': 0}, {'customer_nr': 9, 'waiting_time': 0, 'order_status': 0, 'satisfaction': 0}, {'customer_nr': 10, 'waiting_time': 0, 'order_status': 0, 'satisfaction': 0}, {'customer_nr': 11, 'waiting_time': 0, 'order_status': 0, 'satisfaction': 0}]}, {'RunId': 2, 'iteration': 2, 'Step': 9, 'n_waiters': 2, 'Customer_Count': 13, 'Average_Wait_Time': np.float64(0.0), 'Average_Customer_Satisfaction': np.float64(0.0), 'Profit': np.float64(0.0), 'Customer_Info': [{'customer_nr': 0, 'waiting_time': 0, 'order_status': 3, 'satisfaction': 0}, {'customer_nr': 1, 'waiting_time': 0, 'order_status': 0, 'satisfaction': 0}, {'customer_nr': 2, 'waiting_time': 0, 'order_status': 0, 'satisfaction': 0}, {'customer_nr': 3, 'waiting_time': 0, 'order_status': 0, 'satisfaction': 0}, {'customer_nr': 4, 'waiting_time': 0, 'order_status': 0, 'satisfaction': 0}, {'customer_nr': 5, 'waiting_time': 0, 'order_status': 0, 'satisfaction': 0}, {'customer_nr': 6, 'waiting_time': 0, 'order_status': 0, 'satisfaction': 0}, {'customer_nr': 7, 'waiting_time': 0, 'order_status': 0, 'satisfaction': 0}, {'customer_nr': 8, 'waiting_time': 0, 'order_status': 0, 'satisfaction': 0}, {'customer_nr': 9, 'waiting_time': 0, 'order_status': 0, 'satisfaction': 0}, {'customer_nr': 10, 'waiting_time': 0, 'order_status': 0, 'satisfaction': 0}, {'customer_nr': 11, 'waiting_time': 0, 'order_status': 0, 'satisfaction': 0}, {'customer_nr': 12, 'waiting_time': 0, 'order_status': 0, 'satisfaction': 0}]}, {'RunId': 2, 'iteration': 2, 'Step': 10, 'n_waiters': 2, 'Customer_Count': 14, 'Average_Wait_Time': np.float64(0.0), 'Average_Customer_Satisfaction': np.float64(0.0), 'Profit': np.float64(0.0), 'Customer_Info': [{'customer_nr': 0, 'waiting_time': 0, 'order_status': 3, 'satisfaction': 0}, {'customer_nr': 1, 'waiting_time': 0, 'order_status': 0, 'satisfaction': 0}, {'customer_nr': 2, 'waiting_time': 0, 'order_status': 0, 'satisfaction': 0}, {'customer_nr': 3, 'waiting_time': 0, 'order_status': 0, 'satisfaction': 0}, {'customer_nr': 4, 'waiting_time': 0, 'order_status': 0, 'satisfaction': 0}, {'customer_nr': 5, 'waiting_time': 0, 'order_status': 0, 'satisfaction': 0}, {'customer_nr': 6, 'waiting_time': 0, 'order_status': 0, 'satisfaction': 0}, {'customer_nr': 7, 'waiting_time': 0, 'order_status': 0, 'satisfaction': 0}, {'customer_nr': 8, 'waiting_time': 0, 'order_status': 0, 'satisfaction': 0}, {'customer_nr': 9, 'waiting_time': 0, 'order_status': 0, 'satisfaction': 0}, {'customer_nr': 10, 'waiting_time': 0, 'order_status': 0, 'satisfaction': 0}, {'customer_nr': 11, 'waiting_time': 0, 'order_status': 0, 'satisfaction': 0}, {'customer_nr': 12, 'waiting_time': 0, 'order_status': 0, 'satisfaction': 0}, {'customer_nr': 13, 'waiting_time': 0, 'order_status': 0, 'satisfaction': 0}]}, {'RunId': 3, 'iteration': 3, 'Step': 0, 'n_waiters': 2, 'Customer_Count': 2, 'Average_Wait_Time': np.float64(0.0), 'Average_Customer_Satisfaction': np.float64(0.0), 'Profit': np.float64(0.0), 'Customer_Info': [{'customer_nr': 0, 'waiting_time': 0, 'order_status': 0, 'satisfaction': 0}, {'customer_nr': 1, 'waiting_time': 0, 'order_status': 0, 'satisfaction': 0}]}, {'RunId': 3, 'iteration': 3, 'Step': 1, 'n_waiters': 2, 'Customer_Count': 3, 'Average_Wait_Time': np.float64(0.0), 'Average_Customer_Satisfaction': np.float64(0.0), 'Profit': np.float64(0.0), 'Customer_Info': [{'customer_nr': 0, 'waiting_time': 0, 'order_status': 1, 'satisfaction': 0}, {'customer_nr': 1, 'waiting_time': 0, 'order_status': 0, 'satisfaction': 0}, {'customer_nr': 2, 'waiting_time': 0, 'order_status': 0, 'satisfaction': 0}]}, {'RunId': 3, 'iteration': 3, 'Step': 2, 'n_waiters': 2, 'Customer_Count': 4, 'Average_Wait_Time': np.float64(0.0), 'Average_Customer_Satisfaction': np.float64(0.0), 'Profit': np.float64(0.0), 'Customer_Info': [{'customer_nr': 0, 'waiting_time': 0, 'order_status': 3, 'satisfaction': 0}, {'customer_nr': 1, 'waiting_time': 0, 'order_status': 0, 'satisfaction': 0}, {'customer_nr': 2, 'waiting_time': 0, 'order_status': 0, 'satisfaction': 0}, {'customer_nr': 3, 'waiting_time': 0, 'order_status': 0, 'satisfaction': 0}]}, {'RunId': 3, 'iteration': 3, 'Step': 3, 'n_waiters': 2, 'Customer_Count': 4, 'Average_Wait_Time': np.float64(0.0), 'Average_Customer_Satisfaction': np.float64(0.0), 'Profit': np.float64(0.0), 'Customer_Info': [{'customer_nr': 0, 'waiting_time': 0, 'order_status': 3, 'satisfaction': 0}, {'customer_nr': 1, 'waiting_time': 0, 'order_status': 0, 'satisfaction': 0}, {'customer_nr': 2, 'waiting_time': 0, 'order_status': 0, 'satisfaction': 0}, {'customer_nr': 3, 'waiting_time': 0, 'order_status': 0, 'satisfaction': 0}]}, {'RunId': 3, 'iteration': 3, 'Step': 4, 'n_waiters': 2, 'Customer_Count': 5, 'Average_Wait_Time': np.float64(0.0), 'Average_Customer_Satisfaction': np.float64(0.0), 'Profit': np.float64(0.0), 'Customer_Info': [{'customer_nr': 0, 'waiting_time': 0, 'order_status': 3, 'satisfaction': 0}, {'customer_nr': 1, 'waiting_time': 0, 'order_status': 0, 'satisfaction': 0}, {'customer_nr': 2, 'waiting_time': 0, 'order_status': 0, 'satisfaction': 0}, {'customer_nr': 3, 'waiting_time': 0, 'order_status': 0, 'satisfaction': 0}, {'customer_nr': 4, 'waiting_time': 0, 'order_status': 0, 'satisfaction': 0}]}, {'RunId': 3, 'iteration': 3, 'Step': 5, 'n_waiters': 2, 'Customer_Count': 5, 'Average_Wait_Time': np.float64(0.0), 'Average_Customer_Satisfaction': np.float64(0.0), 'Profit': np.float64(0.0), 'Customer_Info': [{'customer_nr': 0, 'waiting_time': 0, 'order_status': 3, 'satisfaction': 0}, {'customer_nr': 1, 'waiting_time': 0, 'order_status': 0, 'satisfaction': 0}, {'customer_nr': 2, 'waiting_time': 0, 'order_status': 0, 'satisfaction': 0}, {'customer_nr': 3, 'waiting_time': 0, 'order_status': 0, 'satisfaction': 0}, {'customer_nr': 4, 'waiting_time': 0, 'order_status': 0, 'satisfaction': 0}]}, {'RunId': 3, 'iteration': 3, 'Step': 6, 'n_waiters': 2, 'Customer_Count': 8, 'Average_Wait_Time': np.float64(0.0), 'Average_Customer_Satisfaction': np.float64(0.0), 'Profit': np.float64(0.0), 'Customer_Info': [{'customer_nr': 0, 'waiting_time': 0, 'order_status': 3, 'satisfaction': 0}, {'customer_nr': 1, 'waiting_time': 0, 'order_status': 0, 'satisfaction': 0}, {'customer_nr': 2, 'waiting_time': 0, 'order_status': 0, 'satisfaction': 0}, {'customer_nr': 3, 'waiting_time': 0, 'order_status': 0, 'satisfaction': 0}, {'customer_nr': 4, 'waiting_time': 0, 'order_status': 0, 'satisfaction': 0}, {'customer_nr': 5, 'waiting_time': 0, 'order_status': 0, 'satisfaction': 0}, {'customer_nr': 6, 'waiting_time': 0, 'order_status': 0, 'satisfaction': 0}, {'customer_nr': 7, 'waiting_time': 0, 'order_status': 0, 'satisfaction': 0}]}, {'RunId': 3, 'iteration': 3, 'Step': 7, 'n_waiters': 2, 'Customer_Count': 9, 'Average_Wait_Time': np.float64(0.0), 'Average_Customer_Satisfaction': np.float64(0.0), 'Profit': np.float64(0.0), 'Customer_Info': [{'customer_nr': 0, 'waiting_time': 0, 'order_status': 3, 'satisfaction': 0}, {'customer_nr': 1, 'waiting_time': 0, 'order_status': 0, 'satisfaction': 0}, {'customer_nr': 2, 'waiting_time': 0, 'order_status': 0, 'satisfaction': 0}, {'customer_nr': 3, 'waiting_time': 0, 'order_status': 0, 'satisfaction': 0}, {'customer_nr': 4, 'waiting_time': 0, 'order_status': 0, 'satisfaction': 0}, {'customer_nr': 5, 'waiting_time': 0, 'order_status': 0, 'satisfaction': 0}, {'customer_nr': 6, 'waiting_time': 0, 'order_status': 0, 'satisfaction': 0}, {'customer_nr': 7, 'waiting_time': 0, 'order_status': 0, 'satisfaction': 0}, {'customer_nr': 8, 'waiting_time': 0, 'order_status': 0, 'satisfaction': 0}]}, {'RunId': 3, 'iteration': 3, 'Step': 8, 'n_waiters': 2, 'Customer_Count': 9, 'Average_Wait_Time': np.float64(0.0), 'Average_Customer_Satisfaction': np.float64(0.0), 'Profit': np.float64(0.0), 'Customer_Info': [{'customer_nr': 0, 'waiting_time': 0, 'order_status': 3, 'satisfaction': 0}, {'customer_nr': 1, 'waiting_time': 0, 'order_status': 0, 'satisfaction': 0}, {'customer_nr': 2, 'waiting_time': 0, 'order_status': 0, 'satisfaction': 0}, {'customer_nr': 3, 'waiting_time': 0, 'order_status': 0, 'satisfaction': 0}, {'customer_nr': 4, 'waiting_time': 0, 'order_status': 0, 'satisfaction': 0}, {'customer_nr': 5, 'waiting_time': 0, 'order_status': 0, 'satisfaction': 0}, {'customer_nr': 6, 'waiting_time': 0, 'order_status': 0, 'satisfaction': 0}, {'customer_nr': 7, 'waiting_time': 0, 'order_status': 0, 'satisfaction': 0}, {'customer_nr': 8, 'waiting_time': 0, 'order_status': 0, 'satisfaction': 0}]}, {'RunId': 3, 'iteration': 3, 'Step': 9, 'n_waiters': 2, 'Customer_Count': 9, 'Average_Wait_Time': np.float64(0.0), 'Average_Customer_Satisfaction': np.float64(0.0), 'Profit': np.float64(0.0), 'Customer_Info': [{'customer_nr': 0, 'waiting_time': 0, 'order_status': 3, 'satisfaction': 0}, {'customer_nr': 1, 'waiting_time': 0, 'order_status': 0, 'satisfaction': 0}, {'customer_nr': 2, 'waiting_time': 0, 'order_status': 0, 'satisfaction': 0}, {'customer_nr': 3, 'waiting_time': 0, 'order_status': 0, 'satisfaction': 0}, {'customer_nr': 4, 'waiting_time': 0, 'order_status': 0, 'satisfaction': 0}, {'customer_nr': 5, 'waiting_time': 0, 'order_status': 0, 'satisfaction': 0}, {'customer_nr': 6, 'waiting_time': 0, 'order_status': 0, 'satisfaction': 0}, {'customer_nr': 7, 'waiting_time': 0, 'order_status': 0, 'satisfaction': 0}, {'customer_nr': 8, 'waiting_time': 0, 'order_status': 0, 'satisfaction': 0}]}, {'RunId': 3, 'iteration': 3, 'Step': 10, 'n_waiters': 2, 'Customer_Count': 11, 'Average_Wait_Time': np.float64(0.0), 'Average_Customer_Satisfaction': np.float64(0.0), 'Profit': np.float64(0.0), 'Customer_Info': [{'customer_nr': 0, 'waiting_time': 0, 'order_status': 3, 'satisfaction': 0}, {'customer_nr': 1, 'waiting_time': 0, 'order_status': 0, 'satisfaction': 0}, {'customer_nr': 2, 'waiting_time': 0, 'order_status': 0, 'satisfaction': 0}, {'customer_nr': 3, 'waiting_time': 0, 'order_status': 0, 'satisfaction': 0}, {'customer_nr': 4, 'waiting_time': 0, 'order_status': 0, 'satisfaction': 0}, {'customer_nr': 5, 'waiting_time': 0, 'order_status': 0, 'satisfaction': 0}, {'customer_nr': 6, 'waiting_time': 0, 'order_status': 0, 'satisfaction': 0}, {'customer_nr': 7, 'waiting_time': 0, 'order_status': 0, 'satisfaction': 0}, {'customer_nr': 8, 'waiting_time': 0, 'order_status': 0, 'satisfaction': 0}, {'customer_nr': 9, 'waiting_time': 0, 'order_status': 0, 'satisfaction': 0}, {'customer_nr': 10, 'waiting_time': 0, 'order_status': 0, 'satisfaction': 0}]}, {'RunId': 4, 'iteration': 4, 'Step': 0, 'n_waiters': 2, 'Customer_Count': 3, 'Average_Wait_Time': np.float64(0.0), 'Average_Customer_Satisfaction': np.float64(0.0), 'Profit': np.float64(0.0), 'Customer_Info': [{'customer_nr': 0, 'waiting_time': 0, 'order_status': 0, 'satisfaction': 0}, {'customer_nr': 1, 'waiting_time': 0, 'order_status': 0, 'satisfaction': 0}, {'customer_nr': 2, 'waiting_time': 0, 'order_status': 0, 'satisfaction': 0}]}, {'RunId': 4, 'iteration': 4, 'Step': 1, 'n_waiters': 2, 'Customer_Count': 3, 'Average_Wait_Time': np.float64(0.0), 'Average_Customer_Satisfaction': np.float64(0.0), 'Profit': np.float64(0.0), 'Customer_Info': [{'customer_nr': 0, 'waiting_time': 0, 'order_status': 1, 'satisfaction': 0}, {'customer_nr': 1, 'waiting_time': 0, 'order_status': 0, 'satisfaction': 0}, {'customer_nr': 2, 'waiting_time': 0, 'order_status': 0, 'satisfaction': 0}]}, {'RunId': 4, 'iteration': 4, 'Step': 2, 'n_waiters': 2, 'Customer_Count': 6, 'Average_Wait_Time': np.float64(0.0), 'Average_Customer_Satisfaction': np.float64(0.0), 'Profit': np.float64(0.0), 'Customer_Info': [{'customer_nr': 0, 'waiting_time': 0, 'order_status': 3, 'satisfaction': 0}, {'customer_nr': 1, 'waiting_time': 0, 'order_status': 0, 'satisfaction': 0}, {'customer_nr': 2, 'waiting_time': 0, 'order_status': 0, 'satisfaction': 0}, {'customer_nr': 3, 'waiting_time': 0, 'order_status': 0, 'satisfaction': 0}, {'customer_nr': 4, 'waiting_time': 0, 'order_status': 0, 'satisfaction': 0}, {'customer_nr': 5, 'waiting_time': 0, 'order_status': 0, 'satisfaction': 0}]}, {'RunId': 4, 'iteration': 4, 'Step': 3, 'n_waiters': 2, 'Customer_Count': 7, 'Average_Wait_Time': np.float64(0.0), 'Average_Customer_Satisfaction': np.float64(0.0), 'Profit': np.float64(0.0), 'Customer_Info': [{'customer_nr': 0, 'waiting_time': 0, 'order_status': 3, 'satisfaction': 0}, {'customer_nr': 1, 'waiting_time': 0, 'order_status': 0, 'satisfaction': 0}, {'customer_nr': 2, 'waiting_time': 0, 'order_status': 0, 'satisfaction': 0}, {'customer_nr': 3, 'waiting_time': 0, 'order_status': 0, 'satisfaction': 0}, {'customer_nr': 4, 'waiting_time': 0, 'order_status': 0, 'satisfaction': 0}, {'customer_nr': 5, 'waiting_time': 0, 'order_status': 0, 'satisfaction': 0}, {'customer_nr': 6, 'waiting_time': 0, 'order_status': 0, 'satisfaction': 0}]}, {'RunId': 4, 'iteration': 4, 'Step': 4, 'n_waiters': 2, 'Customer_Count': 8, 'Average_Wait_Time': np.float64(0.0), 'Average_Customer_Satisfaction': np.float64(0.0), 'Profit': np.float64(0.0), 'Customer_Info': [{'customer_nr': 0, 'waiting_time': 0, 'order_status': 3, 'satisfaction': 0}, {'customer_nr': 1, 'waiting_time': 0, 'order_status': 0, 'satisfaction': 0}, {'customer_nr': 2, 'waiting_time': 0, 'order_status': 0, 'satisfaction': 0}, {'customer_nr': 3, 'waiting_time': 0, 'order_status': 0, 'satisfaction': 0}, {'customer_nr': 4, 'waiting_time': 0, 'order_status': 0, 'satisfaction': 0}, {'customer_nr': 5, 'waiting_time': 0, 'order_status': 0, 'satisfaction': 0}, {'customer_nr': 6, 'waiting_time': 0, 'order_status': 0, 'satisfaction': 0}, {'customer_nr': 7, 'waiting_time': 0, 'order_status': 0, 'satisfaction': 0}]}, {'RunId': 4, 'iteration': 4, 'Step': 5, 'n_waiters': 2, 'Customer_Count': 9, 'Average_Wait_Time': np.float64(0.0), 'Average_Customer_Satisfaction': np.float64(0.0), 'Profit': np.float64(0.0), 'Customer_Info': [{'customer_nr': 0, 'waiting_time': 0, 'order_status': 3, 'satisfaction': 0}, {'customer_nr': 1, 'waiting_time': 0, 'order_status': 0, 'satisfaction': 0}, {'customer_nr': 2, 'waiting_time': 0, 'order_status': 0, 'satisfaction': 0}, {'customer_nr': 3, 'waiting_time': 0, 'order_status': 0, 'satisfaction': 0}, {'customer_nr': 4, 'waiting_time': 0, 'order_status': 0, 'satisfaction': 0}, {'customer_nr': 5, 'waiting_time': 0, 'order_status': 0, 'satisfaction': 0}, {'customer_nr': 6, 'waiting_time': 0, 'order_status': 0, 'satisfaction': 0}, {'customer_nr': 7, 'waiting_time': 0, 'order_status': 0, 'satisfaction': 0}, {'customer_nr': 8, 'waiting_time': 0, 'order_status': 0, 'satisfaction': 0}]}, {'RunId': 4, 'iteration': 4, 'Step': 6, 'n_waiters': 2, 'Customer_Count': 11, 'Average_Wait_Time': np.float64(0.0), 'Average_Customer_Satisfaction': np.float64(0.0), 'Profit': np.float64(0.0), 'Customer_Info': [{'customer_nr': 0, 'waiting_time': 0, 'order_status': 3, 'satisfaction': 0}, {'customer_nr': 1, 'waiting_time': 0, 'order_status': 0, 'satisfaction': 0}, {'customer_nr': 2, 'waiting_time': 0, 'order_status': 0, 'satisfaction': 0}, {'customer_nr': 3, 'waiting_time': 0, 'order_status': 0, 'satisfaction': 0}, {'customer_nr': 4, 'waiting_time': 0, 'order_status': 0, 'satisfaction': 0}, {'customer_nr': 5, 'waiting_time': 0, 'order_status': 0, 'satisfaction': 0}, {'customer_nr': 6, 'waiting_time': 0, 'order_status': 0, 'satisfaction': 0}, {'customer_nr': 7, 'waiting_time': 0, 'order_status': 0, 'satisfaction': 0}, {'customer_nr': 8, 'waiting_time': 0, 'order_status': 0, 'satisfaction': 0}, {'customer_nr': 9, 'waiting_time': 0, 'order_status': 0, 'satisfaction': 0}, {'customer_nr': 10, 'waiting_time': 0, 'order_status': 0, 'satisfaction': 0}]}, {'RunId': 4, 'iteration': 4, 'Step': 7, 'n_waiters': 2, 'Customer_Count': 12, 'Average_Wait_Time': np.float64(0.0), 'Average_Customer_Satisfaction': np.float64(0.0), 'Profit': np.float64(0.0), 'Customer_Info': [{'customer_nr': 0, 'waiting_time': 0, 'order_status': 3, 'satisfaction': 0}, {'customer_nr': 1, 'waiting_time': 0, 'order_status': 0, 'satisfaction': 0}, {'customer_nr': 2, 'waiting_time': 0, 'order_status': 0, 'satisfaction': 0}, {'customer_nr': 3, 'waiting_time': 0, 'order_status': 0, 'satisfaction': 0}, {'customer_nr': 4, 'waiting_time': 0, 'order_status': 0, 'satisfaction': 0}, {'customer_nr': 5, 'waiting_time': 0, 'order_status': 0, 'satisfaction': 0}, {'customer_nr': 6, 'waiting_time': 0, 'order_status': 0, 'satisfaction': 0}, {'customer_nr': 7, 'waiting_time': 0, 'order_status': 0, 'satisfaction': 0}, {'customer_nr': 8, 'waiting_time': 0, 'order_status': 0, 'satisfaction': 0}, {'customer_nr': 9, 'waiting_time': 0, 'order_status': 0, 'satisfaction': 0}, {'customer_nr': 10, 'waiting_time': 0, 'order_status': 0, 'satisfaction': 0}, {'customer_nr': 11, 'waiting_time': 0, 'order_status': 0, 'satisfaction': 0}]}, {'RunId': 4, 'iteration': 4, 'Step': 8, 'n_waiters': 2, 'Customer_Count': 13, 'Average_Wait_Time': np.float64(0.0), 'Average_Customer_Satisfaction': np.float64(0.0), 'Profit': np.float64(0.0), 'Customer_Info': [{'customer_nr': 0, 'waiting_time': 0, 'order_status': 3, 'satisfaction': 0}, {'customer_nr': 1, 'waiting_time': 0, 'order_status': 0, 'satisfaction': 0}, {'customer_nr': 2, 'waiting_time': 0, 'order_status': 0, 'satisfaction': 0}, {'customer_nr': 3, 'waiting_time': 0, 'order_status': 0, 'satisfaction': 0}, {'customer_nr': 4, 'waiting_time': 0, 'order_status': 0, 'satisfaction': 0}, {'customer_nr': 5, 'waiting_time': 0, 'order_status': 0, 'satisfaction': 0}, {'customer_nr': 6, 'waiting_time': 0, 'order_status': 0, 'satisfaction': 0}, {'customer_nr': 7, 'waiting_time': 0, 'order_status': 0, 'satisfaction': 0}, {'customer_nr': 8, 'waiting_time': 0, 'order_status': 0, 'satisfaction': 0}, {'customer_nr': 9, 'waiting_time': 0, 'order_status': 0, 'satisfaction': 0}, {'customer_nr': 10, 'waiting_time': 0, 'order_status': 0, 'satisfaction': 0}, {'customer_nr': 11, 'waiting_time': 0, 'order_status': 0, 'satisfaction': 0}, {'customer_nr': 12, 'waiting_time': 0, 'order_status': 0, 'satisfaction': 0}]}, {'RunId': 4, 'iteration': 4, 'Step': 9, 'n_waiters': 2, 'Customer_Count': 15, 'Average_Wait_Time': np.float64(0.0), 'Average_Customer_Satisfaction': np.float64(0.0), 'Profit': np.float64(0.0), 'Customer_Info': [{'customer_nr': 0, 'waiting_time': 0, 'order_status': 3, 'satisfaction': 0}, {'customer_nr': 1, 'waiting_time': 0, 'order_status': 0, 'satisfaction': 0}, {'customer_nr': 2, 'waiting_time': 0, 'order_status': 0, 'satisfaction': 0}, {'customer_nr': 3, 'waiting_time': 0, 'order_status': 0, 'satisfaction': 0}, {'customer_nr': 4, 'waiting_time': 0, 'order_status': 0, 'satisfaction': 0}, {'customer_nr': 5, 'waiting_time': 0, 'order_status': 0, 'satisfaction': 0}, {'customer_nr': 6, 'waiting_time': 0, 'order_status': 0, 'satisfaction': 0}, {'customer_nr': 7, 'waiting_time': 0, 'order_status': 0, 'satisfaction': 0}, {'customer_nr': 8, 'waiting_time': 0, 'order_status': 0, 'satisfaction': 0}, {'customer_nr': 9, 'waiting_time': 0, 'order_status': 0, 'satisfaction': 0}, {'customer_nr': 10, 'waiting_time': 0, 'order_status': 0, 'satisfaction': 0}, {'customer_nr': 11, 'waiting_time': 0, 'order_status': 0, 'satisfaction': 0}, {'customer_nr': 12, 'waiting_time': 0, 'order_status': 0, 'satisfaction': 0}, {'customer_nr': 13, 'waiting_time': 0, 'order_status': 0, 'satisfaction': 0}, {'customer_nr': 14, 'waiting_time': 0, 'order_status': 0, 'satisfaction': 0}]}, {'RunId': 4, 'iteration': 4, 'Step': 10, 'n_waiters': 2, 'Customer_Count': 17, 'Average_Wait_Time': np.float64(0.0), 'Average_Customer_Satisfaction': np.float64(0.0), 'Profit': np.float64(0.0), 'Customer_Info': [{'customer_nr': 0, 'waiting_time': 0, 'order_status': 3, 'satisfaction': 0}, {'customer_nr': 1, 'waiting_time': 0, 'order_status': 0, 'satisfaction': 0}, {'customer_nr': 2, 'waiting_time': 0, 'order_status': 0, 'satisfaction': 0}, {'customer_nr': 3, 'waiting_time': 0, 'order_status': 0, 'satisfaction': 0}, {'customer_nr': 4, 'waiting_time': 0, 'order_status': 0, 'satisfaction': 0}, {'customer_nr': 5, 'waiting_time': 0, 'order_status': 0, 'satisfaction': 0}, {'customer_nr': 6, 'waiting_time': 0, 'order_status': 0, 'satisfaction': 0}, {'customer_nr': 7, 'waiting_time': 0, 'order_status': 0, 'satisfaction': 0}, {'customer_nr': 8, 'waiting_time': 0, 'order_status': 0, 'satisfaction': 0}, {'customer_nr': 9, 'waiting_time': 0, 'order_status': 0, 'satisfaction': 0}, {'customer_nr': 10, 'waiting_time': 0, 'order_status': 0, 'satisfaction': 0}, {'customer_nr': 11, 'waiting_time': 0, 'order_status': 0, 'satisfaction': 0}, {'customer_nr': 12, 'waiting_time': 0, 'order_status': 0, 'satisfaction': 0}, {'customer_nr': 13, 'waiting_time': 0, 'order_status': 0, 'satisfaction': 0}, {'customer_nr': 14, 'waiting_time': 0, 'order_status': 0, 'satisfaction': 0}, {'customer_nr': 15, 'waiting_time': 0, 'order_status': 0, 'satisfaction': 0}, {'customer_nr': 16, 'waiting_time': 0, 'order_status': 0, 'satisfaction': 0}]}]\n"
     ]
    }
   ],
   "source": [
    "import mesa\n",
    "from mesa_restaurant_agents.model.restaurant_model import RestaurantModel\n",
    "\n",
    "'''\n",
    "model = RestaurantModel(n_waiters=2)\n",
    "for i in range(10):\n",
    "    model.step()\n",
    "'''\n",
    "\n",
    "params = {\"n_waiters\":2}\n",
    "\n",
    "results = mesa.batch_run(\n",
    "    RestaurantModel,\n",
    "    parameters=params,\n",
    "    iterations=5,\n",
    "    max_steps=10,\n",
    "    number_processes=1,\n",
    "    data_collection_period=1,\n",
    "    display_progress=True,\n",
    ")\n",
    "print(results)"
   ]
  },
  {
   "cell_type": "code",
   "execution_count": 3,
   "metadata": {},
   "outputs": [
    {
     "data": {
      "image/png": "[encoded data removed]",
      "text/plain": [
       "<Figure size 1500x1000 with 1 Axes>"
      ]
     },
     "metadata": {},
     "output_type": "display_data"
    },
    {
     "name": "stdout",
     "output_type": "stream",
     "text": [
      "None\n"
     ]
    },
    {
     "data": {
      "application/vnd.plotly.v1+json": {
       "config": {
        "plotlyServerURL": "https://plot.ly"
       },
       "data": [
        {
         "alignmentgroup": "True",
         "bingroup": "x",
         "histfunc": "sum",
         "hovertemplate": "customer_nr=0<br>step=%{x}<br>sum of waiting_time=%{y}<extra></extra>",
         "legendgroup": "0",
         "marker": {
          "color": "#636efa",
          "pattern": {
           "shape": ""
          }
         },
         "name": "0",
         "nbinsx": 11,
         "offsetgroup": "0",
         "orientation": "v",
         "showlegend": true,
         "type": "histogram",
         "x": [
          0,
          1,
          2,
          3,
          4,
          5,
          6,
          7,
          8,
          9,
          10
         ],
         "xaxis": "x",
         "y": [
          0,
          0,
          0,
          0,
          0,
          0,
          0,
          0,
          0,
          0,
          0
         ],
         "yaxis": "y"
        },
        {
         "alignmentgroup": "True",
         "bingroup": "x",
         "histfunc": "sum",
         "hovertemplate": "customer_nr=1<br>step=%{x}<br>sum of waiting_time=%{y}<extra></extra>",
         "legendgroup": "1",
         "marker": {
          "color": "#EF553B",
          "pattern": {
           "shape": ""
          }
         },
         "name": "1",
         "nbinsx": 11,
         "offsetgroup": "1",
         "orientation": "v",
         "showlegend": true,
         "type": "histogram",
         "x": [
          1,
          2,
          3,
          4,
          5,
          6,
          7,
          8,
          9,
          10
         ],
         "xaxis": "x",
         "y": [
          0,
          0,
          0,
          0,
          0,
          0,
          0,
          0,
          0,
          0
         ],
         "yaxis": "y"
        },
        {
         "alignmentgroup": "True",
         "bingroup": "x",
         "histfunc": "sum",
         "hovertemplate": "customer_nr=2<br>step=%{x}<br>sum of waiting_time=%{y}<extra></extra>",
         "legendgroup": "2",
         "marker": {
          "color": "#00cc96",
          "pattern": {
           "shape": ""
          }
         },
         "name": "2",
         "nbinsx": 11,
         "offsetgroup": "2",
         "orientation": "v",
         "showlegend": true,
         "type": "histogram",
         "x": [
          1,
          2,
          3,
          4,
          5,
          6,
          7,
          8,
          9,
          10
         ],
         "xaxis": "x",
         "y": [
          0,
          0,
          0,
          0,
          0,
          0,
          0,
          0,
          0,
          0
         ],
         "yaxis": "y"
        },
        {
         "alignmentgroup": "True",
         "bingroup": "x",
         "histfunc": "sum",
         "hovertemplate": "customer_nr=3<br>step=%{x}<br>sum of waiting_time=%{y}<extra></extra>",
         "legendgroup": "3",
         "marker": {
          "color": "#ab63fa",
          "pattern": {
           "shape": ""
          }
         },
         "name": "3",
         "nbinsx": 11,
         "offsetgroup": "3",
         "orientation": "v",
         "showlegend": true,
         "type": "histogram",
         "x": [
          1,
          2,
          3,
          4,
          5,
          6,
          7,
          8,
          9,
          10
         ],
         "xaxis": "x",
         "y": [
          0,
          0,
          0,
          0,
          0,
          0,
          0,
          0,
          0,
          0
         ],
         "yaxis": "y"
        },
        {
         "alignmentgroup": "True",
         "bingroup": "x",
         "histfunc": "sum",
         "hovertemplate": "customer_nr=4<br>step=%{x}<br>sum of waiting_time=%{y}<extra></extra>",
         "legendgroup": "4",
         "marker": {
          "color": "#FFA15A",
          "pattern": {
           "shape": ""
          }
         },
         "name": "4",
         "nbinsx": 11,
         "offsetgroup": "4",
         "orientation": "v",
         "showlegend": true,
         "type": "histogram",
         "x": [
          1,
          2,
          3,
          4,
          5,
          6,
          7,
          8,
          9,
          10
         ],
         "xaxis": "x",
         "y": [
          0,
          0,
          0,
          0,
          0,
          0,
          0,
          0,
          0,
          0
         ],
         "yaxis": "y"
        },
        {
         "alignmentgroup": "True",
         "bingroup": "x",
         "histfunc": "sum",
         "hovertemplate": "customer_nr=5<br>step=%{x}<br>sum of waiting_time=%{y}<extra></extra>",
         "legendgroup": "5",
         "marker": {
          "color": "#19d3f3",
          "pattern": {
           "shape": ""
          }
         },
         "name": "5",
         "nbinsx": 11,
         "offsetgroup": "5",
         "orientation": "v",
         "showlegend": true,
         "type": "histogram",
         "x": [
          3,
          4,
          5,
          6,
          7,
          8,
          9,
          10
         ],
         "xaxis": "x",
         "y": [
          0,
          0,
          0,
          0,
          0,
          0,
          0,
          0
         ],
         "yaxis": "y"
        },
        {
         "alignmentgroup": "True",
         "bingroup": "x",
         "histfunc": "sum",
         "hovertemplate": "customer_nr=6<br>step=%{x}<br>sum of waiting_time=%{y}<extra></extra>",
         "legendgroup": "6",
         "marker": {
          "color": "#FF6692",
          "pattern": {
           "shape": ""
          }
         },
         "name": "6",
         "nbinsx": 11,
         "offsetgroup": "6",
         "orientation": "v",
         "showlegend": true,
         "type": "histogram",
         "x": [
          3,
          4,
          5,
          6,
          7,
          8,
          9,
          10
         ],
         "xaxis": "x",
         "y": [
          0,
          0,
          0,
          0,
          0,
          0,
          0,
          0
         ],
         "yaxis": "y"
        },
        {
         "alignmentgroup": "True",
         "bingroup": "x",
         "histfunc": "sum",
         "hovertemplate": "customer_nr=7<br>step=%{x}<br>sum of waiting_time=%{y}<extra></extra>",
         "legendgroup": "7",
         "marker": {
          "color": "#B6E880",
          "pattern": {
           "shape": ""
          }
         },
         "name": "7",
         "nbinsx": 11,
         "offsetgroup": "7",
         "orientation": "v",
         "showlegend": true,
         "type": "histogram",
         "x": [
          3,
          4,
          5,
          6,
          7,
          8,
          9,
          10
         ],
         "xaxis": "x",
         "y": [
          0,
          0,
          0,
          0,
          0,
          0,
          0,
          0
         ],
         "yaxis": "y"
        },
        {
         "alignmentgroup": "True",
         "bingroup": "x",
         "histfunc": "sum",
         "hovertemplate": "customer_nr=8<br>step=%{x}<br>sum of waiting_time=%{y}<extra></extra>",
         "legendgroup": "8",
         "marker": {
          "color": "#FF97FF",
          "pattern": {
           "shape": ""
          }
         },
         "name": "8",
         "nbinsx": 11,
         "offsetgroup": "8",
         "orientation": "v",
         "showlegend": true,
         "type": "histogram",
         "x": [
          3,
          4,
          5,
          6,
          7,
          8,
          9,
          10
         ],
         "xaxis": "x",
         "y": [
          0,
          0,
          0,
          0,
          0,
          0,
          0,
          0
         ],
         "yaxis": "y"
        },
        {
         "alignmentgroup": "True",
         "bingroup": "x",
         "histfunc": "sum",
         "hovertemplate": "customer_nr=9<br>step=%{x}<br>sum of waiting_time=%{y}<extra></extra>",
         "legendgroup": "9",
         "marker": {
          "color": "#FECB52",
          "pattern": {
           "shape": ""
          }
         },
         "name": "9",
         "nbinsx": 11,
         "offsetgroup": "9",
         "orientation": "v",
         "showlegend": true,
         "type": "histogram",
         "x": [
          4,
          5,
          6,
          7,
          8,
          9,
          10
         ],
         "xaxis": "x",
         "y": [
          0,
          0,
          0,
          0,
          0,
          0,
          0
         ],
         "yaxis": "y"
        },
        {
         "alignmentgroup": "True",
         "bingroup": "x",
         "histfunc": "sum",
         "hovertemplate": "customer_nr=10<br>step=%{x}<br>sum of waiting_time=%{y}<extra></extra>",
         "legendgroup": "10",
         "marker": {
          "color": "#636efa",
          "pattern": {
           "shape": ""
          }
         },
         "name": "10",
         "nbinsx": 11,
         "offsetgroup": "10",
         "orientation": "v",
         "showlegend": true,
         "type": "histogram",
         "x": [
          4,
          5,
          6,
          7,
          8,
          9,
          10
         ],
         "xaxis": "x",
         "y": [
          0,
          0,
          0,
          0,
          0,
          0,
          0
         ],
         "yaxis": "y"
        },
        {
         "alignmentgroup": "True",
         "bingroup": "x",
         "histfunc": "sum",
         "hovertemplate": "customer_nr=11<br>step=%{x}<br>sum of waiting_time=%{y}<extra></extra>",
         "legendgroup": "11",
         "marker": {
          "color": "#EF553B",
          "pattern": {
           "shape": ""
          }
         },
         "name": "11",
         "nbinsx": 11,
         "offsetgroup": "11",
         "orientation": "v",
         "showlegend": true,
         "type": "histogram",
         "x": [
          5,
          6,
          7,
          8,
          9,
          10
         ],
         "xaxis": "x",
         "y": [
          0,
          0,
          0,
          0,
          0,
          0
         ],
         "yaxis": "y"
        },
        {
         "alignmentgroup": "True",
         "bingroup": "x",
         "histfunc": "sum",
         "hovertemplate": "customer_nr=12<br>step=%{x}<br>sum of waiting_time=%{y}<extra></extra>",
         "legendgroup": "12",
         "marker": {
          "color": "#00cc96",
          "pattern": {
           "shape": ""
          }
         },
         "name": "12",
         "nbinsx": 11,
         "offsetgroup": "12",
         "orientation": "v",
         "showlegend": true,
         "type": "histogram",
         "x": [
          7,
          8,
          9,
          10
         ],
         "xaxis": "x",
         "y": [
          0,
          0,
          0,
          0
         ],
         "yaxis": "y"
        },
        {
         "alignmentgroup": "True",
         "bingroup": "x",
         "histfunc": "sum",
         "hovertemplate": "customer_nr=13<br>step=%{x}<br>sum of waiting_time=%{y}<extra></extra>",
         "legendgroup": "13",
         "marker": {
          "color": "#ab63fa",
          "pattern": {
           "shape": ""
          }
         },
         "name": "13",
         "nbinsx": 11,
         "offsetgroup": "13",
         "orientation": "v",
         "showlegend": true,
         "type": "histogram",
         "x": [
          8,
          9,
          10
         ],
         "xaxis": "x",
         "y": [
          0,
          0,
          0
         ],
         "yaxis": "y"
        },
        {
         "alignmentgroup": "True",
         "bingroup": "x",
         "histfunc": "sum",
         "hovertemplate": "customer_nr=14<br>step=%{x}<br>sum of waiting_time=%{y}<extra></extra>",
         "legendgroup": "14",
         "marker": {
          "color": "#FFA15A",
          "pattern": {
           "shape": ""
          }
         },
         "name": "14",
         "nbinsx": 11,
         "offsetgroup": "14",
         "orientation": "v",
         "showlegend": true,
         "type": "histogram",
         "x": [
          8,
          9,
          10
         ],
         "xaxis": "x",
         "y": [
          0,
          0,
          0
         ],
         "yaxis": "y"
        },
        {
         "alignmentgroup": "True",
         "bingroup": "x",
         "histfunc": "sum",
         "hovertemplate": "customer_nr=15<br>step=%{x}<br>sum of waiting_time=%{y}<extra></extra>",
         "legendgroup": "15",
         "marker": {
          "color": "#19d3f3",
          "pattern": {
           "shape": ""
          }
         },
         "name": "15",
         "nbinsx": 11,
         "offsetgroup": "15",
         "orientation": "v",
         "showlegend": true,
         "type": "histogram",
         "x": [
          8,
          9,
          10
         ],
         "xaxis": "x",
         "y": [
          0,
          0,
          0
         ],
         "yaxis": "y"
        },
        {
         "alignmentgroup": "True",
         "bingroup": "x",
         "histfunc": "sum",
         "hovertemplate": "customer_nr=16<br>step=%{x}<br>sum of waiting_time=%{y}<extra></extra>",
         "legendgroup": "16",
         "marker": {
          "color": "#FF6692",
          "pattern": {
           "shape": ""
          }
         },
         "name": "16",
         "nbinsx": 11,
         "offsetgroup": "16",
         "orientation": "v",
         "showlegend": true,
         "type": "histogram",
         "x": [
          8,
          9,
          10
         ],
         "xaxis": "x",
         "y": [
          0,
          0,
          0
         ],
         "yaxis": "y"
        },
        {
         "alignmentgroup": "True",
         "bingroup": "x",
         "histfunc": "sum",
         "hovertemplate": "customer_nr=17<br>step=%{x}<br>sum of waiting_time=%{y}<extra></extra>",
         "legendgroup": "17",
         "marker": {
          "color": "#B6E880",
          "pattern": {
           "shape": ""
          }
         },
         "name": "17",
         "nbinsx": 11,
         "offsetgroup": "17",
         "orientation": "v",
         "showlegend": true,
         "type": "histogram",
         "x": [
          9,
          10
         ],
         "xaxis": "x",
         "y": [
          0,
          0
         ],
         "yaxis": "y"
        },
        {
         "alignmentgroup": "True",
         "bingroup": "x",
         "histfunc": "sum",
         "hovertemplate": "customer_nr=18<br>step=%{x}<br>sum of waiting_time=%{y}<extra></extra>",
         "legendgroup": "18",
         "marker": {
          "color": "#FF97FF",
          "pattern": {
           "shape": ""
          }
         },
         "name": "18",
         "nbinsx": 11,
         "offsetgroup": "18",
         "orientation": "v",
         "showlegend": true,
         "type": "histogram",
         "x": [
          9,
          10
         ],
         "xaxis": "x",
         "y": [
          0,
          0
         ],
         "yaxis": "y"
        },
        {
         "alignmentgroup": "True",
         "bingroup": "x",
         "histfunc": "sum",
         "hovertemplate": "customer_nr=19<br>step=%{x}<br>sum of waiting_time=%{y}<extra></extra>",
         "legendgroup": "19",
         "marker": {
          "color": "#FECB52",
          "pattern": {
           "shape": ""
          }
         },
         "name": "19",
         "nbinsx": 11,
         "offsetgroup": "19",
         "orientation": "v",
         "showlegend": true,
         "type": "histogram",
         "x": [
          10
         ],
         "xaxis": "x",
         "y": [
          0
         ],
         "yaxis": "y"
        },
        {
         "alignmentgroup": "True",
         "bingroup": "x",
         "histfunc": "sum",
         "hovertemplate": "customer_nr=20<br>step=%{x}<br>sum of waiting_time=%{y}<extra></extra>",
         "legendgroup": "20",
         "marker": {
          "color": "#636efa",
          "pattern": {
           "shape": ""
          }
         },
         "name": "20",
         "nbinsx": 11,
         "offsetgroup": "20",
         "orientation": "v",
         "showlegend": true,
         "type": "histogram",
         "x": [
          10
         ],
         "xaxis": "x",
         "y": [
          0
         ],
         "yaxis": "y"
        },
        {
         "alignmentgroup": "True",
         "bingroup": "x",
         "histfunc": "sum",
         "hovertemplate": "customer_nr=21<br>step=%{x}<br>sum of waiting_time=%{y}<extra></extra>",
         "legendgroup": "21",
         "marker": {
          "color": "#EF553B",
          "pattern": {
           "shape": ""
          }
         },
         "name": "21",
         "nbinsx": 11,
         "offsetgroup": "21",
         "orientation": "v",
         "showlegend": true,
         "type": "histogram",
         "x": [
          10
         ],
         "xaxis": "x",
         "y": [
          0
         ],
         "yaxis": "y"
        }
       ],
       "layout": {
        "barmode": "group",
        "height": 400,
        "legend": {
         "title": {
          "text": "customer_nr"
         },
         "tracegroupgap": 0
        },
        "margin": {
         "t": 60
        },
        "template": {
         "data": {
          "bar": [
           {
            "error_x": {
             "color": "#2a3f5f"
            },
            "error_y": {
             "color": "#2a3f5f"
            },
            "marker": {
             "line": {
              "color": "#E5ECF6",
              "width": 0.5
             },
             "pattern": {
              "fillmode": "overlay",
              "size": 10,
              "solidity": 0.2
             }
            },
            "type": "bar"
           }
          ],
          "barpolar": [
           {
            "marker": {
             "line": {
              "color": "#E5ECF6",
              "width": 0.5
             },
             "pattern": {
              "fillmode": "overlay",
              "size": 10,
              "solidity": 0.2
             }
            },
            "type": "barpolar"
           }
          ],
          "carpet": [
           {
            "aaxis": {
             "endlinecolor": "#2a3f5f",
             "gridcolor": "white",
             "linecolor": "white",
             "minorgridcolor": "white",
             "startlinecolor": "#2a3f5f"
            },
            "baxis": {
             "endlinecolor": "#2a3f5f",
             "gridcolor": "white",
             "linecolor": "white",
             "minorgridcolor": "white",
             "startlinecolor": "#2a3f5f"
            },
            "type": "carpet"
           }
          ],
          "choropleth": [
           {
            "colorbar": {
             "outlinewidth": 0,
             "ticks": ""
            },
            "type": "choropleth"
           }
          ],
          "contour": [
           {
            "colorbar": {
             "outlinewidth": 0,
             "ticks": ""
            },
            "colorscale": [
             [
              0,
              "#0d0887"
             ],
             [
              0.1111111111111111,
              "#46039f"
             ],
             [
              0.2222222222222222,
              "#7201a8"
             ],
             [
              0.3333333333333333,
              "#9c179e"
             ],
             [
              0.4444444444444444,
              "#bd3786"
             ],
             [
              0.5555555555555556,
              "#d8576b"
             ],
             [
              0.6666666666666666,
              "#ed7953"
             ],
             [
              0.7777777777777778,
              "#fb9f3a"
             ],
             [
              0.8888888888888888,
              "#fdca26"
             ],
             [
              1,
              "#f0f921"
             ]
            ],
            "type": "contour"
           }
          ],
          "contourcarpet": [
           {
            "colorbar": {
             "outlinewidth": 0,
             "ticks": ""
            },
            "type": "contourcarpet"
           }
          ],
          "heatmap": [
           {
            "colorbar": {
             "outlinewidth": 0,
             "ticks": ""
            },
            "colorscale": [
             [
              0,
              "#0d0887"
             ],
             [
              0.1111111111111111,
              "#46039f"
             ],
             [
              0.2222222222222222,
              "#7201a8"
             ],
             [
              0.3333333333333333,
              "#9c179e"
             ],
             [
              0.4444444444444444,
              "#bd3786"
             ],
             [
              0.5555555555555556,
              "#d8576b"
             ],
             [
              0.6666666666666666,
              "#ed7953"
             ],
             [
              0.7777777777777778,
              "#fb9f3a"
             ],
             [
              0.8888888888888888,
              "#fdca26"
             ],
             [
              1,
              "#f0f921"
             ]
            ],
            "type": "heatmap"
           }
          ],
          "heatmapgl": [
           {
            "colorbar": {
             "outlinewidth": 0,
             "ticks": ""
            },
            "colorscale": [
             [
              0,
              "#0d0887"
             ],
             [
              0.1111111111111111,
              "#46039f"
             ],
             [
              0.2222222222222222,
              "#7201a8"
             ],
             [
              0.3333333333333333,
              "#9c179e"
             ],
             [
              0.4444444444444444,
              "#bd3786"
             ],
             [
              0.5555555555555556,
              "#d8576b"
             ],
             [
              0.6666666666666666,
              "#ed7953"
             ],
             [
              0.7777777777777778,
              "#fb9f3a"
             ],
             [
              0.8888888888888888,
              "#fdca26"
             ],
             [
              1,
              "#f0f921"
             ]
            ],
            "type": "heatmapgl"
           }
          ],
          "histogram": [
           {
            "marker": {
             "pattern": {
              "fillmode": "overlay",
              "size": 10,
              "solidity": 0.2
             }
            },
            "type": "histogram"
           }
          ],
          "histogram2d": [
           {
            "colorbar": {
             "outlinewidth": 0,
             "ticks": ""
            },
            "colorscale": [
             [
              0,
              "#0d0887"
             ],
             [
              0.1111111111111111,
              "#46039f"
             ],
             [
              0.2222222222222222,
              "#7201a8"
             ],
             [
              0.3333333333333333,
              "#9c179e"
             ],
             [
              0.4444444444444444,
              "#bd3786"
             ],
             [
              0.5555555555555556,
              "#d8576b"
             ],
             [
              0.6666666666666666,
              "#ed7953"
             ],
             [
              0.7777777777777778,
              "#fb9f3a"
             ],
             [
              0.8888888888888888,
              "#fdca26"
             ],
             [
              1,
              "#f0f921"
             ]
            ],
            "type": "histogram2d"
           }
          ],
          "histogram2dcontour": [
           {
            "colorbar": {
             "outlinewidth": 0,
             "ticks": ""
            },
            "colorscale": [
             [
              0,
              "#0d0887"
             ],
             [
              0.1111111111111111,
              "#46039f"
             ],
             [
              0.2222222222222222,
              "#7201a8"
             ],
             [
              0.3333333333333333,
              "#9c179e"
             ],
             [
              0.4444444444444444,
              "#bd3786"
             ],
             [
              0.5555555555555556,
              "#d8576b"
             ],
             [
              0.6666666666666666,
              "#ed7953"
             ],
             [
              0.7777777777777778,
              "#fb9f3a"
             ],
             [
              0.8888888888888888,
              "#fdca26"
             ],
             [
              1,
              "#f0f921"
             ]
            ],
            "type": "histogram2dcontour"
           }
          ],
          "mesh3d": [
           {
            "colorbar": {
             "outlinewidth": 0,
             "ticks": ""
            },
            "type": "mesh3d"
           }
          ],
          "parcoords": [
           {
            "line": {
             "colorbar": {
              "outlinewidth": 0,
              "ticks": ""
             }
            },
            "type": "parcoords"
           }
          ],
          "pie": [
           {
            "automargin": true,
            "type": "pie"
           }
          ],
          "scatter": [
           {
            "fillpattern": {
             "fillmode": "overlay",
             "size": 10,
             "solidity": 0.2
            },
            "type": "scatter"
           }
          ],
          "scatter3d": [
           {
            "line": {
             "colorbar": {
              "outlinewidth": 0,
              "ticks": ""
             }
            },
            "marker": {
             "colorbar": {
              "outlinewidth": 0,
              "ticks": ""
             }
            },
            "type": "scatter3d"
           }
          ],
          "scattercarpet": [
           {
            "marker": {
             "colorbar": {
              "outlinewidth": 0,
              "ticks": ""
             }
            },
            "type": "scattercarpet"
           }
          ],
          "scattergeo": [
           {
            "marker": {
             "colorbar": {
              "outlinewidth": 0,
              "ticks": ""
             }
            },
            "type": "scattergeo"
           }
          ],
          "scattergl": [
           {
            "marker": {
             "colorbar": {
              "outlinewidth": 0,
              "ticks": ""
             }
            },
            "type": "scattergl"
           }
          ],
          "scattermapbox": [
           {
            "marker": {
             "colorbar": {
              "outlinewidth": 0,
              "ticks": ""
             }
            },
            "type": "scattermapbox"
           }
          ],
          "scatterpolar": [
           {
            "marker": {
             "colorbar": {
              "outlinewidth": 0,
              "ticks": ""
             }
            },
            "type": "scatterpolar"
           }
          ],
          "scatterpolargl": [
           {
            "marker": {
             "colorbar": {
              "outlinewidth": 0,
              "ticks": ""
             }
            },
            "type": "scatterpolargl"
           }
          ],
          "scatterternary": [
           {
            "marker": {
             "colorbar": {
              "outlinewidth": 0,
              "ticks": ""
             }
            },
            "type": "scatterternary"
           }
          ],
          "surface": [
           {
            "colorbar": {
             "outlinewidth": 0,
             "ticks": ""
            },
            "colorscale": [
             [
              0,
              "#0d0887"
             ],
             [
              0.1111111111111111,
              "#46039f"
             ],
             [
              0.2222222222222222,
              "#7201a8"
             ],
             [
              0.3333333333333333,
              "#9c179e"
             ],
             [
              0.4444444444444444,
              "#bd3786"
             ],
             [
              0.5555555555555556,
              "#d8576b"
             ],
             [
              0.6666666666666666,
              "#ed7953"
             ],
             [
              0.7777777777777778,
              "#fb9f3a"
             ],
             [
              0.8888888888888888,
              "#fdca26"
             ],
             [
              1,
              "#f0f921"
             ]
            ],
            "type": "surface"
           }
          ],
          "table": [
           {
            "cells": {
             "fill": {
              "color": "#EBF0F8"
             },
             "line": {
              "color": "white"
             }
            },
            "header": {
             "fill": {
              "color": "#C8D4E3"
             },
             "line": {
              "color": "white"
             }
            },
            "type": "table"
           }
          ]
         },
         "layout": {
          "annotationdefaults": {
           "arrowcolor": "#2a3f5f",
           "arrowhead": 0,
           "arrowwidth": 1
          },
          "autotypenumbers": "strict",
          "coloraxis": {
           "colorbar": {
            "outlinewidth": 0,
            "ticks": ""
           }
          },
          "colorscale": {
           "diverging": [
            [
             0,
             "#8e0152"
            ],
            [
             0.1,
             "#c51b7d"
            ],
            [
             0.2,
             "#de77ae"
            ],
            [
             0.3,
             "#f1b6da"
            ],
            [
             0.4,
             "#fde0ef"
            ],
            [
             0.5,
             "#f7f7f7"
            ],
            [
             0.6,
             "#e6f5d0"
            ],
            [
             0.7,
             "#b8e186"
            ],
            [
             0.8,
             "#7fbc41"
            ],
            [
             0.9,
             "#4d9221"
            ],
            [
             1,
             "#276419"
            ]
           ],
           "sequential": [
            [
             0,
             "#0d0887"
            ],
            [
             0.1111111111111111,
             "#46039f"
            ],
            [
             0.2222222222222222,
             "#7201a8"
            ],
            [
             0.3333333333333333,
             "#9c179e"
            ],
            [
             0.4444444444444444,
             "#bd3786"
            ],
            [
             0.5555555555555556,
             "#d8576b"
            ],
            [
             0.6666666666666666,
             "#ed7953"
            ],
            [
             0.7777777777777778,
             "#fb9f3a"
            ],
            [
             0.8888888888888888,
             "#fdca26"
            ],
            [
             1,
             "#f0f921"
            ]
           ],
           "sequentialminus": [
            [
             0,
             "#0d0887"
            ],
            [
             0.1111111111111111,
             "#46039f"
            ],
            [
             0.2222222222222222,
             "#7201a8"
            ],
            [
             0.3333333333333333,
             "#9c179e"
            ],
            [
             0.4444444444444444,
             "#bd3786"
            ],
            [
             0.5555555555555556,
             "#d8576b"
            ],
            [
             0.6666666666666666,
             "#ed7953"
            ],
            [
             0.7777777777777778,
             "#fb9f3a"
            ],
            [
             0.8888888888888888,
             "#fdca26"
            ],
            [
             1,
             "#f0f921"
            ]
           ]
          },
          "colorway": [
           "#636efa",
           "#EF553B",
           "#00cc96",
           "#ab63fa",
           "#FFA15A",
           "#19d3f3",
           "#FF6692",
           "#B6E880",
           "#FF97FF",
           "#FECB52"
          ],
          "font": {
           "color": "#2a3f5f"
          },
          "geo": {
           "bgcolor": "white",
           "lakecolor": "white",
           "landcolor": "#E5ECF6",
           "showlakes": true,
           "showland": true,
           "subunitcolor": "white"
          },
          "hoverlabel": {
           "align": "left"
          },
          "hovermode": "closest",
          "mapbox": {
           "style": "light"
          },
          "paper_bgcolor": "white",
          "plot_bgcolor": "#E5ECF6",
          "polar": {
           "angularaxis": {
            "gridcolor": "white",
            "linecolor": "white",
            "ticks": ""
           },
           "bgcolor": "#E5ECF6",
           "radialaxis": {
            "gridcolor": "white",
            "linecolor": "white",
            "ticks": ""
           }
          },
          "scene": {
           "xaxis": {
            "backgroundcolor": "#E5ECF6",
            "gridcolor": "white",
            "gridwidth": 2,
            "linecolor": "white",
            "showbackground": true,
            "ticks": "",
            "zerolinecolor": "white"
           },
           "yaxis": {
            "backgroundcolor": "#E5ECF6",
            "gridcolor": "white",
            "gridwidth": 2,
            "linecolor": "white",
            "showbackground": true,
            "ticks": "",
            "zerolinecolor": "white"
           },
           "zaxis": {
            "backgroundcolor": "#E5ECF6",
            "gridcolor": "white",
            "gridwidth": 2,
            "linecolor": "white",
            "showbackground": true,
            "ticks": "",
            "zerolinecolor": "white"
           }
          },
          "shapedefaults": {
           "line": {
            "color": "#2a3f5f"
           }
          },
          "ternary": {
           "aaxis": {
            "gridcolor": "white",
            "linecolor": "white",
            "ticks": ""
           },
           "baxis": {
            "gridcolor": "white",
            "linecolor": "white",
            "ticks": ""
           },
           "bgcolor": "#E5ECF6",
           "caxis": {
            "gridcolor": "white",
            "linecolor": "white",
            "ticks": ""
           }
          },
          "title": {
           "x": 0.05
          },
          "xaxis": {
           "automargin": true,
           "gridcolor": "white",
           "linecolor": "white",
           "ticks": "",
           "title": {
            "standoff": 15
           },
           "zerolinecolor": "white",
           "zerolinewidth": 2
          },
          "yaxis": {
           "automargin": true,
           "gridcolor": "white",
           "linecolor": "white",
           "ticks": "",
           "title": {
            "standoff": 15
           },
           "zerolinecolor": "white",
           "zerolinewidth": 2
          }
         }
        },
        "xaxis": {
         "anchor": "y",
         "domain": [
          0,
          1
         ],
         "title": {
          "text": "step"
         }
        },
        "yaxis": {
         "anchor": "x",
         "domain": [
          0,
          1
         ],
         "title": {
          "text": "sum of waiting_time"
         }
        }
       }
      }
     },
     "metadata": {},
     "output_type": "display_data"
    },
    {
     "name": "stdout",
     "output_type": "stream",
     "text": [
      "None\n"
     ]
    },
    {
     "data": {
      "application/vnd.plotly.v1+json": {
       "config": {
        "plotlyServerURL": "https://plot.ly"
       },
       "data": [
        {
         "alignmentgroup": "True",
         "bingroup": "x",
         "histfunc": "sum",
         "hovertemplate": "customer_nr=0<br>step=%{x}<br>sum of order_status=%{y}<extra></extra>",
         "legendgroup": "0",
         "marker": {
          "color": "#636efa",
          "pattern": {
           "shape": ""
          }
         },
         "name": "0",
         "nbinsx": 11,
         "offsetgroup": "0",
         "orientation": "v",
         "showlegend": true,
         "type": "histogram",
         "x": [
          0,
          1,
          2,
          3,
          4,
          5,
          6,
          7,
          8,
          9,
          10
         ],
         "xaxis": "x",
         "y": [
          0,
          1,
          3,
          3,
          3,
          3,
          3,
          3,
          3,
          3,
          3
         ],
         "yaxis": "y"
        },
        {
         "alignmentgroup": "True",
         "bingroup": "x",
         "histfunc": "sum",
         "hovertemplate": "customer_nr=1<br>step=%{x}<br>sum of order_status=%{y}<extra></extra>",
         "legendgroup": "1",
         "marker": {
          "color": "#EF553B",
          "pattern": {
           "shape": ""
          }
         },
         "name": "1",
         "nbinsx": 11,
         "offsetgroup": "1",
         "orientation": "v",
         "showlegend": true,
         "type": "histogram",
         "x": [
          1,
          2,
          3,
          4,
          5,
          6,
          7,
          8,
          9,
          10
         ],
         "xaxis": "x",
         "y": [
          0,
          0,
          0,
          0,
          0,
          0,
          0,
          0,
          0,
          0
         ],
         "yaxis": "y"
        },
        {
         "alignmentgroup": "True",
         "bingroup": "x",
         "histfunc": "sum",
         "hovertemplate": "customer_nr=2<br>step=%{x}<br>sum of order_status=%{y}<extra></extra>",
         "legendgroup": "2",
         "marker": {
          "color": "#00cc96",
          "pattern": {
           "shape": ""
          }
         },
         "name": "2",
         "nbinsx": 11,
         "offsetgroup": "2",
         "orientation": "v",
         "showlegend": true,
         "type": "histogram",
         "x": [
          1,
          2,
          3,
          4,
          5,
          6,
          7,
          8,
          9,
          10
         ],
         "xaxis": "x",
         "y": [
          0,
          0,
          0,
          0,
          0,
          0,
          0,
          0,
          0,
          0
         ],
         "yaxis": "y"
        },
        {
         "alignmentgroup": "True",
         "bingroup": "x",
         "histfunc": "sum",
         "hovertemplate": "customer_nr=3<br>step=%{x}<br>sum of order_status=%{y}<extra></extra>",
         "legendgroup": "3",
         "marker": {
          "color": "#ab63fa",
          "pattern": {
           "shape": ""
          }
         },
         "name": "3",
         "nbinsx": 11,
         "offsetgroup": "3",
         "orientation": "v",
         "showlegend": true,
         "type": "histogram",
         "x": [
          1,
          2,
          3,
          4,
          5,
          6,
          7,
          8,
          9,
          10
         ],
         "xaxis": "x",
         "y": [
          0,
          0,
          0,
          0,
          0,
          0,
          0,
          0,
          0,
          0
         ],
         "yaxis": "y"
        },
        {
         "alignmentgroup": "True",
         "bingroup": "x",
         "histfunc": "sum",
         "hovertemplate": "customer_nr=4<br>step=%{x}<br>sum of order_status=%{y}<extra></extra>",
         "legendgroup": "4",
         "marker": {
          "color": "#FFA15A",
          "pattern": {
           "shape": ""
          }
         },
         "name": "4",
         "nbinsx": 11,
         "offsetgroup": "4",
         "orientation": "v",
         "showlegend": true,
         "type": "histogram",
         "x": [
          1,
          2,
          3,
          4,
          5,
          6,
          7,
          8,
          9,
          10
         ],
         "xaxis": "x",
         "y": [
          0,
          0,
          0,
          0,
          0,
          0,
          0,
          0,
          0,
          0
         ],
         "yaxis": "y"
        },
        {
         "alignmentgroup": "True",
         "bingroup": "x",
         "histfunc": "sum",
         "hovertemplate": "customer_nr=5<br>step=%{x}<br>sum of order_status=%{y}<extra></extra>",
         "legendgroup": "5",
         "marker": {
          "color": "#19d3f3",
          "pattern": {
           "shape": ""
          }
         },
         "name": "5",
         "nbinsx": 11,
         "offsetgroup": "5",
         "orientation": "v",
         "showlegend": true,
         "type": "histogram",
         "x": [
          3,
          4,
          5,
          6,
          7,
          8,
          9,
          10
         ],
         "xaxis": "x",
         "y": [
          0,
          0,
          0,
          0,
          0,
          0,
          0,
          0
         ],
         "yaxis": "y"
        },
        {
         "alignmentgroup": "True",
         "bingroup": "x",
         "histfunc": "sum",
         "hovertemplate": "customer_nr=6<br>step=%{x}<br>sum of order_status=%{y}<extra></extra>",
         "legendgroup": "6",
         "marker": {
          "color": "#FF6692",
          "pattern": {
           "shape": ""
          }
         },
         "name": "6",
         "nbinsx": 11,
         "offsetgroup": "6",
         "orientation": "v",
         "showlegend": true,
         "type": "histogram",
         "x": [
          3,
          4,
          5,
          6,
          7,
          8,
          9,
          10
         ],
         "xaxis": "x",
         "y": [
          0,
          0,
          0,
          0,
          0,
          0,
          0,
          0
         ],
         "yaxis": "y"
        },
        {
         "alignmentgroup": "True",
         "bingroup": "x",
         "histfunc": "sum",
         "hovertemplate": "customer_nr=7<br>step=%{x}<br>sum of order_status=%{y}<extra></extra>",
         "legendgroup": "7",
         "marker": {
          "color": "#B6E880",
          "pattern": {
           "shape": ""
          }
         },
         "name": "7",
         "nbinsx": 11,
         "offsetgroup": "7",
         "orientation": "v",
         "showlegend": true,
         "type": "histogram",
         "x": [
          3,
          4,
          5,
          6,
          7,
          8,
          9,
          10
         ],
         "xaxis": "x",
         "y": [
          0,
          0,
          0,
          0,
          0,
          0,
          0,
          0
         ],
         "yaxis": "y"
        },
        {
         "alignmentgroup": "True",
         "bingroup": "x",
         "histfunc": "sum",
         "hovertemplate": "customer_nr=8<br>step=%{x}<br>sum of order_status=%{y}<extra></extra>",
         "legendgroup": "8",
         "marker": {
          "color": "#FF97FF",
          "pattern": {
           "shape": ""
          }
         },
         "name": "8",
         "nbinsx": 11,
         "offsetgroup": "8",
         "orientation": "v",
         "showlegend": true,
         "type": "histogram",
         "x": [
          3,
          4,
          5,
          6,
          7,
          8,
          9,
          10
         ],
         "xaxis": "x",
         "y": [
          0,
          0,
          0,
          0,
          0,
          0,
          0,
          0
         ],
         "yaxis": "y"
        },
        {
         "alignmentgroup": "True",
         "bingroup": "x",
         "histfunc": "sum",
         "hovertemplate": "customer_nr=9<br>step=%{x}<br>sum of order_status=%{y}<extra></extra>",
         "legendgroup": "9",
         "marker": {
          "color": "#FECB52",
          "pattern": {
           "shape": ""
          }
         },
         "name": "9",
         "nbinsx": 11,
         "offsetgroup": "9",
         "orientation": "v",
         "showlegend": true,
         "type": "histogram",
         "x": [
          4,
          5,
          6,
          7,
          8,
          9,
          10
         ],
         "xaxis": "x",
         "y": [
          0,
          0,
          0,
          0,
          0,
          0,
          0
         ],
         "yaxis": "y"
        },
        {
         "alignmentgroup": "True",
         "bingroup": "x",
         "histfunc": "sum",
         "hovertemplate": "customer_nr=10<br>step=%{x}<br>sum of order_status=%{y}<extra></extra>",
         "legendgroup": "10",
         "marker": {
          "color": "#636efa",
          "pattern": {
           "shape": ""
          }
         },
         "name": "10",
         "nbinsx": 11,
         "offsetgroup": "10",
         "orientation": "v",
         "showlegend": true,
         "type": "histogram",
         "x": [
          4,
          5,
          6,
          7,
          8,
          9,
          10
         ],
         "xaxis": "x",
         "y": [
          0,
          0,
          0,
          0,
          0,
          0,
          0
         ],
         "yaxis": "y"
        },
        {
         "alignmentgroup": "True",
         "bingroup": "x",
         "histfunc": "sum",
         "hovertemplate": "customer_nr=11<br>step=%{x}<br>sum of order_status=%{y}<extra></extra>",
         "legendgroup": "11",
         "marker": {
          "color": "#EF553B",
          "pattern": {
           "shape": ""
          }
         },
         "name": "11",
         "nbinsx": 11,
         "offsetgroup": "11",
         "orientation": "v",
         "showlegend": true,
         "type": "histogram",
         "x": [
          5,
          6,
          7,
          8,
          9,
          10
         ],
         "xaxis": "x",
         "y": [
          0,
          0,
          0,
          0,
          0,
          0
         ],
         "yaxis": "y"
        },
        {
         "alignmentgroup": "True",
         "bingroup": "x",
         "histfunc": "sum",
         "hovertemplate": "customer_nr=12<br>step=%{x}<br>sum of order_status=%{y}<extra></extra>",
         "legendgroup": "12",
         "marker": {
          "color": "#00cc96",
          "pattern": {
           "shape": ""
          }
         },
         "name": "12",
         "nbinsx": 11,
         "offsetgroup": "12",
         "orientation": "v",
         "showlegend": true,
         "type": "histogram",
         "x": [
          7,
          8,
          9,
          10
         ],
         "xaxis": "x",
         "y": [
          0,
          0,
          0,
          0
         ],
         "yaxis": "y"
        },
        {
         "alignmentgroup": "True",
         "bingroup": "x",
         "histfunc": "sum",
         "hovertemplate": "customer_nr=13<br>step=%{x}<br>sum of order_status=%{y}<extra></extra>",
         "legendgroup": "13",
         "marker": {
          "color": "#ab63fa",
          "pattern": {
           "shape": ""
          }
         },
         "name": "13",
         "nbinsx": 11,
         "offsetgroup": "13",
         "orientation": "v",
         "showlegend": true,
         "type": "histogram",
         "x": [
          8,
          9,
          10
         ],
         "xaxis": "x",
         "y": [
          0,
          0,
          0
         ],
         "yaxis": "y"
        },
        {
         "alignmentgroup": "True",
         "bingroup": "x",
         "histfunc": "sum",
         "hovertemplate": "customer_nr=14<br>step=%{x}<br>sum of order_status=%{y}<extra></extra>",
         "legendgroup": "14",
         "marker": {
          "color": "#FFA15A",
          "pattern": {
           "shape": ""
          }
         },
         "name": "14",
         "nbinsx": 11,
         "offsetgroup": "14",
         "orientation": "v",
         "showlegend": true,
         "type": "histogram",
         "x": [
          8,
          9,
          10
         ],
         "xaxis": "x",
         "y": [
          0,
          0,
          0
         ],
         "yaxis": "y"
        },
        {
         "alignmentgroup": "True",
         "bingroup": "x",
         "histfunc": "sum",
         "hovertemplate": "customer_nr=15<br>step=%{x}<br>sum of order_status=%{y}<extra></extra>",
         "legendgroup": "15",
         "marker": {
          "color": "#19d3f3",
          "pattern": {
           "shape": ""
          }
         },
         "name": "15",
         "nbinsx": 11,
         "offsetgroup": "15",
         "orientation": "v",
         "showlegend": true,
         "type": "histogram",
         "x": [
          8,
          9,
          10
         ],
         "xaxis": "x",
         "y": [
          0,
          0,
          0
         ],
         "yaxis": "y"
        },
        {
         "alignmentgroup": "True",
         "bingroup": "x",
         "histfunc": "sum",
         "hovertemplate": "customer_nr=16<br>step=%{x}<br>sum of order_status=%{y}<extra></extra>",
         "legendgroup": "16",
         "marker": {
          "color": "#FF6692",
          "pattern": {
           "shape": ""
          }
         },
         "name": "16",
         "nbinsx": 11,
         "offsetgroup": "16",
         "orientation": "v",
         "showlegend": true,
         "type": "histogram",
         "x": [
          8,
          9,
          10
         ],
         "xaxis": "x",
         "y": [
          0,
          0,
          0
         ],
         "yaxis": "y"
        },
        {
         "alignmentgroup": "True",
         "bingroup": "x",
         "histfunc": "sum",
         "hovertemplate": "customer_nr=17<br>step=%{x}<br>sum of order_status=%{y}<extra></extra>",
         "legendgroup": "17",
         "marker": {
          "color": "#B6E880",
          "pattern": {
           "shape": ""
          }
         },
         "name": "17",
         "nbinsx": 11,
         "offsetgroup": "17",
         "orientation": "v",
         "showlegend": true,
         "type": "histogram",
         "x": [
          9,
          10
         ],
         "xaxis": "x",
         "y": [
          0,
          0
         ],
         "yaxis": "y"
        },
        {
         "alignmentgroup": "True",
         "bingroup": "x",
         "histfunc": "sum",
         "hovertemplate": "customer_nr=18<br>step=%{x}<br>sum of order_status=%{y}<extra></extra>",
         "legendgroup": "18",
         "marker": {
          "color": "#FF97FF",
          "pattern": {
           "shape": ""
          }
         },
         "name": "18",
         "nbinsx": 11,
         "offsetgroup": "18",
         "orientation": "v",
         "showlegend": true,
         "type": "histogram",
         "x": [
          9,
          10
         ],
         "xaxis": "x",
         "y": [
          0,
          0
         ],
         "yaxis": "y"
        },
        {
         "alignmentgroup": "True",
         "bingroup": "x",
         "histfunc": "sum",
         "hovertemplate": "customer_nr=19<br>step=%{x}<br>sum of order_status=%{y}<extra></extra>",
         "legendgroup": "19",
         "marker": {
          "color": "#FECB52",
          "pattern": {
           "shape": ""
          }
         },
         "name": "19",
         "nbinsx": 11,
         "offsetgroup": "19",
         "orientation": "v",
         "showlegend": true,
         "type": "histogram",
         "x": [
          10
         ],
         "xaxis": "x",
         "y": [
          0
         ],
         "yaxis": "y"
        },
        {
         "alignmentgroup": "True",
         "bingroup": "x",
         "histfunc": "sum",
         "hovertemplate": "customer_nr=20<br>step=%{x}<br>sum of order_status=%{y}<extra></extra>",
         "legendgroup": "20",
         "marker": {
          "color": "#636efa",
          "pattern": {
           "shape": ""
          }
         },
         "name": "20",
         "nbinsx": 11,
         "offsetgroup": "20",
         "orientation": "v",
         "showlegend": true,
         "type": "histogram",
         "x": [
          10
         ],
         "xaxis": "x",
         "y": [
          0
         ],
         "yaxis": "y"
        },
        {
         "alignmentgroup": "True",
         "bingroup": "x",
         "histfunc": "sum",
         "hovertemplate": "customer_nr=21<br>step=%{x}<br>sum of order_status=%{y}<extra></extra>",
         "legendgroup": "21",
         "marker": {
          "color": "#EF553B",
          "pattern": {
           "shape": ""
          }
         },
         "name": "21",
         "nbinsx": 11,
         "offsetgroup": "21",
         "orientation": "v",
         "showlegend": true,
         "type": "histogram",
         "x": [
          10
         ],
         "xaxis": "x",
         "y": [
          0
         ],
         "yaxis": "y"
        }
       ],
       "layout": {
        "barmode": "group",
        "height": 400,
        "legend": {
         "title": {
          "text": "customer_nr"
         },
         "tracegroupgap": 0
        },
        "margin": {
         "t": 60
        },
        "template": {
         "data": {
          "bar": [
           {
            "error_x": {
             "color": "#2a3f5f"
            },
            "error_y": {
             "color": "#2a3f5f"
            },
            "marker": {
             "line": {
              "color": "#E5ECF6",
              "width": 0.5
             },
             "pattern": {
              "fillmode": "overlay",
              "size": 10,
              "solidity": 0.2
             }
            },
            "type": "bar"
           }
          ],
          "barpolar": [
           {
            "marker": {
             "line": {
              "color": "#E5ECF6",
              "width": 0.5
             },
             "pattern": {
              "fillmode": "overlay",
              "size": 10,
              "solidity": 0.2
             }
            },
            "type": "barpolar"
           }
          ],
          "carpet": [
           {
            "aaxis": {
             "endlinecolor": "#2a3f5f",
             "gridcolor": "white",
             "linecolor": "white",
             "minorgridcolor": "white",
             "startlinecolor": "#2a3f5f"
            },
            "baxis": {
             "endlinecolor": "#2a3f5f",
             "gridcolor": "white",
             "linecolor": "white",
             "minorgridcolor": "white",
             "startlinecolor": "#2a3f5f"
            },
            "type": "carpet"
           }
          ],
          "choropleth": [
           {
            "colorbar": {
             "outlinewidth": 0,
             "ticks": ""
            },
            "type": "choropleth"
           }
          ],
          "contour": [
           {
            "colorbar": {
             "outlinewidth": 0,
             "ticks": ""
            },
            "colorscale": [
             [
              0,
              "#0d0887"
             ],
             [
              0.1111111111111111,
              "#46039f"
             ],
             [
              0.2222222222222222,
              "#7201a8"
             ],
             [
              0.3333333333333333,
              "#9c179e"
             ],
             [
              0.4444444444444444,
              "#bd3786"
             ],
             [
              0.5555555555555556,
              "#d8576b"
             ],
             [
              0.6666666666666666,
              "#ed7953"
             ],
             [
              0.7777777777777778,
              "#fb9f3a"
             ],
             [
              0.8888888888888888,
              "#fdca26"
             ],
             [
              1,
              "#f0f921"
             ]
            ],
            "type": "contour"
           }
          ],
          "contourcarpet": [
           {
            "colorbar": {
             "outlinewidth": 0,
             "ticks": ""
            },
            "type": "contourcarpet"
           }
          ],
          "heatmap": [
           {
            "colorbar": {
             "outlinewidth": 0,
             "ticks": ""
            },
            "colorscale": [
             [
              0,
              "#0d0887"
             ],
             [
              0.1111111111111111,
              "#46039f"
             ],
             [
              0.2222222222222222,
              "#7201a8"
             ],
             [
              0.3333333333333333,
              "#9c179e"
             ],
             [
              0.4444444444444444,
              "#bd3786"
             ],
             [
              0.5555555555555556,
              "#d8576b"
             ],
             [
              0.6666666666666666,
              "#ed7953"
             ],
             [
              0.7777777777777778,
              "#fb9f3a"
             ],
             [
              0.8888888888888888,
              "#fdca26"
             ],
             [
              1,
              "#f0f921"
             ]
            ],
            "type": "heatmap"
           }
          ],
          "heatmapgl": [
           {
            "colorbar": {
             "outlinewidth": 0,
             "ticks": ""
            },
            "colorscale": [
             [
              0,
              "#0d0887"
             ],
             [
              0.1111111111111111,
              "#46039f"
             ],
             [
              0.2222222222222222,
              "#7201a8"
             ],
             [
              0.3333333333333333,
              "#9c179e"
             ],
             [
              0.4444444444444444,
              "#bd3786"
             ],
             [
              0.5555555555555556,
              "#d8576b"
             ],
             [
              0.6666666666666666,
              "#ed7953"
             ],
             [
              0.7777777777777778,
              "#fb9f3a"
             ],
             [
              0.8888888888888888,
              "#fdca26"
             ],
             [
              1,
              "#f0f921"
             ]
            ],
            "type": "heatmapgl"
           }
          ],
          "histogram": [
           {
            "marker": {
             "pattern": {
              "fillmode": "overlay",
              "size": 10,
              "solidity": 0.2
             }
            },
            "type": "histogram"
           }
          ],
          "histogram2d": [
           {
            "colorbar": {
             "outlinewidth": 0,
             "ticks": ""
            },
            "colorscale": [
             [
              0,
              "#0d0887"
             ],
             [
              0.1111111111111111,
              "#46039f"
             ],
             [
              0.2222222222222222,
              "#7201a8"
             ],
             [
              0.3333333333333333,
              "#9c179e"
             ],
             [
              0.4444444444444444,
              "#bd3786"
             ],
             [
              0.5555555555555556,
              "#d8576b"
             ],
             [
              0.6666666666666666,
              "#ed7953"
             ],
             [
              0.7777777777777778,
              "#fb9f3a"
             ],
             [
              0.8888888888888888,
              "#fdca26"
             ],
             [
              1,
              "#f0f921"
             ]
            ],
            "type": "histogram2d"
           }
          ],
          "histogram2dcontour": [
           {
            "colorbar": {
             "outlinewidth": 0,
             "ticks": ""
            },
            "colorscale": [
             [
              0,
              "#0d0887"
             ],
             [
              0.1111111111111111,
              "#46039f"
             ],
             [
              0.2222222222222222,
              "#7201a8"
             ],
             [
              0.3333333333333333,
              "#9c179e"
             ],
             [
              0.4444444444444444,
              "#bd3786"
             ],
             [
              0.5555555555555556,
              "#d8576b"
             ],
             [
              0.6666666666666666,
              "#ed7953"
             ],
             [
              0.7777777777777778,
              "#fb9f3a"
             ],
             [
              0.8888888888888888,
              "#fdca26"
             ],
             [
              1,
              "#f0f921"
             ]
            ],
            "type": "histogram2dcontour"
           }
          ],
          "mesh3d": [
           {
            "colorbar": {
             "outlinewidth": 0,
             "ticks": ""
            },
            "type": "mesh3d"
           }
          ],
          "parcoords": [
           {
            "line": {
             "colorbar": {
              "outlinewidth": 0,
              "ticks": ""
             }
            },
            "type": "parcoords"
           }
          ],
          "pie": [
           {
            "automargin": true,
            "type": "pie"
           }
          ],
          "scatter": [
           {
            "fillpattern": {
             "fillmode": "overlay",
             "size": 10,
             "solidity": 0.2
            },
            "type": "scatter"
           }
          ],
          "scatter3d": [
           {
            "line": {
             "colorbar": {
              "outlinewidth": 0,
              "ticks": ""
             }
            },
            "marker": {
             "colorbar": {
              "outlinewidth": 0,
              "ticks": ""
             }
            },
            "type": "scatter3d"
           }
          ],
          "scattercarpet": [
           {
            "marker": {
             "colorbar": {
              "outlinewidth": 0,
              "ticks": ""
             }
            },
            "type": "scattercarpet"
           }
          ],
          "scattergeo": [
           {
            "marker": {
             "colorbar": {
              "outlinewidth": 0,
              "ticks": ""
             }
            },
            "type": "scattergeo"
           }
          ],
          "scattergl": [
           {
            "marker": {
             "colorbar": {
              "outlinewidth": 0,
              "ticks": ""
             }
            },
            "type": "scattergl"
           }
          ],
          "scattermapbox": [
           {
            "marker": {
             "colorbar": {
              "outlinewidth": 0,
              "ticks": ""
             }
            },
            "type": "scattermapbox"
           }
          ],
          "scatterpolar": [
           {
            "marker": {
             "colorbar": {
              "outlinewidth": 0,
              "ticks": ""
             }
            },
            "type": "scatterpolar"
           }
          ],
          "scatterpolargl": [
           {
            "marker": {
             "colorbar": {
              "outlinewidth": 0,
              "ticks": ""
             }
            },
            "type": "scatterpolargl"
           }
          ],
          "scatterternary": [
           {
            "marker": {
             "colorbar": {
              "outlinewidth": 0,
              "ticks": ""
             }
            },
            "type": "scatterternary"
           }
          ],
          "surface": [
           {
            "colorbar": {
             "outlinewidth": 0,
             "ticks": ""
            },
            "colorscale": [
             [
              0,
              "#0d0887"
             ],
             [
              0.1111111111111111,
              "#46039f"
             ],
             [
              0.2222222222222222,
              "#7201a8"
             ],
             [
              0.3333333333333333,
              "#9c179e"
             ],
             [
              0.4444444444444444,
              "#bd3786"
             ],
             [
              0.5555555555555556,
              "#d8576b"
             ],
             [
              0.6666666666666666,
              "#ed7953"
             ],
             [
              0.7777777777777778,
              "#fb9f3a"
             ],
             [
              0.8888888888888888,
              "#fdca26"
             ],
             [
              1,
              "#f0f921"
             ]
            ],
            "type": "surface"
           }
          ],
          "table": [
           {
            "cells": {
             "fill": {
              "color": "#EBF0F8"
             },
             "line": {
              "color": "white"
             }
            },
            "header": {
             "fill": {
              "color": "#C8D4E3"
             },
             "line": {
              "color": "white"
             }
            },
            "type": "table"
           }
          ]
         },
         "layout": {
          "annotationdefaults": {
           "arrowcolor": "#2a3f5f",
           "arrowhead": 0,
           "arrowwidth": 1
          },
          "autotypenumbers": "strict",
          "coloraxis": {
           "colorbar": {
            "outlinewidth": 0,
            "ticks": ""
           }
          },
          "colorscale": {
           "diverging": [
            [
             0,
             "#8e0152"
            ],
            [
             0.1,
             "#c51b7d"
            ],
            [
             0.2,
             "#de77ae"
            ],
            [
             0.3,
             "#f1b6da"
            ],
            [
             0.4,
             "#fde0ef"
            ],
            [
             0.5,
             "#f7f7f7"
            ],
            [
             0.6,
             "#e6f5d0"
            ],
            [
             0.7,
             "#b8e186"
            ],
            [
             0.8,
             "#7fbc41"
            ],
            [
             0.9,
             "#4d9221"
            ],
            [
             1,
             "#276419"
            ]
           ],
           "sequential": [
            [
             0,
             "#0d0887"
            ],
            [
             0.1111111111111111,
             "#46039f"
            ],
            [
             0.2222222222222222,
             "#7201a8"
            ],
            [
             0.3333333333333333,
             "#9c179e"
            ],
            [
             0.4444444444444444,
             "#bd3786"
            ],
            [
             0.5555555555555556,
             "#d8576b"
            ],
            [
             0.6666666666666666,
             "#ed7953"
            ],
            [
             0.7777777777777778,
             "#fb9f3a"
            ],
            [
             0.8888888888888888,
             "#fdca26"
            ],
            [
             1,
             "#f0f921"
            ]
           ],
           "sequentialminus": [
            [
             0,
             "#0d0887"
            ],
            [
             0.1111111111111111,
             "#46039f"
            ],
            [
             0.2222222222222222,
             "#7201a8"
            ],
            [
             0.3333333333333333,
             "#9c179e"
            ],
            [
             0.4444444444444444,
             "#bd3786"
            ],
            [
             0.5555555555555556,
             "#d8576b"
            ],
            [
             0.6666666666666666,
             "#ed7953"
            ],
            [
             0.7777777777777778,
             "#fb9f3a"
            ],
            [
             0.8888888888888888,
             "#fdca26"
            ],
            [
             1,
             "#f0f921"
            ]
           ]
          },
          "colorway": [
           "#636efa",
           "#EF553B",
           "#00cc96",
           "#ab63fa",
           "#FFA15A",
           "#19d3f3",
           "#FF6692",
           "#B6E880",
           "#FF97FF",
           "#FECB52"
          ],
          "font": {
           "color": "#2a3f5f"
          },
          "geo": {
           "bgcolor": "white",
           "lakecolor": "white",
           "landcolor": "#E5ECF6",
           "showlakes": true,
           "showland": true,
           "subunitcolor": "white"
          },
          "hoverlabel": {
           "align": "left"
          },
          "hovermode": "closest",
          "mapbox": {
           "style": "light"
          },
          "paper_bgcolor": "white",
          "plot_bgcolor": "#E5ECF6",
          "polar": {
           "angularaxis": {
            "gridcolor": "white",
            "linecolor": "white",
            "ticks": ""
           },
           "bgcolor": "#E5ECF6",
           "radialaxis": {
            "gridcolor": "white",
            "linecolor": "white",
            "ticks": ""
           }
          },
          "scene": {
           "xaxis": {
            "backgroundcolor": "#E5ECF6",
            "gridcolor": "white",
            "gridwidth": 2,
            "linecolor": "white",
            "showbackground": true,
            "ticks": "",
            "zerolinecolor": "white"
           },
           "yaxis": {
            "backgroundcolor": "#E5ECF6",
            "gridcolor": "white",
            "gridwidth": 2,
            "linecolor": "white",
            "showbackground": true,
            "ticks": "",
            "zerolinecolor": "white"
           },
           "zaxis": {
            "backgroundcolor": "#E5ECF6",
            "gridcolor": "white",
            "gridwidth": 2,
            "linecolor": "white",
            "showbackground": true,
            "ticks": "",
            "zerolinecolor": "white"
           }
          },
          "shapedefaults": {
           "line": {
            "color": "#2a3f5f"
           }
          },
          "ternary": {
           "aaxis": {
            "gridcolor": "white",
            "linecolor": "white",
            "ticks": ""
           },
           "baxis": {
            "gridcolor": "white",
            "linecolor": "white",
            "ticks": ""
           },
           "bgcolor": "#E5ECF6",
           "caxis": {
            "gridcolor": "white",
            "linecolor": "white",
            "ticks": ""
           }
          },
          "title": {
           "x": 0.05
          },
          "xaxis": {
           "automargin": true,
           "gridcolor": "white",
           "linecolor": "white",
           "ticks": "",
           "title": {
            "standoff": 15
           },
           "zerolinecolor": "white",
           "zerolinewidth": 2
          },
          "yaxis": {
           "automargin": true,
           "gridcolor": "white",
           "linecolor": "white",
           "ticks": "",
           "title": {
            "standoff": 15
           },
           "zerolinecolor": "white",
           "zerolinewidth": 2
          }
         }
        },
        "xaxis": {
         "anchor": "y",
         "domain": [
          0,
          1
         ],
         "title": {
          "text": "step"
         }
        },
        "yaxis": {
         "anchor": "x",
         "domain": [
          0,
          1
         ],
         "title": {
          "text": "sum of order_status"
         }
        }
       }
      }
     },
     "metadata": {},
     "output_type": "display_data"
    },
    {
     "name": "stdout",
     "output_type": "stream",
     "text": [
      "None\n"
     ]
    },
    {
     "data": {
      "application/vnd.plotly.v1+json": {
       "config": {
        "plotlyServerURL": "https://plot.ly"
       },
       "data": [
        {
         "alignmentgroup": "True",
         "bingroup": "x",
         "histfunc": "sum",
         "hovertemplate": "customer_nr=0<br>step=%{x}<br>sum of satisfaction=%{y}<extra></extra>",
         "legendgroup": "0",
         "marker": {
          "color": "#636efa",
          "pattern": {
           "shape": ""
          }
         },
         "name": "0",
         "nbinsx": 11,
         "offsetgroup": "0",
         "orientation": "v",
         "showlegend": true,
         "type": "histogram",
         "x": [
          0,
          1,
          2,
          3,
          4,
          5,
          6,
          7,
          8,
          9,
          10
         ],
         "xaxis": "x",
         "y": [
          0,
          0,
          0,
          0,
          0,
          0,
          0,
          0,
          0,
          0,
          0
         ],
         "yaxis": "y"
        },
        {
         "alignmentgroup": "True",
         "bingroup": "x",
         "histfunc": "sum",
         "hovertemplate": "customer_nr=1<br>step=%{x}<br>sum of satisfaction=%{y}<extra></extra>",
         "legendgroup": "1",
         "marker": {
          "color": "#EF553B",
          "pattern": {
           "shape": ""
          }
         },
         "name": "1",
         "nbinsx": 11,
         "offsetgroup": "1",
         "orientation": "v",
         "showlegend": true,
         "type": "histogram",
         "x": [
          1,
          2,
          3,
          4,
          5,
          6,
          7,
          8,
          9,
          10
         ],
         "xaxis": "x",
         "y": [
          0,
          0,
          0,
          0,
          0,
          0,
          0,
          0,
          0,
          0
         ],
         "yaxis": "y"
        },
        {
         "alignmentgroup": "True",
         "bingroup": "x",
         "histfunc": "sum",
         "hovertemplate": "customer_nr=2<br>step=%{x}<br>sum of satisfaction=%{y}<extra></extra>",
         "legendgroup": "2",
         "marker": {
          "color": "#00cc96",
          "pattern": {
           "shape": ""
          }
         },
         "name": "2",
         "nbinsx": 11,
         "offsetgroup": "2",
         "orientation": "v",
         "showlegend": true,
         "type": "histogram",
         "x": [
          1,
          2,
          3,
          4,
          5,
          6,
          7,
          8,
          9,
          10
         ],
         "xaxis": "x",
         "y": [
          0,
          0,
          0,
          0,
          0,
          0,
          0,
          0,
          0,
          0
         ],
         "yaxis": "y"
        },
        {
         "alignmentgroup": "True",
         "bingroup": "x",
         "histfunc": "sum",
         "hovertemplate": "customer_nr=3<br>step=%{x}<br>sum of satisfaction=%{y}<extra></extra>",
         "legendgroup": "3",
         "marker": {
          "color": "#ab63fa",
          "pattern": {
           "shape": ""
          }
         },
         "name": "3",
         "nbinsx": 11,
         "offsetgroup": "3",
         "orientation": "v",
         "showlegend": true,
         "type": "histogram",
         "x": [
          1,
          2,
          3,
          4,
          5,
          6,
          7,
          8,
          9,
          10
         ],
         "xaxis": "x",
         "y": [
          0,
          0,
          0,
          0,
          0,
          0,
          0,
          0,
          0,
          0
         ],
         "yaxis": "y"
        },
        {
         "alignmentgroup": "True",
         "bingroup": "x",
         "histfunc": "sum",
         "hovertemplate": "customer_nr=4<br>step=%{x}<br>sum of satisfaction=%{y}<extra></extra>",
         "legendgroup": "4",
         "marker": {
          "color": "#FFA15A",
          "pattern": {
           "shape": ""
          }
         },
         "name": "4",
         "nbinsx": 11,
         "offsetgroup": "4",
         "orientation": "v",
         "showlegend": true,
         "type": "histogram",
         "x": [
          1,
          2,
          3,
          4,
          5,
          6,
          7,
          8,
          9,
          10
         ],
         "xaxis": "x",
         "y": [
          0,
          0,
          0,
          0,
          0,
          0,
          0,
          0,
          0,
          0
         ],
         "yaxis": "y"
        },
        {
         "alignmentgroup": "True",
         "bingroup": "x",
         "histfunc": "sum",
         "hovertemplate": "customer_nr=5<br>step=%{x}<br>sum of satisfaction=%{y}<extra></extra>",
         "legendgroup": "5",
         "marker": {
          "color": "#19d3f3",
          "pattern": {
           "shape": ""
          }
         },
         "name": "5",
         "nbinsx": 11,
         "offsetgroup": "5",
         "orientation": "v",
         "showlegend": true,
         "type": "histogram",
         "x": [
          3,
          4,
          5,
          6,
          7,
          8,
          9,
          10
         ],
         "xaxis": "x",
         "y": [
          0,
          0,
          0,
          0,
          0,
          0,
          0,
          0
         ],
         "yaxis": "y"
        },
        {
         "alignmentgroup": "True",
         "bingroup": "x",
         "histfunc": "sum",
         "hovertemplate": "customer_nr=6<br>step=%{x}<br>sum of satisfaction=%{y}<extra></extra>",
         "legendgroup": "6",
         "marker": {
          "color": "#FF6692",
          "pattern": {
           "shape": ""
          }
         },
         "name": "6",
         "nbinsx": 11,
         "offsetgroup": "6",
         "orientation": "v",
         "showlegend": true,
         "type": "histogram",
         "x": [
          3,
          4,
          5,
          6,
          7,
          8,
          9,
          10
         ],
         "xaxis": "x",
         "y": [
          0,
          0,
          0,
          0,
          0,
          0,
          0,
          0
         ],
         "yaxis": "y"
        },
        {
         "alignmentgroup": "True",
         "bingroup": "x",
         "histfunc": "sum",
         "hovertemplate": "customer_nr=7<br>step=%{x}<br>sum of satisfaction=%{y}<extra></extra>",
         "legendgroup": "7",
         "marker": {
          "color": "#B6E880",
          "pattern": {
           "shape": ""
          }
         },
         "name": "7",
         "nbinsx": 11,
         "offsetgroup": "7",
         "orientation": "v",
         "showlegend": true,
         "type": "histogram",
         "x": [
          3,
          4,
          5,
          6,
          7,
          8,
          9,
          10
         ],
         "xaxis": "x",
         "y": [
          0,
          0,
          0,
          0,
          0,
          0,
          0,
          0
         ],
         "yaxis": "y"
        },
        {
         "alignmentgroup": "True",
         "bingroup": "x",
         "histfunc": "sum",
         "hovertemplate": "customer_nr=8<br>step=%{x}<br>sum of satisfaction=%{y}<extra></extra>",
         "legendgroup": "8",
         "marker": {
          "color": "#FF97FF",
          "pattern": {
           "shape": ""
          }
         },
         "name": "8",
         "nbinsx": 11,
         "offsetgroup": "8",
         "orientation": "v",
         "showlegend": true,
         "type": "histogram",
         "x": [
          3,
          4,
          5,
          6,
          7,
          8,
          9,
          10
         ],
         "xaxis": "x",
         "y": [
          0,
          0,
          0,
          0,
          0,
          0,
          0,
          0
         ],
         "yaxis": "y"
        },
        {
         "alignmentgroup": "True",
         "bingroup": "x",
         "histfunc": "sum",
         "hovertemplate": "customer_nr=9<br>step=%{x}<br>sum of satisfaction=%{y}<extra></extra>",
         "legendgroup": "9",
         "marker": {
          "color": "#FECB52",
          "pattern": {
           "shape": ""
          }
         },
         "name": "9",
         "nbinsx": 11,
         "offsetgroup": "9",
         "orientation": "v",
         "showlegend": true,
         "type": "histogram",
         "x": [
          4,
          5,
          6,
          7,
          8,
          9,
          10
         ],
         "xaxis": "x",
         "y": [
          0,
          0,
          0,
          0,
          0,
          0,
          0
         ],
         "yaxis": "y"
        },
        {
         "alignmentgroup": "True",
         "bingroup": "x",
         "histfunc": "sum",
         "hovertemplate": "customer_nr=10<br>step=%{x}<br>sum of satisfaction=%{y}<extra></extra>",
         "legendgroup": "10",
         "marker": {
          "color": "#636efa",
          "pattern": {
           "shape": ""
          }
         },
         "name": "10",
         "nbinsx": 11,
         "offsetgroup": "10",
         "orientation": "v",
         "showlegend": true,
         "type": "histogram",
         "x": [
          4,
          5,
          6,
          7,
          8,
          9,
          10
         ],
         "xaxis": "x",
         "y": [
          0,
          0,
          0,
          0,
          0,
          0,
          0
         ],
         "yaxis": "y"
        },
        {
         "alignmentgroup": "True",
         "bingroup": "x",
         "histfunc": "sum",
         "hovertemplate": "customer_nr=11<br>step=%{x}<br>sum of satisfaction=%{y}<extra></extra>",
         "legendgroup": "11",
         "marker": {
          "color": "#EF553B",
          "pattern": {
           "shape": ""
          }
         },
         "name": "11",
         "nbinsx": 11,
         "offsetgroup": "11",
         "orientation": "v",
         "showlegend": true,
         "type": "histogram",
         "x": [
          5,
          6,
          7,
          8,
          9,
          10
         ],
         "xaxis": "x",
         "y": [
          0,
          0,
          0,
          0,
          0,
          0
         ],
         "yaxis": "y"
        },
        {
         "alignmentgroup": "True",
         "bingroup": "x",
         "histfunc": "sum",
         "hovertemplate": "customer_nr=12<br>step=%{x}<br>sum of satisfaction=%{y}<extra></extra>",
         "legendgroup": "12",
         "marker": {
          "color": "#00cc96",
          "pattern": {
           "shape": ""
          }
         },
         "name": "12",
         "nbinsx": 11,
         "offsetgroup": "12",
         "orientation": "v",
         "showlegend": true,
         "type": "histogram",
         "x": [
          7,
          8,
          9,
          10
         ],
         "xaxis": "x",
         "y": [
          0,
          0,
          0,
          0
         ],
         "yaxis": "y"
        },
        {
         "alignmentgroup": "True",
         "bingroup": "x",
         "histfunc": "sum",
         "hovertemplate": "customer_nr=13<br>step=%{x}<br>sum of satisfaction=%{y}<extra></extra>",
         "legendgroup": "13",
         "marker": {
          "color": "#ab63fa",
          "pattern": {
           "shape": ""
          }
         },
         "name": "13",
         "nbinsx": 11,
         "offsetgroup": "13",
         "orientation": "v",
         "showlegend": true,
         "type": "histogram",
         "x": [
          8,
          9,
          10
         ],
         "xaxis": "x",
         "y": [
          0,
          0,
          0
         ],
         "yaxis": "y"
        },
        {
         "alignmentgroup": "True",
         "bingroup": "x",
         "histfunc": "sum",
         "hovertemplate": "customer_nr=14<br>step=%{x}<br>sum of satisfaction=%{y}<extra></extra>",
         "legendgroup": "14",
         "marker": {
          "color": "#FFA15A",
          "pattern": {
           "shape": ""
          }
         },
         "name": "14",
         "nbinsx": 11,
         "offsetgroup": "14",
         "orientation": "v",
         "showlegend": true,
         "type": "histogram",
         "x": [
          8,
          9,
          10
         ],
         "xaxis": "x",
         "y": [
          0,
          0,
          0
         ],
         "yaxis": "y"
        },
        {
         "alignmentgroup": "True",
         "bingroup": "x",
         "histfunc": "sum",
         "hovertemplate": "customer_nr=15<br>step=%{x}<br>sum of satisfaction=%{y}<extra></extra>",
         "legendgroup": "15",
         "marker": {
          "color": "#19d3f3",
          "pattern": {
           "shape": ""
          }
         },
         "name": "15",
         "nbinsx": 11,
         "offsetgroup": "15",
         "orientation": "v",
         "showlegend": true,
         "type": "histogram",
         "x": [
          8,
          9,
          10
         ],
         "xaxis": "x",
         "y": [
          0,
          0,
          0
         ],
         "yaxis": "y"
        },
        {
         "alignmentgroup": "True",
         "bingroup": "x",
         "histfunc": "sum",
         "hovertemplate": "customer_nr=16<br>step=%{x}<br>sum of satisfaction=%{y}<extra></extra>",
         "legendgroup": "16",
         "marker": {
          "color": "#FF6692",
          "pattern": {
           "shape": ""
          }
         },
         "name": "16",
         "nbinsx": 11,
         "offsetgroup": "16",
         "orientation": "v",
         "showlegend": true,
         "type": "histogram",
         "x": [
          8,
          9,
          10
         ],
         "xaxis": "x",
         "y": [
          0,
          0,
          0
         ],
         "yaxis": "y"
        },
        {
         "alignmentgroup": "True",
         "bingroup": "x",
         "histfunc": "sum",
         "hovertemplate": "customer_nr=17<br>step=%{x}<br>sum of satisfaction=%{y}<extra></extra>",
         "legendgroup": "17",
         "marker": {
          "color": "#B6E880",
          "pattern": {
           "shape": ""
          }
         },
         "name": "17",
         "nbinsx": 11,
         "offsetgroup": "17",
         "orientation": "v",
         "showlegend": true,
         "type": "histogram",
         "x": [
          9,
          10
         ],
         "xaxis": "x",
         "y": [
          0,
          0
         ],
         "yaxis": "y"
        },
        {
         "alignmentgroup": "True",
         "bingroup": "x",
         "histfunc": "sum",
         "hovertemplate": "customer_nr=18<br>step=%{x}<br>sum of satisfaction=%{y}<extra></extra>",
         "legendgroup": "18",
         "marker": {
          "color": "#FF97FF",
          "pattern": {
           "shape": ""
          }
         },
         "name": "18",
         "nbinsx": 11,
         "offsetgroup": "18",
         "orientation": "v",
         "showlegend": true,
         "type": "histogram",
         "x": [
          9,
          10
         ],
         "xaxis": "x",
         "y": [
          0,
          0
         ],
         "yaxis": "y"
        },
        {
         "alignmentgroup": "True",
         "bingroup": "x",
         "histfunc": "sum",
         "hovertemplate": "customer_nr=19<br>step=%{x}<br>sum of satisfaction=%{y}<extra></extra>",
         "legendgroup": "19",
         "marker": {
          "color": "#FECB52",
          "pattern": {
           "shape": ""
          }
         },
         "name": "19",
         "nbinsx": 11,
         "offsetgroup": "19",
         "orientation": "v",
         "showlegend": true,
         "type": "histogram",
         "x": [
          10
         ],
         "xaxis": "x",
         "y": [
          0
         ],
         "yaxis": "y"
        },
        {
         "alignmentgroup": "True",
         "bingroup": "x",
         "histfunc": "sum",
         "hovertemplate": "customer_nr=20<br>step=%{x}<br>sum of satisfaction=%{y}<extra></extra>",
         "legendgroup": "20",
         "marker": {
          "color": "#636efa",
          "pattern": {
           "shape": ""
          }
         },
         "name": "20",
         "nbinsx": 11,
         "offsetgroup": "20",
         "orientation": "v",
         "showlegend": true,
         "type": "histogram",
         "x": [
          10
         ],
         "xaxis": "x",
         "y": [
          0
         ],
         "yaxis": "y"
        },
        {
         "alignmentgroup": "True",
         "bingroup": "x",
         "histfunc": "sum",
         "hovertemplate": "customer_nr=21<br>step=%{x}<br>sum of satisfaction=%{y}<extra></extra>",
         "legendgroup": "21",
         "marker": {
          "color": "#EF553B",
          "pattern": {
           "shape": ""
          }
         },
         "name": "21",
         "nbinsx": 11,
         "offsetgroup": "21",
         "orientation": "v",
         "showlegend": true,
         "type": "histogram",
         "x": [
          10
         ],
         "xaxis": "x",
         "y": [
          0
         ],
         "yaxis": "y"
        }
       ],
       "layout": {
        "barmode": "group",
        "height": 400,
        "legend": {
         "title": {
          "text": "customer_nr"
         },
         "tracegroupgap": 0
        },
        "margin": {
         "t": 60
        },
        "template": {
         "data": {
          "bar": [
           {
            "error_x": {
             "color": "#2a3f5f"
            },
            "error_y": {
             "color": "#2a3f5f"
            },
            "marker": {
             "line": {
              "color": "#E5ECF6",
              "width": 0.5
             },
             "pattern": {
              "fillmode": "overlay",
              "size": 10,
              "solidity": 0.2
             }
            },
            "type": "bar"
           }
          ],
          "barpolar": [
           {
            "marker": {
             "line": {
              "color": "#E5ECF6",
              "width": 0.5
             },
             "pattern": {
              "fillmode": "overlay",
              "size": 10,
              "solidity": 0.2
             }
            },
            "type": "barpolar"
           }
          ],
          "carpet": [
           {
            "aaxis": {
             "endlinecolor": "#2a3f5f",
             "gridcolor": "white",
             "linecolor": "white",
             "minorgridcolor": "white",
             "startlinecolor": "#2a3f5f"
            },
            "baxis": {
             "endlinecolor": "#2a3f5f",
             "gridcolor": "white",
             "linecolor": "white",
             "minorgridcolor": "white",
             "startlinecolor": "#2a3f5f"
            },
            "type": "carpet"
           }
          ],
          "choropleth": [
           {
            "colorbar": {
             "outlinewidth": 0,
             "ticks": ""
            },
            "type": "choropleth"
           }
          ],
          "contour": [
           {
            "colorbar": {
             "outlinewidth": 0,
             "ticks": ""
            },
            "colorscale": [
             [
              0,
              "#0d0887"
             ],
             [
              0.1111111111111111,
              "#46039f"
             ],
             [
              0.2222222222222222,
              "#7201a8"
             ],
             [
              0.3333333333333333,
              "#9c179e"
             ],
             [
              0.4444444444444444,
              "#bd3786"
             ],
             [
              0.5555555555555556,
              "#d8576b"
             ],
             [
              0.6666666666666666,
              "#ed7953"
             ],
             [
              0.7777777777777778,
              "#fb9f3a"
             ],
             [
              0.8888888888888888,
              "#fdca26"
             ],
             [
              1,
              "#f0f921"
             ]
            ],
            "type": "contour"
           }
          ],
          "contourcarpet": [
           {
            "colorbar": {
             "outlinewidth": 0,
             "ticks": ""
            },
            "type": "contourcarpet"
           }
          ],
          "heatmap": [
           {
            "colorbar": {
             "outlinewidth": 0,
             "ticks": ""
            },
            "colorscale": [
             [
              0,
              "#0d0887"
             ],
             [
              0.1111111111111111,
              "#46039f"
             ],
             [
              0.2222222222222222,
              "#7201a8"
             ],
             [
              0.3333333333333333,
              "#9c179e"
             ],
             [
              0.4444444444444444,
              "#bd3786"
             ],
             [
              0.5555555555555556,
              "#d8576b"
             ],
             [
              0.6666666666666666,
              "#ed7953"
             ],
             [
              0.7777777777777778,
              "#fb9f3a"
             ],
             [
              0.8888888888888888,
              "#fdca26"
             ],
             [
              1,
              "#f0f921"
             ]
            ],
            "type": "heatmap"
           }
          ],
          "heatmapgl": [
           {
            "colorbar": {
             "outlinewidth": 0,
             "ticks": ""
            },
            "colorscale": [
             [
              0,
              "#0d0887"
             ],
             [
              0.1111111111111111,
              "#46039f"
             ],
             [
              0.2222222222222222,
              "#7201a8"
             ],
             [
              0.3333333333333333,
              "#9c179e"
             ],
             [
              0.4444444444444444,
              "#bd3786"
             ],
             [
              0.5555555555555556,
              "#d8576b"
             ],
             [
              0.6666666666666666,
              "#ed7953"
             ],
             [
              0.7777777777777778,
              "#fb9f3a"
             ],
             [
              0.8888888888888888,
              "#fdca26"
             ],
             [
              1,
              "#f0f921"
             ]
            ],
            "type": "heatmapgl"
           }
          ],
          "histogram": [
           {
            "marker": {
             "pattern": {
              "fillmode": "overlay",
              "size": 10,
              "solidity": 0.2
             }
            },
            "type": "histogram"
           }
          ],
          "histogram2d": [
           {
            "colorbar": {
             "outlinewidth": 0,
             "ticks": ""
            },
            "colorscale": [
             [
              0,
              "#0d0887"
             ],
             [
              0.1111111111111111,
              "#46039f"
             ],
             [
              0.2222222222222222,
              "#7201a8"
             ],
             [
              0.3333333333333333,
              "#9c179e"
             ],
             [
              0.4444444444444444,
              "#bd3786"
             ],
             [
              0.5555555555555556,
              "#d8576b"
             ],
             [
              0.6666666666666666,
              "#ed7953"
             ],
             [
              0.7777777777777778,
              "#fb9f3a"
             ],
             [
              0.8888888888888888,
              "#fdca26"
             ],
             [
              1,
              "#f0f921"
             ]
            ],
            "type": "histogram2d"
           }
          ],
          "histogram2dcontour": [
           {
            "colorbar": {
             "outlinewidth": 0,
             "ticks": ""
            },
            "colorscale": [
             [
              0,
              "#0d0887"
             ],
             [
              0.1111111111111111,
              "#46039f"
             ],
             [
              0.2222222222222222,
              "#7201a8"
             ],
             [
              0.3333333333333333,
              "#9c179e"
             ],
             [
              0.4444444444444444,
              "#bd3786"
             ],
             [
              0.5555555555555556,
              "#d8576b"
             ],
             [
              0.6666666666666666,
              "#ed7953"
             ],
             [
              0.7777777777777778,
              "#fb9f3a"
             ],
             [
              0.8888888888888888,
              "#fdca26"
             ],
             [
              1,
              "#f0f921"
             ]
            ],
            "type": "histogram2dcontour"
           }
          ],
          "mesh3d": [
           {
            "colorbar": {
             "outlinewidth": 0,
             "ticks": ""
            },
            "type": "mesh3d"
           }
          ],
          "parcoords": [
           {
            "line": {
             "colorbar": {
              "outlinewidth": 0,
              "ticks": ""
             }
            },
            "type": "parcoords"
           }
          ],
          "pie": [
           {
            "automargin": true,
            "type": "pie"
           }
          ],
          "scatter": [
           {
            "fillpattern": {
             "fillmode": "overlay",
             "size": 10,
             "solidity": 0.2
            },
            "type": "scatter"
           }
          ],
          "scatter3d": [
           {
            "line": {
             "colorbar": {
              "outlinewidth": 0,
              "ticks": ""
             }
            },
            "marker": {
             "colorbar": {
              "outlinewidth": 0,
              "ticks": ""
             }
            },
            "type": "scatter3d"
           }
          ],
          "scattercarpet": [
           {
            "marker": {
             "colorbar": {
              "outlinewidth": 0,
              "ticks": ""
             }
            },
            "type": "scattercarpet"
           }
          ],
          "scattergeo": [
           {
            "marker": {
             "colorbar": {
              "outlinewidth": 0,
              "ticks": ""
             }
            },
            "type": "scattergeo"
           }
          ],
          "scattergl": [
           {
            "marker": {
             "colorbar": {
              "outlinewidth": 0,
              "ticks": ""
             }
            },
            "type": "scattergl"
           }
          ],
          "scattermapbox": [
           {
            "marker": {
             "colorbar": {
              "outlinewidth": 0,
              "ticks": ""
             }
            },
            "type": "scattermapbox"
           }
          ],
          "scatterpolar": [
           {
            "marker": {
             "colorbar": {
              "outlinewidth": 0,
              "ticks": ""
             }
            },
            "type": "scatterpolar"
           }
          ],
          "scatterpolargl": [
           {
            "marker": {
             "colorbar": {
              "outlinewidth": 0,
              "ticks": ""
             }
            },
            "type": "scatterpolargl"
           }
          ],
          "scatterternary": [
           {
            "marker": {
             "colorbar": {
              "outlinewidth": 0,
              "ticks": ""
             }
            },
            "type": "scatterternary"
           }
          ],
          "surface": [
           {
            "colorbar": {
             "outlinewidth": 0,
             "ticks": ""
            },
            "colorscale": [
             [
              0,
              "#0d0887"
             ],
             [
              0.1111111111111111,
              "#46039f"
             ],
             [
              0.2222222222222222,
              "#7201a8"
             ],
             [
              0.3333333333333333,
              "#9c179e"
             ],
             [
              0.4444444444444444,
              "#bd3786"
             ],
             [
              0.5555555555555556,
              "#d8576b"
             ],
             [
              0.6666666666666666,
              "#ed7953"
             ],
             [
              0.7777777777777778,
              "#fb9f3a"
             ],
             [
              0.8888888888888888,
              "#fdca26"
             ],
             [
              1,
              "#f0f921"
             ]
            ],
            "type": "surface"
           }
          ],
          "table": [
           {
            "cells": {
             "fill": {
              "color": "#EBF0F8"
             },
             "line": {
              "color": "white"
             }
            },
            "header": {
             "fill": {
              "color": "#C8D4E3"
             },
             "line": {
              "color": "white"
             }
            },
            "type": "table"
           }
          ]
         },
         "layout": {
          "annotationdefaults": {
           "arrowcolor": "#2a3f5f",
           "arrowhead": 0,
           "arrowwidth": 1
          },
          "autotypenumbers": "strict",
          "coloraxis": {
           "colorbar": {
            "outlinewidth": 0,
            "ticks": ""
           }
          },
          "colorscale": {
           "diverging": [
            [
             0,
             "#8e0152"
            ],
            [
             0.1,
             "#c51b7d"
            ],
            [
             0.2,
             "#de77ae"
            ],
            [
             0.3,
             "#f1b6da"
            ],
            [
             0.4,
             "#fde0ef"
            ],
            [
             0.5,
             "#f7f7f7"
            ],
            [
             0.6,
             "#e6f5d0"
            ],
            [
             0.7,
             "#b8e186"
            ],
            [
             0.8,
             "#7fbc41"
            ],
            [
             0.9,
             "#4d9221"
            ],
            [
             1,
             "#276419"
            ]
           ],
           "sequential": [
            [
             0,
             "#0d0887"
            ],
            [
             0.1111111111111111,
             "#46039f"
            ],
            [
             0.2222222222222222,
             "#7201a8"
            ],
            [
             0.3333333333333333,
             "#9c179e"
            ],
            [
             0.4444444444444444,
             "#bd3786"
            ],
            [
             0.5555555555555556,
             "#d8576b"
            ],
            [
             0.6666666666666666,
             "#ed7953"
            ],
            [
             0.7777777777777778,
             "#fb9f3a"
            ],
            [
             0.8888888888888888,
             "#fdca26"
            ],
            [
             1,
             "#f0f921"
            ]
           ],
           "sequentialminus": [
            [
             0,
             "#0d0887"
            ],
            [
             0.1111111111111111,
             "#46039f"
            ],
            [
             0.2222222222222222,
             "#7201a8"
            ],
            [
             0.3333333333333333,
             "#9c179e"
            ],
            [
             0.4444444444444444,
             "#bd3786"
            ],
            [
             0.5555555555555556,
             "#d8576b"
            ],
            [
             0.6666666666666666,
             "#ed7953"
            ],
            [
             0.7777777777777778,
             "#fb9f3a"
            ],
            [
             0.8888888888888888,
             "#fdca26"
            ],
            [
             1,
             "#f0f921"
            ]
           ]
          },
          "colorway": [
           "#636efa",
           "#EF553B",
           "#00cc96",
           "#ab63fa",
           "#FFA15A",
           "#19d3f3",
           "#FF6692",
           "#B6E880",
           "#FF97FF",
           "#FECB52"
          ],
          "font": {
           "color": "#2a3f5f"
          },
          "geo": {
           "bgcolor": "white",
           "lakecolor": "white",
           "landcolor": "#E5ECF6",
           "showlakes": true,
           "showland": true,
           "subunitcolor": "white"
          },
          "hoverlabel": {
           "align": "left"
          },
          "hovermode": "closest",
          "mapbox": {
           "style": "light"
          },
          "paper_bgcolor": "white",
          "plot_bgcolor": "#E5ECF6",
          "polar": {
           "angularaxis": {
            "gridcolor": "white",
            "linecolor": "white",
            "ticks": ""
           },
           "bgcolor": "#E5ECF6",
           "radialaxis": {
            "gridcolor": "white",
            "linecolor": "white",
            "ticks": ""
           }
          },
          "scene": {
           "xaxis": {
            "backgroundcolor": "#E5ECF6",
            "gridcolor": "white",
            "gridwidth": 2,
            "linecolor": "white",
            "showbackground": true,
            "ticks": "",
            "zerolinecolor": "white"
           },
           "yaxis": {
            "backgroundcolor": "#E5ECF6",
            "gridcolor": "white",
            "gridwidth": 2,
            "linecolor": "white",
            "showbackground": true,
            "ticks": "",
            "zerolinecolor": "white"
           },
           "zaxis": {
            "backgroundcolor": "#E5ECF6",
            "gridcolor": "white",
            "gridwidth": 2,
            "linecolor": "white",
            "showbackground": true,
            "ticks": "",
            "zerolinecolor": "white"
           }
          },
          "shapedefaults": {
           "line": {
            "color": "#2a3f5f"
           }
          },
          "ternary": {
           "aaxis": {
            "gridcolor": "white",
            "linecolor": "white",
            "ticks": ""
           },
           "baxis": {
            "gridcolor": "white",
            "linecolor": "white",
            "ticks": ""
           },
           "bgcolor": "#E5ECF6",
           "caxis": {
            "gridcolor": "white",
            "linecolor": "white",
            "ticks": ""
           }
          },
          "title": {
           "x": 0.05
          },
          "xaxis": {
           "automargin": true,
           "gridcolor": "white",
           "linecolor": "white",
           "ticks": "",
           "title": {
            "standoff": 15
           },
           "zerolinecolor": "white",
           "zerolinewidth": 2
          },
          "yaxis": {
           "automargin": true,
           "gridcolor": "white",
           "linecolor": "white",
           "ticks": "",
           "title": {
            "standoff": 15
           },
           "zerolinecolor": "white",
           "zerolinewidth": 2
          }
         }
        },
        "xaxis": {
         "anchor": "y",
         "domain": [
          0,
          1
         ],
         "title": {
          "text": "step"
         }
        },
        "yaxis": {
         "anchor": "x",
         "domain": [
          0,
          1
         ],
         "title": {
          "text": "sum of satisfaction"
         }
        }
       }
      }
     },
     "metadata": {},
     "output_type": "display_data"
    },
    {
     "name": "stdout",
     "output_type": "stream",
     "text": [
      "None\n"
     ]
    }
   ],
   "source": [
    "from mesa_restaurant_agents.visualization import *\n",
    "\n",
    "df_mean_step = display_mean_step_results(results)\n",
    "df_first_run = display_first_run_step_results(results)"
   ]
  },
  {
   "cell_type": "code",
   "execution_count": null,
   "metadata": {},
   "outputs": [],
   "source": [
    "df_mean_step"
   ]
  },
  {
   "cell_type": "code",
   "execution_count": null,
   "metadata": {},
   "outputs": [],
   "source": [
    "df_first_run"
   ]
  }
 ],
 "metadata": {
  "kernelspec": {
   "display_name": "Python 3",
   "language": "python",
   "name": "python3"
  },
  "language_info": {
   "codemirror_mode": {
    "name": "ipython",
    "version": 3
   },
   "file_extension": ".py",
   "mimetype": "text/x-python",
   "name": "python",
   "nbconvert_exporter": "python",
   "pygments_lexer": "ipython3",
   "version": "3.12.6"
  }
 },
 "nbformat": 4,
 "nbformat_minor": 2
}
