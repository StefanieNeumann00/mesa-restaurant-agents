{
 "cells": [
  {
   "cell_type": "code",
   "execution_count": 1,
   "metadata": {},
   "outputs": [
    {
     "name": "stdout",
     "output_type": "stream",
     "text": [
      "Note: you may need to restart the kernel to use updated packages.Processing c:\\users\\s.neumann\\documents\\11_master_cas\\code\\mesa-restaurant-agents\\agent_system\\dist\\mesa_restaurant_agents-0.0.1-py3-none-any.whl\n",
      "Collecting mesa==3.1.0 (from mesa-restaurant-agents==0.0.1)\n",
      "  Using cached mesa-3.1.0-py3-none-any.whl.metadata (9.9 kB)\n",
      "Collecting pandas==2.2.3 (from mesa-restaurant-agents==0.0.1)\n",
      "  Using cached pandas-2.2.3-cp312-cp312-win_amd64.whl.metadata (19 kB)\n",
      "Collecting numpy==2.2.2 (from mesa-restaurant-agents==0.0.1)\n",
      "  Using cached numpy-2.2.2-cp312-cp312-win_amd64.whl.metadata (60 kB)\n",
      "Collecting scikit-learn==1.6.1 (from mesa-restaurant-agents==0.0.1)\n",
      "  Using cached scikit_learn-1.6.1-cp312-cp312-win_amd64.whl.metadata (15 kB)\n",
      "Collecting scipy==1.15.1 (from mesa-restaurant-agents==0.0.1)\n",
      "  Using cached scipy-1.15.1-cp312-cp312-win_amd64.whl.metadata (60 kB)\n",
      "Collecting seaborn==0.13.2 (from mesa-restaurant-agents==0.0.1)\n",
      "  Using cached seaborn-0.13.2-py3-none-any.whl.metadata (5.4 kB)\n",
      "Collecting matplotlib==3.10.0 (from mesa-restaurant-agents==0.0.1)\n",
      "  Using cached matplotlib-3.10.0-cp312-cp312-win_amd64.whl.metadata (11 kB)\n",
      "Collecting contourpy>=1.0.1 (from matplotlib==3.10.0->mesa-restaurant-agents==0.0.1)\n",
      "  Using cached contourpy-1.3.1-cp312-cp312-win_amd64.whl.metadata (5.4 kB)\n",
      "Collecting cycler>=0.10 (from matplotlib==3.10.0->mesa-restaurant-agents==0.0.1)\n",
      "  Using cached cycler-0.12.1-py3-none-any.whl.metadata (3.8 kB)\n",
      "Collecting fonttools>=4.22.0 (from matplotlib==3.10.0->mesa-restaurant-agents==0.0.1)\n",
      "  Using cached fonttools-4.56.0-cp312-cp312-win_amd64.whl.metadata (103 kB)\n",
      "Collecting kiwisolver>=1.3.1 (from matplotlib==3.10.0->mesa-restaurant-agents==0.0.1)\n",
      "  Using cached kiwisolver-1.4.8-cp312-cp312-win_amd64.whl.metadata (6.3 kB)\n",
      "Collecting packaging>=20.0 (from matplotlib==3.10.0->mesa-restaurant-agents==0.0.1)\n",
      "  Using cached packaging-24.2-py3-none-any.whl.metadata (3.2 kB)\n",
      "Collecting pillow>=8 (from matplotlib==3.10.0->mesa-restaurant-agents==0.0.1)\n",
      "  Using cached pillow-11.1.0-cp312-cp312-win_amd64.whl.metadata (9.3 kB)\n",
      "Collecting pyparsing>=2.3.1 (from matplotlib==3.10.0->mesa-restaurant-agents==0.0.1)\n",
      "  Using cached pyparsing-3.2.1-py3-none-any.whl.metadata (5.0 kB)\n",
      "Collecting python-dateutil>=2.7 (from matplotlib==3.10.0->mesa-restaurant-agents==0.0.1)\n",
      "  Using cached python_dateutil-2.9.0.post0-py2.py3-none-any.whl.metadata (8.4 kB)\n",
      "Collecting tqdm (from mesa==3.1.0->mesa-restaurant-agents==0.0.1)\n",
      "  Using cached tqdm-4.67.1-py3-none-any.whl.metadata (57 kB)\n",
      "Collecting pytz>=2020.1 (from pandas==2.2.3->mesa-restaurant-agents==0.0.1)\n",
      "  Using cached pytz-2025.1-py2.py3-none-any.whl.metadata (22 kB)\n",
      "Collecting tzdata>=2022.7 (from pandas==2.2.3->mesa-restaurant-agents==0.0.1)\n",
      "  Using cached tzdata-2025.1-py2.py3-none-any.whl.metadata (1.4 kB)\n",
      "Collecting joblib>=1.2.0 (from scikit-learn==1.6.1->mesa-restaurant-agents==0.0.1)\n",
      "  Using cached joblib-1.4.2-py3-none-any.whl.metadata (5.4 kB)\n",
      "Collecting threadpoolctl>=3.1.0 (from scikit-learn==1.6.1->mesa-restaurant-agents==0.0.1)\n",
      "  Using cached threadpoolctl-3.5.0-py3-none-any.whl.metadata (13 kB)\n",
      "Collecting six>=1.5 (from python-dateutil>=2.7->matplotlib==3.10.0->mesa-restaurant-agents==0.0.1)\n",
      "  Using cached six-1.17.0-py2.py3-none-any.whl.metadata (1.7 kB)\n",
      "Collecting colorama (from tqdm->mesa==3.1.0->mesa-restaurant-agents==0.0.1)\n",
      "  Using cached colorama-0.4.6-py2.py3-none-any.whl.metadata (17 kB)\n",
      "Using cached matplotlib-3.10.0-cp312-cp312-win_amd64.whl (8.0 MB)\n",
      "Using cached mesa-3.1.0-py3-none-any.whl (225 kB)\n",
      "Using cached numpy-2.2.2-cp312-cp312-win_amd64.whl (12.6 MB)\n",
      "Using cached pandas-2.2.3-cp312-cp312-win_amd64.whl (11.5 MB)\n",
      "Using cached scikit_learn-1.6.1-cp312-cp312-win_amd64.whl (11.1 MB)\n",
      "Using cached scipy-1.15.1-cp312-cp312-win_amd64.whl (43.6 MB)\n",
      "Using cached seaborn-0.13.2-py3-none-any.whl (294 kB)\n",
      "Using cached contourpy-1.3.1-cp312-cp312-win_amd64.whl (220 kB)\n",
      "Using cached cycler-0.12.1-py3-none-any.whl (8.3 kB)\n",
      "Using cached fonttools-4.56.0-cp312-cp312-win_amd64.whl (2.2 MB)\n",
      "Using cached joblib-1.4.2-py3-none-any.whl (301 kB)\n",
      "Using cached kiwisolver-1.4.8-cp312-cp312-win_amd64.whl (71 kB)\n",
      "Using cached packaging-24.2-py3-none-any.whl (65 kB)\n",
      "Using cached pillow-11.1.0-cp312-cp312-win_amd64.whl (2.6 MB)\n",
      "Using cached pyparsing-3.2.1-py3-none-any.whl (107 kB)\n",
      "Using cached python_dateutil-2.9.0.post0-py2.py3-none-any.whl (229 kB)\n",
      "Using cached pytz-2025.1-py2.py3-none-any.whl (507 kB)\n",
      "Using cached threadpoolctl-3.5.0-py3-none-any.whl (18 kB)\n",
      "Using cached tzdata-2025.1-py2.py3-none-any.whl (346 kB)\n",
      "Using cached tqdm-4.67.1-py3-none-any.whl (78 kB)\n",
      "Using cached six-1.17.0-py2.py3-none-any.whl (11 kB)\n",
      "Using cached colorama-0.4.6-py2.py3-none-any.whl (25 kB)\n",
      "Installing collected packages: pytz, tzdata, threadpoolctl, six, pyparsing, pillow, packaging, numpy, kiwisolver, joblib, fonttools, cycler, colorama, tqdm, scipy, python-dateutil, contourpy, scikit-learn, pandas, matplotlib, seaborn, mesa, mesa-restaurant-agents\n",
      "  Attempting uninstall: pytz\n",
      "    Found existing installation: pytz 2025.1\n",
      "    Uninstalling pytz-2025.1:\n",
      "      Successfully uninstalled pytz-2025.1\n",
      "  Attempting uninstall: tzdata\n",
      "    Found existing installation: tzdata 2025.1\n",
      "    Uninstalling tzdata-2025.1:\n",
      "      Successfully uninstalled tzdata-2025.1\n",
      "  Attempting uninstall: threadpoolctl\n",
      "    Found existing installation: threadpoolctl 3.5.0\n",
      "    Uninstalling threadpoolctl-3.5.0:\n",
      "      Successfully uninstalled threadpoolctl-3.5.0\n",
      "  Attempting uninstall: six\n",
      "    Found existing installation: six 1.17.0\n",
      "    Uninstalling six-1.17.0:\n",
      "      Successfully uninstalled six-1.17.0\n",
      "  Attempting uninstall: pyparsing\n",
      "    Found existing installation: pyparsing 3.2.1\n",
      "    Uninstalling pyparsing-3.2.1:\n",
      "      Successfully uninstalled pyparsing-3.2.1\n",
      "  Attempting uninstall: pillow\n",
      "    Found existing installation: pillow 11.1.0\n",
      "    Uninstalling pillow-11.1.0:\n",
      "      Successfully uninstalled pillow-11.1.0\n",
      "  Attempting uninstall: packaging\n",
      "    Found existing installation: packaging 24.2\n",
      "    Uninstalling packaging-24.2:\n",
      "      Successfully uninstalled packaging-24.2\n",
      "  Attempting uninstall: numpy\n",
      "    Found existing installation: numpy 2.2.2\n",
      "    Uninstalling numpy-2.2.2:\n",
      "      Successfully uninstalled numpy-2.2.2\n",
      "  Attempting uninstall: kiwisolver\n",
      "    Found existing installation: kiwisolver 1.4.8\n",
      "    Uninstalling kiwisolver-1.4.8:\n",
      "      Successfully uninstalled kiwisolver-1.4.8\n",
      "  Attempting uninstall: joblib\n",
      "    Found existing installation: joblib 1.4.2\n",
      "    Uninstalling joblib-1.4.2:\n",
      "      Successfully uninstalled joblib-1.4.2\n",
      "  Attempting uninstall: fonttools\n",
      "    Found existing installation: fonttools 4.56.0\n",
      "    Uninstalling fonttools-4.56.0:\n",
      "      Successfully uninstalled fonttools-4.56.0\n",
      "  Attempting uninstall: cycler\n",
      "    Found existing installation: cycler 0.12.1\n",
      "    Uninstalling cycler-0.12.1:\n",
      "      Successfully uninstalled cycler-0.12.1\n",
      "  Attempting uninstall: colorama\n",
      "    Found existing installation: colorama 0.4.6\n",
      "    Uninstalling colorama-0.4.6:\n",
      "      Successfully uninstalled colorama-0.4.6\n",
      "  Attempting uninstall: tqdm\n",
      "    Found existing installation: tqdm 4.67.1\n",
      "    Uninstalling tqdm-4.67.1:\n",
      "      Successfully uninstalled tqdm-4.67.1\n",
      "  Attempting uninstall: scipy\n",
      "    Found existing installation: scipy 1.15.1\n",
      "    Uninstalling scipy-1.15.1:\n",
      "      Successfully uninstalled scipy-1.15.1\n",
      "  Attempting uninstall: python-dateutil\n",
      "    Found existing installation: python-dateutil 2.9.0.post0\n",
      "    Uninstalling python-dateutil-2.9.0.post0:\n",
      "      Successfully uninstalled python-dateutil-2.9.0.post0\n",
      "  Attempting uninstall: contourpy\n",
      "    Found existing installation: contourpy 1.3.1\n",
      "    Uninstalling contourpy-1.3.1:\n",
      "      Successfully uninstalled contourpy-1.3.1\n",
      "  Attempting uninstall: scikit-learn\n",
      "    Found existing installation: scikit-learn 1.6.1\n",
      "    Uninstalling scikit-learn-1.6.1:\n",
      "      Successfully uninstalled scikit-learn-1.6.1\n",
      "  Attempting uninstall: pandas\n",
      "    Found existing installation: pandas 2.2.3\n",
      "    Uninstalling pandas-2.2.3:\n",
      "      Successfully uninstalled pandas-2.2.3\n",
      "  Attempting uninstall: matplotlib\n",
      "    Found existing installation: matplotlib 3.10.0\n",
      "    Uninstalling matplotlib-3.10.0:\n",
      "      Successfully uninstalled matplotlib-3.10.0\n",
      "  Attempting uninstall: seaborn\n",
      "    Found existing installation: seaborn 0.13.2\n",
      "    Uninstalling seaborn-0.13.2:\n",
      "      Successfully uninstalled seaborn-0.13.2\n",
      "  Attempting uninstall: mesa\n",
      "    Found existing installation: Mesa 3.1.0\n",
      "    Uninstalling Mesa-3.1.0:\n",
      "      Successfully uninstalled Mesa-3.1.0\n",
      "  Attempting uninstall: mesa-restaurant-agents\n",
      "    Found existing installation: mesa-restaurant-agents 0.0.1\n",
      "    Uninstalling mesa-restaurant-agents-0.0.1:\n",
      "      Successfully uninstalled mesa-restaurant-agents-0.0.1\n",
      "Successfully installed colorama-0.4.6 contourpy-1.3.1 cycler-0.12.1 fonttools-4.56.0 joblib-1.4.2 kiwisolver-1.4.8 matplotlib-3.10.0 mesa-3.1.0 mesa-restaurant-agents-0.0.1 numpy-2.2.2 packaging-24.2 pandas-2.2.3 pillow-11.1.0 pyparsing-3.2.1 python-dateutil-2.9.0.post0 pytz-2025.1 scikit-learn-1.6.1 scipy-1.15.1 seaborn-0.13.2 six-1.17.0 threadpoolctl-3.5.0 tqdm-4.67.1 tzdata-2025.1\n",
      "\n"
     ]
    },
    {
     "name": "stderr",
     "output_type": "stream",
     "text": [
      "WARNING: Ignoring invalid distribution ~cipy (c:\\Users\\s.neumann\\AppData\\Local\\Programs\\Python\\Python312\\Lib\\site-packages)\n",
      "WARNING: Ignoring invalid distribution ~cipy (c:\\Users\\s.neumann\\AppData\\Local\\Programs\\Python\\Python312\\Lib\\site-packages)\n",
      "WARNING: Ignoring invalid distribution ~cipy (c:\\Users\\s.neumann\\AppData\\Local\\Programs\\Python\\Python312\\Lib\\site-packages)\n"
     ]
    }
   ],
   "source": [
    "pip install --force-reinstall agent_system/dist/mesa_restaurant_agents-0.0.1-py3-none-any.whl"
   ]
  },
  {
   "cell_type": "code",
   "execution_count": 2,
   "metadata": {},
   "outputs": [
    {
     "data": {
      "application/vnd.jupyter.widget-view+json": {
       "model_id": "a369de4203194e46a60a0f7fd0278428",
       "version_major": 2,
       "version_minor": 0
      },
      "text/plain": [
       "  0%|          | 0/5 [00:00<?, ?it/s]"
      ]
     },
     "metadata": {},
     "output_type": "display_data"
    },
    {
     "name": "stdout",
     "output_type": "stream",
     "text": [
      "[{'RunId': 0, 'iteration': 0, 'Step': 0, 'n_waiters': 2, 'grid_width': 50, 'grid_height': 50, 'Customer_Count': 0, 'Average_Wait_Time': np.float64(nan), 'Average_Customer_Satisfaction': np.float64(nan), 'Profit': np.float64(0.0), 'Customer_Info': []}, {'RunId': 0, 'iteration': 0, 'Step': 1, 'n_waiters': 2, 'grid_width': 50, 'grid_height': 50, 'Customer_Count': 1, 'Average_Wait_Time': np.float64(0.0), 'Average_Customer_Satisfaction': np.float64(100.0), 'Profit': np.float64(0.0), 'Customer_Info': [{'customer_nr': 0, 'waiting_time': 0, 'order_status': 0, 'satisfaction': 100}]}, {'RunId': 0, 'iteration': 0, 'Step': 2, 'n_waiters': 2, 'grid_width': 50, 'grid_height': 50, 'Customer_Count': 4, 'Average_Wait_Time': np.float64(0.0), 'Average_Customer_Satisfaction': np.float64(100.0), 'Profit': np.float64(0.0), 'Customer_Info': [{'customer_nr': 0, 'waiting_time': 0.0, 'order_status': 1, 'satisfaction': 100.0}, {'customer_nr': 1, 'waiting_time': 0, 'order_status': 0, 'satisfaction': 100}, {'customer_nr': 2, 'waiting_time': 0, 'order_status': 0, 'satisfaction': 100}, {'customer_nr': 3, 'waiting_time': 0, 'order_status': 0, 'satisfaction': 100}]}, {'RunId': 0, 'iteration': 0, 'Step': 3, 'n_waiters': 2, 'grid_width': 50, 'grid_height': 50, 'Customer_Count': 6, 'Average_Wait_Time': np.float64(0.8333333333333334), 'Average_Customer_Satisfaction': np.float64(98.33333333333333), 'Profit': np.float64(0.0), 'Customer_Info': [{'customer_nr': 0, 'waiting_time': 5.0, 'order_status': 3, 'satisfaction': 90.0}, {'customer_nr': 1, 'waiting_time': 0.0, 'order_status': 0, 'satisfaction': 100.0}, {'customer_nr': 2, 'waiting_time': 0.0, 'order_status': 0, 'satisfaction': 100.0}, {'customer_nr': 3, 'waiting_time': 0.0, 'order_status': 0, 'satisfaction': 100.0}, {'customer_nr': 4, 'waiting_time': 0, 'order_status': 0, 'satisfaction': 100}, {'customer_nr': 5, 'waiting_time': 0, 'order_status': 0, 'satisfaction': 100}]}, {'RunId': 0, 'iteration': 0, 'Step': 4, 'n_waiters': 2, 'grid_width': 50, 'grid_height': 50, 'Customer_Count': 7, 'Average_Wait_Time': np.float64(2.857142857142857), 'Average_Customer_Satisfaction': np.float64(94.28571428571429), 'Profit': np.float64(0.0), 'Customer_Info': [{'customer_nr': 0, 'waiting_time': 5.0, 'order_status': 3, 'satisfaction': 90.0}, {'customer_nr': 1, 'waiting_time': 5.0, 'order_status': 0, 'satisfaction': 90.0}, {'customer_nr': 2, 'waiting_time': 5.0, 'order_status': 0, 'satisfaction': 90.0}, {'customer_nr': 3, 'waiting_time': 5.0, 'order_status': 0, 'satisfaction': 90.0}, {'customer_nr': 4, 'waiting_time': 0.0, 'order_status': 0, 'satisfaction': 100.0}, {'customer_nr': 5, 'waiting_time': 0.0, 'order_status': 0, 'satisfaction': 100.0}, {'customer_nr': 6, 'waiting_time': 0, 'order_status': 0, 'satisfaction': 100}]}, {'RunId': 0, 'iteration': 0, 'Step': 5, 'n_waiters': 2, 'grid_width': 50, 'grid_height': 50, 'Customer_Count': 7, 'Average_Wait_Time': np.float64(6.428571428571429), 'Average_Customer_Satisfaction': np.float64(87.14285714285714), 'Profit': np.float64(0.0), 'Customer_Info': [{'customer_nr': 0, 'waiting_time': 5.0, 'order_status': 3, 'satisfaction': 90.0}, {'customer_nr': 1, 'waiting_time': 10.0, 'order_status': 0, 'satisfaction': 80.0}, {'customer_nr': 2, 'waiting_time': 10.0, 'order_status': 0, 'satisfaction': 80.0}, {'customer_nr': 3, 'waiting_time': 10.0, 'order_status': 0, 'satisfaction': 80.0}, {'customer_nr': 4, 'waiting_time': 5.0, 'order_status': 0, 'satisfaction': 90.0}, {'customer_nr': 5, 'waiting_time': 5.0, 'order_status': 0, 'satisfaction': 90.0}, {'customer_nr': 6, 'waiting_time': 0.0, 'order_status': 0, 'satisfaction': 100.0}]}, {'RunId': 0, 'iteration': 0, 'Step': 6, 'n_waiters': 2, 'grid_width': 50, 'grid_height': 50, 'Customer_Count': 7, 'Average_Wait_Time': np.float64(10.714285714285714), 'Average_Customer_Satisfaction': np.float64(78.57142857142857), 'Profit': np.float64(0.0), 'Customer_Info': [{'customer_nr': 0, 'waiting_time': 5.0, 'order_status': 3, 'satisfaction': 90.0}, {'customer_nr': 1, 'waiting_time': 15.0, 'order_status': 0, 'satisfaction': 70.0}, {'customer_nr': 2, 'waiting_time': 15.0, 'order_status': 0, 'satisfaction': 70.0}, {'customer_nr': 3, 'waiting_time': 15.0, 'order_status': 0, 'satisfaction': 70.0}, {'customer_nr': 4, 'waiting_time': 10.0, 'order_status': 0, 'satisfaction': 80.0}, {'customer_nr': 5, 'waiting_time': 10.0, 'order_status': 0, 'satisfaction': 80.0}, {'customer_nr': 6, 'waiting_time': 5.0, 'order_status': 0, 'satisfaction': 90.0}]}, {'RunId': 0, 'iteration': 0, 'Step': 7, 'n_waiters': 2, 'grid_width': 50, 'grid_height': 50, 'Customer_Count': 7, 'Average_Wait_Time': np.float64(15.0), 'Average_Customer_Satisfaction': np.float64(70.0), 'Profit': np.float64(0.0), 'Customer_Info': [{'customer_nr': 0, 'waiting_time': 5.0, 'order_status': 3, 'satisfaction': 90.0}, {'customer_nr': 1, 'waiting_time': 20.0, 'order_status': 0, 'satisfaction': 60.0}, {'customer_nr': 2, 'waiting_time': 20.0, 'order_status': 0, 'satisfaction': 60.0}, {'customer_nr': 3, 'waiting_time': 20.0, 'order_status': 0, 'satisfaction': 60.0}, {'customer_nr': 4, 'waiting_time': 15.0, 'order_status': 0, 'satisfaction': 70.0}, {'customer_nr': 5, 'waiting_time': 15.0, 'order_status': 0, 'satisfaction': 70.0}, {'customer_nr': 6, 'waiting_time': 10.0, 'order_status': 0, 'satisfaction': 80.0}]}, {'RunId': 0, 'iteration': 0, 'Step': 8, 'n_waiters': 2, 'grid_width': 50, 'grid_height': 50, 'Customer_Count': 9, 'Average_Wait_Time': np.float64(15.0), 'Average_Customer_Satisfaction': np.float64(70.0), 'Profit': np.float64(0.0), 'Customer_Info': [{'customer_nr': 0, 'waiting_time': 5.0, 'order_status': 3, 'satisfaction': 90.0}, {'customer_nr': 1, 'waiting_time': 25.0, 'order_status': 0, 'satisfaction': 50.0}, {'customer_nr': 2, 'waiting_time': 25.0, 'order_status': 0, 'satisfaction': 50.0}, {'customer_nr': 3, 'waiting_time': 25.0, 'order_status': 0, 'satisfaction': 50.0}, {'customer_nr': 4, 'waiting_time': 20.0, 'order_status': 0, 'satisfaction': 60.0}, {'customer_nr': 5, 'waiting_time': 20.0, 'order_status': 0, 'satisfaction': 60.0}, {'customer_nr': 6, 'waiting_time': 15.0, 'order_status': 0, 'satisfaction': 70.0}, {'customer_nr': 7, 'waiting_time': 0, 'order_status': 0, 'satisfaction': 100}, {'customer_nr': 8, 'waiting_time': 0, 'order_status': 0, 'satisfaction': 100}]}, {'RunId': 0, 'iteration': 0, 'Step': 9, 'n_waiters': 2, 'grid_width': 50, 'grid_height': 50, 'Customer_Count': 12, 'Average_Wait_Time': np.float64(13.75), 'Average_Customer_Satisfaction': np.float64(72.5), 'Profit': np.float64(0.0), 'Customer_Info': [{'customer_nr': 0, 'waiting_time': 5.0, 'order_status': 3, 'satisfaction': 90.0}, {'customer_nr': 1, 'waiting_time': 30.0, 'order_status': 0, 'satisfaction': 40.0}, {'customer_nr': 2, 'waiting_time': 30.0, 'order_status': 0, 'satisfaction': 40.0}, {'customer_nr': 3, 'waiting_time': 30.0, 'order_status': 0, 'satisfaction': 40.0}, {'customer_nr': 4, 'waiting_time': 25.0, 'order_status': 0, 'satisfaction': 50.0}, {'customer_nr': 5, 'waiting_time': 25.0, 'order_status': 0, 'satisfaction': 50.0}, {'customer_nr': 6, 'waiting_time': 20.0, 'order_status': 0, 'satisfaction': 60.0}, {'customer_nr': 7, 'waiting_time': 0.0, 'order_status': 0, 'satisfaction': 100.0}, {'customer_nr': 8, 'waiting_time': 0.0, 'order_status': 0, 'satisfaction': 100.0}, {'customer_nr': 9, 'waiting_time': 0, 'order_status': 0, 'satisfaction': 100}, {'customer_nr': 10, 'waiting_time': 0, 'order_status': 0, 'satisfaction': 100}, {'customer_nr': 11, 'waiting_time': 0, 'order_status': 0, 'satisfaction': 100}]}, {'RunId': 0, 'iteration': 0, 'Step': 10, 'n_waiters': 2, 'grid_width': 50, 'grid_height': 50, 'Customer_Count': 14, 'Average_Wait_Time': np.float64(14.642857142857142), 'Average_Customer_Satisfaction': np.float64(70.71428571428571), 'Profit': np.float64(0.0), 'Customer_Info': [{'customer_nr': 0, 'waiting_time': 5.0, 'order_status': 3, 'satisfaction': 90.0}, {'customer_nr': 1, 'waiting_time': 35.0, 'order_status': 0, 'satisfaction': 30.0}, {'customer_nr': 2, 'waiting_time': 35.0, 'order_status': 0, 'satisfaction': 30.0}, {'customer_nr': 3, 'waiting_time': 35.0, 'order_status': 0, 'satisfaction': 30.0}, {'customer_nr': 4, 'waiting_time': 30.0, 'order_status': 0, 'satisfaction': 40.0}, {'customer_nr': 5, 'waiting_time': 30.0, 'order_status': 0, 'satisfaction': 40.0}, {'customer_nr': 6, 'waiting_time': 25.0, 'order_status': 0, 'satisfaction': 50.0}, {'customer_nr': 7, 'waiting_time': 5.0, 'order_status': 0, 'satisfaction': 90.0}, {'customer_nr': 8, 'waiting_time': 5.0, 'order_status': 0, 'satisfaction': 90.0}, {'customer_nr': 9, 'waiting_time': 0.0, 'order_status': 0, 'satisfaction': 100.0}, {'customer_nr': 10, 'waiting_time': 0.0, 'order_status': 0, 'satisfaction': 100.0}, {'customer_nr': 11, 'waiting_time': 0.0, 'order_status': 0, 'satisfaction': 100.0}, {'customer_nr': 12, 'waiting_time': 0, 'order_status': 0, 'satisfaction': 100}, {'customer_nr': 13, 'waiting_time': 0, 'order_status': 0, 'satisfaction': 100}]}, {'RunId': 1, 'iteration': 1, 'Step': 0, 'n_waiters': 2, 'grid_width': 50, 'grid_height': 50, 'Customer_Count': 1, 'Average_Wait_Time': np.float64(0.0), 'Average_Customer_Satisfaction': np.float64(100.0), 'Profit': np.float64(0.0), 'Customer_Info': [{'customer_nr': 0, 'waiting_time': 0, 'order_status': 0, 'satisfaction': 100}]}, {'RunId': 1, 'iteration': 1, 'Step': 1, 'n_waiters': 2, 'grid_width': 50, 'grid_height': 50, 'Customer_Count': 5, 'Average_Wait_Time': np.float64(0.0), 'Average_Customer_Satisfaction': np.float64(100.0), 'Profit': np.float64(0.0), 'Customer_Info': [{'customer_nr': 0, 'waiting_time': 0.0, 'order_status': 1, 'satisfaction': 100.0}, {'customer_nr': 1, 'waiting_time': 0, 'order_status': 0, 'satisfaction': 100}, {'customer_nr': 2, 'waiting_time': 0, 'order_status': 0, 'satisfaction': 100}, {'customer_nr': 3, 'waiting_time': 0, 'order_status': 0, 'satisfaction': 100}, {'customer_nr': 4, 'waiting_time': 0, 'order_status': 0, 'satisfaction': 100}]}, {'RunId': 1, 'iteration': 1, 'Step': 2, 'n_waiters': 2, 'grid_width': 50, 'grid_height': 50, 'Customer_Count': 8, 'Average_Wait_Time': np.float64(0.0), 'Average_Customer_Satisfaction': np.float64(100.0), 'Profit': np.float64(0.0), 'Customer_Info': [{'customer_nr': 0, 'waiting_time': 0.0, 'order_status': 3, 'satisfaction': 100.0}, {'customer_nr': 1, 'waiting_time': 0.0, 'order_status': 0, 'satisfaction': 100.0}, {'customer_nr': 2, 'waiting_time': 0.0, 'order_status': 0, 'satisfaction': 100.0}, {'customer_nr': 3, 'waiting_time': 0.0, 'order_status': 0, 'satisfaction': 100.0}, {'customer_nr': 4, 'waiting_time': 0.0, 'order_status': 0, 'satisfaction': 100.0}, {'customer_nr': 5, 'waiting_time': 0, 'order_status': 0, 'satisfaction': 100}, {'customer_nr': 6, 'waiting_time': 0, 'order_status': 0, 'satisfaction': 100}, {'customer_nr': 7, 'waiting_time': 0, 'order_status': 0, 'satisfaction': 100}]}, {'RunId': 1, 'iteration': 1, 'Step': 3, 'n_waiters': 2, 'grid_width': 50, 'grid_height': 50, 'Customer_Count': 10, 'Average_Wait_Time': np.float64(2.0), 'Average_Customer_Satisfaction': np.float64(96.0), 'Profit': np.float64(0.0), 'Customer_Info': [{'customer_nr': 0, 'waiting_time': 0.0, 'order_status': 3, 'satisfaction': 100.0}, {'customer_nr': 1, 'waiting_time': 5.0, 'order_status': 0, 'satisfaction': 90.0}, {'customer_nr': 2, 'waiting_time': 5.0, 'order_status': 0, 'satisfaction': 90.0}, {'customer_nr': 3, 'waiting_time': 5.0, 'order_status': 0, 'satisfaction': 90.0}, {'customer_nr': 4, 'waiting_time': 5.0, 'order_status': 0, 'satisfaction': 90.0}, {'customer_nr': 5, 'waiting_time': 0.0, 'order_status': 0, 'satisfaction': 100.0}, {'customer_nr': 6, 'waiting_time': 0.0, 'order_status': 0, 'satisfaction': 100.0}, {'customer_nr': 7, 'waiting_time': 0.0, 'order_status': 0, 'satisfaction': 100.0}, {'customer_nr': 8, 'waiting_time': 0, 'order_status': 0, 'satisfaction': 100}, {'customer_nr': 9, 'waiting_time': 0, 'order_status': 0, 'satisfaction': 100}]}, {'RunId': 1, 'iteration': 1, 'Step': 4, 'n_waiters': 2, 'grid_width': 50, 'grid_height': 50, 'Customer_Count': 11, 'Average_Wait_Time': np.float64(5.0), 'Average_Customer_Satisfaction': np.float64(90.0), 'Profit': np.float64(0.0), 'Customer_Info': [{'customer_nr': 0, 'waiting_time': 0.0, 'order_status': 3, 'satisfaction': 100.0}, {'customer_nr': 1, 'waiting_time': 10.0, 'order_status': 0, 'satisfaction': 80.0}, {'customer_nr': 2, 'waiting_time': 10.0, 'order_status': 0, 'satisfaction': 80.0}, {'customer_nr': 3, 'waiting_time': 10.0, 'order_status': 0, 'satisfaction': 80.0}, {'customer_nr': 4, 'waiting_time': 10.0, 'order_status': 0, 'satisfaction': 80.0}, {'customer_nr': 5, 'waiting_time': 5.0, 'order_status': 0, 'satisfaction': 90.0}, {'customer_nr': 6, 'waiting_time': 5.0, 'order_status': 0, 'satisfaction': 90.0}, {'customer_nr': 7, 'waiting_time': 5.0, 'order_status': 0, 'satisfaction': 90.0}, {'customer_nr': 8, 'waiting_time': 0.0, 'order_status': 0, 'satisfaction': 100.0}, {'customer_nr': 9, 'waiting_time': 0.0, 'order_status': 0, 'satisfaction': 100.0}, {'customer_nr': 10, 'waiting_time': 0, 'order_status': 0, 'satisfaction': 100}]}, {'RunId': 1, 'iteration': 1, 'Step': 5, 'n_waiters': 2, 'grid_width': 50, 'grid_height': 50, 'Customer_Count': 14, 'Average_Wait_Time': np.float64(7.142857142857143), 'Average_Customer_Satisfaction': np.float64(85.71428571428571), 'Profit': np.float64(0.0), 'Customer_Info': [{'customer_nr': 0, 'waiting_time': 0.0, 'order_status': 3, 'satisfaction': 100.0}, {'customer_nr': 1, 'waiting_time': 15.0, 'order_status': 0, 'satisfaction': 70.0}, {'customer_nr': 2, 'waiting_time': 15.0, 'order_status': 0, 'satisfaction': 70.0}, {'customer_nr': 3, 'waiting_time': 15.0, 'order_status': 0, 'satisfaction': 70.0}, {'customer_nr': 4, 'waiting_time': 15.0, 'order_status': 0, 'satisfaction': 70.0}, {'customer_nr': 5, 'waiting_time': 10.0, 'order_status': 0, 'satisfaction': 80.0}, {'customer_nr': 6, 'waiting_time': 10.0, 'order_status': 0, 'satisfaction': 80.0}, {'customer_nr': 7, 'waiting_time': 10.0, 'order_status': 0, 'satisfaction': 80.0}, {'customer_nr': 8, 'waiting_time': 5.0, 'order_status': 0, 'satisfaction': 90.0}, {'customer_nr': 9, 'waiting_time': 5.0, 'order_status': 0, 'satisfaction': 90.0}, {'customer_nr': 10, 'waiting_time': 0.0, 'order_status': 0, 'satisfaction': 100.0}, {'customer_nr': 11, 'waiting_time': 0, 'order_status': 0, 'satisfaction': 100}, {'customer_nr': 12, 'waiting_time': 0, 'order_status': 0, 'satisfaction': 100}, {'customer_nr': 13, 'waiting_time': 0, 'order_status': 0, 'satisfaction': 100}]}, {'RunId': 1, 'iteration': 1, 'Step': 6, 'n_waiters': 2, 'grid_width': 50, 'grid_height': 50, 'Customer_Count': 17, 'Average_Wait_Time': np.float64(8.823529411764707), 'Average_Customer_Satisfaction': np.float64(82.3529411764706), 'Profit': np.float64(0.0), 'Customer_Info': [{'customer_nr': 0, 'waiting_time': 0.0, 'order_status': 3, 'satisfaction': 100.0}, {'customer_nr': 1, 'waiting_time': 20.0, 'order_status': 0, 'satisfaction': 60.0}, {'customer_nr': 2, 'waiting_time': 20.0, 'order_status': 0, 'satisfaction': 60.0}, {'customer_nr': 3, 'waiting_time': 20.0, 'order_status': 0, 'satisfaction': 60.0}, {'customer_nr': 4, 'waiting_time': 20.0, 'order_status': 0, 'satisfaction': 60.0}, {'customer_nr': 5, 'waiting_time': 15.0, 'order_status': 0, 'satisfaction': 70.0}, {'customer_nr': 6, 'waiting_time': 15.0, 'order_status': 0, 'satisfaction': 70.0}, {'customer_nr': 7, 'waiting_time': 15.0, 'order_status': 0, 'satisfaction': 70.0}, {'customer_nr': 8, 'waiting_time': 10.0, 'order_status': 0, 'satisfaction': 80.0}, {'customer_nr': 9, 'waiting_time': 10.0, 'order_status': 0, 'satisfaction': 80.0}, {'customer_nr': 10, 'waiting_time': 5.0, 'order_status': 0, 'satisfaction': 90.0}, {'customer_nr': 11, 'waiting_time': 0.0, 'order_status': 0, 'satisfaction': 100.0}, {'customer_nr': 12, 'waiting_time': 0.0, 'order_status': 0, 'satisfaction': 100.0}, {'customer_nr': 13, 'waiting_time': 0.0, 'order_status': 0, 'satisfaction': 100.0}, {'customer_nr': 14, 'waiting_time': 0, 'order_status': 0, 'satisfaction': 100}, {'customer_nr': 15, 'waiting_time': 0, 'order_status': 0, 'satisfaction': 100}, {'customer_nr': 16, 'waiting_time': 0, 'order_status': 0, 'satisfaction': 100}]}, {'RunId': 1, 'iteration': 1, 'Step': 7, 'n_waiters': 2, 'grid_width': 50, 'grid_height': 50, 'Customer_Count': 20, 'Average_Wait_Time': np.float64(10.75), 'Average_Customer_Satisfaction': np.float64(78.5), 'Profit': np.float64(0.0), 'Customer_Info': [{'customer_nr': 0, 'waiting_time': 0.0, 'order_status': 3, 'satisfaction': 100.0}, {'customer_nr': 1, 'waiting_time': 25.0, 'order_status': 0, 'satisfaction': 50.0}, {'customer_nr': 2, 'waiting_time': 25.0, 'order_status': 0, 'satisfaction': 50.0}, {'customer_nr': 3, 'waiting_time': 25.0, 'order_status': 0, 'satisfaction': 50.0}, {'customer_nr': 4, 'waiting_time': 25.0, 'order_status': 0, 'satisfaction': 50.0}, {'customer_nr': 5, 'waiting_time': 20.0, 'order_status': 0, 'satisfaction': 60.0}, {'customer_nr': 6, 'waiting_time': 20.0, 'order_status': 0, 'satisfaction': 60.0}, {'customer_nr': 7, 'waiting_time': 20.0, 'order_status': 0, 'satisfaction': 60.0}, {'customer_nr': 8, 'waiting_time': 15.0, 'order_status': 0, 'satisfaction': 70.0}, {'customer_nr': 9, 'waiting_time': 15.0, 'order_status': 0, 'satisfaction': 70.0}, {'customer_nr': 10, 'waiting_time': 10.0, 'order_status': 0, 'satisfaction': 80.0}, {'customer_nr': 11, 'waiting_time': 5.0, 'order_status': 0, 'satisfaction': 90.0}, {'customer_nr': 12, 'waiting_time': 5.0, 'order_status': 0, 'satisfaction': 90.0}, {'customer_nr': 13, 'waiting_time': 5.0, 'order_status': 0, 'satisfaction': 90.0}, {'customer_nr': 14, 'waiting_time': 0.0, 'order_status': 0, 'satisfaction': 100.0}, {'customer_nr': 15, 'waiting_time': 0.0, 'order_status': 0, 'satisfaction': 100.0}, {'customer_nr': 16, 'waiting_time': 0.0, 'order_status': 0, 'satisfaction': 100.0}, {'customer_nr': 17, 'waiting_time': 0, 'order_status': 0, 'satisfaction': 100}, {'customer_nr': 18, 'waiting_time': 0, 'order_status': 0, 'satisfaction': 100}, {'customer_nr': 19, 'waiting_time': 0, 'order_status': 0, 'satisfaction': 100}]}, {'RunId': 1, 'iteration': 1, 'Step': 8, 'n_waiters': 2, 'grid_width': 50, 'grid_height': 50, 'Customer_Count': 20, 'Average_Wait_Time': np.float64(14.75), 'Average_Customer_Satisfaction': np.float64(70.5), 'Profit': np.float64(0.0), 'Customer_Info': [{'customer_nr': 0, 'waiting_time': 0.0, 'order_status': 3, 'satisfaction': 100.0}, {'customer_nr': 1, 'waiting_time': 30.0, 'order_status': 0, 'satisfaction': 40.0}, {'customer_nr': 2, 'waiting_time': 30.0, 'order_status': 0, 'satisfaction': 40.0}, {'customer_nr': 3, 'waiting_time': 30.0, 'order_status': 0, 'satisfaction': 40.0}, {'customer_nr': 4, 'waiting_time': 30.0, 'order_status': 0, 'satisfaction': 40.0}, {'customer_nr': 5, 'waiting_time': 25.0, 'order_status': 0, 'satisfaction': 50.0}, {'customer_nr': 6, 'waiting_time': 25.0, 'order_status': 0, 'satisfaction': 50.0}, {'customer_nr': 7, 'waiting_time': 25.0, 'order_status': 0, 'satisfaction': 50.0}, {'customer_nr': 8, 'waiting_time': 20.0, 'order_status': 0, 'satisfaction': 60.0}, {'customer_nr': 9, 'waiting_time': 20.0, 'order_status': 0, 'satisfaction': 60.0}, {'customer_nr': 10, 'waiting_time': 15.0, 'order_status': 0, 'satisfaction': 70.0}, {'customer_nr': 11, 'waiting_time': 10.0, 'order_status': 0, 'satisfaction': 80.0}, {'customer_nr': 12, 'waiting_time': 10.0, 'order_status': 0, 'satisfaction': 80.0}, {'customer_nr': 13, 'waiting_time': 10.0, 'order_status': 0, 'satisfaction': 80.0}, {'customer_nr': 14, 'waiting_time': 5.0, 'order_status': 0, 'satisfaction': 90.0}, {'customer_nr': 15, 'waiting_time': 5.0, 'order_status': 0, 'satisfaction': 90.0}, {'customer_nr': 16, 'waiting_time': 5.0, 'order_status': 0, 'satisfaction': 90.0}, {'customer_nr': 17, 'waiting_time': 0.0, 'order_status': 0, 'satisfaction': 100.0}, {'customer_nr': 18, 'waiting_time': 0.0, 'order_status': 0, 'satisfaction': 100.0}, {'customer_nr': 19, 'waiting_time': 0.0, 'order_status': 0, 'satisfaction': 100.0}]}, {'RunId': 1, 'iteration': 1, 'Step': 9, 'n_waiters': 2, 'grid_width': 50, 'grid_height': 50, 'Customer_Count': 22, 'Average_Wait_Time': np.float64(17.727272727272727), 'Average_Customer_Satisfaction': np.float64(64.54545454545455), 'Profit': np.float64(0.0), 'Customer_Info': [{'customer_nr': 0, 'waiting_time': 0.0, 'order_status': 3, 'satisfaction': 100.0}, {'customer_nr': 1, 'waiting_time': 35.0, 'order_status': 0, 'satisfaction': 30.0}, {'customer_nr': 2, 'waiting_time': 35.0, 'order_status': 0, 'satisfaction': 30.0}, {'customer_nr': 3, 'waiting_time': 35.0, 'order_status': 0, 'satisfaction': 30.0}, {'customer_nr': 4, 'waiting_time': 35.0, 'order_status': 0, 'satisfaction': 30.0}, {'customer_nr': 5, 'waiting_time': 30.0, 'order_status': 0, 'satisfaction': 40.0}, {'customer_nr': 6, 'waiting_time': 30.0, 'order_status': 0, 'satisfaction': 40.0}, {'customer_nr': 7, 'waiting_time': 30.0, 'order_status': 0, 'satisfaction': 40.0}, {'customer_nr': 8, 'waiting_time': 25.0, 'order_status': 0, 'satisfaction': 50.0}, {'customer_nr': 9, 'waiting_time': 25.0, 'order_status': 0, 'satisfaction': 50.0}, {'customer_nr': 10, 'waiting_time': 20.0, 'order_status': 0, 'satisfaction': 60.0}, {'customer_nr': 11, 'waiting_time': 15.0, 'order_status': 0, 'satisfaction': 70.0}, {'customer_nr': 12, 'waiting_time': 15.0, 'order_status': 0, 'satisfaction': 70.0}, {'customer_nr': 13, 'waiting_time': 15.0, 'order_status': 0, 'satisfaction': 70.0}, {'customer_nr': 14, 'waiting_time': 10.0, 'order_status': 0, 'satisfaction': 80.0}, {'customer_nr': 15, 'waiting_time': 10.0, 'order_status': 0, 'satisfaction': 80.0}, {'customer_nr': 16, 'waiting_time': 10.0, 'order_status': 0, 'satisfaction': 80.0}, {'customer_nr': 17, 'waiting_time': 5.0, 'order_status': 0, 'satisfaction': 90.0}, {'customer_nr': 18, 'waiting_time': 5.0, 'order_status': 0, 'satisfaction': 90.0}, {'customer_nr': 19, 'waiting_time': 5.0, 'order_status': 0, 'satisfaction': 90.0}, {'customer_nr': 20, 'waiting_time': 0, 'order_status': 0, 'satisfaction': 100}, {'customer_nr': 21, 'waiting_time': 0, 'order_status': 0, 'satisfaction': 100}]}, {'RunId': 1, 'iteration': 1, 'Step': 10, 'n_waiters': 2, 'grid_width': 50, 'grid_height': 50, 'Customer_Count': 24, 'Average_Wait_Time': np.float64(20.208333333333332), 'Average_Customer_Satisfaction': np.float64(59.583333333333336), 'Profit': np.float64(0.0), 'Customer_Info': [{'customer_nr': 0, 'waiting_time': 0.0, 'order_status': 3, 'satisfaction': 100.0}, {'customer_nr': 1, 'waiting_time': 40.0, 'order_status': 0, 'satisfaction': 20.0}, {'customer_nr': 2, 'waiting_time': 40.0, 'order_status': 0, 'satisfaction': 20.0}, {'customer_nr': 3, 'waiting_time': 40.0, 'order_status': 0, 'satisfaction': 20.0}, {'customer_nr': 4, 'waiting_time': 40.0, 'order_status': 0, 'satisfaction': 20.0}, {'customer_nr': 5, 'waiting_time': 35.0, 'order_status': 0, 'satisfaction': 30.0}, {'customer_nr': 6, 'waiting_time': 35.0, 'order_status': 0, 'satisfaction': 30.0}, {'customer_nr': 7, 'waiting_time': 35.0, 'order_status': 0, 'satisfaction': 30.0}, {'customer_nr': 8, 'waiting_time': 30.0, 'order_status': 0, 'satisfaction': 40.0}, {'customer_nr': 9, 'waiting_time': 30.0, 'order_status': 0, 'satisfaction': 40.0}, {'customer_nr': 10, 'waiting_time': 25.0, 'order_status': 0, 'satisfaction': 50.0}, {'customer_nr': 11, 'waiting_time': 20.0, 'order_status': 0, 'satisfaction': 60.0}, {'customer_nr': 12, 'waiting_time': 20.0, 'order_status': 0, 'satisfaction': 60.0}, {'customer_nr': 13, 'waiting_time': 20.0, 'order_status': 0, 'satisfaction': 60.0}, {'customer_nr': 14, 'waiting_time': 15.0, 'order_status': 0, 'satisfaction': 70.0}, {'customer_nr': 15, 'waiting_time': 15.0, 'order_status': 0, 'satisfaction': 70.0}, {'customer_nr': 16, 'waiting_time': 15.0, 'order_status': 0, 'satisfaction': 70.0}, {'customer_nr': 17, 'waiting_time': 10.0, 'order_status': 0, 'satisfaction': 80.0}, {'customer_nr': 18, 'waiting_time': 10.0, 'order_status': 0, 'satisfaction': 80.0}, {'customer_nr': 19, 'waiting_time': 10.0, 'order_status': 0, 'satisfaction': 80.0}, {'customer_nr': 20, 'waiting_time': 0.0, 'order_status': 0, 'satisfaction': 100.0}, {'customer_nr': 21, 'waiting_time': 0.0, 'order_status': 0, 'satisfaction': 100.0}, {'customer_nr': 22, 'waiting_time': 0, 'order_status': 0, 'satisfaction': 100}, {'customer_nr': 23, 'waiting_time': 0, 'order_status': 0, 'satisfaction': 100}]}, {'RunId': 2, 'iteration': 2, 'Step': 0, 'n_waiters': 2, 'grid_width': 50, 'grid_height': 50, 'Customer_Count': 3, 'Average_Wait_Time': np.float64(0.0), 'Average_Customer_Satisfaction': np.float64(100.0), 'Profit': np.float64(0.0), 'Customer_Info': [{'customer_nr': 0, 'waiting_time': 0, 'order_status': 0, 'satisfaction': 100}, {'customer_nr': 1, 'waiting_time': 0, 'order_status': 0, 'satisfaction': 100}, {'customer_nr': 2, 'waiting_time': 0, 'order_status': 0, 'satisfaction': 100}]}, {'RunId': 2, 'iteration': 2, 'Step': 1, 'n_waiters': 2, 'grid_width': 50, 'grid_height': 50, 'Customer_Count': 7, 'Average_Wait_Time': np.float64(0.0), 'Average_Customer_Satisfaction': np.float64(100.0), 'Profit': np.float64(0.0), 'Customer_Info': [{'customer_nr': 0, 'waiting_time': 0.0, 'order_status': 1, 'satisfaction': 100.0}, {'customer_nr': 1, 'waiting_time': 0.0, 'order_status': 0, 'satisfaction': 100.0}, {'customer_nr': 2, 'waiting_time': 0.0, 'order_status': 0, 'satisfaction': 100.0}, {'customer_nr': 3, 'waiting_time': 0, 'order_status': 0, 'satisfaction': 100}, {'customer_nr': 4, 'waiting_time': 0, 'order_status': 0, 'satisfaction': 100}, {'customer_nr': 5, 'waiting_time': 0, 'order_status': 0, 'satisfaction': 100}, {'customer_nr': 6, 'waiting_time': 0, 'order_status': 0, 'satisfaction': 100}]}, {'RunId': 2, 'iteration': 2, 'Step': 2, 'n_waiters': 2, 'grid_width': 50, 'grid_height': 50, 'Customer_Count': 10, 'Average_Wait_Time': np.float64(1.0), 'Average_Customer_Satisfaction': np.float64(98.0), 'Profit': np.float64(0.0), 'Customer_Info': [{'customer_nr': 0, 'waiting_time': 0.0, 'order_status': 3, 'satisfaction': 100.0}, {'customer_nr': 1, 'waiting_time': 5.0, 'order_status': 0, 'satisfaction': 90.0}, {'customer_nr': 2, 'waiting_time': 5.0, 'order_status': 0, 'satisfaction': 90.0}, {'customer_nr': 3, 'waiting_time': 0.0, 'order_status': 0, 'satisfaction': 100.0}, {'customer_nr': 4, 'waiting_time': 0.0, 'order_status': 0, 'satisfaction': 100.0}, {'customer_nr': 5, 'waiting_time': 0.0, 'order_status': 0, 'satisfaction': 100.0}, {'customer_nr': 6, 'waiting_time': 0.0, 'order_status': 0, 'satisfaction': 100.0}, {'customer_nr': 7, 'waiting_time': 0, 'order_status': 0, 'satisfaction': 100}, {'customer_nr': 8, 'waiting_time': 0, 'order_status': 0, 'satisfaction': 100}, {'customer_nr': 9, 'waiting_time': 0, 'order_status': 0, 'satisfaction': 100}]}, {'RunId': 2, 'iteration': 2, 'Step': 3, 'n_waiters': 2, 'grid_width': 50, 'grid_height': 50, 'Customer_Count': 11, 'Average_Wait_Time': np.float64(3.6363636363636362), 'Average_Customer_Satisfaction': np.float64(92.72727272727273), 'Profit': np.float64(0.0), 'Customer_Info': [{'customer_nr': 0, 'waiting_time': 0.0, 'order_status': 3, 'satisfaction': 100.0}, {'customer_nr': 1, 'waiting_time': 10.0, 'order_status': 0, 'satisfaction': 80.0}, {'customer_nr': 2, 'waiting_time': 10.0, 'order_status': 0, 'satisfaction': 80.0}, {'customer_nr': 3, 'waiting_time': 5.0, 'order_status': 0, 'satisfaction': 90.0}, {'customer_nr': 4, 'waiting_time': 5.0, 'order_status': 0, 'satisfaction': 90.0}, {'customer_nr': 5, 'waiting_time': 5.0, 'order_status': 0, 'satisfaction': 90.0}, {'customer_nr': 6, 'waiting_time': 5.0, 'order_status': 0, 'satisfaction': 90.0}, {'customer_nr': 7, 'waiting_time': 0.0, 'order_status': 0, 'satisfaction': 100.0}, {'customer_nr': 8, 'waiting_time': 0.0, 'order_status': 0, 'satisfaction': 100.0}, {'customer_nr': 9, 'waiting_time': 0.0, 'order_status': 0, 'satisfaction': 100.0}, {'customer_nr': 10, 'waiting_time': 0, 'order_status': 0, 'satisfaction': 100}]}, {'RunId': 2, 'iteration': 2, 'Step': 4, 'n_waiters': 2, 'grid_width': 50, 'grid_height': 50, 'Customer_Count': 13, 'Average_Wait_Time': np.float64(6.538461538461538), 'Average_Customer_Satisfaction': np.float64(86.92307692307692), 'Profit': np.float64(0.0), 'Customer_Info': [{'customer_nr': 0, 'waiting_time': 0.0, 'order_status': 3, 'satisfaction': 100.0}, {'customer_nr': 1, 'waiting_time': 15.0, 'order_status': 0, 'satisfaction': 70.0}, {'customer_nr': 2, 'waiting_time': 15.0, 'order_status': 0, 'satisfaction': 70.0}, {'customer_nr': 3, 'waiting_time': 10.0, 'order_status': 0, 'satisfaction': 80.0}, {'customer_nr': 4, 'waiting_time': 10.0, 'order_status': 0, 'satisfaction': 80.0}, {'customer_nr': 5, 'waiting_time': 10.0, 'order_status': 0, 'satisfaction': 80.0}, {'customer_nr': 6, 'waiting_time': 10.0, 'order_status': 0, 'satisfaction': 80.0}, {'customer_nr': 7, 'waiting_time': 5.0, 'order_status': 0, 'satisfaction': 90.0}, {'customer_nr': 8, 'waiting_time': 5.0, 'order_status': 0, 'satisfaction': 90.0}, {'customer_nr': 9, 'waiting_time': 5.0, 'order_status': 0, 'satisfaction': 90.0}, {'customer_nr': 10, 'waiting_time': 0.0, 'order_status': 0, 'satisfaction': 100.0}, {'customer_nr': 11, 'waiting_time': 0, 'order_status': 0, 'satisfaction': 100}, {'customer_nr': 12, 'waiting_time': 0, 'order_status': 0, 'satisfaction': 100}]}, {'RunId': 2, 'iteration': 2, 'Step': 5, 'n_waiters': 2, 'grid_width': 50, 'grid_height': 50, 'Customer_Count': 16, 'Average_Wait_Time': np.float64(8.4375), 'Average_Customer_Satisfaction': np.float64(83.125), 'Profit': np.float64(0.0), 'Customer_Info': [{'customer_nr': 0, 'waiting_time': 0.0, 'order_status': 3, 'satisfaction': 100.0}, {'customer_nr': 1, 'waiting_time': 20.0, 'order_status': 0, 'satisfaction': 60.0}, {'customer_nr': 2, 'waiting_time': 20.0, 'order_status': 0, 'satisfaction': 60.0}, {'customer_nr': 3, 'waiting_time': 15.0, 'order_status': 0, 'satisfaction': 70.0}, {'customer_nr': 4, 'waiting_time': 15.0, 'order_status': 0, 'satisfaction': 70.0}, {'customer_nr': 5, 'waiting_time': 15.0, 'order_status': 0, 'satisfaction': 70.0}, {'customer_nr': 6, 'waiting_time': 15.0, 'order_status': 0, 'satisfaction': 70.0}, {'customer_nr': 7, 'waiting_time': 10.0, 'order_status': 0, 'satisfaction': 80.0}, {'customer_nr': 8, 'waiting_time': 10.0, 'order_status': 0, 'satisfaction': 80.0}, {'customer_nr': 9, 'waiting_time': 10.0, 'order_status': 0, 'satisfaction': 80.0}, {'customer_nr': 10, 'waiting_time': 5.0, 'order_status': 0, 'satisfaction': 90.0}, {'customer_nr': 11, 'waiting_time': 0.0, 'order_status': 0, 'satisfaction': 100.0}, {'customer_nr': 12, 'waiting_time': 0.0, 'order_status': 0, 'satisfaction': 100.0}, {'customer_nr': 13, 'waiting_time': 0, 'order_status': 0, 'satisfaction': 100}, {'customer_nr': 14, 'waiting_time': 0, 'order_status': 0, 'satisfaction': 100}, {'customer_nr': 15, 'waiting_time': 0, 'order_status': 0, 'satisfaction': 100}]}, {'RunId': 2, 'iteration': 2, 'Step': 6, 'n_waiters': 2, 'grid_width': 50, 'grid_height': 50, 'Customer_Count': 19, 'Average_Wait_Time': np.float64(10.263157894736842), 'Average_Customer_Satisfaction': np.float64(79.47368421052632), 'Profit': np.float64(0.0), 'Customer_Info': [{'customer_nr': 0, 'waiting_time': 0.0, 'order_status': 3, 'satisfaction': 100.0}, {'customer_nr': 1, 'waiting_time': 25.0, 'order_status': 0, 'satisfaction': 50.0}, {'customer_nr': 2, 'waiting_time': 25.0, 'order_status': 0, 'satisfaction': 50.0}, {'customer_nr': 3, 'waiting_time': 20.0, 'order_status': 0, 'satisfaction': 60.0}, {'customer_nr': 4, 'waiting_time': 20.0, 'order_status': 0, 'satisfaction': 60.0}, {'customer_nr': 5, 'waiting_time': 20.0, 'order_status': 0, 'satisfaction': 60.0}, {'customer_nr': 6, 'waiting_time': 20.0, 'order_status': 0, 'satisfaction': 60.0}, {'customer_nr': 7, 'waiting_time': 15.0, 'order_status': 0, 'satisfaction': 70.0}, {'customer_nr': 8, 'waiting_time': 15.0, 'order_status': 0, 'satisfaction': 70.0}, {'customer_nr': 9, 'waiting_time': 15.0, 'order_status': 0, 'satisfaction': 70.0}, {'customer_nr': 10, 'waiting_time': 10.0, 'order_status': 0, 'satisfaction': 80.0}, {'customer_nr': 11, 'waiting_time': 5.0, 'order_status': 0, 'satisfaction': 90.0}, {'customer_nr': 12, 'waiting_time': 5.0, 'order_status': 0, 'satisfaction': 90.0}, {'customer_nr': 13, 'waiting_time': 0.0, 'order_status': 0, 'satisfaction': 100.0}, {'customer_nr': 14, 'waiting_time': 0.0, 'order_status': 0, 'satisfaction': 100.0}, {'customer_nr': 15, 'waiting_time': 0.0, 'order_status': 0, 'satisfaction': 100.0}, {'customer_nr': 16, 'waiting_time': 0, 'order_status': 0, 'satisfaction': 100}, {'customer_nr': 17, 'waiting_time': 0, 'order_status': 0, 'satisfaction': 100}, {'customer_nr': 18, 'waiting_time': 0, 'order_status': 0, 'satisfaction': 100}]}, {'RunId': 2, 'iteration': 2, 'Step': 7, 'n_waiters': 2, 'grid_width': 50, 'grid_height': 50, 'Customer_Count': 21, 'Average_Wait_Time': np.float64(12.857142857142858), 'Average_Customer_Satisfaction': np.float64(74.28571428571429), 'Profit': np.float64(0.0), 'Customer_Info': [{'customer_nr': 0, 'waiting_time': 0.0, 'order_status': 3, 'satisfaction': 100.0}, {'customer_nr': 1, 'waiting_time': 30.0, 'order_status': 0, 'satisfaction': 40.0}, {'customer_nr': 2, 'waiting_time': 30.0, 'order_status': 0, 'satisfaction': 40.0}, {'customer_nr': 3, 'waiting_time': 25.0, 'order_status': 0, 'satisfaction': 50.0}, {'customer_nr': 4, 'waiting_time': 25.0, 'order_status': 0, 'satisfaction': 50.0}, {'customer_nr': 5, 'waiting_time': 25.0, 'order_status': 0, 'satisfaction': 50.0}, {'customer_nr': 6, 'waiting_time': 25.0, 'order_status': 0, 'satisfaction': 50.0}, {'customer_nr': 7, 'waiting_time': 20.0, 'order_status': 0, 'satisfaction': 60.0}, {'customer_nr': 8, 'waiting_time': 20.0, 'order_status': 0, 'satisfaction': 60.0}, {'customer_nr': 9, 'waiting_time': 20.0, 'order_status': 0, 'satisfaction': 60.0}, {'customer_nr': 10, 'waiting_time': 15.0, 'order_status': 0, 'satisfaction': 70.0}, {'customer_nr': 11, 'waiting_time': 10.0, 'order_status': 0, 'satisfaction': 80.0}, {'customer_nr': 12, 'waiting_time': 10.0, 'order_status': 0, 'satisfaction': 80.0}, {'customer_nr': 13, 'waiting_time': 5.0, 'order_status': 0, 'satisfaction': 90.0}, {'customer_nr': 14, 'waiting_time': 5.0, 'order_status': 0, 'satisfaction': 90.0}, {'customer_nr': 15, 'waiting_time': 5.0, 'order_status': 0, 'satisfaction': 90.0}, {'customer_nr': 16, 'waiting_time': 0.0, 'order_status': 0, 'satisfaction': 100.0}, {'customer_nr': 17, 'waiting_time': 0.0, 'order_status': 0, 'satisfaction': 100.0}, {'customer_nr': 18, 'waiting_time': 0.0, 'order_status': 0, 'satisfaction': 100.0}, {'customer_nr': 19, 'waiting_time': 0, 'order_status': 0, 'satisfaction': 100}, {'customer_nr': 20, 'waiting_time': 0, 'order_status': 0, 'satisfaction': 100}]}, {'RunId': 2, 'iteration': 2, 'Step': 8, 'n_waiters': 2, 'grid_width': 50, 'grid_height': 50, 'Customer_Count': 23, 'Average_Wait_Time': np.float64(15.652173913043478), 'Average_Customer_Satisfaction': np.float64(68.69565217391305), 'Profit': np.float64(0.0), 'Customer_Info': [{'customer_nr': 0, 'waiting_time': 0.0, 'order_status': 3, 'satisfaction': 100.0}, {'customer_nr': 1, 'waiting_time': 35.0, 'order_status': 0, 'satisfaction': 30.0}, {'customer_nr': 2, 'waiting_time': 35.0, 'order_status': 0, 'satisfaction': 30.0}, {'customer_nr': 3, 'waiting_time': 30.0, 'order_status': 0, 'satisfaction': 40.0}, {'customer_nr': 4, 'waiting_time': 30.0, 'order_status': 0, 'satisfaction': 40.0}, {'customer_nr': 5, 'waiting_time': 30.0, 'order_status': 0, 'satisfaction': 40.0}, {'customer_nr': 6, 'waiting_time': 30.0, 'order_status': 0, 'satisfaction': 40.0}, {'customer_nr': 7, 'waiting_time': 25.0, 'order_status': 0, 'satisfaction': 50.0}, {'customer_nr': 8, 'waiting_time': 25.0, 'order_status': 0, 'satisfaction': 50.0}, {'customer_nr': 9, 'waiting_time': 25.0, 'order_status': 0, 'satisfaction': 50.0}, {'customer_nr': 10, 'waiting_time': 20.0, 'order_status': 0, 'satisfaction': 60.0}, {'customer_nr': 11, 'waiting_time': 15.0, 'order_status': 0, 'satisfaction': 70.0}, {'customer_nr': 12, 'waiting_time': 15.0, 'order_status': 0, 'satisfaction': 70.0}, {'customer_nr': 13, 'waiting_time': 10.0, 'order_status': 0, 'satisfaction': 80.0}, {'customer_nr': 14, 'waiting_time': 10.0, 'order_status': 0, 'satisfaction': 80.0}, {'customer_nr': 15, 'waiting_time': 10.0, 'order_status': 0, 'satisfaction': 80.0}, {'customer_nr': 16, 'waiting_time': 5.0, 'order_status': 0, 'satisfaction': 90.0}, {'customer_nr': 17, 'waiting_time': 5.0, 'order_status': 0, 'satisfaction': 90.0}, {'customer_nr': 18, 'waiting_time': 5.0, 'order_status': 0, 'satisfaction': 90.0}, {'customer_nr': 19, 'waiting_time': 0.0, 'order_status': 0, 'satisfaction': 100.0}, {'customer_nr': 20, 'waiting_time': 0.0, 'order_status': 0, 'satisfaction': 100.0}, {'customer_nr': 21, 'waiting_time': 0, 'order_status': 0, 'satisfaction': 100}, {'customer_nr': 22, 'waiting_time': 0, 'order_status': 0, 'satisfaction': 100}]}, {'RunId': 2, 'iteration': 2, 'Step': 9, 'n_waiters': 2, 'grid_width': 50, 'grid_height': 50, 'Customer_Count': 24, 'Average_Wait_Time': np.float64(19.166666666666668), 'Average_Customer_Satisfaction': np.float64(61.666666666666664), 'Profit': np.float64(0.0), 'Customer_Info': [{'customer_nr': 0, 'waiting_time': 0.0, 'order_status': 3, 'satisfaction': 100.0}, {'customer_nr': 1, 'waiting_time': 40.0, 'order_status': 0, 'satisfaction': 20.0}, {'customer_nr': 2, 'waiting_time': 40.0, 'order_status': 0, 'satisfaction': 20.0}, {'customer_nr': 3, 'waiting_time': 35.0, 'order_status': 0, 'satisfaction': 30.0}, {'customer_nr': 4, 'waiting_time': 35.0, 'order_status': 0, 'satisfaction': 30.0}, {'customer_nr': 5, 'waiting_time': 35.0, 'order_status': 0, 'satisfaction': 30.0}, {'customer_nr': 6, 'waiting_time': 35.0, 'order_status': 0, 'satisfaction': 30.0}, {'customer_nr': 7, 'waiting_time': 30.0, 'order_status': 0, 'satisfaction': 40.0}, {'customer_nr': 8, 'waiting_time': 30.0, 'order_status': 0, 'satisfaction': 40.0}, {'customer_nr': 9, 'waiting_time': 30.0, 'order_status': 0, 'satisfaction': 40.0}, {'customer_nr': 10, 'waiting_time': 25.0, 'order_status': 0, 'satisfaction': 50.0}, {'customer_nr': 11, 'waiting_time': 20.0, 'order_status': 0, 'satisfaction': 60.0}, {'customer_nr': 12, 'waiting_time': 20.0, 'order_status': 0, 'satisfaction': 60.0}, {'customer_nr': 13, 'waiting_time': 15.0, 'order_status': 0, 'satisfaction': 70.0}, {'customer_nr': 14, 'waiting_time': 15.0, 'order_status': 0, 'satisfaction': 70.0}, {'customer_nr': 15, 'waiting_time': 15.0, 'order_status': 0, 'satisfaction': 70.0}, {'customer_nr': 16, 'waiting_time': 10.0, 'order_status': 0, 'satisfaction': 80.0}, {'customer_nr': 17, 'waiting_time': 10.0, 'order_status': 0, 'satisfaction': 80.0}, {'customer_nr': 18, 'waiting_time': 10.0, 'order_status': 0, 'satisfaction': 80.0}, {'customer_nr': 19, 'waiting_time': 5.0, 'order_status': 0, 'satisfaction': 90.0}, {'customer_nr': 20, 'waiting_time': 5.0, 'order_status': 0, 'satisfaction': 90.0}, {'customer_nr': 21, 'waiting_time': 0.0, 'order_status': 0, 'satisfaction': 100.0}, {'customer_nr': 22, 'waiting_time': 0.0, 'order_status': 0, 'satisfaction': 100.0}, {'customer_nr': 23, 'waiting_time': 0, 'order_status': 0, 'satisfaction': 100}]}, {'RunId': 2, 'iteration': 2, 'Step': 10, 'n_waiters': 2, 'grid_width': 50, 'grid_height': 50, 'Customer_Count': 27, 'Average_Wait_Time': np.float64(21.11111111111111), 'Average_Customer_Satisfaction': np.float64(57.77777777777778), 'Profit': np.float64(0.0), 'Customer_Info': [{'customer_nr': 0, 'waiting_time': 0.0, 'order_status': 3, 'satisfaction': 100.0}, {'customer_nr': 1, 'waiting_time': 45.0, 'order_status': 0, 'satisfaction': 10.0}, {'customer_nr': 2, 'waiting_time': 45.0, 'order_status': 0, 'satisfaction': 10.0}, {'customer_nr': 3, 'waiting_time': 40.0, 'order_status': 0, 'satisfaction': 20.0}, {'customer_nr': 4, 'waiting_time': 40.0, 'order_status': 0, 'satisfaction': 20.0}, {'customer_nr': 5, 'waiting_time': 40.0, 'order_status': 0, 'satisfaction': 20.0}, {'customer_nr': 6, 'waiting_time': 40.0, 'order_status': 0, 'satisfaction': 20.0}, {'customer_nr': 7, 'waiting_time': 35.0, 'order_status': 0, 'satisfaction': 30.0}, {'customer_nr': 8, 'waiting_time': 35.0, 'order_status': 0, 'satisfaction': 30.0}, {'customer_nr': 9, 'waiting_time': 35.0, 'order_status': 0, 'satisfaction': 30.0}, {'customer_nr': 10, 'waiting_time': 30.0, 'order_status': 0, 'satisfaction': 40.0}, {'customer_nr': 11, 'waiting_time': 25.0, 'order_status': 0, 'satisfaction': 50.0}, {'customer_nr': 12, 'waiting_time': 25.0, 'order_status': 0, 'satisfaction': 50.0}, {'customer_nr': 13, 'waiting_time': 20.0, 'order_status': 0, 'satisfaction': 60.0}, {'customer_nr': 14, 'waiting_time': 20.0, 'order_status': 0, 'satisfaction': 60.0}, {'customer_nr': 15, 'waiting_time': 20.0, 'order_status': 0, 'satisfaction': 60.0}, {'customer_nr': 16, 'waiting_time': 15.0, 'order_status': 0, 'satisfaction': 70.0}, {'customer_nr': 17, 'waiting_time': 15.0, 'order_status': 0, 'satisfaction': 70.0}, {'customer_nr': 18, 'waiting_time': 15.0, 'order_status': 0, 'satisfaction': 70.0}, {'customer_nr': 19, 'waiting_time': 10.0, 'order_status': 0, 'satisfaction': 80.0}, {'customer_nr': 20, 'waiting_time': 10.0, 'order_status': 0, 'satisfaction': 80.0}, {'customer_nr': 21, 'waiting_time': 5.0, 'order_status': 0, 'satisfaction': 90.0}, {'customer_nr': 22, 'waiting_time': 5.0, 'order_status': 0, 'satisfaction': 90.0}, {'customer_nr': 23, 'waiting_time': 0.0, 'order_status': 0, 'satisfaction': 100.0}, {'customer_nr': 24, 'waiting_time': 0, 'order_status': 0, 'satisfaction': 100}, {'customer_nr': 25, 'waiting_time': 0, 'order_status': 0, 'satisfaction': 100}, {'customer_nr': 26, 'waiting_time': 0, 'order_status': 0, 'satisfaction': 100}]}, {'RunId': 3, 'iteration': 3, 'Step': 0, 'n_waiters': 2, 'grid_width': 50, 'grid_height': 50, 'Customer_Count': 1, 'Average_Wait_Time': np.float64(0.0), 'Average_Customer_Satisfaction': np.float64(100.0), 'Profit': np.float64(0.0), 'Customer_Info': [{'customer_nr': 0, 'waiting_time': 0, 'order_status': 0, 'satisfaction': 100}]}, {'RunId': 3, 'iteration': 3, 'Step': 1, 'n_waiters': 2, 'grid_width': 50, 'grid_height': 50, 'Customer_Count': 4, 'Average_Wait_Time': np.float64(0.0), 'Average_Customer_Satisfaction': np.float64(100.0), 'Profit': np.float64(0.0), 'Customer_Info': [{'customer_nr': 0, 'waiting_time': 0.0, 'order_status': 1, 'satisfaction': 100.0}, {'customer_nr': 1, 'waiting_time': 0, 'order_status': 0, 'satisfaction': 100}, {'customer_nr': 2, 'waiting_time': 0, 'order_status': 0, 'satisfaction': 100}, {'customer_nr': 3, 'waiting_time': 0, 'order_status': 0, 'satisfaction': 100}]}, {'RunId': 3, 'iteration': 3, 'Step': 2, 'n_waiters': 2, 'grid_width': 50, 'grid_height': 50, 'Customer_Count': 5, 'Average_Wait_Time': np.float64(0.0), 'Average_Customer_Satisfaction': np.float64(100.0), 'Profit': np.float64(0.0), 'Customer_Info': [{'customer_nr': 0, 'waiting_time': 0.0, 'order_status': 3, 'satisfaction': 100.0}, {'customer_nr': 1, 'waiting_time': 0.0, 'order_status': 0, 'satisfaction': 100.0}, {'customer_nr': 2, 'waiting_time': 0.0, 'order_status': 0, 'satisfaction': 100.0}, {'customer_nr': 3, 'waiting_time': 0.0, 'order_status': 0, 'satisfaction': 100.0}, {'customer_nr': 4, 'waiting_time': 0, 'order_status': 0, 'satisfaction': 100}]}, {'RunId': 3, 'iteration': 3, 'Step': 3, 'n_waiters': 2, 'grid_width': 50, 'grid_height': 50, 'Customer_Count': 11, 'Average_Wait_Time': np.float64(1.3636363636363635), 'Average_Customer_Satisfaction': np.float64(97.27272727272727), 'Profit': np.float64(0.0), 'Customer_Info': [{'customer_nr': 0, 'waiting_time': 0.0, 'order_status': 3, 'satisfaction': 100.0}, {'customer_nr': 1, 'waiting_time': 5.0, 'order_status': 0, 'satisfaction': 90.0}, {'customer_nr': 2, 'waiting_time': 5.0, 'order_status': 0, 'satisfaction': 90.0}, {'customer_nr': 3, 'waiting_time': 5.0, 'order_status': 0, 'satisfaction': 90.0}, {'customer_nr': 4, 'waiting_time': 0.0, 'order_status': 0, 'satisfaction': 100.0}, {'customer_nr': 5, 'waiting_time': 0, 'order_status': 0, 'satisfaction': 100}, {'customer_nr': 6, 'waiting_time': 0, 'order_status': 0, 'satisfaction': 100}, {'customer_nr': 7, 'waiting_time': 0, 'order_status': 0, 'satisfaction': 100}, {'customer_nr': 8, 'waiting_time': 0, 'order_status': 0, 'satisfaction': 100}, {'customer_nr': 9, 'waiting_time': 0, 'order_status': 0, 'satisfaction': 100}, {'customer_nr': 10, 'waiting_time': 0, 'order_status': 0, 'satisfaction': 100}]}, {'RunId': 3, 'iteration': 3, 'Step': 4, 'n_waiters': 2, 'grid_width': 50, 'grid_height': 50, 'Customer_Count': 14, 'Average_Wait_Time': np.float64(2.5), 'Average_Customer_Satisfaction': np.float64(95.0), 'Profit': np.float64(0.0), 'Customer_Info': [{'customer_nr': 0, 'waiting_time': 0.0, 'order_status': 3, 'satisfaction': 100.0}, {'customer_nr': 1, 'waiting_time': 10.0, 'order_status': 0, 'satisfaction': 80.0}, {'customer_nr': 2, 'waiting_time': 10.0, 'order_status': 0, 'satisfaction': 80.0}, {'customer_nr': 3, 'waiting_time': 10.0, 'order_status': 0, 'satisfaction': 80.0}, {'customer_nr': 4, 'waiting_time': 5.0, 'order_status': 0, 'satisfaction': 90.0}, {'customer_nr': 5, 'waiting_time': 0.0, 'order_status': 0, 'satisfaction': 100.0}, {'customer_nr': 6, 'waiting_time': 0.0, 'order_status': 0, 'satisfaction': 100.0}, {'customer_nr': 7, 'waiting_time': 0.0, 'order_status': 0, 'satisfaction': 100.0}, {'customer_nr': 8, 'waiting_time': 0.0, 'order_status': 0, 'satisfaction': 100.0}, {'customer_nr': 9, 'waiting_time': 0.0, 'order_status': 0, 'satisfaction': 100.0}, {'customer_nr': 10, 'waiting_time': 0.0, 'order_status': 0, 'satisfaction': 100.0}, {'customer_nr': 11, 'waiting_time': 0, 'order_status': 0, 'satisfaction': 100}, {'customer_nr': 12, 'waiting_time': 0, 'order_status': 0, 'satisfaction': 100}, {'customer_nr': 13, 'waiting_time': 0, 'order_status': 0, 'satisfaction': 100}]}, {'RunId': 3, 'iteration': 3, 'Step': 5, 'n_waiters': 2, 'grid_width': 50, 'grid_height': 50, 'Customer_Count': 15, 'Average_Wait_Time': np.float64(5.666666666666667), 'Average_Customer_Satisfaction': np.float64(88.66666666666667), 'Profit': np.float64(0.0), 'Customer_Info': [{'customer_nr': 0, 'waiting_time': 0.0, 'order_status': 3, 'satisfaction': 100.0}, {'customer_nr': 1, 'waiting_time': 15.0, 'order_status': 0, 'satisfaction': 70.0}, {'customer_nr': 2, 'waiting_time': 15.0, 'order_status': 0, 'satisfaction': 70.0}, {'customer_nr': 3, 'waiting_time': 15.0, 'order_status': 0, 'satisfaction': 70.0}, {'customer_nr': 4, 'waiting_time': 10.0, 'order_status': 0, 'satisfaction': 80.0}, {'customer_nr': 5, 'waiting_time': 5.0, 'order_status': 0, 'satisfaction': 90.0}, {'customer_nr': 6, 'waiting_time': 5.0, 'order_status': 0, 'satisfaction': 90.0}, {'customer_nr': 7, 'waiting_time': 5.0, 'order_status': 0, 'satisfaction': 90.0}, {'customer_nr': 8, 'waiting_time': 5.0, 'order_status': 0, 'satisfaction': 90.0}, {'customer_nr': 9, 'waiting_time': 5.0, 'order_status': 0, 'satisfaction': 90.0}, {'customer_nr': 10, 'waiting_time': 5.0, 'order_status': 0, 'satisfaction': 90.0}, {'customer_nr': 11, 'waiting_time': 0.0, 'order_status': 0, 'satisfaction': 100.0}, {'customer_nr': 12, 'waiting_time': 0.0, 'order_status': 0, 'satisfaction': 100.0}, {'customer_nr': 13, 'waiting_time': 0.0, 'order_status': 0, 'satisfaction': 100.0}, {'customer_nr': 14, 'waiting_time': 0, 'order_status': 0, 'satisfaction': 100}]}, {'RunId': 3, 'iteration': 3, 'Step': 6, 'n_waiters': 2, 'grid_width': 50, 'grid_height': 50, 'Customer_Count': 17, 'Average_Wait_Time': np.float64(8.823529411764707), 'Average_Customer_Satisfaction': np.float64(82.3529411764706), 'Profit': np.float64(0.0), 'Customer_Info': [{'customer_nr': 0, 'waiting_time': 0.0, 'order_status': 3, 'satisfaction': 100.0}, {'customer_nr': 1, 'waiting_time': 20.0, 'order_status': 0, 'satisfaction': 60.0}, {'customer_nr': 2, 'waiting_time': 20.0, 'order_status': 0, 'satisfaction': 60.0}, {'customer_nr': 3, 'waiting_time': 20.0, 'order_status': 0, 'satisfaction': 60.0}, {'customer_nr': 4, 'waiting_time': 15.0, 'order_status': 0, 'satisfaction': 70.0}, {'customer_nr': 5, 'waiting_time': 10.0, 'order_status': 0, 'satisfaction': 80.0}, {'customer_nr': 6, 'waiting_time': 10.0, 'order_status': 0, 'satisfaction': 80.0}, {'customer_nr': 7, 'waiting_time': 10.0, 'order_status': 0, 'satisfaction': 80.0}, {'customer_nr': 8, 'waiting_time': 10.0, 'order_status': 0, 'satisfaction': 80.0}, {'customer_nr': 9, 'waiting_time': 10.0, 'order_status': 0, 'satisfaction': 80.0}, {'customer_nr': 10, 'waiting_time': 10.0, 'order_status': 0, 'satisfaction': 80.0}, {'customer_nr': 11, 'waiting_time': 5.0, 'order_status': 0, 'satisfaction': 90.0}, {'customer_nr': 12, 'waiting_time': 5.0, 'order_status': 0, 'satisfaction': 90.0}, {'customer_nr': 13, 'waiting_time': 5.0, 'order_status': 0, 'satisfaction': 90.0}, {'customer_nr': 14, 'waiting_time': 0.0, 'order_status': 0, 'satisfaction': 100.0}, {'customer_nr': 15, 'waiting_time': 0, 'order_status': 0, 'satisfaction': 100}, {'customer_nr': 16, 'waiting_time': 0, 'order_status': 0, 'satisfaction': 100}]}, {'RunId': 3, 'iteration': 3, 'Step': 7, 'n_waiters': 2, 'grid_width': 50, 'grid_height': 50, 'Customer_Count': 19, 'Average_Wait_Time': np.float64(11.578947368421053), 'Average_Customer_Satisfaction': np.float64(76.84210526315789), 'Profit': np.float64(0.0), 'Customer_Info': [{'customer_nr': 0, 'waiting_time': 0.0, 'order_status': 3, 'satisfaction': 100.0}, {'customer_nr': 1, 'waiting_time': 25.0, 'order_status': 0, 'satisfaction': 50.0}, {'customer_nr': 2, 'waiting_time': 25.0, 'order_status': 0, 'satisfaction': 50.0}, {'customer_nr': 3, 'waiting_time': 25.0, 'order_status': 0, 'satisfaction': 50.0}, {'customer_nr': 4, 'waiting_time': 20.0, 'order_status': 0, 'satisfaction': 60.0}, {'customer_nr': 5, 'waiting_time': 15.0, 'order_status': 0, 'satisfaction': 70.0}, {'customer_nr': 6, 'waiting_time': 15.0, 'order_status': 0, 'satisfaction': 70.0}, {'customer_nr': 7, 'waiting_time': 15.0, 'order_status': 0, 'satisfaction': 70.0}, {'customer_nr': 8, 'waiting_time': 15.0, 'order_status': 0, 'satisfaction': 70.0}, {'customer_nr': 9, 'waiting_time': 15.0, 'order_status': 0, 'satisfaction': 70.0}, {'customer_nr': 10, 'waiting_time': 15.0, 'order_status': 0, 'satisfaction': 70.0}, {'customer_nr': 11, 'waiting_time': 10.0, 'order_status': 0, 'satisfaction': 80.0}, {'customer_nr': 12, 'waiting_time': 10.0, 'order_status': 0, 'satisfaction': 80.0}, {'customer_nr': 13, 'waiting_time': 10.0, 'order_status': 0, 'satisfaction': 80.0}, {'customer_nr': 14, 'waiting_time': 5.0, 'order_status': 0, 'satisfaction': 90.0}, {'customer_nr': 15, 'waiting_time': 0.0, 'order_status': 0, 'satisfaction': 100.0}, {'customer_nr': 16, 'waiting_time': 0.0, 'order_status': 0, 'satisfaction': 100.0}, {'customer_nr': 17, 'waiting_time': 0, 'order_status': 0, 'satisfaction': 100}, {'customer_nr': 18, 'waiting_time': 0, 'order_status': 0, 'satisfaction': 100}]}, {'RunId': 3, 'iteration': 3, 'Step': 8, 'n_waiters': 2, 'grid_width': 50, 'grid_height': 50, 'Customer_Count': 21, 'Average_Wait_Time': np.float64(14.285714285714286), 'Average_Customer_Satisfaction': np.float64(71.42857142857143), 'Profit': np.float64(0.0), 'Customer_Info': [{'customer_nr': 0, 'waiting_time': 0.0, 'order_status': 3, 'satisfaction': 100.0}, {'customer_nr': 1, 'waiting_time': 30.0, 'order_status': 0, 'satisfaction': 40.0}, {'customer_nr': 2, 'waiting_time': 30.0, 'order_status': 0, 'satisfaction': 40.0}, {'customer_nr': 3, 'waiting_time': 30.0, 'order_status': 0, 'satisfaction': 40.0}, {'customer_nr': 4, 'waiting_time': 25.0, 'order_status': 0, 'satisfaction': 50.0}, {'customer_nr': 5, 'waiting_time': 20.0, 'order_status': 0, 'satisfaction': 60.0}, {'customer_nr': 6, 'waiting_time': 20.0, 'order_status': 0, 'satisfaction': 60.0}, {'customer_nr': 7, 'waiting_time': 20.0, 'order_status': 0, 'satisfaction': 60.0}, {'customer_nr': 8, 'waiting_time': 20.0, 'order_status': 0, 'satisfaction': 60.0}, {'customer_nr': 9, 'waiting_time': 20.0, 'order_status': 0, 'satisfaction': 60.0}, {'customer_nr': 10, 'waiting_time': 20.0, 'order_status': 0, 'satisfaction': 60.0}, {'customer_nr': 11, 'waiting_time': 15.0, 'order_status': 0, 'satisfaction': 70.0}, {'customer_nr': 12, 'waiting_time': 15.0, 'order_status': 0, 'satisfaction': 70.0}, {'customer_nr': 13, 'waiting_time': 15.0, 'order_status': 0, 'satisfaction': 70.0}, {'customer_nr': 14, 'waiting_time': 10.0, 'order_status': 0, 'satisfaction': 80.0}, {'customer_nr': 15, 'waiting_time': 5.0, 'order_status': 0, 'satisfaction': 90.0}, {'customer_nr': 16, 'waiting_time': 5.0, 'order_status': 0, 'satisfaction': 90.0}, {'customer_nr': 17, 'waiting_time': 0.0, 'order_status': 0, 'satisfaction': 100.0}, {'customer_nr': 18, 'waiting_time': 0.0, 'order_status': 0, 'satisfaction': 100.0}, {'customer_nr': 19, 'waiting_time': 0, 'order_status': 0, 'satisfaction': 100}, {'customer_nr': 20, 'waiting_time': 0, 'order_status': 0, 'satisfaction': 100}]}, {'RunId': 3, 'iteration': 3, 'Step': 9, 'n_waiters': 2, 'grid_width': 50, 'grid_height': 50, 'Customer_Count': 22, 'Average_Wait_Time': np.float64(17.727272727272727), 'Average_Customer_Satisfaction': np.float64(64.54545454545455), 'Profit': np.float64(0.0), 'Customer_Info': [{'customer_nr': 0, 'waiting_time': 0.0, 'order_status': 3, 'satisfaction': 100.0}, {'customer_nr': 1, 'waiting_time': 35.0, 'order_status': 0, 'satisfaction': 30.0}, {'customer_nr': 2, 'waiting_time': 35.0, 'order_status': 0, 'satisfaction': 30.0}, {'customer_nr': 3, 'waiting_time': 35.0, 'order_status': 0, 'satisfaction': 30.0}, {'customer_nr': 4, 'waiting_time': 30.0, 'order_status': 0, 'satisfaction': 40.0}, {'customer_nr': 5, 'waiting_time': 25.0, 'order_status': 0, 'satisfaction': 50.0}, {'customer_nr': 6, 'waiting_time': 25.0, 'order_status': 0, 'satisfaction': 50.0}, {'customer_nr': 7, 'waiting_time': 25.0, 'order_status': 0, 'satisfaction': 50.0}, {'customer_nr': 8, 'waiting_time': 25.0, 'order_status': 0, 'satisfaction': 50.0}, {'customer_nr': 9, 'waiting_time': 25.0, 'order_status': 0, 'satisfaction': 50.0}, {'customer_nr': 10, 'waiting_time': 25.0, 'order_status': 0, 'satisfaction': 50.0}, {'customer_nr': 11, 'waiting_time': 20.0, 'order_status': 0, 'satisfaction': 60.0}, {'customer_nr': 12, 'waiting_time': 20.0, 'order_status': 0, 'satisfaction': 60.0}, {'customer_nr': 13, 'waiting_time': 20.0, 'order_status': 0, 'satisfaction': 60.0}, {'customer_nr': 14, 'waiting_time': 15.0, 'order_status': 0, 'satisfaction': 70.0}, {'customer_nr': 15, 'waiting_time': 10.0, 'order_status': 0, 'satisfaction': 80.0}, {'customer_nr': 16, 'waiting_time': 10.0, 'order_status': 0, 'satisfaction': 80.0}, {'customer_nr': 17, 'waiting_time': 5.0, 'order_status': 0, 'satisfaction': 90.0}, {'customer_nr': 18, 'waiting_time': 5.0, 'order_status': 0, 'satisfaction': 90.0}, {'customer_nr': 19, 'waiting_time': 0.0, 'order_status': 0, 'satisfaction': 100.0}, {'customer_nr': 20, 'waiting_time': 0.0, 'order_status': 0, 'satisfaction': 100.0}, {'customer_nr': 21, 'waiting_time': 0, 'order_status': 0, 'satisfaction': 100}]}, {'RunId': 3, 'iteration': 3, 'Step': 10, 'n_waiters': 2, 'grid_width': 50, 'grid_height': 50, 'Customer_Count': 28, 'Average_Wait_Time': np.float64(17.5), 'Average_Customer_Satisfaction': np.float64(65.0), 'Profit': np.float64(0.0), 'Customer_Info': [{'customer_nr': 0, 'waiting_time': 0.0, 'order_status': 3, 'satisfaction': 100.0}, {'customer_nr': 1, 'waiting_time': 40.0, 'order_status': 0, 'satisfaction': 20.0}, {'customer_nr': 2, 'waiting_time': 40.0, 'order_status': 0, 'satisfaction': 20.0}, {'customer_nr': 3, 'waiting_time': 40.0, 'order_status': 0, 'satisfaction': 20.0}, {'customer_nr': 4, 'waiting_time': 35.0, 'order_status': 0, 'satisfaction': 30.0}, {'customer_nr': 5, 'waiting_time': 30.0, 'order_status': 0, 'satisfaction': 40.0}, {'customer_nr': 6, 'waiting_time': 30.0, 'order_status': 0, 'satisfaction': 40.0}, {'customer_nr': 7, 'waiting_time': 30.0, 'order_status': 0, 'satisfaction': 40.0}, {'customer_nr': 8, 'waiting_time': 30.0, 'order_status': 0, 'satisfaction': 40.0}, {'customer_nr': 9, 'waiting_time': 30.0, 'order_status': 0, 'satisfaction': 40.0}, {'customer_nr': 10, 'waiting_time': 30.0, 'order_status': 0, 'satisfaction': 40.0}, {'customer_nr': 11, 'waiting_time': 25.0, 'order_status': 0, 'satisfaction': 50.0}, {'customer_nr': 12, 'waiting_time': 25.0, 'order_status': 0, 'satisfaction': 50.0}, {'customer_nr': 13, 'waiting_time': 25.0, 'order_status': 0, 'satisfaction': 50.0}, {'customer_nr': 14, 'waiting_time': 20.0, 'order_status': 0, 'satisfaction': 60.0}, {'customer_nr': 15, 'waiting_time': 15.0, 'order_status': 0, 'satisfaction': 70.0}, {'customer_nr': 16, 'waiting_time': 15.0, 'order_status': 0, 'satisfaction': 70.0}, {'customer_nr': 17, 'waiting_time': 10.0, 'order_status': 0, 'satisfaction': 80.0}, {'customer_nr': 18, 'waiting_time': 10.0, 'order_status': 0, 'satisfaction': 80.0}, {'customer_nr': 19, 'waiting_time': 5.0, 'order_status': 0, 'satisfaction': 90.0}, {'customer_nr': 20, 'waiting_time': 5.0, 'order_status': 0, 'satisfaction': 90.0}, {'customer_nr': 21, 'waiting_time': 0.0, 'order_status': 0, 'satisfaction': 100.0}, {'customer_nr': 22, 'waiting_time': 0, 'order_status': 0, 'satisfaction': 100}, {'customer_nr': 23, 'waiting_time': 0, 'order_status': 0, 'satisfaction': 100}, {'customer_nr': 24, 'waiting_time': 0, 'order_status': 0, 'satisfaction': 100}, {'customer_nr': 25, 'waiting_time': 0, 'order_status': 0, 'satisfaction': 100}, {'customer_nr': 26, 'waiting_time': 0, 'order_status': 0, 'satisfaction': 100}, {'customer_nr': 27, 'waiting_time': 0, 'order_status': 0, 'satisfaction': 100}]}, {'RunId': 4, 'iteration': 4, 'Step': 0, 'n_waiters': 2, 'grid_width': 50, 'grid_height': 50, 'Customer_Count': 2, 'Average_Wait_Time': np.float64(0.0), 'Average_Customer_Satisfaction': np.float64(100.0), 'Profit': np.float64(0.0), 'Customer_Info': [{'customer_nr': 0, 'waiting_time': 0, 'order_status': 0, 'satisfaction': 100}, {'customer_nr': 1, 'waiting_time': 0, 'order_status': 0, 'satisfaction': 100}]}, {'RunId': 4, 'iteration': 4, 'Step': 1, 'n_waiters': 2, 'grid_width': 50, 'grid_height': 50, 'Customer_Count': 4, 'Average_Wait_Time': np.float64(0.0), 'Average_Customer_Satisfaction': np.float64(100.0), 'Profit': np.float64(0.0), 'Customer_Info': [{'customer_nr': 0, 'waiting_time': 0.0, 'order_status': 1, 'satisfaction': 100.0}, {'customer_nr': 1, 'waiting_time': 0.0, 'order_status': 0, 'satisfaction': 100.0}, {'customer_nr': 2, 'waiting_time': 0, 'order_status': 0, 'satisfaction': 100}, {'customer_nr': 3, 'waiting_time': 0, 'order_status': 0, 'satisfaction': 100}]}, {'RunId': 4, 'iteration': 4, 'Step': 2, 'n_waiters': 2, 'grid_width': 50, 'grid_height': 50, 'Customer_Count': 4, 'Average_Wait_Time': np.float64(2.5), 'Average_Customer_Satisfaction': np.float64(95.0), 'Profit': np.float64(0.0), 'Customer_Info': [{'customer_nr': 0, 'waiting_time': 5.0, 'order_status': 3, 'satisfaction': 90.0}, {'customer_nr': 1, 'waiting_time': 5.0, 'order_status': 0, 'satisfaction': 90.0}, {'customer_nr': 2, 'waiting_time': 0.0, 'order_status': 0, 'satisfaction': 100.0}, {'customer_nr': 3, 'waiting_time': 0.0, 'order_status': 0, 'satisfaction': 100.0}]}, {'RunId': 4, 'iteration': 4, 'Step': 3, 'n_waiters': 2, 'grid_width': 50, 'grid_height': 50, 'Customer_Count': 8, 'Average_Wait_Time': np.float64(3.125), 'Average_Customer_Satisfaction': np.float64(93.75), 'Profit': np.float64(0.0), 'Customer_Info': [{'customer_nr': 0, 'waiting_time': 5.0, 'order_status': 3, 'satisfaction': 90.0}, {'customer_nr': 1, 'waiting_time': 10.0, 'order_status': 0, 'satisfaction': 80.0}, {'customer_nr': 2, 'waiting_time': 5.0, 'order_status': 0, 'satisfaction': 90.0}, {'customer_nr': 3, 'waiting_time': 5.0, 'order_status': 0, 'satisfaction': 90.0}, {'customer_nr': 4, 'waiting_time': 0, 'order_status': 0, 'satisfaction': 100}, {'customer_nr': 5, 'waiting_time': 0, 'order_status': 0, 'satisfaction': 100}, {'customer_nr': 6, 'waiting_time': 0, 'order_status': 0, 'satisfaction': 100}, {'customer_nr': 7, 'waiting_time': 0, 'order_status': 0, 'satisfaction': 100}]}, {'RunId': 4, 'iteration': 4, 'Step': 4, 'n_waiters': 2, 'grid_width': 50, 'grid_height': 50, 'Customer_Count': 8, 'Average_Wait_Time': np.float64(5.0), 'Average_Customer_Satisfaction': np.float64(90.0), 'Profit': np.float64(0.0), 'Customer_Info': [{'customer_nr': 0, 'waiting_time': 5.0, 'order_status': 3, 'satisfaction': 90.0}, {'customer_nr': 1, 'waiting_time': 15.0, 'order_status': 0, 'satisfaction': 70.0}, {'customer_nr': 2, 'waiting_time': 10.0, 'order_status': 0, 'satisfaction': 80.0}, {'customer_nr': 3, 'waiting_time': 10.0, 'order_status': 0, 'satisfaction': 80.0}, {'customer_nr': 4, 'waiting_time': 0.0, 'order_status': 0, 'satisfaction': 100.0}, {'customer_nr': 5, 'waiting_time': 0.0, 'order_status': 0, 'satisfaction': 100.0}, {'customer_nr': 6, 'waiting_time': 0.0, 'order_status': 0, 'satisfaction': 100.0}, {'customer_nr': 7, 'waiting_time': 0.0, 'order_status': 0, 'satisfaction': 100.0}]}, {'RunId': 4, 'iteration': 4, 'Step': 5, 'n_waiters': 2, 'grid_width': 50, 'grid_height': 50, 'Customer_Count': 10, 'Average_Wait_Time': np.float64(7.5), 'Average_Customer_Satisfaction': np.float64(85.0), 'Profit': np.float64(0.0), 'Customer_Info': [{'customer_nr': 0, 'waiting_time': 5.0, 'order_status': 3, 'satisfaction': 90.0}, {'customer_nr': 1, 'waiting_time': 20.0, 'order_status': 0, 'satisfaction': 60.0}, {'customer_nr': 2, 'waiting_time': 15.0, 'order_status': 0, 'satisfaction': 70.0}, {'customer_nr': 3, 'waiting_time': 15.0, 'order_status': 0, 'satisfaction': 70.0}, {'customer_nr': 4, 'waiting_time': 5.0, 'order_status': 0, 'satisfaction': 90.0}, {'customer_nr': 5, 'waiting_time': 5.0, 'order_status': 0, 'satisfaction': 90.0}, {'customer_nr': 6, 'waiting_time': 5.0, 'order_status': 0, 'satisfaction': 90.0}, {'customer_nr': 7, 'waiting_time': 5.0, 'order_status': 0, 'satisfaction': 90.0}, {'customer_nr': 8, 'waiting_time': 0, 'order_status': 0, 'satisfaction': 100}, {'customer_nr': 9, 'waiting_time': 0, 'order_status': 0, 'satisfaction': 100}]}, {'RunId': 4, 'iteration': 4, 'Step': 6, 'n_waiters': 2, 'grid_width': 50, 'grid_height': 50, 'Customer_Count': 12, 'Average_Wait_Time': np.float64(9.166666666666666), 'Average_Customer_Satisfaction': np.float64(81.66666666666667), 'Profit': np.float64(0.0), 'Customer_Info': [{'customer_nr': 0, 'waiting_time': 5.0, 'order_status': 3, 'satisfaction': 90.0}, {'customer_nr': 1, 'waiting_time': 25.0, 'order_status': 0, 'satisfaction': 50.0}, {'customer_nr': 2, 'waiting_time': 20.0, 'order_status': 0, 'satisfaction': 60.0}, {'customer_nr': 3, 'waiting_time': 20.0, 'order_status': 0, 'satisfaction': 60.0}, {'customer_nr': 4, 'waiting_time': 10.0, 'order_status': 0, 'satisfaction': 80.0}, {'customer_nr': 5, 'waiting_time': 10.0, 'order_status': 0, 'satisfaction': 80.0}, {'customer_nr': 6, 'waiting_time': 10.0, 'order_status': 0, 'satisfaction': 80.0}, {'customer_nr': 7, 'waiting_time': 10.0, 'order_status': 0, 'satisfaction': 80.0}, {'customer_nr': 8, 'waiting_time': 0.0, 'order_status': 0, 'satisfaction': 100.0}, {'customer_nr': 9, 'waiting_time': 0.0, 'order_status': 0, 'satisfaction': 100.0}, {'customer_nr': 10, 'waiting_time': 0, 'order_status': 0, 'satisfaction': 100}, {'customer_nr': 11, 'waiting_time': 0, 'order_status': 0, 'satisfaction': 100}]}, {'RunId': 4, 'iteration': 4, 'Step': 7, 'n_waiters': 2, 'grid_width': 50, 'grid_height': 50, 'Customer_Count': 13, 'Average_Wait_Time': np.float64(11.923076923076923), 'Average_Customer_Satisfaction': np.float64(76.15384615384616), 'Profit': np.float64(0.0), 'Customer_Info': [{'customer_nr': 0, 'waiting_time': 5.0, 'order_status': 3, 'satisfaction': 90.0}, {'customer_nr': 1, 'waiting_time': 30.0, 'order_status': 0, 'satisfaction': 40.0}, {'customer_nr': 2, 'waiting_time': 25.0, 'order_status': 0, 'satisfaction': 50.0}, {'customer_nr': 3, 'waiting_time': 25.0, 'order_status': 0, 'satisfaction': 50.0}, {'customer_nr': 4, 'waiting_time': 15.0, 'order_status': 0, 'satisfaction': 70.0}, {'customer_nr': 5, 'waiting_time': 15.0, 'order_status': 0, 'satisfaction': 70.0}, {'customer_nr': 6, 'waiting_time': 15.0, 'order_status': 0, 'satisfaction': 70.0}, {'customer_nr': 7, 'waiting_time': 15.0, 'order_status': 0, 'satisfaction': 70.0}, {'customer_nr': 8, 'waiting_time': 5.0, 'order_status': 0, 'satisfaction': 90.0}, {'customer_nr': 9, 'waiting_time': 5.0, 'order_status': 0, 'satisfaction': 90.0}, {'customer_nr': 10, 'waiting_time': 0.0, 'order_status': 0, 'satisfaction': 100.0}, {'customer_nr': 11, 'waiting_time': 0.0, 'order_status': 0, 'satisfaction': 100.0}, {'customer_nr': 12, 'waiting_time': 0, 'order_status': 0, 'satisfaction': 100}]}, {'RunId': 4, 'iteration': 4, 'Step': 8, 'n_waiters': 2, 'grid_width': 50, 'grid_height': 50, 'Customer_Count': 16, 'Average_Wait_Time': np.float64(13.125), 'Average_Customer_Satisfaction': np.float64(73.75), 'Profit': np.float64(0.0), 'Customer_Info': [{'customer_nr': 0, 'waiting_time': 5.0, 'order_status': 3, 'satisfaction': 90.0}, {'customer_nr': 1, 'waiting_time': 35.0, 'order_status': 0, 'satisfaction': 30.0}, {'customer_nr': 2, 'waiting_time': 30.0, 'order_status': 0, 'satisfaction': 40.0}, {'customer_nr': 3, 'waiting_time': 30.0, 'order_status': 0, 'satisfaction': 40.0}, {'customer_nr': 4, 'waiting_time': 20.0, 'order_status': 0, 'satisfaction': 60.0}, {'customer_nr': 5, 'waiting_time': 20.0, 'order_status': 0, 'satisfaction': 60.0}, {'customer_nr': 6, 'waiting_time': 20.0, 'order_status': 0, 'satisfaction': 60.0}, {'customer_nr': 7, 'waiting_time': 20.0, 'order_status': 0, 'satisfaction': 60.0}, {'customer_nr': 8, 'waiting_time': 10.0, 'order_status': 0, 'satisfaction': 80.0}, {'customer_nr': 9, 'waiting_time': 10.0, 'order_status': 0, 'satisfaction': 80.0}, {'customer_nr': 10, 'waiting_time': 5.0, 'order_status': 0, 'satisfaction': 90.0}, {'customer_nr': 11, 'waiting_time': 5.0, 'order_status': 0, 'satisfaction': 90.0}, {'customer_nr': 12, 'waiting_time': 0.0, 'order_status': 0, 'satisfaction': 100.0}, {'customer_nr': 13, 'waiting_time': 0, 'order_status': 0, 'satisfaction': 100}, {'customer_nr': 14, 'waiting_time': 0, 'order_status': 0, 'satisfaction': 100}, {'customer_nr': 15, 'waiting_time': 0, 'order_status': 0, 'satisfaction': 100}]}, {'RunId': 4, 'iteration': 4, 'Step': 9, 'n_waiters': 2, 'grid_width': 50, 'grid_height': 50, 'Customer_Count': 17, 'Average_Wait_Time': np.float64(15.882352941176471), 'Average_Customer_Satisfaction': np.float64(68.23529411764706), 'Profit': np.float64(0.0), 'Customer_Info': [{'customer_nr': 0, 'waiting_time': 5.0, 'order_status': 3, 'satisfaction': 90.0}, {'customer_nr': 1, 'waiting_time': 40.0, 'order_status': 0, 'satisfaction': 20.0}, {'customer_nr': 2, 'waiting_time': 35.0, 'order_status': 0, 'satisfaction': 30.0}, {'customer_nr': 3, 'waiting_time': 35.0, 'order_status': 0, 'satisfaction': 30.0}, {'customer_nr': 4, 'waiting_time': 25.0, 'order_status': 0, 'satisfaction': 50.0}, {'customer_nr': 5, 'waiting_time': 25.0, 'order_status': 0, 'satisfaction': 50.0}, {'customer_nr': 6, 'waiting_time': 25.0, 'order_status': 0, 'satisfaction': 50.0}, {'customer_nr': 7, 'waiting_time': 25.0, 'order_status': 0, 'satisfaction': 50.0}, {'customer_nr': 8, 'waiting_time': 15.0, 'order_status': 0, 'satisfaction': 70.0}, {'customer_nr': 9, 'waiting_time': 15.0, 'order_status': 0, 'satisfaction': 70.0}, {'customer_nr': 10, 'waiting_time': 10.0, 'order_status': 0, 'satisfaction': 80.0}, {'customer_nr': 11, 'waiting_time': 10.0, 'order_status': 0, 'satisfaction': 80.0}, {'customer_nr': 12, 'waiting_time': 5.0, 'order_status': 0, 'satisfaction': 90.0}, {'customer_nr': 13, 'waiting_time': 0.0, 'order_status': 0, 'satisfaction': 100.0}, {'customer_nr': 14, 'waiting_time': 0.0, 'order_status': 0, 'satisfaction': 100.0}, {'customer_nr': 15, 'waiting_time': 0.0, 'order_status': 0, 'satisfaction': 100.0}, {'customer_nr': 16, 'waiting_time': 0, 'order_status': 0, 'satisfaction': 100}]}, {'RunId': 4, 'iteration': 4, 'Step': 10, 'n_waiters': 2, 'grid_width': 50, 'grid_height': 50, 'Customer_Count': 20, 'Average_Wait_Time': np.float64(17.25), 'Average_Customer_Satisfaction': np.float64(65.5), 'Profit': np.float64(0.0), 'Customer_Info': [{'customer_nr': 0, 'waiting_time': 5.0, 'order_status': 3, 'satisfaction': 90.0}, {'customer_nr': 1, 'waiting_time': 45.0, 'order_status': 0, 'satisfaction': 10.0}, {'customer_nr': 2, 'waiting_time': 40.0, 'order_status': 0, 'satisfaction': 20.0}, {'customer_nr': 3, 'waiting_time': 40.0, 'order_status': 0, 'satisfaction': 20.0}, {'customer_nr': 4, 'waiting_time': 30.0, 'order_status': 0, 'satisfaction': 40.0}, {'customer_nr': 5, 'waiting_time': 30.0, 'order_status': 0, 'satisfaction': 40.0}, {'customer_nr': 6, 'waiting_time': 30.0, 'order_status': 0, 'satisfaction': 40.0}, {'customer_nr': 7, 'waiting_time': 30.0, 'order_status': 0, 'satisfaction': 40.0}, {'customer_nr': 8, 'waiting_time': 20.0, 'order_status': 0, 'satisfaction': 60.0}, {'customer_nr': 9, 'waiting_time': 20.0, 'order_status': 0, 'satisfaction': 60.0}, {'customer_nr': 10, 'waiting_time': 15.0, 'order_status': 0, 'satisfaction': 70.0}, {'customer_nr': 11, 'waiting_time': 15.0, 'order_status': 0, 'satisfaction': 70.0}, {'customer_nr': 12, 'waiting_time': 10.0, 'order_status': 0, 'satisfaction': 80.0}, {'customer_nr': 13, 'waiting_time': 5.0, 'order_status': 0, 'satisfaction': 90.0}, {'customer_nr': 14, 'waiting_time': 5.0, 'order_status': 0, 'satisfaction': 90.0}, {'customer_nr': 15, 'waiting_time': 5.0, 'order_status': 0, 'satisfaction': 90.0}, {'customer_nr': 16, 'waiting_time': 0.0, 'order_status': 0, 'satisfaction': 100.0}, {'customer_nr': 17, 'waiting_time': 0, 'order_status': 0, 'satisfaction': 100}, {'customer_nr': 18, 'waiting_time': 0, 'order_status': 0, 'satisfaction': 100}, {'customer_nr': 19, 'waiting_time': 0, 'order_status': 0, 'satisfaction': 100}]}]\n"
     ]
    },
    {
     "name": "stderr",
     "output_type": "stream",
     "text": [
      "c:\\Users\\s.neumann\\AppData\\Local\\Programs\\Python\\Python312\\Lib\\site-packages\\numpy\\_core\\fromnumeric.py:3860: RuntimeWarning: Mean of empty slice.\n",
      "  return _methods._mean(a, axis=axis, dtype=dtype,\n",
      "c:\\Users\\s.neumann\\AppData\\Local\\Programs\\Python\\Python312\\Lib\\site-packages\\numpy\\_core\\_methods.py:145: RuntimeWarning: invalid value encountered in scalar divide\n",
      "  ret = ret.dtype.type(ret / rcount)\n"
     ]
    }
   ],
   "source": [
    "import mesa\n",
    "from mesa_restaurant_agents.model.restaurant_model import RestaurantModel\n",
    "\n",
    "params = {\"n_waiters\":2, \"grid_width\":50, \"grid_height\": 50}\n",
    "\n",
    "results = mesa.batch_run(\n",
    "    RestaurantModel,\n",
    "    parameters=params,\n",
    "    iterations=5,\n",
    "    max_steps=10,\n",
    "    number_processes=1,\n",
    "    data_collection_period=1,\n",
    "    display_progress=True,\n",
    ")\n",
    "print(results)"
   ]
  },
  {
   "cell_type": "code",
   "execution_count": 8,
   "metadata": {},
   "outputs": [
    {
     "data": {
      "text/plain": [
       "[Text(0.5, 1.0, 'number of agents on each cell of the grid')]"
      ]
     },
     "execution_count": 8,
     "metadata": {},
     "output_type": "execute_result"
    },
    {
     "data": {
      "image/png": "[encoded data removed]",
      "text/plain": [
       "<Figure size 500x500 with 1 Axes>"
      ]
     },
     "metadata": {},
     "output_type": "display_data"
    }
   ],
   "source": [
    "import seaborn as sns\n",
    "import numpy as np\n",
    "from mesa_restaurant_agents.agents.customer_agent import CustomerAgent\n",
    "from mesa_restaurant_agents.agents.manager_agent import ManagerAgent\n",
    "from mesa_restaurant_agents.agents.waiter_agent import WaiterAgent\n",
    "\n",
    "model = RestaurantModel(n_waiters=2, grid_width=10, grid_height=10)\n",
    "for i in range(10):\n",
    "    model.step()\n",
    "\n",
    "agents_position = np.zeros((model.grid.width, model.grid.height))\n",
    "for cell_content, (x, y) in model.grid.coord_iter():\n",
    "    if len(cell_content) > 0:\n",
    "        if isinstance(cell_content[0], CustomerAgent):\n",
    "            agents_position[x][y] = 5\n",
    "        elif isinstance(cell_content[0], WaiterAgent):\n",
    "            agents_position[x][y] = 10\n",
    "        else:\n",
    "            agents_position[x][y] = 20\n",
    "    else:\n",
    "        agents_position[x][y] = 0\n",
    "# Plot using seaborn, with a visual size of 5x5\n",
    "g = sns.heatmap(agents_position, cmap=\"viridis\", annot=True, cbar=False, square=True)\n",
    "g.figure.set_size_inches(5, 5)\n",
    "g.set(title=\"Visualization of agents in grid\")"
   ]
  },
  {
   "cell_type": "code",
   "execution_count": 3,
   "metadata": {},
   "outputs": [
    {
     "data": {
      "image/png": "[encoded data removed]",
      "text/plain": [
       "<Figure size 1500x1000 with 1 Axes>"
      ]
     },
     "metadata": {},
     "output_type": "display_data"
    },
    {
     "name": "stdout",
     "output_type": "stream",
     "text": [
      "None\n"
     ]
    },
    {
     "data": {
      "application/vnd.plotly.v1+json": {
       "config": {
        "plotlyServerURL": "https://plot.ly"
       },
       "data": [
        {
         "alignmentgroup": "True",
         "bingroup": "x",
         "histfunc": "sum",
         "hovertemplate": "customer_nr=0<br>step=%{x}<br>sum of waiting_time=%{y}<extra></extra>",
         "legendgroup": "0",
         "marker": {
          "color": "#636efa",
          "pattern": {
           "shape": ""
          }
         },
         "name": "0",
         "nbinsx": 9,
         "offsetgroup": "0",
         "orientation": "v",
         "showlegend": true,
         "type": "histogram",
         "x": [
          2,
          3,
          4,
          5,
          6,
          7,
          8,
          9,
          10
         ],
         "xaxis": "x",
         "y": [
          0,
          0,
          0,
          0,
          0,
          0,
          0,
          0,
          0
         ],
         "yaxis": "y"
        },
        {
         "alignmentgroup": "True",
         "bingroup": "x",
         "histfunc": "sum",
         "hovertemplate": "customer_nr=1<br>step=%{x}<br>sum of waiting_time=%{y}<extra></extra>",
         "legendgroup": "1",
         "marker": {
          "color": "#EF553B",
          "pattern": {
           "shape": ""
          }
         },
         "name": "1",
         "nbinsx": 9,
         "offsetgroup": "1",
         "orientation": "v",
         "showlegend": true,
         "type": "histogram",
         "x": [
          2,
          3,
          4,
          5,
          6,
          7,
          8,
          9,
          10
         ],
         "xaxis": "x",
         "y": [
          0,
          0,
          5,
          10,
          15,
          20,
          25,
          30,
          35
         ],
         "yaxis": "y"
        },
        {
         "alignmentgroup": "True",
         "bingroup": "x",
         "histfunc": "sum",
         "hovertemplate": "customer_nr=2<br>step=%{x}<br>sum of waiting_time=%{y}<extra></extra>",
         "legendgroup": "2",
         "marker": {
          "color": "#00cc96",
          "pattern": {
           "shape": ""
          }
         },
         "name": "2",
         "nbinsx": 9,
         "offsetgroup": "2",
         "orientation": "v",
         "showlegend": true,
         "type": "histogram",
         "x": [
          3,
          4,
          5,
          6,
          7,
          8,
          9,
          10
         ],
         "xaxis": "x",
         "y": [
          0,
          0,
          5,
          10,
          15,
          20,
          25,
          30
         ],
         "yaxis": "y"
        },
        {
         "alignmentgroup": "True",
         "bingroup": "x",
         "histfunc": "sum",
         "hovertemplate": "customer_nr=3<br>step=%{x}<br>sum of waiting_time=%{y}<extra></extra>",
         "legendgroup": "3",
         "marker": {
          "color": "#ab63fa",
          "pattern": {
           "shape": ""
          }
         },
         "name": "3",
         "nbinsx": 9,
         "offsetgroup": "3",
         "orientation": "v",
         "showlegend": true,
         "type": "histogram",
         "x": [
          3,
          4,
          5,
          6,
          7,
          8,
          9,
          10
         ],
         "xaxis": "x",
         "y": [
          0,
          0,
          5,
          10,
          15,
          20,
          25,
          30
         ],
         "yaxis": "y"
        },
        {
         "alignmentgroup": "True",
         "bingroup": "x",
         "histfunc": "sum",
         "hovertemplate": "customer_nr=4<br>step=%{x}<br>sum of waiting_time=%{y}<extra></extra>",
         "legendgroup": "4",
         "marker": {
          "color": "#FFA15A",
          "pattern": {
           "shape": ""
          }
         },
         "name": "4",
         "nbinsx": 9,
         "offsetgroup": "4",
         "orientation": "v",
         "showlegend": true,
         "type": "histogram",
         "x": [
          3,
          4,
          5,
          6,
          7,
          8,
          9,
          10
         ],
         "xaxis": "x",
         "y": [
          0,
          0,
          5,
          10,
          15,
          20,
          25,
          30
         ],
         "yaxis": "y"
        },
        {
         "alignmentgroup": "True",
         "bingroup": "x",
         "histfunc": "sum",
         "hovertemplate": "customer_nr=5<br>step=%{x}<br>sum of waiting_time=%{y}<extra></extra>",
         "legendgroup": "5",
         "marker": {
          "color": "#19d3f3",
          "pattern": {
           "shape": ""
          }
         },
         "name": "5",
         "nbinsx": 9,
         "offsetgroup": "5",
         "orientation": "v",
         "showlegend": true,
         "type": "histogram",
         "x": [
          4,
          5,
          6,
          7,
          8,
          9,
          10
         ],
         "xaxis": "x",
         "y": [
          0,
          0,
          5,
          10,
          15,
          20,
          25
         ],
         "yaxis": "y"
        },
        {
         "alignmentgroup": "True",
         "bingroup": "x",
         "histfunc": "sum",
         "hovertemplate": "customer_nr=6<br>step=%{x}<br>sum of waiting_time=%{y}<extra></extra>",
         "legendgroup": "6",
         "marker": {
          "color": "#FF6692",
          "pattern": {
           "shape": ""
          }
         },
         "name": "6",
         "nbinsx": 9,
         "offsetgroup": "6",
         "orientation": "v",
         "showlegend": true,
         "type": "histogram",
         "x": [
          5,
          6,
          7,
          8,
          9,
          10
         ],
         "xaxis": "x",
         "y": [
          0,
          0,
          5,
          10,
          15,
          20
         ],
         "yaxis": "y"
        },
        {
         "alignmentgroup": "True",
         "bingroup": "x",
         "histfunc": "sum",
         "hovertemplate": "customer_nr=7<br>step=%{x}<br>sum of waiting_time=%{y}<extra></extra>",
         "legendgroup": "7",
         "marker": {
          "color": "#B6E880",
          "pattern": {
           "shape": ""
          }
         },
         "name": "7",
         "nbinsx": 9,
         "offsetgroup": "7",
         "orientation": "v",
         "showlegend": true,
         "type": "histogram",
         "x": [
          5,
          6,
          7,
          8,
          9,
          10
         ],
         "xaxis": "x",
         "y": [
          0,
          0,
          5,
          10,
          15,
          20
         ],
         "yaxis": "y"
        },
        {
         "alignmentgroup": "True",
         "bingroup": "x",
         "histfunc": "sum",
         "hovertemplate": "customer_nr=8<br>step=%{x}<br>sum of waiting_time=%{y}<extra></extra>",
         "legendgroup": "8",
         "marker": {
          "color": "#FF97FF",
          "pattern": {
           "shape": ""
          }
         },
         "name": "8",
         "nbinsx": 9,
         "offsetgroup": "8",
         "orientation": "v",
         "showlegend": true,
         "type": "histogram",
         "x": [
          6,
          7,
          8,
          9,
          10
         ],
         "xaxis": "x",
         "y": [
          0,
          0,
          5,
          10,
          15
         ],
         "yaxis": "y"
        },
        {
         "alignmentgroup": "True",
         "bingroup": "x",
         "histfunc": "sum",
         "hovertemplate": "customer_nr=9<br>step=%{x}<br>sum of waiting_time=%{y}<extra></extra>",
         "legendgroup": "9",
         "marker": {
          "color": "#FECB52",
          "pattern": {
           "shape": ""
          }
         },
         "name": "9",
         "nbinsx": 9,
         "offsetgroup": "9",
         "orientation": "v",
         "showlegend": true,
         "type": "histogram",
         "x": [
          6,
          7,
          8,
          9,
          10
         ],
         "xaxis": "x",
         "y": [
          0,
          0,
          5,
          10,
          15
         ],
         "yaxis": "y"
        },
        {
         "alignmentgroup": "True",
         "bingroup": "x",
         "histfunc": "sum",
         "hovertemplate": "customer_nr=10<br>step=%{x}<br>sum of waiting_time=%{y}<extra></extra>",
         "legendgroup": "10",
         "marker": {
          "color": "#636efa",
          "pattern": {
           "shape": ""
          }
         },
         "name": "10",
         "nbinsx": 9,
         "offsetgroup": "10",
         "orientation": "v",
         "showlegend": true,
         "type": "histogram",
         "x": [
          7,
          8,
          9,
          10
         ],
         "xaxis": "x",
         "y": [
          0,
          0,
          5,
          10
         ],
         "yaxis": "y"
        },
        {
         "alignmentgroup": "True",
         "bingroup": "x",
         "histfunc": "sum",
         "hovertemplate": "customer_nr=11<br>step=%{x}<br>sum of waiting_time=%{y}<extra></extra>",
         "legendgroup": "11",
         "marker": {
          "color": "#EF553B",
          "pattern": {
           "shape": ""
          }
         },
         "name": "11",
         "nbinsx": 9,
         "offsetgroup": "11",
         "orientation": "v",
         "showlegend": true,
         "type": "histogram",
         "x": [
          7,
          8,
          9,
          10
         ],
         "xaxis": "x",
         "y": [
          0,
          0,
          5,
          10
         ],
         "yaxis": "y"
        },
        {
         "alignmentgroup": "True",
         "bingroup": "x",
         "histfunc": "sum",
         "hovertemplate": "customer_nr=12<br>step=%{x}<br>sum of waiting_time=%{y}<extra></extra>",
         "legendgroup": "12",
         "marker": {
          "color": "#00cc96",
          "pattern": {
           "shape": ""
          }
         },
         "name": "12",
         "nbinsx": 9,
         "offsetgroup": "12",
         "orientation": "v",
         "showlegend": true,
         "type": "histogram",
         "x": [
          7,
          8,
          9,
          10
         ],
         "xaxis": "x",
         "y": [
          0,
          0,
          5,
          10
         ],
         "yaxis": "y"
        },
        {
         "alignmentgroup": "True",
         "bingroup": "x",
         "histfunc": "sum",
         "hovertemplate": "customer_nr=13<br>step=%{x}<br>sum of waiting_time=%{y}<extra></extra>",
         "legendgroup": "13",
         "marker": {
          "color": "#ab63fa",
          "pattern": {
           "shape": ""
          }
         },
         "name": "13",
         "nbinsx": 9,
         "offsetgroup": "13",
         "orientation": "v",
         "showlegend": true,
         "type": "histogram",
         "x": [
          8,
          9,
          10
         ],
         "xaxis": "x",
         "y": [
          0,
          0,
          5
         ],
         "yaxis": "y"
        },
        {
         "alignmentgroup": "True",
         "bingroup": "x",
         "histfunc": "sum",
         "hovertemplate": "customer_nr=14<br>step=%{x}<br>sum of waiting_time=%{y}<extra></extra>",
         "legendgroup": "14",
         "marker": {
          "color": "#FFA15A",
          "pattern": {
           "shape": ""
          }
         },
         "name": "14",
         "nbinsx": 9,
         "offsetgroup": "14",
         "orientation": "v",
         "showlegend": true,
         "type": "histogram",
         "x": [
          8,
          9,
          10
         ],
         "xaxis": "x",
         "y": [
          0,
          0,
          5
         ],
         "yaxis": "y"
        },
        {
         "alignmentgroup": "True",
         "bingroup": "x",
         "histfunc": "sum",
         "hovertemplate": "customer_nr=15<br>step=%{x}<br>sum of waiting_time=%{y}<extra></extra>",
         "legendgroup": "15",
         "marker": {
          "color": "#19d3f3",
          "pattern": {
           "shape": ""
          }
         },
         "name": "15",
         "nbinsx": 9,
         "offsetgroup": "15",
         "orientation": "v",
         "showlegend": true,
         "type": "histogram",
         "x": [
          8,
          9,
          10
         ],
         "xaxis": "x",
         "y": [
          0,
          0,
          5
         ],
         "yaxis": "y"
        },
        {
         "alignmentgroup": "True",
         "bingroup": "x",
         "histfunc": "sum",
         "hovertemplate": "customer_nr=16<br>step=%{x}<br>sum of waiting_time=%{y}<extra></extra>",
         "legendgroup": "16",
         "marker": {
          "color": "#FF6692",
          "pattern": {
           "shape": ""
          }
         },
         "name": "16",
         "nbinsx": 9,
         "offsetgroup": "16",
         "orientation": "v",
         "showlegend": true,
         "type": "histogram",
         "x": [
          8,
          9,
          10
         ],
         "xaxis": "x",
         "y": [
          0,
          0,
          5
         ],
         "yaxis": "y"
        },
        {
         "alignmentgroup": "True",
         "bingroup": "x",
         "histfunc": "sum",
         "hovertemplate": "customer_nr=17<br>step=%{x}<br>sum of waiting_time=%{y}<extra></extra>",
         "legendgroup": "17",
         "marker": {
          "color": "#B6E880",
          "pattern": {
           "shape": ""
          }
         },
         "name": "17",
         "nbinsx": 9,
         "offsetgroup": "17",
         "orientation": "v",
         "showlegend": true,
         "type": "histogram",
         "x": [
          9,
          10
         ],
         "xaxis": "x",
         "y": [
          0,
          0
         ],
         "yaxis": "y"
        },
        {
         "alignmentgroup": "True",
         "bingroup": "x",
         "histfunc": "sum",
         "hovertemplate": "customer_nr=18<br>step=%{x}<br>sum of waiting_time=%{y}<extra></extra>",
         "legendgroup": "18",
         "marker": {
          "color": "#FF97FF",
          "pattern": {
           "shape": ""
          }
         },
         "name": "18",
         "nbinsx": 9,
         "offsetgroup": "18",
         "orientation": "v",
         "showlegend": true,
         "type": "histogram",
         "x": [
          10
         ],
         "xaxis": "x",
         "y": [
          0
         ],
         "yaxis": "y"
        }
       ],
       "layout": {
        "barmode": "group",
        "height": 400,
        "legend": {
         "title": {
          "text": "customer_nr"
         },
         "tracegroupgap": 0
        },
        "margin": {
         "t": 60
        },
        "template": {
         "data": {
          "bar": [
           {
            "error_x": {
             "color": "#2a3f5f"
            },
            "error_y": {
             "color": "#2a3f5f"
            },
            "marker": {
             "line": {
              "color": "#E5ECF6",
              "width": 0.5
             },
             "pattern": {
              "fillmode": "overlay",
              "size": 10,
              "solidity": 0.2
             }
            },
            "type": "bar"
           }
          ],
          "barpolar": [
           {
            "marker": {
             "line": {
              "color": "#E5ECF6",
              "width": 0.5
             },
             "pattern": {
              "fillmode": "overlay",
              "size": 10,
              "solidity": 0.2
             }
            },
            "type": "barpolar"
           }
          ],
          "carpet": [
           {
            "aaxis": {
             "endlinecolor": "#2a3f5f",
             "gridcolor": "white",
             "linecolor": "white",
             "minorgridcolor": "white",
             "startlinecolor": "#2a3f5f"
            },
            "baxis": {
             "endlinecolor": "#2a3f5f",
             "gridcolor": "white",
             "linecolor": "white",
             "minorgridcolor": "white",
             "startlinecolor": "#2a3f5f"
            },
            "type": "carpet"
           }
          ],
          "choropleth": [
           {
            "colorbar": {
             "outlinewidth": 0,
             "ticks": ""
            },
            "type": "choropleth"
           }
          ],
          "contour": [
           {
            "colorbar": {
             "outlinewidth": 0,
             "ticks": ""
            },
            "colorscale": [
             [
              0,
              "#0d0887"
             ],
             [
              0.1111111111111111,
              "#46039f"
             ],
             [
              0.2222222222222222,
              "#7201a8"
             ],
             [
              0.3333333333333333,
              "#9c179e"
             ],
             [
              0.4444444444444444,
              "#bd3786"
             ],
             [
              0.5555555555555556,
              "#d8576b"
             ],
             [
              0.6666666666666666,
              "#ed7953"
             ],
             [
              0.7777777777777778,
              "#fb9f3a"
             ],
             [
              0.8888888888888888,
              "#fdca26"
             ],
             [
              1,
              "#f0f921"
             ]
            ],
            "type": "contour"
           }
          ],
          "contourcarpet": [
           {
            "colorbar": {
             "outlinewidth": 0,
             "ticks": ""
            },
            "type": "contourcarpet"
           }
          ],
          "heatmap": [
           {
            "colorbar": {
             "outlinewidth": 0,
             "ticks": ""
            },
            "colorscale": [
             [
              0,
              "#0d0887"
             ],
             [
              0.1111111111111111,
              "#46039f"
             ],
             [
              0.2222222222222222,
              "#7201a8"
             ],
             [
              0.3333333333333333,
              "#9c179e"
             ],
             [
              0.4444444444444444,
              "#bd3786"
             ],
             [
              0.5555555555555556,
              "#d8576b"
             ],
             [
              0.6666666666666666,
              "#ed7953"
             ],
             [
              0.7777777777777778,
              "#fb9f3a"
             ],
             [
              0.8888888888888888,
              "#fdca26"
             ],
             [
              1,
              "#f0f921"
             ]
            ],
            "type": "heatmap"
           }
          ],
          "heatmapgl": [
           {
            "colorbar": {
             "outlinewidth": 0,
             "ticks": ""
            },
            "colorscale": [
             [
              0,
              "#0d0887"
             ],
             [
              0.1111111111111111,
              "#46039f"
             ],
             [
              0.2222222222222222,
              "#7201a8"
             ],
             [
              0.3333333333333333,
              "#9c179e"
             ],
             [
              0.4444444444444444,
              "#bd3786"
             ],
             [
              0.5555555555555556,
              "#d8576b"
             ],
             [
              0.6666666666666666,
              "#ed7953"
             ],
             [
              0.7777777777777778,
              "#fb9f3a"
             ],
             [
              0.8888888888888888,
              "#fdca26"
             ],
             [
              1,
              "#f0f921"
             ]
            ],
            "type": "heatmapgl"
           }
          ],
          "histogram": [
           {
            "marker": {
             "pattern": {
              "fillmode": "overlay",
              "size": 10,
              "solidity": 0.2
             }
            },
            "type": "histogram"
           }
          ],
          "histogram2d": [
           {
            "colorbar": {
             "outlinewidth": 0,
             "ticks": ""
            },
            "colorscale": [
             [
              0,
              "#0d0887"
             ],
             [
              0.1111111111111111,
              "#46039f"
             ],
             [
              0.2222222222222222,
              "#7201a8"
             ],
             [
              0.3333333333333333,
              "#9c179e"
             ],
             [
              0.4444444444444444,
              "#bd3786"
             ],
             [
              0.5555555555555556,
              "#d8576b"
             ],
             [
              0.6666666666666666,
              "#ed7953"
             ],
             [
              0.7777777777777778,
              "#fb9f3a"
             ],
             [
              0.8888888888888888,
              "#fdca26"
             ],
             [
              1,
              "#f0f921"
             ]
            ],
            "type": "histogram2d"
           }
          ],
          "histogram2dcontour": [
           {
            "colorbar": {
             "outlinewidth": 0,
             "ticks": ""
            },
            "colorscale": [
             [
              0,
              "#0d0887"
             ],
             [
              0.1111111111111111,
              "#46039f"
             ],
             [
              0.2222222222222222,
              "#7201a8"
             ],
             [
              0.3333333333333333,
              "#9c179e"
             ],
             [
              0.4444444444444444,
              "#bd3786"
             ],
             [
              0.5555555555555556,
              "#d8576b"
             ],
             [
              0.6666666666666666,
              "#ed7953"
             ],
             [
              0.7777777777777778,
              "#fb9f3a"
             ],
             [
              0.8888888888888888,
              "#fdca26"
             ],
             [
              1,
              "#f0f921"
             ]
            ],
            "type": "histogram2dcontour"
           }
          ],
          "mesh3d": [
           {
            "colorbar": {
             "outlinewidth": 0,
             "ticks": ""
            },
            "type": "mesh3d"
           }
          ],
          "parcoords": [
           {
            "line": {
             "colorbar": {
              "outlinewidth": 0,
              "ticks": ""
             }
            },
            "type": "parcoords"
           }
          ],
          "pie": [
           {
            "automargin": true,
            "type": "pie"
           }
          ],
          "scatter": [
           {
            "fillpattern": {
             "fillmode": "overlay",
             "size": 10,
             "solidity": 0.2
            },
            "type": "scatter"
           }
          ],
          "scatter3d": [
           {
            "line": {
             "colorbar": {
              "outlinewidth": 0,
              "ticks": ""
             }
            },
            "marker": {
             "colorbar": {
              "outlinewidth": 0,
              "ticks": ""
             }
            },
            "type": "scatter3d"
           }
          ],
          "scattercarpet": [
           {
            "marker": {
             "colorbar": {
              "outlinewidth": 0,
              "ticks": ""
             }
            },
            "type": "scattercarpet"
           }
          ],
          "scattergeo": [
           {
            "marker": {
             "colorbar": {
              "outlinewidth": 0,
              "ticks": ""
             }
            },
            "type": "scattergeo"
           }
          ],
          "scattergl": [
           {
            "marker": {
             "colorbar": {
              "outlinewidth": 0,
              "ticks": ""
             }
            },
            "type": "scattergl"
           }
          ],
          "scattermapbox": [
           {
            "marker": {
             "colorbar": {
              "outlinewidth": 0,
              "ticks": ""
             }
            },
            "type": "scattermapbox"
           }
          ],
          "scatterpolar": [
           {
            "marker": {
             "colorbar": {
              "outlinewidth": 0,
              "ticks": ""
             }
            },
            "type": "scatterpolar"
           }
          ],
          "scatterpolargl": [
           {
            "marker": {
             "colorbar": {
              "outlinewidth": 0,
              "ticks": ""
             }
            },
            "type": "scatterpolargl"
           }
          ],
          "scatterternary": [
           {
            "marker": {
             "colorbar": {
              "outlinewidth": 0,
              "ticks": ""
             }
            },
            "type": "scatterternary"
           }
          ],
          "surface": [
           {
            "colorbar": {
             "outlinewidth": 0,
             "ticks": ""
            },
            "colorscale": [
             [
              0,
              "#0d0887"
             ],
             [
              0.1111111111111111,
              "#46039f"
             ],
             [
              0.2222222222222222,
              "#7201a8"
             ],
             [
              0.3333333333333333,
              "#9c179e"
             ],
             [
              0.4444444444444444,
              "#bd3786"
             ],
             [
              0.5555555555555556,
              "#d8576b"
             ],
             [
              0.6666666666666666,
              "#ed7953"
             ],
             [
              0.7777777777777778,
              "#fb9f3a"
             ],
             [
              0.8888888888888888,
              "#fdca26"
             ],
             [
              1,
              "#f0f921"
             ]
            ],
            "type": "surface"
           }
          ],
          "table": [
           {
            "cells": {
             "fill": {
              "color": "#EBF0F8"
             },
             "line": {
              "color": "white"
             }
            },
            "header": {
             "fill": {
              "color": "#C8D4E3"
             },
             "line": {
              "color": "white"
             }
            },
            "type": "table"
           }
          ]
         },
         "layout": {
          "annotationdefaults": {
           "arrowcolor": "#2a3f5f",
           "arrowhead": 0,
           "arrowwidth": 1
          },
          "autotypenumbers": "strict",
          "coloraxis": {
           "colorbar": {
            "outlinewidth": 0,
            "ticks": ""
           }
          },
          "colorscale": {
           "diverging": [
            [
             0,
             "#8e0152"
            ],
            [
             0.1,
             "#c51b7d"
            ],
            [
             0.2,
             "#de77ae"
            ],
            [
             0.3,
             "#f1b6da"
            ],
            [
             0.4,
             "#fde0ef"
            ],
            [
             0.5,
             "#f7f7f7"
            ],
            [
             0.6,
             "#e6f5d0"
            ],
            [
             0.7,
             "#b8e186"
            ],
            [
             0.8,
             "#7fbc41"
            ],
            [
             0.9,
             "#4d9221"
            ],
            [
             1,
             "#276419"
            ]
           ],
           "sequential": [
            [
             0,
             "#0d0887"
            ],
            [
             0.1111111111111111,
             "#46039f"
            ],
            [
             0.2222222222222222,
             "#7201a8"
            ],
            [
             0.3333333333333333,
             "#9c179e"
            ],
            [
             0.4444444444444444,
             "#bd3786"
            ],
            [
             0.5555555555555556,
             "#d8576b"
            ],
            [
             0.6666666666666666,
             "#ed7953"
            ],
            [
             0.7777777777777778,
             "#fb9f3a"
            ],
            [
             0.8888888888888888,
             "#fdca26"
            ],
            [
             1,
             "#f0f921"
            ]
           ],
           "sequentialminus": [
            [
             0,
             "#0d0887"
            ],
            [
             0.1111111111111111,
             "#46039f"
            ],
            [
             0.2222222222222222,
             "#7201a8"
            ],
            [
             0.3333333333333333,
             "#9c179e"
            ],
            [
             0.4444444444444444,
             "#bd3786"
            ],
            [
             0.5555555555555556,
             "#d8576b"
            ],
            [
             0.6666666666666666,
             "#ed7953"
            ],
            [
             0.7777777777777778,
             "#fb9f3a"
            ],
            [
             0.8888888888888888,
             "#fdca26"
            ],
            [
             1,
             "#f0f921"
            ]
           ]
          },
          "colorway": [
           "#636efa",
           "#EF553B",
           "#00cc96",
           "#ab63fa",
           "#FFA15A",
           "#19d3f3",
           "#FF6692",
           "#B6E880",
           "#FF97FF",
           "#FECB52"
          ],
          "font": {
           "color": "#2a3f5f"
          },
          "geo": {
           "bgcolor": "white",
           "lakecolor": "white",
           "landcolor": "#E5ECF6",
           "showlakes": true,
           "showland": true,
           "subunitcolor": "white"
          },
          "hoverlabel": {
           "align": "left"
          },
          "hovermode": "closest",
          "mapbox": {
           "style": "light"
          },
          "paper_bgcolor": "white",
          "plot_bgcolor": "#E5ECF6",
          "polar": {
           "angularaxis": {
            "gridcolor": "white",
            "linecolor": "white",
            "ticks": ""
           },
           "bgcolor": "#E5ECF6",
           "radialaxis": {
            "gridcolor": "white",
            "linecolor": "white",
            "ticks": ""
           }
          },
          "scene": {
           "xaxis": {
            "backgroundcolor": "#E5ECF6",
            "gridcolor": "white",
            "gridwidth": 2,
            "linecolor": "white",
            "showbackground": true,
            "ticks": "",
            "zerolinecolor": "white"
           },
           "yaxis": {
            "backgroundcolor": "#E5ECF6",
            "gridcolor": "white",
            "gridwidth": 2,
            "linecolor": "white",
            "showbackground": true,
            "ticks": "",
            "zerolinecolor": "white"
           },
           "zaxis": {
            "backgroundcolor": "#E5ECF6",
            "gridcolor": "white",
            "gridwidth": 2,
            "linecolor": "white",
            "showbackground": true,
            "ticks": "",
            "zerolinecolor": "white"
           }
          },
          "shapedefaults": {
           "line": {
            "color": "#2a3f5f"
           }
          },
          "ternary": {
           "aaxis": {
            "gridcolor": "white",
            "linecolor": "white",
            "ticks": ""
           },
           "baxis": {
            "gridcolor": "white",
            "linecolor": "white",
            "ticks": ""
           },
           "bgcolor": "#E5ECF6",
           "caxis": {
            "gridcolor": "white",
            "linecolor": "white",
            "ticks": ""
           }
          },
          "title": {
           "x": 0.05
          },
          "xaxis": {
           "automargin": true,
           "gridcolor": "white",
           "linecolor": "white",
           "ticks": "",
           "title": {
            "standoff": 15
           },
           "zerolinecolor": "white",
           "zerolinewidth": 2
          },
          "yaxis": {
           "automargin": true,
           "gridcolor": "white",
           "linecolor": "white",
           "ticks": "",
           "title": {
            "standoff": 15
           },
           "zerolinecolor": "white",
           "zerolinewidth": 2
          }
         }
        },
        "xaxis": {
         "anchor": "y",
         "domain": [
          0,
          1
         ],
         "title": {
          "text": "step"
         }
        },
        "yaxis": {
         "anchor": "x",
         "domain": [
          0,
          1
         ],
         "title": {
          "text": "sum of waiting_time"
         }
        }
       }
      }
     },
     "metadata": {},
     "output_type": "display_data"
    },
    {
     "name": "stdout",
     "output_type": "stream",
     "text": [
      "None\n"
     ]
    },
    {
     "data": {
      "application/vnd.plotly.v1+json": {
       "config": {
        "plotlyServerURL": "https://plot.ly"
       },
       "data": [
        {
         "alignmentgroup": "True",
         "bingroup": "x",
         "histfunc": "sum",
         "hovertemplate": "customer_nr=0<br>step=%{x}<br>sum of order_status=%{y}<extra></extra>",
         "legendgroup": "0",
         "marker": {
          "color": "#636efa",
          "pattern": {
           "shape": ""
          }
         },
         "name": "0",
         "nbinsx": 9,
         "offsetgroup": "0",
         "orientation": "v",
         "showlegend": true,
         "type": "histogram",
         "x": [
          2,
          3,
          4,
          5,
          6,
          7,
          8,
          9,
          10
         ],
         "xaxis": "x",
         "y": [
          0,
          1,
          3,
          3,
          3,
          3,
          3,
          3,
          3
         ],
         "yaxis": "y"
        },
        {
         "alignmentgroup": "True",
         "bingroup": "x",
         "histfunc": "sum",
         "hovertemplate": "customer_nr=1<br>step=%{x}<br>sum of order_status=%{y}<extra></extra>",
         "legendgroup": "1",
         "marker": {
          "color": "#EF553B",
          "pattern": {
           "shape": ""
          }
         },
         "name": "1",
         "nbinsx": 9,
         "offsetgroup": "1",
         "orientation": "v",
         "showlegend": true,
         "type": "histogram",
         "x": [
          2,
          3,
          4,
          5,
          6,
          7,
          8,
          9,
          10
         ],
         "xaxis": "x",
         "y": [
          0,
          0,
          0,
          0,
          0,
          0,
          0,
          0,
          0
         ],
         "yaxis": "y"
        },
        {
         "alignmentgroup": "True",
         "bingroup": "x",
         "histfunc": "sum",
         "hovertemplate": "customer_nr=2<br>step=%{x}<br>sum of order_status=%{y}<extra></extra>",
         "legendgroup": "2",
         "marker": {
          "color": "#00cc96",
          "pattern": {
           "shape": ""
          }
         },
         "name": "2",
         "nbinsx": 9,
         "offsetgroup": "2",
         "orientation": "v",
         "showlegend": true,
         "type": "histogram",
         "x": [
          3,
          4,
          5,
          6,
          7,
          8,
          9,
          10
         ],
         "xaxis": "x",
         "y": [
          0,
          0,
          0,
          0,
          0,
          0,
          0,
          0
         ],
         "yaxis": "y"
        },
        {
         "alignmentgroup": "True",
         "bingroup": "x",
         "histfunc": "sum",
         "hovertemplate": "customer_nr=3<br>step=%{x}<br>sum of order_status=%{y}<extra></extra>",
         "legendgroup": "3",
         "marker": {
          "color": "#ab63fa",
          "pattern": {
           "shape": ""
          }
         },
         "name": "3",
         "nbinsx": 9,
         "offsetgroup": "3",
         "orientation": "v",
         "showlegend": true,
         "type": "histogram",
         "x": [
          3,
          4,
          5,
          6,
          7,
          8,
          9,
          10
         ],
         "xaxis": "x",
         "y": [
          0,
          0,
          0,
          0,
          0,
          0,
          0,
          0
         ],
         "yaxis": "y"
        },
        {
         "alignmentgroup": "True",
         "bingroup": "x",
         "histfunc": "sum",
         "hovertemplate": "customer_nr=4<br>step=%{x}<br>sum of order_status=%{y}<extra></extra>",
         "legendgroup": "4",
         "marker": {
          "color": "#FFA15A",
          "pattern": {
           "shape": ""
          }
         },
         "name": "4",
         "nbinsx": 9,
         "offsetgroup": "4",
         "orientation": "v",
         "showlegend": true,
         "type": "histogram",
         "x": [
          3,
          4,
          5,
          6,
          7,
          8,
          9,
          10
         ],
         "xaxis": "x",
         "y": [
          0,
          0,
          0,
          0,
          0,
          0,
          0,
          0
         ],
         "yaxis": "y"
        },
        {
         "alignmentgroup": "True",
         "bingroup": "x",
         "histfunc": "sum",
         "hovertemplate": "customer_nr=5<br>step=%{x}<br>sum of order_status=%{y}<extra></extra>",
         "legendgroup": "5",
         "marker": {
          "color": "#19d3f3",
          "pattern": {
           "shape": ""
          }
         },
         "name": "5",
         "nbinsx": 9,
         "offsetgroup": "5",
         "orientation": "v",
         "showlegend": true,
         "type": "histogram",
         "x": [
          4,
          5,
          6,
          7,
          8,
          9,
          10
         ],
         "xaxis": "x",
         "y": [
          0,
          0,
          0,
          0,
          0,
          0,
          0
         ],
         "yaxis": "y"
        },
        {
         "alignmentgroup": "True",
         "bingroup": "x",
         "histfunc": "sum",
         "hovertemplate": "customer_nr=6<br>step=%{x}<br>sum of order_status=%{y}<extra></extra>",
         "legendgroup": "6",
         "marker": {
          "color": "#FF6692",
          "pattern": {
           "shape": ""
          }
         },
         "name": "6",
         "nbinsx": 9,
         "offsetgroup": "6",
         "orientation": "v",
         "showlegend": true,
         "type": "histogram",
         "x": [
          5,
          6,
          7,
          8,
          9,
          10
         ],
         "xaxis": "x",
         "y": [
          0,
          0,
          0,
          0,
          0,
          0
         ],
         "yaxis": "y"
        },
        {
         "alignmentgroup": "True",
         "bingroup": "x",
         "histfunc": "sum",
         "hovertemplate": "customer_nr=7<br>step=%{x}<br>sum of order_status=%{y}<extra></extra>",
         "legendgroup": "7",
         "marker": {
          "color": "#B6E880",
          "pattern": {
           "shape": ""
          }
         },
         "name": "7",
         "nbinsx": 9,
         "offsetgroup": "7",
         "orientation": "v",
         "showlegend": true,
         "type": "histogram",
         "x": [
          5,
          6,
          7,
          8,
          9,
          10
         ],
         "xaxis": "x",
         "y": [
          0,
          0,
          0,
          0,
          0,
          0
         ],
         "yaxis": "y"
        },
        {
         "alignmentgroup": "True",
         "bingroup": "x",
         "histfunc": "sum",
         "hovertemplate": "customer_nr=8<br>step=%{x}<br>sum of order_status=%{y}<extra></extra>",
         "legendgroup": "8",
         "marker": {
          "color": "#FF97FF",
          "pattern": {
           "shape": ""
          }
         },
         "name": "8",
         "nbinsx": 9,
         "offsetgroup": "8",
         "orientation": "v",
         "showlegend": true,
         "type": "histogram",
         "x": [
          6,
          7,
          8,
          9,
          10
         ],
         "xaxis": "x",
         "y": [
          0,
          0,
          0,
          0,
          0
         ],
         "yaxis": "y"
        },
        {
         "alignmentgroup": "True",
         "bingroup": "x",
         "histfunc": "sum",
         "hovertemplate": "customer_nr=9<br>step=%{x}<br>sum of order_status=%{y}<extra></extra>",
         "legendgroup": "9",
         "marker": {
          "color": "#FECB52",
          "pattern": {
           "shape": ""
          }
         },
         "name": "9",
         "nbinsx": 9,
         "offsetgroup": "9",
         "orientation": "v",
         "showlegend": true,
         "type": "histogram",
         "x": [
          6,
          7,
          8,
          9,
          10
         ],
         "xaxis": "x",
         "y": [
          0,
          0,
          0,
          0,
          0
         ],
         "yaxis": "y"
        },
        {
         "alignmentgroup": "True",
         "bingroup": "x",
         "histfunc": "sum",
         "hovertemplate": "customer_nr=10<br>step=%{x}<br>sum of order_status=%{y}<extra></extra>",
         "legendgroup": "10",
         "marker": {
          "color": "#636efa",
          "pattern": {
           "shape": ""
          }
         },
         "name": "10",
         "nbinsx": 9,
         "offsetgroup": "10",
         "orientation": "v",
         "showlegend": true,
         "type": "histogram",
         "x": [
          7,
          8,
          9,
          10
         ],
         "xaxis": "x",
         "y": [
          0,
          0,
          0,
          0
         ],
         "yaxis": "y"
        },
        {
         "alignmentgroup": "True",
         "bingroup": "x",
         "histfunc": "sum",
         "hovertemplate": "customer_nr=11<br>step=%{x}<br>sum of order_status=%{y}<extra></extra>",
         "legendgroup": "11",
         "marker": {
          "color": "#EF553B",
          "pattern": {
           "shape": ""
          }
         },
         "name": "11",
         "nbinsx": 9,
         "offsetgroup": "11",
         "orientation": "v",
         "showlegend": true,
         "type": "histogram",
         "x": [
          7,
          8,
          9,
          10
         ],
         "xaxis": "x",
         "y": [
          0,
          0,
          0,
          0
         ],
         "yaxis": "y"
        },
        {
         "alignmentgroup": "True",
         "bingroup": "x",
         "histfunc": "sum",
         "hovertemplate": "customer_nr=12<br>step=%{x}<br>sum of order_status=%{y}<extra></extra>",
         "legendgroup": "12",
         "marker": {
          "color": "#00cc96",
          "pattern": {
           "shape": ""
          }
         },
         "name": "12",
         "nbinsx": 9,
         "offsetgroup": "12",
         "orientation": "v",
         "showlegend": true,
         "type": "histogram",
         "x": [
          7,
          8,
          9,
          10
         ],
         "xaxis": "x",
         "y": [
          0,
          0,
          0,
          0
         ],
         "yaxis": "y"
        },
        {
         "alignmentgroup": "True",
         "bingroup": "x",
         "histfunc": "sum",
         "hovertemplate": "customer_nr=13<br>step=%{x}<br>sum of order_status=%{y}<extra></extra>",
         "legendgroup": "13",
         "marker": {
          "color": "#ab63fa",
          "pattern": {
           "shape": ""
          }
         },
         "name": "13",
         "nbinsx": 9,
         "offsetgroup": "13",
         "orientation": "v",
         "showlegend": true,
         "type": "histogram",
         "x": [
          8,
          9,
          10
         ],
         "xaxis": "x",
         "y": [
          0,
          0,
          0
         ],
         "yaxis": "y"
        },
        {
         "alignmentgroup": "True",
         "bingroup": "x",
         "histfunc": "sum",
         "hovertemplate": "customer_nr=14<br>step=%{x}<br>sum of order_status=%{y}<extra></extra>",
         "legendgroup": "14",
         "marker": {
          "color": "#FFA15A",
          "pattern": {
           "shape": ""
          }
         },
         "name": "14",
         "nbinsx": 9,
         "offsetgroup": "14",
         "orientation": "v",
         "showlegend": true,
         "type": "histogram",
         "x": [
          8,
          9,
          10
         ],
         "xaxis": "x",
         "y": [
          0,
          0,
          0
         ],
         "yaxis": "y"
        },
        {
         "alignmentgroup": "True",
         "bingroup": "x",
         "histfunc": "sum",
         "hovertemplate": "customer_nr=15<br>step=%{x}<br>sum of order_status=%{y}<extra></extra>",
         "legendgroup": "15",
         "marker": {
          "color": "#19d3f3",
          "pattern": {
           "shape": ""
          }
         },
         "name": "15",
         "nbinsx": 9,
         "offsetgroup": "15",
         "orientation": "v",
         "showlegend": true,
         "type": "histogram",
         "x": [
          8,
          9,
          10
         ],
         "xaxis": "x",
         "y": [
          0,
          0,
          0
         ],
         "yaxis": "y"
        },
        {
         "alignmentgroup": "True",
         "bingroup": "x",
         "histfunc": "sum",
         "hovertemplate": "customer_nr=16<br>step=%{x}<br>sum of order_status=%{y}<extra></extra>",
         "legendgroup": "16",
         "marker": {
          "color": "#FF6692",
          "pattern": {
           "shape": ""
          }
         },
         "name": "16",
         "nbinsx": 9,
         "offsetgroup": "16",
         "orientation": "v",
         "showlegend": true,
         "type": "histogram",
         "x": [
          8,
          9,
          10
         ],
         "xaxis": "x",
         "y": [
          0,
          0,
          0
         ],
         "yaxis": "y"
        },
        {
         "alignmentgroup": "True",
         "bingroup": "x",
         "histfunc": "sum",
         "hovertemplate": "customer_nr=17<br>step=%{x}<br>sum of order_status=%{y}<extra></extra>",
         "legendgroup": "17",
         "marker": {
          "color": "#B6E880",
          "pattern": {
           "shape": ""
          }
         },
         "name": "17",
         "nbinsx": 9,
         "offsetgroup": "17",
         "orientation": "v",
         "showlegend": true,
         "type": "histogram",
         "x": [
          9,
          10
         ],
         "xaxis": "x",
         "y": [
          0,
          0
         ],
         "yaxis": "y"
        },
        {
         "alignmentgroup": "True",
         "bingroup": "x",
         "histfunc": "sum",
         "hovertemplate": "customer_nr=18<br>step=%{x}<br>sum of order_status=%{y}<extra></extra>",
         "legendgroup": "18",
         "marker": {
          "color": "#FF97FF",
          "pattern": {
           "shape": ""
          }
         },
         "name": "18",
         "nbinsx": 9,
         "offsetgroup": "18",
         "orientation": "v",
         "showlegend": true,
         "type": "histogram",
         "x": [
          10
         ],
         "xaxis": "x",
         "y": [
          0
         ],
         "yaxis": "y"
        }
       ],
       "layout": {
        "barmode": "group",
        "height": 400,
        "legend": {
         "title": {
          "text": "customer_nr"
         },
         "tracegroupgap": 0
        },
        "margin": {
         "t": 60
        },
        "template": {
         "data": {
          "bar": [
           {
            "error_x": {
             "color": "#2a3f5f"
            },
            "error_y": {
             "color": "#2a3f5f"
            },
            "marker": {
             "line": {
              "color": "#E5ECF6",
              "width": 0.5
             },
             "pattern": {
              "fillmode": "overlay",
              "size": 10,
              "solidity": 0.2
             }
            },
            "type": "bar"
           }
          ],
          "barpolar": [
           {
            "marker": {
             "line": {
              "color": "#E5ECF6",
              "width": 0.5
             },
             "pattern": {
              "fillmode": "overlay",
              "size": 10,
              "solidity": 0.2
             }
            },
            "type": "barpolar"
           }
          ],
          "carpet": [
           {
            "aaxis": {
             "endlinecolor": "#2a3f5f",
             "gridcolor": "white",
             "linecolor": "white",
             "minorgridcolor": "white",
             "startlinecolor": "#2a3f5f"
            },
            "baxis": {
             "endlinecolor": "#2a3f5f",
             "gridcolor": "white",
             "linecolor": "white",
             "minorgridcolor": "white",
             "startlinecolor": "#2a3f5f"
            },
            "type": "carpet"
           }
          ],
          "choropleth": [
           {
            "colorbar": {
             "outlinewidth": 0,
             "ticks": ""
            },
            "type": "choropleth"
           }
          ],
          "contour": [
           {
            "colorbar": {
             "outlinewidth": 0,
             "ticks": ""
            },
            "colorscale": [
             [
              0,
              "#0d0887"
             ],
             [
              0.1111111111111111,
              "#46039f"
             ],
             [
              0.2222222222222222,
              "#7201a8"
             ],
             [
              0.3333333333333333,
              "#9c179e"
             ],
             [
              0.4444444444444444,
              "#bd3786"
             ],
             [
              0.5555555555555556,
              "#d8576b"
             ],
             [
              0.6666666666666666,
              "#ed7953"
             ],
             [
              0.7777777777777778,
              "#fb9f3a"
             ],
             [
              0.8888888888888888,
              "#fdca26"
             ],
             [
              1,
              "#f0f921"
             ]
            ],
            "type": "contour"
           }
          ],
          "contourcarpet": [
           {
            "colorbar": {
             "outlinewidth": 0,
             "ticks": ""
            },
            "type": "contourcarpet"
           }
          ],
          "heatmap": [
           {
            "colorbar": {
             "outlinewidth": 0,
             "ticks": ""
            },
            "colorscale": [
             [
              0,
              "#0d0887"
             ],
             [
              0.1111111111111111,
              "#46039f"
             ],
             [
              0.2222222222222222,
              "#7201a8"
             ],
             [
              0.3333333333333333,
              "#9c179e"
             ],
             [
              0.4444444444444444,
              "#bd3786"
             ],
             [
              0.5555555555555556,
              "#d8576b"
             ],
             [
              0.6666666666666666,
              "#ed7953"
             ],
             [
              0.7777777777777778,
              "#fb9f3a"
             ],
             [
              0.8888888888888888,
              "#fdca26"
             ],
             [
              1,
              "#f0f921"
             ]
            ],
            "type": "heatmap"
           }
          ],
          "heatmapgl": [
           {
            "colorbar": {
             "outlinewidth": 0,
             "ticks": ""
            },
            "colorscale": [
             [
              0,
              "#0d0887"
             ],
             [
              0.1111111111111111,
              "#46039f"
             ],
             [
              0.2222222222222222,
              "#7201a8"
             ],
             [
              0.3333333333333333,
              "#9c179e"
             ],
             [
              0.4444444444444444,
              "#bd3786"
             ],
             [
              0.5555555555555556,
              "#d8576b"
             ],
             [
              0.6666666666666666,
              "#ed7953"
             ],
             [
              0.7777777777777778,
              "#fb9f3a"
             ],
             [
              0.8888888888888888,
              "#fdca26"
             ],
             [
              1,
              "#f0f921"
             ]
            ],
            "type": "heatmapgl"
           }
          ],
          "histogram": [
           {
            "marker": {
             "pattern": {
              "fillmode": "overlay",
              "size": 10,
              "solidity": 0.2
             }
            },
            "type": "histogram"
           }
          ],
          "histogram2d": [
           {
            "colorbar": {
             "outlinewidth": 0,
             "ticks": ""
            },
            "colorscale": [
             [
              0,
              "#0d0887"
             ],
             [
              0.1111111111111111,
              "#46039f"
             ],
             [
              0.2222222222222222,
              "#7201a8"
             ],
             [
              0.3333333333333333,
              "#9c179e"
             ],
             [
              0.4444444444444444,
              "#bd3786"
             ],
             [
              0.5555555555555556,
              "#d8576b"
             ],
             [
              0.6666666666666666,
              "#ed7953"
             ],
             [
              0.7777777777777778,
              "#fb9f3a"
             ],
             [
              0.8888888888888888,
              "#fdca26"
             ],
             [
              1,
              "#f0f921"
             ]
            ],
            "type": "histogram2d"
           }
          ],
          "histogram2dcontour": [
           {
            "colorbar": {
             "outlinewidth": 0,
             "ticks": ""
            },
            "colorscale": [
             [
              0,
              "#0d0887"
             ],
             [
              0.1111111111111111,
              "#46039f"
             ],
             [
              0.2222222222222222,
              "#7201a8"
             ],
             [
              0.3333333333333333,
              "#9c179e"
             ],
             [
              0.4444444444444444,
              "#bd3786"
             ],
             [
              0.5555555555555556,
              "#d8576b"
             ],
             [
              0.6666666666666666,
              "#ed7953"
             ],
             [
              0.7777777777777778,
              "#fb9f3a"
             ],
             [
              0.8888888888888888,
              "#fdca26"
             ],
             [
              1,
              "#f0f921"
             ]
            ],
            "type": "histogram2dcontour"
           }
          ],
          "mesh3d": [
           {
            "colorbar": {
             "outlinewidth": 0,
             "ticks": ""
            },
            "type": "mesh3d"
           }
          ],
          "parcoords": [
           {
            "line": {
             "colorbar": {
              "outlinewidth": 0,
              "ticks": ""
             }
            },
            "type": "parcoords"
           }
          ],
          "pie": [
           {
            "automargin": true,
            "type": "pie"
           }
          ],
          "scatter": [
           {
            "fillpattern": {
             "fillmode": "overlay",
             "size": 10,
             "solidity": 0.2
            },
            "type": "scatter"
           }
          ],
          "scatter3d": [
           {
            "line": {
             "colorbar": {
              "outlinewidth": 0,
              "ticks": ""
             }
            },
            "marker": {
             "colorbar": {
              "outlinewidth": 0,
              "ticks": ""
             }
            },
            "type": "scatter3d"
           }
          ],
          "scattercarpet": [
           {
            "marker": {
             "colorbar": {
              "outlinewidth": 0,
              "ticks": ""
             }
            },
            "type": "scattercarpet"
           }
          ],
          "scattergeo": [
           {
            "marker": {
             "colorbar": {
              "outlinewidth": 0,
              "ticks": ""
             }
            },
            "type": "scattergeo"
           }
          ],
          "scattergl": [
           {
            "marker": {
             "colorbar": {
              "outlinewidth": 0,
              "ticks": ""
             }
            },
            "type": "scattergl"
           }
          ],
          "scattermapbox": [
           {
            "marker": {
             "colorbar": {
              "outlinewidth": 0,
              "ticks": ""
             }
            },
            "type": "scattermapbox"
           }
          ],
          "scatterpolar": [
           {
            "marker": {
             "colorbar": {
              "outlinewidth": 0,
              "ticks": ""
             }
            },
            "type": "scatterpolar"
           }
          ],
          "scatterpolargl": [
           {
            "marker": {
             "colorbar": {
              "outlinewidth": 0,
              "ticks": ""
             }
            },
            "type": "scatterpolargl"
           }
          ],
          "scatterternary": [
           {
            "marker": {
             "colorbar": {
              "outlinewidth": 0,
              "ticks": ""
             }
            },
            "type": "scatterternary"
           }
          ],
          "surface": [
           {
            "colorbar": {
             "outlinewidth": 0,
             "ticks": ""
            },
            "colorscale": [
             [
              0,
              "#0d0887"
             ],
             [
              0.1111111111111111,
              "#46039f"
             ],
             [
              0.2222222222222222,
              "#7201a8"
             ],
             [
              0.3333333333333333,
              "#9c179e"
             ],
             [
              0.4444444444444444,
              "#bd3786"
             ],
             [
              0.5555555555555556,
              "#d8576b"
             ],
             [
              0.6666666666666666,
              "#ed7953"
             ],
             [
              0.7777777777777778,
              "#fb9f3a"
             ],
             [
              0.8888888888888888,
              "#fdca26"
             ],
             [
              1,
              "#f0f921"
             ]
            ],
            "type": "surface"
           }
          ],
          "table": [
           {
            "cells": {
             "fill": {
              "color": "#EBF0F8"
             },
             "line": {
              "color": "white"
             }
            },
            "header": {
             "fill": {
              "color": "#C8D4E3"
             },
             "line": {
              "color": "white"
             }
            },
            "type": "table"
           }
          ]
         },
         "layout": {
          "annotationdefaults": {
           "arrowcolor": "#2a3f5f",
           "arrowhead": 0,
           "arrowwidth": 1
          },
          "autotypenumbers": "strict",
          "coloraxis": {
           "colorbar": {
            "outlinewidth": 0,
            "ticks": ""
           }
          },
          "colorscale": {
           "diverging": [
            [
             0,
             "#8e0152"
            ],
            [
             0.1,
             "#c51b7d"
            ],
            [
             0.2,
             "#de77ae"
            ],
            [
             0.3,
             "#f1b6da"
            ],
            [
             0.4,
             "#fde0ef"
            ],
            [
             0.5,
             "#f7f7f7"
            ],
            [
             0.6,
             "#e6f5d0"
            ],
            [
             0.7,
             "#b8e186"
            ],
            [
             0.8,
             "#7fbc41"
            ],
            [
             0.9,
             "#4d9221"
            ],
            [
             1,
             "#276419"
            ]
           ],
           "sequential": [
            [
             0,
             "#0d0887"
            ],
            [
             0.1111111111111111,
             "#46039f"
            ],
            [
             0.2222222222222222,
             "#7201a8"
            ],
            [
             0.3333333333333333,
             "#9c179e"
            ],
            [
             0.4444444444444444,
             "#bd3786"
            ],
            [
             0.5555555555555556,
             "#d8576b"
            ],
            [
             0.6666666666666666,
             "#ed7953"
            ],
            [
             0.7777777777777778,
             "#fb9f3a"
            ],
            [
             0.8888888888888888,
             "#fdca26"
            ],
            [
             1,
             "#f0f921"
            ]
           ],
           "sequentialminus": [
            [
             0,
             "#0d0887"
            ],
            [
             0.1111111111111111,
             "#46039f"
            ],
            [
             0.2222222222222222,
             "#7201a8"
            ],
            [
             0.3333333333333333,
             "#9c179e"
            ],
            [
             0.4444444444444444,
             "#bd3786"
            ],
            [
             0.5555555555555556,
             "#d8576b"
            ],
            [
             0.6666666666666666,
             "#ed7953"
            ],
            [
             0.7777777777777778,
             "#fb9f3a"
            ],
            [
             0.8888888888888888,
             "#fdca26"
            ],
            [
             1,
             "#f0f921"
            ]
           ]
          },
          "colorway": [
           "#636efa",
           "#EF553B",
           "#00cc96",
           "#ab63fa",
           "#FFA15A",
           "#19d3f3",
           "#FF6692",
           "#B6E880",
           "#FF97FF",
           "#FECB52"
          ],
          "font": {
           "color": "#2a3f5f"
          },
          "geo": {
           "bgcolor": "white",
           "lakecolor": "white",
           "landcolor": "#E5ECF6",
           "showlakes": true,
           "showland": true,
           "subunitcolor": "white"
          },
          "hoverlabel": {
           "align": "left"
          },
          "hovermode": "closest",
          "mapbox": {
           "style": "light"
          },
          "paper_bgcolor": "white",
          "plot_bgcolor": "#E5ECF6",
          "polar": {
           "angularaxis": {
            "gridcolor": "white",
            "linecolor": "white",
            "ticks": ""
           },
           "bgcolor": "#E5ECF6",
           "radialaxis": {
            "gridcolor": "white",
            "linecolor": "white",
            "ticks": ""
           }
          },
          "scene": {
           "xaxis": {
            "backgroundcolor": "#E5ECF6",
            "gridcolor": "white",
            "gridwidth": 2,
            "linecolor": "white",
            "showbackground": true,
            "ticks": "",
            "zerolinecolor": "white"
           },
           "yaxis": {
            "backgroundcolor": "#E5ECF6",
            "gridcolor": "white",
            "gridwidth": 2,
            "linecolor": "white",
            "showbackground": true,
            "ticks": "",
            "zerolinecolor": "white"
           },
           "zaxis": {
            "backgroundcolor": "#E5ECF6",
            "gridcolor": "white",
            "gridwidth": 2,
            "linecolor": "white",
            "showbackground": true,
            "ticks": "",
            "zerolinecolor": "white"
           }
          },
          "shapedefaults": {
           "line": {
            "color": "#2a3f5f"
           }
          },
          "ternary": {
           "aaxis": {
            "gridcolor": "white",
            "linecolor": "white",
            "ticks": ""
           },
           "baxis": {
            "gridcolor": "white",
            "linecolor": "white",
            "ticks": ""
           },
           "bgcolor": "#E5ECF6",
           "caxis": {
            "gridcolor": "white",
            "linecolor": "white",
            "ticks": ""
           }
          },
          "title": {
           "x": 0.05
          },
          "xaxis": {
           "automargin": true,
           "gridcolor": "white",
           "linecolor": "white",
           "ticks": "",
           "title": {
            "standoff": 15
           },
           "zerolinecolor": "white",
           "zerolinewidth": 2
          },
          "yaxis": {
           "automargin": true,
           "gridcolor": "white",
           "linecolor": "white",
           "ticks": "",
           "title": {
            "standoff": 15
           },
           "zerolinecolor": "white",
           "zerolinewidth": 2
          }
         }
        },
        "xaxis": {
         "anchor": "y",
         "domain": [
          0,
          1
         ],
         "title": {
          "text": "step"
         }
        },
        "yaxis": {
         "anchor": "x",
         "domain": [
          0,
          1
         ],
         "title": {
          "text": "sum of order_status"
         }
        }
       }
      }
     },
     "metadata": {},
     "output_type": "display_data"
    },
    {
     "name": "stdout",
     "output_type": "stream",
     "text": [
      "None\n"
     ]
    },
    {
     "data": {
      "application/vnd.plotly.v1+json": {
       "config": {
        "plotlyServerURL": "https://plot.ly"
       },
       "data": [
        {
         "alignmentgroup": "True",
         "bingroup": "x",
         "histfunc": "sum",
         "hovertemplate": "customer_nr=0<br>step=%{x}<br>sum of satisfaction=%{y}<extra></extra>",
         "legendgroup": "0",
         "marker": {
          "color": "#636efa",
          "pattern": {
           "shape": ""
          }
         },
         "name": "0",
         "nbinsx": 9,
         "offsetgroup": "0",
         "orientation": "v",
         "showlegend": true,
         "type": "histogram",
         "x": [
          2,
          3,
          4,
          5,
          6,
          7,
          8,
          9,
          10
         ],
         "xaxis": "x",
         "y": [
          100,
          100,
          100,
          100,
          100,
          100,
          100,
          100,
          100
         ],
         "yaxis": "y"
        },
        {
         "alignmentgroup": "True",
         "bingroup": "x",
         "histfunc": "sum",
         "hovertemplate": "customer_nr=1<br>step=%{x}<br>sum of satisfaction=%{y}<extra></extra>",
         "legendgroup": "1",
         "marker": {
          "color": "#EF553B",
          "pattern": {
           "shape": ""
          }
         },
         "name": "1",
         "nbinsx": 9,
         "offsetgroup": "1",
         "orientation": "v",
         "showlegend": true,
         "type": "histogram",
         "x": [
          2,
          3,
          4,
          5,
          6,
          7,
          8,
          9,
          10
         ],
         "xaxis": "x",
         "y": [
          100,
          100,
          90,
          80,
          70,
          60,
          50,
          40,
          30
         ],
         "yaxis": "y"
        },
        {
         "alignmentgroup": "True",
         "bingroup": "x",
         "histfunc": "sum",
         "hovertemplate": "customer_nr=2<br>step=%{x}<br>sum of satisfaction=%{y}<extra></extra>",
         "legendgroup": "2",
         "marker": {
          "color": "#00cc96",
          "pattern": {
           "shape": ""
          }
         },
         "name": "2",
         "nbinsx": 9,
         "offsetgroup": "2",
         "orientation": "v",
         "showlegend": true,
         "type": "histogram",
         "x": [
          3,
          4,
          5,
          6,
          7,
          8,
          9,
          10
         ],
         "xaxis": "x",
         "y": [
          100,
          100,
          90,
          80,
          70,
          60,
          50,
          40
         ],
         "yaxis": "y"
        },
        {
         "alignmentgroup": "True",
         "bingroup": "x",
         "histfunc": "sum",
         "hovertemplate": "customer_nr=3<br>step=%{x}<br>sum of satisfaction=%{y}<extra></extra>",
         "legendgroup": "3",
         "marker": {
          "color": "#ab63fa",
          "pattern": {
           "shape": ""
          }
         },
         "name": "3",
         "nbinsx": 9,
         "offsetgroup": "3",
         "orientation": "v",
         "showlegend": true,
         "type": "histogram",
         "x": [
          3,
          4,
          5,
          6,
          7,
          8,
          9,
          10
         ],
         "xaxis": "x",
         "y": [
          100,
          100,
          90,
          80,
          70,
          60,
          50,
          40
         ],
         "yaxis": "y"
        },
        {
         "alignmentgroup": "True",
         "bingroup": "x",
         "histfunc": "sum",
         "hovertemplate": "customer_nr=4<br>step=%{x}<br>sum of satisfaction=%{y}<extra></extra>",
         "legendgroup": "4",
         "marker": {
          "color": "#FFA15A",
          "pattern": {
           "shape": ""
          }
         },
         "name": "4",
         "nbinsx": 9,
         "offsetgroup": "4",
         "orientation": "v",
         "showlegend": true,
         "type": "histogram",
         "x": [
          3,
          4,
          5,
          6,
          7,
          8,
          9,
          10
         ],
         "xaxis": "x",
         "y": [
          100,
          100,
          90,
          80,
          70,
          60,
          50,
          40
         ],
         "yaxis": "y"
        },
        {
         "alignmentgroup": "True",
         "bingroup": "x",
         "histfunc": "sum",
         "hovertemplate": "customer_nr=5<br>step=%{x}<br>sum of satisfaction=%{y}<extra></extra>",
         "legendgroup": "5",
         "marker": {
          "color": "#19d3f3",
          "pattern": {
           "shape": ""
          }
         },
         "name": "5",
         "nbinsx": 9,
         "offsetgroup": "5",
         "orientation": "v",
         "showlegend": true,
         "type": "histogram",
         "x": [
          4,
          5,
          6,
          7,
          8,
          9,
          10
         ],
         "xaxis": "x",
         "y": [
          100,
          100,
          90,
          80,
          70,
          60,
          50
         ],
         "yaxis": "y"
        },
        {
         "alignmentgroup": "True",
         "bingroup": "x",
         "histfunc": "sum",
         "hovertemplate": "customer_nr=6<br>step=%{x}<br>sum of satisfaction=%{y}<extra></extra>",
         "legendgroup": "6",
         "marker": {
          "color": "#FF6692",
          "pattern": {
           "shape": ""
          }
         },
         "name": "6",
         "nbinsx": 9,
         "offsetgroup": "6",
         "orientation": "v",
         "showlegend": true,
         "type": "histogram",
         "x": [
          5,
          6,
          7,
          8,
          9,
          10
         ],
         "xaxis": "x",
         "y": [
          100,
          100,
          90,
          80,
          70,
          60
         ],
         "yaxis": "y"
        },
        {
         "alignmentgroup": "True",
         "bingroup": "x",
         "histfunc": "sum",
         "hovertemplate": "customer_nr=7<br>step=%{x}<br>sum of satisfaction=%{y}<extra></extra>",
         "legendgroup": "7",
         "marker": {
          "color": "#B6E880",
          "pattern": {
           "shape": ""
          }
         },
         "name": "7",
         "nbinsx": 9,
         "offsetgroup": "7",
         "orientation": "v",
         "showlegend": true,
         "type": "histogram",
         "x": [
          5,
          6,
          7,
          8,
          9,
          10
         ],
         "xaxis": "x",
         "y": [
          100,
          100,
          90,
          80,
          70,
          60
         ],
         "yaxis": "y"
        },
        {
         "alignmentgroup": "True",
         "bingroup": "x",
         "histfunc": "sum",
         "hovertemplate": "customer_nr=8<br>step=%{x}<br>sum of satisfaction=%{y}<extra></extra>",
         "legendgroup": "8",
         "marker": {
          "color": "#FF97FF",
          "pattern": {
           "shape": ""
          }
         },
         "name": "8",
         "nbinsx": 9,
         "offsetgroup": "8",
         "orientation": "v",
         "showlegend": true,
         "type": "histogram",
         "x": [
          6,
          7,
          8,
          9,
          10
         ],
         "xaxis": "x",
         "y": [
          100,
          100,
          90,
          80,
          70
         ],
         "yaxis": "y"
        },
        {
         "alignmentgroup": "True",
         "bingroup": "x",
         "histfunc": "sum",
         "hovertemplate": "customer_nr=9<br>step=%{x}<br>sum of satisfaction=%{y}<extra></extra>",
         "legendgroup": "9",
         "marker": {
          "color": "#FECB52",
          "pattern": {
           "shape": ""
          }
         },
         "name": "9",
         "nbinsx": 9,
         "offsetgroup": "9",
         "orientation": "v",
         "showlegend": true,
         "type": "histogram",
         "x": [
          6,
          7,
          8,
          9,
          10
         ],
         "xaxis": "x",
         "y": [
          100,
          100,
          90,
          80,
          70
         ],
         "yaxis": "y"
        },
        {
         "alignmentgroup": "True",
         "bingroup": "x",
         "histfunc": "sum",
         "hovertemplate": "customer_nr=10<br>step=%{x}<br>sum of satisfaction=%{y}<extra></extra>",
         "legendgroup": "10",
         "marker": {
          "color": "#636efa",
          "pattern": {
           "shape": ""
          }
         },
         "name": "10",
         "nbinsx": 9,
         "offsetgroup": "10",
         "orientation": "v",
         "showlegend": true,
         "type": "histogram",
         "x": [
          7,
          8,
          9,
          10
         ],
         "xaxis": "x",
         "y": [
          100,
          100,
          90,
          80
         ],
         "yaxis": "y"
        },
        {
         "alignmentgroup": "True",
         "bingroup": "x",
         "histfunc": "sum",
         "hovertemplate": "customer_nr=11<br>step=%{x}<br>sum of satisfaction=%{y}<extra></extra>",
         "legendgroup": "11",
         "marker": {
          "color": "#EF553B",
          "pattern": {
           "shape": ""
          }
         },
         "name": "11",
         "nbinsx": 9,
         "offsetgroup": "11",
         "orientation": "v",
         "showlegend": true,
         "type": "histogram",
         "x": [
          7,
          8,
          9,
          10
         ],
         "xaxis": "x",
         "y": [
          100,
          100,
          90,
          80
         ],
         "yaxis": "y"
        },
        {
         "alignmentgroup": "True",
         "bingroup": "x",
         "histfunc": "sum",
         "hovertemplate": "customer_nr=12<br>step=%{x}<br>sum of satisfaction=%{y}<extra></extra>",
         "legendgroup": "12",
         "marker": {
          "color": "#00cc96",
          "pattern": {
           "shape": ""
          }
         },
         "name": "12",
         "nbinsx": 9,
         "offsetgroup": "12",
         "orientation": "v",
         "showlegend": true,
         "type": "histogram",
         "x": [
          7,
          8,
          9,
          10
         ],
         "xaxis": "x",
         "y": [
          100,
          100,
          90,
          80
         ],
         "yaxis": "y"
        },
        {
         "alignmentgroup": "True",
         "bingroup": "x",
         "histfunc": "sum",
         "hovertemplate": "customer_nr=13<br>step=%{x}<br>sum of satisfaction=%{y}<extra></extra>",
         "legendgroup": "13",
         "marker": {
          "color": "#ab63fa",
          "pattern": {
           "shape": ""
          }
         },
         "name": "13",
         "nbinsx": 9,
         "offsetgroup": "13",
         "orientation": "v",
         "showlegend": true,
         "type": "histogram",
         "x": [
          8,
          9,
          10
         ],
         "xaxis": "x",
         "y": [
          100,
          100,
          90
         ],
         "yaxis": "y"
        },
        {
         "alignmentgroup": "True",
         "bingroup": "x",
         "histfunc": "sum",
         "hovertemplate": "customer_nr=14<br>step=%{x}<br>sum of satisfaction=%{y}<extra></extra>",
         "legendgroup": "14",
         "marker": {
          "color": "#FFA15A",
          "pattern": {
           "shape": ""
          }
         },
         "name": "14",
         "nbinsx": 9,
         "offsetgroup": "14",
         "orientation": "v",
         "showlegend": true,
         "type": "histogram",
         "x": [
          8,
          9,
          10
         ],
         "xaxis": "x",
         "y": [
          100,
          100,
          90
         ],
         "yaxis": "y"
        },
        {
         "alignmentgroup": "True",
         "bingroup": "x",
         "histfunc": "sum",
         "hovertemplate": "customer_nr=15<br>step=%{x}<br>sum of satisfaction=%{y}<extra></extra>",
         "legendgroup": "15",
         "marker": {
          "color": "#19d3f3",
          "pattern": {
           "shape": ""
          }
         },
         "name": "15",
         "nbinsx": 9,
         "offsetgroup": "15",
         "orientation": "v",
         "showlegend": true,
         "type": "histogram",
         "x": [
          8,
          9,
          10
         ],
         "xaxis": "x",
         "y": [
          100,
          100,
          90
         ],
         "yaxis": "y"
        },
        {
         "alignmentgroup": "True",
         "bingroup": "x",
         "histfunc": "sum",
         "hovertemplate": "customer_nr=16<br>step=%{x}<br>sum of satisfaction=%{y}<extra></extra>",
         "legendgroup": "16",
         "marker": {
          "color": "#FF6692",
          "pattern": {
           "shape": ""
          }
         },
         "name": "16",
         "nbinsx": 9,
         "offsetgroup": "16",
         "orientation": "v",
         "showlegend": true,
         "type": "histogram",
         "x": [
          8,
          9,
          10
         ],
         "xaxis": "x",
         "y": [
          100,
          100,
          90
         ],
         "yaxis": "y"
        },
        {
         "alignmentgroup": "True",
         "bingroup": "x",
         "histfunc": "sum",
         "hovertemplate": "customer_nr=17<br>step=%{x}<br>sum of satisfaction=%{y}<extra></extra>",
         "legendgroup": "17",
         "marker": {
          "color": "#B6E880",
          "pattern": {
           "shape": ""
          }
         },
         "name": "17",
         "nbinsx": 9,
         "offsetgroup": "17",
         "orientation": "v",
         "showlegend": true,
         "type": "histogram",
         "x": [
          9,
          10
         ],
         "xaxis": "x",
         "y": [
          100,
          100
         ],
         "yaxis": "y"
        },
        {
         "alignmentgroup": "True",
         "bingroup": "x",
         "histfunc": "sum",
         "hovertemplate": "customer_nr=18<br>step=%{x}<br>sum of satisfaction=%{y}<extra></extra>",
         "legendgroup": "18",
         "marker": {
          "color": "#FF97FF",
          "pattern": {
           "shape": ""
          }
         },
         "name": "18",
         "nbinsx": 9,
         "offsetgroup": "18",
         "orientation": "v",
         "showlegend": true,
         "type": "histogram",
         "x": [
          10
         ],
         "xaxis": "x",
         "y": [
          100
         ],
         "yaxis": "y"
        }
       ],
       "layout": {
        "barmode": "group",
        "height": 400,
        "legend": {
         "title": {
          "text": "customer_nr"
         },
         "tracegroupgap": 0
        },
        "margin": {
         "t": 60
        },
        "template": {
         "data": {
          "bar": [
           {
            "error_x": {
             "color": "#2a3f5f"
            },
            "error_y": {
             "color": "#2a3f5f"
            },
            "marker": {
             "line": {
              "color": "#E5ECF6",
              "width": 0.5
             },
             "pattern": {
              "fillmode": "overlay",
              "size": 10,
              "solidity": 0.2
             }
            },
            "type": "bar"
           }
          ],
          "barpolar": [
           {
            "marker": {
             "line": {
              "color": "#E5ECF6",
              "width": 0.5
             },
             "pattern": {
              "fillmode": "overlay",
              "size": 10,
              "solidity": 0.2
             }
            },
            "type": "barpolar"
           }
          ],
          "carpet": [
           {
            "aaxis": {
             "endlinecolor": "#2a3f5f",
             "gridcolor": "white",
             "linecolor": "white",
             "minorgridcolor": "white",
             "startlinecolor": "#2a3f5f"
            },
            "baxis": {
             "endlinecolor": "#2a3f5f",
             "gridcolor": "white",
             "linecolor": "white",
             "minorgridcolor": "white",
             "startlinecolor": "#2a3f5f"
            },
            "type": "carpet"
           }
          ],
          "choropleth": [
           {
            "colorbar": {
             "outlinewidth": 0,
             "ticks": ""
            },
            "type": "choropleth"
           }
          ],
          "contour": [
           {
            "colorbar": {
             "outlinewidth": 0,
             "ticks": ""
            },
            "colorscale": [
             [
              0,
              "#0d0887"
             ],
             [
              0.1111111111111111,
              "#46039f"
             ],
             [
              0.2222222222222222,
              "#7201a8"
             ],
             [
              0.3333333333333333,
              "#9c179e"
             ],
             [
              0.4444444444444444,
              "#bd3786"
             ],
             [
              0.5555555555555556,
              "#d8576b"
             ],
             [
              0.6666666666666666,
              "#ed7953"
             ],
             [
              0.7777777777777778,
              "#fb9f3a"
             ],
             [
              0.8888888888888888,
              "#fdca26"
             ],
             [
              1,
              "#f0f921"
             ]
            ],
            "type": "contour"
           }
          ],
          "contourcarpet": [
           {
            "colorbar": {
             "outlinewidth": 0,
             "ticks": ""
            },
            "type": "contourcarpet"
           }
          ],
          "heatmap": [
           {
            "colorbar": {
             "outlinewidth": 0,
             "ticks": ""
            },
            "colorscale": [
             [
              0,
              "#0d0887"
             ],
             [
              0.1111111111111111,
              "#46039f"
             ],
             [
              0.2222222222222222,
              "#7201a8"
             ],
             [
              0.3333333333333333,
              "#9c179e"
             ],
             [
              0.4444444444444444,
              "#bd3786"
             ],
             [
              0.5555555555555556,
              "#d8576b"
             ],
             [
              0.6666666666666666,
              "#ed7953"
             ],
             [
              0.7777777777777778,
              "#fb9f3a"
             ],
             [
              0.8888888888888888,
              "#fdca26"
             ],
             [
              1,
              "#f0f921"
             ]
            ],
            "type": "heatmap"
           }
          ],
          "heatmapgl": [
           {
            "colorbar": {
             "outlinewidth": 0,
             "ticks": ""
            },
            "colorscale": [
             [
              0,
              "#0d0887"
             ],
             [
              0.1111111111111111,
              "#46039f"
             ],
             [
              0.2222222222222222,
              "#7201a8"
             ],
             [
              0.3333333333333333,
              "#9c179e"
             ],
             [
              0.4444444444444444,
              "#bd3786"
             ],
             [
              0.5555555555555556,
              "#d8576b"
             ],
             [
              0.6666666666666666,
              "#ed7953"
             ],
             [
              0.7777777777777778,
              "#fb9f3a"
             ],
             [
              0.8888888888888888,
              "#fdca26"
             ],
             [
              1,
              "#f0f921"
             ]
            ],
            "type": "heatmapgl"
           }
          ],
          "histogram": [
           {
            "marker": {
             "pattern": {
              "fillmode": "overlay",
              "size": 10,
              "solidity": 0.2
             }
            },
            "type": "histogram"
           }
          ],
          "histogram2d": [
           {
            "colorbar": {
             "outlinewidth": 0,
             "ticks": ""
            },
            "colorscale": [
             [
              0,
              "#0d0887"
             ],
             [
              0.1111111111111111,
              "#46039f"
             ],
             [
              0.2222222222222222,
              "#7201a8"
             ],
             [
              0.3333333333333333,
              "#9c179e"
             ],
             [
              0.4444444444444444,
              "#bd3786"
             ],
             [
              0.5555555555555556,
              "#d8576b"
             ],
             [
              0.6666666666666666,
              "#ed7953"
             ],
             [
              0.7777777777777778,
              "#fb9f3a"
             ],
             [
              0.8888888888888888,
              "#fdca26"
             ],
             [
              1,
              "#f0f921"
             ]
            ],
            "type": "histogram2d"
           }
          ],
          "histogram2dcontour": [
           {
            "colorbar": {
             "outlinewidth": 0,
             "ticks": ""
            },
            "colorscale": [
             [
              0,
              "#0d0887"
             ],
             [
              0.1111111111111111,
              "#46039f"
             ],
             [
              0.2222222222222222,
              "#7201a8"
             ],
             [
              0.3333333333333333,
              "#9c179e"
             ],
             [
              0.4444444444444444,
              "#bd3786"
             ],
             [
              0.5555555555555556,
              "#d8576b"
             ],
             [
              0.6666666666666666,
              "#ed7953"
             ],
             [
              0.7777777777777778,
              "#fb9f3a"
             ],
             [
              0.8888888888888888,
              "#fdca26"
             ],
             [
              1,
              "#f0f921"
             ]
            ],
            "type": "histogram2dcontour"
           }
          ],
          "mesh3d": [
           {
            "colorbar": {
             "outlinewidth": 0,
             "ticks": ""
            },
            "type": "mesh3d"
           }
          ],
          "parcoords": [
           {
            "line": {
             "colorbar": {
              "outlinewidth": 0,
              "ticks": ""
             }
            },
            "type": "parcoords"
           }
          ],
          "pie": [
           {
            "automargin": true,
            "type": "pie"
           }
          ],
          "scatter": [
           {
            "fillpattern": {
             "fillmode": "overlay",
             "size": 10,
             "solidity": 0.2
            },
            "type": "scatter"
           }
          ],
          "scatter3d": [
           {
            "line": {
             "colorbar": {
              "outlinewidth": 0,
              "ticks": ""
             }
            },
            "marker": {
             "colorbar": {
              "outlinewidth": 0,
              "ticks": ""
             }
            },
            "type": "scatter3d"
           }
          ],
          "scattercarpet": [
           {
            "marker": {
             "colorbar": {
              "outlinewidth": 0,
              "ticks": ""
             }
            },
            "type": "scattercarpet"
           }
          ],
          "scattergeo": [
           {
            "marker": {
             "colorbar": {
              "outlinewidth": 0,
              "ticks": ""
             }
            },
            "type": "scattergeo"
           }
          ],
          "scattergl": [
           {
            "marker": {
             "colorbar": {
              "outlinewidth": 0,
              "ticks": ""
             }
            },
            "type": "scattergl"
           }
          ],
          "scattermapbox": [
           {
            "marker": {
             "colorbar": {
              "outlinewidth": 0,
              "ticks": ""
             }
            },
            "type": "scattermapbox"
           }
          ],
          "scatterpolar": [
           {
            "marker": {
             "colorbar": {
              "outlinewidth": 0,
              "ticks": ""
             }
            },
            "type": "scatterpolar"
           }
          ],
          "scatterpolargl": [
           {
            "marker": {
             "colorbar": {
              "outlinewidth": 0,
              "ticks": ""
             }
            },
            "type": "scatterpolargl"
           }
          ],
          "scatterternary": [
           {
            "marker": {
             "colorbar": {
              "outlinewidth": 0,
              "ticks": ""
             }
            },
            "type": "scatterternary"
           }
          ],
          "surface": [
           {
            "colorbar": {
             "outlinewidth": 0,
             "ticks": ""
            },
            "colorscale": [
             [
              0,
              "#0d0887"
             ],
             [
              0.1111111111111111,
              "#46039f"
             ],
             [
              0.2222222222222222,
              "#7201a8"
             ],
             [
              0.3333333333333333,
              "#9c179e"
             ],
             [
              0.4444444444444444,
              "#bd3786"
             ],
             [
              0.5555555555555556,
              "#d8576b"
             ],
             [
              0.6666666666666666,
              "#ed7953"
             ],
             [
              0.7777777777777778,
              "#fb9f3a"
             ],
             [
              0.8888888888888888,
              "#fdca26"
             ],
             [
              1,
              "#f0f921"
             ]
            ],
            "type": "surface"
           }
          ],
          "table": [
           {
            "cells": {
             "fill": {
              "color": "#EBF0F8"
             },
             "line": {
              "color": "white"
             }
            },
            "header": {
             "fill": {
              "color": "#C8D4E3"
             },
             "line": {
              "color": "white"
             }
            },
            "type": "table"
           }
          ]
         },
         "layout": {
          "annotationdefaults": {
           "arrowcolor": "#2a3f5f",
           "arrowhead": 0,
           "arrowwidth": 1
          },
          "autotypenumbers": "strict",
          "coloraxis": {
           "colorbar": {
            "outlinewidth": 0,
            "ticks": ""
           }
          },
          "colorscale": {
           "diverging": [
            [
             0,
             "#8e0152"
            ],
            [
             0.1,
             "#c51b7d"
            ],
            [
             0.2,
             "#de77ae"
            ],
            [
             0.3,
             "#f1b6da"
            ],
            [
             0.4,
             "#fde0ef"
            ],
            [
             0.5,
             "#f7f7f7"
            ],
            [
             0.6,
             "#e6f5d0"
            ],
            [
             0.7,
             "#b8e186"
            ],
            [
             0.8,
             "#7fbc41"
            ],
            [
             0.9,
             "#4d9221"
            ],
            [
             1,
             "#276419"
            ]
           ],
           "sequential": [
            [
             0,
             "#0d0887"
            ],
            [
             0.1111111111111111,
             "#46039f"
            ],
            [
             0.2222222222222222,
             "#7201a8"
            ],
            [
             0.3333333333333333,
             "#9c179e"
            ],
            [
             0.4444444444444444,
             "#bd3786"
            ],
            [
             0.5555555555555556,
             "#d8576b"
            ],
            [
             0.6666666666666666,
             "#ed7953"
            ],
            [
             0.7777777777777778,
             "#fb9f3a"
            ],
            [
             0.8888888888888888,
             "#fdca26"
            ],
            [
             1,
             "#f0f921"
            ]
           ],
           "sequentialminus": [
            [
             0,
             "#0d0887"
            ],
            [
             0.1111111111111111,
             "#46039f"
            ],
            [
             0.2222222222222222,
             "#7201a8"
            ],
            [
             0.3333333333333333,
             "#9c179e"
            ],
            [
             0.4444444444444444,
             "#bd3786"
            ],
            [
             0.5555555555555556,
             "#d8576b"
            ],
            [
             0.6666666666666666,
             "#ed7953"
            ],
            [
             0.7777777777777778,
             "#fb9f3a"
            ],
            [
             0.8888888888888888,
             "#fdca26"
            ],
            [
             1,
             "#f0f921"
            ]
           ]
          },
          "colorway": [
           "#636efa",
           "#EF553B",
           "#00cc96",
           "#ab63fa",
           "#FFA15A",
           "#19d3f3",
           "#FF6692",
           "#B6E880",
           "#FF97FF",
           "#FECB52"
          ],
          "font": {
           "color": "#2a3f5f"
          },
          "geo": {
           "bgcolor": "white",
           "lakecolor": "white",
           "landcolor": "#E5ECF6",
           "showlakes": true,
           "showland": true,
           "subunitcolor": "white"
          },
          "hoverlabel": {
           "align": "left"
          },
          "hovermode": "closest",
          "mapbox": {
           "style": "light"
          },
          "paper_bgcolor": "white",
          "plot_bgcolor": "#E5ECF6",
          "polar": {
           "angularaxis": {
            "gridcolor": "white",
            "linecolor": "white",
            "ticks": ""
           },
           "bgcolor": "#E5ECF6",
           "radialaxis": {
            "gridcolor": "white",
            "linecolor": "white",
            "ticks": ""
           }
          },
          "scene": {
           "xaxis": {
            "backgroundcolor": "#E5ECF6",
            "gridcolor": "white",
            "gridwidth": 2,
            "linecolor": "white",
            "showbackground": true,
            "ticks": "",
            "zerolinecolor": "white"
           },
           "yaxis": {
            "backgroundcolor": "#E5ECF6",
            "gridcolor": "white",
            "gridwidth": 2,
            "linecolor": "white",
            "showbackground": true,
            "ticks": "",
            "zerolinecolor": "white"
           },
           "zaxis": {
            "backgroundcolor": "#E5ECF6",
            "gridcolor": "white",
            "gridwidth": 2,
            "linecolor": "white",
            "showbackground": true,
            "ticks": "",
            "zerolinecolor": "white"
           }
          },
          "shapedefaults": {
           "line": {
            "color": "#2a3f5f"
           }
          },
          "ternary": {
           "aaxis": {
            "gridcolor": "white",
            "linecolor": "white",
            "ticks": ""
           },
           "baxis": {
            "gridcolor": "white",
            "linecolor": "white",
            "ticks": ""
           },
           "bgcolor": "#E5ECF6",
           "caxis": {
            "gridcolor": "white",
            "linecolor": "white",
            "ticks": ""
           }
          },
          "title": {
           "x": 0.05
          },
          "xaxis": {
           "automargin": true,
           "gridcolor": "white",
           "linecolor": "white",
           "ticks": "",
           "title": {
            "standoff": 15
           },
           "zerolinecolor": "white",
           "zerolinewidth": 2
          },
          "yaxis": {
           "automargin": true,
           "gridcolor": "white",
           "linecolor": "white",
           "ticks": "",
           "title": {
            "standoff": 15
           },
           "zerolinecolor": "white",
           "zerolinewidth": 2
          }
         }
        },
        "xaxis": {
         "anchor": "y",
         "domain": [
          0,
          1
         ],
         "title": {
          "text": "step"
         }
        },
        "yaxis": {
         "anchor": "x",
         "domain": [
          0,
          1
         ],
         "title": {
          "text": "sum of satisfaction"
         }
        }
       }
      }
     },
     "metadata": {},
     "output_type": "display_data"
    },
    {
     "name": "stdout",
     "output_type": "stream",
     "text": [
      "None\n"
     ]
    }
   ],
   "source": [
    "from mesa_restaurant_agents.visualization import *\n",
    "\n",
    "df_mean_step = display_mean_step_results(results)\n",
    "df_first_run = display_first_run_step_results(results)"
   ]
  },
  {
   "cell_type": "code",
   "execution_count": 4,
   "metadata": {},
   "outputs": [
    {
     "data": {
      "text/html": [
       "<div>\n",
       "<style scoped>\n",
       "    .dataframe tbody tr th:only-of-type {\n",
       "        vertical-align: middle;\n",
       "    }\n",
       "\n",
       "    .dataframe tbody tr th {\n",
       "        vertical-align: top;\n",
       "    }\n",
       "\n",
       "    .dataframe thead th {\n",
       "        text-align: right;\n",
       "    }\n",
       "</style>\n",
       "<table border=\"1\" class=\"dataframe\">\n",
       "  <thead>\n",
       "    <tr style=\"text-align: right;\">\n",
       "      <th></th>\n",
       "      <th>Step</th>\n",
       "      <th>mean_customer_count</th>\n",
       "      <th>mean_waiting_time</th>\n",
       "      <th>mean_customer_satisfaction</th>\n",
       "      <th>mean_profit</th>\n",
       "    </tr>\n",
       "  </thead>\n",
       "  <tbody>\n",
       "    <tr>\n",
       "      <th>0</th>\n",
       "      <td>0</td>\n",
       "      <td>2.6</td>\n",
       "      <td>0.000000</td>\n",
       "      <td>100.000000</td>\n",
       "      <td>0.0</td>\n",
       "    </tr>\n",
       "    <tr>\n",
       "      <th>1</th>\n",
       "      <td>1</td>\n",
       "      <td>4.0</td>\n",
       "      <td>0.000000</td>\n",
       "      <td>100.000000</td>\n",
       "      <td>0.0</td>\n",
       "    </tr>\n",
       "    <tr>\n",
       "      <th>2</th>\n",
       "      <td>2</td>\n",
       "      <td>5.4</td>\n",
       "      <td>1.728571</td>\n",
       "      <td>96.542857</td>\n",
       "      <td>0.0</td>\n",
       "    </tr>\n",
       "    <tr>\n",
       "      <th>3</th>\n",
       "      <td>3</td>\n",
       "      <td>8.0</td>\n",
       "      <td>3.021429</td>\n",
       "      <td>93.957143</td>\n",
       "      <td>0.0</td>\n",
       "    </tr>\n",
       "    <tr>\n",
       "      <th>4</th>\n",
       "      <td>4</td>\n",
       "      <td>9.2</td>\n",
       "      <td>4.904040</td>\n",
       "      <td>90.191919</td>\n",
       "      <td>0.0</td>\n",
       "    </tr>\n",
       "    <tr>\n",
       "      <th>5</th>\n",
       "      <td>5</td>\n",
       "      <td>10.4</td>\n",
       "      <td>7.872222</td>\n",
       "      <td>84.255556</td>\n",
       "      <td>0.0</td>\n",
       "    </tr>\n",
       "    <tr>\n",
       "      <th>6</th>\n",
       "      <td>6</td>\n",
       "      <td>11.8</td>\n",
       "      <td>10.620513</td>\n",
       "      <td>78.758974</td>\n",
       "      <td>0.0</td>\n",
       "    </tr>\n",
       "    <tr>\n",
       "      <th>7</th>\n",
       "      <td>7</td>\n",
       "      <td>13.8</td>\n",
       "      <td>12.415385</td>\n",
       "      <td>75.169231</td>\n",
       "      <td>0.0</td>\n",
       "    </tr>\n",
       "    <tr>\n",
       "      <th>8</th>\n",
       "      <td>8</td>\n",
       "      <td>16.0</td>\n",
       "      <td>14.237745</td>\n",
       "      <td>71.524510</td>\n",
       "      <td>0.0</td>\n",
       "    </tr>\n",
       "    <tr>\n",
       "      <th>9</th>\n",
       "      <td>9</td>\n",
       "      <td>17.4</td>\n",
       "      <td>16.795527</td>\n",
       "      <td>66.408947</td>\n",
       "      <td>0.0</td>\n",
       "    </tr>\n",
       "    <tr>\n",
       "      <th>10</th>\n",
       "      <td>10</td>\n",
       "      <td>19.0</td>\n",
       "      <td>19.196506</td>\n",
       "      <td>61.606987</td>\n",
       "      <td>0.0</td>\n",
       "    </tr>\n",
       "  </tbody>\n",
       "</table>\n",
       "</div>"
      ],
      "text/plain": [
       "    Step  mean_customer_count  mean_waiting_time  mean_customer_satisfaction  \\\n",
       "0      0                  2.6           0.000000                  100.000000   \n",
       "1      1                  4.0           0.000000                  100.000000   \n",
       "2      2                  5.4           1.728571                   96.542857   \n",
       "3      3                  8.0           3.021429                   93.957143   \n",
       "4      4                  9.2           4.904040                   90.191919   \n",
       "5      5                 10.4           7.872222                   84.255556   \n",
       "6      6                 11.8          10.620513                   78.758974   \n",
       "7      7                 13.8          12.415385                   75.169231   \n",
       "8      8                 16.0          14.237745                   71.524510   \n",
       "9      9                 17.4          16.795527                   66.408947   \n",
       "10    10                 19.0          19.196506                   61.606987   \n",
       "\n",
       "    mean_profit  \n",
       "0           0.0  \n",
       "1           0.0  \n",
       "2           0.0  \n",
       "3           0.0  \n",
       "4           0.0  \n",
       "5           0.0  \n",
       "6           0.0  \n",
       "7           0.0  \n",
       "8           0.0  \n",
       "9           0.0  \n",
       "10          0.0  "
      ]
     },
     "execution_count": 4,
     "metadata": {},
     "output_type": "execute_result"
    }
   ],
   "source": [
    "df_mean_step"
   ]
  },
  {
   "cell_type": "code",
   "execution_count": 5,
   "metadata": {},
   "outputs": [
    {
     "data": {
      "text/html": [
       "<div>\n",
       "<style scoped>\n",
       "    .dataframe tbody tr th:only-of-type {\n",
       "        vertical-align: middle;\n",
       "    }\n",
       "\n",
       "    .dataframe tbody tr th {\n",
       "        vertical-align: top;\n",
       "    }\n",
       "\n",
       "    .dataframe thead th {\n",
       "        text-align: right;\n",
       "    }\n",
       "</style>\n",
       "<table border=\"1\" class=\"dataframe\">\n",
       "  <thead>\n",
       "    <tr style=\"text-align: right;\">\n",
       "      <th></th>\n",
       "      <th>customer_nr</th>\n",
       "      <th>waiting_time</th>\n",
       "      <th>order_status</th>\n",
       "      <th>satisfaction</th>\n",
       "      <th>step</th>\n",
       "    </tr>\n",
       "  </thead>\n",
       "  <tbody>\n",
       "    <tr>\n",
       "      <th>0</th>\n",
       "      <td>0</td>\n",
       "      <td>0.0</td>\n",
       "      <td>0</td>\n",
       "      <td>100.0</td>\n",
       "      <td>2</td>\n",
       "    </tr>\n",
       "    <tr>\n",
       "      <th>2</th>\n",
       "      <td>0</td>\n",
       "      <td>0.0</td>\n",
       "      <td>1</td>\n",
       "      <td>100.0</td>\n",
       "      <td>3</td>\n",
       "    </tr>\n",
       "    <tr>\n",
       "      <th>7</th>\n",
       "      <td>0</td>\n",
       "      <td>0.0</td>\n",
       "      <td>3</td>\n",
       "      <td>100.0</td>\n",
       "      <td>4</td>\n",
       "    </tr>\n",
       "    <tr>\n",
       "      <th>13</th>\n",
       "      <td>0</td>\n",
       "      <td>0.0</td>\n",
       "      <td>3</td>\n",
       "      <td>100.0</td>\n",
       "      <td>5</td>\n",
       "    </tr>\n",
       "    <tr>\n",
       "      <th>21</th>\n",
       "      <td>0</td>\n",
       "      <td>0.0</td>\n",
       "      <td>3</td>\n",
       "      <td>100.0</td>\n",
       "      <td>6</td>\n",
       "    </tr>\n",
       "    <tr>\n",
       "      <th>...</th>\n",
       "      <td>...</td>\n",
       "      <td>...</td>\n",
       "      <td>...</td>\n",
       "      <td>...</td>\n",
       "      <td>...</td>\n",
       "    </tr>\n",
       "    <tr>\n",
       "      <th>77</th>\n",
       "      <td>16</td>\n",
       "      <td>0.0</td>\n",
       "      <td>0</td>\n",
       "      <td>100.0</td>\n",
       "      <td>9</td>\n",
       "    </tr>\n",
       "    <tr>\n",
       "      <th>95</th>\n",
       "      <td>16</td>\n",
       "      <td>5.0</td>\n",
       "      <td>0</td>\n",
       "      <td>90.0</td>\n",
       "      <td>10</td>\n",
       "    </tr>\n",
       "    <tr>\n",
       "      <th>78</th>\n",
       "      <td>17</td>\n",
       "      <td>0.0</td>\n",
       "      <td>0</td>\n",
       "      <td>100.0</td>\n",
       "      <td>9</td>\n",
       "    </tr>\n",
       "    <tr>\n",
       "      <th>96</th>\n",
       "      <td>17</td>\n",
       "      <td>0.0</td>\n",
       "      <td>0</td>\n",
       "      <td>100.0</td>\n",
       "      <td>10</td>\n",
       "    </tr>\n",
       "    <tr>\n",
       "      <th>97</th>\n",
       "      <td>18</td>\n",
       "      <td>0.0</td>\n",
       "      <td>0</td>\n",
       "      <td>100.0</td>\n",
       "      <td>10</td>\n",
       "    </tr>\n",
       "  </tbody>\n",
       "</table>\n",
       "<p>98 rows × 5 columns</p>\n",
       "</div>"
      ],
      "text/plain": [
       "    customer_nr  waiting_time  order_status  satisfaction  step\n",
       "0             0           0.0             0         100.0     2\n",
       "2             0           0.0             1         100.0     3\n",
       "7             0           0.0             3         100.0     4\n",
       "13            0           0.0             3         100.0     5\n",
       "21            0           0.0             3         100.0     6\n",
       "..          ...           ...           ...           ...   ...\n",
       "77           16           0.0             0         100.0     9\n",
       "95           16           5.0             0          90.0    10\n",
       "78           17           0.0             0         100.0     9\n",
       "96           17           0.0             0         100.0    10\n",
       "97           18           0.0             0         100.0    10\n",
       "\n",
       "[98 rows x 5 columns]"
      ]
     },
     "execution_count": 5,
     "metadata": {},
     "output_type": "execute_result"
    }
   ],
   "source": [
    "df_first_run.sort_values(['customer_nr', 'step'])"
   ]
  }
 ],
 "metadata": {
  "kernelspec": {
   "display_name": "Python 3",
   "language": "python",
   "name": "python3"
  },
  "language_info": {
   "codemirror_mode": {
    "name": "ipython",
    "version": 3
   },
   "file_extension": ".py",
   "mimetype": "text/x-python",
   "name": "python",
   "nbconvert_exporter": "python",
   "pygments_lexer": "ipython3",
   "version": "3.12.6"
  }
 },
 "nbformat": 4,
 "nbformat_minor": 2
}
