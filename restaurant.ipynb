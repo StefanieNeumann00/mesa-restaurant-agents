{
 "cells": [
  {
   "cell_type": "code",
   "execution_count": 1,
   "metadata": {},
   "outputs": [],
   "source": [
    "#pip install --upgrade mesa[rec]"
   ]
  },
  {
   "cell_type": "code",
   "execution_count": 2,
   "metadata": {},
   "outputs": [],
   "source": [
    "import mesa\n",
    "import random"
   ]
  },
  {
   "cell_type": "code",
   "execution_count": 3,
   "metadata": {},
   "outputs": [],
   "source": [
    "food_options = [\"vegetarian\", \"meat\", \"gluten free\"]"
   ]
  },
  {
   "cell_type": "code",
   "execution_count": 4,
   "metadata": {},
   "outputs": [],
   "source": [
    "class CustomerAgent(mesa.Agent):\n",
    "\n",
    "    def __init__(self, model):\n",
    "        super().__init__(model)\n",
    "        self.food_preference = random.choice(food_options)\n",
    "\n",
    "    def move(self):\n",
    "        pass\n",
    "\n",
    "class WaiterAgent(mesa.Agent):\n",
    "\n",
    "    def __init__(self, model):\n",
    "        super().__init__(model)\n",
    "\n",
    "    def move(self):\n",
    "        pass\n",
    "\n",
    "\n",
    "class ManagerAgent(mesa.Agent):\n",
    "\n",
    "    def __init__(self, model):\n",
    "        super().__init__(model)\n",
    "\n",
    "    def move(self):\n",
    "        pass"
   ]
  },
  {
   "cell_type": "code",
   "execution_count": 5,
   "metadata": {},
   "outputs": [],
   "source": [
    "def count_customer_agents(model):\n",
    "    count = sum(isinstance(agent, CustomerAgent) for agent in model.agents)\n",
    "    return count\n",
    "\n",
    "\n",
    "class RestaurantModel(mesa.Model):\n",
    "\n",
    "    def __init__(self, n_waiters, n_customers, n_managers=1, seed=None):\n",
    "        super().__init__(seed=seed)\n",
    "        self.n_waiters = n_waiters\n",
    "        self.n_customers = n_customers\n",
    "        self.n_managers = n_managers\n",
    "        self.running = True\n",
    "\n",
    "        CustomerAgent.create_agents(model=self, n=n_customers)\n",
    "        WaiterAgent.create_agents(model=self, n=n_waiters)\n",
    "        ManagerAgent.create_agents(model=self, n=n_managers)\n",
    "\n",
    "        self.datacollector = mesa.DataCollector(\n",
    "            model_reporters={\"num_customers\": lambda m: count_customer_agents(self)}\n",
    "        )\n",
    "\n",
    "    def step(self):\n",
    "        self.datacollector.collect(self)\n",
    "        self.agents.shuffle_do(\"move\")"
   ]
  },
  {
   "cell_type": "code",
   "execution_count": 6,
   "metadata": {},
   "outputs": [
    {
     "data": {
      "application/vnd.jupyter.widget-view+json": {
       "model_id": "4c70e46588c04cbe87ac307b181007c5",
       "version_major": 2,
       "version_minor": 0
      },
      "text/plain": [
       "  0%|          | 0/5 [00:00<?, ?it/s]"
      ]
     },
     "metadata": {},
     "output_type": "display_data"
    }
   ],
   "source": [
    "params = {\"n_waiters\":2, \"n_customers\":5}\n",
    "\n",
    "results = mesa.batch_run(\n",
    "    RestaurantModel,\n",
    "    parameters=params,\n",
    "    iterations=5,\n",
    "    max_steps=10,\n",
    "    number_processes=1,\n",
    "    data_collection_period=1,\n",
    "    display_progress=True,\n",
    ")\n",
    "print(results)"
   ]
  }
 ],
 "metadata": {
  "kernelspec": {
   "display_name": "Python 3",
   "language": "python",
   "name": "python3"
  },
  "language_info": {
   "codemirror_mode": {
    "name": "ipython",
    "version": 3
   },
   "file_extension": ".py",
   "mimetype": "text/x-python",
   "name": "python",
   "nbconvert_exporter": "python",
   "pygments_lexer": "ipython3",
   "version": "3.12.6"
  }
 },
 "nbformat": 4,
 "nbformat_minor": 2
}
