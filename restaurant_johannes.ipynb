{
 "cells": [
  {
   "cell_type": "code",
   "id": "initial_id",
   "metadata": {
    "collapsed": true,
    "ExecuteTime": {
     "end_time": "2025-02-18T13:57:19.395958Z",
     "start_time": "2025-02-18T13:57:17.145758Z"
    }
   },
   "source": "!pip install pandas scikit-learn scipy numpy",
   "outputs": [
    {
     "name": "stdout",
     "output_type": "stream",
     "text": [
      "Requirement already satisfied: pandas in /opt/anaconda3/envs/mesa_tutorial/lib/python3.12/site-packages (2.2.3)\r\n",
      "Collecting scikit-learn\r\n",
      "  Downloading scikit_learn-1.6.1-cp312-cp312-macosx_12_0_arm64.whl.metadata (31 kB)\r\n",
      "Requirement already satisfied: scipy in /opt/anaconda3/envs/mesa_tutorial/lib/python3.12/site-packages (1.15.1)\r\n",
      "Requirement already satisfied: numpy in /opt/anaconda3/envs/mesa_tutorial/lib/python3.12/site-packages (2.2.2)\r\n",
      "Requirement already satisfied: python-dateutil>=2.8.2 in /opt/anaconda3/envs/mesa_tutorial/lib/python3.12/site-packages (from pandas) (2.9.0.post0)\r\n",
      "Requirement already satisfied: pytz>=2020.1 in /opt/anaconda3/envs/mesa_tutorial/lib/python3.12/site-packages (from pandas) (2024.1)\r\n",
      "Requirement already satisfied: tzdata>=2022.7 in /opt/anaconda3/envs/mesa_tutorial/lib/python3.12/site-packages (from pandas) (2024.2)\r\n",
      "Collecting joblib>=1.2.0 (from scikit-learn)\r\n",
      "  Using cached joblib-1.4.2-py3-none-any.whl.metadata (5.4 kB)\r\n",
      "Collecting threadpoolctl>=3.1.0 (from scikit-learn)\r\n",
      "  Using cached threadpoolctl-3.5.0-py3-none-any.whl.metadata (13 kB)\r\n",
      "Requirement already satisfied: six>=1.5 in /opt/anaconda3/envs/mesa_tutorial/lib/python3.12/site-packages (from python-dateutil>=2.8.2->pandas) (1.16.0)\r\n",
      "Downloading scikit_learn-1.6.1-cp312-cp312-macosx_12_0_arm64.whl (11.2 MB)\r\n",
      "\u001B[2K   \u001B[90m━━━━━━━━━━━━━━━━━━━━━━━━━━━━━━━━━━━━━━━━\u001B[0m \u001B[32m11.2/11.2 MB\u001B[0m \u001B[31m67.4 MB/s\u001B[0m eta \u001B[36m0:00:00\u001B[0m\r\n",
      "\u001B[?25hUsing cached joblib-1.4.2-py3-none-any.whl (301 kB)\r\n",
      "Using cached threadpoolctl-3.5.0-py3-none-any.whl (18 kB)\r\n",
      "Installing collected packages: threadpoolctl, joblib, scikit-learn\r\n",
      "Successfully installed joblib-1.4.2 scikit-learn-1.6.1 threadpoolctl-3.5.0\r\n"
     ]
    }
   ],
   "execution_count": 1
  },
  {
   "metadata": {
    "ExecuteTime": {
     "end_time": "2025-02-18T13:58:40.080645Z",
     "start_time": "2025-02-18T13:58:39.735380Z"
    }
   },
   "cell_type": "code",
   "source": [
    "import mesa\n",
    "print(mesa.__version__)"
   ],
   "id": "69b7791eff7ee861",
   "outputs": [
    {
     "name": "stdout",
     "output_type": "stream",
     "text": [
      "3.1.3\n"
     ]
    }
   ],
   "execution_count": 2
  },
  {
   "metadata": {
    "ExecuteTime": {
     "end_time": "2025-02-18T14:31:41.677488Z",
     "start_time": "2025-02-18T14:31:41.675170Z"
    }
   },
   "cell_type": "code",
   "source": [
    "from enum import Enum\n",
    "\n",
    "# Enum to track the status of customer orders\n",
    "class OrderStatus(Enum):\n",
    "    WAITING = 0    # Customer hasn't ordered yet\n",
    "    ORDERED = 1    # Order has been placed\n",
    "    PREPARING = 2  # Food is being prepared\n",
    "    SERVED = 3     # Food has been delivered\n",
    "\n",
    "# Available food options in the restaurant\n",
    "food_options = [\"vegetarian\", \"meat\", \"gluten free\"]"
   ],
   "id": "a995a0d6d6b2c30",
   "outputs": [],
   "execution_count": 5
  },
  {
   "metadata": {
    "ExecuteTime": {
     "end_time": "2025-02-18T14:34:02.295214Z",
     "start_time": "2025-02-18T14:34:02.292630Z"
    }
   },
   "cell_type": "code",
   "source": [
    "import mesa\n",
    "import random\n",
    "\n",
    "class CustomerAgent(mesa.Agent):\n",
    "    def __init__(self):\n",
    "        super().__init__()\n",
    "        # Initialize customer properties\n",
    "        self.food_preference = random.choice(food_options)\n",
    "        self.waiting_time = 0                         # Time spent waiting\n",
    "        self.order_status = OrderStatus.WAITING       # Current order status\n",
    "        self.satisfaction = 0                         # Overall satisfaction (0-100)\n",
    "        self.tip = 0                                 # Amount of tip given\n",
    "        self.rating = 0                              # Rating given (1-5)\n",
    "        self.assigned_waiter = None                  # Reference to assigned waiter\n",
    "\n",
    "    def step(self):\n",
    "        # Increment waiting time if not served yet\n",
    "        if self.order_status != OrderStatus.SERVED:\n",
    "            self.waiting_time += 1\n",
    "\n",
    "    def order_dish(self, waiter):\n",
    "        # Place order with waiter if not already ordered\n",
    "        if self.order_status == OrderStatus.WAITING:\n",
    "            self.order_status = OrderStatus.ORDERED\n",
    "            self.assigned_waiter = waiter\n",
    "            return self.food_preference\n",
    "\n",
    "    def rate_experience(self):\n",
    "        # Calculate satisfaction based on waiting time\n",
    "        self.satisfaction = max(0, 100 - self.waiting_time)\n",
    "        # Convert satisfaction to 1-5 star rating\n",
    "        self.rating = max(1, self.satisfaction / 20)\n",
    "        # Calculate tip based on satisfaction\n",
    "        self.tip = self.satisfaction / 10\n",
    "\n"
   ],
   "id": "f4dc6778ee4604d9",
   "outputs": [],
   "execution_count": 6
  },
  {
   "metadata": {
    "ExecuteTime": {
     "end_time": "2025-02-18T14:34:13.199966Z",
     "start_time": "2025-02-18T14:34:13.196658Z"
    }
   },
   "cell_type": "code",
   "source": [
    "class WaiterAgent(mesa.Agent):\n",
    "    def __init__(self):\n",
    "        super().__init__()\n",
    "        # Initialize waiter properties\n",
    "        self.busy = False                # Current serving status\n",
    "        self.current_orders = []         # List of (customer, order) tuples\n",
    "        self.tips = 0                    # Total tips received\n",
    "        self.avg_rating = 0              # Average rating from customers\n",
    "        self.ratings_count = 0           # Number of ratings received\n",
    "        self.served_customers = 0        # Total customers served\n",
    "\n",
    "    def take_order(self, customer):\n",
    "        # Take order from customer if waiter is available\n",
    "        if not self.busy:\n",
    "            order = customer.order_dish(self)\n",
    "            if order:\n",
    "                self.current_orders.append((customer, order))\n",
    "                self.busy = True\n",
    "                return True\n",
    "        return False\n",
    "\n",
    "    def serve_dish(self, customer):\n",
    "        # Serve food to customer and collect feedback\n",
    "        if customer in [c for c, _ in self.current_orders]:\n",
    "            customer.order_status = OrderStatus.SERVED\n",
    "            # Remove served customer from current orders\n",
    "            self.current_orders = [(c, o) for c, o in self.current_orders if c != customer]\n",
    "            self.busy = len(self.current_orders) > 0\n",
    "            self.served_customers += 1\n",
    "\n",
    "            # Update waiter's performance metrics\n",
    "            rating = customer.rating\n",
    "            tip = customer.tip\n",
    "            self.tips += tip\n",
    "            self.ratings_count += 1\n",
    "            self.avg_rating = ((self.avg_rating * (self.ratings_count - 1)) + rating) / self.ratings_count"
   ],
   "id": "f6825a1d75cde87b",
   "outputs": [],
   "execution_count": 7
  },
  {
   "metadata": {
    "ExecuteTime": {
     "end_time": "2025-02-18T14:34:37.833939Z",
     "start_time": "2025-02-18T14:34:37.831029Z"
    }
   },
   "cell_type": "code",
   "source": [
    "class ManagerAgent(mesa.Agent):\n",
    "    def __init__(self):\n",
    "        super().__init__()\n",
    "        # Initialize manager properties\n",
    "        self.food_inventory = {option: 100 for option in food_options}  # Initial stock\n",
    "        # Track daily statistics\n",
    "        self.daily_stats = {\n",
    "            'total_customers': 0,        # Total customers in restaurant\n",
    "            'avg_waiting_time': 0,       # Average customer waiting time\n",
    "            'active_waiters': 0,         # Number of available waiters\n",
    "            'profit': 0                  # Daily profit\n",
    "        }\n",
    "\n",
    "    def step(self):\n",
    "        # Update daily statistics\n",
    "        model = self.model\n",
    "        self.daily_stats['total_customers'] = len(model.customers)\n",
    "        self.daily_stats['active_waiters'] = len([w for w in model.waiters if not w.busy])\n",
    "        self.daily_stats['avg_waiting_time'] = np.mean([c.waiting_time for c in model.customers])\n",
    "\n",
    "    def order_food(self, food_type, amount):\n",
    "        # Replenish food inventory\n",
    "        self.food_inventory[food_type] += amount\n",
    "\n",
    "    def calculate_profit(self):\n",
    "        # Calculate daily profit considering various costs\n",
    "        total_sales = sum(w.tips for w in self.model.waiters)\n",
    "        staff_costs = len(self.model.waiters) * 10  # Fixed cost per waiter\n",
    "        food_costs = sum(100 - amount for amount in self.food_inventory.values())\n",
    "        self.daily_stats['profit'] = total_sales - (staff_costs + food_costs)"
   ],
   "id": "a945b51b92efba97",
   "outputs": [],
   "execution_count": 8
  },
  {
   "metadata": {
    "ExecuteTime": {
     "end_time": "2025-02-18T14:35:09.547416Z",
     "start_time": "2025-02-18T14:35:09.544494Z"
    }
   },
   "cell_type": "code",
   "source": [
    "import numpy as np\n",
    "\n",
    "class RestaurantModel(mesa.Model):\n",
    "    def __init__(self, n_customers, n_waiters, seed=None):\n",
    "        super().__init__(seed=seed)\n",
    "\n",
    "        # Create agents\n",
    "        self.customers = [CustomerAgent() for _ in range(n_customers)]\n",
    "        self.waiters = [WaiterAgent() for _ in range(n_waiters)]\n",
    "        self.manager = ManagerAgent()\n",
    "        self.agents = self.customers + self.waiters + [self.manager]\n",
    "\n",
    "        # Set up data collection for model metrics\n",
    "        self.datacollector = mesa.DataCollector(\n",
    "            model_reporters={\n",
    "                \"Customer_Count\": lambda m: len(m.customers),\n",
    "                \"Average_Wait_Time\": lambda m: np.mean([c.waiting_time for c in m.customers]),\n",
    "                \"Customer_Satisfaction\": lambda m: np.mean([c.satisfaction for c in m.customers]),\n",
    "                \"Profit\": lambda m: m.manager.daily_stats['profit']\n",
    "            }\n",
    "        )\n",
    "\n",
    "    def step(self):\n",
    "        # Collect data and execute agent steps in random order\n",
    "        self.datacollector.collect(self)\n",
    "        random.shuffle(self.agents)\n",
    "        for agent in self.agents:\n",
    "            agent.step()"
   ],
   "id": "30d85242f6b19316",
   "outputs": [],
   "execution_count": 9
  }
 ],
 "metadata": {
  "kernelspec": {
   "display_name": "Python (mesa_tutorial)",
   "language": "python",
   "name": "mesa_tutorial"
  },
  "language_info": {
   "codemirror_mode": {
    "name": "ipython",
    "version": 2
   },
   "file_extension": ".py",
   "mimetype": "text/x-python",
   "name": "python",
   "nbconvert_exporter": "python",
   "pygments_lexer": "ipython2",
   "version": "2.7.6"
  }
 },
 "nbformat": 4,
 "nbformat_minor": 5
}
